{
 "cells": [
  {
   "cell_type": "code",
   "execution_count": 1,
   "metadata": {},
   "outputs": [],
   "source": [
    "import pandas as pd\n",
    "import plotly.express as px\n",
    "import numpy as np\n",
    "import scipy.stats as stats\n",
    "import statsmodels.api as sm"
   ]
  },
  {
   "cell_type": "code",
   "execution_count": 2,
   "metadata": {},
   "outputs": [],
   "source": [
    "operations = {\n",
    "    \"orf\": \"wellpos_cc_var_mad_outlier_featselect_sphering_harmony\",\n",
    "    \"crispr\": \"wellpos_cc_var_mad_outlier_featselect_sphering_harmony_PCA_corrected\",\n",
    "}\n",
    "\n",
    "variable = \"involvement_in_disease\"\n",
    "col_name = f\"Metadata_{variable}\"\n",
    "col_name_in_metadata = \"Metadata_disease_involvement\"\n",
    "output_df = pd.DataFrame()\n",
    "cancer_output_df = pd.DataFrame()"
   ]
  },
  {
   "cell_type": "code",
   "execution_count": 3,
   "metadata": {},
   "outputs": [],
   "source": [
    "# Read phenotypic activity\n",
    "\n",
    "orf_phenotypic_activity_df = pd.read_csv(\n",
    "    f\"../03.retrieve-annotations/output/phenotypic-activity-{operations['orf']}.csv.gz\"\n",
    ")[[\"Metadata_JCP2022\", \"mean_average_precision\", \"below_corrected_p\"]]\n",
    "\n",
    "crispr_phenotypic_activity_df = pd.read_csv(\n",
    "    f\"../03.retrieve-annotations/output/phenotypic-activity-{operations['crispr']}.csv.gz\"\n",
    ")[[\"Metadata_JCP2022\", \"mean_average_precision\", \"below_corrected_p\"]]"
   ]
  },
  {
   "cell_type": "code",
   "execution_count": 4,
   "metadata": {},
   "outputs": [],
   "source": [
    "# Read metadata\n",
    "\n",
    "orf_metadata_df = (\n",
    "    pd.read_csv(\n",
    "        \"../00.download-and-process-annotations/output/orf_metadata.tsv.gz\", sep=\"\\t\"\n",
    "    )[[\"Metadata_JCP2022\", col_name_in_metadata]]\n",
    "    .assign(col=lambda x: np.where(x[col_name_in_metadata].notna(), True, False))\n",
    "    .assign(cancer=lambda x: np.where(x[col_name_in_metadata].str.contains(\"Cancer-related\"), True, False))\n",
    "    .rename(columns={\"col\": col_name})\n",
    ")\n",
    "\n",
    "crispr_metadata_df = (\n",
    "    pd.read_csv(\n",
    "        \"../00.download-and-process-annotations/output/crispr_metadata.tsv.gz\", sep=\"\\t\"\n",
    "    )[[\"Metadata_JCP2022\", col_name_in_metadata]]\n",
    "    .assign(col=lambda x: np.where(x[col_name_in_metadata].notna(), True, False))\n",
    "    .assign(cancer=lambda x: np.where(x[col_name_in_metadata].str.contains(\"Cancer-related\"), True, False))\n",
    "    .rename(columns={\"col\": col_name})\n",
    ")"
   ]
  },
  {
   "cell_type": "code",
   "execution_count": 5,
   "metadata": {},
   "outputs": [],
   "source": [
    "orf_df = orf_phenotypic_activity_df.merge(\n",
    "    orf_metadata_df, on=\"Metadata_JCP2022\", how=\"inner\"\n",
    ").dropna(subset=[col_name])\n",
    "crispr_df = crispr_phenotypic_activity_df.merge(\n",
    "    crispr_metadata_df, on=\"Metadata_JCP2022\", how=\"inner\"\n",
    ").dropna(subset=[col_name])"
   ]
  },
  {
   "attachments": {},
   "cell_type": "markdown",
   "metadata": {},
   "source": [
    "Fisher's exact test ORF"
   ]
  },
  {
   "cell_type": "code",
   "execution_count": 6,
   "metadata": {},
   "outputs": [
    {
     "name": "stdout",
     "output_type": "stream",
     "text": [
      "|                 |   involvement_in_disease_False |   involvement_in_disease_True |\n",
      "|:----------------|-------------------------------:|------------------------------:|\n",
      "| phenotype_False |                           4218 |                          1704 |\n",
      "| phenotype_True  |                           5274 |                          2543 |\n",
      "odds ratio: 1.1935571525474424, p-value: 2.3976418901797013e-06\n"
     ]
    }
   ],
   "source": [
    "table = sm.stats.Table.from_data(orf_df[[\"below_corrected_p\", col_name]])\n",
    "print(\n",
    "    pd.DataFrame(\n",
    "        table.table,\n",
    "        columns=[f\"{variable}_False\", f\"{variable}_True\"],\n",
    "        index=[\"phenotype_False\", \"phenotype_True\"],\n",
    "    ).to_markdown()\n",
    ")\n",
    "\n",
    "odds_ratio, pvalue = stats.fisher_exact(table.table)\n",
    "print(f\"odds ratio: {odds_ratio}, p-value: {pvalue}\")\n",
    "\n",
    "output_df = pd.concat(\n",
    "    [\n",
    "        output_df,\n",
    "        pd.DataFrame(\n",
    "            {\n",
    "                \"modality\": [\"ORF\"],\n",
    "                f\"{variable}_False_phenotype_False\": int(table.table[0, 0]),\n",
    "                f\"{variable}_False_phenotype_True\": int(table.table[0, 1]),\n",
    "                f\"{variable}_True_phenotype_False\": int(table.table[1, 0]),\n",
    "                f\"{variable}_True_phenotype_True\": int(table.table[1, 1]),\n",
    "                \"odds_ratio\": odds_ratio,\n",
    "                \"pvalue\": pvalue,\n",
    "            },\n",
    "            index=[0],\n",
    "        ),\n",
    "    ], \n",
    "    ignore_index=True\n",
    ")"
   ]
  },
  {
   "attachments": {},
   "cell_type": "markdown",
   "metadata": {},
   "source": [
    "Odd's ratio being greater than 1 indicates that involvement in disease and phenotypic activity are positively correlated. This means that genes that are more likely to be involved in disease are more likely to have a phenotype."
   ]
  },
  {
   "cell_type": "markdown",
   "metadata": {},
   "source": [
    "Fisher's exact test CRISPR"
   ]
  },
  {
   "cell_type": "code",
   "execution_count": 7,
   "metadata": {},
   "outputs": [
    {
     "name": "stdout",
     "output_type": "stream",
     "text": [
      "|                 |   involvement_in_disease_False |   involvement_in_disease_True |\n",
      "|:----------------|-------------------------------:|------------------------------:|\n",
      "| phenotype_False |                           1414 |                          1011 |\n",
      "| phenotype_True  |                           3089 |                          2457 |\n",
      "odds ratio: 1.1124628119497442, p-value: 0.03074647586672849\n"
     ]
    }
   ],
   "source": [
    "table = sm.stats.Table.from_data(crispr_df[[\"below_corrected_p\", col_name]])\n",
    "print(\n",
    "    pd.DataFrame(\n",
    "        table.table,\n",
    "        columns=[f\"{variable}_False\", f\"{variable}_True\"],\n",
    "        index=[\"phenotype_False\", \"phenotype_True\"],\n",
    "    ).to_markdown()\n",
    ")\n",
    "\n",
    "odds_ratio, pvalue = stats.fisher_exact(table.table)\n",
    "print(f\"odds ratio: {odds_ratio}, p-value: {pvalue}\")\n",
    "\n",
    "output_df = pd.concat(\n",
    "    [\n",
    "        output_df,\n",
    "        pd.DataFrame(\n",
    "            {\n",
    "                \"modality\": [\"CRISPR\"],\n",
    "                f\"{variable}_False_phenotype_False\": int(table.table[0, 0]),\n",
    "                f\"{variable}_False_phenotype_True\": int(table.table[0, 1]),\n",
    "                f\"{variable}_True_phenotype_False\": int(table.table[1, 0]),\n",
    "                f\"{variable}_True_phenotype_True\": int(table.table[1, 1]),\n",
    "                \"odds_ratio\": odds_ratio,\n",
    "                \"pvalue\": pvalue,\n",
    "            },\n",
    "            index=[0],\n",
    "        ),\n",
    "    ], \n",
    "    ignore_index=True\n",
    ")\n"
   ]
  },
  {
   "cell_type": "markdown",
   "metadata": {},
   "source": [
    "Odd's ratio being greater than 1 indicates that involvement in disease and phenotypic activity are positively correlated. This means that genes that are more likely to be involved in disease are more likely to have a phenotype."
   ]
  },
  {
   "cell_type": "code",
   "execution_count": 8,
   "metadata": {},
   "outputs": [],
   "source": [
    "output_df.to_csv(f\"output/{variable}.csv\", index=False)"
   ]
  },
  {
   "cell_type": "markdown",
   "metadata": {},
   "source": [
    "### Cancer-related genes"
   ]
  },
  {
   "cell_type": "code",
   "execution_count": 9,
   "metadata": {},
   "outputs": [
    {
     "name": "stdout",
     "output_type": "stream",
     "text": [
      "|                 |   cancer_False |   cancer_True |\n",
      "|:----------------|---------------:|--------------:|\n",
      "| phenotype_False |           1225 |          4697 |\n",
      "| phenotype_True  |           1724 |          6093 |\n",
      "odds ratio: 0.9217421447367056, p-value: 0.0536058209763923\n"
     ]
    }
   ],
   "source": [
    "table = sm.stats.Table.from_data(orf_df[[\"below_corrected_p\", \"cancer\"]])\n",
    "print(\n",
    "    pd.DataFrame(\n",
    "        table.table,\n",
    "        columns=[f\"cancer_False\", f\"cancer_True\"],\n",
    "        index=[\"phenotype_False\", \"phenotype_True\"],\n",
    "    ).to_markdown()\n",
    ")\n",
    "\n",
    "odds_ratio, pvalue = stats.fisher_exact(table.table)\n",
    "print(f\"odds ratio: {odds_ratio}, p-value: {pvalue}\")\n",
    "\n",
    "cancer_output_df = pd.concat(\n",
    "    [\n",
    "        cancer_output_df,\n",
    "        pd.DataFrame(\n",
    "            {\n",
    "                \"modality\": [\"ORF\"],\n",
    "                f\"cancer_False_phenotype_False\": int(table.table[0, 0]),\n",
    "                f\"cancer_False_phenotype_True\": int(table.table[0, 1]),\n",
    "                f\"cancer_True_phenotype_False\": int(table.table[1, 0]),\n",
    "                f\"cancer_True_phenotype_True\": int(table.table[1, 1]),\n",
    "                \"odds_ratio\": odds_ratio,\n",
    "                \"pvalue\": pvalue,\n",
    "            },\n",
    "            index=[0],\n",
    "        ),\n",
    "    ], \n",
    "    ignore_index=True\n",
    ")"
   ]
  },
  {
   "cell_type": "code",
   "execution_count": 10,
   "metadata": {},
   "outputs": [
    {
     "name": "stdout",
     "output_type": "stream",
     "text": [
      "|                 |   cancer_False |   cancer_True |\n",
      "|:----------------|---------------:|--------------:|\n",
      "| phenotype_False |            693 |          1732 |\n",
      "| phenotype_True  |           1650 |          3896 |\n",
      "odds ratio: 0.944757505773672, p-value: 0.297418536829328\n"
     ]
    }
   ],
   "source": [
    "table = sm.stats.Table.from_data(crispr_df[[\"below_corrected_p\", \"cancer\"]])\n",
    "print(\n",
    "    pd.DataFrame(\n",
    "        table.table,\n",
    "        columns=[f\"cancer_False\", f\"cancer_True\"],\n",
    "        index=[\"phenotype_False\", \"phenotype_True\"],\n",
    "    ).to_markdown()\n",
    ")\n",
    "\n",
    "odds_ratio, pvalue = stats.fisher_exact(table.table)\n",
    "print(f\"odds ratio: {odds_ratio}, p-value: {pvalue}\")\n",
    "\n",
    "cancer_output_df = pd.concat(\n",
    "    [\n",
    "        cancer_output_df,\n",
    "        pd.DataFrame(\n",
    "            {\n",
    "                \"modality\": [\"CRISPR\"],\n",
    "                f\"cancer_False_phenotype_False\": int(table.table[0, 0]),\n",
    "                f\"cancer_False_phenotype_True\": int(table.table[0, 1]),\n",
    "                f\"cancer_True_phenotype_False\": int(table.table[1, 0]),\n",
    "                f\"cancer_True_phenotype_True\": int(table.table[1, 1]),\n",
    "                \"odds_ratio\": odds_ratio,\n",
    "                \"pvalue\": pvalue,\n",
    "            },\n",
    "            index=[0],\n",
    "        ),\n",
    "    ], \n",
    "    ignore_index=True\n",
    ")\n"
   ]
  },
  {
   "cell_type": "code",
   "execution_count": 11,
   "metadata": {},
   "outputs": [],
   "source": [
    "cancer_output_df.to_csv(f\"output/cancer.csv\", index=False)"
   ]
  }
 ],
 "metadata": {
  "kernelspec": {
   "display_name": "essentiality",
   "language": "python",
   "name": "python3"
  },
  "language_info": {
   "codemirror_mode": {
    "name": "ipython",
    "version": 3
   },
   "file_extension": ".py",
   "mimetype": "text/x-python",
   "name": "python",
   "nbconvert_exporter": "python",
   "pygments_lexer": "ipython3",
   "version": "3.10.6"
  },
  "orig_nbformat": 4
 },
 "nbformat": 4,
 "nbformat_minor": 2
}
