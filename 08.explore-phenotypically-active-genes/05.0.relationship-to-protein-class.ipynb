{
 "cells": [
  {
   "cell_type": "code",
   "execution_count": 1,
   "metadata": {},
   "outputs": [],
   "source": [
    "import pandas as pd\n",
    "import plotly.express as px\n",
    "import numpy as np\n",
    "import scipy.stats as stats\n",
    "import statsmodels.api as sm"
   ]
  },
  {
   "cell_type": "code",
   "execution_count": 2,
   "metadata": {},
   "outputs": [],
   "source": [
    "operations = {\n",
    "    \"orf\": \"wellpos_cc_var_mad_outlier_featselect_sphering_harmony\",\n",
    "    \"crispr\": \"wellpos_cc_var_mad_outlier_featselect_sphering_harmony_PCA_corrected\",\n",
    "}\n",
    "\n",
    "protein_class_list = [\n",
    "    \"Enzymes\",\n",
    "    \"Transporters\",\n",
    "    \"G-protein coupled receptors\",\n",
    "    \"Transcription factors\",\n",
    "    \"Immunoglobulin genes\",\n",
    "    \"T-cell receptor genes\",\n",
    "]\n",
    "\n",
    "variable = \"protein_class\"\n",
    "col_name = f\"Metadata_{variable}\"\n",
    "col_name_in_metadata = \"Metadata_protein_class\"\n",
    "output_df = pd.DataFrame()"
   ]
  },
  {
   "cell_type": "code",
   "execution_count": 3,
   "metadata": {},
   "outputs": [],
   "source": [
    "# Read phenotypic activity\n",
    "\n",
    "orf_phenotypic_activity_df = pd.read_csv(\n",
    "    f\"../03.retrieve-annotations/output/phenotypic-activity-{operations['orf']}.csv.gz\"\n",
    ")[[\"Metadata_JCP2022\", \"mean_average_precision\", \"below_corrected_p\"]]\n",
    "\n",
    "crispr_phenotypic_activity_df = pd.read_csv(\n",
    "    f\"../03.retrieve-annotations/output/phenotypic-activity-{operations['crispr']}.csv.gz\"\n",
    ")[[\"Metadata_JCP2022\", \"mean_average_precision\", \"below_corrected_p\"]]"
   ]
  },
  {
   "cell_type": "code",
   "execution_count": 4,
   "metadata": {},
   "outputs": [],
   "source": [
    "# Read metadata\n",
    "\n",
    "orf_metadata_df = (\n",
    "    pd.read_csv(\n",
    "        \"../00.download-and-process-annotations/output/orf_metadata.tsv.gz\", sep=\"\\t\"\n",
    "    )[[\"Metadata_JCP2022\", col_name_in_metadata]]\n",
    "    .assign(col=lambda x: x[col_name_in_metadata].str.split(\"|\"))\n",
    "    .explode(\"col\")\n",
    "    .query(\"col in @protein_class_list\")\n",
    "    .drop(columns=[col_name_in_metadata])\n",
    "    .rename(columns={\"col\": col_name})\n",
    "    .drop_duplicates(subset=\"Metadata_JCP2022\", keep=\"first\")\n",
    ")\n",
    "\n",
    "crispr_metadata_df = (\n",
    "    pd.read_csv(\n",
    "        \"../00.download-and-process-annotations/output/crispr_metadata.tsv.gz\", sep=\"\\t\"\n",
    "    )[[\"Metadata_JCP2022\", col_name_in_metadata]]\n",
    "    .assign(col=lambda x: x[col_name_in_metadata].str.split(\"|\"))\n",
    "    .explode(\"col\")\n",
    "    .query(\"col in @protein_class_list\")\n",
    "    .drop(columns=[col_name_in_metadata])\n",
    "    .rename(columns={\"col\": col_name})\n",
    "    .drop_duplicates(subset=\"Metadata_JCP2022\", keep=\"first\")\n",
    ")"
   ]
  },
  {
   "cell_type": "code",
   "execution_count": 5,
   "metadata": {},
   "outputs": [],
   "source": [
    "orf_df = orf_phenotypic_activity_df.merge(\n",
    "    orf_metadata_df, on=\"Metadata_JCP2022\", how=\"inner\"\n",
    ").dropna(subset=[col_name])\n",
    "crispr_df = crispr_phenotypic_activity_df.merge(\n",
    "    crispr_metadata_df, on=\"Metadata_JCP2022\", how=\"inner\"\n",
    ").dropna(subset=[col_name])"
   ]
  },
  {
   "cell_type": "code",
   "execution_count": 6,
   "metadata": {},
   "outputs": [],
   "source": [
    "# Create binary column for each protein class\n",
    "for protein_class in protein_class_list:\n",
    "    orf_df = orf_df.assign(\n",
    "        **{\n",
    "            protein_class: lambda x: x.apply(\n",
    "                lambda y: True if y[col_name] == protein_class else False, axis=1\n",
    "            )\n",
    "        }\n",
    "    )\n",
    "\n",
    "    crispr_df = crispr_df.assign(\n",
    "        **{\n",
    "            protein_class: lambda x: x.apply(\n",
    "                lambda y: True if y[col_name] == protein_class else False, axis=1\n",
    "            )\n",
    "        }\n",
    "    )"
   ]
  },
  {
   "attachments": {},
   "cell_type": "markdown",
   "metadata": {},
   "source": [
    "Fisher's exact test ORF"
   ]
  },
  {
   "cell_type": "code",
   "execution_count": 7,
   "metadata": {},
   "outputs": [
    {
     "name": "stdout",
     "output_type": "stream",
     "text": [
      "protein class: Enzymes, odds ratio: 0.9649187017857904, p-value: 0.5267826441272055\n",
      "protein class: Transporters, odds ratio: 1.092797501190818, p-value: 0.19525544446231224\n",
      "protein class: G-protein coupled receptors, odds ratio: 1.1039905423663385, p-value: 0.3982211082508736\n",
      "protein class: Transcription factors, odds ratio: 0.944873617882293, p-value: 0.47144656568073384\n",
      "protein class: Immunoglobulin genes, odds ratio: 0.7517110645515315, p-value: 0.47047757721439554\n",
      "protein class: T-cell receptor genes, odds ratio: 0.09464232520532789, p-value: 0.008368021461326286\n"
     ]
    },
    {
     "data": {
      "text/html": [
       "<div>\n",
       "<style scoped>\n",
       "    .dataframe tbody tr th:only-of-type {\n",
       "        vertical-align: middle;\n",
       "    }\n",
       "\n",
       "    .dataframe tbody tr th {\n",
       "        vertical-align: top;\n",
       "    }\n",
       "\n",
       "    .dataframe thead th {\n",
       "        text-align: right;\n",
       "    }\n",
       "</style>\n",
       "<table border=\"1\" class=\"dataframe\">\n",
       "  <thead>\n",
       "    <tr style=\"text-align: right;\">\n",
       "      <th></th>\n",
       "      <th>protein_class</th>\n",
       "      <th>modality</th>\n",
       "      <th>protein_class_False_phenotype_False</th>\n",
       "      <th>protein_class_False_phenotype_True</th>\n",
       "      <th>protein_class_True_phenotype_False</th>\n",
       "      <th>protein_class_True_phenotype_True</th>\n",
       "      <th>odds_ratio</th>\n",
       "      <th>pvalue</th>\n",
       "    </tr>\n",
       "  </thead>\n",
       "  <tbody>\n",
       "    <tr>\n",
       "      <th>5</th>\n",
       "      <td>T-cell receptor genes</td>\n",
       "      <td>ORF</td>\n",
       "      <td>2224</td>\n",
       "      <td>7</td>\n",
       "      <td>3357</td>\n",
       "      <td>1</td>\n",
       "      <td>0.094642</td>\n",
       "      <td>0.008368</td>\n",
       "    </tr>\n",
       "  </tbody>\n",
       "</table>\n",
       "</div>"
      ],
      "text/plain": [
       "           protein_class modality  protein_class_False_phenotype_False  \\\n",
       "5  T-cell receptor genes      ORF                                 2224   \n",
       "\n",
       "   protein_class_False_phenotype_True  protein_class_True_phenotype_False  \\\n",
       "5                                   7                                3357   \n",
       "\n",
       "   protein_class_True_phenotype_True  odds_ratio    pvalue  \n",
       "5                                  1    0.094642  0.008368  "
      ]
     },
     "execution_count": 7,
     "metadata": {},
     "output_type": "execute_result"
    }
   ],
   "source": [
    "for protein_class in protein_class_list:\n",
    "    table = sm.stats.Table.from_data(orf_df[[\"below_corrected_p\", protein_class]])\n",
    "\n",
    "    odds_ratio, pvalue = stats.fisher_exact(table.table)\n",
    "    print(f\"protein class: {protein_class}, odds ratio: {odds_ratio}, p-value: {pvalue}\")\n",
    "\n",
    "    output_df = pd.concat(\n",
    "        [\n",
    "            output_df,\n",
    "            pd.DataFrame(\n",
    "                {\n",
    "                    \"protein_class\": protein_class,\n",
    "                    \"modality\": [\"ORF\"],\n",
    "                    f\"{variable}_False_phenotype_False\": int(table.table[0, 0]),\n",
    "                    f\"{variable}_False_phenotype_True\": int(table.table[0, 1]),\n",
    "                    f\"{variable}_True_phenotype_False\": int(table.table[1, 0]),\n",
    "                    f\"{variable}_True_phenotype_True\": int(table.table[1, 1]),\n",
    "                    \"odds_ratio\": odds_ratio,\n",
    "                    \"pvalue\": pvalue,\n",
    "                },\n",
    "                index=[0],\n",
    "            ),\n",
    "        ], \n",
    "        ignore_index=True\n",
    "    )\n",
    "\n",
    "output_df.query(\"modality == 'ORF' and pvalue < 0.05\")"
   ]
  },
  {
   "cell_type": "markdown",
   "metadata": {},
   "source": [
    "Fisher's exact test CRISPR"
   ]
  },
  {
   "cell_type": "code",
   "execution_count": 8,
   "metadata": {},
   "outputs": [
    {
     "name": "stdout",
     "output_type": "stream",
     "text": [
      "protein class: Enzymes, odds ratio: 1.0680621118012423, p-value: 0.2779923565921355\n",
      "protein class: Transporters, odds ratio: 0.8815086925444648, p-value: 0.1268978536821487\n",
      "protein class: G-protein coupled receptors, odds ratio: 0.8552735204692877, p-value: 0.18756251397232349\n",
      "protein class: Transcription factors, odds ratio: 1.0716392902024046, p-value: 0.38160977847929467\n"
     ]
    },
    {
     "data": {
      "text/html": [
       "<div>\n",
       "<style scoped>\n",
       "    .dataframe tbody tr th:only-of-type {\n",
       "        vertical-align: middle;\n",
       "    }\n",
       "\n",
       "    .dataframe tbody tr th {\n",
       "        vertical-align: top;\n",
       "    }\n",
       "\n",
       "    .dataframe thead th {\n",
       "        text-align: right;\n",
       "    }\n",
       "</style>\n",
       "<table border=\"1\" class=\"dataframe\">\n",
       "  <thead>\n",
       "    <tr style=\"text-align: right;\">\n",
       "      <th></th>\n",
       "      <th>protein_class</th>\n",
       "      <th>modality</th>\n",
       "      <th>protein_class_False_phenotype_False</th>\n",
       "      <th>protein_class_False_phenotype_True</th>\n",
       "      <th>protein_class_True_phenotype_False</th>\n",
       "      <th>protein_class_True_phenotype_True</th>\n",
       "      <th>odds_ratio</th>\n",
       "      <th>pvalue</th>\n",
       "    </tr>\n",
       "  </thead>\n",
       "  <tbody>\n",
       "  </tbody>\n",
       "</table>\n",
       "</div>"
      ],
      "text/plain": [
       "Empty DataFrame\n",
       "Columns: [protein_class, modality, protein_class_False_phenotype_False, protein_class_False_phenotype_True, protein_class_True_phenotype_False, protein_class_True_phenotype_True, odds_ratio, pvalue]\n",
       "Index: []"
      ]
     },
     "execution_count": 8,
     "metadata": {},
     "output_type": "execute_result"
    }
   ],
   "source": [
    "for protein_class in protein_class_list:\n",
    "    table = sm.stats.Table.from_data(crispr_df[[\"below_corrected_p\", protein_class]])\n",
    "    if table.table.shape != (2, 2):\n",
    "        continue\n",
    "\n",
    "    odds_ratio, pvalue = stats.fisher_exact(table.table)\n",
    "    print(f\"protein class: {protein_class}, odds ratio: {odds_ratio}, p-value: {pvalue}\")\n",
    "\n",
    "    output_df = pd.concat(\n",
    "        [\n",
    "            output_df,\n",
    "            pd.DataFrame(\n",
    "                {\n",
    "                    \"protein_class\": protein_class,\n",
    "                    \"modality\": [\"CRISPR\"],\n",
    "                    f\"{variable}_False_phenotype_False\": int(table.table[0, 0]),\n",
    "                    f\"{variable}_False_phenotype_True\": int(table.table[0, 1]),\n",
    "                    f\"{variable}_True_phenotype_False\": int(table.table[1, 0]),\n",
    "                    f\"{variable}_True_phenotype_True\": int(table.table[1, 1]),\n",
    "                    \"odds_ratio\": odds_ratio,\n",
    "                    \"pvalue\": pvalue,\n",
    "                },\n",
    "                index=[0],\n",
    "            ),\n",
    "        ], \n",
    "        ignore_index=True\n",
    "    )\n",
    "\n",
    "output_df.query(\"modality == 'CRISPR' and pvalue < 0.05\")"
   ]
  },
  {
   "cell_type": "code",
   "execution_count": 9,
   "metadata": {},
   "outputs": [],
   "source": [
    "output_df.to_csv(f\"output/{variable}.csv\", index=False)"
   ]
  }
 ],
 "metadata": {
  "kernelspec": {
   "display_name": "essentiality",
   "language": "python",
   "name": "python3"
  },
  "language_info": {
   "codemirror_mode": {
    "name": "ipython",
    "version": 3
   },
   "file_extension": ".py",
   "mimetype": "text/x-python",
   "name": "python",
   "nbconvert_exporter": "python",
   "pygments_lexer": "ipython3",
   "version": "3.10.6"
  },
  "orig_nbformat": 4
 },
 "nbformat": 4,
 "nbformat_minor": 2
}
