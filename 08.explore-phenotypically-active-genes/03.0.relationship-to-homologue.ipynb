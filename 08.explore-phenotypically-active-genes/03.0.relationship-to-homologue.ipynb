{
 "cells": [
  {
   "cell_type": "code",
   "execution_count": 1,
   "metadata": {},
   "outputs": [],
   "source": [
    "import pandas as pd\n",
    "import plotly.express as px\n",
    "import numpy as np\n",
    "import scipy.stats as stats\n",
    "import statsmodels.api as sm"
   ]
  },
  {
   "cell_type": "code",
   "execution_count": 2,
   "metadata": {},
   "outputs": [],
   "source": [
    "operations = {\n",
    "    \"orf\": \"wellpos_cc_var_mad_outlier_featselect_sphering_harmony\",\n",
    "    \"crispr\": \"wellpos_var_mad_int_featselect_harmony_PCA_corrected\"\n",
    "}\n",
    "\n",
    "variable = \"homologue_existence\"\n",
    "col_name = f\"Metadata_{variable}\"\n",
    "col_name_in_metadata = \"Metadata_homologue\"\n",
    "output_df = pd.DataFrame()"
   ]
  },
  {
   "cell_type": "code",
   "execution_count": 3,
   "metadata": {},
   "outputs": [],
   "source": [
    "# Read phenotypic activity\n",
    "\n",
    "orf_phenotypic_activity_df = pd.read_csv(\n",
    "    f\"../03.retrieve-annotations/output/phenotypic-activity-{operations['orf']}.csv.gz\"\n",
    ")[[\"Metadata_JCP2022\", \"mean_average_precision\", \"below_corrected_p\"]]\n",
    "\n",
    "crispr_phenotypic_activity_df = pd.read_csv(\n",
    "    f\"../03.retrieve-annotations/output/phenotypic-activity-{operations['crispr']}.csv.gz\"\n",
    ")[[\"Metadata_JCP2022\", \"mean_average_precision\", \"below_corrected_p\"]]"
   ]
  },
  {
   "cell_type": "code",
   "execution_count": 4,
   "metadata": {},
   "outputs": [],
   "source": [
    "# Read metadata\n",
    "\n",
    "orf_metadata_df = (\n",
    "    pd.read_csv(\n",
    "        \"../00.download-and-process-annotations/output/orf_metadata.tsv.gz\", sep=\"\\t\"\n",
    "    )[[\"Metadata_JCP2022\", col_name_in_metadata]]\n",
    "    .assign(col=lambda x: x[col_name_in_metadata])\n",
    "    .rename(columns={\"col\": col_name})\n",
    ")\n",
    "\n",
    "crispr_metadata_df = (\n",
    "    pd.read_csv(\n",
    "        \"../00.download-and-process-annotations/output/crispr_metadata.tsv.gz\", sep=\"\\t\"\n",
    "    )[[\"Metadata_JCP2022\", col_name_in_metadata]]\n",
    "    .assign(col=lambda x: x[col_name_in_metadata])\n",
    "    .rename(columns={\"col\": col_name})\n",
    ")"
   ]
  },
  {
   "cell_type": "code",
   "execution_count": 5,
   "metadata": {},
   "outputs": [],
   "source": [
    "orf_df = orf_phenotypic_activity_df.merge(\n",
    "    orf_metadata_df, on=\"Metadata_JCP2022\", how=\"inner\"\n",
    ").dropna(subset=[col_name])\n",
    "crispr_df = crispr_phenotypic_activity_df.merge(\n",
    "    crispr_metadata_df, on=\"Metadata_JCP2022\", how=\"inner\"\n",
    ").dropna(subset=[col_name])"
   ]
  },
  {
   "attachments": {},
   "cell_type": "markdown",
   "metadata": {},
   "source": [
    "Fisher's exact test ORF"
   ]
  },
  {
   "cell_type": "code",
   "execution_count": 6,
   "metadata": {},
   "outputs": [
    {
     "name": "stdout",
     "output_type": "stream",
     "text": [
      "|                 |   homologue_existence_False |   homologue_existence_True |\n",
      "|:----------------|----------------------------:|---------------------------:|\n",
      "| phenotype_False |                         150 |                       5036 |\n",
      "| phenotype_True  |                         200 |                       6896 |\n",
      "odds ratio: 1.0270055599682288, p-value: 0.8262674430677552\n"
     ]
    }
   ],
   "source": [
    "table = sm.stats.Table.from_data(orf_df[[\"below_corrected_p\", col_name]])\n",
    "print(\n",
    "    pd.DataFrame(\n",
    "        table.table,\n",
    "        columns=[f\"{variable}_False\", f\"{variable}_True\"],\n",
    "        index=[\"phenotype_False\", \"phenotype_True\"],\n",
    "    ).to_markdown()\n",
    ")\n",
    "\n",
    "odds_ratio, pvalue = stats.fisher_exact(table.table)\n",
    "print(f\"odds ratio: {odds_ratio}, p-value: {pvalue}\")\n",
    "\n",
    "output_df = pd.concat(\n",
    "    [\n",
    "        output_df,\n",
    "        pd.DataFrame(\n",
    "            {\n",
    "                \"modality\": [\"ORF\"],\n",
    "                f\"{variable}_False_phenotype_False\": int(table.table[0, 0]),\n",
    "                f\"{variable}_False_phenotype_True\": int(table.table[0, 1]),\n",
    "                f\"{variable}_True_phenotype_False\": int(table.table[1, 0]),\n",
    "                f\"{variable}_True_phenotype_True\": int(table.table[1, 1]),\n",
    "                \"odds_ratio\": odds_ratio,\n",
    "                \"pvalue\": pvalue,\n",
    "            },\n",
    "            index=[0],\n",
    "        ),\n",
    "    ], \n",
    "    ignore_index=True\n",
    ")"
   ]
  },
  {
   "attachments": {},
   "cell_type": "markdown",
   "metadata": {},
   "source": [
    "There is no correlation between homologue existence and phenotypic activity"
   ]
  },
  {
   "cell_type": "markdown",
   "metadata": {},
   "source": [
    "Fisher's exact test CRISPR"
   ]
  },
  {
   "cell_type": "code",
   "execution_count": 7,
   "metadata": {},
   "outputs": [
    {
     "name": "stdout",
     "output_type": "stream",
     "text": [
      "|                 |   homologue_existence_False |   homologue_existence_True |\n",
      "|:----------------|----------------------------:|---------------------------:|\n",
      "| phenotype_False |                          26 |                       2206 |\n",
      "| phenotype_True  |                          43 |                       5426 |\n",
      "odds ratio: 1.487233549094436, p-value: 0.11134113749119579\n"
     ]
    }
   ],
   "source": [
    "table = sm.stats.Table.from_data(crispr_df[[\"below_corrected_p\", col_name]])\n",
    "print(\n",
    "    pd.DataFrame(\n",
    "        table.table,\n",
    "        columns=[f\"{variable}_False\", f\"{variable}_True\"],\n",
    "        index=[\"phenotype_False\", \"phenotype_True\"],\n",
    "    ).to_markdown()\n",
    ")\n",
    "\n",
    "odds_ratio, pvalue = stats.fisher_exact(table.table)\n",
    "print(f\"odds ratio: {odds_ratio}, p-value: {pvalue}\")\n",
    "\n",
    "output_df = pd.concat(\n",
    "    [\n",
    "        output_df,\n",
    "        pd.DataFrame(\n",
    "            {\n",
    "                \"modality\": [\"CRISPR\"],\n",
    "                f\"{variable}_False_phenotype_False\": int(table.table[0, 0]),\n",
    "                f\"{variable}_False_phenotype_True\": int(table.table[0, 1]),\n",
    "                f\"{variable}_True_phenotype_False\": int(table.table[1, 0]),\n",
    "                f\"{variable}_True_phenotype_True\": int(table.table[1, 1]),\n",
    "                \"odds_ratio\": odds_ratio,\n",
    "                \"pvalue\": pvalue,\n",
    "            },\n",
    "            index=[0],\n",
    "        ),\n",
    "    ], \n",
    "    ignore_index=True\n",
    ")\n"
   ]
  },
  {
   "cell_type": "markdown",
   "metadata": {},
   "source": [
    "There is no correlation between homologue existence and phenotypic activity."
   ]
  },
  {
   "cell_type": "code",
   "execution_count": 8,
   "metadata": {},
   "outputs": [],
   "source": [
    "output_df.to_csv(f\"output/{variable}.csv\", index=False)"
   ]
  }
 ],
 "metadata": {
  "kernelspec": {
   "display_name": "essentiality",
   "language": "python",
   "name": "python3"
  },
  "language_info": {
   "codemirror_mode": {
    "name": "ipython",
    "version": 3
   },
   "file_extension": ".py",
   "mimetype": "text/x-python",
   "name": "python",
   "nbconvert_exporter": "python",
   "pygments_lexer": "ipython3",
   "version": "3.10.6"
  },
  "orig_nbformat": 4
 },
 "nbformat": 4,
 "nbformat_minor": 2
}
