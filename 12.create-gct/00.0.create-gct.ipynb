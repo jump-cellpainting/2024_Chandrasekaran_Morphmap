{
 "cells": [
  {
   "cell_type": "code",
   "execution_count": 1,
   "metadata": {},
   "outputs": [],
   "source": [
    "import pandas as pd\n",
    "from pycytominer.cyto_utils import write_gct\n",
    "import utils"
   ]
  },
  {
   "cell_type": "code",
   "execution_count": 2,
   "metadata": {},
   "outputs": [],
   "source": [
    "pipelines = {\n",
    "    \"ORF\": \"wellpos_cc_var_mad_outlier_featselect_sphering_harmony\",\n",
    "    \"CRISPR\": \"wellpos_cc_var_mad_outlier_featselect_sphering_harmony_PCA_corrected\",\n",
    "}"
   ]
  },
  {
   "cell_type": "markdown",
   "metadata": {},
   "source": [
    "### ORF profiles"
   ]
  },
  {
   "cell_type": "code",
   "execution_count": 3,
   "metadata": {},
   "outputs": [
    {
     "data": {
      "text/plain": [
       "(81660, 726)"
      ]
     },
     "execution_count": 3,
     "metadata": {},
     "output_type": "execute_result"
    }
   ],
   "source": [
    "orf_profiles_df = pd.read_parquet(f'../profiles/profiles_{pipelines[\"ORF\"]}.parquet')\n",
    "orf_profiles_df.shape"
   ]
  },
  {
   "cell_type": "code",
   "execution_count": 4,
   "metadata": {},
   "outputs": [
    {
     "data": {
      "text/plain": [
       "(7817, 4)"
      ]
     },
     "execution_count": 4,
     "metadata": {},
     "output_type": "execute_result"
    }
   ],
   "source": [
    "orf_phenotypic_activity_df = (\n",
    "    pd.read_csv(\n",
    "        f'../03.retrieve-annotations/output/phenotypic-activity-{pipelines[\"ORF\"]}.csv.gz',\n",
    "        usecols=[\n",
    "            \"Metadata_JCP2022\",\n",
    "            \"mean_average_precision\",\n",
    "            \"p_value\",\n",
    "            \"corrected_p_value\",\n",
    "            \"below_corrected_p\",\n",
    "        ],\n",
    "    )\n",
    "    .rename(\n",
    "        columns={\n",
    "            \"mean_average_precision\": \"Metadata_mean_average_precision\",\n",
    "            \"p_value\": \"Metadata_p_value\",\n",
    "            \"corrected_p_value\": \"Metadata_corrected_p_value\",\n",
    "        }\n",
    "    )\n",
    "    .query(\"below_corrected_p == True\")\n",
    "    .drop(columns=[\"below_corrected_p\"])\n",
    ")\n",
    "orf_phenotypic_activity_df.shape"
   ]
  },
  {
   "cell_type": "code",
   "execution_count": 5,
   "metadata": {},
   "outputs": [
    {
     "data": {
      "text/plain": [
       "(15142, 26)"
      ]
     },
     "execution_count": 5,
     "metadata": {},
     "output_type": "execute_result"
    }
   ],
   "source": [
    "orf_metadata_df = pd.read_csv(\n",
    "    \"../00.download-and-process-annotations/output/orf_metadata.tsv.gz\", sep=\"\\t\"\n",
    ")\n",
    "orf_metadata_df.shape"
   ]
  },
  {
   "cell_type": "code",
   "execution_count": 6,
   "metadata": {},
   "outputs": [
    {
     "data": {
      "text/plain": [
       "(39350, 754)"
      ]
     },
     "execution_count": 6,
     "metadata": {},
     "output_type": "execute_result"
    }
   ],
   "source": [
    "orf_df  = (\n",
    "    orf_profiles_df.merge(\n",
    "        orf_metadata_df,\n",
    "        how=\"left\",\n",
    "        on=\"Metadata_JCP2022\",\n",
    "    ).merge(\n",
    "        orf_phenotypic_activity_df,\n",
    "        how=\"inner\",\n",
    "        on=\"Metadata_JCP2022\",\n",
    "    )\n",
    ")\n",
    "orf_df.shape"
   ]
  },
  {
   "cell_type": "code",
   "execution_count": 7,
   "metadata": {},
   "outputs": [
    {
     "data": {
      "text/plain": [
       "(7031, 754)"
      ]
     },
     "execution_count": 7,
     "metadata": {},
     "output_type": "execute_result"
    }
   ],
   "source": [
    "# Consensus profile\n",
    "\n",
    "orf_df = utils.consensus(orf_df, group_by_feature=\"Metadata_Symbol\")\n",
    "orf_df.shape"
   ]
  },
  {
   "cell_type": "code",
   "execution_count": 8,
   "metadata": {},
   "outputs": [],
   "source": [
    "write_gct(\n",
    "    orf_df,\n",
    "    f'../profiles/orf_phenotypically_active_{pipelines[\"ORF\"]}.gct',\n",
    "    features=orf_df.columns[orf_df.columns.str.startswith(\"X_\")].to_list(),\n",
    "    meta_features=orf_df.columns[~orf_df.columns.str.startswith(\"X_\")].to_list(),\n",
    ")"
   ]
  },
  {
   "cell_type": "markdown",
   "metadata": {},
   "source": [
    "### CRISPR profiles"
   ]
  },
  {
   "cell_type": "code",
   "execution_count": 9,
   "metadata": {},
   "outputs": [
    {
     "data": {
      "text/plain": [
       "(51185, 263)"
      ]
     },
     "execution_count": 9,
     "metadata": {},
     "output_type": "execute_result"
    }
   ],
   "source": [
    "crispr_profiles_df = pd.read_parquet(f'../profiles/profiles_{pipelines[\"CRISPR\"]}.parquet')\n",
    "crispr_profiles_df.shape"
   ]
  },
  {
   "cell_type": "code",
   "execution_count": 10,
   "metadata": {},
   "outputs": [
    {
     "data": {
      "text/plain": [
       "(5546, 4)"
      ]
     },
     "execution_count": 10,
     "metadata": {},
     "output_type": "execute_result"
    }
   ],
   "source": [
    "crispr_phenotypic_activity_df = (\n",
    "    pd.read_csv(\n",
    "        f'../03.retrieve-annotations/output/phenotypic-activity-{pipelines[\"CRISPR\"]}.csv.gz',\n",
    "        usecols=[\n",
    "            \"Metadata_JCP2022\",\n",
    "            \"mean_average_precision\",\n",
    "            \"p_value\",\n",
    "            \"corrected_p_value\",\n",
    "            \"below_corrected_p\",\n",
    "        ],\n",
    "    )\n",
    "    .rename(\n",
    "        columns={\n",
    "            \"mean_average_precision\": \"Metadata_mean_average_precision\",\n",
    "            \"p_value\": \"Metadata_p_value\",\n",
    "            \"corrected_p_value\": \"Metadata_corrected_p_value\",\n",
    "        }\n",
    "    )\n",
    "    .query(\"below_corrected_p == True\")\n",
    "    .drop(columns=[\"below_corrected_p\"])\n",
    ")\n",
    "crispr_phenotypic_activity_df.shape"
   ]
  },
  {
   "cell_type": "code",
   "execution_count": 11,
   "metadata": {},
   "outputs": [
    {
     "data": {
      "text/plain": [
       "(7977, 17)"
      ]
     },
     "execution_count": 11,
     "metadata": {},
     "output_type": "execute_result"
    }
   ],
   "source": [
    "crispr_metadata_df = pd.read_csv(\n",
    "    \"../00.download-and-process-annotations/output/crispr_metadata.tsv.gz\", sep=\"\\t\"\n",
    ")\n",
    "crispr_metadata_df.shape"
   ]
  },
  {
   "cell_type": "code",
   "execution_count": 12,
   "metadata": {},
   "outputs": [
    {
     "data": {
      "text/plain": [
       "(29909, 282)"
      ]
     },
     "execution_count": 12,
     "metadata": {},
     "output_type": "execute_result"
    }
   ],
   "source": [
    "crispr_df  = (\n",
    "    crispr_profiles_df.merge(\n",
    "        crispr_metadata_df,\n",
    "        how=\"left\",\n",
    "        on=\"Metadata_JCP2022\",\n",
    "    ).merge(\n",
    "        crispr_phenotypic_activity_df,\n",
    "        how=\"inner\",\n",
    "        on=\"Metadata_JCP2022\",\n",
    "    )\n",
    ")\n",
    "crispr_df.shape"
   ]
  },
  {
   "cell_type": "code",
   "execution_count": 13,
   "metadata": {},
   "outputs": [
    {
     "data": {
      "text/plain": [
       "(5546, 282)"
      ]
     },
     "execution_count": 13,
     "metadata": {},
     "output_type": "execute_result"
    }
   ],
   "source": [
    "# Consensus profile\n",
    "\n",
    "crispr_df = utils.consensus(crispr_df, group_by_feature=\"Metadata_Symbol\")\n",
    "crispr_df.shape"
   ]
  },
  {
   "cell_type": "code",
   "execution_count": 14,
   "metadata": {},
   "outputs": [],
   "source": [
    "write_gct(\n",
    "    crispr_df,\n",
    "    f'../profiles/crispr_phenotypically_active_{pipelines[\"CRISPR\"]}.gct',\n",
    "    features=crispr_df.columns[crispr_df.columns.str.startswith(\"X_\")].to_list(),\n",
    "    meta_features=crispr_df.columns[~crispr_df.columns.str.startswith(\"X_\")].to_list(),\n",
    ")"
   ]
  }
 ],
 "metadata": {
  "kernelspec": {
   "display_name": "gct",
   "language": "python",
   "name": "python3"
  },
  "language_info": {
   "codemirror_mode": {
    "name": "ipython",
    "version": 3
   },
   "file_extension": ".py",
   "mimetype": "text/x-python",
   "name": "python",
   "nbconvert_exporter": "python",
   "pygments_lexer": "ipython3",
   "version": "3.10.6"
  }
 },
 "nbformat": 4,
 "nbformat_minor": 2
}
