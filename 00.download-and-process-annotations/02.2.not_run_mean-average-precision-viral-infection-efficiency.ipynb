{
 "cells": [
  {
   "cell_type": "code",
   "execution_count": null,
   "metadata": {},
   "outputs": [],
   "source": [
    "import pandas as pd\n",
    "import plotly.express as px\n",
    "import numpy as np"
   ]
  },
  {
   "attachments": {},
   "cell_type": "markdown",
   "metadata": {},
   "source": [
    "Plot scatter plot of mean average precision vs. viral infection efficiency\n",
    "\n",
    "Additionally, cell counts are also plotted against viral infection efficiency and mean average precision."
   ]
  },
  {
   "attachments": {},
   "cell_type": "markdown",
   "metadata": {},
   "source": [
    "### Mean Average Precision vs. Viral Infection Efficiency"
   ]
  },
  {
   "cell_type": "code",
   "execution_count": null,
   "metadata": {},
   "outputs": [],
   "source": [
    "# Read infection efficiency data\n",
    "\n",
    "inf_eff_df_all = (\n",
    "    pd.read_csv(\n",
    "        \"output/gpp-infection-efficiencies.csv.gz\",\n",
    "        usecols=[\n",
    "            \"Plate_name\",\n",
    "            \"Batch_name\",\n",
    "            \"Well\",\n",
    "            \"broad_sample\",\n",
    "            \"Plus_Blast\",\n",
    "            \"Minus_Blast\",\n",
    "            \"Minus_Avg_Background\",\n",
    "        ],\n",
    "    )\n",
    "    .rename(\n",
    "        columns={\n",
    "            \"broad_sample\": \"Metadata_broad_sample\",\n",
    "            \"Plate_name\": \"Metadata_plate_map_name\",\n",
    "            \"Batch_name\": \"Metadata_Batch\",\n",
    "            \"Well\": \"Metadata_Well\",\n",
    "        }\n",
    "    )\n",
    "    .query(\"Minus_Avg_Background < 2\")\n",
    ")\n",
    "\n",
    "inf_eff_df_all.head()"
   ]
  },
  {
   "cell_type": "code",
   "execution_count": null,
   "metadata": {},
   "outputs": [],
   "source": [
    "# Add metadata to the dataframe\n",
    "\n",
    "orf_metadata_df = pd.read_csv(\n",
    "    \"../datasets/metadata/orf.csv.gz\",\n",
    "    usecols=[\"Metadata_broad_sample\", \"Metadata_pert_type\"]\n",
    ")\n",
    "\n",
    "# merge metadata with the dataframe\n",
    "\n",
    "inf_eff_df_all = inf_eff_df_all.merge(orf_metadata_df, on=\"Metadata_broad_sample\", how=\"left\")\n",
    "\n",
    "inf_eff_df_all.head()"
   ]
  },
  {
   "cell_type": "code",
   "execution_count": null,
   "metadata": {},
   "outputs": [],
   "source": [
    "inf_eff_mean_df = (\n",
    "    inf_eff_df_all[[\"Metadata_broad_sample\", \"Minus_Avg_Background\"]]\n",
    "    .query(\"Metadata_broad_sample != 'EMPTY'\")\n",
    "    .query(\"Metadata_broad_sample != 'BAD CONSTRUCT'\")\n",
    "    .groupby(\"Metadata_broad_sample\").mean().reset_index()\n",
    ")\n",
    "\n",
    "inf_eff_mean_df.head()"
   ]
  },
  {
   "cell_type": "code",
   "execution_count": null,
   "metadata": {},
   "outputs": [],
   "source": [
    "# Read mean average precision data\n",
    "\n",
    "map_df = pd.read_csv(\n",
    "    \"../05.retrieve-orf-annotations/old_notebooks/output/replicate-retrieval-mAP-baseline-profiles.csv.gz\",\n",
    "    usecols=[\"Metadata_broad_sample\", \"mean_average_precision\"],\n",
    ")\n",
    "\n",
    "map_df.head()"
   ]
  },
  {
   "cell_type": "code",
   "execution_count": null,
   "metadata": {},
   "outputs": [],
   "source": [
    "map_inf_eff_mean_df = map_df.merge(inf_eff_mean_df, on=\"Metadata_broad_sample\", how=\"inner\")"
   ]
  },
  {
   "cell_type": "code",
   "execution_count": null,
   "metadata": {},
   "outputs": [],
   "source": [
    "# Plot scatterplot\n",
    "\n",
    "fig = px.scatter(\n",
    "    map_inf_eff_mean_df,\n",
    "    x=\"Minus_Avg_Background\",\n",
    "    y=\"mean_average_precision\",\n",
    "    marginal_x=\"histogram\",\n",
    "    marginal_y=\"histogram\",\n",
    ")\n",
    "\n",
    "fig.update_layout(\n",
    "    xaxis_title=\"Viral Infection Efficiency\",\n",
    "    yaxis_title=\"Mean Average Precision\",\n",
    "    title=\"Correlation between viral infection efficiency and mean average precision\",\n",
    ")\n",
    "\n",
    "fig.show(\"png\")\n",
    "fig.write_image('figures/mean-average-precision-viral-infection-efficiency.png')"
   ]
  },
  {
   "attachments": {},
   "cell_type": "markdown",
   "metadata": {},
   "source": [
    "Find threshold using Otsu's method"
   ]
  },
  {
   "cell_type": "code",
   "execution_count": null,
   "metadata": {},
   "outputs": [],
   "source": [
    "# Functions from https://bic-berkeley.github.io/psych-214-fall-2016/otsu_threshold.html\n",
    "\n",
    "def ssd(hist, bin_centers):\n",
    "    n = np.sum(hist)\n",
    "    mu = np.sum(bin_centers * hist) / n\n",
    "    return np.sum(hist * ((bin_centers - mu) ** 2))\n",
    "\n",
    "def otsu_threshold(values):\n",
    "    n_bins = 100\n",
    "    hist, bin_edges = np.histogram(values, bins=n_bins)\n",
    "    bin_centers = bin_edges[:-1] + np.diff(bin_edges) / 2\n",
    "\n",
    "    total_ssds = []\n",
    "\n",
    "    for bin in range(1, n_bins):\n",
    "        left_ssd = ssd(hist[:bin], bin_centers[:bin])\n",
    "        right_ssd = ssd(hist[bin:], bin_centers[bin:])\n",
    "        total_ssds.append(left_ssd + right_ssd)\n",
    "    \n",
    "    z = np.argmin(total_ssds)\n",
    "    threshold = bin_centers[z]\n",
    "    return threshold"
   ]
  },
  {
   "cell_type": "code",
   "execution_count": null,
   "metadata": {},
   "outputs": [],
   "source": [
    "otsu_threshold_value = otsu_threshold(inf_eff_df_all[\"Minus_Avg_Background\"].values)\n",
    "print(otsu_threshold_value)"
   ]
  },
  {
   "cell_type": "code",
   "execution_count": null,
   "metadata": {},
   "outputs": [],
   "source": [
    "map_inf_eff_mean_df[\"OverTheOtsuThreshold\"] = map_inf_eff_mean_df[\"Minus_Avg_Background\"] > otsu_threshold_value"
   ]
  },
  {
   "cell_type": "code",
   "execution_count": null,
   "metadata": {},
   "outputs": [],
   "source": [
    "# Split based on OverTheOtsuThreshold\n",
    "\n",
    "fig = px.scatter(\n",
    "    map_inf_eff_mean_df,\n",
    "    x=\"Minus_Avg_Background\",\n",
    "    y=\"mean_average_precision\",\n",
    "    marginal_x=\"histogram\",\n",
    "    marginal_y=\"histogram\",\n",
    "    facet_col=\"OverTheOtsuThreshold\",\n",
    "    trendline=\"ols\",\n",
    "    trendline_color_override=\"red\",\n",
    ")\n",
    "\n",
    "fig.update_layout(\n",
    "    xaxis1_title=\"Viral Infection Efficiency\",\n",
    "    xaxis2_title=\"Viral Infection Efficiency\",\n",
    "    yaxis_title=\"Mean Average Precision\",\n",
    "    title=\"Correlation between viral infection efficiency and mean average precision\",\n",
    ")\n",
    "\n",
    "fig.show(\"png\")\n",
    "fig.write_image('figures/mean-average-precision-viral-infection-efficiency-facet-otsu.png')"
   ]
  },
  {
   "attachments": {},
   "cell_type": "markdown",
   "metadata": {},
   "source": [
    "Plot density plots with Otsu threshold"
   ]
  },
  {
   "cell_type": "code",
   "execution_count": null,
   "metadata": {},
   "outputs": [],
   "source": [
    "fig = px.density_contour(\n",
    "    map_inf_eff_mean_df,\n",
    "    x=\"Minus_Avg_Background\",\n",
    "    y=\"mean_average_precision\",\n",
    "    marginal_x=\"histogram\",\n",
    "    marginal_y=\"histogram\",\n",
    "    color=\"OverTheOtsuThreshold\",\n",
    "    trendline=\"ols\",\n",
    ")\n",
    "\n",
    "fig.update_layout(\n",
    "    xaxis_title=\"Viral Infection Efficiency\",\n",
    "    yaxis_title=\"Mean Average Precision\",\n",
    "    title=\"Correlation between viral infection efficiency and mean average precision\",\n",
    ")\n",
    "\n",
    "fig.show(\"png\")\n",
    "fig.write_image('figures/mean-average-precision-viral-infection-efficiency-density-contour-otsu.png')"
   ]
  },
  {
   "attachments": {},
   "cell_type": "markdown",
   "metadata": {},
   "source": [
    "### Cell Counts vs. Viral Infection Efficiency"
   ]
  },
  {
   "attachments": {},
   "cell_type": "markdown",
   "metadata": {},
   "source": [
    "Plot cell count and infection efficiency"
   ]
  },
  {
   "cell_type": "code",
   "execution_count": null,
   "metadata": {},
   "outputs": [],
   "source": [
    "cell_count_df = (\n",
    "    pd.read_csv(\n",
    "        \"../00.0.explore-data/output/cell_counts.csv.gz\",\n",
    "        usecols=[\"Metadata_plate_map_name\", \"Metadata_Well\", \"Metadata_Count_Cells\", \"Metadata_Plate\"],\n",
    "    )\n",
    ")\n",
    "\n",
    "cell_count_df.head()"
   ]
  },
  {
   "cell_type": "code",
   "execution_count": null,
   "metadata": {},
   "outputs": [],
   "source": [
    "# Add Batch name to the cell count dataframe\n",
    "\n",
    "batch_map = {\n",
    "    \"Batch1\": \"2021_04_26_Batch1\",\n",
    "    \"Batch2\": \"2021_05_31_Batch2\",\n",
    "    \"Batch3\": \"2021_05_10_Batch3\",\n",
    "    \"Batch4\": \"2021_05_17_Batch4\",\n",
    "    \"Batch5\": \"2021_06_07_Batch5\",\n",
    "    \"Batch6\": \"2021_06_14_Batch6\",\n",
    "    \"Batch7\": \"2021_06_21_Batch7\",\n",
    "    \"Batch8\": \"2021_07_12_Batch8\",\n",
    "    \"Batch9\": \"2021_07_26_Batch9\",\n",
    "    \"Batch10\": \"2021_08_02_Batch10\",\n",
    "    \"Batch11\": \"2021_08_09_Batch11\",\n",
    "    \"Batch12\": \"2021_08_23_Batch12\",\n",
    "    \"Batch13\": \"2021_08_30_Batch13\",\n",
    "}\n",
    "\n",
    "experiment_df = (\n",
    "    pd.read_csv(\n",
    "        \"../00.0.explore-data/output/experiment-metadata.tsv\",\n",
    "        sep=\"\\t\",\n",
    "        usecols=[\"Batch\", \"Assay_Plate_Barcode\"],\n",
    "    )\n",
    "    .rename(\n",
    "        columns={\"Assay_Plate_Barcode\": \"Metadata_Plate\"}\n",
    "    )\n",
    "    .assign(Metadata_Batch=lambda x: x[\"Batch\"].map(batch_map))\n",
    "    .drop([\"Batch\"], axis=1)    \n",
    ")\n",
    "\n",
    "cell_count_df = cell_count_df.merge(\n",
    "    experiment_df,\n",
    "    on=\"Metadata_Plate\",\n",
    "    how=\"left\",\n",
    ")\n",
    "\n",
    "# Drop Plate name\n",
    "\n",
    "cell_count_df = cell_count_df.drop([\"Metadata_Plate\"], axis=1)\n",
    "\n",
    "cell_count_df.head()"
   ]
  },
  {
   "cell_type": "code",
   "execution_count": null,
   "metadata": {},
   "outputs": [],
   "source": [
    "# Compute mean cell count per well per plate\n",
    "\n",
    "cell_count_df = (\n",
    "    cell_count_df.groupby([\"Metadata_Batch\", \"Metadata_plate_map_name\", \"Metadata_Well\"]).agg({\"Metadata_Count_Cells\": \"mean\"})\n",
    "    .reset_index()\n",
    ")\n",
    "\n",
    "cell_count_df.head()"
   ]
  },
  {
   "cell_type": "code",
   "execution_count": null,
   "metadata": {},
   "outputs": [],
   "source": [
    "# Merge cell count and infection efficiency data\n",
    "\n",
    "inf_eff_cell_count = inf_eff_df_all.merge(cell_count_df, on=[\"Metadata_Batch\", \"Metadata_plate_map_name\", \"Metadata_Well\"], how=\"inner\")\n",
    "inf_eff_cell_count[\"OverTheOtsuThreshold\"] = inf_eff_cell_count[\"Minus_Avg_Background\"] > otsu_threshold_value\n",
    "\n",
    "inf_eff_cell_count.head()"
   ]
  },
  {
   "cell_type": "code",
   "execution_count": null,
   "metadata": {},
   "outputs": [],
   "source": [
    "# Plot scatterplot of cell count and infection efficiency\n",
    "\n",
    "fig = px.scatter(\n",
    "    inf_eff_cell_count,\n",
    "    x=\"Minus_Avg_Background\",\n",
    "    y=\"Metadata_Count_Cells\",\n",
    "    marginal_x=\"histogram\",\n",
    "    marginal_y=\"histogram\",\n",
    "    trendline=\"ols\",\n",
    "    trendline_color_override=\"red\",\n",
    ")\n",
    "\n",
    "fig.update_layout(\n",
    "    xaxis_title=\"Viral Infection Efficiency\",\n",
    "    yaxis_title=\"Mean Cell Count\",\n",
    "    title=\"Correlation between viral infection efficiency and cell count\",\n",
    ")\n",
    "\n",
    "fig.show(\"png\")\n",
    "fig.write_image('figures/cell-count-viral-infection-efficiency.png')"
   ]
  },
  {
   "attachments": {},
   "cell_type": "markdown",
   "metadata": {},
   "source": [
    "### Plot Cell Painting cell count vs. Cell viability assay cell count"
   ]
  },
  {
   "cell_type": "code",
   "execution_count": null,
   "metadata": {},
   "outputs": [],
   "source": [
    "# Plot scatterplot of cell count and plus_blast cell count\n",
    "\n",
    "fig = px.scatter(\n",
    "    inf_eff_cell_count,\n",
    "    x=\"Plus_Blast\",\n",
    "    y=\"Metadata_Count_Cells\",\n",
    "    marginal_x=\"histogram\",\n",
    "    marginal_y=\"histogram\",\n",
    "    trendline=\"ols\",\n",
    "    trendline_color_override=\"red\",\n",
    ")\n",
    "\n",
    "fig.update_layout(\n",
    "    xaxis_title=\"Plus Blast Cell Count\",\n",
    "    yaxis_title=\"Mean Cell Count\",\n",
    "    title=\"Correlation between cell count and plus blast cell count\",\n",
    ")\n",
    "\n",
    "fig.show(\"png\")\n",
    "fig.write_image('figures/cell-count-plus-blast.png')"
   ]
  },
  {
   "cell_type": "code",
   "execution_count": null,
   "metadata": {},
   "outputs": [],
   "source": [
    "# Plot scatterplot of cell count and minus_blast cell count\n",
    "\n",
    "fig = px.scatter(\n",
    "    inf_eff_cell_count,\n",
    "    x=\"Minus_Blast\",\n",
    "    y=\"Metadata_Count_Cells\",\n",
    "    marginal_x=\"histogram\",\n",
    "    marginal_y=\"histogram\",\n",
    "    trendline=\"ols\",\n",
    "    trendline_color_override=\"red\",\n",
    ")\n",
    "\n",
    "fig.update_layout(\n",
    "    xaxis_title=\"Minus Blast Cell Count\",\n",
    "    yaxis_title=\"Mean Cell Count\",\n",
    "    title=\"Correlation between cell count and minus blast cell count\",\n",
    ")\n",
    "\n",
    "fig.show(\"png\")\n",
    "fig.write_image('figures/cell-count-minus-blast.png')"
   ]
  },
  {
   "attachments": {},
   "cell_type": "markdown",
   "metadata": {},
   "source": [
    "Plotting the last plot with only the ORF treatments."
   ]
  },
  {
   "cell_type": "code",
   "execution_count": null,
   "metadata": {},
   "outputs": [],
   "source": [
    "merged_all_df_filtered = (\n",
    "    inf_eff_cell_count.query(\n",
    "        \"Metadata_pert_type!='control'\",\n",
    "    )\n",
    "    .query(\"Metadata_broad_sample!='EMPTY'\")\n",
    "    .dropna(subset=\"Metadata_broad_sample\")\n",
    ")\n",
    "\n",
    "# Plot scatterplot of mean cell count and minus_blast cell count for only ORF treatments\n",
    "\n",
    "fig = px.scatter(\n",
    "    merged_all_df_filtered,\n",
    "    x=\"Minus_Blast\",\n",
    "    y=\"Metadata_Count_Cells\",\n",
    "    marginal_x=\"histogram\",\n",
    "    marginal_y=\"histogram\",\n",
    "    trendline=\"ols\",\n",
    "    trendline_color_override=\"red\",\n",
    ")\n",
    "\n",
    "fig.update_layout(\n",
    "    xaxis_title=\"Minus Blast Cell Count\",\n",
    "    yaxis_title=\"Mean Cell Count\",\n",
    "    title=\"Correlation between cell count and minus blast cell count - ORF treatments\",\n",
    ")\n",
    "\n",
    "fig.show(\"png\")\n",
    "fig.write_image('figures/cell-count-minus-blast-orf-treatments.png')\n"
   ]
  },
  {
   "cell_type": "code",
   "execution_count": null,
   "metadata": {},
   "outputs": [],
   "source": [
    "# Filter out cells with low infection efficiency\n",
    "\n",
    "merged_all_df_filtered_cell_count = (\n",
    "    inf_eff_cell_count.query(\n",
    "        \"Metadata_pert_type!='control'\",\n",
    "    )\n",
    "    .query(\"Metadata_broad_sample!='EMPTY'\")\n",
    "    .dropna(subset=\"Metadata_broad_sample\")\n",
    ")\n",
    "\n",
    "# Plot scatterplot of mean cell count and minus_blast cell count for only ORF treatments with minus blast > 1.5M\n",
    "\n",
    "fig = px.scatter(\n",
    "    merged_all_df_filtered_cell_count.query(\"Minus_Blast>1.5e6\"),\n",
    "    x=\"Minus_Blast\",\n",
    "    y=\"Metadata_Count_Cells\",\n",
    "    marginal_x=\"histogram\",\n",
    "    marginal_y=\"histogram\",\n",
    "    trendline=\"ols\",\n",
    "    trendline_color_override=\"red\",\n",
    ")\n",
    "\n",
    "fig.update_layout(\n",
    "    xaxis_title=\"Minus Blast Cell Count\",\n",
    "    yaxis_title=\"Mean Cell Count\",\n",
    "    title=\"Correlation between cell count and minus blast cell count - ORF treatments\",\n",
    ")\n",
    "\n",
    "fig.show(\"png\")\n",
    "fig.write_image('figures/cell-count-minus-blast-orf-treatments-filtered-cell_count.png')"
   ]
  },
  {
   "cell_type": "code",
   "execution_count": null,
   "metadata": {},
   "outputs": [],
   "source": [
    "# Filter out cell count with low infection efficiency\n",
    "\n",
    "merged_all_df_filtered_viability = (\n",
    "    inf_eff_cell_count.query(\n",
    "        \"Metadata_pert_type!='control'\",\n",
    "    )\n",
    "    .query(\"Metadata_broad_sample!='EMPTY'\")\n",
    "    .dropna(subset=\"Metadata_broad_sample\")\n",
    ")\n",
    "\n",
    "# Plot scatterplot of mean cell count and minus_blast cell count for only ORF treatments with viral infection efficiency over the otsu threshold\n",
    "\n",
    "fig = px.scatter(\n",
    "    merged_all_df_filtered_viability.query(\"OverTheOtsuThreshold==True\"),\n",
    "    x=\"Minus_Blast\",\n",
    "    y=\"Metadata_Count_Cells\",\n",
    "    marginal_x=\"histogram\",\n",
    "    marginal_y=\"histogram\",\n",
    "    trendline=\"ols\",\n",
    "    trendline_color_override=\"red\",\n",
    ")\n",
    "\n",
    "fig.update_layout(\n",
    "    xaxis_title=\"Minus Blast Cell Count\",\n",
    "    yaxis_title=\"Mean Cell Count\",\n",
    "    title=\"Correlation between cell count and minus blast cell count - ORF treatments\",\n",
    ")\n",
    "\n",
    "fig.show(\"png\")\n",
    "fig.write_image('figures/cell-count-minus-blast-orf-treatments-filtered-viability.png')"
   ]
  },
  {
   "cell_type": "code",
   "execution_count": null,
   "metadata": {},
   "outputs": [],
   "source": [
    "# Split by plate map name\n",
    "\n",
    "merged_all_df_filtered_viability = (\n",
    "    inf_eff_cell_count.query(\n",
    "        \"Metadata_pert_type!='control'\",\n",
    "    )\n",
    "    .query(\"Metadata_broad_sample!='EMPTY'\")\n",
    "    .dropna(subset=\"Metadata_broad_sample\")\n",
    ")\n",
    "\n",
    "\n",
    "fig = px.scatter(\n",
    "    merged_all_df_filtered_viability,\n",
    "    x=\"Minus_Blast\",\n",
    "    y=\"Metadata_Count_Cells\",\n",
    "    trendline=\"ols\",\n",
    "    trendline_color_override=\"red\",\n",
    "    facet_col=\"Metadata_plate_map_name\",\n",
    "    facet_col_wrap=7,\n",
    "    facet_col_spacing=0.02,\n",
    "    facet_row_spacing=0.02,\n",
    ")\n",
    "\n",
    "fig.write_image('figures/cell-count-minus-blast-orf-treatments-filtered-cell_count-facet.png', width = 4200, height = 2800)"
   ]
  },
  {
   "cell_type": "code",
   "execution_count": null,
   "metadata": {},
   "outputs": [],
   "source": [
    "# Plot scatterplot of plus blast and minus blast\n",
    "\n",
    "fig = px.scatter(\n",
    "    inf_eff_cell_count,\n",
    "    x=\"Plus_Blast\",\n",
    "    y=\"Minus_Blast\",\n",
    "    marginal_x=\"histogram\",\n",
    "    marginal_y=\"histogram\",\n",
    "    trendline=\"ols\",\n",
    "    trendline_color_override=\"red\",\n",
    ")\n",
    "\n",
    "fig.update_layout(\n",
    "    xaxis_title=\"Plus Blast Cell Count\",\n",
    "    yaxis_title=\"Minus Blast Cell Count\",\n",
    "    title=\"Correlation between plus blast and minus blast cell count\",\n",
    ")\n",
    "\n",
    "fig.show(\"png\")\n",
    "fig.write_image('figures/plus-blast-minus-blast.png')"
   ]
  },
  {
   "attachments": {},
   "cell_type": "markdown",
   "metadata": {},
   "source": [
    "Since most reagents have high efficiency, it makes sense that plus blast cell count correlates strongly with minus blast cell count"
   ]
  },
  {
   "attachments": {},
   "cell_type": "markdown",
   "metadata": {},
   "source": [
    "### `EMPTY` wells"
   ]
  },
  {
   "attachments": {},
   "cell_type": "markdown",
   "metadata": {},
   "source": [
    "Looking at the distribution of cells in `EMPTY` wells to determine if blasticidin selection was performed. If selection was performed, we would expect `EMPTY` wells to have very few cells."
   ]
  },
  {
   "cell_type": "code",
   "execution_count": null,
   "metadata": {},
   "outputs": [],
   "source": [
    "inf_eff_cell_count['EMPTY'] = inf_eff_cell_count['Metadata_broad_sample'] == \"EMPTY\"\n",
    "\n",
    "fig = px.histogram(\n",
    "    inf_eff_cell_count,\n",
    "    x=\"Metadata_Count_Cells\",\n",
    "    color=\"EMPTY\",\n",
    "    marginal=\"rug\",\n",
    "    histnorm=\"probability\",\n",
    "    opacity=0.8,\n",
    "    color_discrete_map={True: \"rgba(0, 114, 178, 0.7)\", False: \"rgba(213, 94, 0, 0.7)\"}\n",
    ")\n",
    "\n",
    "fig.update_layout(\n",
    "    xaxis_title=\"Cell Count\",\n",
    "    yaxis_title=\"Probability\",\n",
    "    title=\"Distribution of cell count color by EMPTY\",\n",
    ")\n",
    "\n",
    "fig.show(\"png\")\n",
    "fig.write_image('figures/cell-count-histogram-EMPTY.png')"
   ]
  },
  {
   "attachments": {},
   "cell_type": "markdown",
   "metadata": {},
   "source": [
    "Plot the cell count and infection efficiency of `EMPTY` wells."
   ]
  },
  {
   "cell_type": "code",
   "execution_count": null,
   "metadata": {},
   "outputs": [],
   "source": [
    "fig = px.scatter(\n",
    "    inf_eff_cell_count.query('Metadata_broad_sample == \"EMPTY\"'),\n",
    "    x=\"Minus_Avg_Background\",\n",
    "    y=\"Metadata_Count_Cells\",\n",
    "    marginal_x=\"histogram\",\n",
    "    marginal_y=\"histogram\",\n",
    "    trendline=\"ols\",\n",
    "    trendline_color_override=\"red\",\n",
    ")\n",
    "\n",
    "fig.update_layout(\n",
    "    xaxis_title=\"Viral Infection Efficiency\",\n",
    "    yaxis_title=\"Mean Cell Count\",\n",
    "    title=\"Correlation between viral infection efficiency and cell count for EMPTY wells\",\n",
    ")\n",
    "\n",
    "fig.show(\"png\")\n",
    "fig.write_image('figures/cell-count-viral-infection-efficiency-EMPTY_with_outliers.png')"
   ]
  },
  {
   "cell_type": "code",
   "execution_count": null,
   "metadata": {},
   "outputs": [],
   "source": [
    "# Drop outliers\n",
    "\n",
    "fig = px.scatter(\n",
    "    inf_eff_cell_count.query('Metadata_broad_sample == \"EMPTY\" and Minus_Avg_Background < 0.2'),\n",
    "    x=\"Minus_Avg_Background\",\n",
    "    y=\"Metadata_Count_Cells\",\n",
    "    marginal_x=\"histogram\",\n",
    "    marginal_y=\"histogram\",\n",
    "    trendline=\"ols\",\n",
    "    trendline_color_override=\"red\",\n",
    ")\n",
    "\n",
    "fig.update_layout(\n",
    "    xaxis_title=\"Viral Infection Efficiency\",\n",
    "    yaxis_title=\"Mean Cell Count\",\n",
    "    title=\"Correlation between viral infection efficiency and cell count for EMPTY wells\",\n",
    ")\n",
    "\n",
    "fig.show(\"png\")\n",
    "fig.write_image('figures/cell-count-viral-infection-efficiency-EMPTY.png')"
   ]
  },
  {
   "attachments": {},
   "cell_type": "markdown",
   "metadata": {},
   "source": [
    "#### Identify the plate map of these EMPTY wells with high infection efficiency"
   ]
  },
  {
   "cell_type": "code",
   "execution_count": null,
   "metadata": {},
   "outputs": [],
   "source": [
    "inf_eff_cell_count.query(\n",
    "    'Metadata_broad_sample == \"EMPTY\" and Minus_Avg_Background > @otsu_threshold_value'\n",
    ")[[\"Metadata_Batch\", \"Metadata_plate_map_name\"]].drop_duplicates().values[0]"
   ]
  },
  {
   "attachments": {},
   "cell_type": "markdown",
   "metadata": {},
   "source": [
    "#### Rotate the platemap to check if the infection efficiency of the `EMPTY` decreases."
   ]
  },
  {
   "attachments": {},
   "cell_type": "markdown",
   "metadata": {},
   "source": [
    "##### First plot infection efficiency for this plate map"
   ]
  },
  {
   "cell_type": "code",
   "execution_count": null,
   "metadata": {},
   "outputs": [],
   "source": [
    "defective_platemap_df = inf_eff_cell_count.query(\n",
    "    \"Metadata_plate_map_name=='OAB41.OAC17.OAB78.79.A'\"\n",
    ")\n",
    "\n",
    "# Number of `EMPTY` wells passing the Otsu threshold\n",
    "\n",
    "defective_platemap_df.query(\n",
    "    'EMPTY==True'\n",
    ").OverTheOtsuThreshold.value_counts()"
   ]
  },
  {
   "cell_type": "code",
   "execution_count": null,
   "metadata": {},
   "outputs": [],
   "source": [
    "defective_platemap_rotated_df = defective_platemap_df.copy()\n",
    "\n",
    "defective_platemap_rotated_df[\"EMPTY\"] = defective_platemap_rotated_df[\"EMPTY\"].values[\n",
    "    ::-1\n",
    "]\n",
    "\n",
    "# Number of `EMPTY` wells passing the Otsu threshold\n",
    "defective_platemap_rotated_df.query(\n",
    "    'EMPTY==True'\n",
    ").OverTheOtsuThreshold.value_counts()"
   ]
  }
 ],
 "metadata": {
  "kernelspec": {
   "display_name": "orf-annotations",
   "language": "python",
   "name": "python3"
  },
  "language_info": {
   "codemirror_mode": {
    "name": "ipython",
    "version": 3
   },
   "file_extension": ".py",
   "mimetype": "text/x-python",
   "name": "python",
   "nbconvert_exporter": "python",
   "pygments_lexer": "ipython3",
   "version": "3.10.6"
  },
  "orig_nbformat": 4
 },
 "nbformat": 4,
 "nbformat_minor": 2
}
