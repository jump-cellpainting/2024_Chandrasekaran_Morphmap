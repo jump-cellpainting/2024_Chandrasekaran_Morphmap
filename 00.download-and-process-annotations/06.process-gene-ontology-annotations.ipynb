{
 "cells": [
  {
   "cell_type": "code",
   "execution_count": 1,
   "metadata": {},
   "outputs": [],
   "source": [
    "import pandas as pd\n",
    "import numpy as np"
   ]
  },
  {
   "cell_type": "markdown",
   "metadata": {},
   "source": [
    "Gene sets defined by gene ontology for each GO domain is downloaded from msigdb: https://www.gsea-msigdb.org/gsea/msigdb/human/collections.jsp#C5\n",
    "\n",
    "The three files are downloaded from the following links and stored in the `input/` folder:\n",
    "- GO Biological Process ontology: https://www.gsea-msigdb.org/gsea/msigdb/download_file.jsp?filePath=/msigdb/release/2023.1.Hs/c5.go.bp.v2023.1.Hs.symbols.gmt\n",
    "- GO Cellular Component ontology: https://www.gsea-msigdb.org/gsea/msigdb/download_file.jsp?filePath=/msigdb/release/2023.1.Hs/c5.go.cc.v2023.1.Hs.symbols.gmt\n",
    "- GO Molecular Function ontology: https://www.gsea-msigdb.org/gsea/msigdb/download_file.jsp?filePath=/msigdb/release/2023.1.Hs/c5.go.mf.v2023.1.Hs.symbols.gmt"
   ]
  },
  {
   "cell_type": "code",
   "execution_count": 2,
   "metadata": {},
   "outputs": [],
   "source": [
    "# Biological Process\n",
    "\n",
    "with open(\"input/c5.go.bp.v2023.1.Hs.symbols.gmt\", \"r\") as fopen:\n",
    "    bp = fopen.readlines()\n",
    "\n",
    "bp_df = pd.DataFrame()\n",
    "\n",
    "for line in bp:\n",
    "    cols = line.rstrip().split(\"\\t\")\n",
    "    bp_df = pd.concat(\n",
    "        [\n",
    "            bp_df,\n",
    "            pd.DataFrame(\n",
    "                {\"go_bp\": cols[0], \"gene_list\": \"|\".join(cols[2:])}, index=[0]\n",
    "            ),\n",
    "        ],\n",
    "        ignore_index=True,\n",
    "    )\n",
    "\n",
    "bp_df = (\n",
    "    bp_df.assign(gene=lambda x: x.gene_list.str.split(\"|\"))\n",
    "    .explode(\"gene\")\n",
    "    .drop(\"gene_list\", axis=1)\n",
    "    .groupby(\"gene\")\n",
    "    .go_bp.apply(lambda x: \"|\".join(list(np.unique(x))))\n",
    "    .reset_index()\n",
    "    .rename(columns={\"go_bp\": \"go_bp_list\"})\n",
    ")"
   ]
  },
  {
   "cell_type": "code",
   "execution_count": 3,
   "metadata": {},
   "outputs": [],
   "source": [
    "# Cellular Component\n",
    "\n",
    "with open(\"input/c5.go.cc.v2023.1.Hs.symbols.gmt\", \"r\") as fopen:\n",
    "    cc = fopen.readlines()\n",
    "\n",
    "cc_df = pd.DataFrame()\n",
    "\n",
    "for line in cc:\n",
    "    cols = line.rstrip().split(\"\\t\")\n",
    "    cc_df = pd.concat(\n",
    "        [\n",
    "            cc_df,\n",
    "            pd.DataFrame(\n",
    "                {\"go_cc\": cols[0], \"gene_list\": \"|\".join(cols[2:])}, index=[0]\n",
    "            ),\n",
    "        ],\n",
    "        ignore_index=True,\n",
    "    )\n",
    "\n",
    "cc_df = (\n",
    "    cc_df.assign(gene=lambda x: x.gene_list.str.split(\"|\"))\n",
    "    .explode(\"gene\")\n",
    "    .drop(\"gene_list\", axis=1)\n",
    "    .groupby(\"gene\")\n",
    "    .go_cc.apply(lambda x: \"|\".join(list(np.unique(x))))\n",
    "    .reset_index()\n",
    "    .rename(columns={\"go_cc\": \"go_cc_list\"})\n",
    ")"
   ]
  },
  {
   "cell_type": "code",
   "execution_count": 4,
   "metadata": {},
   "outputs": [],
   "source": [
    "# Molecular Function\n",
    "\n",
    "with open(\"input/c5.go.mf.v2023.1.Hs.symbols.gmt\", \"r\") as fopen:\n",
    "    mf = fopen.readlines()\n",
    "\n",
    "mf_df = pd.DataFrame()\n",
    "\n",
    "for line in mf:\n",
    "    cols = line.rstrip().split(\"\\t\")\n",
    "    mf_df = pd.concat(\n",
    "        [\n",
    "            mf_df,\n",
    "            pd.DataFrame(\n",
    "                {\"go_mf\": cols[0], \"gene_list\": \"|\".join(cols[2:])}, index=[0]\n",
    "            ),\n",
    "        ],\n",
    "        ignore_index=True,\n",
    "    )\n",
    "\n",
    "mf_df = (\n",
    "    mf_df.assign(gene=lambda x: x.gene_list.str.split(\"|\"))\n",
    "    .explode(\"gene\")\n",
    "    .drop(\"gene_list\", axis=1)\n",
    "    .groupby(\"gene\")\n",
    "    .go_mf.apply(lambda x: \"|\".join(list(np.unique(x))))\n",
    "    .reset_index()\n",
    "    .rename(columns={\"go_mf\": \"go_mf_list\"})\n",
    ")"
   ]
  },
  {
   "cell_type": "code",
   "execution_count": 5,
   "metadata": {},
   "outputs": [],
   "source": [
    "# Combine the dataframes\n",
    "\n",
    "df = bp_df.merge(cc_df, on=\"gene\", how=\"outer\").merge(mf_df, on=\"gene\", how=\"outer\")\n",
    "\n",
    "df.to_csv(\"output/gene-ontology-annotations.tsv.gz\", sep='\\t', index=False)"
   ]
  }
 ],
 "metadata": {
  "kernelspec": {
   "display_name": "orf-annotations",
   "language": "python",
   "name": "python3"
  },
  "language_info": {
   "codemirror_mode": {
    "name": "ipython",
    "version": 3
   },
   "file_extension": ".py",
   "mimetype": "text/x-python",
   "name": "python",
   "nbconvert_exporter": "python",
   "pygments_lexer": "ipython3",
   "version": "3.10.6"
  },
  "orig_nbformat": 4
 },
 "nbformat": 4,
 "nbformat_minor": 2
}
