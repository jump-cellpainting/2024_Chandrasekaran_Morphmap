{
 "cells": [
  {
   "cell_type": "code",
   "execution_count": 1,
   "metadata": {},
   "outputs": [],
   "source": [
    "import pandas as pd\n",
    "import numpy as np"
   ]
  },
  {
   "cell_type": "code",
   "execution_count": 2,
   "metadata": {},
   "outputs": [
    {
     "data": {
      "text/html": [
       "<div>\n",
       "<style scoped>\n",
       "    .dataframe tbody tr th:only-of-type {\n",
       "        vertical-align: middle;\n",
       "    }\n",
       "\n",
       "    .dataframe tbody tr th {\n",
       "        vertical-align: top;\n",
       "    }\n",
       "\n",
       "    .dataframe thead th {\n",
       "        text-align: right;\n",
       "    }\n",
       "</style>\n",
       "<table border=\"1\" class=\"dataframe\">\n",
       "  <thead>\n",
       "    <tr style=\"text-align: right;\">\n",
       "      <th></th>\n",
       "      <th>HID</th>\n",
       "      <th>Taxonomy_ID</th>\n",
       "      <th>Gene_ID</th>\n",
       "      <th>Symbol</th>\n",
       "      <th>Protein_gi</th>\n",
       "      <th>Protein_accession</th>\n",
       "    </tr>\n",
       "  </thead>\n",
       "  <tbody>\n",
       "    <tr>\n",
       "      <th>0</th>\n",
       "      <td>3</td>\n",
       "      <td>9606</td>\n",
       "      <td>34</td>\n",
       "      <td>ACADM</td>\n",
       "      <td>4557231</td>\n",
       "      <td>NP_000007.1</td>\n",
       "    </tr>\n",
       "    <tr>\n",
       "      <th>1</th>\n",
       "      <td>3</td>\n",
       "      <td>9598</td>\n",
       "      <td>469356</td>\n",
       "      <td>ACADM</td>\n",
       "      <td>160961497</td>\n",
       "      <td>NP_001104286.1</td>\n",
       "    </tr>\n",
       "    <tr>\n",
       "      <th>2</th>\n",
       "      <td>3</td>\n",
       "      <td>9544</td>\n",
       "      <td>705168</td>\n",
       "      <td>ACADM</td>\n",
       "      <td>109008502</td>\n",
       "      <td>XP_001101274.1</td>\n",
       "    </tr>\n",
       "    <tr>\n",
       "      <th>3</th>\n",
       "      <td>3</td>\n",
       "      <td>9615</td>\n",
       "      <td>490207</td>\n",
       "      <td>ACADM</td>\n",
       "      <td>545503811</td>\n",
       "      <td>XP_005622188.1</td>\n",
       "    </tr>\n",
       "    <tr>\n",
       "      <th>4</th>\n",
       "      <td>3</td>\n",
       "      <td>9913</td>\n",
       "      <td>505968</td>\n",
       "      <td>ACADM</td>\n",
       "      <td>115497690</td>\n",
       "      <td>NP_001068703.1</td>\n",
       "    </tr>\n",
       "  </tbody>\n",
       "</table>\n",
       "</div>"
      ],
      "text/plain": [
       "   HID  Taxonomy_ID  Gene_ID Symbol  Protein_gi Protein_accession\n",
       "0    3         9606       34  ACADM     4557231       NP_000007.1\n",
       "1    3         9598   469356  ACADM   160961497    NP_001104286.1\n",
       "2    3         9544   705168  ACADM   109008502    XP_001101274.1\n",
       "3    3         9615   490207  ACADM   545503811    XP_005622188.1\n",
       "4    3         9913   505968  ACADM   115497690    NP_001068703.1"
      ]
     },
     "execution_count": 2,
     "metadata": {},
     "output_type": "execute_result"
    }
   ],
   "source": [
    "homologues_df = pd.read_csv(\n",
    "    \"input/homologene.data.tsv\",\n",
    "    sep=\"\\t\",\n",
    "    names=[\n",
    "        \"HID\",\n",
    "        \"Taxonomy_ID\",\n",
    "        \"Gene_ID\",\n",
    "        \"Gene_Symbol\",\n",
    "        \"Protein_gi\",\n",
    "        \"Protein_accession\",\n",
    "    ],\n",
    ").rename(columns={\"Gene_Symbol\": \"Symbol\"})\n",
    "homologues_df.head()"
   ]
  },
  {
   "cell_type": "code",
   "execution_count": 3,
   "metadata": {},
   "outputs": [],
   "source": [
    "homologues_df = homologues_df.groupby(\"Symbol\").Taxonomy_ID.unique().reset_index()"
   ]
  },
  {
   "cell_type": "code",
   "execution_count": 4,
   "metadata": {},
   "outputs": [],
   "source": [
    "homologues_df = homologues_df.assign(\n",
    "    human=lambda x: x.apply(\n",
    "        lambda y: True if 9606 in y[\"Taxonomy_ID\"] else False, axis=1\n",
    "    )\n",
    ").assign(HID_size=lambda x: x.apply(lambda y: len(y[\"Taxonomy_ID\"]), axis=1))"
   ]
  },
  {
   "cell_type": "code",
   "execution_count": 5,
   "metadata": {},
   "outputs": [],
   "source": [
    "homologues_df[\"Homologue\"] = np.where(homologues_df[\"HID_size\"] > 1, True, False)"
   ]
  },
  {
   "cell_type": "code",
   "execution_count": 6,
   "metadata": {},
   "outputs": [],
   "source": [
    "homologues_df.query(\"human == True\").reset_index(drop=True)[\n",
    "    [\"Symbol\", \"Homologue\"]\n",
    "].to_csv(\"output/homologues.tsv\", sep=\"\\t\", index=False)"
   ]
  }
 ],
 "metadata": {
  "kernelspec": {
   "display_name": "orf-annotations",
   "language": "python",
   "name": "python3"
  },
  "language_info": {
   "codemirror_mode": {
    "name": "ipython",
    "version": 3
   },
   "file_extension": ".py",
   "mimetype": "text/x-python",
   "name": "python",
   "nbconvert_exporter": "python",
   "pygments_lexer": "ipython3",
   "version": "3.10.6"
  },
  "orig_nbformat": 4
 },
 "nbformat": 4,
 "nbformat_minor": 2
}
