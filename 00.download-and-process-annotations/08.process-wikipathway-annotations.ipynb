{
 "cells": [
  {
   "cell_type": "code",
   "execution_count": 1,
   "metadata": {},
   "outputs": [],
   "source": [
    "import pandas as pd\n",
    "import numpy as np"
   ]
  },
  {
   "cell_type": "markdown",
   "metadata": {},
   "source": [
    "Gene sets defined by gene ontology for each GO domain is downloaded from msigdb: https://www.gsea-msigdb.org/gsea/msigdb/human/collections.jsp#C2\n",
    "\n",
    "The file is downloaded from the following link and stored in the `input/` folder:\n",
    "https://www.gsea-msigdb.org/gsea/msigdb/download_file.jsp?filePath=/msigdb/release/2023.2.Hs/c2.cp.wikipathways.v2023.2.Hs.symbols.gmt"
   ]
  },
  {
   "cell_type": "code",
   "execution_count": 2,
   "metadata": {},
   "outputs": [],
   "source": [
    "with open(\"input/c2.cp.wikipathways.v2023.2.Hs.symbols.gmt\", \"r\") as fopen:\n",
    "    wp = fopen.readlines()\n",
    "\n",
    "wp_df = pd.DataFrame()\n",
    "\n",
    "for line in wp:\n",
    "    cols = line.rstrip().split(\"\\t\")\n",
    "    wp_df = pd.concat(\n",
    "        [\n",
    "            wp_df,\n",
    "            pd.DataFrame(\n",
    "                {\"wikipathway\": cols[0], \"gene_list\": \"|\".join(cols[2:])}, index=[0]\n",
    "            ),\n",
    "        ],\n",
    "        ignore_index=True,\n",
    "    )\n",
    "\n",
    "wp_df = (\n",
    "    wp_df.assign(gene=lambda x: x.gene_list.str.split(\"|\"))\n",
    "    .explode(\"gene\")\n",
    "    .drop(\"gene_list\", axis=1)\n",
    "    .groupby(\"gene\")\n",
    "    .wikipathway.apply(lambda x: \"|\".join(list(np.unique(x))))\n",
    "    .reset_index()\n",
    ")"
   ]
  },
  {
   "cell_type": "code",
   "execution_count": 3,
   "metadata": {},
   "outputs": [],
   "source": [
    "# Combine the dataframes\n",
    "\n",
    "wp_df.to_csv(\"output/wikipathway-annotations.tsv.gz\", sep='\\t', index=False)"
   ]
  }
 ],
 "metadata": {
  "kernelspec": {
   "display_name": "orf-annotations",
   "language": "python",
   "name": "python3"
  },
  "language_info": {
   "codemirror_mode": {
    "name": "ipython",
    "version": 3
   },
   "file_extension": ".py",
   "mimetype": "text/x-python",
   "name": "python",
   "nbconvert_exporter": "python",
   "pygments_lexer": "ipython3",
   "version": "3.10.6"
  },
  "orig_nbformat": 4
 },
 "nbformat": 4,
 "nbformat_minor": 2
}
