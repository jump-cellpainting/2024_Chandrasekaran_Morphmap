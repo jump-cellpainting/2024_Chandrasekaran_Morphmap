{
 "cells": [
  {
   "cell_type": "code",
   "execution_count": 28,
   "metadata": {},
   "outputs": [],
   "source": [
    "import pandas as pd"
   ]
  },
  {
   "cell_type": "code",
   "execution_count": 29,
   "metadata": {},
   "outputs": [],
   "source": [
    "old_orf_df = pd.read_csv(\"../datasets/metadata/orf.csv.gz\").drop_duplicates(\n",
    "    subset=[\"Metadata_Symbol\"]\n",
    ")\n",
    "old_crispr_df = pd.read_csv(\"../datasets/metadata/crispr.csv.gz\").drop_duplicates(\n",
    "    subset=[\"Metadata_Symbol\"]\n",
    ")\n",
    "new_orf_df = (\n",
    "    pd.read_csv(\"output/orf.csv.gz\")\n",
    "    .drop_duplicates(subset=[\"Metadata_Symbol\"])\n",
    "    .dropna(subset=[\"Metadata_Approved_Symbol\"])\n",
    ")\n",
    "new_crispr_df = (\n",
    "    pd.read_csv(\"output/crispr.csv.gz\")\n",
    "    .drop_duplicates(subset=[\"Metadata_Symbol\"])\n",
    "    .dropna(subset=[\"Metadata_Approved_Symbol\"])\n",
    ")"
   ]
  },
  {
   "cell_type": "code",
   "execution_count": 30,
   "metadata": {},
   "outputs": [],
   "source": [
    "human_protein_atlas_go_annotations = pd.read_csv(\n",
    "    \"output/human_protein_atlas_go_annotations.tsv.gz\", sep=\"\\t\"\n",
    ")\n",
    "corum_df = pd.read_csv(\"output/CORUM_proteincomplex_annotations.tsv\", sep=\"\\t\")"
   ]
  },
  {
   "cell_type": "markdown",
   "metadata": {},
   "source": [
    "Overlap between ORFs and CRISPRs"
   ]
  },
  {
   "cell_type": "code",
   "execution_count": 31,
   "metadata": {},
   "outputs": [
    {
     "data": {
      "text/plain": [
       "(5252, 14)"
      ]
     },
     "execution_count": 31,
     "metadata": {},
     "output_type": "execute_result"
    }
   ],
   "source": [
    "old_orf_crispr = old_orf_df.merge(\n",
    "    old_crispr_df, on=\"Metadata_Symbol\", suffixes=(\"_orf\", \"_crispr\"), how=\"inner\"\n",
    ")\n",
    "old_orf_crispr.shape"
   ]
  },
  {
   "cell_type": "code",
   "execution_count": 32,
   "metadata": {},
   "outputs": [
    {
     "data": {
      "text/plain": [
       "(5342, 16)"
      ]
     },
     "execution_count": 32,
     "metadata": {},
     "output_type": "execute_result"
    }
   ],
   "source": [
    "new_orf_crispr = new_orf_df.merge(\n",
    "    new_crispr_df,\n",
    "    on=\"Metadata_Approved_Symbol\",\n",
    "    suffixes=(\"_orf\", \"_crispr\"),\n",
    "    how=\"inner\",\n",
    ")\n",
    "new_orf_crispr.shape"
   ]
  },
  {
   "cell_type": "code",
   "execution_count": 33,
   "metadata": {},
   "outputs": [
    {
     "data": {
      "text/plain": [
       "(3003, 14)"
      ]
     },
     "execution_count": 33,
     "metadata": {},
     "output_type": "execute_result"
    }
   ],
   "source": [
    "old_orf_corum = old_orf_df.merge(\n",
    "    corum_df, left_on=\"Metadata_Symbol\", right_on=\"Symbol\", how=\"inner\"\n",
    ")\n",
    "old_orf_corum.shape"
   ]
  },
  {
   "cell_type": "code",
   "execution_count": 34,
   "metadata": {},
   "outputs": [
    {
     "data": {
      "text/plain": [
       "(3007, 15)"
      ]
     },
     "execution_count": 34,
     "metadata": {},
     "output_type": "execute_result"
    }
   ],
   "source": [
    "new_orf_corum = new_orf_df.merge(\n",
    "    corum_df, left_on=\"Metadata_Approved_Symbol\", right_on=\"Symbol\", how=\"inner\"\n",
    ")\n",
    "new_orf_corum.shape"
   ]
  },
  {
   "cell_type": "code",
   "execution_count": 35,
   "metadata": {},
   "outputs": [
    {
     "data": {
      "text/plain": [
       "(2208, 5)"
      ]
     },
     "execution_count": 35,
     "metadata": {},
     "output_type": "execute_result"
    }
   ],
   "source": [
    "old_crispr_corum = old_crispr_df.merge(\n",
    "    corum_df, left_on=\"Metadata_Symbol\", right_on=\"Symbol\", how=\"inner\"\n",
    ")\n",
    "old_crispr_corum.shape"
   ]
  },
  {
   "cell_type": "code",
   "execution_count": 36,
   "metadata": {},
   "outputs": [
    {
     "data": {
      "text/plain": [
       "(2242, 6)"
      ]
     },
     "execution_count": 36,
     "metadata": {},
     "output_type": "execute_result"
    }
   ],
   "source": [
    "new_crispr_corum = new_crispr_df.merge(\n",
    "    corum_df, left_on=\"Metadata_Approved_Symbol\", right_on=\"Symbol\", how=\"inner\"\n",
    ")\n",
    "new_crispr_corum.shape"
   ]
  },
  {
   "cell_type": "code",
   "execution_count": 37,
   "metadata": {},
   "outputs": [
    {
     "data": {
      "text/plain": [
       "(4409, 15)"
      ]
     },
     "execution_count": 37,
     "metadata": {},
     "output_type": "execute_result"
    }
   ],
   "source": [
    "old_orf_human_protein_atlas = old_orf_df.merge(\n",
    "    human_protein_atlas_go_annotations,\n",
    "    left_on=\"Metadata_Symbol\",\n",
    "    right_on=\"Gene\",\n",
    "    how=\"inner\",\n",
    ")\n",
    "old_orf_human_protein_atlas.shape"
   ]
  },
  {
   "cell_type": "code",
   "execution_count": 38,
   "metadata": {},
   "outputs": [
    {
     "data": {
      "text/plain": [
       "(4416, 16)"
      ]
     },
     "execution_count": 38,
     "metadata": {},
     "output_type": "execute_result"
    }
   ],
   "source": [
    "new_orf_human_protein_atlas = new_orf_df.merge(\n",
    "    human_protein_atlas_go_annotations,\n",
    "    left_on=\"Metadata_Approved_Symbol\",\n",
    "    right_on=\"Gene\",\n",
    "    how=\"inner\",\n",
    ")\n",
    "new_orf_human_protein_atlas.shape"
   ]
  },
  {
   "cell_type": "code",
   "execution_count": 39,
   "metadata": {},
   "outputs": [
    {
     "data": {
      "text/plain": [
       "(4337, 6)"
      ]
     },
     "execution_count": 39,
     "metadata": {},
     "output_type": "execute_result"
    }
   ],
   "source": [
    "old_crispr_human_protein_atlas = old_crispr_df.merge(\n",
    "    human_protein_atlas_go_annotations,\n",
    "    left_on=\"Metadata_Symbol\",\n",
    "    right_on=\"Gene\",\n",
    "    how=\"inner\",\n",
    ")\n",
    "old_crispr_human_protein_atlas.shape"
   ]
  },
  {
   "cell_type": "code",
   "execution_count": 40,
   "metadata": {},
   "outputs": [
    {
     "data": {
      "text/plain": [
       "(4405, 7)"
      ]
     },
     "execution_count": 40,
     "metadata": {},
     "output_type": "execute_result"
    }
   ],
   "source": [
    "new_crispr_human_protein_atlas = new_crispr_df.merge(\n",
    "    human_protein_atlas_go_annotations,\n",
    "    left_on=\"Metadata_Approved_Symbol\",\n",
    "    right_on=\"Gene\",\n",
    "    how=\"inner\",\n",
    ")\n",
    "new_crispr_human_protein_atlas.shape"
   ]
  },
  {
   "cell_type": "code",
   "execution_count": 41,
   "metadata": {},
   "outputs": [
    {
     "name": "stdout",
     "output_type": "stream",
     "text": [
      "|                                  |   Old |   New |\n",
      "|:---------------------------------|------:|------:|\n",
      "| ORF CRISPR Overlap               |  5252 |  5342 |\n",
      "| ORF CORUM labels                 |  3003 |  3007 |\n",
      "| CRISPR CORUM labels              |  2208 |  2242 |\n",
      "| ORF Protein class annotations    |  4409 |  4416 |\n",
      "| CRISPR Protein class annotations |  4337 |  4405 |\n"
     ]
    }
   ],
   "source": [
    "print(\n",
    "    pd.DataFrame(\n",
    "        {\n",
    "            \"Old\": [\n",
    "                old_orf_crispr.shape[0],\n",
    "                old_orf_corum.shape[0],\n",
    "                old_crispr_corum.shape[0],\n",
    "                old_orf_human_protein_atlas.shape[0],\n",
    "                old_crispr_human_protein_atlas.shape[0],\n",
    "            ],\n",
    "            \"New\": [\n",
    "                new_orf_crispr.shape[0],\n",
    "                new_orf_corum.shape[0],\n",
    "                new_crispr_corum.shape[0],\n",
    "                new_orf_human_protein_atlas.shape[0],\n",
    "                new_crispr_human_protein_atlas.shape[0],\n",
    "            ],\n",
    "        },\n",
    "        index=[\n",
    "            \"ORF CRISPR Overlap\",\n",
    "            \"ORF CORUM labels\",\n",
    "            \"CRISPR CORUM labels\",\n",
    "            \"ORF Protein class annotations\",\n",
    "            \"CRISPR Protein class annotations\",\n",
    "        ],\n",
    "    ).to_markdown()\n",
    ")"
   ]
  }
 ],
 "metadata": {
  "kernelspec": {
   "display_name": "annotations",
   "language": "python",
   "name": "python3"
  },
  "language_info": {
   "codemirror_mode": {
    "name": "ipython",
    "version": 3
   },
   "file_extension": ".py",
   "mimetype": "text/x-python",
   "name": "python",
   "nbconvert_exporter": "python",
   "pygments_lexer": "ipython3",
   "version": "3.10.6"
  }
 },
 "nbformat": 4,
 "nbformat_minor": 2
}
