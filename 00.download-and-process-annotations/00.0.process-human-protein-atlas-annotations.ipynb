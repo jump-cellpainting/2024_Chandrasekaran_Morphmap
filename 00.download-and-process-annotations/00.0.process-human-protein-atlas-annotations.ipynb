{
 "cells": [
  {
   "cell_type": "code",
   "execution_count": 1,
   "metadata": {},
   "outputs": [],
   "source": [
    "import pandas as pd\n",
    "import numpy as np"
   ]
  },
  {
   "cell_type": "markdown",
   "metadata": {},
   "source": [
    "### Process Human Protein Atlas annotations and create annotation files"
   ]
  },
  {
   "cell_type": "code",
   "execution_count": 2,
   "metadata": {},
   "outputs": [],
   "source": [
    "proteinatlas_df = pd.read_csv(\"input/proteinatlas.tsv.zip\", sep=\"\\t\")"
   ]
  },
  {
   "cell_type": "code",
   "execution_count": 3,
   "metadata": {},
   "outputs": [],
   "source": [
    "# Interested annotations\n",
    "# 'Protein class', 'Biological process', 'Molecular function', 'Disease involvement', 'Subcellular main location', 'Subcellular additional location'"
   ]
  },
  {
   "cell_type": "markdown",
   "metadata": {},
   "source": [
    "### Protein class"
   ]
  },
  {
   "cell_type": "code",
   "execution_count": 4,
   "metadata": {},
   "outputs": [
    {
     "data": {
      "text/plain": [
       "(20162, 2)"
      ]
     },
     "execution_count": 4,
     "metadata": {},
     "output_type": "execute_result"
    }
   ],
   "source": [
    "protein_class_df = proteinatlas_df[[\"Gene\", \"Protein class\"]].rename(\n",
    "    columns={\"Protein class\": \"protein_class\"}\n",
    ")\n",
    "protein_class_df.shape"
   ]
  },
  {
   "cell_type": "code",
   "execution_count": 5,
   "metadata": {},
   "outputs": [
    {
     "data": {
      "text/plain": [
       "(20156, 2)"
      ]
     },
     "execution_count": 5,
     "metadata": {},
     "output_type": "execute_result"
    }
   ],
   "source": [
    "protein_class_df.drop_duplicates(subset=['Gene', 'protein_class'], inplace=True)\n",
    "protein_class_df.shape"
   ]
  },
  {
   "cell_type": "code",
   "execution_count": 6,
   "metadata": {},
   "outputs": [
    {
     "data": {
      "text/html": [
       "<div>\n",
       "<style scoped>\n",
       "    .dataframe tbody tr th:only-of-type {\n",
       "        vertical-align: middle;\n",
       "    }\n",
       "\n",
       "    .dataframe tbody tr th {\n",
       "        vertical-align: top;\n",
       "    }\n",
       "\n",
       "    .dataframe thead th {\n",
       "        text-align: right;\n",
       "    }\n",
       "</style>\n",
       "<table border=\"1\" class=\"dataframe\">\n",
       "  <thead>\n",
       "    <tr style=\"text-align: right;\">\n",
       "      <th></th>\n",
       "      <th>Gene</th>\n",
       "      <th>protein_class</th>\n",
       "    </tr>\n",
       "  </thead>\n",
       "  <tbody>\n",
       "    <tr>\n",
       "      <th>0</th>\n",
       "      <td>TSPAN6</td>\n",
       "      <td>Predicted intracellular proteins, Predicted me...</td>\n",
       "    </tr>\n",
       "    <tr>\n",
       "      <th>1</th>\n",
       "      <td>TNMD</td>\n",
       "      <td>Predicted membrane proteins</td>\n",
       "    </tr>\n",
       "    <tr>\n",
       "      <th>2</th>\n",
       "      <td>DPM1</td>\n",
       "      <td>Disease related genes, Enzymes, Human disease ...</td>\n",
       "    </tr>\n",
       "    <tr>\n",
       "      <th>3</th>\n",
       "      <td>SCYL3</td>\n",
       "      <td>Enzymes, Predicted intracellular proteins</td>\n",
       "    </tr>\n",
       "    <tr>\n",
       "      <th>4</th>\n",
       "      <td>C1orf112</td>\n",
       "      <td>Predicted intracellular proteins</td>\n",
       "    </tr>\n",
       "    <tr>\n",
       "      <th>...</th>\n",
       "      <td>...</td>\n",
       "      <td>...</td>\n",
       "    </tr>\n",
       "    <tr>\n",
       "      <th>20157</th>\n",
       "      <td>ENSG00000291313</td>\n",
       "      <td>Predicted intracellular proteins</td>\n",
       "    </tr>\n",
       "    <tr>\n",
       "      <th>20158</th>\n",
       "      <td>ENSG00000291314</td>\n",
       "      <td>Predicted intracellular proteins</td>\n",
       "    </tr>\n",
       "    <tr>\n",
       "      <th>20159</th>\n",
       "      <td>ENSG00000291315</td>\n",
       "      <td>Predicted intracellular proteins</td>\n",
       "    </tr>\n",
       "    <tr>\n",
       "      <th>20160</th>\n",
       "      <td>ENSG00000291316</td>\n",
       "      <td>Predicted intracellular proteins</td>\n",
       "    </tr>\n",
       "    <tr>\n",
       "      <th>20161</th>\n",
       "      <td>TMEM276</td>\n",
       "      <td>Predicted intracellular proteins, Predicted me...</td>\n",
       "    </tr>\n",
       "  </tbody>\n",
       "</table>\n",
       "<p>20156 rows × 2 columns</p>\n",
       "</div>"
      ],
      "text/plain": [
       "                  Gene                                      protein_class\n",
       "0               TSPAN6  Predicted intracellular proteins, Predicted me...\n",
       "1                 TNMD                        Predicted membrane proteins\n",
       "2                 DPM1  Disease related genes, Enzymes, Human disease ...\n",
       "3                SCYL3          Enzymes, Predicted intracellular proteins\n",
       "4             C1orf112                   Predicted intracellular proteins\n",
       "...                ...                                                ...\n",
       "20157  ENSG00000291313                   Predicted intracellular proteins\n",
       "20158  ENSG00000291314                   Predicted intracellular proteins\n",
       "20159  ENSG00000291315                   Predicted intracellular proteins\n",
       "20160  ENSG00000291316                   Predicted intracellular proteins\n",
       "20161          TMEM276  Predicted intracellular proteins, Predicted me...\n",
       "\n",
       "[20156 rows x 2 columns]"
      ]
     },
     "execution_count": 6,
     "metadata": {},
     "output_type": "execute_result"
    }
   ],
   "source": [
    "protein_class_df"
   ]
  },
  {
   "cell_type": "code",
   "execution_count": 7,
   "metadata": {},
   "outputs": [
    {
     "data": {
      "text/plain": [
       "(20151, 2)"
      ]
     },
     "execution_count": 7,
     "metadata": {},
     "output_type": "execute_result"
    }
   ],
   "source": [
    "# Replace \",\" with \"|\" and remove duplicates\n",
    "\n",
    "protein_class_df = (\n",
    "    protein_class_df.assign(tmp=lambda x: x[\"protein_class\"].str.split(\", \"))\n",
    "    .explode(\"tmp\")\n",
    "    .drop(columns=\"protein_class\")\n",
    "    .drop_duplicates(subset=[\"Gene\", \"tmp\"])\n",
    "    .groupby(\"Gene\")[\"tmp\"]\n",
    "    .apply(lambda x: \"|\".join(np.unique(x)))\n",
    "    .reset_index()\n",
    "    .rename(columns={\"tmp\": \"protein_class\"})\n",
    ")\n",
    "\n",
    "protein_class_df.shape"
   ]
  },
  {
   "cell_type": "code",
   "execution_count": 8,
   "metadata": {},
   "outputs": [],
   "source": [
    "protein_class_df.to_csv(\n",
    "    \"output/human_protein_atlas_class_annotations.tsv.gz\",\n",
    "    sep=\"\\t\",\n",
    "    index=False,\n",
    "    compression=\"gzip\",\n",
    ")"
   ]
  },
  {
   "cell_type": "markdown",
   "metadata": {},
   "source": [
    "### Subcellular location"
   ]
  },
  {
   "cell_type": "code",
   "execution_count": 9,
   "metadata": {},
   "outputs": [
    {
     "data": {
      "text/plain": [
       "(20162, 3)"
      ]
     },
     "execution_count": 9,
     "metadata": {},
     "output_type": "execute_result"
    }
   ],
   "source": [
    "protein_location_df = proteinatlas_df[\n",
    "    [\"Gene\", \"Subcellular main location\", \"Subcellular additional location\"]\n",
    "].rename(\n",
    "    columns={\n",
    "        \"Subcellular main location\": \"subcellular_location\",\n",
    "        \"Subcellular additional location\": \"subcellular_additional_location\",\n",
    "    }\n",
    ")\n",
    "\n",
    "protein_location_df.shape"
   ]
  },
  {
   "cell_type": "code",
   "execution_count": 10,
   "metadata": {},
   "outputs": [
    {
     "data": {
      "text/plain": [
       "(13146, 3)"
      ]
     },
     "execution_count": 10,
     "metadata": {},
     "output_type": "execute_result"
    }
   ],
   "source": [
    "# Remove na values from subcellular_location column\n",
    "\n",
    "protein_location_df = protein_location_df.dropna(\n",
    "    subset=[\"subcellular_location\"]\n",
    ").reset_index(drop=True)\n",
    "protein_location_df.shape"
   ]
  },
  {
   "cell_type": "code",
   "execution_count": 11,
   "metadata": {},
   "outputs": [
    {
     "data": {
      "text/plain": [
       "(13140, 2)"
      ]
     },
     "execution_count": 11,
     "metadata": {},
     "output_type": "execute_result"
    }
   ],
   "source": [
    "# Replace \",\" with \"|\"\n",
    "\n",
    "protein_location_df = (\n",
    "    protein_location_df.assign(\n",
    "        tmp=lambda x: x[\"subcellular_location\"].str.split(\", \")\n",
    "    )\n",
    "    .explode(\"tmp\")\n",
    "    .drop(columns=\"subcellular_location\")\n",
    "    .drop_duplicates(subset=[\"Gene\", \"tmp\"])\n",
    "    .groupby(\"Gene\")[\"tmp\"]\n",
    "    .apply(lambda x: \"|\".join(np.unique(x)))\n",
    "    .reset_index()\n",
    "    .rename(columns={\"tmp\": \"subcellular_location\"})\n",
    ")\n",
    "protein_location_df.shape"
   ]
  },
  {
   "cell_type": "code",
   "execution_count": 12,
   "metadata": {},
   "outputs": [],
   "source": [
    "protein_location_df.to_csv(\n",
    "    \"output/human_protein_atlas_location_annotations.tsv.gz\",\n",
    "    sep=\"\\t\",\n",
    "    index=False,\n",
    "    compression=\"gzip\",\n",
    ")"
   ]
  },
  {
   "cell_type": "markdown",
   "metadata": {},
   "source": [
    "### Disease annotation"
   ]
  },
  {
   "cell_type": "code",
   "execution_count": 13,
   "metadata": {},
   "outputs": [
    {
     "data": {
      "text/plain": [
       "(20162, 2)"
      ]
     },
     "execution_count": 13,
     "metadata": {},
     "output_type": "execute_result"
    }
   ],
   "source": [
    "protein_disease_df = proteinatlas_df[[\"Gene\", \"Disease involvement\"]].rename(\n",
    "    columns={\"Disease involvement\": \"disease_involvement\"}\n",
    ")\n",
    "protein_disease_df.shape"
   ]
  },
  {
   "cell_type": "code",
   "execution_count": 14,
   "metadata": {},
   "outputs": [
    {
     "data": {
      "text/plain": [
       "(5838, 2)"
      ]
     },
     "execution_count": 14,
     "metadata": {},
     "output_type": "execute_result"
    }
   ],
   "source": [
    "# Remove na values from disease_involvement column\n",
    "\n",
    "protein_disease_df = protein_disease_df.dropna(\n",
    "    subset=[\"disease_involvement\"]\n",
    ").reset_index(drop=True)\n",
    "protein_disease_df.shape"
   ]
  },
  {
   "cell_type": "code",
   "execution_count": 15,
   "metadata": {},
   "outputs": [
    {
     "data": {
      "text/plain": [
       "(5837, 2)"
      ]
     },
     "execution_count": 15,
     "metadata": {},
     "output_type": "execute_result"
    }
   ],
   "source": [
    "# Replace \",\" with \"|\"\n",
    "\n",
    "protein_disease_df = (\n",
    "    protein_disease_df.assign(\n",
    "        tmp=lambda x: x[\"disease_involvement\"].str.split(\", \")\n",
    "    )\n",
    "    .explode(\"tmp\")\n",
    "    .drop(columns=\"disease_involvement\")\n",
    "    .drop_duplicates(subset=[\"Gene\", \"tmp\"])\n",
    "    .groupby(\"Gene\")[\"tmp\"]\n",
    "    .apply(lambda x: \"|\".join(np.unique(x)))\n",
    "    .reset_index()\n",
    "    .rename(columns={\"tmp\": \"disease_involvement\"})\n",
    ")\n",
    "protein_disease_df.shape"
   ]
  },
  {
   "cell_type": "code",
   "execution_count": 16,
   "metadata": {},
   "outputs": [],
   "source": [
    "protein_disease_df.to_csv(\n",
    "    \"output/human_protein_atlas_disease_annotations.tsv.gz\",\n",
    "    sep=\"\\t\",\n",
    "    index=False,\n",
    "    compression=\"gzip\",\n",
    ")"
   ]
  },
  {
   "cell_type": "markdown",
   "metadata": {},
   "source": [
    "### Molecular function and biological process annotations"
   ]
  },
  {
   "cell_type": "code",
   "execution_count": 17,
   "metadata": {},
   "outputs": [],
   "source": [
    "go_df = proteinatlas_df[[\"Gene\", \"Biological process\", \"Molecular function\"]].rename(\n",
    "    columns={\"Biological process\": \"biological_process\", \"Molecular function\": \"molecular_function\"}\n",
    ")"
   ]
  },
  {
   "cell_type": "code",
   "execution_count": 18,
   "metadata": {},
   "outputs": [
    {
     "data": {
      "text/plain": [
       "(7198, 3)"
      ]
     },
     "execution_count": 18,
     "metadata": {},
     "output_type": "execute_result"
    }
   ],
   "source": [
    "# Remove na values from biological_process and molecular_function columns\n",
    "\n",
    "go_df = go_df.dropna(\n",
    "    subset=[\"biological_process\", \"molecular_function\"]\n",
    ").reset_index(drop=True)\n",
    "go_df.shape"
   ]
  },
  {
   "cell_type": "code",
   "execution_count": 19,
   "metadata": {},
   "outputs": [
    {
     "data": {
      "text/plain": [
       "(7197, 3)"
      ]
     },
     "execution_count": 19,
     "metadata": {},
     "output_type": "execute_result"
    }
   ],
   "source": [
    "# Replace \",\" with \"|\"\n",
    "\n",
    "go_bp_df = (\n",
    "    go_df.assign(tmp=lambda x: x[\"biological_process\"].str.split(\", \"))\n",
    "    .explode(\"tmp\")\n",
    "    .drop(columns=\"biological_process\")\n",
    "    .drop_duplicates(subset=[\"Gene\", \"tmp\"])\n",
    "    .groupby(\"Gene\")[\"tmp\"]\n",
    "    .apply(lambda x: \"|\".join(np.unique(x)))\n",
    "    .reset_index()\n",
    "    .rename(columns={\"tmp\": \"biological_process\"})\n",
    ")\n",
    "\n",
    "go_mf_df = (\n",
    "    go_df.assign(tmp=lambda x: x[\"molecular_function\"].str.split(\", \"))\n",
    "    .explode(\"tmp\")\n",
    "    .drop(columns=\"molecular_function\")\n",
    "    .drop_duplicates(subset=[\"Gene\", \"tmp\"])\n",
    "    .groupby(\"Gene\")[\"tmp\"]\n",
    "    .apply(lambda x: \"|\".join(np.unique(x)))\n",
    "    .reset_index()\n",
    "    .rename(columns={\"tmp\": \"molecular_function\"})\n",
    ")\n",
    "\n",
    "go_df = go_bp_df.merge(go_mf_df, on=\"Gene\", how=\"outer\")\n",
    "go_df.shape"
   ]
  },
  {
   "cell_type": "code",
   "execution_count": 20,
   "metadata": {},
   "outputs": [],
   "source": [
    "go_df.to_csv(\n",
    "    \"output/human_protein_atlas_go_annotations.tsv.gz\",\n",
    "    sep=\"\\t\",\n",
    "    index=False,\n",
    "    compression=\"gzip\",\n",
    ")"
   ]
  }
 ],
 "metadata": {
  "kernelspec": {
   "display_name": "Python 3",
   "language": "python",
   "name": "python3"
  },
  "language_info": {
   "codemirror_mode": {
    "name": "ipython",
    "version": 3
   },
   "file_extension": ".py",
   "mimetype": "text/x-python",
   "name": "python",
   "nbconvert_exporter": "python",
   "pygments_lexer": "ipython3",
   "version": "3.10.6"
  }
 },
 "nbformat": 4,
 "nbformat_minor": 2
}
