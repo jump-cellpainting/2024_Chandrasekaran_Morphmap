{
 "cells": [
  {
   "cell_type": "code",
   "execution_count": 1,
   "metadata": {},
   "outputs": [],
   "source": [
    "import pandas as pd"
   ]
  },
  {
   "cell_type": "markdown",
   "metadata": {},
   "source": [
    "### Process Human Protein Atlas annotations and create annotation files"
   ]
  },
  {
   "cell_type": "code",
   "execution_count": 2,
   "metadata": {},
   "outputs": [],
   "source": [
    "proteinatlas_df = pd.read_csv(\"input/proteinatlas.tsv.zip\", sep=\"\\t\")"
   ]
  },
  {
   "cell_type": "code",
   "execution_count": 3,
   "metadata": {},
   "outputs": [],
   "source": [
    "# Interested annotations\n",
    "# 'Protein class', 'Biological process', 'Molecular function', 'Disease involvement', 'Subcellular main location', 'Subcellular additional location'"
   ]
  },
  {
   "cell_type": "markdown",
   "metadata": {},
   "source": [
    "### Protein class"
   ]
  },
  {
   "cell_type": "code",
   "execution_count": 4,
   "metadata": {},
   "outputs": [
    {
     "data": {
      "text/plain": [
       "(20162, 2)"
      ]
     },
     "execution_count": 4,
     "metadata": {},
     "output_type": "execute_result"
    }
   ],
   "source": [
    "protein_class_df = proteinatlas_df[[\"Gene\", \"Protein class\"]].rename(\n",
    "    columns={\"Protein class\": \"protein_class\"}\n",
    ")\n",
    "protein_class_df.shape"
   ]
  },
  {
   "cell_type": "code",
   "execution_count": 5,
   "metadata": {},
   "outputs": [
    {
     "data": {
      "text/plain": [
       "(20156, 2)"
      ]
     },
     "execution_count": 5,
     "metadata": {},
     "output_type": "execute_result"
    }
   ],
   "source": [
    "protein_class_df.drop_duplicates(subset=['Gene', 'protein_class'], inplace=True)\n",
    "protein_class_df.shape"
   ]
  },
  {
   "cell_type": "code",
   "execution_count": 6,
   "metadata": {},
   "outputs": [
    {
     "data": {
      "text/plain": [
       "(20156, 2)"
      ]
     },
     "execution_count": 6,
     "metadata": {},
     "output_type": "execute_result"
    }
   ],
   "source": [
    "# Replace \",\" with \"|\"\n",
    "\n",
    "protein_class_df = protein_class_df.assign(\n",
    "    protein_class=lambda x: x[\"protein_class\"].str.split(\", \").str.join(\"|\")\n",
    ")\n",
    "protein_class_df.shape"
   ]
  },
  {
   "cell_type": "code",
   "execution_count": 7,
   "metadata": {},
   "outputs": [],
   "source": [
    "protein_class_df.to_csv(\n",
    "    \"output/human_protein_atlas_class_annotations.tsv.gz\",\n",
    "    sep=\"\\t\",\n",
    "    index=False,\n",
    "    compression=\"gzip\",\n",
    ")"
   ]
  },
  {
   "cell_type": "markdown",
   "metadata": {},
   "source": [
    "### Subcellular location"
   ]
  },
  {
   "cell_type": "code",
   "execution_count": 8,
   "metadata": {},
   "outputs": [
    {
     "data": {
      "text/plain": [
       "(20162, 3)"
      ]
     },
     "execution_count": 8,
     "metadata": {},
     "output_type": "execute_result"
    }
   ],
   "source": [
    "protein_location_df = proteinatlas_df[\n",
    "    [\"Gene\", \"Subcellular main location\", \"Subcellular additional location\"]\n",
    "].rename(\n",
    "    columns={\n",
    "        \"Subcellular main location\": \"subcellular_location\",\n",
    "        \"Subcellular additional location\": \"subcellular_additional_location\",\n",
    "    }\n",
    ")\n",
    "\n",
    "protein_location_df.shape"
   ]
  },
  {
   "cell_type": "code",
   "execution_count": 9,
   "metadata": {},
   "outputs": [
    {
     "data": {
      "text/plain": [
       "(13146, 3)"
      ]
     },
     "execution_count": 9,
     "metadata": {},
     "output_type": "execute_result"
    }
   ],
   "source": [
    "# Remove na values from subcellular_location column\n",
    "\n",
    "protein_location_df = protein_location_df.dropna(\n",
    "    subset=[\"subcellular_location\"]\n",
    ").reset_index(drop=True)\n",
    "protein_location_df.shape"
   ]
  },
  {
   "cell_type": "code",
   "execution_count": 10,
   "metadata": {},
   "outputs": [
    {
     "data": {
      "text/plain": [
       "(13146, 3)"
      ]
     },
     "execution_count": 10,
     "metadata": {},
     "output_type": "execute_result"
    }
   ],
   "source": [
    "# Replace \",\" with \"|\"\n",
    "\n",
    "protein_location_df = protein_location_df.assign(\n",
    "    subcellular_location=lambda x: x[\"subcellular_location\"].str.split(\", \").str.join(\"|\")\n",
    ")\n",
    "protein_location_df.shape"
   ]
  },
  {
   "cell_type": "code",
   "execution_count": 11,
   "metadata": {},
   "outputs": [],
   "source": [
    "protein_location_df.to_csv(\n",
    "    \"output/human_protein_atlas_location_annotations.tsv.gz\",\n",
    "    sep=\"\\t\",\n",
    "    index=False,\n",
    "    compression=\"gzip\",\n",
    ")"
   ]
  },
  {
   "cell_type": "markdown",
   "metadata": {},
   "source": [
    "### Disease annotation"
   ]
  },
  {
   "cell_type": "code",
   "execution_count": 12,
   "metadata": {},
   "outputs": [
    {
     "data": {
      "text/plain": [
       "(20162, 2)"
      ]
     },
     "execution_count": 12,
     "metadata": {},
     "output_type": "execute_result"
    }
   ],
   "source": [
    "protein_disease_df = proteinatlas_df[[\"Gene\", \"Disease involvement\"]].rename(\n",
    "    columns={\"Disease involvement\": \"disease_involvement\"}\n",
    ")\n",
    "protein_disease_df.shape"
   ]
  },
  {
   "cell_type": "code",
   "execution_count": 13,
   "metadata": {},
   "outputs": [
    {
     "data": {
      "text/plain": [
       "(5838, 2)"
      ]
     },
     "execution_count": 13,
     "metadata": {},
     "output_type": "execute_result"
    }
   ],
   "source": [
    "# Remove na values from disease_involvement column\n",
    "\n",
    "protein_disease_df = protein_disease_df.dropna(\n",
    "    subset=[\"disease_involvement\"]\n",
    ").reset_index(drop=True)\n",
    "protein_disease_df.shape"
   ]
  },
  {
   "cell_type": "code",
   "execution_count": 14,
   "metadata": {},
   "outputs": [
    {
     "data": {
      "text/plain": [
       "(5838, 2)"
      ]
     },
     "execution_count": 14,
     "metadata": {},
     "output_type": "execute_result"
    }
   ],
   "source": [
    "# Replace \",\" with \"|\"\n",
    "\n",
    "protein_disease_df = protein_disease_df.assign(\n",
    "    disease_involvement=lambda x: x[\"disease_involvement\"].str.split(\", \").str.join(\"|\")\n",
    ")\n",
    "protein_disease_df.shape"
   ]
  },
  {
   "cell_type": "code",
   "execution_count": 15,
   "metadata": {},
   "outputs": [],
   "source": [
    "protein_disease_df.to_csv(\n",
    "    \"output/human_protein_atlas_disease_annotations.tsv.gz\",\n",
    "    sep=\"\\t\",\n",
    "    index=False,\n",
    "    compression=\"gzip\",\n",
    ")"
   ]
  },
  {
   "cell_type": "markdown",
   "metadata": {},
   "source": [
    "### Molecular function and biological process annotations"
   ]
  },
  {
   "cell_type": "code",
   "execution_count": 16,
   "metadata": {},
   "outputs": [],
   "source": [
    "go_df = proteinatlas_df[[\"Gene\", \"Biological process\", \"Molecular function\"]].rename(\n",
    "    columns={\"Biological process\": \"biological_process\", \"Molecular function\": \"molecular_function\"}\n",
    ")"
   ]
  },
  {
   "cell_type": "code",
   "execution_count": 17,
   "metadata": {},
   "outputs": [
    {
     "data": {
      "text/plain": [
       "(7198, 3)"
      ]
     },
     "execution_count": 17,
     "metadata": {},
     "output_type": "execute_result"
    }
   ],
   "source": [
    "# Remove na values from biological_process and molecular_function columns\n",
    "\n",
    "go_df = go_df.dropna(\n",
    "    subset=[\"biological_process\", \"molecular_function\"]\n",
    ").reset_index(drop=True)\n",
    "go_df.shape"
   ]
  },
  {
   "cell_type": "code",
   "execution_count": 18,
   "metadata": {},
   "outputs": [
    {
     "data": {
      "text/plain": [
       "(7198, 3)"
      ]
     },
     "execution_count": 18,
     "metadata": {},
     "output_type": "execute_result"
    }
   ],
   "source": [
    "# Replace \",\" with \"|\"\n",
    "\n",
    "go_df = go_df.assign(\n",
    "    biological_process=lambda x: x[\"biological_process\"].str.split(\", \").str.join(\"|\"),\n",
    "    molecular_function=lambda x: x[\"molecular_function\"].str.split(\", \").str.join(\"|\"),\n",
    ")\n",
    "\n",
    "go_df.shape"
   ]
  },
  {
   "cell_type": "code",
   "execution_count": 19,
   "metadata": {},
   "outputs": [],
   "source": [
    "go_df.to_csv(\n",
    "    \"output/human_protein_atlas_go_annotations.tsv.gz\",\n",
    "    sep=\"\\t\",\n",
    "    index=False,\n",
    "    compression=\"gzip\",\n",
    ")"
   ]
  }
 ],
 "metadata": {
  "kernelspec": {
   "display_name": "Python 3",
   "language": "python",
   "name": "python3"
  },
  "language_info": {
   "codemirror_mode": {
    "name": "ipython",
    "version": 3
   },
   "file_extension": ".py",
   "mimetype": "text/x-python",
   "name": "python",
   "nbconvert_exporter": "python",
   "pygments_lexer": "ipython3",
   "version": "3.10.6"
  }
 },
 "nbformat": 4,
 "nbformat_minor": 2
}
