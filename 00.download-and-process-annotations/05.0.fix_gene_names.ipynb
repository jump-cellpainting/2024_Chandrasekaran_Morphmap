{
 "cells": [
  {
   "cell_type": "code",
   "execution_count": 1,
   "metadata": {},
   "outputs": [],
   "source": [
    "import pandas as pd\n",
    "import numpy as np"
   ]
  },
  {
   "cell_type": "code",
   "execution_count": 2,
   "metadata": {},
   "outputs": [
    {
     "data": {
      "text/html": [
       "<div>\n",
       "<style scoped>\n",
       "    .dataframe tbody tr th:only-of-type {\n",
       "        vertical-align: middle;\n",
       "    }\n",
       "\n",
       "    .dataframe tbody tr th {\n",
       "        vertical-align: top;\n",
       "    }\n",
       "\n",
       "    .dataframe thead th {\n",
       "        text-align: right;\n",
       "    }\n",
       "</style>\n",
       "<table border=\"1\" class=\"dataframe\">\n",
       "  <thead>\n",
       "    <tr style=\"text-align: right;\">\n",
       "      <th></th>\n",
       "      <th>Metadata_Approved_Symbol</th>\n",
       "      <th>Previous_symbols</th>\n",
       "      <th>Gene_group_ID</th>\n",
       "      <th>NCBI_Gene_ID</th>\n",
       "    </tr>\n",
       "  </thead>\n",
       "  <tbody>\n",
       "    <tr>\n",
       "      <th>0</th>\n",
       "      <td>A1BG</td>\n",
       "      <td>&lt;NA&gt;</td>\n",
       "      <td>594</td>\n",
       "      <td>1</td>\n",
       "    </tr>\n",
       "    <tr>\n",
       "      <th>1</th>\n",
       "      <td>A1BG-AS1</td>\n",
       "      <td>NCRNA00181|A1BGAS|A1BG-AS</td>\n",
       "      <td>1987</td>\n",
       "      <td>503538</td>\n",
       "    </tr>\n",
       "    <tr>\n",
       "      <th>2</th>\n",
       "      <td>A1CF</td>\n",
       "      <td>&lt;NA&gt;</td>\n",
       "      <td>725</td>\n",
       "      <td>29974</td>\n",
       "    </tr>\n",
       "    <tr>\n",
       "      <th>3</th>\n",
       "      <td>A1S9T</td>\n",
       "      <td>&lt;NA&gt;</td>\n",
       "      <td>&lt;NA&gt;</td>\n",
       "      <td>&lt;NA&gt;</td>\n",
       "    </tr>\n",
       "    <tr>\n",
       "      <th>4</th>\n",
       "      <td>A2M</td>\n",
       "      <td>&lt;NA&gt;</td>\n",
       "      <td>2148</td>\n",
       "      <td>2</td>\n",
       "    </tr>\n",
       "  </tbody>\n",
       "</table>\n",
       "</div>"
      ],
      "text/plain": [
       "  Metadata_Approved_Symbol           Previous_symbols Gene_group_ID  \\\n",
       "0                     A1BG                       <NA>           594   \n",
       "1                 A1BG-AS1  NCRNA00181|A1BGAS|A1BG-AS          1987   \n",
       "2                     A1CF                       <NA>           725   \n",
       "3                    A1S9T                       <NA>          <NA>   \n",
       "4                      A2M                       <NA>          2148   \n",
       "\n",
       "  NCBI_Gene_ID  \n",
       "0            1  \n",
       "1       503538  \n",
       "2        29974  \n",
       "3         <NA>  \n",
       "4            2  "
      ]
     },
     "execution_count": 2,
     "metadata": {},
     "output_type": "execute_result"
    }
   ],
   "source": [
    "# HGNC gene name file\n",
    "\n",
    "hgnc_df = pd.read_csv(\n",
    "    \"output/hgnc_approved_symbol_processed.tsv\", sep='\\t', dtype=\"string\"\n",
    ").rename(columns={\"Approved_symbol\": \"Metadata_Approved_Symbol\"})\n",
    "hgnc_df.head()"
   ]
  },
  {
   "cell_type": "code",
   "execution_count": 3,
   "metadata": {},
   "outputs": [],
   "source": [
    "# Create dataframes\n",
    "\n",
    "approved_symbol_df = hgnc_df[\"Metadata_Approved_Symbol\"].copy().drop_duplicates()\n",
    "previous_symbols_df = (\n",
    "    hgnc_df.loc[hgnc_df[\"Previous_symbols\"].notna()]\n",
    "    .assign(Previous_symbols=lambda x: x[\"Previous_symbols\"].str.split(\"|\"))\n",
    "    .explode(\"Previous_symbols\")\n",
    ")[[\"Metadata_Approved_Symbol\", \"Previous_symbols\"]]"
   ]
  },
  {
   "cell_type": "code",
   "execution_count": 4,
   "metadata": {},
   "outputs": [],
   "source": [
    "# NCBI dataset\n",
    "\n",
    "ncbi_df = pd.read_csv(\n",
    "    \"output/ncbi_dataset_processed.tsv\", sep='\\t', dtype=\"string\"\n",
    ").rename(columns={\"Approved_Symbol\": \"Metadata_Approved_Symbol\"})"
   ]
  },
  {
   "cell_type": "markdown",
   "metadata": {},
   "source": [
    "### Add approved symbols to ORF gene names"
   ]
  },
  {
   "cell_type": "code",
   "execution_count": 5,
   "metadata": {},
   "outputs": [
    {
     "data": {
      "text/html": [
       "<div>\n",
       "<style scoped>\n",
       "    .dataframe tbody tr th:only-of-type {\n",
       "        vertical-align: middle;\n",
       "    }\n",
       "\n",
       "    .dataframe tbody tr th {\n",
       "        vertical-align: top;\n",
       "    }\n",
       "\n",
       "    .dataframe thead th {\n",
       "        text-align: right;\n",
       "    }\n",
       "</style>\n",
       "<table border=\"1\" class=\"dataframe\">\n",
       "  <thead>\n",
       "    <tr style=\"text-align: right;\">\n",
       "      <th></th>\n",
       "      <th>Metadata_JCP2022</th>\n",
       "      <th>Metadata_broad_sample</th>\n",
       "      <th>Metadata_Name</th>\n",
       "      <th>Metadata_Vector</th>\n",
       "      <th>Metadata_Transcript</th>\n",
       "      <th>Metadata_Symbol</th>\n",
       "      <th>Metadata_NCBI_Gene_ID</th>\n",
       "      <th>Metadata_Taxon_ID</th>\n",
       "      <th>Metadata_Gene_Description</th>\n",
       "      <th>Metadata_Prot_Match</th>\n",
       "      <th>Metadata_Insert_Length</th>\n",
       "      <th>Metadata_pert_type</th>\n",
       "    </tr>\n",
       "  </thead>\n",
       "  <tbody>\n",
       "    <tr>\n",
       "      <th>0</th>\n",
       "      <td>JCP2022_900002</td>\n",
       "      <td>ccsbBroad304_00001</td>\n",
       "      <td>ORF008415.1_TRC304.1</td>\n",
       "      <td>pLX_304</td>\n",
       "      <td>NM_001160173.3</td>\n",
       "      <td>NAT1</td>\n",
       "      <td>9</td>\n",
       "      <td>9606</td>\n",
       "      <td>N-acetyltransferase 1</td>\n",
       "      <td>100.0</td>\n",
       "      <td>870.0</td>\n",
       "      <td>trt</td>\n",
       "    </tr>\n",
       "    <tr>\n",
       "      <th>1</th>\n",
       "      <td>JCP2022_900003</td>\n",
       "      <td>ccsbBroad304_00002</td>\n",
       "      <td>ORF005388.1_TRC304.1</td>\n",
       "      <td>pLX_304</td>\n",
       "      <td>NM_001088.3</td>\n",
       "      <td>AANAT</td>\n",
       "      <td>15</td>\n",
       "      <td>9606</td>\n",
       "      <td>aralkylamine N-acetyltransferase</td>\n",
       "      <td>100.0</td>\n",
       "      <td>621.0</td>\n",
       "      <td>trt</td>\n",
       "    </tr>\n",
       "    <tr>\n",
       "      <th>2</th>\n",
       "      <td>JCP2022_900004</td>\n",
       "      <td>ccsbBroad304_00003</td>\n",
       "      <td>ORF003876.1_TRC304.1</td>\n",
       "      <td>pLX_304</td>\n",
       "      <td>NM_000663.4</td>\n",
       "      <td>ABAT</td>\n",
       "      <td>18</td>\n",
       "      <td>9606</td>\n",
       "      <td>4-aminobutyrate aminotransferase</td>\n",
       "      <td>100.0</td>\n",
       "      <td>1500.0</td>\n",
       "      <td>trt</td>\n",
       "    </tr>\n",
       "    <tr>\n",
       "      <th>3</th>\n",
       "      <td>JCP2022_900005</td>\n",
       "      <td>ccsbBroad304_00007</td>\n",
       "      <td>ORF004679.1_TRC304.1</td>\n",
       "      <td>pLX_304</td>\n",
       "      <td>NM_000018.4</td>\n",
       "      <td>ACADVL</td>\n",
       "      <td>37</td>\n",
       "      <td>9606</td>\n",
       "      <td>acyl-CoA dehydrogenase very long chain</td>\n",
       "      <td>100.0</td>\n",
       "      <td>1965.0</td>\n",
       "      <td>trt</td>\n",
       "    </tr>\n",
       "    <tr>\n",
       "      <th>4</th>\n",
       "      <td>JCP2022_900006</td>\n",
       "      <td>ccsbBroad304_00008</td>\n",
       "      <td>ORF000425.1_TRC304.1</td>\n",
       "      <td>pLX_304</td>\n",
       "      <td>NM_001095.4</td>\n",
       "      <td>ASIC1</td>\n",
       "      <td>41</td>\n",
       "      <td>9606</td>\n",
       "      <td>acid sensing ion channel subunit 1</td>\n",
       "      <td>100.0</td>\n",
       "      <td>1584.0</td>\n",
       "      <td>trt</td>\n",
       "    </tr>\n",
       "  </tbody>\n",
       "</table>\n",
       "</div>"
      ],
      "text/plain": [
       "  Metadata_JCP2022 Metadata_broad_sample         Metadata_Name  \\\n",
       "0   JCP2022_900002    ccsbBroad304_00001  ORF008415.1_TRC304.1   \n",
       "1   JCP2022_900003    ccsbBroad304_00002  ORF005388.1_TRC304.1   \n",
       "2   JCP2022_900004    ccsbBroad304_00003  ORF003876.1_TRC304.1   \n",
       "3   JCP2022_900005    ccsbBroad304_00007  ORF004679.1_TRC304.1   \n",
       "4   JCP2022_900006    ccsbBroad304_00008  ORF000425.1_TRC304.1   \n",
       "\n",
       "  Metadata_Vector Metadata_Transcript Metadata_Symbol Metadata_NCBI_Gene_ID  \\\n",
       "0         pLX_304      NM_001160173.3            NAT1                     9   \n",
       "1         pLX_304         NM_001088.3           AANAT                    15   \n",
       "2         pLX_304         NM_000663.4            ABAT                    18   \n",
       "3         pLX_304         NM_000018.4          ACADVL                    37   \n",
       "4         pLX_304         NM_001095.4           ASIC1                    41   \n",
       "\n",
       "  Metadata_Taxon_ID               Metadata_Gene_Description  \\\n",
       "0              9606                   N-acetyltransferase 1   \n",
       "1              9606        aralkylamine N-acetyltransferase   \n",
       "2              9606        4-aminobutyrate aminotransferase   \n",
       "3              9606  acyl-CoA dehydrogenase very long chain   \n",
       "4              9606      acid sensing ion channel subunit 1   \n",
       "\n",
       "   Metadata_Prot_Match  Metadata_Insert_Length Metadata_pert_type  \n",
       "0                100.0                   870.0                trt  \n",
       "1                100.0                   621.0                trt  \n",
       "2                100.0                  1500.0                trt  \n",
       "3                100.0                  1965.0                trt  \n",
       "4                100.0                  1584.0                trt  "
      ]
     },
     "execution_count": 5,
     "metadata": {},
     "output_type": "execute_result"
    }
   ],
   "source": [
    "orf_metadata_df = pd.read_csv(\"../datasets/metadata/orf.csv.gz\")\n",
    "orf_metadata_df.head()"
   ]
  },
  {
   "cell_type": "code",
   "execution_count": 6,
   "metadata": {},
   "outputs": [
    {
     "data": {
      "text/plain": [
       "(15142, 12)"
      ]
     },
     "execution_count": 6,
     "metadata": {},
     "output_type": "execute_result"
    }
   ],
   "source": [
    "orf_metadata_df.shape"
   ]
  },
  {
   "cell_type": "markdown",
   "metadata": {},
   "source": [
    "Separate negcons since they won't have Approved Symbols"
   ]
  },
  {
   "cell_type": "code",
   "execution_count": 7,
   "metadata": {},
   "outputs": [
    {
     "data": {
      "text/plain": [
       "(5, 13)"
      ]
     },
     "execution_count": 7,
     "metadata": {},
     "output_type": "execute_result"
    }
   ],
   "source": [
    "negcons_df = orf_metadata_df.query(\"Metadata_pert_type!= 'trt'\").assign(\n",
    "    Metadata_Approved_Symbol=\"\"\n",
    ")\n",
    "negcons_df.shape"
   ]
  },
  {
   "cell_type": "code",
   "execution_count": 8,
   "metadata": {},
   "outputs": [
    {
     "data": {
      "text/plain": [
       "(15137, 12)"
      ]
     },
     "execution_count": 8,
     "metadata": {},
     "output_type": "execute_result"
    }
   ],
   "source": [
    "orf_metadata_df = orf_metadata_df.query(\"Metadata_pert_type== 'trt'\")\n",
    "orf_metadata_df.shape"
   ]
  },
  {
   "cell_type": "markdown",
   "metadata": {},
   "source": [
    "Separate `BAD CONSTRUCT` "
   ]
  },
  {
   "cell_type": "code",
   "execution_count": 9,
   "metadata": {},
   "outputs": [
    {
     "data": {
      "text/plain": [
       "(1, 13)"
      ]
     },
     "execution_count": 9,
     "metadata": {},
     "output_type": "execute_result"
    }
   ],
   "source": [
    "bad_construct_df = orf_metadata_df.query(\n",
    "    \"Metadata_broad_sample=='BAD CONSTRUCT'\"\n",
    ").assign(Metadata_Approved_Symbol=\"\")\n",
    "bad_construct_df.shape"
   ]
  },
  {
   "cell_type": "code",
   "execution_count": 10,
   "metadata": {},
   "outputs": [
    {
     "data": {
      "text/plain": [
       "(15136, 12)"
      ]
     },
     "execution_count": 10,
     "metadata": {},
     "output_type": "execute_result"
    }
   ],
   "source": [
    "orf_metadata_df = orf_metadata_df.query(\"Metadata_broad_sample!= 'BAD CONSTRUCT'\")\n",
    "orf_metadata_df.shape"
   ]
  },
  {
   "cell_type": "markdown",
   "metadata": {},
   "source": [
    "Separate samples with `nan` in `Metadata_Symbol`"
   ]
  },
  {
   "cell_type": "code",
   "execution_count": 11,
   "metadata": {},
   "outputs": [
    {
     "data": {
      "text/plain": [
       "(34, 13)"
      ]
     },
     "execution_count": 11,
     "metadata": {},
     "output_type": "execute_result"
    }
   ],
   "source": [
    "nan_df = orf_metadata_df.query(\"Metadata_Symbol.isna()\").assign(\n",
    "    Metadata_Approved_Symbol=\"\"\n",
    ")\n",
    "nan_df.shape"
   ]
  },
  {
   "cell_type": "code",
   "execution_count": 12,
   "metadata": {},
   "outputs": [
    {
     "data": {
      "text/plain": [
       "(15102, 12)"
      ]
     },
     "execution_count": 12,
     "metadata": {},
     "output_type": "execute_result"
    }
   ],
   "source": [
    "orf_metadata_df = orf_metadata_df.query(\"Metadata_Symbol.notna()\")\n",
    "orf_metadata_df.shape"
   ]
  },
  {
   "cell_type": "markdown",
   "metadata": {},
   "source": [
    "Identify those genes whose Metadata_Symbol is the same as Approved Symbol"
   ]
  },
  {
   "cell_type": "code",
   "execution_count": 13,
   "metadata": {},
   "outputs": [],
   "source": [
    "orf_merged_approved_symbol_df = orf_metadata_df.merge(\n",
    "    approved_symbol_df,\n",
    "    left_on=\"Metadata_Symbol\",\n",
    "    right_on=\"Metadata_Approved_Symbol\",\n",
    "    how=\"left\",\n",
    "    indicator=True,\n",
    ")"
   ]
  },
  {
   "cell_type": "code",
   "execution_count": 14,
   "metadata": {},
   "outputs": [
    {
     "data": {
      "text/plain": [
       "(464, 12)"
      ]
     },
     "execution_count": 14,
     "metadata": {},
     "output_type": "execute_result"
    }
   ],
   "source": [
    "orf_metadata_df = (\n",
    "    orf_merged_approved_symbol_df.query(\"_merge=='left_only'\")\n",
    "    .drop(\"_merge\", axis=1)\n",
    "    .drop(\"Metadata_Approved_Symbol\", axis=1)\n",
    ")\n",
    "\n",
    "orf_metadata_df.shape"
   ]
  },
  {
   "cell_type": "code",
   "execution_count": 15,
   "metadata": {},
   "outputs": [
    {
     "data": {
      "text/plain": [
       "(14638, 13)"
      ]
     },
     "execution_count": 15,
     "metadata": {},
     "output_type": "execute_result"
    }
   ],
   "source": [
    "orf_merged_approved_symbol_df = orf_merged_approved_symbol_df.query(\n",
    "    \"_merge=='both'\"\n",
    ").drop(\"_merge\", axis=1)\n",
    "\n",
    "orf_merged_approved_symbol_df.shape"
   ]
  },
  {
   "cell_type": "markdown",
   "metadata": {},
   "source": [
    "Check if `Previous_symbols` can match to `Metadata_Symbol` if they can't match to `Approved_Symbol`"
   ]
  },
  {
   "cell_type": "code",
   "execution_count": 16,
   "metadata": {},
   "outputs": [],
   "source": [
    "orf_merged_previous_symbols_df = orf_metadata_df.merge(\n",
    "    previous_symbols_df,\n",
    "    left_on=\"Metadata_Symbol\",\n",
    "    right_on=\"Previous_symbols\",\n",
    "    how=\"left\",\n",
    "    indicator=True,\n",
    ")"
   ]
  },
  {
   "cell_type": "code",
   "execution_count": 17,
   "metadata": {},
   "outputs": [
    {
     "data": {
      "text/plain": [
       "(222, 12)"
      ]
     },
     "execution_count": 17,
     "metadata": {},
     "output_type": "execute_result"
    }
   ],
   "source": [
    "orf_metadata_df = orf_merged_previous_symbols_df.query(\"_merge=='left_only'\").drop(\n",
    "    \"_merge\", axis=1\n",
    ").drop(\"Previous_symbols\", axis=1).drop(\"Metadata_Approved_Symbol\", axis=1)\n",
    "\n",
    "orf_metadata_df.shape"
   ]
  },
  {
   "cell_type": "code",
   "execution_count": 18,
   "metadata": {},
   "outputs": [
    {
     "data": {
      "text/plain": [
       "(242, 13)"
      ]
     },
     "execution_count": 18,
     "metadata": {},
     "output_type": "execute_result"
    }
   ],
   "source": [
    "orf_merged_previous_symbols_df = (\n",
    "    orf_merged_previous_symbols_df.query(\"_merge=='both'\")\n",
    "    .drop(\"_merge\", axis=1)\n",
    "    .drop(\"Previous_symbols\", axis=1)\n",
    ")\n",
    "\n",
    "orf_merged_previous_symbols_df.shape"
   ]
  },
  {
   "cell_type": "markdown",
   "metadata": {},
   "source": [
    "For the remaining, check if `NCBI_Gene_ID` can be used to find the `Approved_Symbol`"
   ]
  },
  {
   "cell_type": "code",
   "execution_count": 19,
   "metadata": {},
   "outputs": [],
   "source": [
    "orf_merged_ncbi_df = orf_metadata_df.merge(\n",
    "    ncbi_df,\n",
    "    left_on=\"Metadata_NCBI_Gene_ID\",\n",
    "    right_on=\"NCBI_Gene_ID\",\n",
    "    how=\"left\",\n",
    "    indicator=True,\n",
    ")"
   ]
  },
  {
   "cell_type": "code",
   "execution_count": 20,
   "metadata": {},
   "outputs": [
    {
     "data": {
      "text/plain": [
       "(179, 13)"
      ]
     },
     "execution_count": 20,
     "metadata": {},
     "output_type": "execute_result"
    }
   ],
   "source": [
    "orf_metadata_df = (\n",
    "    orf_merged_ncbi_df.query(\"_merge=='left_only'\")\n",
    "    .drop(\"_merge\", axis=1)\n",
    "    .drop(\"NCBI_Gene_ID\", axis=1)\n",
    "    .drop(\"Metadata_Approved_Symbol\", axis=1)\n",
    ").assign(Metadata_Approved_Symbol=\"\")\n",
    "\n",
    "orf_metadata_df.shape"
   ]
  },
  {
   "cell_type": "code",
   "execution_count": 21,
   "metadata": {},
   "outputs": [
    {
     "data": {
      "text/plain": [
       "(43, 13)"
      ]
     },
     "execution_count": 21,
     "metadata": {},
     "output_type": "execute_result"
    }
   ],
   "source": [
    "orf_merged_ncbi_df = (\n",
    "    orf_merged_ncbi_df.query(\"_merge=='both'\")\n",
    "    .drop(\"_merge\", axis=1)\n",
    "    .drop(\"NCBI_Gene_ID\", axis=1)\n",
    ")\n",
    "\n",
    "orf_merged_ncbi_df.shape"
   ]
  },
  {
   "cell_type": "markdown",
   "metadata": {},
   "source": [
    "Most genes for which `Approved_Symbol` is `nan` are those with `LOC` in their names. The only ones that don't have `LOC` in their names are the following"
   ]
  },
  {
   "cell_type": "code",
   "execution_count": 22,
   "metadata": {},
   "outputs": [
    {
     "data": {
      "text/html": [
       "<div>\n",
       "<style scoped>\n",
       "    .dataframe tbody tr th:only-of-type {\n",
       "        vertical-align: middle;\n",
       "    }\n",
       "\n",
       "    .dataframe tbody tr th {\n",
       "        vertical-align: top;\n",
       "    }\n",
       "\n",
       "    .dataframe thead th {\n",
       "        text-align: right;\n",
       "    }\n",
       "</style>\n",
       "<table border=\"1\" class=\"dataframe\">\n",
       "  <thead>\n",
       "    <tr style=\"text-align: right;\">\n",
       "      <th></th>\n",
       "      <th>Metadata_JCP2022</th>\n",
       "      <th>Metadata_broad_sample</th>\n",
       "      <th>Metadata_Name</th>\n",
       "      <th>Metadata_Vector</th>\n",
       "      <th>Metadata_Transcript</th>\n",
       "      <th>Metadata_Symbol</th>\n",
       "      <th>Metadata_NCBI_Gene_ID</th>\n",
       "      <th>Metadata_Taxon_ID</th>\n",
       "      <th>Metadata_Gene_Description</th>\n",
       "      <th>Metadata_Prot_Match</th>\n",
       "      <th>Metadata_Insert_Length</th>\n",
       "      <th>Metadata_pert_type</th>\n",
       "      <th>Metadata_Approved_Symbol</th>\n",
       "    </tr>\n",
       "  </thead>\n",
       "  <tbody>\n",
       "    <tr>\n",
       "      <th>5</th>\n",
       "      <td>JCP2022_909414</td>\n",
       "      <td>ccsbBroad304_10113</td>\n",
       "      <td>ORF018302.1_TRC304.1</td>\n",
       "      <td>pLX_304</td>\n",
       "      <td>NM_207422.2</td>\n",
       "      <td>FLJ44635</td>\n",
       "      <td>392490</td>\n",
       "      <td>9606</td>\n",
       "      <td>TPT1-like protein</td>\n",
       "      <td>99.2</td>\n",
       "      <td>420.0</td>\n",
       "      <td>trt</td>\n",
       "      <td></td>\n",
       "    </tr>\n",
       "    <tr>\n",
       "      <th>127</th>\n",
       "      <td>JCP2022_911087</td>\n",
       "      <td>ccsbBroad304_11893</td>\n",
       "      <td>ORF004795.1_TRC304.1</td>\n",
       "      <td>pLX_304</td>\n",
       "      <td>BC035371.1</td>\n",
       "      <td>HSPC047</td>\n",
       "      <td>29060</td>\n",
       "      <td>9606</td>\n",
       "      <td>NaN</td>\n",
       "      <td>NaN</td>\n",
       "      <td>480.0</td>\n",
       "      <td>trt</td>\n",
       "      <td></td>\n",
       "    </tr>\n",
       "    <tr>\n",
       "      <th>129</th>\n",
       "      <td>JCP2022_911256</td>\n",
       "      <td>ccsbBroad304_12072</td>\n",
       "      <td>ORF003338.1_TRC304.1</td>\n",
       "      <td>pLX_304</td>\n",
       "      <td>BC104430.1</td>\n",
       "      <td>DKFZp566H0824</td>\n",
       "      <td>54744</td>\n",
       "      <td>9606</td>\n",
       "      <td>NaN</td>\n",
       "      <td>NaN</td>\n",
       "      <td>360.0</td>\n",
       "      <td>trt</td>\n",
       "      <td></td>\n",
       "    </tr>\n",
       "    <tr>\n",
       "      <th>130</th>\n",
       "      <td>JCP2022_911397</td>\n",
       "      <td>ccsbBroad304_12219</td>\n",
       "      <td>ORF007065.1_TRC304.1</td>\n",
       "      <td>pLX_304</td>\n",
       "      <td>BC019830.1</td>\n",
       "      <td>PRO2012</td>\n",
       "      <td>55478</td>\n",
       "      <td>9606</td>\n",
       "      <td>NaN</td>\n",
       "      <td>NaN</td>\n",
       "      <td>192.0</td>\n",
       "      <td>trt</td>\n",
       "      <td></td>\n",
       "    </tr>\n",
       "    <tr>\n",
       "      <th>133</th>\n",
       "      <td>JCP2022_911981</td>\n",
       "      <td>ccsbBroad304_12852</td>\n",
       "      <td>ORF007953.1_TRC304.1</td>\n",
       "      <td>pLX_304</td>\n",
       "      <td>BC004943.1</td>\n",
       "      <td>MGC10814</td>\n",
       "      <td>84757</td>\n",
       "      <td>9606</td>\n",
       "      <td>NaN</td>\n",
       "      <td>NaN</td>\n",
       "      <td>114.0</td>\n",
       "      <td>trt</td>\n",
       "      <td></td>\n",
       "    </tr>\n",
       "    <tr>\n",
       "      <th>134</th>\n",
       "      <td>JCP2022_911985</td>\n",
       "      <td>ccsbBroad304_12856</td>\n",
       "      <td>ORF015904.1_TRC304.1</td>\n",
       "      <td>pLX_304</td>\n",
       "      <td>BC005072.1</td>\n",
       "      <td>MGC13008</td>\n",
       "      <td>84772</td>\n",
       "      <td>9606</td>\n",
       "      <td>NaN</td>\n",
       "      <td>NaN</td>\n",
       "      <td>171.0</td>\n",
       "      <td>trt</td>\n",
       "      <td></td>\n",
       "    </tr>\n",
       "    <tr>\n",
       "      <th>157</th>\n",
       "      <td>JCP2022_912692</td>\n",
       "      <td>ccsbBroad304_13617</td>\n",
       "      <td>ORF009637.1_TRC304.1</td>\n",
       "      <td>pLX_304</td>\n",
       "      <td>BC032242.1</td>\n",
       "      <td>MGC40069</td>\n",
       "      <td>348035</td>\n",
       "      <td>9606</td>\n",
       "      <td>NaN</td>\n",
       "      <td>NaN</td>\n",
       "      <td>384.0</td>\n",
       "      <td>trt</td>\n",
       "      <td></td>\n",
       "    </tr>\n",
       "    <tr>\n",
       "      <th>167</th>\n",
       "      <td>JCP2022_912757</td>\n",
       "      <td>ccsbBroad304_13688</td>\n",
       "      <td>ORF010332.1_TRC304.1</td>\n",
       "      <td>pLX_304</td>\n",
       "      <td>BC132807.1</td>\n",
       "      <td>FLJ41170</td>\n",
       "      <td>440200</td>\n",
       "      <td>9606</td>\n",
       "      <td>NaN</td>\n",
       "      <td>NaN</td>\n",
       "      <td>573.0</td>\n",
       "      <td>trt</td>\n",
       "      <td></td>\n",
       "    </tr>\n",
       "  </tbody>\n",
       "</table>\n",
       "</div>"
      ],
      "text/plain": [
       "    Metadata_JCP2022 Metadata_broad_sample         Metadata_Name  \\\n",
       "5     JCP2022_909414    ccsbBroad304_10113  ORF018302.1_TRC304.1   \n",
       "127   JCP2022_911087    ccsbBroad304_11893  ORF004795.1_TRC304.1   \n",
       "129   JCP2022_911256    ccsbBroad304_12072  ORF003338.1_TRC304.1   \n",
       "130   JCP2022_911397    ccsbBroad304_12219  ORF007065.1_TRC304.1   \n",
       "133   JCP2022_911981    ccsbBroad304_12852  ORF007953.1_TRC304.1   \n",
       "134   JCP2022_911985    ccsbBroad304_12856  ORF015904.1_TRC304.1   \n",
       "157   JCP2022_912692    ccsbBroad304_13617  ORF009637.1_TRC304.1   \n",
       "167   JCP2022_912757    ccsbBroad304_13688  ORF010332.1_TRC304.1   \n",
       "\n",
       "    Metadata_Vector Metadata_Transcript Metadata_Symbol Metadata_NCBI_Gene_ID  \\\n",
       "5           pLX_304         NM_207422.2        FLJ44635                392490   \n",
       "127         pLX_304          BC035371.1         HSPC047                 29060   \n",
       "129         pLX_304          BC104430.1   DKFZp566H0824                 54744   \n",
       "130         pLX_304          BC019830.1         PRO2012                 55478   \n",
       "133         pLX_304          BC004943.1        MGC10814                 84757   \n",
       "134         pLX_304          BC005072.1        MGC13008                 84772   \n",
       "157         pLX_304          BC032242.1        MGC40069                348035   \n",
       "167         pLX_304          BC132807.1        FLJ41170                440200   \n",
       "\n",
       "    Metadata_Taxon_ID Metadata_Gene_Description  Metadata_Prot_Match  \\\n",
       "5                9606         TPT1-like protein                 99.2   \n",
       "127              9606                       NaN                  NaN   \n",
       "129              9606                       NaN                  NaN   \n",
       "130              9606                       NaN                  NaN   \n",
       "133              9606                       NaN                  NaN   \n",
       "134              9606                       NaN                  NaN   \n",
       "157              9606                       NaN                  NaN   \n",
       "167              9606                       NaN                  NaN   \n",
       "\n",
       "     Metadata_Insert_Length Metadata_pert_type Metadata_Approved_Symbol  \n",
       "5                     420.0                trt                           \n",
       "127                   480.0                trt                           \n",
       "129                   360.0                trt                           \n",
       "130                   192.0                trt                           \n",
       "133                   114.0                trt                           \n",
       "134                   171.0                trt                           \n",
       "157                   384.0                trt                           \n",
       "167                   573.0                trt                           "
      ]
     },
     "execution_count": 22,
     "metadata": {},
     "output_type": "execute_result"
    }
   ],
   "source": [
    "orf_metadata_df.loc[~orf_metadata_df.Metadata_Symbol.str.contains(\"LOC\")]"
   ]
  },
  {
   "cell_type": "markdown",
   "metadata": {},
   "source": [
    "Combining all the dataframes"
   ]
  },
  {
   "cell_type": "code",
   "execution_count": 23,
   "metadata": {},
   "outputs": [
    {
     "data": {
      "text/plain": [
       "(15142, 13)"
      ]
     },
     "execution_count": 23,
     "metadata": {},
     "output_type": "execute_result"
    }
   ],
   "source": [
    "orf_df = (\n",
    "    pd.concat(\n",
    "        [\n",
    "            orf_metadata_df,\n",
    "            bad_construct_df,\n",
    "            negcons_df,\n",
    "            nan_df,\n",
    "            orf_merged_approved_symbol_df,\n",
    "            orf_merged_previous_symbols_df,\n",
    "            orf_merged_ncbi_df,\n",
    "        ],\n",
    "        axis=0,\n",
    "        ignore_index=True,\n",
    "    )\n",
    "    .sort_values(by=\"Metadata_JCP2022\", ascending=True)\n",
    "    .reset_index(drop=True)\n",
    ")\n",
    "\n",
    "orf_df.shape"
   ]
  },
  {
   "cell_type": "markdown",
   "metadata": {},
   "source": [
    "Write to file"
   ]
  },
  {
   "cell_type": "code",
   "execution_count": 24,
   "metadata": {},
   "outputs": [],
   "source": [
    "orf_df.to_csv(\"output/orf.csv.gz\", index=False, compression=\"gzip\")"
   ]
  },
  {
   "cell_type": "markdown",
   "metadata": {},
   "source": [
    "### Add approved symbols to CRISPR gene names"
   ]
  },
  {
   "cell_type": "code",
   "execution_count": 25,
   "metadata": {},
   "outputs": [
    {
     "data": {
      "text/html": [
       "<div>\n",
       "<style scoped>\n",
       "    .dataframe tbody tr th:only-of-type {\n",
       "        vertical-align: middle;\n",
       "    }\n",
       "\n",
       "    .dataframe tbody tr th {\n",
       "        vertical-align: top;\n",
       "    }\n",
       "\n",
       "    .dataframe thead th {\n",
       "        text-align: right;\n",
       "    }\n",
       "</style>\n",
       "<table border=\"1\" class=\"dataframe\">\n",
       "  <thead>\n",
       "    <tr style=\"text-align: right;\">\n",
       "      <th></th>\n",
       "      <th>Metadata_JCP2022</th>\n",
       "      <th>Metadata_NCBI_Gene_ID</th>\n",
       "      <th>Metadata_Symbol</th>\n",
       "    </tr>\n",
       "  </thead>\n",
       "  <tbody>\n",
       "    <tr>\n",
       "      <th>0</th>\n",
       "      <td>JCP2022_800001</td>\n",
       "      <td></td>\n",
       "      <td>no-guide</td>\n",
       "    </tr>\n",
       "    <tr>\n",
       "      <th>1</th>\n",
       "      <td>JCP2022_800002</td>\n",
       "      <td></td>\n",
       "      <td>non-targeting</td>\n",
       "    </tr>\n",
       "    <tr>\n",
       "      <th>2</th>\n",
       "      <td>JCP2022_800003</td>\n",
       "      <td>2</td>\n",
       "      <td>A2M</td>\n",
       "    </tr>\n",
       "    <tr>\n",
       "      <th>3</th>\n",
       "      <td>JCP2022_800004</td>\n",
       "      <td>127550</td>\n",
       "      <td>A3GALT2</td>\n",
       "    </tr>\n",
       "    <tr>\n",
       "      <th>4</th>\n",
       "      <td>JCP2022_800005</td>\n",
       "      <td>53947</td>\n",
       "      <td>A4GALT</td>\n",
       "    </tr>\n",
       "  </tbody>\n",
       "</table>\n",
       "</div>"
      ],
      "text/plain": [
       "  Metadata_JCP2022 Metadata_NCBI_Gene_ID Metadata_Symbol\n",
       "0   JCP2022_800001                              no-guide\n",
       "1   JCP2022_800002                         non-targeting\n",
       "2   JCP2022_800003                     2             A2M\n",
       "3   JCP2022_800004                127550         A3GALT2\n",
       "4   JCP2022_800005                 53947          A4GALT"
      ]
     },
     "execution_count": 25,
     "metadata": {},
     "output_type": "execute_result"
    }
   ],
   "source": [
    "crispr_metadata_df = pd.read_csv(\"../datasets/metadata/crispr.csv.gz\")\n",
    "crispr_metadata_df.Metadata_NCBI_Gene_ID = (\n",
    "    crispr_metadata_df.Metadata_NCBI_Gene_ID.astype(\"Int64\")\n",
    ")\n",
    "crispr_metadata_df.Metadata_NCBI_Gene_ID = (\n",
    "    crispr_metadata_df.Metadata_NCBI_Gene_ID.astype(str)\n",
    ")\n",
    "crispr_metadata_df.replace('<NA>', \"\", inplace=True)\n",
    "crispr_metadata_df.head()"
   ]
  },
  {
   "cell_type": "code",
   "execution_count": 26,
   "metadata": {},
   "outputs": [
    {
     "data": {
      "text/plain": [
       "(7977, 3)"
      ]
     },
     "execution_count": 26,
     "metadata": {},
     "output_type": "execute_result"
    }
   ],
   "source": [
    "crispr_metadata_df.shape"
   ]
  },
  {
   "cell_type": "markdown",
   "metadata": {},
   "source": [
    "Separate negcons since they won't have Approved Symbols"
   ]
  },
  {
   "cell_type": "code",
   "execution_count": 27,
   "metadata": {},
   "outputs": [
    {
     "data": {
      "text/plain": [
       "(2, 4)"
      ]
     },
     "execution_count": 27,
     "metadata": {},
     "output_type": "execute_result"
    }
   ],
   "source": [
    "negcons_df = crispr_metadata_df.query(\"Metadata_NCBI_Gene_ID==''\").assign(\n",
    "    Metadata_Approved_Symbol=\"\"\n",
    ")\n",
    "negcons_df.shape"
   ]
  },
  {
   "cell_type": "code",
   "execution_count": 28,
   "metadata": {},
   "outputs": [
    {
     "data": {
      "text/plain": [
       "(7975, 3)"
      ]
     },
     "execution_count": 28,
     "metadata": {},
     "output_type": "execute_result"
    }
   ],
   "source": [
    "crispr_metadata_df = crispr_metadata_df.query(\"Metadata_NCBI_Gene_ID!=''\")\n",
    "crispr_metadata_df.shape"
   ]
  },
  {
   "cell_type": "markdown",
   "metadata": {},
   "source": [
    "Identify those genes whose Metadata_Symbol is the same as Approved Symbol"
   ]
  },
  {
   "cell_type": "code",
   "execution_count": 29,
   "metadata": {},
   "outputs": [],
   "source": [
    "crispr_merged_approved_symbol_df = crispr_metadata_df.merge(\n",
    "    approved_symbol_df,\n",
    "    left_on=\"Metadata_Symbol\",\n",
    "    right_on=\"Metadata_Approved_Symbol\",\n",
    "    how=\"left\",\n",
    "    indicator=True,\n",
    ")"
   ]
  },
  {
   "cell_type": "code",
   "execution_count": 30,
   "metadata": {},
   "outputs": [
    {
     "data": {
      "text/plain": [
       "(156, 3)"
      ]
     },
     "execution_count": 30,
     "metadata": {},
     "output_type": "execute_result"
    }
   ],
   "source": [
    "crispr_metadata_df = (\n",
    "    crispr_merged_approved_symbol_df.query(\"_merge=='left_only'\")\n",
    "    .drop(\"_merge\", axis=1)\n",
    "    .drop(\"Metadata_Approved_Symbol\", axis=1)\n",
    ")\n",
    "\n",
    "crispr_metadata_df.shape"
   ]
  },
  {
   "cell_type": "code",
   "execution_count": 31,
   "metadata": {},
   "outputs": [
    {
     "data": {
      "text/plain": [
       "(7819, 4)"
      ]
     },
     "execution_count": 31,
     "metadata": {},
     "output_type": "execute_result"
    }
   ],
   "source": [
    "crispr_merged_approved_symbol_df = (\n",
    "    crispr_merged_approved_symbol_df.query(\"_merge=='both'\")\n",
    "    .drop(\"_merge\", axis=1)\n",
    ")\n",
    "\n",
    "crispr_merged_approved_symbol_df.shape"
   ]
  },
  {
   "cell_type": "markdown",
   "metadata": {},
   "source": [
    "Check if `Previous_symbols` can match to `Metadata_Symbol` if they can't match to `Approved_Symbol`"
   ]
  },
  {
   "cell_type": "code",
   "execution_count": 32,
   "metadata": {},
   "outputs": [],
   "source": [
    "crispr_merged_previous_symbols_df = crispr_metadata_df.merge(\n",
    "    previous_symbols_df,\n",
    "    left_on=\"Metadata_Symbol\",\n",
    "    right_on=\"Previous_symbols\",\n",
    "    how=\"left\",\n",
    "    indicator=True,\n",
    ")"
   ]
  },
  {
   "cell_type": "code",
   "execution_count": 33,
   "metadata": {},
   "outputs": [
    {
     "data": {
      "text/plain": [
       "(5, 3)"
      ]
     },
     "execution_count": 33,
     "metadata": {},
     "output_type": "execute_result"
    }
   ],
   "source": [
    "crispr_metadata_df = (\n",
    "    crispr_merged_previous_symbols_df.query(\"_merge=='left_only'\")\n",
    "    .drop(\"_merge\", axis=1)\n",
    "    .drop(\"Previous_symbols\", axis=1)\n",
    "    .drop(\"Metadata_Approved_Symbol\", axis=1)\n",
    ")\n",
    "\n",
    "crispr_metadata_df.shape"
   ]
  },
  {
   "cell_type": "code",
   "execution_count": 34,
   "metadata": {},
   "outputs": [
    {
     "data": {
      "text/plain": [
       "(151, 4)"
      ]
     },
     "execution_count": 34,
     "metadata": {},
     "output_type": "execute_result"
    }
   ],
   "source": [
    "crispr_merged_previous_symbols_df = (\n",
    "    crispr_merged_previous_symbols_df.query(\"_merge=='both'\")\n",
    "    .drop(\"_merge\", axis=1)\n",
    "    .drop(\"Previous_symbols\", axis=1)\n",
    ")\n",
    "\n",
    "crispr_merged_previous_symbols_df.shape"
   ]
  },
  {
   "cell_type": "markdown",
   "metadata": {},
   "source": [
    "For the remaining, check if `NCBI_Gene_ID` can be used to find the `Approved_Symbol`"
   ]
  },
  {
   "cell_type": "code",
   "execution_count": 35,
   "metadata": {},
   "outputs": [],
   "source": [
    "crispr_merged_ncbi_df = crispr_metadata_df.merge(\n",
    "    ncbi_df,\n",
    "    left_on=\"Metadata_NCBI_Gene_ID\",\n",
    "    right_on=\"NCBI_Gene_ID\",\n",
    "    how=\"left\",\n",
    "    indicator=True,\n",
    ")"
   ]
  },
  {
   "cell_type": "code",
   "execution_count": 36,
   "metadata": {},
   "outputs": [
    {
     "data": {
      "text/plain": [
       "(0, 4)"
      ]
     },
     "execution_count": 36,
     "metadata": {},
     "output_type": "execute_result"
    }
   ],
   "source": [
    "crispr_metadata_df = (\n",
    "    crispr_merged_ncbi_df.query(\"_merge=='left_only'\")\n",
    "    .drop(\"_merge\", axis=1)\n",
    "    .drop(\"NCBI_Gene_ID\", axis=1)\n",
    "    .drop(\"Metadata_Approved_Symbol\", axis=1)\n",
    ").assign(Metadata_Approved_Symbol=\"\")\n",
    "\n",
    "crispr_metadata_df.shape"
   ]
  },
  {
   "cell_type": "code",
   "execution_count": 37,
   "metadata": {},
   "outputs": [
    {
     "data": {
      "text/plain": [
       "(5, 4)"
      ]
     },
     "execution_count": 37,
     "metadata": {},
     "output_type": "execute_result"
    }
   ],
   "source": [
    "crispr_merged_ncbi_df = (\n",
    "    crispr_merged_ncbi_df.query(\"_merge=='both'\")\n",
    "    .drop(\"_merge\", axis=1)\n",
    "    .drop(\"NCBI_Gene_ID\", axis=1)\n",
    ")\n",
    "\n",
    "crispr_merged_ncbi_df.shape"
   ]
  },
  {
   "cell_type": "markdown",
   "metadata": {},
   "source": [
    "Combine all the dataframes"
   ]
  },
  {
   "cell_type": "code",
   "execution_count": 38,
   "metadata": {},
   "outputs": [
    {
     "data": {
      "text/plain": [
       "(7977, 4)"
      ]
     },
     "execution_count": 38,
     "metadata": {},
     "output_type": "execute_result"
    }
   ],
   "source": [
    "crispr_df = (\n",
    "    pd.concat(\n",
    "        [\n",
    "            negcons_df,\n",
    "            crispr_merged_approved_symbol_df,\n",
    "            crispr_merged_previous_symbols_df,\n",
    "            crispr_merged_ncbi_df,\n",
    "        ],\n",
    "        axis=0,\n",
    "        ignore_index=True,\n",
    "    )\n",
    "    .sort_values(by=\"Metadata_JCP2022\", ascending=True)\n",
    "    .reset_index(drop=True)\n",
    ")\n",
    "\n",
    "crispr_df.shape"
   ]
  },
  {
   "cell_type": "markdown",
   "metadata": {},
   "source": [
    "Write to file"
   ]
  },
  {
   "cell_type": "code",
   "execution_count": 39,
   "metadata": {},
   "outputs": [],
   "source": [
    "crispr_df.to_csv(\"output/crispr.csv.gz\", index=False, compression=\"gzip\")"
   ]
  }
 ],
 "metadata": {
  "kernelspec": {
   "display_name": "annotations",
   "language": "python",
   "name": "python3"
  },
  "language_info": {
   "codemirror_mode": {
    "name": "ipython",
    "version": 3
   },
   "file_extension": ".py",
   "mimetype": "text/x-python",
   "name": "python",
   "nbconvert_exporter": "python",
   "pygments_lexer": "ipython3",
   "version": "3.10.6"
  }
 },
 "nbformat": 4,
 "nbformat_minor": 2
}
