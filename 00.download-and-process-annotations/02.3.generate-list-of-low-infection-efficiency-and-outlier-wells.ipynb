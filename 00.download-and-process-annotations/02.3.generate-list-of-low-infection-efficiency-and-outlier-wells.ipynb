{
 "cells": [
  {
   "cell_type": "code",
   "execution_count": 1,
   "metadata": {},
   "outputs": [],
   "source": [
    "import pandas as pd\n",
    "import plotly.express as px\n",
    "import numpy as np"
   ]
  },
  {
   "attachments": {},
   "cell_type": "markdown",
   "metadata": {},
   "source": [
    "Create a list of low infection efficiency wells and outlier wells. These wells should be excluded from the analysis."
   ]
  },
  {
   "cell_type": "code",
   "execution_count": 2,
   "metadata": {},
   "outputs": [],
   "source": [
    "# Function for generating the Otsu threshold\n",
    "# Functions from https://bic-berkeley.github.io/psych-214-fall-2016/otsu_threshold.html\n",
    "\n",
    "\n",
    "def ssd(hist, bin_centers):\n",
    "    \"\"\"\n",
    "    Calculates the sum of squared differences between the histogram and the bin centers weighted by the histogram values.\n",
    "    Parameters\n",
    "    ----------\n",
    "        hist : numpy.ndarray\n",
    "            Histogram.\n",
    "        bin_centers : numpy.ndarray\n",
    "            Bin centers.\n",
    "    Returns\n",
    "    -------\n",
    "        float: The sum of squared differences between the histogram and the bin centers weighted by the histogram values.\n",
    "    \"\"\"\n",
    "\n",
    "    n = np.sum(hist)\n",
    "    mu = np.sum(bin_centers * hist) / n\n",
    "    return np.sum(hist * ((bin_centers - mu) ** 2))\n",
    "\n",
    "\n",
    "def otsu_threshold(values):\n",
    "    \"\"\"\n",
    "    Calculates the Otsu threshold.\n",
    "    Parameters\n",
    "    ----------\n",
    "        values : numpy.ndarray\n",
    "            Values.\n",
    "    Returns\n",
    "    -------\n",
    "        float: The Otsu threshold.\n",
    "    \"\"\"\n",
    "    n_bins = 100\n",
    "    hist, bin_edges = np.histogram(values, bins=n_bins)\n",
    "    bin_centers = bin_edges[:-1] + np.diff(bin_edges) / 2\n",
    "\n",
    "    total_ssds = []\n",
    "\n",
    "    for bin in range(1, n_bins):\n",
    "        left_ssd = ssd(hist[:bin], bin_centers[:bin])\n",
    "        right_ssd = ssd(hist[bin:], bin_centers[bin:])\n",
    "        total_ssds.append(left_ssd + right_ssd)\n",
    "\n",
    "    z = np.argmin(total_ssds)\n",
    "    threshold = bin_centers[z]\n",
    "    return threshold"
   ]
  },
  {
   "cell_type": "code",
   "execution_count": 3,
   "metadata": {},
   "outputs": [
    {
     "data": {
      "text/html": [
       "<div>\n",
       "<style scoped>\n",
       "    .dataframe tbody tr th:only-of-type {\n",
       "        vertical-align: middle;\n",
       "    }\n",
       "\n",
       "    .dataframe tbody tr th {\n",
       "        vertical-align: top;\n",
       "    }\n",
       "\n",
       "    .dataframe thead th {\n",
       "        text-align: right;\n",
       "    }\n",
       "</style>\n",
       "<table border=\"1\" class=\"dataframe\">\n",
       "  <thead>\n",
       "    <tr style=\"text-align: right;\">\n",
       "      <th></th>\n",
       "      <th>Metadata_plate_map_name</th>\n",
       "      <th>Metadata_Well</th>\n",
       "      <th>Metadata_broad_sample</th>\n",
       "      <th>Metadata_Minus_Avg_Background</th>\n",
       "    </tr>\n",
       "  </thead>\n",
       "  <tbody>\n",
       "    <tr>\n",
       "      <th>0</th>\n",
       "      <td>OAB84.85.86.87.A</td>\n",
       "      <td>A01</td>\n",
       "      <td>ccsbBroad304_08631</td>\n",
       "      <td>0.825173</td>\n",
       "    </tr>\n",
       "    <tr>\n",
       "      <th>1</th>\n",
       "      <td>OAB84.85.86.87.A</td>\n",
       "      <td>A02</td>\n",
       "      <td>ccsbBroad304_06113</td>\n",
       "      <td>0.891887</td>\n",
       "    </tr>\n",
       "    <tr>\n",
       "      <th>2</th>\n",
       "      <td>OAB84.85.86.87.A</td>\n",
       "      <td>A03</td>\n",
       "      <td>ccsbBroad304_08850</td>\n",
       "      <td>0.520294</td>\n",
       "    </tr>\n",
       "    <tr>\n",
       "      <th>3</th>\n",
       "      <td>OAB84.85.86.87.A</td>\n",
       "      <td>A04</td>\n",
       "      <td>EMPTY</td>\n",
       "      <td>0.005996</td>\n",
       "    </tr>\n",
       "    <tr>\n",
       "      <th>4</th>\n",
       "      <td>OAB84.85.86.87.A</td>\n",
       "      <td>A05</td>\n",
       "      <td>ccsbBroad304_13853</td>\n",
       "      <td>0.938145</td>\n",
       "    </tr>\n",
       "  </tbody>\n",
       "</table>\n",
       "</div>"
      ],
      "text/plain": [
       "  Metadata_plate_map_name Metadata_Well Metadata_broad_sample  \\\n",
       "0        OAB84.85.86.87.A           A01    ccsbBroad304_08631   \n",
       "1        OAB84.85.86.87.A           A02    ccsbBroad304_06113   \n",
       "2        OAB84.85.86.87.A           A03    ccsbBroad304_08850   \n",
       "3        OAB84.85.86.87.A           A04                 EMPTY   \n",
       "4        OAB84.85.86.87.A           A05    ccsbBroad304_13853   \n",
       "\n",
       "   Metadata_Minus_Avg_Background  \n",
       "0                       0.825173  \n",
       "1                       0.891887  \n",
       "2                       0.520294  \n",
       "3                       0.005996  \n",
       "4                       0.938145  "
      ]
     },
     "execution_count": 3,
     "metadata": {},
     "output_type": "execute_result"
    }
   ],
   "source": [
    "# Read infection efficiency data\n",
    "\n",
    "inf_eff_df_all = pd.read_csv(\n",
    "    \"output/gpp-infection-efficiencies.csv.gz\",\n",
    "    usecols=[\n",
    "        \"Plate_name\",\n",
    "        \"Well\",\n",
    "        \"broad_sample\",\n",
    "        \"Minus_Avg_Background\",\n",
    "    ],\n",
    ").rename(\n",
    "    columns={\n",
    "        \"broad_sample\": \"Metadata_broad_sample\",\n",
    "        \"Plate_name\": \"Metadata_plate_map_name\",\n",
    "        \"Well\": \"Metadata_Well\",\n",
    "        \"Minus_Avg_Background\": \"Metadata_Minus_Avg_Background\",\n",
    "    }\n",
    ")\n",
    "\n",
    "inf_eff_df_all.head()"
   ]
  },
  {
   "cell_type": "code",
   "execution_count": 4,
   "metadata": {},
   "outputs": [
    {
     "name": "stdout",
     "output_type": "stream",
     "text": [
      "0.4732191320151499\n"
     ]
    }
   ],
   "source": [
    "# Calculate Otsu threshold\n",
    "\n",
    "# filter out outliers\n",
    "\n",
    "temp_df = inf_eff_df_all.query(\"Metadata_Minus_Avg_Background < 2\")\n",
    "\n",
    "otsu_threshold_value = otsu_threshold(temp_df.Metadata_Minus_Avg_Background.values)\n",
    "print(otsu_threshold_value)"
   ]
  },
  {
   "cell_type": "code",
   "execution_count": 5,
   "metadata": {},
   "outputs": [
    {
     "data": {
      "text/plain": [
       "(2042, 4)"
      ]
     },
     "execution_count": 5,
     "metadata": {},
     "output_type": "execute_result"
    }
   ],
   "source": [
    "# Filter out wells with low infection efficiency and outliers.\n",
    "\n",
    "inf_eff_df_filtered = inf_eff_df_all.query(\n",
    "    \"Metadata_Minus_Avg_Background < @otsu_threshold_value or Metadata_Minus_Avg_Background > 2\"\n",
    ")\n",
    "\n",
    "inf_eff_df_filtered.shape"
   ]
  },
  {
   "cell_type": "code",
   "execution_count": 6,
   "metadata": {},
   "outputs": [
    {
     "data": {
      "text/html": [
       "<div>\n",
       "<style scoped>\n",
       "    .dataframe tbody tr th:only-of-type {\n",
       "        vertical-align: middle;\n",
       "    }\n",
       "\n",
       "    .dataframe tbody tr th {\n",
       "        vertical-align: top;\n",
       "    }\n",
       "\n",
       "    .dataframe thead th {\n",
       "        text-align: right;\n",
       "    }\n",
       "</style>\n",
       "<table border=\"1\" class=\"dataframe\">\n",
       "  <thead>\n",
       "    <tr style=\"text-align: right;\">\n",
       "      <th></th>\n",
       "      <th>Metadata_plate_map_name</th>\n",
       "      <th>Metadata_Well</th>\n",
       "      <th>Metadata_broad_sample</th>\n",
       "      <th>Metadata_Minus_Avg_Background</th>\n",
       "    </tr>\n",
       "  </thead>\n",
       "  <tbody>\n",
       "    <tr>\n",
       "      <th>4608</th>\n",
       "      <td>OAB41.OAC17.OAB78.79.A</td>\n",
       "      <td>A01</td>\n",
       "      <td>ccsbBroad304_13635</td>\n",
       "      <td>0.715532</td>\n",
       "    </tr>\n",
       "    <tr>\n",
       "      <th>4609</th>\n",
       "      <td>OAB41.OAC17.OAB78.79.A</td>\n",
       "      <td>A02</td>\n",
       "      <td>ccsbBroad304_11304</td>\n",
       "      <td>0.873497</td>\n",
       "    </tr>\n",
       "    <tr>\n",
       "      <th>4610</th>\n",
       "      <td>OAB41.OAC17.OAB78.79.A</td>\n",
       "      <td>A03</td>\n",
       "      <td>ccsbBroad304_08447</td>\n",
       "      <td>0.985337</td>\n",
       "    </tr>\n",
       "    <tr>\n",
       "      <th>4611</th>\n",
       "      <td>OAB41.OAC17.OAB78.79.A</td>\n",
       "      <td>A04</td>\n",
       "      <td>ccsbBroad304_03004</td>\n",
       "      <td>0.908971</td>\n",
       "    </tr>\n",
       "    <tr>\n",
       "      <th>4612</th>\n",
       "      <td>OAB41.OAC17.OAB78.79.A</td>\n",
       "      <td>A05</td>\n",
       "      <td>EMPTY</td>\n",
       "      <td>-0.075809</td>\n",
       "    </tr>\n",
       "  </tbody>\n",
       "</table>\n",
       "</div>"
      ],
      "text/plain": [
       "     Metadata_plate_map_name Metadata_Well Metadata_broad_sample  \\\n",
       "4608  OAB41.OAC17.OAB78.79.A           A01    ccsbBroad304_13635   \n",
       "4609  OAB41.OAC17.OAB78.79.A           A02    ccsbBroad304_11304   \n",
       "4610  OAB41.OAC17.OAB78.79.A           A03    ccsbBroad304_08447   \n",
       "4611  OAB41.OAC17.OAB78.79.A           A04    ccsbBroad304_03004   \n",
       "4612  OAB41.OAC17.OAB78.79.A           A05                 EMPTY   \n",
       "\n",
       "      Metadata_Minus_Avg_Background  \n",
       "4608                       0.715532  \n",
       "4609                       0.873497  \n",
       "4610                       0.985337  \n",
       "4611                       0.908971  \n",
       "4612                      -0.075809  "
      ]
     },
     "execution_count": 6,
     "metadata": {},
     "output_type": "execute_result"
    }
   ],
   "source": [
    "# Filter out reagents in the platemap `OAB41.OAC17.OAB78.79.A` because of some `EMPTY` wells showing high infection efficiency\n",
    "\n",
    "inf_eff_df_all_empty_high_infection_efficiency = inf_eff_df_all.query(\n",
    "    \"Metadata_plate_map_name == 'OAB41.OAC17.OAB78.79.A'\"\n",
    ")\n",
    "\n",
    "inf_eff_df_all_empty_high_infection_efficiency.head()"
   ]
  },
  {
   "cell_type": "code",
   "execution_count": 7,
   "metadata": {},
   "outputs": [
    {
     "data": {
      "text/plain": [
       "(2397, 4)"
      ]
     },
     "execution_count": 7,
     "metadata": {},
     "output_type": "execute_result"
    }
   ],
   "source": [
    "inf_eff_df_filtered = (\n",
    "    pd.concat([inf_eff_df_filtered, inf_eff_df_all_empty_high_infection_efficiency], ignore_index=True)\n",
    "    .drop_duplicates()\n",
    ")\n",
    "inf_eff_df_filtered.shape"
   ]
  },
  {
   "cell_type": "code",
   "execution_count": 8,
   "metadata": {},
   "outputs": [],
   "source": [
    "# Write filtered data to file\n",
    "\n",
    "inf_eff_df_filtered.to_csv(\n",
    "    \"output/orf-reagents-low-infection-efficiency-and-outliers.csv.gz\", index=False\n",
    ")"
   ]
  }
 ],
 "metadata": {
  "kernelspec": {
   "display_name": "orf-annotations",
   "language": "python",
   "name": "python3"
  },
  "language_info": {
   "codemirror_mode": {
    "name": "ipython",
    "version": 3
   },
   "file_extension": ".py",
   "mimetype": "text/x-python",
   "name": "python",
   "nbconvert_exporter": "python",
   "pygments_lexer": "ipython3",
   "version": "3.10.6"
  },
  "orig_nbformat": 4
 },
 "nbformat": 4,
 "nbformat_minor": 2
}
