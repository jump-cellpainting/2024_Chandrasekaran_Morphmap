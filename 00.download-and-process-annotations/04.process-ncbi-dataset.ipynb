{
 "cells": [
  {
   "cell_type": "code",
   "execution_count": 1,
   "metadata": {},
   "outputs": [],
   "source": [
    "import pandas as pd"
   ]
  },
  {
   "cell_type": "code",
   "execution_count": 2,
   "metadata": {},
   "outputs": [
    {
     "data": {
      "text/html": [
       "<div>\n",
       "<style scoped>\n",
       "    .dataframe tbody tr th:only-of-type {\n",
       "        vertical-align: middle;\n",
       "    }\n",
       "\n",
       "    .dataframe tbody tr th {\n",
       "        vertical-align: top;\n",
       "    }\n",
       "\n",
       "    .dataframe thead th {\n",
       "        text-align: right;\n",
       "    }\n",
       "</style>\n",
       "<table border=\"1\" class=\"dataframe\">\n",
       "  <thead>\n",
       "    <tr style=\"text-align: right;\">\n",
       "      <th></th>\n",
       "      <th>NCBI GeneID</th>\n",
       "      <th>Symbol</th>\n",
       "      <th>Description</th>\n",
       "      <th>Common Name</th>\n",
       "      <th>Transcripts</th>\n",
       "    </tr>\n",
       "  </thead>\n",
       "  <tbody>\n",
       "    <tr>\n",
       "      <th>0</th>\n",
       "      <td>7157</td>\n",
       "      <td>TP53</td>\n",
       "      <td>tumor protein p53</td>\n",
       "      <td>human</td>\n",
       "      <td>26.0</td>\n",
       "    </tr>\n",
       "    <tr>\n",
       "      <th>1</th>\n",
       "      <td>1956</td>\n",
       "      <td>EGFR</td>\n",
       "      <td>epidermal growth factor receptor</td>\n",
       "      <td>human</td>\n",
       "      <td>13.0</td>\n",
       "    </tr>\n",
       "    <tr>\n",
       "      <th>2</th>\n",
       "      <td>7124</td>\n",
       "      <td>TNF</td>\n",
       "      <td>tumor necrosis factor</td>\n",
       "      <td>human</td>\n",
       "      <td>1.0</td>\n",
       "    </tr>\n",
       "    <tr>\n",
       "      <th>3</th>\n",
       "      <td>348</td>\n",
       "      <td>APOE</td>\n",
       "      <td>apolipoprotein E</td>\n",
       "      <td>human</td>\n",
       "      <td>5.0</td>\n",
       "    </tr>\n",
       "    <tr>\n",
       "      <th>4</th>\n",
       "      <td>7422</td>\n",
       "      <td>VEGFA</td>\n",
       "      <td>vascular endothelial growth factor A</td>\n",
       "      <td>human</td>\n",
       "      <td>20.0</td>\n",
       "    </tr>\n",
       "  </tbody>\n",
       "</table>\n",
       "</div>"
      ],
      "text/plain": [
       "   NCBI GeneID Symbol                           Description Common Name  \\\n",
       "0         7157   TP53                     tumor protein p53       human   \n",
       "1         1956   EGFR      epidermal growth factor receptor       human   \n",
       "2         7124    TNF                 tumor necrosis factor       human   \n",
       "3          348   APOE                      apolipoprotein E       human   \n",
       "4         7422  VEGFA  vascular endothelial growth factor A       human   \n",
       "\n",
       "   Transcripts  \n",
       "0         26.0  \n",
       "1         13.0  \n",
       "2          1.0  \n",
       "3          5.0  \n",
       "4         20.0  "
      ]
     },
     "execution_count": 2,
     "metadata": {},
     "output_type": "execute_result"
    }
   ],
   "source": [
    "ncbi_df = pd.read_csv(\"input/ncbi_dataset.tsv\", sep=\"\\t\")\n",
    "ncbi_df.head()"
   ]
  },
  {
   "cell_type": "code",
   "execution_count": 3,
   "metadata": {},
   "outputs": [],
   "source": [
    "ncbi_df = (\n",
    "    ncbi_df.rename(\n",
    "        columns={\n",
    "            \"NCBI GeneID\": \"NCBI_Gene_ID\",\n",
    "            \"Symbol\": \"Approved_Symbol\",\n",
    "        }\n",
    "    )\n",
    ")[[\"NCBI_Gene_ID\", \"Approved_Symbol\"]]"
   ]
  },
  {
   "cell_type": "code",
   "execution_count": 4,
   "metadata": {},
   "outputs": [],
   "source": [
    "ncbi_df.to_csv(\"output/ncbi_dataset_processed.tsv\", sep=\"\\t\", index=False)"
   ]
  }
 ],
 "metadata": {
  "kernelspec": {
   "display_name": "annotations",
   "language": "python",
   "name": "python3"
  },
  "language_info": {
   "codemirror_mode": {
    "name": "ipython",
    "version": 3
   },
   "file_extension": ".py",
   "mimetype": "text/x-python",
   "name": "python",
   "nbconvert_exporter": "python",
   "pygments_lexer": "ipython3",
   "version": "3.10.6"
  }
 },
 "nbformat": 4,
 "nbformat_minor": 2
}
