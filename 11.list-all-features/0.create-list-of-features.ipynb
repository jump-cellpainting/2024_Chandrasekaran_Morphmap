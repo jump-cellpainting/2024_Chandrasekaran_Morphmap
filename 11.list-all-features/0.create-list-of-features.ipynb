{
 "cells": [
  {
   "cell_type": "code",
   "execution_count": 1,
   "metadata": {},
   "outputs": [],
   "source": [
    "import pandas as pd\n",
    "import utils"
   ]
  },
  {
   "cell_type": "code",
   "execution_count": 2,
   "metadata": {},
   "outputs": [],
   "source": [
    "filenames = {\n",
    "    \"orf\": \"BR00117035\",\n",
    "    \"crispr\": \"CP-CC9-R1-01\"\n",
    "}"
   ]
  },
  {
   "cell_type": "code",
   "execution_count": 3,
   "metadata": {},
   "outputs": [],
   "source": [
    "for modality in filenames:\n",
    "    df = pd.read_csv(f\"../profiles/{filenames[modality]}.csv\")\n",
    "    feature_columns = utils.get_featurecols(df)\n",
    "    \n",
    "    with open(f\"output/feature_list_{modality}.txt.gz\", \"w\") as f:\n",
    "        f.write(\"\\n\".join(feature_columns) + \"\\n\")"
   ]
  }
 ],
 "metadata": {
  "kernelspec": {
   "display_name": "feature-wise",
   "language": "python",
   "name": "python3"
  },
  "language_info": {
   "codemirror_mode": {
    "name": "ipython",
    "version": 3
   },
   "file_extension": ".py",
   "mimetype": "text/x-python",
   "name": "python",
   "nbconvert_exporter": "python",
   "pygments_lexer": "ipython3",
   "version": "3.10.6"
  }
 },
 "nbformat": 4,
 "nbformat_minor": 2
}
