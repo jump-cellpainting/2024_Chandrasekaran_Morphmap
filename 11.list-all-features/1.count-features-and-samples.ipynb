{
 "cells": [
  {
   "cell_type": "code",
   "execution_count": 1,
   "metadata": {},
   "outputs": [],
   "source": [
    "import pandas as pd"
   ]
  },
  {
   "cell_type": "markdown",
   "metadata": {},
   "source": [
    "In this notebook, the number of wells and features are counted. The profiles are not downloaded directly to repo but are stored outside the repo.\n",
    "\n",
    "```bash\n",
    "mkdir ../../orf_profiles\n",
    "mkdir ../../crispr_profiles\n",
    "aws s3 sync s3://cellpainting-gallery/cpg0016-jump-assembled/source_all/workspace/profiles/jump-profiling-recipe_2024_a917fa7/ORF/profiles_wellpos_cc_var_mad_outlier_featselect_sphering_harmony/ ../../orf_profiles/\n",
    "aws s3 sync s3://cellpainting-gallery/cpg0016-jump-assembled/source_all/workspace/profiles/jump-profiling-recipe_2024_a917fa7/CRISPR/profiles_wellpos_cc_var_mad_outlier_featselect_sphering_harmony_PCA_corrected/ ../../crispr_profiles/\n",
    "```"
   ]
  },
  {
   "cell_type": "code",
   "execution_count": 2,
   "metadata": {},
   "outputs": [],
   "source": [
    "def get_featurecols(df):\n",
    "    \"\"\"return a list of featuredata columns\"\"\"\n",
    "    return [c for c in df.columns if not c.startswith(\"Metadata\")]"
   ]
  },
  {
   "cell_type": "code",
   "execution_count": 3,
   "metadata": {},
   "outputs": [],
   "source": [
    "orf_profiles = {\n",
    "    \"well-level\": \"profiles\",\n",
    "    \"well-layout-corrected\": \"profiles_wellpos\",\n",
    "    \"cell-count-regressed\": \"profiles_wellpos_cc\",\n",
    "    \"Low-variance-features-removed\": \"profiles_wellpos_cc_var\",\n",
    "    \"normalized\": \"profiles_wellpos_cc_var_mad\",\n",
    "    \"outlier-features-removed\": \"profiles_wellpos_cc_var_mad_outlier\",\n",
    "    \"feature-selected\": \"profiles_wellpos_cc_var_mad_outlier_featselect\",\n",
    "    \"sphered\": \"profiles_wellpos_cc_var_mad_outlier_featselect_sphering\",\n",
    "    \"batch-corrected\": \"profiles_wellpos_cc_var_mad_outlier_featselect_sphering_harmony\"\n",
    "}"
   ]
  },
  {
   "cell_type": "code",
   "execution_count": 4,
   "metadata": {},
   "outputs": [],
   "source": [
    "crispr_profiles = {\n",
    "    \"well-level\": \"profiles\",\n",
    "    \"well-layout-corrected\": \"profiles_wellpos\",\n",
    "    \"cell-count-regressed\": \"profiles_wellpos_cc\",\n",
    "    \"Low-variance-features-removed\": \"profiles_wellpos_cc_var\",\n",
    "    \"normalized\": \"profiles_wellpos_cc_var_mad\",\n",
    "    \"outlier-features-removed\": \"profiles_wellpos_cc_var_mad_outlier\",\n",
    "    \"feature-selected\": \"profiles_wellpos_cc_var_mad_outlier_featselect\",\n",
    "    \"sphered\": \"profiles_wellpos_cc_var_mad_outlier_featselect_sphering\",\n",
    "    \"batch-corrected\": \"profiles_wellpos_cc_var_mad_outlier_featselect_sphering_harmony\",\n",
    "    \"PCA-dimension-reduced\": \"profiles_wellpos_cc_var_mad_outlier_featselect_sphering_harmony_PCA\",\n",
    "    \"CRISPR-profiles\": \"profiles_wellpos_cc_var_mad_outlier_featselect_sphering_harmony_PCA_corrected\"\n",
    "}"
   ]
  },
  {
   "cell_type": "code",
   "execution_count": 5,
   "metadata": {},
   "outputs": [],
   "source": [
    "table_df = pd.DataFrame()\n",
    "\n",
    "for level in orf_profiles.keys():\n",
    "    parquet_file_name = f\"{orf_profiles[level]}.parquet\"\n",
    "    df = pd.read_parquet(f\"../../orf_profiles/{parquet_file_name}\")\n",
    "    table_df = pd.concat(\n",
    "        [\n",
    "            table_df,\n",
    "            pd.DataFrame(\n",
    "                {\n",
    "                    \"modality\": [\"ORF\"],\n",
    "                    \"level\": [level],\n",
    "                    \"num_features\": [len(get_featurecols(df))],\n",
    "                    \"num_samples\": [len(df)],\n",
    "                }\n",
    "            ),\n",
    "        ],\n",
    "        ignore_index=True,\n",
    "    )\n",
    "\n",
    "# From ../03.retrieve-annotations/0.0.phenotypic-activity-orf.ipynb, after removing empty wells and low infection efficiency wells, there are 74273 wells.\n",
    "\n",
    "table_df = pd.concat(\n",
    "    [\n",
    "        table_df,\n",
    "        pd.DataFrame(\n",
    "            {\n",
    "                \"modality\": [\"ORF\"],\n",
    "                \"level\": [\"ORF-profiles\"],\n",
    "                \"num_features\": [722],\n",
    "                \"num_samples\": [74273],\n",
    "            },\n",
    "        ),\n",
    "    ],\n",
    "    ignore_index=True,\n",
    ")"
   ]
  },
  {
   "cell_type": "code",
   "execution_count": 6,
   "metadata": {},
   "outputs": [],
   "source": [
    "for level in crispr_profiles.keys():\n",
    "    parquet_file_name = f\"{crispr_profiles[level]}.parquet\"\n",
    "    df = pd.read_parquet(f\"../../crispr_profiles/{parquet_file_name}\")\n",
    "    table_df = pd.concat(\n",
    "        [\n",
    "            table_df,\n",
    "            pd.DataFrame(\n",
    "                {\n",
    "                    \"modality\": [\"CRISPR\"],\n",
    "                    \"level\": [level],\n",
    "                    \"num_features\": [len(get_featurecols(df))],\n",
    "                    \"num_samples\": [len(df)],\n",
    "                }\n",
    "            ),\n",
    "        ],\n",
    "        ignore_index=True,\n",
    "    )"
   ]
  },
  {
   "cell_type": "code",
   "execution_count": 7,
   "metadata": {},
   "outputs": [
    {
     "name": "stdout",
     "output_type": "stream",
     "text": [
      "| modality   | level                         |   num_features |   num_samples |\n",
      "|:-----------|:------------------------------|---------------:|--------------:|\n",
      "| ORF        | well-level                    |           3673 |         81663 |\n",
      "| ORF        | well-layout-corrected         |           3673 |         81660 |\n",
      "| ORF        | cell-count-regressed          |           3674 |         81660 |\n",
      "| ORF        | Low-variance-features-removed |           3649 |         81660 |\n",
      "| ORF        | normalized                    |           3649 |         81660 |\n",
      "| ORF        | outlier-features-removed      |           3636 |         81660 |\n",
      "| ORF        | feature-selected              |            722 |         81660 |\n",
      "| ORF        | sphered                       |            722 |         81660 |\n",
      "| ORF        | batch-corrected               |            722 |         81660 |\n",
      "| ORF        | ORF-profiles                  |            722 |         74273 |\n",
      "| CRISPR     | well-level                    |           3673 |         51185 |\n",
      "| CRISPR     | well-layout-corrected         |           3673 |         51185 |\n",
      "| CRISPR     | cell-count-regressed          |           3672 |         51185 |\n",
      "| CRISPR     | Low-variance-features-removed |           3652 |         51185 |\n",
      "| CRISPR     | normalized                    |           3652 |         51185 |\n",
      "| CRISPR     | outlier-features-removed      |           3651 |         51185 |\n",
      "| CRISPR     | feature-selected              |            599 |         51185 |\n",
      "| CRISPR     | sphered                       |            599 |         51185 |\n",
      "| CRISPR     | batch-corrected               |            599 |         51185 |\n",
      "| CRISPR     | PCA-dimension-reduced         |            259 |         51185 |\n",
      "| CRISPR     | CRISPR-profiles               |            259 |         51185 |\n"
     ]
    }
   ],
   "source": [
    "print(table_df.to_markdown(index=False))"
   ]
  }
 ],
 "metadata": {
  "kernelspec": {
   "display_name": "list-features",
   "language": "python",
   "name": "python3"
  },
  "language_info": {
   "codemirror_mode": {
    "name": "ipython",
    "version": 3
   },
   "file_extension": ".py",
   "mimetype": "text/x-python",
   "name": "python",
   "nbconvert_exporter": "python",
   "pygments_lexer": "ipython3",
   "version": "3.10.6"
  }
 },
 "nbformat": 4,
 "nbformat_minor": 2
}
