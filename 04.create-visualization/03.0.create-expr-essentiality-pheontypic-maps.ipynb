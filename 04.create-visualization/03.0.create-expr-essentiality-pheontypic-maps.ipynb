{
 "cells": [
  {
   "cell_type": "code",
   "execution_count": 55,
   "id": "e4bc93b8-9d37-4fa2-a4fc-aa75e85255a7",
   "metadata": {},
   "outputs": [],
   "source": [
    "import pandas as pd\n",
    "from umap import UMAP\n",
    "import seaborn as sns\n",
    "import matplotlib.pyplot as plt\n",
    "import utils\n",
    "import os\n",
    "import re\n",
    "import numpy as np\n",
    "\n",
    "import plotly.express as px\n",
    "import plotly.graph_objects as go\n",
    "import plotly.io as pio\n",
    "\n",
    "pio.templates.default = \"simple_white\""
   ]
  },
  {
   "cell_type": "markdown",
   "id": "8da03a39-248e-4c4d-b162-f96d31fd4ef4",
   "metadata": {},
   "source": [
    "## Load Phenotypic Profiles & UMAPs"
   ]
  },
  {
   "cell_type": "code",
   "execution_count": 2,
   "id": "97c1f3d3-b4ab-44c0-8ad4-bc3468935b1a",
   "metadata": {},
   "outputs": [],
   "source": [
    "operations = {\n",
    "    \"orf\": \"wellpos_cc_var_mad_outlier_featselect_sphering_harmony\",\n",
    "    \"crispr\": \"wellpos_cc_var_mad_outlier_featselect_sphering_harmony_PCA_corrected\"\n",
    "}"
   ]
  },
  {
   "cell_type": "code",
   "execution_count": 37,
   "id": "f5a83f7a-018e-4062-b5f5-26af4d5e687c",
   "metadata": {},
   "outputs": [],
   "source": [
    "orf_metadata_df = pd.read_table(f'../00.download-and-process-annotations/output/orf_metadata.tsv.gz')[[\"Metadata_JCP2022\",\"Metadata_NCBI_Gene_ID\"]]\n",
    "#orf_metadata_df['Metadata_NCBI_Gene_ID']=orf_metadata_df['Metadata_NCBI_Gene_ID'].apply('{:g}'.format)\n",
    "crispr_metadata_df = pd.read_table(f'../00.download-and-process-annotations/output/crispr_metadata.tsv.gz')[[\"Metadata_JCP2022\",\"Metadata_NCBI_Gene_ID\"]]\n",
    "crispr_metadata_df['Metadata_NCBI_Gene_ID']=crispr_metadata_df['Metadata_NCBI_Gene_ID'].apply('{:g}'.format)"
   ]
  },
  {
   "cell_type": "code",
   "execution_count": 3,
   "id": "cae2e964-e3dc-4f5c-b4f7-f7fd28079661",
   "metadata": {},
   "outputs": [
    {
     "data": {
      "text/plain": [
       "(81660, 726)"
      ]
     },
     "execution_count": 3,
     "metadata": {},
     "output_type": "execute_result"
    }
   ],
   "source": [
    "orf_profiles_df = pd.read_parquet(f'../profiles/profiles_{operations[\"orf\"]}.parquet')\n",
    "orf_profiles_df.shape\n",
    "\n",
    "crispr_profiles_df = pd.read_parquet(f'../profiles/profiles_{operations[\"crispr\"]}.parquet')\n",
    "crispr_profiles_df.shape"
   ]
  },
  {
   "cell_type": "code",
   "execution_count": 5,
   "id": "742d063e-6048-4303-9215-dea349b9a269",
   "metadata": {},
   "outputs": [],
   "source": [
    "orf_phenotypic_activity_df = pd.read_csv(\n",
    "    f'../03.retrieve-annotations/output/phenotypic-activity-{operations[\"orf\"]}.csv.gz',\n",
    "    usecols=[\"Metadata_JCP2022\", \"below_corrected_p\"],\n",
    ").rename(columns={\"below_corrected_p\": \"Metadata_below_corrected_p\"})\n",
    "cripsr_phenotypic_activity_df = pd.read_csv(\n",
    "    f'../03.retrieve-annotations/output/phenotypic-activity-{operations[\"crispr\"]}.csv.gz',\n",
    "    usecols=[\"Metadata_JCP2022\", \"below_corrected_p\"],\n",
    ").rename(columns={\"below_corrected_p\": \"Metadata_below_corrected_p\"})"
   ]
  },
  {
   "cell_type": "code",
   "execution_count": 6,
   "id": "a9ce63d3-7ec1-48e3-ba4f-0841a360a78b",
   "metadata": {},
   "outputs": [
    {
     "data": {
      "text/plain": [
       "(39350, 727)"
      ]
     },
     "execution_count": 6,
     "metadata": {},
     "output_type": "execute_result"
    }
   ],
   "source": [
    "orf_profiles_df = orf_profiles_df.merge(\n",
    "    orf_phenotypic_activity_df, on=\"Metadata_JCP2022\", how=\"inner\"\n",
    ").query(\"Metadata_below_corrected_p==True\")\n",
    "orf_profiles_df.shape\n",
    "crispr_profiles_df = crispr_profiles_df.merge(\n",
    "    cripsr_phenotypic_activity_df, on=\"Metadata_JCP2022\", how=\"inner\"\n",
    ").query(\"Metadata_below_corrected_p==True\")\n",
    "crispr_profiles_df.shape"
   ]
  },
  {
   "cell_type": "code",
   "execution_count": 7,
   "id": "a398b6bb-7f1a-436e-afd5-436cf9e45088",
   "metadata": {},
   "outputs": [
    {
     "data": {
      "text/plain": [
       "(29909, 264)"
      ]
     },
     "execution_count": 7,
     "metadata": {},
     "output_type": "execute_result"
    }
   ],
   "source": [
    "if os.path.isfile(f\"output/orf-umap-{operations['orf']}-phenotypic-activity.csv.gz\"):\n",
    "    orf_projection_2d = np.loadtxt(\n",
    "        f\"output/orf-umap-{operations['orf']}-phenotypic-activity.csv.gz\", delimiter=\",\"\n",
    "    )\n",
    "else:\n",
    "    raise NameError('There is no UMAP embedding for ORF. Please generate it firstly.')\n",
    "\n",
    "if os.path.isfile(f\"output/crispr-umap-{operations['crispr']}-phenotypic-activity.csv.gz\"):\n",
    "    crispr_projection_2d = np.loadtxt(\n",
    "        f\"output/crispr-umap-{operations['crispr']}-phenotypic-activity.csv.gz\", delimiter=\",\"\n",
    "    )\n",
    "else:\n",
    "    raise NameError('There is no UMAP embedding for CRISPR. Please generate it firstly.')\n",
    "\n",
    "#X = utils.get_featuredata(orf_profiles_df)\n",
    "#orf_projection_2d = UMAP(n_components=2, random_state=12527).fit_transform(X)\n",
    "orf_profiles_df[\"umap 1\"] = orf_projection_2d[:, :1].flatten()\n",
    "orf_profiles_df[\"umap 2\"] = orf_projection_2d[:, 1:2].flatten()\n",
    "\n",
    "#X = utils.get_featuredata(crispr_profiles_df)\n",
    "#crispr_projection_2d = UMAP(n_components=2, random_state=12527).fit_transform(X)\n",
    "crispr_profiles_df[\"umap 1\"] = crispr_projection_2d[:, :1].flatten()\n",
    "crispr_profiles_df[\"umap 2\"] = crispr_projection_2d[:, 1:2].flatten()"
   ]
  },
  {
   "cell_type": "code",
   "execution_count": 49,
   "id": "e43a7222-acd2-47a1-95ee-36e53886c408",
   "metadata": {},
   "outputs": [],
   "source": [
    "orf_profiles_df = orf_profiles_df[['Metadata_JCP2022','umap 1', 'umap 2']].merge(orf_metadata_df, on=\"Metadata_JCP2022\")"
   ]
  },
  {
   "cell_type": "code",
   "execution_count": 48,
   "id": "d6fc5b9b-cdb2-4148-90e7-4f8fdc8c9ebb",
   "metadata": {},
   "outputs": [],
   "source": [
    "crispr_profiles_df = crispr_profiles_df[['Metadata_JCP2022','umap 1', 'umap 2']].merge(crispr_metadata_df, on=\"Metadata_JCP2022\")"
   ]
  },
  {
   "cell_type": "markdown",
   "id": "95000ff0-a9e8-427f-a41b-395eebb9d3d9",
   "metadata": {},
   "source": [
    "## Load U2OS data"
   ]
  },
  {
   "cell_type": "code",
   "execution_count": 52,
   "id": "097eec3e-e5c5-49e4-a42f-1ddb4abba326",
   "metadata": {},
   "outputs": [],
   "source": [
    "# Source: https://depmap.org/portal/download/all/\n",
    "df_dm_effects = pd.read_csv(\"../00.download-and-process-annotations/output/CRISPRGeneEffect_U2OS.csv.gz\")\n",
    "#df_dm_dependency = pd.read_csv(\"../00.download-and-process-annotations/output/CRISPRGeneDependency_U2OS.csv.gz\")\n",
    "df_dm_xpr= pd.read_csv(\"../00.download-and-process-annotations/output/OmicsExpressionProteinCodingGenesTPMLogp1_U2OS.csv.gz\")\n",
    "df_dm = df_dm_effects.merge(df_dm_xpr[[\"geneID\",\"TPM\"]],on=\"geneID\", how=\"inner\")\n",
    "df_dm.columns = [\"GeneID\",\"GeneSymbol\",\"essentiality\",\"expr\"]\n",
    "df_dm['GeneID'] = df_dm['GeneID'].astype(str)"
   ]
  },
  {
   "cell_type": "code",
   "execution_count": 54,
   "id": "71f10f6c-8882-4cd0-8354-dc58fe9d1eb5",
   "metadata": {},
   "outputs": [],
   "source": [
    "orf_u2os_omics_df = orf_profiles_df.merge(df_dm, left_on='Metadata_NCBI_Gene_ID', right_on ='GeneID' )\n",
    "crispr_u2os_omics_df = crispr_profiles_df.merge(df_dm, left_on='Metadata_NCBI_Gene_ID', right_on ='GeneID' )"
   ]
  },
  {
   "cell_type": "markdown",
   "id": "cd84674c-2167-4c0a-b204-765da21f0b12",
   "metadata": {},
   "source": [
    "## Plots"
   ]
  },
  {
   "cell_type": "code",
   "execution_count": 87,
   "id": "3190a95f-c593-4a20-b8da-04224008c1b1",
   "metadata": {},
   "outputs": [],
   "source": [
    "fig = px.scatter(crispr_u2os_omics_df, x='umap 1', y='umap 2', color=\"essentiality\",\n",
    "                 title='Phenotypic CRISPRs Map vs. Pooled CRISPR Effect', \n",
    "                 width=900, height=600, size_max=5, range_color=[-3.77,0.6],\n",
    "                  color_continuous_scale = 'Hot',\n",
    "                labels={'essentiality':'DepMap CRISPR Gene Effect',\n",
    "                       'umap 1':'UMAP 1',\n",
    "                       'umap 2':'UMAP 2'})\n",
    "fig.update_traces(marker=dict(size=5), opacity=0.2,\n",
    "              selector=dict(mode='markers'))\n",
    "fig.update_layout(yaxis_range=[-5,8], xaxis_range=[-5,10])\n",
    "fig.update_layout(\n",
    "    font=dict(\n",
    "        size=24,  # Set the font size here\n",
    "    )\n",
    ")\n",
    "\n",
    "fig.write_image(\"figures/crispr_umap_phenotypic_vs_depmap_crispr_gene_effect.png\")\n"
   ]
  },
  {
   "cell_type": "code",
   "execution_count": 88,
   "id": "06180771-1fad-4a8b-9f08-0adb8e737b1c",
   "metadata": {},
   "outputs": [],
   "source": [
    "fig = px.scatter(orf_u2os_omics_df, x='umap 1', y='umap 2', color=\"essentiality\",\n",
    "                 title='Phenotypic ORFs Map vs. Pooled CRISPR Effect', \n",
    "                 width=900, height=600, size_max=5, range_color=[-3.77,0.6],\n",
    "                  color_continuous_scale = 'Hot',\n",
    "                labels={'essentiality':'DepMap KO Effect',\n",
    "                       'umap 1':'UMAP 1',\n",
    "                       'umap 2':'UMAP 2'})\n",
    "fig.update_traces(marker=dict(size=5), opacity=0.2,\n",
    "              selector=dict(mode='markers'))\n",
    "fig.update_layout(yaxis_range=[-5,8], xaxis_range=[-5,10])\n",
    "fig.update_layout(\n",
    "    font=dict(\n",
    "        size=24,  # Set the font size here\n",
    "    )\n",
    ")\n",
    "\n",
    "fig.write_image(\"figures/orf_umap_phenotypic_vs_depmap_crispr_gene_effect.png\")"
   ]
  },
  {
   "cell_type": "code",
   "execution_count": 89,
   "id": "8b9b0154-978c-4acc-89a6-a71fdd8976f4",
   "metadata": {},
   "outputs": [],
   "source": [
    "fig = px.scatter(crispr_u2os_omics_df.loc[orf_u2os_omics_df.expr>(-1)], x='umap 1', y='umap 2', color=\"expr\",\n",
    "                 title='Phenotypic CRISPRs Map vs. U2OS Gene Expression',\n",
    "                 width=900, height=600, size_max=5, range_color=[0,13],\n",
    "                 color_continuous_scale = 'Purples',\n",
    "                labels={'expr':'log(TPM)',\n",
    "                       'umap 1':'UMAP 1',\n",
    "                       'umap 2':'UMAP 2'})\n",
    "fig.update_traces(marker=dict(size=5), opacity=0.2,\n",
    "              selector=dict(mode='markers'))\n",
    "fig.update_layout(yaxis_range=[-5,8], xaxis_range=[-5,10])\n",
    "fig.update_layout(\n",
    "    font=dict(\n",
    "        size=24,  # Set the font size here\n",
    "    )\n",
    ")\n",
    "\n",
    "fig.write_image(\"figures/crispr_umap_phenotypic_vs_u2os_gene_expression.png\")"
   ]
  },
  {
   "cell_type": "code",
   "execution_count": 90,
   "id": "633f084f-8f75-41d3-9d52-9d618d74db78",
   "metadata": {},
   "outputs": [],
   "source": [
    "fig = px.scatter(orf_u2os_omics_df.loc[orf_u2os_omics_df.expr>(-1)], x='umap 1', y='umap 2', color=\"expr\",\n",
    "                 title='Phenotypic ORFs Map vs. U2OS Gene Expression',\n",
    "                 width=900, height=600, size_max=5, range_color=[0,13],\n",
    "                 color_continuous_scale = 'Purples',\n",
    "                labels={'expr':'log(TPM)',\n",
    "                       'umap 1':'UMAP 1',\n",
    "                       'umap 2':'UMAP 2'})\n",
    "fig.update_traces(marker=dict(size=5), opacity=0.2,\n",
    "              selector=dict(mode='markers'))\n",
    "fig.update_layout(yaxis_range=[-5,8], xaxis_range=[-5,10])\n",
    "fig.update_layout(\n",
    "    font=dict(\n",
    "        size=24,  # Set the font size here\n",
    "    )\n",
    ")\n",
    "\n",
    "fig.write_image(\"figures/orf_umap_phenotypic_vs_u2os_gene_expression.png\")"
   ]
  }
 ],
 "metadata": {
  "kernelspec": {
   "display_name": "Python 3 (ipykernel)",
   "language": "python",
   "name": "python3"
  },
  "language_info": {
   "codemirror_mode": {
    "name": "ipython",
    "version": 3
   },
   "file_extension": ".py",
   "mimetype": "text/x-python",
   "name": "python",
   "nbconvert_exporter": "python",
   "pygments_lexer": "ipython3",
   "version": "3.11.4"
  }
 },
 "nbformat": 4,
 "nbformat_minor": 5
}
