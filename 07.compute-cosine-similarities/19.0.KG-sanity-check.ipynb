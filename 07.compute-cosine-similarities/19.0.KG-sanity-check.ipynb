{
 "cells": [
  {
   "cell_type": "code",
   "execution_count": 1,
   "metadata": {},
   "outputs": [],
   "source": [
    "import pandas as pd"
   ]
  },
  {
   "cell_type": "markdown",
   "metadata": {},
   "source": [
    "Quickly check the knowledge graph values for some pairs of genes."
   ]
  },
  {
   "cell_type": "code",
   "execution_count": 2,
   "metadata": {},
   "outputs": [],
   "source": [
    "# Add knowledge graph information and filter out any connections with low knowledge graph scores\n",
    "\n",
    "knowledge_graph = pd.read_csv(\n",
    "    \"~/Downloads/orf_scores_merged.zip\",\n",
    "    sep=\"\\t\",\n",
    "    usecols=[\"GENE1\", \"GENE2\", \"gene_mf__go\", \"gene_bp__go\", \"gene_pathway\"],\n",
    ").rename(\n",
    "    columns={\n",
    "        \"GENE1\": \"gene_1\",\n",
    "        \"GENE2\": \"gene_2\",\n",
    "        \"gene_mf__go\": \"gene_mf\",\n",
    "        \"gene_bp__go\": \"gene_bp\",\n",
    "    }\n",
    ")"
   ]
  },
  {
   "cell_type": "code",
   "execution_count": 3,
   "metadata": {},
   "outputs": [],
   "source": [
    "query = \"gene_1 == 'CNN1' & gene_2 == 'CNN2' | gene_1 == 'CORO2B' & gene_2 == 'CORO2A' | gene_1 == 'VGLL3' & gene_2 == 'VGLL4'\""
   ]
  },
  {
   "cell_type": "code",
   "execution_count": 4,
   "metadata": {},
   "outputs": [
    {
     "name": "stdout",
     "output_type": "stream",
     "text": [
      "| gene_1   | gene_2   |   gene_mf |   gene_bp |   gene_pathway |\n",
      "|:---------|:---------|----------:|----------:|---------------:|\n",
      "| CNN1     | CNN2     |     0.259 |     0.286 |          0.31  |\n",
      "| CORO2B   | CORO2A   |     0.343 |     0.236 |          0.187 |\n",
      "| VGLL3    | VGLL4    |     0.064 |     0.081 |          0.088 |\n"
     ]
    }
   ],
   "source": [
    "print(knowledge_graph.query(query).to_markdown(index=False))"
   ]
  }
 ],
 "metadata": {
  "kernelspec": {
   "display_name": "similarity",
   "language": "python",
   "name": "python3"
  },
  "language_info": {
   "codemirror_mode": {
    "name": "ipython",
    "version": 3
   },
   "file_extension": ".py",
   "mimetype": "text/x-python",
   "name": "python",
   "nbconvert_exporter": "python",
   "pygments_lexer": "ipython3",
   "version": "3.10.6"
  }
 },
 "nbformat": 4,
 "nbformat_minor": 2
}
