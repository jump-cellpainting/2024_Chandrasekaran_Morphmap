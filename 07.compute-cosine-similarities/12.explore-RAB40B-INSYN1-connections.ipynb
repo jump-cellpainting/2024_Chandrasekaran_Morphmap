{
 "cells": [
  {
   "cell_type": "code",
   "execution_count": 1,
   "metadata": {},
   "outputs": [],
   "source": [
    "import pandas as pd\n",
    "import numpy as np\n",
    "import seaborn as sns\n",
    "import matplotlib.pyplot as plt\n",
    "import utils"
   ]
  },
  {
   "cell_type": "markdown",
   "metadata": {},
   "source": [
    "### ORF"
   ]
  },
  {
   "cell_type": "code",
   "execution_count": 2,
   "metadata": {},
   "outputs": [],
   "source": [
    "# Read ORF cosine similarities\n",
    "\n",
    "orf_similarity_percentile_df = pd.read_parquet('cos_sim/cosine_similarities_percentile_genes_orf.parquet')"
   ]
  },
  {
   "cell_type": "code",
   "execution_count": 3,
   "metadata": {},
   "outputs": [],
   "source": [
    "# Genes of interest\n",
    "genes = [\"INSYN1\", \"PIK3R3\",\"RAB40B\", \"RAB40C\"]"
   ]
  },
  {
   "cell_type": "code",
   "execution_count": 4,
   "metadata": {},
   "outputs": [
    {
     "data": {
      "text/html": [
       "<div>\n",
       "<style scoped>\n",
       "    .dataframe tbody tr th:only-of-type {\n",
       "        vertical-align: middle;\n",
       "    }\n",
       "\n",
       "    .dataframe tbody tr th {\n",
       "        vertical-align: top;\n",
       "    }\n",
       "\n",
       "    .dataframe thead th {\n",
       "        text-align: right;\n",
       "    }\n",
       "</style>\n",
       "<table border=\"1\" class=\"dataframe\">\n",
       "  <thead>\n",
       "    <tr style=\"text-align: right;\">\n",
       "      <th></th>\n",
       "      <th>gene_1</th>\n",
       "      <th>gene_2</th>\n",
       "      <th>percentile</th>\n",
       "    </tr>\n",
       "  </thead>\n",
       "  <tbody>\n",
       "    <tr>\n",
       "      <th>0</th>\n",
       "      <td>A4GALT</td>\n",
       "      <td>INSYN1</td>\n",
       "      <td>0.097016</td>\n",
       "    </tr>\n",
       "    <tr>\n",
       "      <th>1</th>\n",
       "      <td>A4GALT</td>\n",
       "      <td>PIK3R3</td>\n",
       "      <td>0.870580</td>\n",
       "    </tr>\n",
       "    <tr>\n",
       "      <th>2</th>\n",
       "      <td>A4GALT</td>\n",
       "      <td>RAB40B</td>\n",
       "      <td>0.236004</td>\n",
       "    </tr>\n",
       "    <tr>\n",
       "      <th>3</th>\n",
       "      <td>A4GALT</td>\n",
       "      <td>RAB40C</td>\n",
       "      <td>0.380576</td>\n",
       "    </tr>\n",
       "    <tr>\n",
       "      <th>4</th>\n",
       "      <td>A4GNT</td>\n",
       "      <td>INSYN1</td>\n",
       "      <td>0.155635</td>\n",
       "    </tr>\n",
       "  </tbody>\n",
       "</table>\n",
       "</div>"
      ],
      "text/plain": [
       "   gene_1  gene_2  percentile\n",
       "0  A4GALT  INSYN1    0.097016\n",
       "1  A4GALT  PIK3R3    0.870580\n",
       "2  A4GALT  RAB40B    0.236004\n",
       "3  A4GALT  RAB40C    0.380576\n",
       "4   A4GNT  INSYN1    0.155635"
      ]
     },
     "execution_count": 4,
     "metadata": {},
     "output_type": "execute_result"
    }
   ],
   "source": [
    "# Identify connections between genes of interest and all other genes\n",
    "\n",
    "connections_df = orf_similarity_percentile_df[genes]\n",
    "\n",
    "connections_df =connections_df.stack().reset_index().rename(columns={0:\"percentile\"})\n",
    "\n",
    "connections_df = pd.concat(\n",
    "    [\n",
    "        connections_df,\n",
    "        connections_df.rename(columns={\"gene_1\": \"gene_2\", \"gene_2\": \"gene_1\"}),\n",
    "    ],\n",
    "    ignore_index=True,\n",
    ").drop_duplicates()\n",
    "\n",
    "connections_df.head()"
   ]
  },
  {
   "cell_type": "code",
   "execution_count": 5,
   "metadata": {},
   "outputs": [],
   "source": [
    "# Add knowledge graph information and filter out any connections with low knowledge graph scores\n",
    "\n",
    "knowledge_graph = pd.read_csv(\n",
    "    \"~/Downloads/orf_scores_merged.zip\",\n",
    "    sep=\"\\t\",\n",
    "    usecols=[\"GENE1\", \"GENE2\", \"gene_mf__go\", \"gene_bp__go\", \"gene_pathway\"],\n",
    ").rename(\n",
    "    columns={\n",
    "        \"GENE1\": \"gene_1\",\n",
    "        \"GENE2\": \"gene_2\",\n",
    "        \"gene_mf__go\": \"gene_mf\",\n",
    "        \"gene_bp__go\": \"gene_bp\",\n",
    "    }\n",
    ")\n",
    "\n",
    "knowledge_graph = pd.concat(\n",
    "    [\n",
    "        knowledge_graph,\n",
    "        knowledge_graph.rename(columns={\"gene_1\": \"gene_2\", \"gene_2\": \"gene_1\"}),\n",
    "    ],\n",
    "    ignore_index=True,\n",
    ")\n",
    "\n",
    "knowledge_graph = (\n",
    "    knowledge_graph.assign(gene_kg=lambda x: np.max(\n",
    "            x[[\"gene_mf\", \"gene_bp\", \"gene_pathway\"]].abs(), axis=1\n",
    "        )\n",
    "    )\n",
    "    .drop(columns=[\"gene_mf\", \"gene_bp\", \"gene_pathway\"])\n",
    ")\n",
    "\n",
    "connections_df = connections_df.merge(\n",
    "    knowledge_graph, on=[\"gene_1\", \"gene_2\"], how=\"left\"\n",
    ")\n",
    "\n",
    "connections_df = connections_df.query(\"gene_kg<0.4\")"
   ]
  },
  {
   "cell_type": "code",
   "execution_count": 6,
   "metadata": {},
   "outputs": [
    {
     "name": "stdout",
     "output_type": "stream",
     "text": [
      "['ZFP36L1', 'INSYN1']\n",
      "['HOXC8', 'PIK3R3']\n",
      "['NRBP1', 'RAB40B']\n",
      "['NRBP1', 'RAB40C']\n"
     ]
    }
   ],
   "source": [
    "# Find the most similar genes for each ORF gene group (based on the cosine similarity percentile)\n",
    "\n",
    "gene_list = []\n",
    "\n",
    "for gene in genes:\n",
    "    temp = connections_df.query(\"gene_1 == @gene\").nlargest(columns=\"percentile\", n=1)[\n",
    "        \"gene_2\"\n",
    "    ].to_list() + [gene]\n",
    "    print(temp)\n",
    "    gene_list.append(temp)\n",
    "\n",
    "top_similar = np.unique(np.asarray(gene_list).flatten())\n",
    "\n",
    "df = orf_similarity_percentile_df.loc[top_similar, top_similar]\n",
    "\n",
    "for gene in top_similar:\n",
    "    df.loc[gene, gene] = 1"
   ]
  },
  {
   "cell_type": "code",
   "execution_count": 7,
   "metadata": {},
   "outputs": [],
   "source": [
    "kg_df = (\n",
    "    knowledge_graph[[\"gene_1\", \"gene_2\", \"gene_kg\"]]\n",
    "    .drop_duplicates()\n",
    "    .pivot(columns=\"gene_1\", index=\"gene_2\", values=\"gene_kg\")\n",
    "    .loc[top_similar, top_similar]\n",
    "    .fillna(1)\n",
    ")"
   ]
  },
  {
   "cell_type": "code",
   "execution_count": 8,
   "metadata": {},
   "outputs": [
    {
     "data": {
      "image/png": "[encoded data removed]",
      "text/plain": [
       "<Figure size 450x450 with 3 Axes>"
      ]
     },
     "metadata": {},
     "output_type": "display_data"
    }
   ],
   "source": [
    "# Plot the heatmap\n",
    "\n",
    "n_row = df.shape[0]\n",
    "n_col = df.shape[1]\n",
    "fig_width = n_row * 0.5 + 1\n",
    "fig_height = n_col * 0.5 + 1\n",
    "\n",
    "g = sns.clustermap(\n",
    "    df,\n",
    "    cmap=\"RdBu\",\n",
    "    vmin=0,\n",
    "    vmax=1,\n",
    "    dendrogram_ratio=(0.1, 0.1),\n",
    "    figsize=(fig_width, fig_height),\n",
    "    cbar_pos=None,\n",
    ")\n",
    "\n",
    "clustermap_df = g.data2d\n",
    "\n",
    "for i in range(len(clustermap_df)):\n",
    "    for j in range(len(clustermap_df.columns)):\n",
    "        gene_1 = clustermap_df.index[i]\n",
    "        gene_2 = clustermap_df.columns[j]\n",
    "        kg_gene_pair = kg_df.loc[gene_1, gene_2]\n",
    "        text = f\"{kg_gene_pair}\"\n",
    "        x = j + 0.5  # Center the text horizontally\n",
    "        y = i + 0.5  # Center the text vertically\n",
    "\n",
    "        text_color = (\n",
    "            \"white\"\n",
    "            if clustermap_df.values[i, j] > 0.75 or clustermap_df.values[i, j] < 0.25\n",
    "            else \"black\"\n",
    "        )\n",
    "\n",
    "        g.ax_heatmap.text(x, y, text, ha=\"center\", va=\"center\", color=text_color, fontdict={\"size\": 8})\n",
    "\n",
    "g.ax_heatmap.set_xlabel(\"\")\n",
    "g.ax_heatmap.set_ylabel(\"\")\n",
    "\n",
    "plt.savefig(f\"figures/ORF-connections-{'-'.join(top_similar)}.png\", dpi=300)\n",
    "plt.savefig(f\"figures/ORF-connections-{'-'.join(top_similar)}.svg\", dpi=300)"
   ]
  },
  {
   "cell_type": "code",
   "execution_count": 9,
   "metadata": {},
   "outputs": [
    {
     "data": {
      "text/html": [
       "<div>\n",
       "<style scoped>\n",
       "    .dataframe tbody tr th:only-of-type {\n",
       "        vertical-align: middle;\n",
       "    }\n",
       "\n",
       "    .dataframe tbody tr th {\n",
       "        vertical-align: top;\n",
       "    }\n",
       "\n",
       "    .dataframe thead th {\n",
       "        text-align: right;\n",
       "    }\n",
       "</style>\n",
       "<table border=\"1\" class=\"dataframe\">\n",
       "  <thead>\n",
       "    <tr style=\"text-align: right;\">\n",
       "      <th></th>\n",
       "      <th>Metadata_Source</th>\n",
       "      <th>Metadata_Plate</th>\n",
       "      <th>Metadata_Well</th>\n",
       "      <th>Metadata_JCP2022</th>\n",
       "      <th>Metadata_Symbol</th>\n",
       "      <th>Cells_AreaShape_Area</th>\n",
       "      <th>Cells_AreaShape_BoundingBoxArea</th>\n",
       "      <th>Cells_AreaShape_BoundingBoxMaximum_X</th>\n",
       "      <th>Cells_AreaShape_BoundingBoxMaximum_Y</th>\n",
       "      <th>Cells_AreaShape_BoundingBoxMinimum_X</th>\n",
       "      <th>...</th>\n",
       "      <th>Nuclei_Texture_Variance_RNA_10_02_256</th>\n",
       "      <th>Nuclei_Texture_Variance_RNA_10_03_256</th>\n",
       "      <th>Nuclei_Texture_Variance_RNA_3_00_256</th>\n",
       "      <th>Nuclei_Texture_Variance_RNA_3_01_256</th>\n",
       "      <th>Nuclei_Texture_Variance_RNA_3_02_256</th>\n",
       "      <th>Nuclei_Texture_Variance_RNA_3_03_256</th>\n",
       "      <th>Nuclei_Texture_Variance_RNA_5_00_256</th>\n",
       "      <th>Nuclei_Texture_Variance_RNA_5_01_256</th>\n",
       "      <th>Nuclei_Texture_Variance_RNA_5_02_256</th>\n",
       "      <th>Nuclei_Texture_Variance_RNA_5_03_256</th>\n",
       "    </tr>\n",
       "  </thead>\n",
       "  <tbody>\n",
       "    <tr>\n",
       "      <th>0</th>\n",
       "      <td>source_4</td>\n",
       "      <td>BR00121543</td>\n",
       "      <td>F05</td>\n",
       "      <td>JCP2022_900163</td>\n",
       "      <td>ZFP36L1</td>\n",
       "      <td>3.955000</td>\n",
       "      <td>8.235318</td>\n",
       "      <td>1.270378</td>\n",
       "      <td>2.040468</td>\n",
       "      <td>-0.046642</td>\n",
       "      <td>...</td>\n",
       "      <td>-1.505443</td>\n",
       "      <td>-1.541903</td>\n",
       "      <td>-1.383331</td>\n",
       "      <td>-1.367944</td>\n",
       "      <td>-1.369245</td>\n",
       "      <td>-1.385039</td>\n",
       "      <td>-1.381209</td>\n",
       "      <td>-1.368575</td>\n",
       "      <td>-1.368981</td>\n",
       "      <td>-1.455232</td>\n",
       "    </tr>\n",
       "    <tr>\n",
       "      <th>1</th>\n",
       "      <td>source_4</td>\n",
       "      <td>BR00123506</td>\n",
       "      <td>A11</td>\n",
       "      <td>JCP2022_906775</td>\n",
       "      <td>PIK3R3</td>\n",
       "      <td>-0.621158</td>\n",
       "      <td>0.344063</td>\n",
       "      <td>-0.871332</td>\n",
       "      <td>0.201460</td>\n",
       "      <td>-0.726466</td>\n",
       "      <td>...</td>\n",
       "      <td>1.288419</td>\n",
       "      <td>1.269413</td>\n",
       "      <td>1.269578</td>\n",
       "      <td>1.283547</td>\n",
       "      <td>1.268461</td>\n",
       "      <td>1.277935</td>\n",
       "      <td>1.282709</td>\n",
       "      <td>1.291205</td>\n",
       "      <td>1.280402</td>\n",
       "      <td>1.286843</td>\n",
       "    </tr>\n",
       "    <tr>\n",
       "      <th>2</th>\n",
       "      <td>source_4</td>\n",
       "      <td>BR00123526</td>\n",
       "      <td>M07</td>\n",
       "      <td>JCP2022_902925</td>\n",
       "      <td>NRBP1</td>\n",
       "      <td>-1.076419</td>\n",
       "      <td>-2.816711</td>\n",
       "      <td>0.221198</td>\n",
       "      <td>-1.777022</td>\n",
       "      <td>0.667677</td>\n",
       "      <td>...</td>\n",
       "      <td>1.296320</td>\n",
       "      <td>1.413859</td>\n",
       "      <td>1.376445</td>\n",
       "      <td>1.404406</td>\n",
       "      <td>1.430520</td>\n",
       "      <td>1.366660</td>\n",
       "      <td>1.317328</td>\n",
       "      <td>1.331847</td>\n",
       "      <td>1.386126</td>\n",
       "      <td>1.300114</td>\n",
       "    </tr>\n",
       "    <tr>\n",
       "      <th>3</th>\n",
       "      <td>source_4</td>\n",
       "      <td>BR00124781</td>\n",
       "      <td>N02</td>\n",
       "      <td>JCP2022_914070</td>\n",
       "      <td>NRBP1</td>\n",
       "      <td>-2.939544</td>\n",
       "      <td>-4.788945</td>\n",
       "      <td>0.369239</td>\n",
       "      <td>0.215277</td>\n",
       "      <td>0.872623</td>\n",
       "      <td>...</td>\n",
       "      <td>1.156265</td>\n",
       "      <td>1.174280</td>\n",
       "      <td>1.293464</td>\n",
       "      <td>1.239962</td>\n",
       "      <td>1.295648</td>\n",
       "      <td>1.266921</td>\n",
       "      <td>1.262969</td>\n",
       "      <td>1.139859</td>\n",
       "      <td>1.263777</td>\n",
       "      <td>1.233728</td>\n",
       "    </tr>\n",
       "    <tr>\n",
       "      <th>4</th>\n",
       "      <td>source_4</td>\n",
       "      <td>BR00124781</td>\n",
       "      <td>D21</td>\n",
       "      <td>JCP2022_913920</td>\n",
       "      <td>PIK3R3</td>\n",
       "      <td>0.260605</td>\n",
       "      <td>2.182515</td>\n",
       "      <td>0.773805</td>\n",
       "      <td>0.739552</td>\n",
       "      <td>0.479118</td>\n",
       "      <td>...</td>\n",
       "      <td>-2.802833</td>\n",
       "      <td>-2.904818</td>\n",
       "      <td>-2.850760</td>\n",
       "      <td>-2.915220</td>\n",
       "      <td>-2.921134</td>\n",
       "      <td>-2.916915</td>\n",
       "      <td>-2.857152</td>\n",
       "      <td>-2.884443</td>\n",
       "      <td>-2.959167</td>\n",
       "      <td>-2.922632</td>\n",
       "    </tr>\n",
       "  </tbody>\n",
       "</table>\n",
       "<p>5 rows × 3641 columns</p>\n",
       "</div>"
      ],
      "text/plain": [
       "  Metadata_Source Metadata_Plate Metadata_Well Metadata_JCP2022  \\\n",
       "0        source_4     BR00121543           F05   JCP2022_900163   \n",
       "1        source_4     BR00123506           A11   JCP2022_906775   \n",
       "2        source_4     BR00123526           M07   JCP2022_902925   \n",
       "3        source_4     BR00124781           N02   JCP2022_914070   \n",
       "4        source_4     BR00124781           D21   JCP2022_913920   \n",
       "\n",
       "  Metadata_Symbol  Cells_AreaShape_Area  Cells_AreaShape_BoundingBoxArea  \\\n",
       "0         ZFP36L1              3.955000                         8.235318   \n",
       "1          PIK3R3             -0.621158                         0.344063   \n",
       "2           NRBP1             -1.076419                        -2.816711   \n",
       "3           NRBP1             -2.939544                        -4.788945   \n",
       "4          PIK3R3              0.260605                         2.182515   \n",
       "\n",
       "   Cells_AreaShape_BoundingBoxMaximum_X  Cells_AreaShape_BoundingBoxMaximum_Y  \\\n",
       "0                              1.270378                              2.040468   \n",
       "1                             -0.871332                              0.201460   \n",
       "2                              0.221198                             -1.777022   \n",
       "3                              0.369239                              0.215277   \n",
       "4                              0.773805                              0.739552   \n",
       "\n",
       "   Cells_AreaShape_BoundingBoxMinimum_X  ...  \\\n",
       "0                             -0.046642  ...   \n",
       "1                             -0.726466  ...   \n",
       "2                              0.667677  ...   \n",
       "3                              0.872623  ...   \n",
       "4                              0.479118  ...   \n",
       "\n",
       "   Nuclei_Texture_Variance_RNA_10_02_256  \\\n",
       "0                              -1.505443   \n",
       "1                               1.288419   \n",
       "2                               1.296320   \n",
       "3                               1.156265   \n",
       "4                              -2.802833   \n",
       "\n",
       "   Nuclei_Texture_Variance_RNA_10_03_256  \\\n",
       "0                              -1.541903   \n",
       "1                               1.269413   \n",
       "2                               1.413859   \n",
       "3                               1.174280   \n",
       "4                              -2.904818   \n",
       "\n",
       "   Nuclei_Texture_Variance_RNA_3_00_256  Nuclei_Texture_Variance_RNA_3_01_256  \\\n",
       "0                             -1.383331                             -1.367944   \n",
       "1                              1.269578                              1.283547   \n",
       "2                              1.376445                              1.404406   \n",
       "3                              1.293464                              1.239962   \n",
       "4                             -2.850760                             -2.915220   \n",
       "\n",
       "   Nuclei_Texture_Variance_RNA_3_02_256  Nuclei_Texture_Variance_RNA_3_03_256  \\\n",
       "0                             -1.369245                             -1.385039   \n",
       "1                              1.268461                              1.277935   \n",
       "2                              1.430520                              1.366660   \n",
       "3                              1.295648                              1.266921   \n",
       "4                             -2.921134                             -2.916915   \n",
       "\n",
       "   Nuclei_Texture_Variance_RNA_5_00_256  Nuclei_Texture_Variance_RNA_5_01_256  \\\n",
       "0                             -1.381209                             -1.368575   \n",
       "1                              1.282709                              1.291205   \n",
       "2                              1.317328                              1.331847   \n",
       "3                              1.262969                              1.139859   \n",
       "4                             -2.857152                             -2.884443   \n",
       "\n",
       "   Nuclei_Texture_Variance_RNA_5_02_256  Nuclei_Texture_Variance_RNA_5_03_256  \n",
       "0                             -1.368981                             -1.455232  \n",
       "1                              1.280402                              1.286843  \n",
       "2                              1.386126                              1.300114  \n",
       "3                              1.263777                              1.233728  \n",
       "4                             -2.959167                             -2.922632  \n",
       "\n",
       "[5 rows x 3641 columns]"
      ]
     },
     "execution_count": 9,
     "metadata": {},
     "output_type": "execute_result"
    }
   ],
   "source": [
    "orf_metadata_df = pd.read_csv(\n",
    "    \"../00.download-and-process-annotations/output/orf_metadata.tsv.gz\",\n",
    "    sep=\"\\t\",\n",
    "    usecols=[\"Metadata_JCP2022\", \"Metadata_Symbol\"],\n",
    ")\n",
    "\n",
    "orf_profiles_with_feature_names_df = utils.consensus(\n",
    "    pd.read_parquet(\"../profiles/profiles_wellpos_cc_var_mad_outlier_orf.parquet\")\n",
    "    .merge(orf_metadata_df, on=\"Metadata_JCP2022\", how=\"inner\")\n",
    "    .query('Metadata_Symbol in @top_similar'),\n",
    "    \"Metadata_JCP2022\",\n",
    ")\n",
    "\n",
    "orf_profiles_with_feature_names_df.head()"
   ]
  },
  {
   "cell_type": "code",
   "execution_count": 10,
   "metadata": {},
   "outputs": [],
   "source": [
    "feature_names = utils.get_featurecols(orf_profiles_with_feature_names_df)\n",
    "\n",
    "feature_name_interpretation_df = pd.DataFrame()\n",
    "\n",
    "for feature_name in feature_names:\n",
    "    df = pd.DataFrame(utils.parse_cp_features(feature_name), index=[0])\n",
    "    feature_name_interpretation_df = pd.concat([feature_name_interpretation_df, df], ignore_index=True)"
   ]
  },
  {
   "cell_type": "code",
   "execution_count": 11,
   "metadata": {},
   "outputs": [],
   "source": [
    "feature_group = \"AreaShape\"\n",
    "feature_group_list = [\"Texture\", \"Intensity\", \"RadialDistribution\"]\n",
    "compartments = [\"Cells\", \"Cytoplasm\", \"Nuclei\"]\n",
    "channels = [\"DNA\", \"RNA\", \"Mito\", \"ER\", \"AGP\"]\n",
    "Cluster1= [\"RAB40B\", \"RAB40C\", \"NRBP1\"]\n",
    "Cluster2 = [\"INSYN1\", \"PIK3R3\", \"ZFP36L1\", \"HOXC8\"]"
   ]
  },
  {
   "cell_type": "code",
   "execution_count": 12,
   "metadata": {},
   "outputs": [
    {
     "data": {
      "application/vnd.jupyter.widget-view+json": {
       "model_id": "95a1b5c9da7c47d0836ae169810d2897",
       "version_major": 2,
       "version_minor": 0
      },
      "text/plain": [
       "  0%|          | 0/1 [00:00<?, ?it/s]"
      ]
     },
     "metadata": {},
     "output_type": "display_data"
    },
    {
     "data": {
      "application/vnd.jupyter.widget-view+json": {
       "model_id": "34f94f6cde39442ab19b4d7825c46f01",
       "version_major": 2,
       "version_minor": 0
      },
      "text/plain": [
       "  0%|          | 0/1 [00:00<?, ?it/s]"
      ]
     },
     "metadata": {},
     "output_type": "display_data"
    },
    {
     "data": {
      "application/vnd.jupyter.widget-view+json": {
       "model_id": "a32c8a9985064fd68bf096c139f40f0b",
       "version_major": 2,
       "version_minor": 0
      },
      "text/plain": [
       "  0%|          | 0/1 [00:00<?, ?it/s]"
      ]
     },
     "metadata": {},
     "output_type": "display_data"
    }
   ],
   "source": [
    "compartment_feature_group_df = pd.DataFrame()\n",
    "\n",
    "for compartment in compartments:\n",
    "    feature_cols = (\n",
    "        feature_name_interpretation_df.query(\"feature_group==@feature_group\")\n",
    "        .query(\"compartment==@compartment\")\n",
    "        .feature.to_list()\n",
    "    )\n",
    "    feature_values_cluster1 = np.median(orf_profiles_with_feature_names_df.query('Metadata_Symbol in @Cluster1')[feature_cols].copy().values, axis=0)\n",
    "    feature_values_cluster2 = np.median(orf_profiles_with_feature_names_df.query('Metadata_Symbol in @Cluster2')[feature_cols].copy().values, axis=0)\n",
    "    feature_values = np.asarray([feature_values_cluster1, feature_values_cluster2])\n",
    "    id = [\"Cluster1\", \"Cluster2\"]\n",
    "\n",
    "    cosine_sim = utils.cosine_similarity(id, feature_values).values[0, 1]\n",
    "\n",
    "    df = pd.DataFrame(\n",
    "        {\n",
    "            \"Compartment\": compartment,\n",
    "            \"Feature_group\": feature_group,\n",
    "            \"Similarity\": cosine_sim,\n",
    "        },\n",
    "        index=[0],\n",
    "    )\n",
    "\n",
    "    compartment_feature_group_df = pd.concat(\n",
    "        [compartment_feature_group_df, df], ignore_index=True\n",
    "    )\n",
    "\n",
    "compartment_feature_group_df = compartment_feature_group_df.pivot(\n",
    "    index=\"Feature_group\", columns=\"Compartment\", values=\"Similarity\"\n",
    ")"
   ]
  },
  {
   "cell_type": "code",
   "execution_count": 13,
   "metadata": {},
   "outputs": [
    {
     "name": "stdout",
     "output_type": "stream",
     "text": [
      "| Feature_group   |     Cells |   Cytoplasm |    Nuclei |\n",
      "|:----------------|----------:|------------:|----------:|\n",
      "| AreaShape       | -0.830953 |   -0.863642 | -0.801077 |\n"
     ]
    }
   ],
   "source": [
    "print(compartment_feature_group_df.to_markdown())"
   ]
  },
  {
   "cell_type": "code",
   "execution_count": 14,
   "metadata": {},
   "outputs": [
    {
     "data": {
      "image/png": "[encoded data removed]",
      "text/plain": [
       "<Figure size 500x200 with 1 Axes>"
      ]
     },
     "metadata": {},
     "output_type": "display_data"
    }
   ],
   "source": [
    "n_row = compartment_feature_group_df.shape[0]\n",
    "n_col = compartment_feature_group_df.shape[1]\n",
    "fig_width = n_row + 4\n",
    "fig_height = 2\n",
    "sns.set(font_scale=1)\n",
    "\n",
    "plt.figure(figsize = (fig_width, fig_height))\n",
    "\n",
    "f = sns.heatmap(\n",
    "    compartment_feature_group_df,\n",
    "    cmap=\"RdBu\",\n",
    "    vmin=-1,\n",
    "    vmax=1,\n",
    "    xticklabels=True,\n",
    "    yticklabels=True,\n",
    "    annot=True,\n",
    "    cbar=None,\n",
    ")\n",
    "\n",
    "f.set(xlabel=\"Compartment\", ylabel=\"Feature Group\")\n",
    "\n",
    "f.xaxis.label.set_size(12)\n",
    "f.yaxis.label.set_size(12)\n",
    "plt.tight_layout()\n",
    "\n",
    "plt.savefig(f\"figures/{'-'.join(top_similar)}_area_size_compartment.png\")\n",
    "plt.savefig(f\"figures/{'-'.join(top_similar)}_area_size_compartment.svg\")"
   ]
  },
  {
   "cell_type": "code",
   "execution_count": 15,
   "metadata": {},
   "outputs": [
    {
     "data": {
      "application/vnd.jupyter.widget-view+json": {
       "model_id": "1ca77746e21b491797df6667b397a1c9",
       "version_major": 2,
       "version_minor": 0
      },
      "text/plain": [
       "  0%|          | 0/1 [00:00<?, ?it/s]"
      ]
     },
     "metadata": {},
     "output_type": "display_data"
    },
    {
     "data": {
      "application/vnd.jupyter.widget-view+json": {
       "model_id": "475a4bd3da6a4fa9800be1e3dba85742",
       "version_major": 2,
       "version_minor": 0
      },
      "text/plain": [
       "  0%|          | 0/1 [00:00<?, ?it/s]"
      ]
     },
     "metadata": {},
     "output_type": "display_data"
    },
    {
     "data": {
      "application/vnd.jupyter.widget-view+json": {
       "model_id": "c2700ceed9784e3aa4843c34ac1773c2",
       "version_major": 2,
       "version_minor": 0
      },
      "text/plain": [
       "  0%|          | 0/1 [00:00<?, ?it/s]"
      ]
     },
     "metadata": {},
     "output_type": "display_data"
    },
    {
     "data": {
      "application/vnd.jupyter.widget-view+json": {
       "model_id": "69f6d75bd3294a4585112f94de9543f8",
       "version_major": 2,
       "version_minor": 0
      },
      "text/plain": [
       "  0%|          | 0/1 [00:00<?, ?it/s]"
      ]
     },
     "metadata": {},
     "output_type": "display_data"
    },
    {
     "data": {
      "application/vnd.jupyter.widget-view+json": {
       "model_id": "d60e6dbf96674a6f9800ba9b0ac55bdc",
       "version_major": 2,
       "version_minor": 0
      },
      "text/plain": [
       "  0%|          | 0/1 [00:00<?, ?it/s]"
      ]
     },
     "metadata": {},
     "output_type": "display_data"
    },
    {
     "data": {
      "application/vnd.jupyter.widget-view+json": {
       "model_id": "b98aa5420fdd48a783ec5311fd079675",
       "version_major": 2,
       "version_minor": 0
      },
      "text/plain": [
       "  0%|          | 0/1 [00:00<?, ?it/s]"
      ]
     },
     "metadata": {},
     "output_type": "display_data"
    },
    {
     "data": {
      "application/vnd.jupyter.widget-view+json": {
       "model_id": "1e4c48a9427f4f98b467506fd782ac38",
       "version_major": 2,
       "version_minor": 0
      },
      "text/plain": [
       "  0%|          | 0/1 [00:00<?, ?it/s]"
      ]
     },
     "metadata": {},
     "output_type": "display_data"
    },
    {
     "data": {
      "application/vnd.jupyter.widget-view+json": {
       "model_id": "9d4809a4f0174e0881ecc8ba08eb1758",
       "version_major": 2,
       "version_minor": 0
      },
      "text/plain": [
       "  0%|          | 0/1 [00:00<?, ?it/s]"
      ]
     },
     "metadata": {},
     "output_type": "display_data"
    },
    {
     "data": {
      "application/vnd.jupyter.widget-view+json": {
       "model_id": "bd1fc342588845c68f4b0a8941a1ae8b",
       "version_major": 2,
       "version_minor": 0
      },
      "text/plain": [
       "  0%|          | 0/1 [00:00<?, ?it/s]"
      ]
     },
     "metadata": {},
     "output_type": "display_data"
    },
    {
     "data": {
      "application/vnd.jupyter.widget-view+json": {
       "model_id": "404b16e37249414dafba693aa3883c8d",
       "version_major": 2,
       "version_minor": 0
      },
      "text/plain": [
       "  0%|          | 0/1 [00:00<?, ?it/s]"
      ]
     },
     "metadata": {},
     "output_type": "display_data"
    },
    {
     "data": {
      "application/vnd.jupyter.widget-view+json": {
       "model_id": "7874141d70ac4e1594edbc61b3996835",
       "version_major": 2,
       "version_minor": 0
      },
      "text/plain": [
       "  0%|          | 0/1 [00:00<?, ?it/s]"
      ]
     },
     "metadata": {},
     "output_type": "display_data"
    },
    {
     "data": {
      "application/vnd.jupyter.widget-view+json": {
       "model_id": "90c52c5fe1354af290c292b70a61f812",
       "version_major": 2,
       "version_minor": 0
      },
      "text/plain": [
       "  0%|          | 0/1 [00:00<?, ?it/s]"
      ]
     },
     "metadata": {},
     "output_type": "display_data"
    },
    {
     "data": {
      "application/vnd.jupyter.widget-view+json": {
       "model_id": "dd8da48abaa640c0a9ac80983f2e54ff",
       "version_major": 2,
       "version_minor": 0
      },
      "text/plain": [
       "  0%|          | 0/1 [00:00<?, ?it/s]"
      ]
     },
     "metadata": {},
     "output_type": "display_data"
    },
    {
     "data": {
      "application/vnd.jupyter.widget-view+json": {
       "model_id": "4eb8088beb6b465796dae9c2cd3865af",
       "version_major": 2,
       "version_minor": 0
      },
      "text/plain": [
       "  0%|          | 0/1 [00:00<?, ?it/s]"
      ]
     },
     "metadata": {},
     "output_type": "display_data"
    },
    {
     "data": {
      "application/vnd.jupyter.widget-view+json": {
       "model_id": "4dde4f8aa022406980047257e0bbe05e",
       "version_major": 2,
       "version_minor": 0
      },
      "text/plain": [
       "  0%|          | 0/1 [00:00<?, ?it/s]"
      ]
     },
     "metadata": {},
     "output_type": "display_data"
    }
   ],
   "source": [
    "channel_feature_group_df = pd.DataFrame()\n",
    "\n",
    "for channel in channels:\n",
    "    for feature_group in feature_group_list:\n",
    "        feature_cols = (\n",
    "            feature_name_interpretation_df.query(\"feature_group==@feature_group\")\n",
    "            .query(\"channel==@channel\")\n",
    "            .feature.to_list()\n",
    "        )\n",
    "        feature_values_cluster1 = np.median(orf_profiles_with_feature_names_df.query('Metadata_Symbol in @Cluster1')[feature_cols].copy().values, axis=0)\n",
    "        feature_values_cluster2 = np.median(orf_profiles_with_feature_names_df.query('Metadata_Symbol in @Cluster2')[feature_cols].copy().values, axis=0)\n",
    "        feature_values = np.asarray([feature_values_cluster1, feature_values_cluster2])\n",
    "        id = [\"Cluster1\", \"Cluster2\"]\n",
    "\n",
    "        cosine_sim = utils.cosine_similarity(id, feature_values).values[0, 1]\n",
    "\n",
    "        df = pd.DataFrame(\n",
    "            {\n",
    "                \"Channel\": channel,\n",
    "                \"Feature_group\": feature_group,\n",
    "                \"Similarity\": cosine_sim,\n",
    "            },\n",
    "            index=[0],\n",
    "        )\n",
    "\n",
    "        channel_feature_group_df = pd.concat(\n",
    "            [channel_feature_group_df, df], ignore_index=True\n",
    "        )\n",
    "\n",
    "channel_feature_group_df = channel_feature_group_df.pivot(\n",
    "    index=\"Feature_group\", columns=\"Channel\", values=\"Similarity\"\n",
    ")"
   ]
  },
  {
   "cell_type": "code",
   "execution_count": 16,
   "metadata": {},
   "outputs": [
    {
     "name": "stdout",
     "output_type": "stream",
     "text": [
      "| Feature_group      |       AGP |       DNA |        ER |      Mito |       RNA |\n",
      "|:-------------------|----------:|----------:|----------:|----------:|----------:|\n",
      "| Intensity          | -0.889963 | -0.859488 | -0.894809 | -0.944878 | -0.877405 |\n",
      "| RadialDistribution | -0.960996 | -0.887363 | -0.787968 | -0.851995 | -0.790242 |\n",
      "| Texture            | -0.920884 | -0.803056 | -0.842558 | -0.910472 | -0.774294 |\n"
     ]
    }
   ],
   "source": [
    "print(channel_feature_group_df.to_markdown())"
   ]
  },
  {
   "cell_type": "code",
   "execution_count": 17,
   "metadata": {},
   "outputs": [
    {
     "data": {
      "image/png": "[encoded data removed]",
      "text/plain": [
       "<Figure size 1000x600 with 2 Axes>"
      ]
     },
     "metadata": {},
     "output_type": "display_data"
    }
   ],
   "source": [
    "sns.set(font_scale=1)\n",
    "plt.figure(figsize = (fig_width*2, fig_height*3))\n",
    "\n",
    "f = sns.heatmap(\n",
    "    channel_feature_group_df,\n",
    "    cmap=\"RdBu\",\n",
    "    vmin=-1,\n",
    "    vmax=1,\n",
    "    xticklabels=True,\n",
    "    yticklabels=True,\n",
    "    annot=True,\n",
    ")\n",
    "\n",
    "f.set(xlabel=\"Channel\", ylabel=\"Feature Group\")\n",
    "\n",
    "f.xaxis.label.set_size(12)\n",
    "f.yaxis.label.set_size(12)\n",
    "plt.tight_layout()\n",
    "plt.savefig(f\"figures/{'-'.join(top_similar)}_feature_group_channel.png\")\n",
    "plt.savefig(f\"figures/{'-'.join(top_similar)}_feature_group_channel.svg\")"
   ]
  },
  {
   "cell_type": "markdown",
   "metadata": {},
   "source": [
    "### CRISPR"
   ]
  },
  {
   "cell_type": "code",
   "execution_count": 18,
   "metadata": {},
   "outputs": [],
   "source": [
    "# Check connections in CRISPR as well\n",
    "\n",
    "crispr_similarity_percentile_df = pd.read_parquet('cos_sim/cosine_similarities_percentile_genes_crispr.parquet')"
   ]
  },
  {
   "cell_type": "code",
   "execution_count": 19,
   "metadata": {},
   "outputs": [],
   "source": [
    "# Genes of interest\n",
    "genes = [\"PIK3R3\",\"RAB40B\", \"HOXC8\", \"ZFP36L1\", \"NRBP1\"]"
   ]
  },
  {
   "cell_type": "code",
   "execution_count": 20,
   "metadata": {},
   "outputs": [],
   "source": [
    "top_similar = genes\n",
    "\n",
    "df = crispr_similarity_percentile_df.loc[top_similar, top_similar]\n",
    "\n",
    "for gene in top_similar:\n",
    "    df.loc[gene, gene] = 1"
   ]
  },
  {
   "cell_type": "code",
   "execution_count": 21,
   "metadata": {},
   "outputs": [],
   "source": [
    "kg_df = (\n",
    "    knowledge_graph[[\"gene_1\", \"gene_2\", \"gene_kg\"]]\n",
    "    .drop_duplicates()\n",
    "    .pivot(columns=\"gene_1\", index=\"gene_2\", values=\"gene_kg\")\n",
    "    .loc[top_similar, top_similar]\n",
    "    .fillna(1)\n",
    ")"
   ]
  },
  {
   "cell_type": "code",
   "execution_count": 22,
   "metadata": {},
   "outputs": [
    {
     "data": {
      "image/png": "[encoded data removed]",
      "text/plain": [
       "<Figure size 350x350 with 3 Axes>"
      ]
     },
     "metadata": {},
     "output_type": "display_data"
    }
   ],
   "source": [
    "# Plot the heatmap\n",
    "\n",
    "n_row = df.shape[0]\n",
    "n_col = df.shape[1]\n",
    "fig_width = n_row * 0.5 + 1\n",
    "fig_height = n_col * 0.5 + 1\n",
    "\n",
    "g = sns.clustermap(\n",
    "    df,\n",
    "    cmap=\"RdBu\",\n",
    "    vmin=0,\n",
    "    vmax=1,\n",
    "    dendrogram_ratio=(0.1, 0.1),\n",
    "    figsize=(fig_width, fig_height),\n",
    "    cbar_pos=None,\n",
    ")\n",
    "\n",
    "clustermap_df = g.data2d\n",
    "\n",
    "for i in range(len(clustermap_df)):\n",
    "    for j in range(len(clustermap_df.columns)):\n",
    "        gene_1 = clustermap_df.index[i]\n",
    "        gene_2 = clustermap_df.columns[j]\n",
    "        kg_gene_pair = kg_df.loc[gene_1, gene_2]\n",
    "        text = f\"{kg_gene_pair}\"\n",
    "        x = j + 0.5  # Center the text horizontally\n",
    "        y = i + 0.5  # Center the text vertically\n",
    "\n",
    "        text_color = (\n",
    "            \"white\"\n",
    "            if clustermap_df.values[i, j] > 0.75 or clustermap_df.values[i, j] < 0.25\n",
    "            else \"black\"\n",
    "        )\n",
    "\n",
    "        g.ax_heatmap.text(x, y, text, ha=\"center\", va=\"center\", color=text_color, fontdict={\"size\": 8})\n",
    "\n",
    "g.ax_heatmap.set_xlabel(\"\")\n",
    "g.ax_heatmap.set_ylabel(\"\")\n",
    "plt.savefig(f\"figures/CRISPR-connections-{'-'.join(top_similar)}.png\", dpi=300)\n",
    "plt.savefig(f\"figures/CRISPR-connections-{'-'.join(top_similar)}.svg\", dpi=300)"
   ]
  }
 ],
 "metadata": {
  "kernelspec": {
   "display_name": "similarity",
   "language": "python",
   "name": "python3"
  },
  "language_info": {
   "codemirror_mode": {
    "name": "ipython",
    "version": 3
   },
   "file_extension": ".py",
   "mimetype": "text/x-python",
   "name": "python",
   "nbconvert_exporter": "python",
   "pygments_lexer": "ipython3",
   "version": "3.10.6"
  }
 },
 "nbformat": 4,
 "nbformat_minor": 2
}
