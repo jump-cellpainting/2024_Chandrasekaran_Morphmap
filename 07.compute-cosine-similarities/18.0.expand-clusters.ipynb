{
 "cells": [
  {
   "cell_type": "code",
   "execution_count": 1,
   "metadata": {},
   "outputs": [],
   "source": [
    "import pandas as pd\n",
    "import numpy as np"
   ]
  },
  {
   "cell_type": "markdown",
   "metadata": {},
   "source": [
    "### Expand ORF Clusters"
   ]
  },
  {
   "cell_type": "code",
   "execution_count": 2,
   "metadata": {},
   "outputs": [],
   "source": [
    "gene_lists = {\n",
    "    \"12\": [\"SLC39A1\", \"ZBTB16\"],\n",
    "    \"15\": [\"GPR176\", \"CHRM4\", \"TSC22D1\", \"LZTS2\", \"MYT1\"],\n",
    "    \"16\": [\"MRPS2\", \"SARS2\", \"LDHAL6B\", \"ECH1\", \"DGUOK\", \"UQCRFS1\"],\n",
    "    \"10\": [\"YAP1\"],\n",
    "}"
   ]
  },
  {
   "cell_type": "code",
   "execution_count": 3,
   "metadata": {},
   "outputs": [],
   "source": [
    "orf_similarity_percentile_df = pd.read_parquet(\"cos_sim/cosine_similarities_percentile_genes_orf.parquet\")"
   ]
  },
  {
   "cell_type": "code",
   "execution_count": 4,
   "metadata": {},
   "outputs": [],
   "source": [
    "top_similar = []\n",
    "\n",
    "for issue in gene_lists:\n",
    "    genes = gene_lists[issue]\n",
    "    gene_list = []\n",
    "    connections_df = orf_similarity_percentile_df[genes]\n",
    "    connections_df = (\n",
    "        connections_df.stack().reset_index().rename(columns={0: \"percentile\"})\n",
    "    )\n",
    "    connections_df = pd.concat(\n",
    "        [\n",
    "            connections_df,\n",
    "            connections_df.rename(columns={\"gene_1\": \"gene_2\", \"gene_2\": \"gene_1\"}),\n",
    "        ],\n",
    "        ignore_index=True,\n",
    "    ).drop_duplicates()\n",
    "    for gene in genes:\n",
    "        if gene != \"YAP1\":\n",
    "            temp = connections_df.query(\"gene_1 == @gene\").nlargest(\n",
    "                columns=\"percentile\", n=25\n",
    "            )[\"gene_2\"].to_list() + [gene]\n",
    "            gene_list.append(temp)\n",
    "        else:\n",
    "            temp = connections_df.query(\"gene_1 == @gene\").nlargest(\n",
    "                columns=\"percentile\", n=25\n",
    "            )[\"gene_2\"].to_list() + [gene]\n",
    "            gene_list.append(temp)\n",
    "\n",
    "            temp = connections_df.query(\"gene_1 == @gene\").nsmallest(\n",
    "                columns=\"percentile\", n=25\n",
    "            )[\"gene_2\"].to_list() + [gene]\n",
    "            gene_list.append(temp)\n",
    "\n",
    "    top_similar = np.unique(np.asarray(gene_list).flatten())\n",
    "\n",
    "    if issue != \"10\":\n",
    "        with open(f\"output/top_similar_orf_{issue}.txt\", \"w\") as f:\n",
    "            f.write(\"\\n\".join(top_similar))\n",
    "    else:\n",
    "        with open(f\"output/top_similar_antisimilar_orf_{issue}.txt\", \"w\") as f:\n",
    "            f.write(\"\\n\".join(top_similar))"
   ]
  },
  {
   "cell_type": "markdown",
   "metadata": {},
   "source": [
    "### Expland CRISPR Clusters"
   ]
  },
  {
   "cell_type": "code",
   "execution_count": 5,
   "metadata": {},
   "outputs": [],
   "source": [
    "gene_lists = {\n",
    "    \"12\": [\"SLC39A1\", \"ZBTB16\"],\n",
    "    \"15\": [\"PVR\", \"UQCRFS1\", \"SARS2\", \"ECH1\", \"LAIR1\", \"SLC1A5\"],\n",
    "    \"16\": [\"GPR176\", \"CHRM4\", \"TSC22D1\", \"MYT1\"],\n",
    "}"
   ]
  }
 ],
 "metadata": {
  "kernelspec": {
   "display_name": "similarity",
   "language": "python",
   "name": "python3"
  },
  "language_info": {
   "codemirror_mode": {
    "name": "ipython",
    "version": 3
   },
   "file_extension": ".py",
   "mimetype": "text/x-python",
   "name": "python",
   "nbconvert_exporter": "python",
   "pygments_lexer": "ipython3",
   "version": "3.10.6"
  }
 },
 "nbformat": 4,
 "nbformat_minor": 2
}
