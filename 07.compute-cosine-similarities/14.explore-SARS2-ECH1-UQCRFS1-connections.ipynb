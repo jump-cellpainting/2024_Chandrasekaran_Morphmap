{
 "cells": [
  {
   "cell_type": "code",
   "execution_count": 1,
   "metadata": {},
   "outputs": [],
   "source": [
    "import pandas as pd\n",
    "import numpy as np\n",
    "import seaborn as sns\n",
    "import matplotlib.pyplot as plt"
   ]
  },
  {
   "cell_type": "code",
   "execution_count": 2,
   "metadata": {},
   "outputs": [],
   "source": [
    "# Read ORF cosine similarities\n",
    "\n",
    "orf_similarity_percentile_df = pd.read_parquet('cos_sim/cosine_similarities_percentile_genes_orf.parquet')\n",
    "crispr_similarity_percentile_df = pd.read_parquet('cos_sim/cosine_similarities_percentile_genes_crispr.parquet')"
   ]
  },
  {
   "cell_type": "code",
   "execution_count": 3,
   "metadata": {},
   "outputs": [],
   "source": [
    "# Genes of interest\n",
    "genes = [\"SARS2\", \"ECH1\", \"UQCRFS1\"]"
   ]
  },
  {
   "cell_type": "code",
   "execution_count": 4,
   "metadata": {},
   "outputs": [
    {
     "data": {
      "text/html": [
       "<div>\n",
       "<style scoped>\n",
       "    .dataframe tbody tr th:only-of-type {\n",
       "        vertical-align: middle;\n",
       "    }\n",
       "\n",
       "    .dataframe tbody tr th {\n",
       "        vertical-align: top;\n",
       "    }\n",
       "\n",
       "    .dataframe thead th {\n",
       "        text-align: right;\n",
       "    }\n",
       "</style>\n",
       "<table border=\"1\" class=\"dataframe\">\n",
       "  <thead>\n",
       "    <tr style=\"text-align: right;\">\n",
       "      <th></th>\n",
       "      <th>gene_1</th>\n",
       "      <th>gene_2</th>\n",
       "      <th>percentile</th>\n",
       "    </tr>\n",
       "  </thead>\n",
       "  <tbody>\n",
       "    <tr>\n",
       "      <th>0</th>\n",
       "      <td>A4GALT</td>\n",
       "      <td>SARS2</td>\n",
       "      <td>0.009296</td>\n",
       "    </tr>\n",
       "    <tr>\n",
       "      <th>1</th>\n",
       "      <td>A4GALT</td>\n",
       "      <td>ECH1</td>\n",
       "      <td>0.491453</td>\n",
       "    </tr>\n",
       "    <tr>\n",
       "      <th>2</th>\n",
       "      <td>A4GALT</td>\n",
       "      <td>UQCRFS1</td>\n",
       "      <td>0.344779</td>\n",
       "    </tr>\n",
       "    <tr>\n",
       "      <th>3</th>\n",
       "      <td>A4GNT</td>\n",
       "      <td>SARS2</td>\n",
       "      <td>0.410209</td>\n",
       "    </tr>\n",
       "    <tr>\n",
       "      <th>4</th>\n",
       "      <td>A4GNT</td>\n",
       "      <td>ECH1</td>\n",
       "      <td>0.613794</td>\n",
       "    </tr>\n",
       "  </tbody>\n",
       "</table>\n",
       "</div>"
      ],
      "text/plain": [
       "   gene_1   gene_2  percentile\n",
       "0  A4GALT    SARS2    0.009296\n",
       "1  A4GALT     ECH1    0.491453\n",
       "2  A4GALT  UQCRFS1    0.344779\n",
       "3   A4GNT    SARS2    0.410209\n",
       "4   A4GNT     ECH1    0.613794"
      ]
     },
     "execution_count": 4,
     "metadata": {},
     "output_type": "execute_result"
    }
   ],
   "source": [
    "# Identify connections between genes of interest and all other genes\n",
    "\n",
    "orf_connections_df = orf_similarity_percentile_df[genes]\n",
    "\n",
    "orf_connections_df = orf_connections_df.stack().reset_index().rename(columns={0:\"percentile\"})\n",
    "\n",
    "orf_connections_df = pd.concat(\n",
    "    [\n",
    "        orf_connections_df,\n",
    "        orf_connections_df.rename(columns={\"gene_1\": \"gene_2\", \"gene_2\": \"gene_1\"}),\n",
    "    ],\n",
    "    ignore_index=True,\n",
    ").drop_duplicates()\n",
    "\n",
    "orf_connections_df.head()"
   ]
  },
  {
   "cell_type": "code",
   "execution_count": 5,
   "metadata": {},
   "outputs": [
    {
     "data": {
      "text/html": [
       "<div>\n",
       "<style scoped>\n",
       "    .dataframe tbody tr th:only-of-type {\n",
       "        vertical-align: middle;\n",
       "    }\n",
       "\n",
       "    .dataframe tbody tr th {\n",
       "        vertical-align: top;\n",
       "    }\n",
       "\n",
       "    .dataframe thead th {\n",
       "        text-align: right;\n",
       "    }\n",
       "</style>\n",
       "<table border=\"1\" class=\"dataframe\">\n",
       "  <thead>\n",
       "    <tr style=\"text-align: right;\">\n",
       "      <th></th>\n",
       "      <th>gene_1</th>\n",
       "      <th>gene_2</th>\n",
       "      <th>percentile</th>\n",
       "    </tr>\n",
       "  </thead>\n",
       "  <tbody>\n",
       "    <tr>\n",
       "      <th>0</th>\n",
       "      <td>A4GALT</td>\n",
       "      <td>SARS2</td>\n",
       "      <td>0.424117</td>\n",
       "    </tr>\n",
       "    <tr>\n",
       "      <th>1</th>\n",
       "      <td>A4GALT</td>\n",
       "      <td>ECH1</td>\n",
       "      <td>0.437749</td>\n",
       "    </tr>\n",
       "    <tr>\n",
       "      <th>2</th>\n",
       "      <td>A4GALT</td>\n",
       "      <td>UQCRFS1</td>\n",
       "      <td>0.568800</td>\n",
       "    </tr>\n",
       "    <tr>\n",
       "      <th>3</th>\n",
       "      <td>AACS</td>\n",
       "      <td>SARS2</td>\n",
       "      <td>0.471455</td>\n",
       "    </tr>\n",
       "    <tr>\n",
       "      <th>4</th>\n",
       "      <td>AACS</td>\n",
       "      <td>ECH1</td>\n",
       "      <td>0.043266</td>\n",
       "    </tr>\n",
       "  </tbody>\n",
       "</table>\n",
       "</div>"
      ],
      "text/plain": [
       "   gene_1   gene_2  percentile\n",
       "0  A4GALT    SARS2    0.424117\n",
       "1  A4GALT     ECH1    0.437749\n",
       "2  A4GALT  UQCRFS1    0.568800\n",
       "3    AACS    SARS2    0.471455\n",
       "4    AACS     ECH1    0.043266"
      ]
     },
     "execution_count": 5,
     "metadata": {},
     "output_type": "execute_result"
    }
   ],
   "source": [
    "# Identify connections between genes of interest and all other genes\n",
    "\n",
    "crispr_connections_df = crispr_similarity_percentile_df[genes]\n",
    "\n",
    "crispr_connections_df = crispr_connections_df.stack().reset_index().rename(columns={0:\"percentile\"})\n",
    "\n",
    "crispr_connections_df = pd.concat(\n",
    "    [\n",
    "        crispr_connections_df,\n",
    "        crispr_connections_df.rename(columns={\"gene_1\": \"gene_2\", \"gene_2\": \"gene_1\"}),\n",
    "    ],\n",
    "    ignore_index=True,\n",
    ").drop_duplicates()\n",
    "\n",
    "crispr_connections_df.head()"
   ]
  },
  {
   "cell_type": "code",
   "execution_count": 6,
   "metadata": {},
   "outputs": [],
   "source": [
    "# Add knowledge graph information and filter out any connections with low knowledge graph scores\n",
    "\n",
    "orf_knowledge_graph = pd.read_csv(\n",
    "    \"~/Downloads/orf_scores_merged.zip\",\n",
    "    sep=\"\\t\",\n",
    "    usecols=[\"GENE1\", \"GENE2\", \"gene_mf__go\", \"gene_bp__go\", \"gene_pathway\"],\n",
    ").rename(\n",
    "    columns={\n",
    "        \"GENE1\": \"gene_1\",\n",
    "        \"GENE2\": \"gene_2\",\n",
    "        \"gene_mf__go\": \"gene_mf\",\n",
    "        \"gene_bp__go\": \"gene_bp\",\n",
    "    }\n",
    ")\n",
    "\n",
    "orf_knowledge_graph = pd.concat(\n",
    "    [\n",
    "        orf_knowledge_graph,\n",
    "        orf_knowledge_graph.rename(columns={\"gene_1\": \"gene_2\", \"gene_2\": \"gene_1\"}),\n",
    "    ],\n",
    "    ignore_index=True,\n",
    ")\n",
    "\n",
    "orf_knowledge_graph = (\n",
    "    orf_knowledge_graph.assign(gene_kg=lambda x: np.max(\n",
    "            x[[\"gene_mf\", \"gene_bp\", \"gene_pathway\"]].abs(), axis=1\n",
    "        )\n",
    "    )\n",
    "    .drop(columns=[\"gene_mf\", \"gene_bp\", \"gene_pathway\"])\n",
    ")\n",
    "\n",
    "orf_connections_df = orf_connections_df.merge(\n",
    "    orf_knowledge_graph, on=[\"gene_1\", \"gene_2\"], how=\"left\"\n",
    ")\n",
    "\n",
    "orf_connections_df = orf_connections_df.query(\"gene_kg<0.4\")"
   ]
  },
  {
   "cell_type": "code",
   "execution_count": 7,
   "metadata": {},
   "outputs": [],
   "source": [
    "# Add knowledge graph information and filter out any connections with low knowledge graph scores\n",
    "\n",
    "crispr_knowledge_graph = pd.read_csv(\n",
    "    \"~/Downloads/orf_scores_merged.zip\",\n",
    "    sep=\"\\t\",\n",
    "    usecols=[\"GENE1\", \"GENE2\", \"gene_mf__go\", \"gene_bp__go\", \"gene_pathway\"],\n",
    ").rename(\n",
    "    columns={\n",
    "        \"GENE1\": \"gene_1\",\n",
    "        \"GENE2\": \"gene_2\",\n",
    "        \"gene_mf__go\": \"gene_mf\",\n",
    "        \"gene_bp__go\": \"gene_bp\",\n",
    "    }\n",
    ")\n",
    "\n",
    "crispr_knowledge_graph = pd.concat(\n",
    "    [\n",
    "        crispr_knowledge_graph,\n",
    "        crispr_knowledge_graph.rename(columns={\"gene_1\": \"gene_2\", \"gene_2\": \"gene_1\"}),\n",
    "    ],\n",
    "    ignore_index=True,\n",
    ")\n",
    "\n",
    "crispr_knowledge_graph = (\n",
    "    crispr_knowledge_graph.assign(gene_kg=lambda x: np.max(\n",
    "            x[[\"gene_mf\", \"gene_bp\", \"gene_pathway\"]].abs(), axis=1\n",
    "        )\n",
    "    )\n",
    "    .drop(columns=[\"gene_mf\", \"gene_bp\", \"gene_pathway\"])\n",
    ")\n",
    "\n",
    "crispr_connections_df = crispr_connections_df.merge(\n",
    "    crispr_knowledge_graph, on=[\"gene_1\", \"gene_2\"], how=\"left\"\n",
    ")\n",
    "\n",
    "crispr_connections_df = crispr_connections_df.query(\"gene_kg<0.4\")"
   ]
  },
  {
   "cell_type": "code",
   "execution_count": 8,
   "metadata": {},
   "outputs": [
    {
     "name": "stdout",
     "output_type": "stream",
     "text": [
      "['MRPS2', 'SARS2']\n",
      "['LDHAL6B', 'ECH1']\n",
      "['DGUOK', 'UQCRFS1']\n"
     ]
    }
   ],
   "source": [
    "# Find the most similar genes for each ORF gene group (based on the cosine similarity percentile)\n",
    "\n",
    "gene_list = []\n",
    "\n",
    "for gene in genes:\n",
    "    temp = orf_connections_df.query(\"gene_1 == @gene\").nlargest(columns=\"percentile\", n=1)[\n",
    "        \"gene_2\"\n",
    "    ].to_list() + [gene]\n",
    "    print(temp)\n",
    "    gene_list.append(temp)\n",
    "\n",
    "top_similar_orf = np.unique(np.asarray(gene_list).flatten())\n",
    "\n",
    "orf_df = orf_similarity_percentile_df.loc[top_similar_orf, top_similar_orf]\n",
    "\n",
    "for gene in top_similar_orf:\n",
    "    orf_df.loc[gene, gene] = 1"
   ]
  },
  {
   "cell_type": "code",
   "execution_count": 9,
   "metadata": {},
   "outputs": [
    {
     "name": "stdout",
     "output_type": "stream",
     "text": [
      "['PVR', 'SARS2']\n",
      "['SLC1A5', 'ECH1']\n",
      "['LAIR1', 'UQCRFS1']\n"
     ]
    }
   ],
   "source": [
    "# Find the most similar genes for each ORF gene group (based on the cosine similarity percentile)\n",
    "\n",
    "gene_list = []\n",
    "\n",
    "for gene in genes:\n",
    "    temp = crispr_connections_df.query(\"gene_1 == @gene\").nlargest(columns=\"percentile\", n=1)[\n",
    "        \"gene_2\"\n",
    "    ].to_list() + [gene]\n",
    "    print(temp)\n",
    "    gene_list.append(temp)\n",
    "\n",
    "top_similar_crispr = np.unique(np.asarray(gene_list).flatten())\n",
    "\n",
    "crispr_df = crispr_similarity_percentile_df.loc[top_similar_crispr, top_similar_crispr]\n",
    "\n",
    "for gene in top_similar_crispr:\n",
    "    crispr_df.loc[gene, gene] = 1"
   ]
  },
  {
   "cell_type": "code",
   "execution_count": 10,
   "metadata": {},
   "outputs": [],
   "source": [
    "orf_kg_df = (\n",
    "    orf_knowledge_graph[[\"gene_1\", \"gene_2\", \"gene_kg\"]]\n",
    "    .drop_duplicates()\n",
    "    .pivot(columns=\"gene_1\", index=\"gene_2\", values=\"gene_kg\")\n",
    "    .loc[top_similar_orf, top_similar_orf]\n",
    "    .fillna(1)\n",
    ")"
   ]
  },
  {
   "cell_type": "code",
   "execution_count": 11,
   "metadata": {},
   "outputs": [],
   "source": [
    "crispr_kg_df = (\n",
    "    crispr_knowledge_graph[[\"gene_1\", \"gene_2\", \"gene_kg\"]]\n",
    "    .drop_duplicates()\n",
    "    .pivot(columns=\"gene_1\", index=\"gene_2\", values=\"gene_kg\")\n",
    "    .loc[top_similar_crispr, top_similar_crispr]\n",
    "    .fillna(1)\n",
    ")"
   ]
  },
  {
   "cell_type": "code",
   "execution_count": 12,
   "metadata": {},
   "outputs": [
    {
     "data": {
      "image/png": "[encoded data removed]",
      "text/plain": [
       "<Figure size 400x400 with 3 Axes>"
      ]
     },
     "metadata": {},
     "output_type": "display_data"
    }
   ],
   "source": [
    "# Plot the heatmap\n",
    "\n",
    "n_row = orf_df.shape[0]\n",
    "n_col = orf_df.shape[1]\n",
    "fig_width = n_row * 0.5 + 1\n",
    "fig_height = n_col * 0.5 + 1\n",
    "\n",
    "g = sns.clustermap(\n",
    "    orf_df,\n",
    "    cmap=\"RdBu\",\n",
    "    vmin=0,\n",
    "    vmax=1,\n",
    "    dendrogram_ratio=(0.1, 0.1),\n",
    "    figsize=(fig_width, fig_height),\n",
    "    cbar_pos=None,\n",
    ")\n",
    "\n",
    "clustermap_df = g.data2d\n",
    "\n",
    "for i in range(len(clustermap_df)):\n",
    "    for j in range(len(clustermap_df.columns)):\n",
    "        gene_1 = clustermap_df.index[i]\n",
    "        gene_2 = clustermap_df.columns[j]\n",
    "        kg_gene_pair = orf_kg_df.loc[gene_1, gene_2]\n",
    "        text = f\"{kg_gene_pair}\"\n",
    "        x = j + 0.5  # Center the text horizontally\n",
    "        y = i + 0.5  # Center the text vertically\n",
    "\n",
    "        text_color = (\n",
    "            \"white\"\n",
    "            if clustermap_df.values[i, j] > 0.75 or clustermap_df.values[i, j] < 0.25\n",
    "            else \"black\"\n",
    "        )\n",
    "\n",
    "        g.ax_heatmap.text(x, y, text, ha=\"center\", va=\"center\", color=text_color, fontdict={\"size\": 8})\n",
    "\n",
    "g.ax_heatmap.set_xlabel(\"\")\n",
    "g.ax_heatmap.set_ylabel(\"\")\n",
    "\n",
    "plt.savefig(f\"figures/ORF-connections-{'-'.join(top_similar_orf)}.png\", dpi=300)\n",
    "plt.savefig(f\"figures/ORF-connections-{'-'.join(top_similar_orf)}.svg\", dpi=300)"
   ]
  },
  {
   "cell_type": "code",
   "execution_count": 13,
   "metadata": {},
   "outputs": [
    {
     "data": {
      "image/png": "[encoded data removed]",
      "text/plain": [
       "<Figure size 400x400 with 3 Axes>"
      ]
     },
     "metadata": {},
     "output_type": "display_data"
    }
   ],
   "source": [
    "# Plot the heatmap\n",
    "\n",
    "n_row = orf_df.shape[0]\n",
    "n_col = orf_df.shape[1]\n",
    "fig_width = n_row * 0.5 + 1\n",
    "fig_height = n_col * 0.5 + 1\n",
    "\n",
    "g = sns.clustermap(\n",
    "    crispr_df,\n",
    "    cmap=\"RdBu\",\n",
    "    vmin=0,\n",
    "    vmax=1,\n",
    "    dendrogram_ratio=(0.1, 0.1),\n",
    "    figsize=(fig_width, fig_height),\n",
    "    cbar_pos=None,\n",
    ")\n",
    "\n",
    "clustermap_df = g.data2d\n",
    "\n",
    "for i in range(len(clustermap_df)):\n",
    "    for j in range(len(clustermap_df.columns)):\n",
    "        gene_1 = clustermap_df.index[i]\n",
    "        gene_2 = clustermap_df.columns[j]\n",
    "        kg_gene_pair = crispr_kg_df.loc[gene_1, gene_2]\n",
    "        text = f\"{kg_gene_pair}\"\n",
    "        x = j + 0.5  # Center the text horizontally\n",
    "        y = i + 0.5  # Center the text vertically\n",
    "\n",
    "        text_color = (\n",
    "            \"white\"\n",
    "            if clustermap_df.values[i, j] > 0.75 or clustermap_df.values[i, j] < 0.25\n",
    "            else \"black\"\n",
    "        )\n",
    "\n",
    "        g.ax_heatmap.text(x, y, text, ha=\"center\", va=\"center\", color=text_color, fontdict={\"size\": 8})\n",
    "\n",
    "g.ax_heatmap.set_xlabel(\"\")\n",
    "g.ax_heatmap.set_ylabel(\"\")\n",
    "\n",
    "plt.savefig(f\"figures/CRISPR-connections-{'-'.join(top_similar_crispr)}.png\", dpi=300)\n",
    "plt.savefig(f\"figures/CRISPR-connections-{'-'.join(top_similar_crispr)}.svg\", dpi=300)"
   ]
  }
 ],
 "metadata": {
  "kernelspec": {
   "display_name": "similarity",
   "language": "python",
   "name": "python3"
  },
  "language_info": {
   "codemirror_mode": {
    "name": "ipython",
    "version": 3
   },
   "file_extension": ".py",
   "mimetype": "text/x-python",
   "name": "python",
   "nbconvert_exporter": "python",
   "pygments_lexer": "ipython3",
   "version": "3.10.6"
  }
 },
 "nbformat": 4,
 "nbformat_minor": 2
}
