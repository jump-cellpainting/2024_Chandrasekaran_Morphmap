{
 "cells": [
  {
   "cell_type": "code",
   "execution_count": 1,
   "metadata": {},
   "outputs": [],
   "source": [
    "import pandas as pd\n",
    "import numpy as np\n",
    "import seaborn as sns\n",
    "import matplotlib.pyplot as plt\n",
    "import utils"
   ]
  },
  {
   "cell_type": "markdown",
   "metadata": {},
   "source": [
    "### Feature group wise analysis"
   ]
  },
  {
   "cell_type": "code",
   "execution_count": 2,
   "metadata": {},
   "outputs": [],
   "source": [
    "# Read ORF cosine similarities\n",
    "\n",
    "orf_similarity_percentile_df = pd.read_parquet('cos_sim/cosine_similarities_percentile_genes_orf.parquet')"
   ]
  },
  {
   "cell_type": "code",
   "execution_count": 3,
   "metadata": {},
   "outputs": [],
   "source": [
    "# Genes of interest\n",
    "genes = [\"NAT14\", \"RAB30\"]"
   ]
  },
  {
   "cell_type": "code",
   "execution_count": 4,
   "metadata": {},
   "outputs": [],
   "source": [
    "df = orf_similarity_percentile_df.loc[genes, genes]\n",
    "\n",
    "for gene in genes:\n",
    "    df.loc[gene, gene] = 1"
   ]
  },
  {
   "cell_type": "code",
   "execution_count": 5,
   "metadata": {},
   "outputs": [
    {
     "data": {
      "text/html": [
       "<div>\n",
       "<style scoped>\n",
       "    .dataframe tbody tr th:only-of-type {\n",
       "        vertical-align: middle;\n",
       "    }\n",
       "\n",
       "    .dataframe tbody tr th {\n",
       "        vertical-align: top;\n",
       "    }\n",
       "\n",
       "    .dataframe thead th {\n",
       "        text-align: right;\n",
       "    }\n",
       "</style>\n",
       "<table border=\"1\" class=\"dataframe\">\n",
       "  <thead>\n",
       "    <tr style=\"text-align: right;\">\n",
       "      <th></th>\n",
       "      <th>Metadata_Source</th>\n",
       "      <th>Metadata_Plate</th>\n",
       "      <th>Metadata_Well</th>\n",
       "      <th>Metadata_JCP2022</th>\n",
       "      <th>Metadata_Symbol</th>\n",
       "      <th>Cells_AreaShape_Area</th>\n",
       "      <th>Cells_AreaShape_BoundingBoxArea</th>\n",
       "      <th>Cells_AreaShape_BoundingBoxMaximum_X</th>\n",
       "      <th>Cells_AreaShape_BoundingBoxMaximum_Y</th>\n",
       "      <th>Cells_AreaShape_BoundingBoxMinimum_X</th>\n",
       "      <th>...</th>\n",
       "      <th>Nuclei_Texture_Variance_RNA_10_02_256</th>\n",
       "      <th>Nuclei_Texture_Variance_RNA_10_03_256</th>\n",
       "      <th>Nuclei_Texture_Variance_RNA_3_00_256</th>\n",
       "      <th>Nuclei_Texture_Variance_RNA_3_01_256</th>\n",
       "      <th>Nuclei_Texture_Variance_RNA_3_02_256</th>\n",
       "      <th>Nuclei_Texture_Variance_RNA_3_03_256</th>\n",
       "      <th>Nuclei_Texture_Variance_RNA_5_00_256</th>\n",
       "      <th>Nuclei_Texture_Variance_RNA_5_01_256</th>\n",
       "      <th>Nuclei_Texture_Variance_RNA_5_02_256</th>\n",
       "      <th>Nuclei_Texture_Variance_RNA_5_03_256</th>\n",
       "    </tr>\n",
       "  </thead>\n",
       "  <tbody>\n",
       "    <tr>\n",
       "      <th>0</th>\n",
       "      <td>source_4</td>\n",
       "      <td>BR00123947</td>\n",
       "      <td>G01</td>\n",
       "      <td>JCP2022_902841</td>\n",
       "      <td>RAB30</td>\n",
       "      <td>0.782264</td>\n",
       "      <td>0.545413</td>\n",
       "      <td>-1.170263</td>\n",
       "      <td>0.011855</td>\n",
       "      <td>-1.314191</td>\n",
       "      <td>...</td>\n",
       "      <td>4.948740</td>\n",
       "      <td>4.650470</td>\n",
       "      <td>4.439857</td>\n",
       "      <td>4.541978</td>\n",
       "      <td>4.479630</td>\n",
       "      <td>4.493488</td>\n",
       "      <td>4.563001</td>\n",
       "      <td>4.816595</td>\n",
       "      <td>4.602820</td>\n",
       "      <td>4.623618</td>\n",
       "    </tr>\n",
       "    <tr>\n",
       "      <th>1</th>\n",
       "      <td>source_4</td>\n",
       "      <td>BR00123947</td>\n",
       "      <td>E01</td>\n",
       "      <td>JCP2022_903554</td>\n",
       "      <td>NAT14</td>\n",
       "      <td>-0.072615</td>\n",
       "      <td>0.403843</td>\n",
       "      <td>-0.374025</td>\n",
       "      <td>0.036947</td>\n",
       "      <td>-0.400198</td>\n",
       "      <td>...</td>\n",
       "      <td>5.641465</td>\n",
       "      <td>5.356826</td>\n",
       "      <td>5.186027</td>\n",
       "      <td>5.262884</td>\n",
       "      <td>5.189446</td>\n",
       "      <td>5.225371</td>\n",
       "      <td>5.264193</td>\n",
       "      <td>5.514417</td>\n",
       "      <td>5.255624</td>\n",
       "      <td>5.279252</td>\n",
       "    </tr>\n",
       "  </tbody>\n",
       "</table>\n",
       "<p>2 rows × 3641 columns</p>\n",
       "</div>"
      ],
      "text/plain": [
       "  Metadata_Source Metadata_Plate Metadata_Well Metadata_JCP2022  \\\n",
       "0        source_4     BR00123947           G01   JCP2022_902841   \n",
       "1        source_4     BR00123947           E01   JCP2022_903554   \n",
       "\n",
       "  Metadata_Symbol  Cells_AreaShape_Area  Cells_AreaShape_BoundingBoxArea  \\\n",
       "0           RAB30              0.782264                         0.545413   \n",
       "1           NAT14             -0.072615                         0.403843   \n",
       "\n",
       "   Cells_AreaShape_BoundingBoxMaximum_X  Cells_AreaShape_BoundingBoxMaximum_Y  \\\n",
       "0                             -1.170263                              0.011855   \n",
       "1                             -0.374025                              0.036947   \n",
       "\n",
       "   Cells_AreaShape_BoundingBoxMinimum_X  ...  \\\n",
       "0                             -1.314191  ...   \n",
       "1                             -0.400198  ...   \n",
       "\n",
       "   Nuclei_Texture_Variance_RNA_10_02_256  \\\n",
       "0                               4.948740   \n",
       "1                               5.641465   \n",
       "\n",
       "   Nuclei_Texture_Variance_RNA_10_03_256  \\\n",
       "0                               4.650470   \n",
       "1                               5.356826   \n",
       "\n",
       "   Nuclei_Texture_Variance_RNA_3_00_256  Nuclei_Texture_Variance_RNA_3_01_256  \\\n",
       "0                              4.439857                              4.541978   \n",
       "1                              5.186027                              5.262884   \n",
       "\n",
       "   Nuclei_Texture_Variance_RNA_3_02_256  Nuclei_Texture_Variance_RNA_3_03_256  \\\n",
       "0                              4.479630                              4.493488   \n",
       "1                              5.189446                              5.225371   \n",
       "\n",
       "   Nuclei_Texture_Variance_RNA_5_00_256  Nuclei_Texture_Variance_RNA_5_01_256  \\\n",
       "0                              4.563001                              4.816595   \n",
       "1                              5.264193                              5.514417   \n",
       "\n",
       "   Nuclei_Texture_Variance_RNA_5_02_256  Nuclei_Texture_Variance_RNA_5_03_256  \n",
       "0                              4.602820                              4.623618  \n",
       "1                              5.255624                              5.279252  \n",
       "\n",
       "[2 rows x 3641 columns]"
      ]
     },
     "execution_count": 5,
     "metadata": {},
     "output_type": "execute_result"
    }
   ],
   "source": [
    "orf_metadata_df = pd.read_csv(\n",
    "    \"../00.download-and-process-annotations/output/orf_metadata.tsv.gz\",\n",
    "    sep=\"\\t\",\n",
    "    usecols=[\"Metadata_JCP2022\", \"Metadata_Symbol\"],\n",
    ")\n",
    "\n",
    "orf_profiles_with_feature_names_df = utils.consensus(\n",
    "    pd.read_parquet(\"../profiles/profiles_wellpos_cc_var_mad_outlier_orf.parquet\")\n",
    "    .merge(orf_metadata_df, on=\"Metadata_JCP2022\", how=\"inner\")\n",
    "    .query('Metadata_Symbol in @genes'),\n",
    "    \"Metadata_JCP2022\",\n",
    ")\n",
    "\n",
    "orf_profiles_with_feature_names_df.head()"
   ]
  },
  {
   "cell_type": "code",
   "execution_count": 6,
   "metadata": {},
   "outputs": [],
   "source": [
    "feature_names = utils.get_featurecols(orf_profiles_with_feature_names_df)\n",
    "\n",
    "feature_name_interpretation_df = pd.DataFrame()\n",
    "\n",
    "for feature_name in feature_names:\n",
    "    df = pd.DataFrame(utils.parse_cp_features(feature_name), index=[0])\n",
    "    feature_name_interpretation_df = pd.concat([feature_name_interpretation_df, df], ignore_index=True)"
   ]
  },
  {
   "cell_type": "code",
   "execution_count": 7,
   "metadata": {},
   "outputs": [],
   "source": [
    "feature_group = \"AreaShape\"\n",
    "feature_group_list = [\"Texture\", \"Intensity\", \"RadialDistribution\"]\n",
    "compartments = [\"Cells\", \"Cytoplasm\", \"Nuclei\"]\n",
    "channels = [\"DNA\", \"RNA\", \"Mito\", \"ER\", \"AGP\"]"
   ]
  },
  {
   "cell_type": "code",
   "execution_count": 8,
   "metadata": {},
   "outputs": [
    {
     "data": {
      "application/vnd.jupyter.widget-view+json": {
       "model_id": "415c76b6ef2f46f0b5ab0f8c9d50c95d",
       "version_major": 2,
       "version_minor": 0
      },
      "text/plain": [
       "  0%|          | 0/1 [00:00<?, ?it/s]"
      ]
     },
     "metadata": {},
     "output_type": "display_data"
    },
    {
     "data": {
      "application/vnd.jupyter.widget-view+json": {
       "model_id": "4cadbb197e3f4047bf2cc2bfaa891531",
       "version_major": 2,
       "version_minor": 0
      },
      "text/plain": [
       "  0%|          | 0/1 [00:00<?, ?it/s]"
      ]
     },
     "metadata": {},
     "output_type": "display_data"
    },
    {
     "data": {
      "application/vnd.jupyter.widget-view+json": {
       "model_id": "e4c15a26f1fe46d89f023c4f382a7af5",
       "version_major": 2,
       "version_minor": 0
      },
      "text/plain": [
       "  0%|          | 0/1 [00:00<?, ?it/s]"
      ]
     },
     "metadata": {},
     "output_type": "display_data"
    }
   ],
   "source": [
    "compartment_feature_group_df = pd.DataFrame()\n",
    "\n",
    "for compartment in compartments:\n",
    "    feature_cols = (\n",
    "        feature_name_interpretation_df.query(\"feature_group==@feature_group\")\n",
    "        .query(\"compartment==@compartment\")\n",
    "        .feature.to_list()\n",
    "    )\n",
    "    feature_values = orf_profiles_with_feature_names_df[feature_cols].copy().values\n",
    "    id = list(orf_profiles_with_feature_names_df[\"Metadata_Symbol\"])\n",
    "\n",
    "    cosine_sim = utils.cosine_similarity(id, feature_values).values[0, 1]\n",
    "\n",
    "    df = pd.DataFrame(\n",
    "        {\n",
    "            \"Compartment\": compartment,\n",
    "            \"Feature_group\": feature_group,\n",
    "            \"Similarity\": cosine_sim,\n",
    "        },\n",
    "        index=[0],\n",
    "    )\n",
    "\n",
    "    compartment_feature_group_df = pd.concat(\n",
    "        [compartment_feature_group_df, df], ignore_index=True\n",
    "    )\n",
    "\n",
    "compartment_feature_group_df = compartment_feature_group_df.pivot(\n",
    "    index=\"Feature_group\", columns=\"Compartment\", values=\"Similarity\"\n",
    ")"
   ]
  },
  {
   "cell_type": "code",
   "execution_count": 9,
   "metadata": {},
   "outputs": [
    {
     "name": "stdout",
     "output_type": "stream",
     "text": [
      "| Feature_group   |    Cells |   Cytoplasm |   Nuclei |\n",
      "|:----------------|---------:|------------:|---------:|\n",
      "| AreaShape       | 0.205485 |    0.156733 | 0.191623 |\n"
     ]
    }
   ],
   "source": [
    "print(compartment_feature_group_df.to_markdown())"
   ]
  },
  {
   "cell_type": "code",
   "execution_count": 10,
   "metadata": {},
   "outputs": [
    {
     "data": {
      "image/png": "[encoded data removed]",
      "text/plain": [
       "<Figure size 500x200 with 1 Axes>"
      ]
     },
     "metadata": {},
     "output_type": "display_data"
    }
   ],
   "source": [
    "n_row = compartment_feature_group_df.shape[0]\n",
    "n_col = compartment_feature_group_df.shape[1]\n",
    "fig_width = n_row + 4\n",
    "fig_height = 2\n",
    "sns.set(font_scale=1)\n",
    "\n",
    "plt.figure(figsize = (fig_width, fig_height))\n",
    "\n",
    "f = sns.heatmap(\n",
    "    compartment_feature_group_df,\n",
    "    cmap=\"RdBu\",\n",
    "    vmin=-1,\n",
    "    vmax=1,\n",
    "    xticklabels=True,\n",
    "    yticklabels=True,\n",
    "    annot=True,\n",
    "    cbar=None,\n",
    ")\n",
    "\n",
    "f.set(xlabel=\"Compartment\", ylabel=\"Feature Group\")\n",
    "\n",
    "f.xaxis.label.set_size(12)\n",
    "f.yaxis.label.set_size(12)\n",
    "plt.tight_layout()\n",
    "\n",
    "plt.savefig(f\"figures/{'-'.join(genes)}_area_size_compartment.png\")\n",
    "plt.savefig(f\"figures/{'-'.join(genes)}_area_size_compartment.svg\")"
   ]
  },
  {
   "cell_type": "code",
   "execution_count": 11,
   "metadata": {},
   "outputs": [
    {
     "data": {
      "application/vnd.jupyter.widget-view+json": {
       "model_id": "60df4252e09048e4aa665a134805359b",
       "version_major": 2,
       "version_minor": 0
      },
      "text/plain": [
       "  0%|          | 0/1 [00:00<?, ?it/s]"
      ]
     },
     "metadata": {},
     "output_type": "display_data"
    },
    {
     "data": {
      "application/vnd.jupyter.widget-view+json": {
       "model_id": "66580f6ce4274f7b84d0a053cc0f36d4",
       "version_major": 2,
       "version_minor": 0
      },
      "text/plain": [
       "  0%|          | 0/1 [00:00<?, ?it/s]"
      ]
     },
     "metadata": {},
     "output_type": "display_data"
    },
    {
     "data": {
      "application/vnd.jupyter.widget-view+json": {
       "model_id": "2f7352a88d3e42d48499f1d49b21a377",
       "version_major": 2,
       "version_minor": 0
      },
      "text/plain": [
       "  0%|          | 0/1 [00:00<?, ?it/s]"
      ]
     },
     "metadata": {},
     "output_type": "display_data"
    },
    {
     "data": {
      "application/vnd.jupyter.widget-view+json": {
       "model_id": "d7f6530df7ee4b34ad1e3b660e2b7413",
       "version_major": 2,
       "version_minor": 0
      },
      "text/plain": [
       "  0%|          | 0/1 [00:00<?, ?it/s]"
      ]
     },
     "metadata": {},
     "output_type": "display_data"
    },
    {
     "data": {
      "application/vnd.jupyter.widget-view+json": {
       "model_id": "b91bfbc281004a6a8252f8251fcffe13",
       "version_major": 2,
       "version_minor": 0
      },
      "text/plain": [
       "  0%|          | 0/1 [00:00<?, ?it/s]"
      ]
     },
     "metadata": {},
     "output_type": "display_data"
    },
    {
     "data": {
      "application/vnd.jupyter.widget-view+json": {
       "model_id": "af816bd2f7064dfa9d4ba26880809390",
       "version_major": 2,
       "version_minor": 0
      },
      "text/plain": [
       "  0%|          | 0/1 [00:00<?, ?it/s]"
      ]
     },
     "metadata": {},
     "output_type": "display_data"
    },
    {
     "data": {
      "application/vnd.jupyter.widget-view+json": {
       "model_id": "fa9e214bcba7428799c6368deef95837",
       "version_major": 2,
       "version_minor": 0
      },
      "text/plain": [
       "  0%|          | 0/1 [00:00<?, ?it/s]"
      ]
     },
     "metadata": {},
     "output_type": "display_data"
    },
    {
     "data": {
      "application/vnd.jupyter.widget-view+json": {
       "model_id": "914c110bc4044e9daf73a2cacd079a9f",
       "version_major": 2,
       "version_minor": 0
      },
      "text/plain": [
       "  0%|          | 0/1 [00:00<?, ?it/s]"
      ]
     },
     "metadata": {},
     "output_type": "display_data"
    },
    {
     "data": {
      "application/vnd.jupyter.widget-view+json": {
       "model_id": "e197383c24874b439cfa9218dd7d2d1e",
       "version_major": 2,
       "version_minor": 0
      },
      "text/plain": [
       "  0%|          | 0/1 [00:00<?, ?it/s]"
      ]
     },
     "metadata": {},
     "output_type": "display_data"
    },
    {
     "data": {
      "application/vnd.jupyter.widget-view+json": {
       "model_id": "f380272b3d10420b90852d5a3b64d5b9",
       "version_major": 2,
       "version_minor": 0
      },
      "text/plain": [
       "  0%|          | 0/1 [00:00<?, ?it/s]"
      ]
     },
     "metadata": {},
     "output_type": "display_data"
    },
    {
     "data": {
      "application/vnd.jupyter.widget-view+json": {
       "model_id": "c3ce8fc3399445d98d26100d17044b13",
       "version_major": 2,
       "version_minor": 0
      },
      "text/plain": [
       "  0%|          | 0/1 [00:00<?, ?it/s]"
      ]
     },
     "metadata": {},
     "output_type": "display_data"
    },
    {
     "data": {
      "application/vnd.jupyter.widget-view+json": {
       "model_id": "8e540261842e4a558e5347cbfbfc69fd",
       "version_major": 2,
       "version_minor": 0
      },
      "text/plain": [
       "  0%|          | 0/1 [00:00<?, ?it/s]"
      ]
     },
     "metadata": {},
     "output_type": "display_data"
    },
    {
     "data": {
      "application/vnd.jupyter.widget-view+json": {
       "model_id": "31fce4bb034646fb9e7bd01ddfaa2d90",
       "version_major": 2,
       "version_minor": 0
      },
      "text/plain": [
       "  0%|          | 0/1 [00:00<?, ?it/s]"
      ]
     },
     "metadata": {},
     "output_type": "display_data"
    },
    {
     "data": {
      "application/vnd.jupyter.widget-view+json": {
       "model_id": "6437119b82a64f41b6c40a0abca273a4",
       "version_major": 2,
       "version_minor": 0
      },
      "text/plain": [
       "  0%|          | 0/1 [00:00<?, ?it/s]"
      ]
     },
     "metadata": {},
     "output_type": "display_data"
    },
    {
     "data": {
      "application/vnd.jupyter.widget-view+json": {
       "model_id": "3bf951365f784e0bbf7812f4ce6eae23",
       "version_major": 2,
       "version_minor": 0
      },
      "text/plain": [
       "  0%|          | 0/1 [00:00<?, ?it/s]"
      ]
     },
     "metadata": {},
     "output_type": "display_data"
    }
   ],
   "source": [
    "channel_feature_group_df = pd.DataFrame()\n",
    "\n",
    "for channel in channels:\n",
    "    for feature_group in feature_group_list:\n",
    "        feature_cols = (\n",
    "            feature_name_interpretation_df.query(\"feature_group==@feature_group\")\n",
    "            .query(\"channel==@channel\")\n",
    "            .feature.to_list()\n",
    "        )\n",
    "        feature_values = orf_profiles_with_feature_names_df[feature_cols].copy().values\n",
    "        id = list(orf_profiles_with_feature_names_df[\"Metadata_Symbol\"])\n",
    "\n",
    "        cosine_sim = utils.cosine_similarity(id, feature_values).values[0, 1]\n",
    "\n",
    "        df = pd.DataFrame(\n",
    "            {\n",
    "                \"Channel\": channel,\n",
    "                \"Feature_group\": feature_group,\n",
    "                \"Similarity\": cosine_sim,\n",
    "            },\n",
    "            index=[0],\n",
    "        )\n",
    "\n",
    "        channel_feature_group_df = pd.concat(\n",
    "            [channel_feature_group_df, df], ignore_index=True\n",
    "        )\n",
    "\n",
    "channel_feature_group_df = channel_feature_group_df.pivot(\n",
    "    index=\"Feature_group\", columns=\"Channel\", values=\"Similarity\"\n",
    ")"
   ]
  },
  {
   "cell_type": "code",
   "execution_count": 12,
   "metadata": {},
   "outputs": [
    {
     "name": "stdout",
     "output_type": "stream",
     "text": [
      "| Feature_group      |      AGP |      DNA |       ER |     Mito |      RNA |\n",
      "|:-------------------|---------:|---------:|---------:|---------:|---------:|\n",
      "| Intensity          | 0.979585 | 0.809452 | 0.933669 | 0.95074  | 0.98562  |\n",
      "| RadialDistribution | 0.786593 | 0.918739 | 0.94649  | 0.869258 | 0.916873 |\n",
      "| Texture            | 0.96602  | 0.844702 | 0.914195 | 0.979294 | 0.978576 |\n"
     ]
    }
   ],
   "source": [
    "print(channel_feature_group_df.to_markdown())"
   ]
  },
  {
   "cell_type": "code",
   "execution_count": 13,
   "metadata": {},
   "outputs": [
    {
     "data": {
      "image/png": "[encoded data removed]",
      "text/plain": [
       "<Figure size 1000x600 with 2 Axes>"
      ]
     },
     "metadata": {},
     "output_type": "display_data"
    }
   ],
   "source": [
    "sns.set(font_scale=1)\n",
    "plt.figure(figsize = (fig_width*2, fig_height*3))\n",
    "\n",
    "f = sns.heatmap(\n",
    "    channel_feature_group_df,\n",
    "    cmap=\"RdBu\",\n",
    "    vmin=-1,\n",
    "    vmax=1,\n",
    "    xticklabels=True,\n",
    "    yticklabels=True,\n",
    "    annot=True,\n",
    ")\n",
    "\n",
    "f.set(xlabel=\"Channel\", ylabel=\"Feature Group\")\n",
    "\n",
    "f.xaxis.label.set_size(12)\n",
    "f.yaxis.label.set_size(12)\n",
    "plt.tight_layout()\n",
    "plt.savefig(f\"figures/{'-'.join(genes)}_feature_group_channel.png\")\n",
    "plt.savefig(f\"figures/{'-'.join(genes)}_feature_group_channel.svg\")"
   ]
  },
  {
   "cell_type": "markdown",
   "metadata": {},
   "source": [
    "### Feature wise analysis"
   ]
  },
  {
   "cell_type": "code",
   "execution_count": 14,
   "metadata": {},
   "outputs": [],
   "source": [
    "jcp_id_gene_name = {\n",
    "    \"JCP2022_902841\": \"RAB30_pval\",\n",
    "    \"JCP2022_903554\": \"NAT14_pval\",\n",
    "}\n",
    "\n",
    "pval = 0.05\n",
    "\n",
    "col_order = ['feature', 'compartment', 'feature_group', 'feature_type', 'channel', 'RAB30_pval', 'NAT14_pval']"
   ]
  },
  {
   "cell_type": "code",
   "execution_count": 15,
   "metadata": {},
   "outputs": [
    {
     "data": {
      "text/html": [
       "<div>\n",
       "<style scoped>\n",
       "    .dataframe tbody tr th:only-of-type {\n",
       "        vertical-align: middle;\n",
       "    }\n",
       "\n",
       "    .dataframe tbody tr th {\n",
       "        vertical-align: top;\n",
       "    }\n",
       "\n",
       "    .dataframe thead th {\n",
       "        text-align: right;\n",
       "    }\n",
       "</style>\n",
       "<table border=\"1\" class=\"dataframe\">\n",
       "  <thead>\n",
       "    <tr style=\"text-align: right;\">\n",
       "      <th></th>\n",
       "      <th>JCP2022_907604</th>\n",
       "      <th>JCP2022_906938</th>\n",
       "      <th>JCP2022_904829</th>\n",
       "      <th>JCP2022_913268</th>\n",
       "      <th>JCP2022_914563</th>\n",
       "      <th>JCP2022_903410</th>\n",
       "      <th>JCP2022_912780</th>\n",
       "      <th>JCP2022_904413</th>\n",
       "      <th>JCP2022_904180</th>\n",
       "      <th>JCP2022_914905</th>\n",
       "      <th>...</th>\n",
       "      <th>JCP2022_906442</th>\n",
       "      <th>JCP2022_911330</th>\n",
       "      <th>JCP2022_907329</th>\n",
       "      <th>JCP2022_908513</th>\n",
       "      <th>JCP2022_910221</th>\n",
       "      <th>JCP2022_905250</th>\n",
       "      <th>JCP2022_910545</th>\n",
       "      <th>JCP2022_901076</th>\n",
       "      <th>JCP2022_910969</th>\n",
       "      <th>JCP2022_908887</th>\n",
       "    </tr>\n",
       "    <tr>\n",
       "      <th>Feature</th>\n",
       "      <th></th>\n",
       "      <th></th>\n",
       "      <th></th>\n",
       "      <th></th>\n",
       "      <th></th>\n",
       "      <th></th>\n",
       "      <th></th>\n",
       "      <th></th>\n",
       "      <th></th>\n",
       "      <th></th>\n",
       "      <th></th>\n",
       "      <th></th>\n",
       "      <th></th>\n",
       "      <th></th>\n",
       "      <th></th>\n",
       "      <th></th>\n",
       "      <th></th>\n",
       "      <th></th>\n",
       "      <th></th>\n",
       "      <th></th>\n",
       "      <th></th>\n",
       "    </tr>\n",
       "  </thead>\n",
       "  <tbody>\n",
       "    <tr>\n",
       "      <th>Cells_AreaShape_Area</th>\n",
       "      <td>0.164502</td>\n",
       "      <td>0.075753</td>\n",
       "      <td>0.125786</td>\n",
       "      <td>0.125786</td>\n",
       "      <td>0.951170</td>\n",
       "      <td>0.198449</td>\n",
       "      <td>0.039960</td>\n",
       "      <td>0.759463</td>\n",
       "      <td>0.309690</td>\n",
       "      <td>0.005857</td>\n",
       "      <td>...</td>\n",
       "      <td>0.759463</td>\n",
       "      <td>0.439560</td>\n",
       "      <td>0.019314</td>\n",
       "      <td>0.075753</td>\n",
       "      <td>0.110375</td>\n",
       "      <td>0.055278</td>\n",
       "      <td>0.057649</td>\n",
       "      <td>0.513487</td>\n",
       "      <td>0.767899</td>\n",
       "      <td>0.953047</td>\n",
       "    </tr>\n",
       "    <tr>\n",
       "      <th>Cells_AreaShape_BoundingBoxArea</th>\n",
       "      <td>0.309690</td>\n",
       "      <td>0.023465</td>\n",
       "      <td>0.668170</td>\n",
       "      <td>0.057649</td>\n",
       "      <td>0.125786</td>\n",
       "      <td>0.668170</td>\n",
       "      <td>0.001332</td>\n",
       "      <td>0.581541</td>\n",
       "      <td>0.594073</td>\n",
       "      <td>0.012048</td>\n",
       "      <td>...</td>\n",
       "      <td>0.358326</td>\n",
       "      <td>0.513487</td>\n",
       "      <td>0.004662</td>\n",
       "      <td>0.158996</td>\n",
       "      <td>0.126370</td>\n",
       "      <td>0.055278</td>\n",
       "      <td>0.023465</td>\n",
       "      <td>0.953047</td>\n",
       "      <td>0.953047</td>\n",
       "      <td>0.767899</td>\n",
       "    </tr>\n",
       "    <tr>\n",
       "      <th>Cells_AreaShape_BoundingBoxMaximum_X</th>\n",
       "      <td>0.678655</td>\n",
       "      <td>0.023465</td>\n",
       "      <td>0.951170</td>\n",
       "      <td>0.098248</td>\n",
       "      <td>0.358326</td>\n",
       "      <td>0.297860</td>\n",
       "      <td>0.129204</td>\n",
       "      <td>0.951170</td>\n",
       "      <td>0.678655</td>\n",
       "      <td>0.854240</td>\n",
       "      <td>...</td>\n",
       "      <td>0.425983</td>\n",
       "      <td>0.055278</td>\n",
       "      <td>0.859141</td>\n",
       "      <td>0.297860</td>\n",
       "      <td>0.015876</td>\n",
       "      <td>0.859141</td>\n",
       "      <td>0.012048</td>\n",
       "      <td>0.594073</td>\n",
       "      <td>0.859141</td>\n",
       "      <td>0.767899</td>\n",
       "    </tr>\n",
       "    <tr>\n",
       "      <th>Cells_AreaShape_BoundingBoxMaximum_Y</th>\n",
       "      <td>0.099234</td>\n",
       "      <td>0.043297</td>\n",
       "      <td>0.016929</td>\n",
       "      <td>0.358326</td>\n",
       "      <td>0.057649</td>\n",
       "      <td>0.016929</td>\n",
       "      <td>0.678655</td>\n",
       "      <td>0.358326</td>\n",
       "      <td>0.513487</td>\n",
       "      <td>0.098248</td>\n",
       "      <td>...</td>\n",
       "      <td>0.244624</td>\n",
       "      <td>0.953047</td>\n",
       "      <td>0.370962</td>\n",
       "      <td>0.043297</td>\n",
       "      <td>0.610385</td>\n",
       "      <td>0.953047</td>\n",
       "      <td>0.004000</td>\n",
       "      <td>1.000000</td>\n",
       "      <td>0.206460</td>\n",
       "      <td>0.513487</td>\n",
       "    </tr>\n",
       "    <tr>\n",
       "      <th>Cells_AreaShape_BoundingBoxMinimum_X</th>\n",
       "      <td>0.594073</td>\n",
       "      <td>0.012048</td>\n",
       "      <td>0.854240</td>\n",
       "      <td>0.198449</td>\n",
       "      <td>0.425983</td>\n",
       "      <td>0.581541</td>\n",
       "      <td>0.439560</td>\n",
       "      <td>0.759463</td>\n",
       "      <td>0.439560</td>\n",
       "      <td>0.854240</td>\n",
       "      <td>...</td>\n",
       "      <td>0.358326</td>\n",
       "      <td>0.055278</td>\n",
       "      <td>0.859141</td>\n",
       "      <td>0.297860</td>\n",
       "      <td>0.005934</td>\n",
       "      <td>0.678655</td>\n",
       "      <td>0.004000</td>\n",
       "      <td>0.513487</td>\n",
       "      <td>0.859141</td>\n",
       "      <td>0.678655</td>\n",
       "    </tr>\n",
       "  </tbody>\n",
       "</table>\n",
       "<p>5 rows × 15105 columns</p>\n",
       "</div>"
      ],
      "text/plain": [
       "                                      JCP2022_907604  JCP2022_906938  \\\n",
       "Feature                                                                \n",
       "Cells_AreaShape_Area                        0.164502        0.075753   \n",
       "Cells_AreaShape_BoundingBoxArea             0.309690        0.023465   \n",
       "Cells_AreaShape_BoundingBoxMaximum_X        0.678655        0.023465   \n",
       "Cells_AreaShape_BoundingBoxMaximum_Y        0.099234        0.043297   \n",
       "Cells_AreaShape_BoundingBoxMinimum_X        0.594073        0.012048   \n",
       "\n",
       "                                      JCP2022_904829  JCP2022_913268  \\\n",
       "Feature                                                                \n",
       "Cells_AreaShape_Area                        0.125786        0.125786   \n",
       "Cells_AreaShape_BoundingBoxArea             0.668170        0.057649   \n",
       "Cells_AreaShape_BoundingBoxMaximum_X        0.951170        0.098248   \n",
       "Cells_AreaShape_BoundingBoxMaximum_Y        0.016929        0.358326   \n",
       "Cells_AreaShape_BoundingBoxMinimum_X        0.854240        0.198449   \n",
       "\n",
       "                                      JCP2022_914563  JCP2022_903410  \\\n",
       "Feature                                                                \n",
       "Cells_AreaShape_Area                        0.951170        0.198449   \n",
       "Cells_AreaShape_BoundingBoxArea             0.125786        0.668170   \n",
       "Cells_AreaShape_BoundingBoxMaximum_X        0.358326        0.297860   \n",
       "Cells_AreaShape_BoundingBoxMaximum_Y        0.057649        0.016929   \n",
       "Cells_AreaShape_BoundingBoxMinimum_X        0.425983        0.581541   \n",
       "\n",
       "                                      JCP2022_912780  JCP2022_904413  \\\n",
       "Feature                                                                \n",
       "Cells_AreaShape_Area                        0.039960        0.759463   \n",
       "Cells_AreaShape_BoundingBoxArea             0.001332        0.581541   \n",
       "Cells_AreaShape_BoundingBoxMaximum_X        0.129204        0.951170   \n",
       "Cells_AreaShape_BoundingBoxMaximum_Y        0.678655        0.358326   \n",
       "Cells_AreaShape_BoundingBoxMinimum_X        0.439560        0.759463   \n",
       "\n",
       "                                      JCP2022_904180  JCP2022_914905  ...  \\\n",
       "Feature                                                               ...   \n",
       "Cells_AreaShape_Area                        0.309690        0.005857  ...   \n",
       "Cells_AreaShape_BoundingBoxArea             0.594073        0.012048  ...   \n",
       "Cells_AreaShape_BoundingBoxMaximum_X        0.678655        0.854240  ...   \n",
       "Cells_AreaShape_BoundingBoxMaximum_Y        0.513487        0.098248  ...   \n",
       "Cells_AreaShape_BoundingBoxMinimum_X        0.439560        0.854240  ...   \n",
       "\n",
       "                                      JCP2022_906442  JCP2022_911330  \\\n",
       "Feature                                                                \n",
       "Cells_AreaShape_Area                        0.759463        0.439560   \n",
       "Cells_AreaShape_BoundingBoxArea             0.358326        0.513487   \n",
       "Cells_AreaShape_BoundingBoxMaximum_X        0.425983        0.055278   \n",
       "Cells_AreaShape_BoundingBoxMaximum_Y        0.244624        0.953047   \n",
       "Cells_AreaShape_BoundingBoxMinimum_X        0.358326        0.055278   \n",
       "\n",
       "                                      JCP2022_907329  JCP2022_908513  \\\n",
       "Feature                                                                \n",
       "Cells_AreaShape_Area                        0.019314        0.075753   \n",
       "Cells_AreaShape_BoundingBoxArea             0.004662        0.158996   \n",
       "Cells_AreaShape_BoundingBoxMaximum_X        0.859141        0.297860   \n",
       "Cells_AreaShape_BoundingBoxMaximum_Y        0.370962        0.043297   \n",
       "Cells_AreaShape_BoundingBoxMinimum_X        0.859141        0.297860   \n",
       "\n",
       "                                      JCP2022_910221  JCP2022_905250  \\\n",
       "Feature                                                                \n",
       "Cells_AreaShape_Area                        0.110375        0.055278   \n",
       "Cells_AreaShape_BoundingBoxArea             0.126370        0.055278   \n",
       "Cells_AreaShape_BoundingBoxMaximum_X        0.015876        0.859141   \n",
       "Cells_AreaShape_BoundingBoxMaximum_Y        0.610385        0.953047   \n",
       "Cells_AreaShape_BoundingBoxMinimum_X        0.005934        0.678655   \n",
       "\n",
       "                                      JCP2022_910545  JCP2022_901076  \\\n",
       "Feature                                                                \n",
       "Cells_AreaShape_Area                        0.057649        0.513487   \n",
       "Cells_AreaShape_BoundingBoxArea             0.023465        0.953047   \n",
       "Cells_AreaShape_BoundingBoxMaximum_X        0.012048        0.594073   \n",
       "Cells_AreaShape_BoundingBoxMaximum_Y        0.004000        1.000000   \n",
       "Cells_AreaShape_BoundingBoxMinimum_X        0.004000        0.513487   \n",
       "\n",
       "                                      JCP2022_910969  JCP2022_908887  \n",
       "Feature                                                               \n",
       "Cells_AreaShape_Area                        0.767899        0.953047  \n",
       "Cells_AreaShape_BoundingBoxArea             0.953047        0.767899  \n",
       "Cells_AreaShape_BoundingBoxMaximum_X        0.859141        0.767899  \n",
       "Cells_AreaShape_BoundingBoxMaximum_Y        0.206460        0.513487  \n",
       "Cells_AreaShape_BoundingBoxMinimum_X        0.859141        0.678655  \n",
       "\n",
       "[5 rows x 15105 columns]"
      ]
     },
     "execution_count": 15,
     "metadata": {},
     "output_type": "execute_result"
    }
   ],
   "source": [
    "orf_df = pd.read_parquet('../10.feature-wise-analyses/input/orf_feat_pert_pval_mwu.parquet').set_index('Feature')\n",
    "orf_df.head()"
   ]
  },
  {
   "cell_type": "code",
   "execution_count": 16,
   "metadata": {},
   "outputs": [],
   "source": [
    "#JCP ID of interest\n",
    "\n",
    "jcp_id = list(orf_profiles_with_feature_names_df.Metadata_JCP2022)"
   ]
  },
  {
   "cell_type": "code",
   "execution_count": 17,
   "metadata": {},
   "outputs": [
    {
     "data": {
      "text/html": [
       "<div>\n",
       "<style scoped>\n",
       "    .dataframe tbody tr th:only-of-type {\n",
       "        vertical-align: middle;\n",
       "    }\n",
       "\n",
       "    .dataframe tbody tr th {\n",
       "        vertical-align: top;\n",
       "    }\n",
       "\n",
       "    .dataframe thead th {\n",
       "        text-align: right;\n",
       "    }\n",
       "</style>\n",
       "<table border=\"1\" class=\"dataframe\">\n",
       "  <thead>\n",
       "    <tr style=\"text-align: right;\">\n",
       "      <th></th>\n",
       "      <th>feature</th>\n",
       "      <th>RAB30_pval</th>\n",
       "      <th>NAT14_pval</th>\n",
       "    </tr>\n",
       "  </thead>\n",
       "  <tbody>\n",
       "    <tr>\n",
       "      <th>0</th>\n",
       "      <td>Cells_AreaShape_Area</td>\n",
       "      <td>0.000666</td>\n",
       "      <td>0.012654</td>\n",
       "    </tr>\n",
       "    <tr>\n",
       "      <th>1</th>\n",
       "      <td>Cells_AreaShape_BoundingBoxArea</td>\n",
       "      <td>0.000666</td>\n",
       "      <td>0.000666</td>\n",
       "    </tr>\n",
       "    <tr>\n",
       "      <th>2</th>\n",
       "      <td>Cells_AreaShape_BoundingBoxMaximum_X</td>\n",
       "      <td>0.370962</td>\n",
       "      <td>0.039960</td>\n",
       "    </tr>\n",
       "    <tr>\n",
       "      <th>3</th>\n",
       "      <td>Cells_AreaShape_BoundingBoxMaximum_Y</td>\n",
       "      <td>0.370962</td>\n",
       "      <td>0.953047</td>\n",
       "    </tr>\n",
       "    <tr>\n",
       "      <th>4</th>\n",
       "      <td>Cells_AreaShape_BoundingBoxMinimum_X</td>\n",
       "      <td>0.594073</td>\n",
       "      <td>0.075258</td>\n",
       "    </tr>\n",
       "  </tbody>\n",
       "</table>\n",
       "</div>"
      ],
      "text/plain": [
       "                                feature  RAB30_pval  NAT14_pval\n",
       "0                  Cells_AreaShape_Area    0.000666    0.012654\n",
       "1       Cells_AreaShape_BoundingBoxArea    0.000666    0.000666\n",
       "2  Cells_AreaShape_BoundingBoxMaximum_X    0.370962    0.039960\n",
       "3  Cells_AreaShape_BoundingBoxMaximum_Y    0.370962    0.953047\n",
       "4  Cells_AreaShape_BoundingBoxMinimum_X    0.594073    0.075258"
      ]
     },
     "execution_count": 17,
     "metadata": {},
     "output_type": "execute_result"
    }
   ],
   "source": [
    "orf_df = (\n",
    "    orf_df[jcp_id]\n",
    "    .reset_index()\n",
    "    .rename(columns={\"Feature\": \"feature\"})\n",
    "    .rename(columns=jcp_id_gene_name)\n",
    ")\n",
    "orf_df.head()"
   ]
  },
  {
   "cell_type": "code",
   "execution_count": 18,
   "metadata": {},
   "outputs": [],
   "source": [
    "feature_names = list(orf_df.feature.values)\n",
    "\n",
    "feature_name_interpretation_df = pd.DataFrame()\n",
    "\n",
    "for feature_name in feature_names:\n",
    "    df = pd.DataFrame(utils.parse_cp_features(feature_name), index=[0])\n",
    "    feature_name_interpretation_df = pd.concat([feature_name_interpretation_df, df], ignore_index=True)"
   ]
  },
  {
   "cell_type": "code",
   "execution_count": 19,
   "metadata": {},
   "outputs": [],
   "source": [
    "# Remove Correlation features\n",
    "feature_name_interpretation_df = feature_name_interpretation_df[\n",
    "    ~feature_name_interpretation_df.feature.str.contains(\"Correlation\")\n",
    "]\n",
    "\n",
    "# Remove Object Number features\n",
    "\n",
    "feature_name_interpretation_df = feature_name_interpretation_df[\n",
    "    ~feature_name_interpretation_df.feature.str.contains(\"ObjectNumber\")\n",
    "]\n",
    "\n",
    "feature_name_interpretation_df = feature_name_interpretation_df[\n",
    "    ~feature_name_interpretation_df.feature.str.contains(\"Object_Number\")\n",
    "]\n",
    "\n",
    "feature_name_interpretation_df = feature_name_interpretation_df[\n",
    "    ~feature_name_interpretation_df.channel.str.contains(\"XNONE\")\n",
    "]\n",
    "\n",
    "feature_name_interpretation_df = feature_name_interpretation_df[\n",
    "    ~feature_name_interpretation_df.channel.str.contains(\"YNONE\")\n",
    "]\n",
    "\n",
    "feature_name_interpretation_df = feature_name_interpretation_df[\n",
    "    ~feature_name_interpretation_df.feature_type.str.contains(\"XNONE\")\n",
    "]\n",
    "\n",
    "feature_name_interpretation_df = feature_name_interpretation_df[\n",
    "    ~feature_name_interpretation_df.feature_type.str.contains(\"YNONE\")\n",
    "]"
   ]
  },
  {
   "cell_type": "code",
   "execution_count": 20,
   "metadata": {},
   "outputs": [],
   "source": [
    "orf_df = orf_df.merge(feature_name_interpretation_df, on=\"feature\", how=\"inner\")\n",
    "\n",
    "orf_df = orf_df.query(\"RAB30_pval < @pval and NAT14_pval < @pval\")"
   ]
  },
  {
   "cell_type": "code",
   "execution_count": 21,
   "metadata": {},
   "outputs": [],
   "source": [
    "orf_df[col_order].to_csv('output/RAB30-NAT14-all-significant-features.csv.gz', index=False)"
   ]
  },
  {
   "cell_type": "code",
   "execution_count": 22,
   "metadata": {},
   "outputs": [],
   "source": [
    "nat14_df = orf_df.sort_values(by=\"NAT14_pval\", ascending=True).drop_duplicates(subset=[\"compartment\", \"feature_group\", \"feature_type\"])\n",
    "\n",
    "nat14_df[col_order].to_csv('output/RAB30-NAT14-top-features-nat14.csv.gz', index=False)"
   ]
  },
  {
   "cell_type": "code",
   "execution_count": 23,
   "metadata": {},
   "outputs": [],
   "source": [
    "rab30_df = orf_df.sort_values(by=\"RAB30_pval\", ascending=True).drop_duplicates(subset=[\"compartment\", \"feature_group\", \"feature_type\"])\n",
    "\n",
    "rab30_df[col_order].to_csv('output/RAB30-NAT14-top-features-rab30.csv.gz', index=False)"
   ]
  },
  {
   "cell_type": "markdown",
   "metadata": {},
   "source": [
    "Genes most similar to RAB30 and NAT14"
   ]
  },
  {
   "cell_type": "code",
   "execution_count": 24,
   "metadata": {},
   "outputs": [],
   "source": [
    "df = orf_similarity_percentile_df.loc[:, [\"NAT14\", \"RAB30\"]]\n",
    "\n",
    "genes = df.sort_values(by=\"NAT14\", ascending=False).head(10).index.to_list() + df.sort_values(by=\"RAB30\", ascending=False).head(10).index.to_list()\n",
    "\n",
    "genes = np.unique(genes)"
   ]
  },
  {
   "cell_type": "code",
   "execution_count": 25,
   "metadata": {},
   "outputs": [
    {
     "name": "stdout",
     "output_type": "stream",
     "text": [
      "| Metadata_Symbol   | Metadata_Plate   | Metadata_Well   | Metadata_Batch    |\n",
      "|:------------------|:-----------------|:----------------|:------------------|\n",
      "| CLDN3             | BR00123947       | I01             | 2021_06_07_Batch5 |\n",
      "| SRI               | BR00123947       | O01             | 2021_06_07_Batch5 |\n",
      "| SOCS2             | BR00123947       | M01             | 2021_06_07_Batch5 |\n",
      "| ALMS1P1           | BR00123947       | C01             | 2021_06_07_Batch5 |\n",
      "| PPCDC             | BR00123947       | A01             | 2021_06_07_Batch5 |\n",
      "| RAB30             | BR00123947       | G01             | 2021_06_07_Batch5 |\n",
      "| NAT14             | BR00123947       | E01             | 2021_06_07_Batch5 |\n",
      "| TREML2            | BR00123952       | I01             | 2021_06_07_Batch5 |\n",
      "| IL26              | BR00123952       | C13             | 2021_06_07_Batch5 |\n",
      "| IL26              | BR00123952       | C01             | 2021_06_07_Batch5 |\n",
      "| ASPDH             | BR00123952       | G01             | 2021_06_07_Batch5 |\n",
      "| CRYGS             | BR00123957       | C02             | 2021_06_07_Batch5 |\n",
      "| TM2D2             | BR00123957       | C01             | 2021_06_07_Batch5 |\n",
      "| CEP104            | BR00123957       | G01             | 2021_06_07_Batch5 |\n"
     ]
    }
   ],
   "source": [
    "profiles = (\n",
    "    pd.read_parquet(\"../profiles/profiles_wellpos_cc_var_mad_outlier_orf.parquet\")\n",
    "    .merge(orf_metadata_df, on=\"Metadata_JCP2022\", how=\"inner\")\n",
    "    .query(\"Metadata_Symbol in @genes\")\n",
    ")\n",
    "\n",
    "profiles = profiles.drop_duplicates(subset=[\"Metadata_Symbol\", \"Metadata_Well\"])\n",
    "\n",
    "profiles = profiles[[\"Metadata_Symbol\", \"Metadata_Plate\", \"Metadata_Well\"]]\n",
    "\n",
    "plates = pd.read_csv('../datasets/metadata/plate.csv.gz', usecols=[\"Metadata_Batch\", \"Metadata_Plate\"])\n",
    "\n",
    "profiles = profiles.merge(plates, on=\"Metadata_Plate\", how=\"inner\")\n",
    "\n",
    "print(profiles.to_markdown(index=False))"
   ]
  },
  {
   "cell_type": "code",
   "execution_count": 26,
   "metadata": {},
   "outputs": [
    {
     "name": "stdout",
     "output_type": "stream",
     "text": [
      "| Metadata_Plate   | Metadata_Well   | Metadata_Symbol   |\n",
      "|:-----------------|:----------------|:------------------|\n",
      "| BR00123947       | A21             | LUCIFERASE        |\n",
      "| BR00123947       | C05             | BFP               |\n",
      "| BR00123947       | C08             | BFP               |\n",
      "| BR00123947       | E01             | NAT14             |\n",
      "| BR00123947       | E02             | LacZ              |\n",
      "| BR00123947       | E07             | HcRed             |\n",
      "| BR00123947       | E14             | LUCIFERASE        |\n",
      "| BR00123947       | F22             | LacZ              |\n",
      "| BR00123947       | G01             | RAB30             |\n",
      "| BR00123947       | J05             | LUCIFERASE        |\n",
      "| BR00123947       | J11             | BFP               |\n"
     ]
    }
   ],
   "source": [
    "# Check the contents of plates\n",
    "\n",
    "wells = [\"A21\", \"C05\", \"C08\", \"E01\", \"E02\", \"E07\", \"E14\", \"F22\", \"G01\", \"J05\", \"J11\"]\n",
    "plate = \"BR00123947\"\n",
    "\n",
    "wells_df = pd.read_csv('../datasets/metadata/well.csv.gz').query(\"Metadata_Plate == @plate\").query(\"Metadata_Well in @wells\")\n",
    "\n",
    "wells_df = wells_df.merge(orf_metadata_df, on=\"Metadata_JCP2022\", how=\"inner\").sort_values(by=\"Metadata_Well\")\n",
    "\n",
    "print(wells_df[[\"Metadata_Plate\", \"Metadata_Well\", \"Metadata_Symbol\"]].to_markdown(index=False))"
   ]
  },
  {
   "cell_type": "markdown",
   "metadata": {},
   "source": [
    "Genes showing that plate layout effects still exist."
   ]
  },
  {
   "cell_type": "code",
   "execution_count": 27,
   "metadata": {},
   "outputs": [],
   "source": [
    "genes_to_plot = profiles.query(\"Metadata_Plate==@plate\").Metadata_Symbol.to_list()\n",
    "\n",
    "location = profiles.query(\"Metadata_Plate==@plate\").Metadata_Well.to_list()\n",
    "\n",
    "gene_location = [f\"{location[i]}_{genes_to_plot[i]}\" for i in range(len(genes_to_plot))]\n",
    "\n",
    "df = orf_similarity_percentile_df.loc[genes_to_plot, genes_to_plot]\n",
    "\n",
    "for gene in genes_to_plot:\n",
    "    df.loc[gene, gene] = 1\n",
    "\n",
    "df = pd.DataFrame(df.values, index=gene_location, columns=gene_location)"
   ]
  },
  {
   "cell_type": "code",
   "execution_count": 28,
   "metadata": {},
   "outputs": [
    {
     "data": {
      "image/png": "[encoded data removed]",
      "text/plain": [
       "<Figure size 450x450 with 3 Axes>"
      ]
     },
     "metadata": {},
     "output_type": "display_data"
    }
   ],
   "source": [
    "# Plot the heatmap\n",
    "\n",
    "n_row = df.shape[0]\n",
    "n_col = df.shape[1]\n",
    "fig_width = n_row * 0.5 + 1\n",
    "fig_height = n_col * 0.5 + 1\n",
    "\n",
    "g = sns.clustermap(\n",
    "    df,\n",
    "    cmap=\"RdBu\",\n",
    "    vmin=0,\n",
    "    vmax=1,\n",
    "    dendrogram_ratio=(0.1, 0.1),\n",
    "    figsize=(fig_width, fig_height),\n",
    "    cbar_pos=None,\n",
    ")\n",
    "\n",
    "#set title\n",
    "g.ax_heatmap.set_xlabel(\"\")\n",
    "g.ax_heatmap.set_ylabel(\"\")\n",
    "\n",
    "plt.savefig(f\"figures/spurious-connections-{'-'.join(genes_to_plot)}.png\", dpi=300)\n",
    "plt.savefig(f\"figures/spurious-connections-{'-'.join(genes_to_plot)}.svg\", dpi=300)"
   ]
  }
 ],
 "metadata": {
  "kernelspec": {
   "display_name": "similarity",
   "language": "python",
   "name": "python3"
  },
  "language_info": {
   "codemirror_mode": {
    "name": "ipython",
    "version": 3
   },
   "file_extension": ".py",
   "mimetype": "text/x-python",
   "name": "python",
   "nbconvert_exporter": "python",
   "pygments_lexer": "ipython3",
   "version": "3.10.6"
  }
 },
 "nbformat": 4,
 "nbformat_minor": 2
}
