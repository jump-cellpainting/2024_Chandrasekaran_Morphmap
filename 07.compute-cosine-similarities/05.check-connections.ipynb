{
 "cells": [
  {
   "cell_type": "code",
   "execution_count": 1,
   "metadata": {},
   "outputs": [],
   "source": [
    "import pandas as pd\n",
    "import numpy as np"
   ]
  },
  {
   "cell_type": "code",
   "execution_count": 2,
   "metadata": {},
   "outputs": [],
   "source": [
    "# Read ORF and CRISPR cosine similarities\n",
    "\n",
    "orf_similarity_df = pd.read_parquet('cos_sim/cosine_similarities_genes_orf.parquet')\n",
    "crispr_similarity_df = pd.read_parquet('cos_sim/cosine_similarities_genes_crispr.parquet')"
   ]
  },
  {
   "cell_type": "code",
   "execution_count": 3,
   "metadata": {},
   "outputs": [],
   "source": [
    "def check_connections(\n",
    "    genes, orf_similarity_df, crispr_similarity_df, connections_df, previous\n",
    "):\n",
    "    genes.sort()\n",
    "    for i in range(len(genes) - 1):\n",
    "        gene_1 = genes[i]\n",
    "        for j in range(i + 1, len(genes)):\n",
    "            gene_2 = genes[j]\n",
    "            df = pd.DataFrame(\n",
    "                {\n",
    "                    \"gene_1\": gene_1,\n",
    "                    \"gene_2\": gene_2,\n",
    "                    \"Previous\": previous,\n",
    "                    \"Present_and_replicable_in_ORF\": False,\n",
    "                    \"ORF_cosine_similarity\": np.nan,\n",
    "                    \"Present_and_replicable_in_CRISPR\": False,\n",
    "                    \"CRISPR_cosine_similarity\": np.nan,\n",
    "                },\n",
    "                index=[0],\n",
    "            )\n",
    "            if (\n",
    "                gene_1 in orf_similarity_df.index\n",
    "                and gene_2 in orf_similarity_df.columns\n",
    "            ):\n",
    "                df[\"Present_and_replicable_in_ORF\"] = True\n",
    "                df[\"ORF_cosine_similarity\"] = orf_similarity_df.loc[gene_1, gene_2]\n",
    "            if (\n",
    "                gene_1 in crispr_similarity_df.index\n",
    "                and gene_2 in crispr_similarity_df.columns\n",
    "            ):\n",
    "                df[\"Present_and_replicable_in_CRISPR\"] = True\n",
    "                df[\"CRISPR_cosine_similarity\"] = crispr_similarity_df.loc[\n",
    "                    gene_1, gene_2\n",
    "                ]\n",
    "\n",
    "            connections_df = pd.concat([connections_df, df], ignore_index=True, axis=0)\n",
    "    \n",
    "    connections_df.drop_duplicates(subset=[\"gene_1\", \"gene_2\"], inplace=True, keep=\"first\")\n",
    "\n",
    "    return connections_df"
   ]
  },
  {
   "cell_type": "code",
   "execution_count": 4,
   "metadata": {},
   "outputs": [],
   "source": [
    "connections_df = pd.DataFrame()\n",
    "signal_threshold = 0.4"
   ]
  },
  {
   "cell_type": "markdown",
   "metadata": {},
   "source": [
    "Check previous connections that we were interested in"
   ]
  },
  {
   "cell_type": "code",
   "execution_count": 5,
   "metadata": {},
   "outputs": [],
   "source": [
    "previous_gene_lists = [\n",
    "    [\"ZBTB16\", \"SLC39A1\"],\n",
    "    [\"RAB30\", \"NAT14\"],\n",
    "    [\"MYT1\", \"RNF41\", \"INSYN1\"],\n",
    "    [\"PIK3R3\", \"RAB40A\", \"RAB40B\", \"RAB40C\", \"INSYN1\", \"XLOC_l2_008134\"],\n",
    "    [\"BICD2\", \"HOOK1\", \"HOOK2\", \"SPDL1\", \"NDEL1\", \"NDE1\", \"PAFAH1B1\"],\n",
    "    [\"TRAF2\", \"STK3\", \"YAP1\", \"WWTR1\", \"STK11\"],\n",
    "    [\"GPR176\", \"TSC22D1\", \"DPAT1\", \"CHRM4\"],\n",
    "    [\"ECH1\", \"UQCRFS1\", \"SARS2\"],\n",
    "    [\"POLRID\", \"SPATA25\", \"CAMK2A\", \"GJB2\", \"ATG7\", \"MGLL\", \"CCL14\", \"PNPLA4\", \"EML1\", \"PER1\", \"SLC39A1\"],\n",
    "    [\"FOXO3\", \"TGFB\"]\n",
    "]"
   ]
  },
  {
   "cell_type": "code",
   "execution_count": 6,
   "metadata": {},
   "outputs": [],
   "source": [
    "for genes in previous_gene_lists:\n",
    "    previous = True\n",
    "    connections_df = check_connections(genes, orf_similarity_df, crispr_similarity_df, connections_df, previous=previous)"
   ]
  },
  {
   "cell_type": "markdown",
   "metadata": {},
   "source": [
    "Check all the new connections"
   ]
  },
  {
   "cell_type": "code",
   "execution_count": 7,
   "metadata": {},
   "outputs": [],
   "source": [
    "# Read current positive and negative connections\n",
    "\n",
    "modalities = [\"orf\", \"crispr\"]\n",
    "directions = [\"similar\", \"anti_similar\"]\n",
    "\n",
    "for modality in modalities:\n",
    "    for direction in directions:\n",
    "        df = (\n",
    "            pd.read_csv(f\"output/{modality}_top_{direction}_genes.csv\", index_col=0)\n",
    "            .stack()\n",
    "            .reset_index()\n",
    "            .rename(columns={0: \"cos_sim\", \"level_0\": \"gene_1\", \"level_1\": \"gene_2\"})\n",
    "        )\n",
    "\n",
    "        df = df.query(\"gene_1 != gene_2\")\n",
    "        if direction == \"similar\":\n",
    "            df = df.nlargest(100, \"cos_sim\")\n",
    "        elif direction == \"anti_similar\":\n",
    "            df = df.nsmallest(100, \"cos_sim\")\n",
    "\n",
    "        gene_list = df[[\"gene_1\", \"gene_2\"]].values\n",
    "        previous=False\n",
    "        for genes in gene_list:\n",
    "            connections_df = check_connections(genes, orf_similarity_df, crispr_similarity_df, connections_df, previous=previous)"
   ]
  },
  {
   "cell_type": "markdown",
   "metadata": {},
   "source": [
    "Add all knowledge graph information"
   ]
  },
  {
   "cell_type": "code",
   "execution_count": 8,
   "metadata": {},
   "outputs": [],
   "source": [
    "knowledge_graph_orf = pd.read_csv(\n",
    "    \"~/Downloads/orf_scores_merged.zip\",\n",
    "    sep=\"\\t\",\n",
    "    usecols=[\"GENE1\", \"GENE2\", \"gene_mf__go\", \"gene_bp__go\", \"gene_pathway\"],\n",
    ").rename(\n",
    "    columns={\n",
    "        \"GENE1\": \"gene_1\",\n",
    "        \"GENE2\": \"gene_2\",\n",
    "        \"gene_mf__go\": \"gene_mf\",\n",
    "        \"gene_bp__go\": \"gene_bp\",\n",
    "    }\n",
    ")\n",
    "\n",
    "knowledge_graph_orf = pd.concat(\n",
    "    [\n",
    "        knowledge_graph_orf,\n",
    "        knowledge_graph_orf.rename(columns={\"gene_1\": \"gene_2\", \"gene_2\": \"gene_1\"}),\n",
    "    ],\n",
    "    ignore_index=True,\n",
    ")\n",
    "\n",
    "knowledge_graph_crispr = pd.read_csv(\n",
    "    \"~/Downloads/crispr_scores_merged.zip\",\n",
    "    sep=\"\\t\",\n",
    "    usecols=[\"GENE1\", \"GENE2\", \"gene_mf__go\", \"gene_bp__go\", \"gene_pathway\"],\n",
    ").rename(\n",
    "    columns={\n",
    "        \"GENE1\": \"gene_1\",\n",
    "        \"GENE2\": \"gene_2\",\n",
    "        \"gene_mf__go\": \"gene_mf\",\n",
    "        \"gene_bp__go\": \"gene_bp\",\n",
    "    }\n",
    ")\n",
    "\n",
    "knowledge_graph_crispr = pd.concat(\n",
    "    [\n",
    "        knowledge_graph_crispr,\n",
    "        knowledge_graph_crispr.rename(columns={\"gene_1\": \"gene_2\", \"gene_2\": \"gene_1\"}),\n",
    "    ],\n",
    "    ignore_index=True,\n",
    ")\n",
    "\n",
    "knowledge_graph = pd.concat(\n",
    "    [knowledge_graph_orf, knowledge_graph_crispr], ignore_index=True\n",
    ").drop_duplicates(subset=[\"gene_1\", \"gene_2\"])\n",
    "\n",
    "connections_df = connections_df.merge(\n",
    "    knowledge_graph, on=[\"gene_1\", \"gene_2\"], how=\"left\"\n",
    ")"
   ]
  },
  {
   "cell_type": "markdown",
   "metadata": {},
   "source": [
    "Determine if there is evidence in each data type"
   ]
  },
  {
   "cell_type": "code",
   "execution_count": 9,
   "metadata": {},
   "outputs": [],
   "source": [
    "connections_df[\"Evidence_in_ORF\"] = np.where(np.abs(connections_df[\"ORF_cosine_similarity\"]) > signal_threshold, True, False)\n",
    "connections_df[\"Evidence_in_CRISPR\"] = np.where(np.abs(connections_df[\"CRISPR_cosine_similarity\"]) > signal_threshold, True, False)\n",
    "connections_df[\"Evidence_in_Knowledge_Graph\"] = (connections_df[[\"gene_mf\", \"gene_bp\", \"gene_pathway\"]].abs() > signal_threshold).any(axis=1)"
   ]
  },
  {
   "cell_type": "code",
   "execution_count": 10,
   "metadata": {},
   "outputs": [],
   "source": [
    "with pd.ExcelWriter(\"output/connections.xlsx\") as writer:\n",
    "    connections_df.to_excel(writer, index=False, sheet_name=\"all\")"
   ]
  },
  {
   "cell_type": "markdown",
   "metadata": {},
   "source": [
    "Filter out rows where the knowledge graph information is not available"
   ]
  },
  {
   "cell_type": "code",
   "execution_count": 11,
   "metadata": {},
   "outputs": [],
   "source": [
    "connections_df_knowledge_graph = connections_df.query(\"gene_mf.notna() and gene_bp.notna() and gene_pathway.notna()\").reset_index(drop=True)"
   ]
  },
  {
   "cell_type": "markdown",
   "metadata": {},
   "source": [
    "Old connections that have evidence in either ORFs or CRISPRs or both"
   ]
  },
  {
   "cell_type": "code",
   "execution_count": 12,
   "metadata": {},
   "outputs": [],
   "source": [
    "with pd.ExcelWriter(\"output/connections.xlsx\", mode=\"a\") as writer:\n",
    "    connections_df[\n",
    "        connections_df[[\"Evidence_in_ORF\", \"Evidence_in_CRISPR\"]].any(axis=1)\n",
    "    ].query(\"Previous==True\").reset_index(drop=True).to_excel(\n",
    "        writer, index=False, sheet_name=\"Previous_with_evidence\"\n",
    "    )"
   ]
  },
  {
   "cell_type": "markdown",
   "metadata": {},
   "source": [
    "Old connections without evidence in either ORFs or CRISPRs"
   ]
  },
  {
   "cell_type": "code",
   "execution_count": 13,
   "metadata": {},
   "outputs": [],
   "source": [
    "with pd.ExcelWriter(\"output/connections.xlsx\", mode=\"a\") as writer:\n",
    "    connections_df[\n",
    "        ~connections_df[[\"Evidence_in_ORF\", \"Evidence_in_CRISPR\"]].any(axis=1)\n",
    "    ].query(\"Previous==True\").reset_index(drop=True).to_excel(\n",
    "        writer, index=False, sheet_name=\"Previous_without_evidence\"\n",
    "    )"
   ]
  },
  {
   "cell_type": "markdown",
   "metadata": {},
   "source": [
    "Connections that have evidence in ORFs or CRISPRs"
   ]
  },
  {
   "cell_type": "code",
   "execution_count": 14,
   "metadata": {},
   "outputs": [],
   "source": [
    "with pd.ExcelWriter(\"output/connections.xlsx\", mode=\"a\") as writer:\n",
    "    connections_df[\n",
    "        connections_df[[\"Evidence_in_ORF\", \"Evidence_in_CRISPR\"]].any(axis=1)\n",
    "    ].reset_index(drop=True).to_excel(\n",
    "        writer, index=False, sheet_name=\"all_with_evidence\"\n",
    "    )"
   ]
  },
  {
   "cell_type": "markdown",
   "metadata": {},
   "source": [
    "Connections that have evidence in ORFs or CRISPRs with evidence in knowledge graph"
   ]
  },
  {
   "cell_type": "code",
   "execution_count": 15,
   "metadata": {},
   "outputs": [],
   "source": [
    "with pd.ExcelWriter(\"output/connections.xlsx\", mode=\"a\") as writer:\n",
    "    connections_df_knowledge_graph[\n",
    "        connections_df_knowledge_graph[[\"Evidence_in_ORF\", \"Evidence_in_CRISPR\"]].any(\n",
    "            axis=1\n",
    "        )\n",
    "    ].query(\"Evidence_in_Knowledge_Graph==True\").reset_index(drop=True).to_excel(\n",
    "        writer, index=False, sheet_name=\"all_with_evidence_known\"\n",
    "    )"
   ]
  },
  {
   "cell_type": "markdown",
   "metadata": {},
   "source": [
    "Connections that have evidence in ORFs or CRISPRs without evidence in knowledge graph"
   ]
  },
  {
   "cell_type": "code",
   "execution_count": 16,
   "metadata": {},
   "outputs": [],
   "source": [
    "with pd.ExcelWriter(\"output/connections.xlsx\", mode=\"a\") as writer:\n",
    "    connections_df_knowledge_graph[\n",
    "        connections_df_knowledge_graph[[\"Evidence_in_ORF\", \"Evidence_in_CRISPR\"]].any(\n",
    "            axis=1\n",
    "        )\n",
    "    ].query(\"Evidence_in_Knowledge_Graph==False\").reset_index(drop=True).to_excel(\n",
    "        writer, index=False, sheet_name=\"all_with_evidence_unknown\"\n",
    "    )"
   ]
  },
  {
   "cell_type": "markdown",
   "metadata": {},
   "source": [
    "Connections with evidence in both ORFs and CRISPRs"
   ]
  },
  {
   "cell_type": "code",
   "execution_count": 17,
   "metadata": {},
   "outputs": [],
   "source": [
    "with pd.ExcelWriter(\"output/connections.xlsx\", mode=\"a\") as writer:\n",
    "    connections_df[\n",
    "        connections_df[[\"Evidence_in_ORF\", \"Evidence_in_CRISPR\"]].all(axis=1)\n",
    "    ].reset_index(drop=True).to_excel(\n",
    "        writer, index=False, sheet_name=\"all_with_evidence_in_both\"\n",
    "    )"
   ]
  },
  {
   "cell_type": "markdown",
   "metadata": {},
   "source": [
    "Connections with evidence in both ORFs and CRISPRs with evidence in knowledge graph"
   ]
  },
  {
   "cell_type": "code",
   "execution_count": 18,
   "metadata": {},
   "outputs": [],
   "source": [
    "with pd.ExcelWriter(\"output/connections.xlsx\", mode=\"a\") as writer:\n",
    "    connections_df_knowledge_graph[\n",
    "        connections_df_knowledge_graph[[\"Evidence_in_ORF\", \"Evidence_in_CRISPR\"]].all(\n",
    "            axis=1\n",
    "        )\n",
    "    ].query(\"Evidence_in_Knowledge_Graph==True\").reset_index(drop=True).to_excel(\n",
    "        writer, index=False, sheet_name=\"all_with_evidence_both_known\"\n",
    "    )"
   ]
  },
  {
   "cell_type": "markdown",
   "metadata": {},
   "source": [
    "Connections with evidence in both ORFs and CRISPRs without evidence in knowledge graph"
   ]
  },
  {
   "cell_type": "code",
   "execution_count": 19,
   "metadata": {},
   "outputs": [],
   "source": [
    "with pd.ExcelWriter(\"output/connections.xlsx\", mode=\"a\") as writer:\n",
    "    connections_df_knowledge_graph[\n",
    "        connections_df_knowledge_graph[[\"Evidence_in_ORF\", \"Evidence_in_CRISPR\"]].all(\n",
    "            axis=1\n",
    "        )\n",
    "    ].query(\"Evidence_in_Knowledge_Graph==False\").reset_index(drop=True).to_excel(\n",
    "        writer, index=False, sheet_name=\"all_with_evidence_both_unknown\"\n",
    "    )"
   ]
  },
  {
   "cell_type": "markdown",
   "metadata": {},
   "source": [
    "YAP1 connections"
   ]
  },
  {
   "cell_type": "code",
   "execution_count": 20,
   "metadata": {},
   "outputs": [
    {
     "name": "stdout",
     "output_type": "stream",
     "text": [
      "|        |     YAP1 |\n",
      "|:-------|---------:|\n",
      "| WWTR1  | 0.528834 |\n",
      "| PLS3   | 0.429233 |\n",
      "| CORO2B | 0.466192 |\n",
      "| CORO2A | 0.558896 |\n",
      "| RTKN   | 0.422219 |\n",
      "| CNN1   | 0.476689 |\n",
      "| PRKCE  | 0.452393 |\n",
      "| SYT2   | 0.405234 |\n",
      "| SYT1   | 0.406036 |\n",
      "| YAP1   | 1        |\n",
      "| ZNF704 | 0.544696 |\n"
     ]
    }
   ],
   "source": [
    "print(orf_similarity_df.query(\"YAP1 > @signal_threshold or YAP1 < -@signal_threshold\")[\"YAP1\"].to_markdown())"
   ]
  }
 ],
 "metadata": {
  "kernelspec": {
   "display_name": "similarity",
   "language": "python",
   "name": "python3"
  },
  "language_info": {
   "codemirror_mode": {
    "name": "ipython",
    "version": 3
   },
   "file_extension": ".py",
   "mimetype": "text/x-python",
   "name": "python",
   "nbconvert_exporter": "python",
   "pygments_lexer": "ipython3",
   "version": "3.10.6"
  }
 },
 "nbformat": 4,
 "nbformat_minor": 2
}
