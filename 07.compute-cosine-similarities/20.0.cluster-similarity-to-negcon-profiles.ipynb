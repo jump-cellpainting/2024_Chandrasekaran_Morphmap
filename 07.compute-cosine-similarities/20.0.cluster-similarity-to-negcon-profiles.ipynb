{
 "cells": [
  {
   "cell_type": "code",
   "execution_count": 1,
   "metadata": {},
   "outputs": [],
   "source": [
    "import pandas as pd\n",
    "import utils\n",
    "import numpy as np"
   ]
  },
  {
   "cell_type": "code",
   "execution_count": 2,
   "metadata": {},
   "outputs": [],
   "source": [
    "feature_group = \"AreaShape\"\n",
    "feature_group_list = [\"Texture\", \"Intensity\", \"RadialDistribution\"]\n",
    "compartments = [\"Cells\", \"Cytoplasm\", \"Nuclei\"]\n",
    "channels = [\"DNA\", \"RNA\", \"Mito\", \"ER\", \"AGP\"]"
   ]
  },
  {
   "cell_type": "code",
   "execution_count": 3,
   "metadata": {},
   "outputs": [],
   "source": [
    "orf_genesets = [\n",
    "    [\"SLC39A1\", \"ZBTB16\"],\n",
    "    [\"SARS2\", \"ECH1\", \"DGUOK\", \"MRPS2\", \"LDHAL6B\", \"UQCRFS1\", \"ACADVL\", \"HMGCL\"],\n",
    "    [\"MYT1\", \"LZTS2\", \"CHRM4\", \"GPR176\", \"TSC22D1\", \"NEUROD1\", \"MSC\"],\n",
    "    [\"SPDL1\", \"PAFAH1B1\", \"NDEL1\", \"NDE1\", \"HOOK2\", \"HOOK1\"],\n",
    "    [\"MYT1\", \"INSYN1\", \"RNF41\", \"PAK4\", \"IKZF1\"],\n",
    "    [\n",
    "        \"ZFP36L1\",\n",
    "        \"PIK3R3\",\n",
    "        \"NRBP1\",\n",
    "        \"INSYN1\",\n",
    "        \"HOXC8\",\n",
    "        \"RAB40C\",\n",
    "        \"RAB40B\",\n",
    "        \"HTR1D\",\n",
    "        \"TUBA3D\",\n",
    "    ],\n",
    "]\n",
    "\n",
    "crispr_genesets = [\n",
    "    [\"SLC39A1\", \"ZBTB16\"],\n",
    "    [\"FOXO3\", \"TGFB1\"],\n",
    "    [\"SARS2\", \"ECH1\", \"PVR\", \"LAIR1\", \"SLC1A5\", \"UQCRFS1\", \"CYP3A4\", \"F2\"],\n",
    "    [\"MYT1\", \"CHRM4\", \"GPR176\", \"TSC22D1\", \"GHRHR\", \"SCX\"],\n",
    "    [\"PIK3R3\", \"ZFP36L1\", \"HOXC8\", \"NRBP1\", \"RAB40B\", \"F10\", \"HTR1B\"],\n",
    "]"
   ]
  },
  {
   "cell_type": "code",
   "execution_count": 4,
   "metadata": {},
   "outputs": [
    {
     "data": {
      "text/html": [
       "<div>\n",
       "<style scoped>\n",
       "    .dataframe tbody tr th:only-of-type {\n",
       "        vertical-align: middle;\n",
       "    }\n",
       "\n",
       "    .dataframe tbody tr th {\n",
       "        vertical-align: top;\n",
       "    }\n",
       "\n",
       "    .dataframe thead th {\n",
       "        text-align: right;\n",
       "    }\n",
       "</style>\n",
       "<table border=\"1\" class=\"dataframe\">\n",
       "  <thead>\n",
       "    <tr style=\"text-align: right;\">\n",
       "      <th></th>\n",
       "      <th>Metadata_Source</th>\n",
       "      <th>Metadata_Plate</th>\n",
       "      <th>Metadata_Well</th>\n",
       "      <th>Metadata_JCP2022</th>\n",
       "      <th>Cells_AreaShape_Area</th>\n",
       "      <th>Cells_AreaShape_BoundingBoxArea</th>\n",
       "      <th>Cells_AreaShape_BoundingBoxMaximum_X</th>\n",
       "      <th>Cells_AreaShape_BoundingBoxMaximum_Y</th>\n",
       "      <th>Cells_AreaShape_BoundingBoxMinimum_X</th>\n",
       "      <th>Cells_AreaShape_BoundingBoxMinimum_Y</th>\n",
       "      <th>...</th>\n",
       "      <th>Nuclei_Texture_Variance_RNA_3_00_256</th>\n",
       "      <th>Nuclei_Texture_Variance_RNA_3_01_256</th>\n",
       "      <th>Nuclei_Texture_Variance_RNA_3_02_256</th>\n",
       "      <th>Nuclei_Texture_Variance_RNA_3_03_256</th>\n",
       "      <th>Nuclei_Texture_Variance_RNA_5_00_256</th>\n",
       "      <th>Nuclei_Texture_Variance_RNA_5_01_256</th>\n",
       "      <th>Nuclei_Texture_Variance_RNA_5_02_256</th>\n",
       "      <th>Nuclei_Texture_Variance_RNA_5_03_256</th>\n",
       "      <th>Metadata_Symbol</th>\n",
       "      <th>Metadata_pert_type</th>\n",
       "    </tr>\n",
       "  </thead>\n",
       "  <tbody>\n",
       "    <tr>\n",
       "      <th>0</th>\n",
       "      <td>source_4</td>\n",
       "      <td>BR00117035</td>\n",
       "      <td>A01</td>\n",
       "      <td>JCP2022_905588</td>\n",
       "      <td>1.976969</td>\n",
       "      <td>2.478890</td>\n",
       "      <td>-0.027964</td>\n",
       "      <td>-0.219052</td>\n",
       "      <td>-0.387556</td>\n",
       "      <td>-0.408526</td>\n",
       "      <td>...</td>\n",
       "      <td>-3.679746</td>\n",
       "      <td>-3.644897</td>\n",
       "      <td>-3.663296</td>\n",
       "      <td>-3.716321</td>\n",
       "      <td>-3.636625</td>\n",
       "      <td>-3.645543</td>\n",
       "      <td>-3.727525</td>\n",
       "      <td>-3.679245</td>\n",
       "      <td>CDK9</td>\n",
       "      <td>trt</td>\n",
       "    </tr>\n",
       "    <tr>\n",
       "      <th>1</th>\n",
       "      <td>source_4</td>\n",
       "      <td>BR00117036</td>\n",
       "      <td>A01</td>\n",
       "      <td>JCP2022_905588</td>\n",
       "      <td>0.609293</td>\n",
       "      <td>1.348788</td>\n",
       "      <td>-1.335341</td>\n",
       "      <td>-0.904727</td>\n",
       "      <td>-1.493824</td>\n",
       "      <td>-1.208351</td>\n",
       "      <td>...</td>\n",
       "      <td>2.437158</td>\n",
       "      <td>2.377791</td>\n",
       "      <td>2.409654</td>\n",
       "      <td>2.368619</td>\n",
       "      <td>2.390954</td>\n",
       "      <td>2.298647</td>\n",
       "      <td>2.406632</td>\n",
       "      <td>2.438143</td>\n",
       "      <td>CDK9</td>\n",
       "      <td>trt</td>\n",
       "    </tr>\n",
       "    <tr>\n",
       "      <th>2</th>\n",
       "      <td>source_4</td>\n",
       "      <td>BR00121558</td>\n",
       "      <td>A01</td>\n",
       "      <td>JCP2022_905588</td>\n",
       "      <td>-0.185963</td>\n",
       "      <td>1.084949</td>\n",
       "      <td>0.525013</td>\n",
       "      <td>-0.442693</td>\n",
       "      <td>0.366960</td>\n",
       "      <td>-0.529556</td>\n",
       "      <td>...</td>\n",
       "      <td>-0.525705</td>\n",
       "      <td>-0.495094</td>\n",
       "      <td>-0.506351</td>\n",
       "      <td>-0.553593</td>\n",
       "      <td>-0.530804</td>\n",
       "      <td>-0.562515</td>\n",
       "      <td>-0.519971</td>\n",
       "      <td>-0.535011</td>\n",
       "      <td>CDK9</td>\n",
       "      <td>trt</td>\n",
       "    </tr>\n",
       "    <tr>\n",
       "      <th>3</th>\n",
       "      <td>source_4</td>\n",
       "      <td>BR00121559</td>\n",
       "      <td>A01</td>\n",
       "      <td>JCP2022_905588</td>\n",
       "      <td>1.975644</td>\n",
       "      <td>2.602919</td>\n",
       "      <td>2.095917</td>\n",
       "      <td>-3.154853</td>\n",
       "      <td>1.848040</td>\n",
       "      <td>-3.808197</td>\n",
       "      <td>...</td>\n",
       "      <td>-0.868960</td>\n",
       "      <td>-0.879897</td>\n",
       "      <td>-0.857301</td>\n",
       "      <td>-0.868555</td>\n",
       "      <td>-0.879776</td>\n",
       "      <td>-0.898712</td>\n",
       "      <td>-0.885029</td>\n",
       "      <td>-0.847506</td>\n",
       "      <td>CDK9</td>\n",
       "      <td>trt</td>\n",
       "    </tr>\n",
       "    <tr>\n",
       "      <th>4</th>\n",
       "      <td>source_4</td>\n",
       "      <td>BR00121560</td>\n",
       "      <td>A01</td>\n",
       "      <td>JCP2022_905588</td>\n",
       "      <td>-3.077340</td>\n",
       "      <td>-2.134534</td>\n",
       "      <td>-2.492584</td>\n",
       "      <td>-0.933778</td>\n",
       "      <td>-2.360221</td>\n",
       "      <td>-0.558088</td>\n",
       "      <td>...</td>\n",
       "      <td>-0.916399</td>\n",
       "      <td>-0.913091</td>\n",
       "      <td>-0.958685</td>\n",
       "      <td>-0.896140</td>\n",
       "      <td>-0.887870</td>\n",
       "      <td>-0.906178</td>\n",
       "      <td>-0.915392</td>\n",
       "      <td>-0.889229</td>\n",
       "      <td>CDK9</td>\n",
       "      <td>trt</td>\n",
       "    </tr>\n",
       "  </tbody>\n",
       "</table>\n",
       "<p>5 rows × 3642 columns</p>\n",
       "</div>"
      ],
      "text/plain": [
       "  Metadata_Source Metadata_Plate Metadata_Well Metadata_JCP2022  \\\n",
       "0        source_4     BR00117035           A01   JCP2022_905588   \n",
       "1        source_4     BR00117036           A01   JCP2022_905588   \n",
       "2        source_4     BR00121558           A01   JCP2022_905588   \n",
       "3        source_4     BR00121559           A01   JCP2022_905588   \n",
       "4        source_4     BR00121560           A01   JCP2022_905588   \n",
       "\n",
       "   Cells_AreaShape_Area  Cells_AreaShape_BoundingBoxArea  \\\n",
       "0              1.976969                         2.478890   \n",
       "1              0.609293                         1.348788   \n",
       "2             -0.185963                         1.084949   \n",
       "3              1.975644                         2.602919   \n",
       "4             -3.077340                        -2.134534   \n",
       "\n",
       "   Cells_AreaShape_BoundingBoxMaximum_X  Cells_AreaShape_BoundingBoxMaximum_Y  \\\n",
       "0                             -0.027964                             -0.219052   \n",
       "1                             -1.335341                             -0.904727   \n",
       "2                              0.525013                             -0.442693   \n",
       "3                              2.095917                             -3.154853   \n",
       "4                             -2.492584                             -0.933778   \n",
       "\n",
       "   Cells_AreaShape_BoundingBoxMinimum_X  Cells_AreaShape_BoundingBoxMinimum_Y  \\\n",
       "0                             -0.387556                             -0.408526   \n",
       "1                             -1.493824                             -1.208351   \n",
       "2                              0.366960                             -0.529556   \n",
       "3                              1.848040                             -3.808197   \n",
       "4                             -2.360221                             -0.558088   \n",
       "\n",
       "   ...  Nuclei_Texture_Variance_RNA_3_00_256  \\\n",
       "0  ...                             -3.679746   \n",
       "1  ...                              2.437158   \n",
       "2  ...                             -0.525705   \n",
       "3  ...                             -0.868960   \n",
       "4  ...                             -0.916399   \n",
       "\n",
       "   Nuclei_Texture_Variance_RNA_3_01_256  Nuclei_Texture_Variance_RNA_3_02_256  \\\n",
       "0                             -3.644897                             -3.663296   \n",
       "1                              2.377791                              2.409654   \n",
       "2                             -0.495094                             -0.506351   \n",
       "3                             -0.879897                             -0.857301   \n",
       "4                             -0.913091                             -0.958685   \n",
       "\n",
       "   Nuclei_Texture_Variance_RNA_3_03_256  Nuclei_Texture_Variance_RNA_5_00_256  \\\n",
       "0                             -3.716321                             -3.636625   \n",
       "1                              2.368619                              2.390954   \n",
       "2                             -0.553593                             -0.530804   \n",
       "3                             -0.868555                             -0.879776   \n",
       "4                             -0.896140                             -0.887870   \n",
       "\n",
       "   Nuclei_Texture_Variance_RNA_5_01_256  Nuclei_Texture_Variance_RNA_5_02_256  \\\n",
       "0                             -3.645543                             -3.727525   \n",
       "1                              2.298647                              2.406632   \n",
       "2                             -0.562515                             -0.519971   \n",
       "3                             -0.898712                             -0.885029   \n",
       "4                             -0.906178                             -0.915392   \n",
       "\n",
       "   Nuclei_Texture_Variance_RNA_5_03_256  Metadata_Symbol  Metadata_pert_type  \n",
       "0                             -3.679245             CDK9                 trt  \n",
       "1                              2.438143             CDK9                 trt  \n",
       "2                             -0.535011             CDK9                 trt  \n",
       "3                             -0.847506             CDK9                 trt  \n",
       "4                             -0.889229             CDK9                 trt  \n",
       "\n",
       "[5 rows x 3642 columns]"
      ]
     },
     "execution_count": 4,
     "metadata": {},
     "output_type": "execute_result"
    }
   ],
   "source": [
    "orf_metadata_df = pd.read_csv(\n",
    "    \"../00.download-and-process-annotations/output/orf_metadata.tsv.gz\",\n",
    "    sep=\"\\t\",\n",
    "    usecols=[\"Metadata_JCP2022\", \"Metadata_Symbol\", \"Metadata_pert_type\"],\n",
    ")\n",
    "\n",
    "orf_profiles_with_feature_names_df = pd.read_parquet(\n",
    "    \"../profiles/profiles_wellpos_cc_var_mad_outlier_orf.parquet\"\n",
    ").merge(orf_metadata_df, on=\"Metadata_JCP2022\", how=\"inner\")\n",
    "\n",
    "orf_profiles_with_feature_names_df.head()"
   ]
  },
  {
   "cell_type": "code",
   "execution_count": 5,
   "metadata": {},
   "outputs": [
    {
     "data": {
      "text/html": [
       "<div>\n",
       "<style scoped>\n",
       "    .dataframe tbody tr th:only-of-type {\n",
       "        vertical-align: middle;\n",
       "    }\n",
       "\n",
       "    .dataframe tbody tr th {\n",
       "        vertical-align: top;\n",
       "    }\n",
       "\n",
       "    .dataframe thead th {\n",
       "        text-align: right;\n",
       "    }\n",
       "</style>\n",
       "<table border=\"1\" class=\"dataframe\">\n",
       "  <thead>\n",
       "    <tr style=\"text-align: right;\">\n",
       "      <th></th>\n",
       "      <th>Metadata_Source</th>\n",
       "      <th>Metadata_Plate</th>\n",
       "      <th>Metadata_Well</th>\n",
       "      <th>Metadata_JCP2022</th>\n",
       "      <th>Cells_AreaShape_Area</th>\n",
       "      <th>Cells_AreaShape_BoundingBoxArea</th>\n",
       "      <th>Cells_AreaShape_BoundingBoxMaximum_X</th>\n",
       "      <th>Cells_AreaShape_BoundingBoxMaximum_Y</th>\n",
       "      <th>Cells_AreaShape_BoundingBoxMinimum_X</th>\n",
       "      <th>Cells_AreaShape_BoundingBoxMinimum_Y</th>\n",
       "      <th>...</th>\n",
       "      <th>Nuclei_Texture_Variance_RNA_3_00_256</th>\n",
       "      <th>Nuclei_Texture_Variance_RNA_3_01_256</th>\n",
       "      <th>Nuclei_Texture_Variance_RNA_3_02_256</th>\n",
       "      <th>Nuclei_Texture_Variance_RNA_3_03_256</th>\n",
       "      <th>Nuclei_Texture_Variance_RNA_5_00_256</th>\n",
       "      <th>Nuclei_Texture_Variance_RNA_5_01_256</th>\n",
       "      <th>Nuclei_Texture_Variance_RNA_5_02_256</th>\n",
       "      <th>Nuclei_Texture_Variance_RNA_5_03_256</th>\n",
       "      <th>Metadata_Symbol</th>\n",
       "      <th>Metadata_pert_type</th>\n",
       "    </tr>\n",
       "  </thead>\n",
       "  <tbody>\n",
       "    <tr>\n",
       "      <th>0</th>\n",
       "      <td>source_13</td>\n",
       "      <td>CP-CC9-R1-01</td>\n",
       "      <td>A02</td>\n",
       "      <td>JCP2022_800002</td>\n",
       "      <td>2.218619</td>\n",
       "      <td>2.431635</td>\n",
       "      <td>0.501694</td>\n",
       "      <td>1.198642</td>\n",
       "      <td>0.224633</td>\n",
       "      <td>0.844867</td>\n",
       "      <td>...</td>\n",
       "      <td>-0.889403</td>\n",
       "      <td>-0.903963</td>\n",
       "      <td>-0.883159</td>\n",
       "      <td>-0.895142</td>\n",
       "      <td>-0.891171</td>\n",
       "      <td>-0.866901</td>\n",
       "      <td>-0.905884</td>\n",
       "      <td>-0.872768</td>\n",
       "      <td>non-targeting</td>\n",
       "      <td>negcon</td>\n",
       "    </tr>\n",
       "    <tr>\n",
       "      <th>1</th>\n",
       "      <td>source_13</td>\n",
       "      <td>CP-CC9-R1-01</td>\n",
       "      <td>L23</td>\n",
       "      <td>JCP2022_800002</td>\n",
       "      <td>2.185739</td>\n",
       "      <td>2.296984</td>\n",
       "      <td>-1.985822</td>\n",
       "      <td>0.262706</td>\n",
       "      <td>-2.189088</td>\n",
       "      <td>-0.015251</td>\n",
       "      <td>...</td>\n",
       "      <td>1.241002</td>\n",
       "      <td>1.224294</td>\n",
       "      <td>1.235871</td>\n",
       "      <td>1.233204</td>\n",
       "      <td>1.220388</td>\n",
       "      <td>1.225830</td>\n",
       "      <td>1.224827</td>\n",
       "      <td>1.229212</td>\n",
       "      <td>non-targeting</td>\n",
       "      <td>negcon</td>\n",
       "    </tr>\n",
       "    <tr>\n",
       "      <th>2</th>\n",
       "      <td>source_13</td>\n",
       "      <td>CP-CC9-R1-01</td>\n",
       "      <td>I23</td>\n",
       "      <td>JCP2022_800002</td>\n",
       "      <td>1.598852</td>\n",
       "      <td>1.733746</td>\n",
       "      <td>1.054698</td>\n",
       "      <td>-1.709091</td>\n",
       "      <td>0.858090</td>\n",
       "      <td>-1.865041</td>\n",
       "      <td>...</td>\n",
       "      <td>2.410808</td>\n",
       "      <td>2.404765</td>\n",
       "      <td>2.402406</td>\n",
       "      <td>2.401428</td>\n",
       "      <td>2.386266</td>\n",
       "      <td>2.419901</td>\n",
       "      <td>2.407083</td>\n",
       "      <td>2.400517</td>\n",
       "      <td>non-targeting</td>\n",
       "      <td>negcon</td>\n",
       "    </tr>\n",
       "    <tr>\n",
       "      <th>3</th>\n",
       "      <td>source_13</td>\n",
       "      <td>CP-CC9-R1-01</td>\n",
       "      <td>J02</td>\n",
       "      <td>JCP2022_800002</td>\n",
       "      <td>1.863836</td>\n",
       "      <td>2.242304</td>\n",
       "      <td>0.272562</td>\n",
       "      <td>-2.722119</td>\n",
       "      <td>0.111834</td>\n",
       "      <td>-2.954700</td>\n",
       "      <td>...</td>\n",
       "      <td>2.207796</td>\n",
       "      <td>2.195493</td>\n",
       "      <td>2.204458</td>\n",
       "      <td>2.189717</td>\n",
       "      <td>2.173862</td>\n",
       "      <td>2.194929</td>\n",
       "      <td>2.196221</td>\n",
       "      <td>2.188477</td>\n",
       "      <td>non-targeting</td>\n",
       "      <td>negcon</td>\n",
       "    </tr>\n",
       "    <tr>\n",
       "      <th>4</th>\n",
       "      <td>source_13</td>\n",
       "      <td>CP-CC9-R1-01</td>\n",
       "      <td>O23</td>\n",
       "      <td>JCP2022_800002</td>\n",
       "      <td>1.833142</td>\n",
       "      <td>1.891680</td>\n",
       "      <td>2.556046</td>\n",
       "      <td>-1.213637</td>\n",
       "      <td>2.293583</td>\n",
       "      <td>-1.423116</td>\n",
       "      <td>...</td>\n",
       "      <td>3.256251</td>\n",
       "      <td>3.251066</td>\n",
       "      <td>3.248827</td>\n",
       "      <td>3.243864</td>\n",
       "      <td>3.222744</td>\n",
       "      <td>3.243059</td>\n",
       "      <td>3.245875</td>\n",
       "      <td>3.223063</td>\n",
       "      <td>non-targeting</td>\n",
       "      <td>negcon</td>\n",
       "    </tr>\n",
       "  </tbody>\n",
       "</table>\n",
       "<p>5 rows × 3657 columns</p>\n",
       "</div>"
      ],
      "text/plain": [
       "  Metadata_Source Metadata_Plate Metadata_Well Metadata_JCP2022  \\\n",
       "0       source_13   CP-CC9-R1-01           A02   JCP2022_800002   \n",
       "1       source_13   CP-CC9-R1-01           L23   JCP2022_800002   \n",
       "2       source_13   CP-CC9-R1-01           I23   JCP2022_800002   \n",
       "3       source_13   CP-CC9-R1-01           J02   JCP2022_800002   \n",
       "4       source_13   CP-CC9-R1-01           O23   JCP2022_800002   \n",
       "\n",
       "   Cells_AreaShape_Area  Cells_AreaShape_BoundingBoxArea  \\\n",
       "0              2.218619                         2.431635   \n",
       "1              2.185739                         2.296984   \n",
       "2              1.598852                         1.733746   \n",
       "3              1.863836                         2.242304   \n",
       "4              1.833142                         1.891680   \n",
       "\n",
       "   Cells_AreaShape_BoundingBoxMaximum_X  Cells_AreaShape_BoundingBoxMaximum_Y  \\\n",
       "0                              0.501694                              1.198642   \n",
       "1                             -1.985822                              0.262706   \n",
       "2                              1.054698                             -1.709091   \n",
       "3                              0.272562                             -2.722119   \n",
       "4                              2.556046                             -1.213637   \n",
       "\n",
       "   Cells_AreaShape_BoundingBoxMinimum_X  Cells_AreaShape_BoundingBoxMinimum_Y  \\\n",
       "0                              0.224633                              0.844867   \n",
       "1                             -2.189088                             -0.015251   \n",
       "2                              0.858090                             -1.865041   \n",
       "3                              0.111834                             -2.954700   \n",
       "4                              2.293583                             -1.423116   \n",
       "\n",
       "   ...  Nuclei_Texture_Variance_RNA_3_00_256  \\\n",
       "0  ...                             -0.889403   \n",
       "1  ...                              1.241002   \n",
       "2  ...                              2.410808   \n",
       "3  ...                              2.207796   \n",
       "4  ...                              3.256251   \n",
       "\n",
       "   Nuclei_Texture_Variance_RNA_3_01_256  Nuclei_Texture_Variance_RNA_3_02_256  \\\n",
       "0                             -0.903963                             -0.883159   \n",
       "1                              1.224294                              1.235871   \n",
       "2                              2.404765                              2.402406   \n",
       "3                              2.195493                              2.204458   \n",
       "4                              3.251066                              3.248827   \n",
       "\n",
       "   Nuclei_Texture_Variance_RNA_3_03_256  Nuclei_Texture_Variance_RNA_5_00_256  \\\n",
       "0                             -0.895142                             -0.891171   \n",
       "1                              1.233204                              1.220388   \n",
       "2                              2.401428                              2.386266   \n",
       "3                              2.189717                              2.173862   \n",
       "4                              3.243864                              3.222744   \n",
       "\n",
       "   Nuclei_Texture_Variance_RNA_5_01_256  Nuclei_Texture_Variance_RNA_5_02_256  \\\n",
       "0                             -0.866901                             -0.905884   \n",
       "1                              1.225830                              1.224827   \n",
       "2                              2.419901                              2.407083   \n",
       "3                              2.194929                              2.196221   \n",
       "4                              3.243059                              3.245875   \n",
       "\n",
       "   Nuclei_Texture_Variance_RNA_5_03_256  Metadata_Symbol  Metadata_pert_type  \n",
       "0                             -0.872768    non-targeting              negcon  \n",
       "1                              1.229212    non-targeting              negcon  \n",
       "2                              2.400517    non-targeting              negcon  \n",
       "3                              2.188477    non-targeting              negcon  \n",
       "4                              3.223063    non-targeting              negcon  \n",
       "\n",
       "[5 rows x 3657 columns]"
      ]
     },
     "execution_count": 5,
     "metadata": {},
     "output_type": "execute_result"
    }
   ],
   "source": [
    "crispr_metadata_df = pd.read_csv(\n",
    "    \"../00.download-and-process-annotations/output/crispr_metadata.tsv.gz\",\n",
    "    sep=\"\\t\",\n",
    "    usecols=[\"Metadata_JCP2022\", \"Metadata_Symbol\"],\n",
    ")\n",
    "\n",
    "crispr_controls_df = pd.DataFrame(\n",
    "    {\n",
    "        \"Metadata_JCP2022\": [\"JCP2022_805264\", \"JCP2022_800001\", \"JCP2022_800002\"],\n",
    "        \"Metadata_pert_type\": [\"poscon\", \"negcon\", \"negcon\"],\n",
    "    },\n",
    "    index=[0, 1, 2],\n",
    ")\n",
    "\n",
    "crispr_profiles_with_feature_names_df = (\n",
    "    pd.read_parquet(\"../profiles/profiles_wellpos_cc_var_mad_outlier_crispr.parquet\")\n",
    "    .merge(crispr_metadata_df, on=\"Metadata_JCP2022\", how=\"inner\")\n",
    "    .merge(crispr_controls_df, on=\"Metadata_JCP2022\", how=\"left\")\n",
    "    .fillna(value={\"Metadata_pert_type\": \"trt\"})\n",
    ")\n",
    "\n",
    "crispr_profiles_with_feature_names_df.head()"
   ]
  },
  {
   "cell_type": "code",
   "execution_count": 6,
   "metadata": {},
   "outputs": [
    {
     "data": {
      "text/html": [
       "<div>\n",
       "<style scoped>\n",
       "    .dataframe tbody tr th:only-of-type {\n",
       "        vertical-align: middle;\n",
       "    }\n",
       "\n",
       "    .dataframe tbody tr th {\n",
       "        vertical-align: top;\n",
       "    }\n",
       "\n",
       "    .dataframe thead th {\n",
       "        text-align: right;\n",
       "    }\n",
       "</style>\n",
       "<table border=\"1\" class=\"dataframe\">\n",
       "  <thead>\n",
       "    <tr style=\"text-align: right;\">\n",
       "      <th></th>\n",
       "      <th>feature</th>\n",
       "      <th>compartment</th>\n",
       "      <th>feature_group</th>\n",
       "      <th>feature_type</th>\n",
       "      <th>channel</th>\n",
       "    </tr>\n",
       "  </thead>\n",
       "  <tbody>\n",
       "    <tr>\n",
       "      <th>0</th>\n",
       "      <td>Cells_AreaShape_Area</td>\n",
       "      <td>Cells</td>\n",
       "      <td>AreaShape</td>\n",
       "      <td>Area</td>\n",
       "      <td>XNONE</td>\n",
       "    </tr>\n",
       "    <tr>\n",
       "      <th>1</th>\n",
       "      <td>Cells_AreaShape_BoundingBoxArea</td>\n",
       "      <td>Cells</td>\n",
       "      <td>AreaShape</td>\n",
       "      <td>BoundingBoxArea</td>\n",
       "      <td>XNONE</td>\n",
       "    </tr>\n",
       "    <tr>\n",
       "      <th>2</th>\n",
       "      <td>Cells_AreaShape_BoundingBoxMaximum_X</td>\n",
       "      <td>Cells</td>\n",
       "      <td>AreaShape</td>\n",
       "      <td>BoundingBoxMaximum</td>\n",
       "      <td>XNONE</td>\n",
       "    </tr>\n",
       "    <tr>\n",
       "      <th>3</th>\n",
       "      <td>Cells_AreaShape_BoundingBoxMaximum_Y</td>\n",
       "      <td>Cells</td>\n",
       "      <td>AreaShape</td>\n",
       "      <td>BoundingBoxMaximum</td>\n",
       "      <td>XNONE</td>\n",
       "    </tr>\n",
       "    <tr>\n",
       "      <th>4</th>\n",
       "      <td>Cells_AreaShape_BoundingBoxMinimum_X</td>\n",
       "      <td>Cells</td>\n",
       "      <td>AreaShape</td>\n",
       "      <td>BoundingBoxMinimum</td>\n",
       "      <td>XNONE</td>\n",
       "    </tr>\n",
       "  </tbody>\n",
       "</table>\n",
       "</div>"
      ],
      "text/plain": [
       "                                feature compartment feature_group  \\\n",
       "0                  Cells_AreaShape_Area       Cells     AreaShape   \n",
       "1       Cells_AreaShape_BoundingBoxArea       Cells     AreaShape   \n",
       "2  Cells_AreaShape_BoundingBoxMaximum_X       Cells     AreaShape   \n",
       "3  Cells_AreaShape_BoundingBoxMaximum_Y       Cells     AreaShape   \n",
       "4  Cells_AreaShape_BoundingBoxMinimum_X       Cells     AreaShape   \n",
       "\n",
       "         feature_type channel  \n",
       "0                Area   XNONE  \n",
       "1     BoundingBoxArea   XNONE  \n",
       "2  BoundingBoxMaximum   XNONE  \n",
       "3  BoundingBoxMaximum   XNONE  \n",
       "4  BoundingBoxMinimum   XNONE  "
      ]
     },
     "execution_count": 6,
     "metadata": {},
     "output_type": "execute_result"
    }
   ],
   "source": [
    "feature_names = utils.get_featurecols(orf_profiles_with_feature_names_df)\n",
    "\n",
    "feature_name_interpretation_df = pd.DataFrame()\n",
    "\n",
    "for feature_name in feature_names:\n",
    "    df = pd.DataFrame(utils.parse_cp_features(feature_name), index=[0])\n",
    "    feature_name_interpretation_df = pd.concat([feature_name_interpretation_df, df], ignore_index=True)\n",
    "\n",
    "feature_name_interpretation_df.head()"
   ]
  },
  {
   "cell_type": "code",
   "execution_count": 7,
   "metadata": {},
   "outputs": [
    {
     "data": {
      "application/vnd.jupyter.widget-view+json": {
       "model_id": "f23e25b0246241668a327cfdbd8dc2a2",
       "version_major": 2,
       "version_minor": 0
      },
      "text/plain": [
       "  0%|          | 0/1 [00:00<?, ?it/s]"
      ]
     },
     "metadata": {},
     "output_type": "display_data"
    },
    {
     "data": {
      "application/vnd.jupyter.widget-view+json": {
       "model_id": "12ee8e78bff545c481a0039d51dcc67d",
       "version_major": 2,
       "version_minor": 0
      },
      "text/plain": [
       "  0%|          | 0/1 [00:00<?, ?it/s]"
      ]
     },
     "metadata": {},
     "output_type": "display_data"
    },
    {
     "data": {
      "application/vnd.jupyter.widget-view+json": {
       "model_id": "935a625d81394fe399c72ef2dcff92e9",
       "version_major": 2,
       "version_minor": 0
      },
      "text/plain": [
       "  0%|          | 0/1 [00:00<?, ?it/s]"
      ]
     },
     "metadata": {},
     "output_type": "display_data"
    },
    {
     "name": "stdout",
     "output_type": "stream",
     "text": [
      "SLC39A1-ZBTB16\n",
      "| Feature_group   |    Cells |   Cytoplasm |   Nuclei |\n",
      "|:----------------|---------:|------------:|---------:|\n",
      "| AreaShape       | 0.756485 |    0.741052 | 0.580042 |\n"
     ]
    },
    {
     "data": {
      "application/vnd.jupyter.widget-view+json": {
       "model_id": "898a2e4c4d034f84b5198ffb3c527f89",
       "version_major": 2,
       "version_minor": 0
      },
      "text/plain": [
       "  0%|          | 0/1 [00:00<?, ?it/s]"
      ]
     },
     "metadata": {},
     "output_type": "display_data"
    },
    {
     "data": {
      "application/vnd.jupyter.widget-view+json": {
       "model_id": "7a9b45a7ecff4c66929c4dcdcb48bb24",
       "version_major": 2,
       "version_minor": 0
      },
      "text/plain": [
       "  0%|          | 0/1 [00:00<?, ?it/s]"
      ]
     },
     "metadata": {},
     "output_type": "display_data"
    },
    {
     "data": {
      "application/vnd.jupyter.widget-view+json": {
       "model_id": "9f262605bae44131a00b9ab0260a4337",
       "version_major": 2,
       "version_minor": 0
      },
      "text/plain": [
       "  0%|          | 0/1 [00:00<?, ?it/s]"
      ]
     },
     "metadata": {},
     "output_type": "display_data"
    },
    {
     "name": "stdout",
     "output_type": "stream",
     "text": [
      "SARS2-ECH1-DGUOK-MRPS2-LDHAL6B-UQCRFS1-ACADVL-HMGCL\n",
      "| Feature_group   |    Cells |   Cytoplasm |   Nuclei |\n",
      "|:----------------|---------:|------------:|---------:|\n",
      "| AreaShape       | 0.859641 |    0.804133 | 0.723852 |\n"
     ]
    },
    {
     "data": {
      "application/vnd.jupyter.widget-view+json": {
       "model_id": "3b98f4c8988b48629a3410e3076ebbfd",
       "version_major": 2,
       "version_minor": 0
      },
      "text/plain": [
       "  0%|          | 0/1 [00:00<?, ?it/s]"
      ]
     },
     "metadata": {},
     "output_type": "display_data"
    },
    {
     "data": {
      "application/vnd.jupyter.widget-view+json": {
       "model_id": "f9d2fc6705b347338a355302104895a6",
       "version_major": 2,
       "version_minor": 0
      },
      "text/plain": [
       "  0%|          | 0/1 [00:00<?, ?it/s]"
      ]
     },
     "metadata": {},
     "output_type": "display_data"
    },
    {
     "data": {
      "application/vnd.jupyter.widget-view+json": {
       "model_id": "2a70659e3282479dbae7257da3199489",
       "version_major": 2,
       "version_minor": 0
      },
      "text/plain": [
       "  0%|          | 0/1 [00:00<?, ?it/s]"
      ]
     },
     "metadata": {},
     "output_type": "display_data"
    },
    {
     "name": "stdout",
     "output_type": "stream",
     "text": [
      "MYT1-LZTS2-CHRM4-GPR176-TSC22D1-NEUROD1-MSC\n",
      "| Feature_group   |    Cells |   Cytoplasm |   Nuclei |\n",
      "|:----------------|---------:|------------:|---------:|\n",
      "| AreaShape       | 0.799914 |    0.632782 | 0.749186 |\n"
     ]
    },
    {
     "data": {
      "application/vnd.jupyter.widget-view+json": {
       "model_id": "d4474325ee1144759f4348e1cad01f3a",
       "version_major": 2,
       "version_minor": 0
      },
      "text/plain": [
       "  0%|          | 0/1 [00:00<?, ?it/s]"
      ]
     },
     "metadata": {},
     "output_type": "display_data"
    },
    {
     "data": {
      "application/vnd.jupyter.widget-view+json": {
       "model_id": "de7364d6e24141dc838b51cc4cf4a749",
       "version_major": 2,
       "version_minor": 0
      },
      "text/plain": [
       "  0%|          | 0/1 [00:00<?, ?it/s]"
      ]
     },
     "metadata": {},
     "output_type": "display_data"
    },
    {
     "data": {
      "application/vnd.jupyter.widget-view+json": {
       "model_id": "3134530a7e6d4cb898a861d9a094c74c",
       "version_major": 2,
       "version_minor": 0
      },
      "text/plain": [
       "  0%|          | 0/1 [00:00<?, ?it/s]"
      ]
     },
     "metadata": {},
     "output_type": "display_data"
    },
    {
     "name": "stdout",
     "output_type": "stream",
     "text": [
      "SPDL1-PAFAH1B1-NDEL1-NDE1-HOOK2-HOOK1\n",
      "| Feature_group   |    Cells |   Cytoplasm |   Nuclei |\n",
      "|:----------------|---------:|------------:|---------:|\n",
      "| AreaShape       | 0.446054 |    0.556465 | 0.537324 |\n"
     ]
    },
    {
     "data": {
      "application/vnd.jupyter.widget-view+json": {
       "model_id": "9e6202625c304695b1e6540d1b4865d5",
       "version_major": 2,
       "version_minor": 0
      },
      "text/plain": [
       "  0%|          | 0/1 [00:00<?, ?it/s]"
      ]
     },
     "metadata": {},
     "output_type": "display_data"
    },
    {
     "data": {
      "application/vnd.jupyter.widget-view+json": {
       "model_id": "cff1b2016df04a1d95568d7fecdc4741",
       "version_major": 2,
       "version_minor": 0
      },
      "text/plain": [
       "  0%|          | 0/1 [00:00<?, ?it/s]"
      ]
     },
     "metadata": {},
     "output_type": "display_data"
    },
    {
     "data": {
      "application/vnd.jupyter.widget-view+json": {
       "model_id": "ecf67e4ae3c942baa3fb34f54444dc71",
       "version_major": 2,
       "version_minor": 0
      },
      "text/plain": [
       "  0%|          | 0/1 [00:00<?, ?it/s]"
      ]
     },
     "metadata": {},
     "output_type": "display_data"
    },
    {
     "name": "stdout",
     "output_type": "stream",
     "text": [
      "MYT1-INSYN1-RNF41-PAK4-IKZF1\n",
      "| Feature_group   |    Cells |   Cytoplasm |   Nuclei |\n",
      "|:----------------|---------:|------------:|---------:|\n",
      "| AreaShape       | 0.696361 |    0.634249 | 0.803774 |\n"
     ]
    },
    {
     "data": {
      "application/vnd.jupyter.widget-view+json": {
       "model_id": "0fb65848d8b34413a802cbe4c567b9cb",
       "version_major": 2,
       "version_minor": 0
      },
      "text/plain": [
       "  0%|          | 0/1 [00:00<?, ?it/s]"
      ]
     },
     "metadata": {},
     "output_type": "display_data"
    },
    {
     "data": {
      "application/vnd.jupyter.widget-view+json": {
       "model_id": "372d5c1994c6466fb4b7ea9eaaf7ad90",
       "version_major": 2,
       "version_minor": 0
      },
      "text/plain": [
       "  0%|          | 0/1 [00:00<?, ?it/s]"
      ]
     },
     "metadata": {},
     "output_type": "display_data"
    },
    {
     "data": {
      "application/vnd.jupyter.widget-view+json": {
       "model_id": "20bbee8847334efe869a3154dbde83b1",
       "version_major": 2,
       "version_minor": 0
      },
      "text/plain": [
       "  0%|          | 0/1 [00:00<?, ?it/s]"
      ]
     },
     "metadata": {},
     "output_type": "display_data"
    },
    {
     "name": "stdout",
     "output_type": "stream",
     "text": [
      "ZFP36L1-PIK3R3-NRBP1-INSYN1-HOXC8-RAB40C-RAB40B-HTR1D-TUBA3D\n",
      "| Feature_group   |    Cells |   Cytoplasm |   Nuclei |\n",
      "|:----------------|---------:|------------:|---------:|\n",
      "| AreaShape       | 0.524976 |    0.643322 | 0.726768 |\n"
     ]
    }
   ],
   "source": [
    "for geneset in orf_genesets:\n",
    "    compartment_feature_group_df = pd.DataFrame()\n",
    "    for compartment in compartments:\n",
    "        feature_cols = (\n",
    "            feature_name_interpretation_df.query(\"feature_group==@feature_group\")\n",
    "            .query(\"compartment==@compartment\")\n",
    "            .feature.to_list()\n",
    "        )\n",
    "\n",
    "        profiles = orf_profiles_with_feature_names_df.query(\n",
    "            \"Metadata_Symbol in @geneset\"\n",
    "        )\n",
    "        plates_with_genes = list(np.unique(profiles.Metadata_Plate.to_list()))\n",
    "        negative_control_profiles = orf_profiles_with_feature_names_df.query(\n",
    "            \"Metadata_Plate in @plates_with_genes\"\n",
    "        ).query(\"Metadata_pert_type=='negcon'\")\n",
    "\n",
    "        consensus_profiles = utils.consensus(profiles, \"Metadata_JCP2022\")\n",
    "        consensus_profiles = utils.consensus(consensus_profiles, \"Metadata_pert_type\")[\n",
    "            feature_cols\n",
    "        ].copy()\n",
    "        consensus_negative_control_profiles = utils.consensus(\n",
    "            negative_control_profiles, \"Metadata_pert_type\"\n",
    "        )[feature_cols].copy()\n",
    "\n",
    "        id = [\"genes\", \"negcon\"]\n",
    "\n",
    "        feature_values = np.asarray(\n",
    "            [\n",
    "                np.abs(utils.get_featuredata(consensus_profiles)).values[0],\n",
    "                np.abs(\n",
    "                    utils.get_featuredata(consensus_negative_control_profiles)\n",
    "                ).values[0],\n",
    "            ]\n",
    "        )\n",
    "\n",
    "        cosine_sim = utils.cosine_similarity(id, feature_values).values[0, 1]\n",
    "\n",
    "        df = pd.DataFrame(\n",
    "            {\n",
    "                \"Compartment\": compartment,\n",
    "                \"Feature_group\": feature_group,\n",
    "                \"Similarity\": cosine_sim,\n",
    "            },\n",
    "            index=[0],\n",
    "        )\n",
    "\n",
    "        compartment_feature_group_df = pd.concat(\n",
    "            [compartment_feature_group_df, df], ignore_index=True\n",
    "        )\n",
    "\n",
    "    compartment_feature_group_df = compartment_feature_group_df.pivot(\n",
    "        index=\"Feature_group\", columns=\"Compartment\", values=\"Similarity\"\n",
    "    )\n",
    "\n",
    "    print('-'.join(geneset))\n",
    "    print(compartment_feature_group_df.to_markdown())"
   ]
  },
  {
   "cell_type": "code",
   "execution_count": 8,
   "metadata": {},
   "outputs": [
    {
     "data": {
      "application/vnd.jupyter.widget-view+json": {
       "model_id": "07d04e42b8d544238986dbe427b0dd5f",
       "version_major": 2,
       "version_minor": 0
      },
      "text/plain": [
       "  0%|          | 0/1 [00:00<?, ?it/s]"
      ]
     },
     "metadata": {},
     "output_type": "display_data"
    },
    {
     "data": {
      "application/vnd.jupyter.widget-view+json": {
       "model_id": "5586c23a668c4b9b83db0b2bfd876501",
       "version_major": 2,
       "version_minor": 0
      },
      "text/plain": [
       "  0%|          | 0/1 [00:00<?, ?it/s]"
      ]
     },
     "metadata": {},
     "output_type": "display_data"
    },
    {
     "data": {
      "application/vnd.jupyter.widget-view+json": {
       "model_id": "276ad29bc4dd463b85920c5d9a2a78eb",
       "version_major": 2,
       "version_minor": 0
      },
      "text/plain": [
       "  0%|          | 0/1 [00:00<?, ?it/s]"
      ]
     },
     "metadata": {},
     "output_type": "display_data"
    },
    {
     "data": {
      "application/vnd.jupyter.widget-view+json": {
       "model_id": "31d7dc57ff3348c58cee2bb8737f448c",
       "version_major": 2,
       "version_minor": 0
      },
      "text/plain": [
       "  0%|          | 0/1 [00:00<?, ?it/s]"
      ]
     },
     "metadata": {},
     "output_type": "display_data"
    },
    {
     "data": {
      "application/vnd.jupyter.widget-view+json": {
       "model_id": "9113b4a266e84d53adead3c1402eee70",
       "version_major": 2,
       "version_minor": 0
      },
      "text/plain": [
       "  0%|          | 0/1 [00:00<?, ?it/s]"
      ]
     },
     "metadata": {},
     "output_type": "display_data"
    },
    {
     "data": {
      "application/vnd.jupyter.widget-view+json": {
       "model_id": "adf24d2be1164c14ba22e6abcb49bf38",
       "version_major": 2,
       "version_minor": 0
      },
      "text/plain": [
       "  0%|          | 0/1 [00:00<?, ?it/s]"
      ]
     },
     "metadata": {},
     "output_type": "display_data"
    },
    {
     "data": {
      "application/vnd.jupyter.widget-view+json": {
       "model_id": "af8cfd1959224589a33eca4fbe7af808",
       "version_major": 2,
       "version_minor": 0
      },
      "text/plain": [
       "  0%|          | 0/1 [00:00<?, ?it/s]"
      ]
     },
     "metadata": {},
     "output_type": "display_data"
    },
    {
     "data": {
      "application/vnd.jupyter.widget-view+json": {
       "model_id": "4711a886b8e44cc8a6ae5d49c778a6ce",
       "version_major": 2,
       "version_minor": 0
      },
      "text/plain": [
       "  0%|          | 0/1 [00:00<?, ?it/s]"
      ]
     },
     "metadata": {},
     "output_type": "display_data"
    },
    {
     "data": {
      "application/vnd.jupyter.widget-view+json": {
       "model_id": "c01696a7d5cc4f6e99e6d76a1810b93e",
       "version_major": 2,
       "version_minor": 0
      },
      "text/plain": [
       "  0%|          | 0/1 [00:00<?, ?it/s]"
      ]
     },
     "metadata": {},
     "output_type": "display_data"
    },
    {
     "data": {
      "application/vnd.jupyter.widget-view+json": {
       "model_id": "382522e2d7b34944bc483134a08667f5",
       "version_major": 2,
       "version_minor": 0
      },
      "text/plain": [
       "  0%|          | 0/1 [00:00<?, ?it/s]"
      ]
     },
     "metadata": {},
     "output_type": "display_data"
    },
    {
     "data": {
      "application/vnd.jupyter.widget-view+json": {
       "model_id": "f36055cd86494fc4b869bb4d1e895f81",
       "version_major": 2,
       "version_minor": 0
      },
      "text/plain": [
       "  0%|          | 0/1 [00:00<?, ?it/s]"
      ]
     },
     "metadata": {},
     "output_type": "display_data"
    },
    {
     "data": {
      "application/vnd.jupyter.widget-view+json": {
       "model_id": "007b2e902ac24315897da1c668748e1f",
       "version_major": 2,
       "version_minor": 0
      },
      "text/plain": [
       "  0%|          | 0/1 [00:00<?, ?it/s]"
      ]
     },
     "metadata": {},
     "output_type": "display_data"
    },
    {
     "data": {
      "application/vnd.jupyter.widget-view+json": {
       "model_id": "fb9b74661e474e03bf98551f87acef61",
       "version_major": 2,
       "version_minor": 0
      },
      "text/plain": [
       "  0%|          | 0/1 [00:00<?, ?it/s]"
      ]
     },
     "metadata": {},
     "output_type": "display_data"
    },
    {
     "data": {
      "application/vnd.jupyter.widget-view+json": {
       "model_id": "a6c538ca97aa404a9e31c209fe451c17",
       "version_major": 2,
       "version_minor": 0
      },
      "text/plain": [
       "  0%|          | 0/1 [00:00<?, ?it/s]"
      ]
     },
     "metadata": {},
     "output_type": "display_data"
    },
    {
     "data": {
      "application/vnd.jupyter.widget-view+json": {
       "model_id": "07fc72f4cde8433dba0a148ff4dfcfaa",
       "version_major": 2,
       "version_minor": 0
      },
      "text/plain": [
       "  0%|          | 0/1 [00:00<?, ?it/s]"
      ]
     },
     "metadata": {},
     "output_type": "display_data"
    },
    {
     "name": "stdout",
     "output_type": "stream",
     "text": [
      "SLC39A1-ZBTB16\n",
      "| Feature_group      |      AGP |      DNA |       ER |     Mito |      RNA |\n",
      "|:-------------------|---------:|---------:|---------:|---------:|---------:|\n",
      "| Intensity          | 0.672086 | 0.789707 | 0.770823 | 0.965031 | 0.797988 |\n",
      "| RadialDistribution | 0.663653 | 0.419407 | 0.63083  | 0.738365 | 0.856948 |\n",
      "| Texture            | 0.741627 | 0.622982 | 0.569258 | 0.683218 | 0.649612 |\n"
     ]
    },
    {
     "data": {
      "application/vnd.jupyter.widget-view+json": {
       "model_id": "dcd210b18d2144ac9eab2cd70a8c4101",
       "version_major": 2,
       "version_minor": 0
      },
      "text/plain": [
       "  0%|          | 0/1 [00:00<?, ?it/s]"
      ]
     },
     "metadata": {},
     "output_type": "display_data"
    },
    {
     "data": {
      "application/vnd.jupyter.widget-view+json": {
       "model_id": "1145cce952254314961a91853c2773e1",
       "version_major": 2,
       "version_minor": 0
      },
      "text/plain": [
       "  0%|          | 0/1 [00:00<?, ?it/s]"
      ]
     },
     "metadata": {},
     "output_type": "display_data"
    },
    {
     "data": {
      "application/vnd.jupyter.widget-view+json": {
       "model_id": "cc1386c2c1594ee28cb9d531b0ca9929",
       "version_major": 2,
       "version_minor": 0
      },
      "text/plain": [
       "  0%|          | 0/1 [00:00<?, ?it/s]"
      ]
     },
     "metadata": {},
     "output_type": "display_data"
    },
    {
     "data": {
      "application/vnd.jupyter.widget-view+json": {
       "model_id": "b2f43bc95d96490c881274b5d30144c4",
       "version_major": 2,
       "version_minor": 0
      },
      "text/plain": [
       "  0%|          | 0/1 [00:00<?, ?it/s]"
      ]
     },
     "metadata": {},
     "output_type": "display_data"
    },
    {
     "data": {
      "application/vnd.jupyter.widget-view+json": {
       "model_id": "d62c731464db4283811dd449341ee983",
       "version_major": 2,
       "version_minor": 0
      },
      "text/plain": [
       "  0%|          | 0/1 [00:00<?, ?it/s]"
      ]
     },
     "metadata": {},
     "output_type": "display_data"
    },
    {
     "data": {
      "application/vnd.jupyter.widget-view+json": {
       "model_id": "e5ba64a6ae1b40b08a8cf153a54cf4d1",
       "version_major": 2,
       "version_minor": 0
      },
      "text/plain": [
       "  0%|          | 0/1 [00:00<?, ?it/s]"
      ]
     },
     "metadata": {},
     "output_type": "display_data"
    },
    {
     "data": {
      "application/vnd.jupyter.widget-view+json": {
       "model_id": "bb89f15ebaf248caa560dececf355155",
       "version_major": 2,
       "version_minor": 0
      },
      "text/plain": [
       "  0%|          | 0/1 [00:00<?, ?it/s]"
      ]
     },
     "metadata": {},
     "output_type": "display_data"
    },
    {
     "data": {
      "application/vnd.jupyter.widget-view+json": {
       "model_id": "f68b11faba99491595760e6de0c7e5a0",
       "version_major": 2,
       "version_minor": 0
      },
      "text/plain": [
       "  0%|          | 0/1 [00:00<?, ?it/s]"
      ]
     },
     "metadata": {},
     "output_type": "display_data"
    },
    {
     "data": {
      "application/vnd.jupyter.widget-view+json": {
       "model_id": "5cb22975b5084a05917e33a7523e87da",
       "version_major": 2,
       "version_minor": 0
      },
      "text/plain": [
       "  0%|          | 0/1 [00:00<?, ?it/s]"
      ]
     },
     "metadata": {},
     "output_type": "display_data"
    },
    {
     "data": {
      "application/vnd.jupyter.widget-view+json": {
       "model_id": "84e5f0d4df1348aea1aff92d90a6df54",
       "version_major": 2,
       "version_minor": 0
      },
      "text/plain": [
       "  0%|          | 0/1 [00:00<?, ?it/s]"
      ]
     },
     "metadata": {},
     "output_type": "display_data"
    },
    {
     "data": {
      "application/vnd.jupyter.widget-view+json": {
       "model_id": "294115b16aac410aa30a8dd98aedaeaa",
       "version_major": 2,
       "version_minor": 0
      },
      "text/plain": [
       "  0%|          | 0/1 [00:00<?, ?it/s]"
      ]
     },
     "metadata": {},
     "output_type": "display_data"
    },
    {
     "data": {
      "application/vnd.jupyter.widget-view+json": {
       "model_id": "1cbdfce898c24744b12e7f47f73c31a5",
       "version_major": 2,
       "version_minor": 0
      },
      "text/plain": [
       "  0%|          | 0/1 [00:00<?, ?it/s]"
      ]
     },
     "metadata": {},
     "output_type": "display_data"
    },
    {
     "data": {
      "application/vnd.jupyter.widget-view+json": {
       "model_id": "88f0647ffb644c3f8d619b47e863eabe",
       "version_major": 2,
       "version_minor": 0
      },
      "text/plain": [
       "  0%|          | 0/1 [00:00<?, ?it/s]"
      ]
     },
     "metadata": {},
     "output_type": "display_data"
    },
    {
     "data": {
      "application/vnd.jupyter.widget-view+json": {
       "model_id": "2db09cd592d14013b9c756607ec7a620",
       "version_major": 2,
       "version_minor": 0
      },
      "text/plain": [
       "  0%|          | 0/1 [00:00<?, ?it/s]"
      ]
     },
     "metadata": {},
     "output_type": "display_data"
    },
    {
     "data": {
      "application/vnd.jupyter.widget-view+json": {
       "model_id": "6a34ecc6d8ea4d3cac737c404818804f",
       "version_major": 2,
       "version_minor": 0
      },
      "text/plain": [
       "  0%|          | 0/1 [00:00<?, ?it/s]"
      ]
     },
     "metadata": {},
     "output_type": "display_data"
    },
    {
     "name": "stdout",
     "output_type": "stream",
     "text": [
      "SARS2-ECH1-DGUOK-MRPS2-LDHAL6B-UQCRFS1-ACADVL-HMGCL\n",
      "| Feature_group      |      AGP |      DNA |       ER |     Mito |      RNA |\n",
      "|:-------------------|---------:|---------:|---------:|---------:|---------:|\n",
      "| Intensity          | 0.73222  | 0.687355 | 0.486344 | 0.696769 | 0.582952 |\n",
      "| RadialDistribution | 0.883182 | 0.532504 | 0.660501 | 0.605953 | 0.638377 |\n",
      "| Texture            | 0.744335 | 0.932537 | 0.779458 | 0.831466 | 0.775246 |\n"
     ]
    },
    {
     "data": {
      "application/vnd.jupyter.widget-view+json": {
       "model_id": "9a55d02a8e1844c0b0b666acb5864aad",
       "version_major": 2,
       "version_minor": 0
      },
      "text/plain": [
       "  0%|          | 0/1 [00:00<?, ?it/s]"
      ]
     },
     "metadata": {},
     "output_type": "display_data"
    },
    {
     "data": {
      "application/vnd.jupyter.widget-view+json": {
       "model_id": "20f9d41323344161b13c92d9a72b96ed",
       "version_major": 2,
       "version_minor": 0
      },
      "text/plain": [
       "  0%|          | 0/1 [00:00<?, ?it/s]"
      ]
     },
     "metadata": {},
     "output_type": "display_data"
    },
    {
     "data": {
      "application/vnd.jupyter.widget-view+json": {
       "model_id": "e86e610183b54219a24e0696135a9eeb",
       "version_major": 2,
       "version_minor": 0
      },
      "text/plain": [
       "  0%|          | 0/1 [00:00<?, ?it/s]"
      ]
     },
     "metadata": {},
     "output_type": "display_data"
    },
    {
     "data": {
      "application/vnd.jupyter.widget-view+json": {
       "model_id": "ce2308ce6ee543c78720510fef5f69d2",
       "version_major": 2,
       "version_minor": 0
      },
      "text/plain": [
       "  0%|          | 0/1 [00:00<?, ?it/s]"
      ]
     },
     "metadata": {},
     "output_type": "display_data"
    },
    {
     "data": {
      "application/vnd.jupyter.widget-view+json": {
       "model_id": "703af388f5334c91bb18f7942bd78f5e",
       "version_major": 2,
       "version_minor": 0
      },
      "text/plain": [
       "  0%|          | 0/1 [00:00<?, ?it/s]"
      ]
     },
     "metadata": {},
     "output_type": "display_data"
    },
    {
     "data": {
      "application/vnd.jupyter.widget-view+json": {
       "model_id": "b85219be4f8249c98d69605399954b3a",
       "version_major": 2,
       "version_minor": 0
      },
      "text/plain": [
       "  0%|          | 0/1 [00:00<?, ?it/s]"
      ]
     },
     "metadata": {},
     "output_type": "display_data"
    },
    {
     "data": {
      "application/vnd.jupyter.widget-view+json": {
       "model_id": "6dce7d5465ce429dabadce01d57ae5a2",
       "version_major": 2,
       "version_minor": 0
      },
      "text/plain": [
       "  0%|          | 0/1 [00:00<?, ?it/s]"
      ]
     },
     "metadata": {},
     "output_type": "display_data"
    },
    {
     "data": {
      "application/vnd.jupyter.widget-view+json": {
       "model_id": "12a53110a5f248999f49c9cc353cc066",
       "version_major": 2,
       "version_minor": 0
      },
      "text/plain": [
       "  0%|          | 0/1 [00:00<?, ?it/s]"
      ]
     },
     "metadata": {},
     "output_type": "display_data"
    },
    {
     "data": {
      "application/vnd.jupyter.widget-view+json": {
       "model_id": "5a50d211621f404dac29a876e33e6a4b",
       "version_major": 2,
       "version_minor": 0
      },
      "text/plain": [
       "  0%|          | 0/1 [00:00<?, ?it/s]"
      ]
     },
     "metadata": {},
     "output_type": "display_data"
    },
    {
     "data": {
      "application/vnd.jupyter.widget-view+json": {
       "model_id": "5d41fab44fdd418a877bc93cfb380069",
       "version_major": 2,
       "version_minor": 0
      },
      "text/plain": [
       "  0%|          | 0/1 [00:00<?, ?it/s]"
      ]
     },
     "metadata": {},
     "output_type": "display_data"
    },
    {
     "data": {
      "application/vnd.jupyter.widget-view+json": {
       "model_id": "013bfbb7abf34f5f81e72905bef4740f",
       "version_major": 2,
       "version_minor": 0
      },
      "text/plain": [
       "  0%|          | 0/1 [00:00<?, ?it/s]"
      ]
     },
     "metadata": {},
     "output_type": "display_data"
    },
    {
     "data": {
      "application/vnd.jupyter.widget-view+json": {
       "model_id": "de174163759e4b78889df727a9a05e2b",
       "version_major": 2,
       "version_minor": 0
      },
      "text/plain": [
       "  0%|          | 0/1 [00:00<?, ?it/s]"
      ]
     },
     "metadata": {},
     "output_type": "display_data"
    },
    {
     "data": {
      "application/vnd.jupyter.widget-view+json": {
       "model_id": "97a2a377d263436684ac8d6867787af9",
       "version_major": 2,
       "version_minor": 0
      },
      "text/plain": [
       "  0%|          | 0/1 [00:00<?, ?it/s]"
      ]
     },
     "metadata": {},
     "output_type": "display_data"
    },
    {
     "data": {
      "application/vnd.jupyter.widget-view+json": {
       "model_id": "125fb5b5d1574eaca7c2fd807c2cd491",
       "version_major": 2,
       "version_minor": 0
      },
      "text/plain": [
       "  0%|          | 0/1 [00:00<?, ?it/s]"
      ]
     },
     "metadata": {},
     "output_type": "display_data"
    },
    {
     "data": {
      "application/vnd.jupyter.widget-view+json": {
       "model_id": "b0845064de4141bdb10ebc25a377ad2d",
       "version_major": 2,
       "version_minor": 0
      },
      "text/plain": [
       "  0%|          | 0/1 [00:00<?, ?it/s]"
      ]
     },
     "metadata": {},
     "output_type": "display_data"
    },
    {
     "name": "stdout",
     "output_type": "stream",
     "text": [
      "MYT1-LZTS2-CHRM4-GPR176-TSC22D1-NEUROD1-MSC\n",
      "| Feature_group      |      AGP |      DNA |       ER |     Mito |      RNA |\n",
      "|:-------------------|---------:|---------:|---------:|---------:|---------:|\n",
      "| Intensity          | 0.537533 | 0.583239 | 0.638208 | 0.566971 | 0.696846 |\n",
      "| RadialDistribution | 0.917838 | 0.750469 | 0.581483 | 0.587096 | 0.473291 |\n",
      "| Texture            | 0.571667 | 0.80668  | 0.649389 | 0.742337 | 0.755118 |\n"
     ]
    },
    {
     "data": {
      "application/vnd.jupyter.widget-view+json": {
       "model_id": "bc85a5c9f55040229bacd2cd447359c5",
       "version_major": 2,
       "version_minor": 0
      },
      "text/plain": [
       "  0%|          | 0/1 [00:00<?, ?it/s]"
      ]
     },
     "metadata": {},
     "output_type": "display_data"
    },
    {
     "data": {
      "application/vnd.jupyter.widget-view+json": {
       "model_id": "89061376ed984b89a55eedd69553d4f1",
       "version_major": 2,
       "version_minor": 0
      },
      "text/plain": [
       "  0%|          | 0/1 [00:00<?, ?it/s]"
      ]
     },
     "metadata": {},
     "output_type": "display_data"
    },
    {
     "data": {
      "application/vnd.jupyter.widget-view+json": {
       "model_id": "eafbf50c6f9b4f65b71ad55341fb6a5d",
       "version_major": 2,
       "version_minor": 0
      },
      "text/plain": [
       "  0%|          | 0/1 [00:00<?, ?it/s]"
      ]
     },
     "metadata": {},
     "output_type": "display_data"
    },
    {
     "data": {
      "application/vnd.jupyter.widget-view+json": {
       "model_id": "f62a74f96ef44bf18caf65b493b43778",
       "version_major": 2,
       "version_minor": 0
      },
      "text/plain": [
       "  0%|          | 0/1 [00:00<?, ?it/s]"
      ]
     },
     "metadata": {},
     "output_type": "display_data"
    },
    {
     "data": {
      "application/vnd.jupyter.widget-view+json": {
       "model_id": "bd5c87f250ee487ebbcc4d83a21dde9d",
       "version_major": 2,
       "version_minor": 0
      },
      "text/plain": [
       "  0%|          | 0/1 [00:00<?, ?it/s]"
      ]
     },
     "metadata": {},
     "output_type": "display_data"
    },
    {
     "data": {
      "application/vnd.jupyter.widget-view+json": {
       "model_id": "aa9bb6c6b4e74d7ca02d32ff2221b218",
       "version_major": 2,
       "version_minor": 0
      },
      "text/plain": [
       "  0%|          | 0/1 [00:00<?, ?it/s]"
      ]
     },
     "metadata": {},
     "output_type": "display_data"
    },
    {
     "data": {
      "application/vnd.jupyter.widget-view+json": {
       "model_id": "2fd6bdc67adb40b3a5ef66e88807632f",
       "version_major": 2,
       "version_minor": 0
      },
      "text/plain": [
       "  0%|          | 0/1 [00:00<?, ?it/s]"
      ]
     },
     "metadata": {},
     "output_type": "display_data"
    },
    {
     "data": {
      "application/vnd.jupyter.widget-view+json": {
       "model_id": "d8d119c4445f4cd3b9800ad17b16c0ba",
       "version_major": 2,
       "version_minor": 0
      },
      "text/plain": [
       "  0%|          | 0/1 [00:00<?, ?it/s]"
      ]
     },
     "metadata": {},
     "output_type": "display_data"
    },
    {
     "data": {
      "application/vnd.jupyter.widget-view+json": {
       "model_id": "a2c14927b29a47a194f2c2ad9c8e1b82",
       "version_major": 2,
       "version_minor": 0
      },
      "text/plain": [
       "  0%|          | 0/1 [00:00<?, ?it/s]"
      ]
     },
     "metadata": {},
     "output_type": "display_data"
    },
    {
     "data": {
      "application/vnd.jupyter.widget-view+json": {
       "model_id": "2acee451f78348f1afc5f6eb547c199e",
       "version_major": 2,
       "version_minor": 0
      },
      "text/plain": [
       "  0%|          | 0/1 [00:00<?, ?it/s]"
      ]
     },
     "metadata": {},
     "output_type": "display_data"
    },
    {
     "data": {
      "application/vnd.jupyter.widget-view+json": {
       "model_id": "060dc91c68054dc293677f0cea9a1d14",
       "version_major": 2,
       "version_minor": 0
      },
      "text/plain": [
       "  0%|          | 0/1 [00:00<?, ?it/s]"
      ]
     },
     "metadata": {},
     "output_type": "display_data"
    },
    {
     "data": {
      "application/vnd.jupyter.widget-view+json": {
       "model_id": "9a14b6894270413c83180e7c458f4c45",
       "version_major": 2,
       "version_minor": 0
      },
      "text/plain": [
       "  0%|          | 0/1 [00:00<?, ?it/s]"
      ]
     },
     "metadata": {},
     "output_type": "display_data"
    },
    {
     "data": {
      "application/vnd.jupyter.widget-view+json": {
       "model_id": "4545b68df61249958844c09f87b377d5",
       "version_major": 2,
       "version_minor": 0
      },
      "text/plain": [
       "  0%|          | 0/1 [00:00<?, ?it/s]"
      ]
     },
     "metadata": {},
     "output_type": "display_data"
    },
    {
     "data": {
      "application/vnd.jupyter.widget-view+json": {
       "model_id": "1010bc512fd741c1a8f45b57a94dfad4",
       "version_major": 2,
       "version_minor": 0
      },
      "text/plain": [
       "  0%|          | 0/1 [00:00<?, ?it/s]"
      ]
     },
     "metadata": {},
     "output_type": "display_data"
    },
    {
     "data": {
      "application/vnd.jupyter.widget-view+json": {
       "model_id": "0bea8c6bb9c94c82901c7adb8e757f76",
       "version_major": 2,
       "version_minor": 0
      },
      "text/plain": [
       "  0%|          | 0/1 [00:00<?, ?it/s]"
      ]
     },
     "metadata": {},
     "output_type": "display_data"
    },
    {
     "name": "stdout",
     "output_type": "stream",
     "text": [
      "SPDL1-PAFAH1B1-NDEL1-NDE1-HOOK2-HOOK1\n",
      "| Feature_group      |      AGP |      DNA |       ER |     Mito |      RNA |\n",
      "|:-------------------|---------:|---------:|---------:|---------:|---------:|\n",
      "| Intensity          | 0.530789 | 0.712743 | 0.815348 | 0.713063 | 0.71227  |\n",
      "| RadialDistribution | 0.378488 | 0.467896 | 0.707991 | 0.650461 | 0.43878  |\n",
      "| Texture            | 0.601008 | 0.890659 | 0.765041 | 0.732915 | 0.751516 |\n"
     ]
    },
    {
     "data": {
      "application/vnd.jupyter.widget-view+json": {
       "model_id": "7c2941af078241c5bc48052a6c7fff9c",
       "version_major": 2,
       "version_minor": 0
      },
      "text/plain": [
       "  0%|          | 0/1 [00:00<?, ?it/s]"
      ]
     },
     "metadata": {},
     "output_type": "display_data"
    },
    {
     "data": {
      "application/vnd.jupyter.widget-view+json": {
       "model_id": "f790194ec73247538b129ed6301d4a62",
       "version_major": 2,
       "version_minor": 0
      },
      "text/plain": [
       "  0%|          | 0/1 [00:00<?, ?it/s]"
      ]
     },
     "metadata": {},
     "output_type": "display_data"
    },
    {
     "data": {
      "application/vnd.jupyter.widget-view+json": {
       "model_id": "1521d2e1acea4e86886cb53b23a6bba3",
       "version_major": 2,
       "version_minor": 0
      },
      "text/plain": [
       "  0%|          | 0/1 [00:00<?, ?it/s]"
      ]
     },
     "metadata": {},
     "output_type": "display_data"
    },
    {
     "data": {
      "application/vnd.jupyter.widget-view+json": {
       "model_id": "dcb34596ac6b40538413c3ee971ff640",
       "version_major": 2,
       "version_minor": 0
      },
      "text/plain": [
       "  0%|          | 0/1 [00:00<?, ?it/s]"
      ]
     },
     "metadata": {},
     "output_type": "display_data"
    },
    {
     "data": {
      "application/vnd.jupyter.widget-view+json": {
       "model_id": "db3811dca0d746729bf7781039b68860",
       "version_major": 2,
       "version_minor": 0
      },
      "text/plain": [
       "  0%|          | 0/1 [00:00<?, ?it/s]"
      ]
     },
     "metadata": {},
     "output_type": "display_data"
    },
    {
     "data": {
      "application/vnd.jupyter.widget-view+json": {
       "model_id": "ca98c9b23b7840959fc26a1016a2a363",
       "version_major": 2,
       "version_minor": 0
      },
      "text/plain": [
       "  0%|          | 0/1 [00:00<?, ?it/s]"
      ]
     },
     "metadata": {},
     "output_type": "display_data"
    },
    {
     "data": {
      "application/vnd.jupyter.widget-view+json": {
       "model_id": "513390e498504b0d9e8e1b040fff1b9d",
       "version_major": 2,
       "version_minor": 0
      },
      "text/plain": [
       "  0%|          | 0/1 [00:00<?, ?it/s]"
      ]
     },
     "metadata": {},
     "output_type": "display_data"
    },
    {
     "data": {
      "application/vnd.jupyter.widget-view+json": {
       "model_id": "e42e6b4cae674f9b99baf8052a9f1f99",
       "version_major": 2,
       "version_minor": 0
      },
      "text/plain": [
       "  0%|          | 0/1 [00:00<?, ?it/s]"
      ]
     },
     "metadata": {},
     "output_type": "display_data"
    },
    {
     "data": {
      "application/vnd.jupyter.widget-view+json": {
       "model_id": "8af0dea8ec954a6bbf6855eb4f955e4b",
       "version_major": 2,
       "version_minor": 0
      },
      "text/plain": [
       "  0%|          | 0/1 [00:00<?, ?it/s]"
      ]
     },
     "metadata": {},
     "output_type": "display_data"
    },
    {
     "data": {
      "application/vnd.jupyter.widget-view+json": {
       "model_id": "7aba4861896f4846a100b7b5ca6a8e87",
       "version_major": 2,
       "version_minor": 0
      },
      "text/plain": [
       "  0%|          | 0/1 [00:00<?, ?it/s]"
      ]
     },
     "metadata": {},
     "output_type": "display_data"
    },
    {
     "data": {
      "application/vnd.jupyter.widget-view+json": {
       "model_id": "06bc3447609343909d334a8995e6c664",
       "version_major": 2,
       "version_minor": 0
      },
      "text/plain": [
       "  0%|          | 0/1 [00:00<?, ?it/s]"
      ]
     },
     "metadata": {},
     "output_type": "display_data"
    },
    {
     "data": {
      "application/vnd.jupyter.widget-view+json": {
       "model_id": "c04bc9940e55408ba351a79ba1715fd4",
       "version_major": 2,
       "version_minor": 0
      },
      "text/plain": [
       "  0%|          | 0/1 [00:00<?, ?it/s]"
      ]
     },
     "metadata": {},
     "output_type": "display_data"
    },
    {
     "data": {
      "application/vnd.jupyter.widget-view+json": {
       "model_id": "af94884810d4443fa06e4209559a5800",
       "version_major": 2,
       "version_minor": 0
      },
      "text/plain": [
       "  0%|          | 0/1 [00:00<?, ?it/s]"
      ]
     },
     "metadata": {},
     "output_type": "display_data"
    },
    {
     "data": {
      "application/vnd.jupyter.widget-view+json": {
       "model_id": "205ac3c0cbfe4b3a97c16373eb7ab333",
       "version_major": 2,
       "version_minor": 0
      },
      "text/plain": [
       "  0%|          | 0/1 [00:00<?, ?it/s]"
      ]
     },
     "metadata": {},
     "output_type": "display_data"
    },
    {
     "data": {
      "application/vnd.jupyter.widget-view+json": {
       "model_id": "b94866bb0de74110971ae374ba11e8e9",
       "version_major": 2,
       "version_minor": 0
      },
      "text/plain": [
       "  0%|          | 0/1 [00:00<?, ?it/s]"
      ]
     },
     "metadata": {},
     "output_type": "display_data"
    },
    {
     "name": "stdout",
     "output_type": "stream",
     "text": [
      "MYT1-INSYN1-RNF41-PAK4-IKZF1\n",
      "| Feature_group      |      AGP |      DNA |       ER |     Mito |      RNA |\n",
      "|:-------------------|---------:|---------:|---------:|---------:|---------:|\n",
      "| Intensity          | 0.488113 | 0.757041 | 0.490375 | 0.700938 | 0.699223 |\n",
      "| RadialDistribution | 0.734224 | 0.659251 | 0.550379 | 0.64848  | 0.548274 |\n",
      "| Texture            | 0.753285 | 0.496034 | 0.71875  | 0.662565 | 0.699823 |\n"
     ]
    },
    {
     "data": {
      "application/vnd.jupyter.widget-view+json": {
       "model_id": "d08269f07b9145d08c0d9792e2369421",
       "version_major": 2,
       "version_minor": 0
      },
      "text/plain": [
       "  0%|          | 0/1 [00:00<?, ?it/s]"
      ]
     },
     "metadata": {},
     "output_type": "display_data"
    },
    {
     "data": {
      "application/vnd.jupyter.widget-view+json": {
       "model_id": "e40eeac7355b41a2aba950eb80b89fda",
       "version_major": 2,
       "version_minor": 0
      },
      "text/plain": [
       "  0%|          | 0/1 [00:00<?, ?it/s]"
      ]
     },
     "metadata": {},
     "output_type": "display_data"
    },
    {
     "data": {
      "application/vnd.jupyter.widget-view+json": {
       "model_id": "7f5ce0a863d64a5da70716b6fa474a51",
       "version_major": 2,
       "version_minor": 0
      },
      "text/plain": [
       "  0%|          | 0/1 [00:00<?, ?it/s]"
      ]
     },
     "metadata": {},
     "output_type": "display_data"
    },
    {
     "data": {
      "application/vnd.jupyter.widget-view+json": {
       "model_id": "2192875cc43049eca341063351b0bafd",
       "version_major": 2,
       "version_minor": 0
      },
      "text/plain": [
       "  0%|          | 0/1 [00:00<?, ?it/s]"
      ]
     },
     "metadata": {},
     "output_type": "display_data"
    },
    {
     "data": {
      "application/vnd.jupyter.widget-view+json": {
       "model_id": "4e9cb6372cc74d9c807bc64f81c5ae97",
       "version_major": 2,
       "version_minor": 0
      },
      "text/plain": [
       "  0%|          | 0/1 [00:00<?, ?it/s]"
      ]
     },
     "metadata": {},
     "output_type": "display_data"
    },
    {
     "data": {
      "application/vnd.jupyter.widget-view+json": {
       "model_id": "6a8392831b8142e481d5490eef81ed9a",
       "version_major": 2,
       "version_minor": 0
      },
      "text/plain": [
       "  0%|          | 0/1 [00:00<?, ?it/s]"
      ]
     },
     "metadata": {},
     "output_type": "display_data"
    },
    {
     "data": {
      "application/vnd.jupyter.widget-view+json": {
       "model_id": "05550617d1384855bc58041ee0b82fc1",
       "version_major": 2,
       "version_minor": 0
      },
      "text/plain": [
       "  0%|          | 0/1 [00:00<?, ?it/s]"
      ]
     },
     "metadata": {},
     "output_type": "display_data"
    },
    {
     "data": {
      "application/vnd.jupyter.widget-view+json": {
       "model_id": "6416f6181e0d4103beb58cae58b000b3",
       "version_major": 2,
       "version_minor": 0
      },
      "text/plain": [
       "  0%|          | 0/1 [00:00<?, ?it/s]"
      ]
     },
     "metadata": {},
     "output_type": "display_data"
    },
    {
     "data": {
      "application/vnd.jupyter.widget-view+json": {
       "model_id": "1bc6e57cd84d427187ac5ee4f4ac7ff6",
       "version_major": 2,
       "version_minor": 0
      },
      "text/plain": [
       "  0%|          | 0/1 [00:00<?, ?it/s]"
      ]
     },
     "metadata": {},
     "output_type": "display_data"
    },
    {
     "data": {
      "application/vnd.jupyter.widget-view+json": {
       "model_id": "ef217de1e81f4066a6e48e19f182a174",
       "version_major": 2,
       "version_minor": 0
      },
      "text/plain": [
       "  0%|          | 0/1 [00:00<?, ?it/s]"
      ]
     },
     "metadata": {},
     "output_type": "display_data"
    },
    {
     "data": {
      "application/vnd.jupyter.widget-view+json": {
       "model_id": "adf2abf41c9a44b5a48c1cad361f997f",
       "version_major": 2,
       "version_minor": 0
      },
      "text/plain": [
       "  0%|          | 0/1 [00:00<?, ?it/s]"
      ]
     },
     "metadata": {},
     "output_type": "display_data"
    },
    {
     "data": {
      "application/vnd.jupyter.widget-view+json": {
       "model_id": "8db782f7f0ff48ab840cbdeba4edeaa1",
       "version_major": 2,
       "version_minor": 0
      },
      "text/plain": [
       "  0%|          | 0/1 [00:00<?, ?it/s]"
      ]
     },
     "metadata": {},
     "output_type": "display_data"
    },
    {
     "data": {
      "application/vnd.jupyter.widget-view+json": {
       "model_id": "a45a2ca37565410d94e8ed395874bd60",
       "version_major": 2,
       "version_minor": 0
      },
      "text/plain": [
       "  0%|          | 0/1 [00:00<?, ?it/s]"
      ]
     },
     "metadata": {},
     "output_type": "display_data"
    },
    {
     "data": {
      "application/vnd.jupyter.widget-view+json": {
       "model_id": "fc72c312fe2d4867b9fc1f9e613f1229",
       "version_major": 2,
       "version_minor": 0
      },
      "text/plain": [
       "  0%|          | 0/1 [00:00<?, ?it/s]"
      ]
     },
     "metadata": {},
     "output_type": "display_data"
    },
    {
     "data": {
      "application/vnd.jupyter.widget-view+json": {
       "model_id": "f412c4cf74d046a3bff820676fe9cfdc",
       "version_major": 2,
       "version_minor": 0
      },
      "text/plain": [
       "  0%|          | 0/1 [00:00<?, ?it/s]"
      ]
     },
     "metadata": {},
     "output_type": "display_data"
    },
    {
     "name": "stdout",
     "output_type": "stream",
     "text": [
      "ZFP36L1-PIK3R3-NRBP1-INSYN1-HOXC8-RAB40C-RAB40B-HTR1D-TUBA3D\n",
      "| Feature_group      |      AGP |      DNA |       ER |     Mito |      RNA |\n",
      "|:-------------------|---------:|---------:|---------:|---------:|---------:|\n",
      "| Intensity          | 0.862226 | 0.862558 | 0.477843 | 0.861283 | 0.546821 |\n",
      "| RadialDistribution | 0.490482 | 0.618996 | 0.73138  | 0.688579 | 0.717832 |\n",
      "| Texture            | 0.707661 | 0.885056 | 0.716927 | 0.775312 | 0.652885 |\n"
     ]
    }
   ],
   "source": [
    "for geneset in orf_genesets:\n",
    "    channel_feature_group_df = pd.DataFrame()\n",
    "    for channel in channels:\n",
    "        for feature_group in feature_group_list:\n",
    "            feature_cols = (\n",
    "                feature_name_interpretation_df.query(\"feature_group==@feature_group\")\n",
    "                .query(\"channel==@channel\")\n",
    "                .feature.to_list()\n",
    "            )\n",
    "\n",
    "            profiles = orf_profiles_with_feature_names_df.query(\n",
    "                \"Metadata_Symbol in @geneset\"\n",
    "            )\n",
    "            plates_with_genes = list(np.unique(profiles.Metadata_Plate.to_list()))\n",
    "            negative_control_profiles = orf_profiles_with_feature_names_df.query(\n",
    "                \"Metadata_Plate in @plates_with_genes\"\n",
    "            ).query(\"Metadata_pert_type=='negcon'\")\n",
    "\n",
    "            consensus_profiles = utils.consensus(profiles, \"Metadata_JCP2022\")\n",
    "            consensus_profiles = utils.consensus(consensus_profiles, \"Metadata_pert_type\")[\n",
    "                feature_cols\n",
    "            ].copy()\n",
    "            consensus_negative_control_profiles = utils.consensus(\n",
    "                negative_control_profiles, \"Metadata_pert_type\"\n",
    "            )[feature_cols].copy()\n",
    "\n",
    "            id = [\"genes\", \"negcon\"]\n",
    "\n",
    "            feature_values = np.asarray(\n",
    "                [\n",
    "                    np.abs(utils.get_featuredata(consensus_profiles)).values[0],\n",
    "                    np.abs(\n",
    "                        utils.get_featuredata(consensus_negative_control_profiles)\n",
    "                    ).values[0],\n",
    "                ]\n",
    "            )\n",
    "\n",
    "            cosine_sim = utils.cosine_similarity(id, feature_values).values[0, 1]\n",
    "\n",
    "            df = pd.DataFrame(\n",
    "                {\n",
    "                    \"Channel\": channel,\n",
    "                    \"Feature_group\": feature_group,\n",
    "                    \"Similarity\": cosine_sim,\n",
    "                },\n",
    "                index=[0],\n",
    "            )\n",
    "\n",
    "            channel_feature_group_df = pd.concat(\n",
    "                [channel_feature_group_df, df], ignore_index=True\n",
    "            )\n",
    "\n",
    "    channel_feature_group_df = channel_feature_group_df.pivot(\n",
    "        index=\"Feature_group\", columns=\"Channel\", values=\"Similarity\"\n",
    "    )\n",
    "\n",
    "    print('-'.join(geneset))\n",
    "    print(channel_feature_group_df.to_markdown())"
   ]
  },
  {
   "cell_type": "code",
   "execution_count": 9,
   "metadata": {},
   "outputs": [],
   "source": [
    "feature_group = \"AreaShape\"\n",
    "feature_group_list = [\"Texture\", \"Intensity\", \"RadialDistribution\"]\n",
    "compartments = [\"Cells\", \"Cytoplasm\", \"Nuclei\"]\n",
    "channels = [\"DNA\", \"RNA\", \"Mito\", \"ER\", \"AGP\"]"
   ]
  },
  {
   "cell_type": "code",
   "execution_count": 10,
   "metadata": {},
   "outputs": [
    {
     "data": {
      "text/html": [
       "<div>\n",
       "<style scoped>\n",
       "    .dataframe tbody tr th:only-of-type {\n",
       "        vertical-align: middle;\n",
       "    }\n",
       "\n",
       "    .dataframe tbody tr th {\n",
       "        vertical-align: top;\n",
       "    }\n",
       "\n",
       "    .dataframe thead th {\n",
       "        text-align: right;\n",
       "    }\n",
       "</style>\n",
       "<table border=\"1\" class=\"dataframe\">\n",
       "  <thead>\n",
       "    <tr style=\"text-align: right;\">\n",
       "      <th></th>\n",
       "      <th>feature</th>\n",
       "      <th>compartment</th>\n",
       "      <th>feature_group</th>\n",
       "      <th>feature_type</th>\n",
       "      <th>channel</th>\n",
       "    </tr>\n",
       "  </thead>\n",
       "  <tbody>\n",
       "    <tr>\n",
       "      <th>0</th>\n",
       "      <td>Cells_AreaShape_Area</td>\n",
       "      <td>Cells</td>\n",
       "      <td>AreaShape</td>\n",
       "      <td>Area</td>\n",
       "      <td>XNONE</td>\n",
       "    </tr>\n",
       "    <tr>\n",
       "      <th>1</th>\n",
       "      <td>Cells_AreaShape_BoundingBoxArea</td>\n",
       "      <td>Cells</td>\n",
       "      <td>AreaShape</td>\n",
       "      <td>BoundingBoxArea</td>\n",
       "      <td>XNONE</td>\n",
       "    </tr>\n",
       "    <tr>\n",
       "      <th>2</th>\n",
       "      <td>Cells_AreaShape_BoundingBoxMaximum_X</td>\n",
       "      <td>Cells</td>\n",
       "      <td>AreaShape</td>\n",
       "      <td>BoundingBoxMaximum</td>\n",
       "      <td>XNONE</td>\n",
       "    </tr>\n",
       "    <tr>\n",
       "      <th>3</th>\n",
       "      <td>Cells_AreaShape_BoundingBoxMaximum_Y</td>\n",
       "      <td>Cells</td>\n",
       "      <td>AreaShape</td>\n",
       "      <td>BoundingBoxMaximum</td>\n",
       "      <td>XNONE</td>\n",
       "    </tr>\n",
       "    <tr>\n",
       "      <th>4</th>\n",
       "      <td>Cells_AreaShape_BoundingBoxMinimum_X</td>\n",
       "      <td>Cells</td>\n",
       "      <td>AreaShape</td>\n",
       "      <td>BoundingBoxMinimum</td>\n",
       "      <td>XNONE</td>\n",
       "    </tr>\n",
       "  </tbody>\n",
       "</table>\n",
       "</div>"
      ],
      "text/plain": [
       "                                feature compartment feature_group  \\\n",
       "0                  Cells_AreaShape_Area       Cells     AreaShape   \n",
       "1       Cells_AreaShape_BoundingBoxArea       Cells     AreaShape   \n",
       "2  Cells_AreaShape_BoundingBoxMaximum_X       Cells     AreaShape   \n",
       "3  Cells_AreaShape_BoundingBoxMaximum_Y       Cells     AreaShape   \n",
       "4  Cells_AreaShape_BoundingBoxMinimum_X       Cells     AreaShape   \n",
       "\n",
       "         feature_type channel  \n",
       "0                Area   XNONE  \n",
       "1     BoundingBoxArea   XNONE  \n",
       "2  BoundingBoxMaximum   XNONE  \n",
       "3  BoundingBoxMaximum   XNONE  \n",
       "4  BoundingBoxMinimum   XNONE  "
      ]
     },
     "execution_count": 10,
     "metadata": {},
     "output_type": "execute_result"
    }
   ],
   "source": [
    "feature_names = utils.get_featurecols(crispr_profiles_with_feature_names_df)\n",
    "\n",
    "feature_name_interpretation_df = pd.DataFrame()\n",
    "\n",
    "for feature_name in feature_names:\n",
    "    df = pd.DataFrame(utils.parse_cp_features(feature_name), index=[0])\n",
    "    feature_name_interpretation_df = pd.concat([feature_name_interpretation_df, df], ignore_index=True)\n",
    "\n",
    "feature_name_interpretation_df.head()"
   ]
  },
  {
   "cell_type": "code",
   "execution_count": 11,
   "metadata": {},
   "outputs": [
    {
     "data": {
      "application/vnd.jupyter.widget-view+json": {
       "model_id": "c4f58f622f7a4eba988b164b8f1c1e47",
       "version_major": 2,
       "version_minor": 0
      },
      "text/plain": [
       "  0%|          | 0/1 [00:00<?, ?it/s]"
      ]
     },
     "metadata": {},
     "output_type": "display_data"
    },
    {
     "data": {
      "application/vnd.jupyter.widget-view+json": {
       "model_id": "e204e52feeee4a8e87567329dca01c2e",
       "version_major": 2,
       "version_minor": 0
      },
      "text/plain": [
       "  0%|          | 0/1 [00:00<?, ?it/s]"
      ]
     },
     "metadata": {},
     "output_type": "display_data"
    },
    {
     "data": {
      "application/vnd.jupyter.widget-view+json": {
       "model_id": "40126cd241f84f15b52022fa9c746bc2",
       "version_major": 2,
       "version_minor": 0
      },
      "text/plain": [
       "  0%|          | 0/1 [00:00<?, ?it/s]"
      ]
     },
     "metadata": {},
     "output_type": "display_data"
    },
    {
     "name": "stdout",
     "output_type": "stream",
     "text": [
      "SLC39A1-ZBTB16\n",
      "| Feature_group   |    Cells |   Cytoplasm |   Nuclei |\n",
      "|:----------------|---------:|------------:|---------:|\n",
      "| AreaShape       | 0.594427 |    0.699604 | 0.548067 |\n"
     ]
    },
    {
     "data": {
      "application/vnd.jupyter.widget-view+json": {
       "model_id": "d4ddd8d9b21d402ab126242fc74823fb",
       "version_major": 2,
       "version_minor": 0
      },
      "text/plain": [
       "  0%|          | 0/1 [00:00<?, ?it/s]"
      ]
     },
     "metadata": {},
     "output_type": "display_data"
    },
    {
     "data": {
      "application/vnd.jupyter.widget-view+json": {
       "model_id": "3cda344f5006446e8b471f473fe36358",
       "version_major": 2,
       "version_minor": 0
      },
      "text/plain": [
       "  0%|          | 0/1 [00:00<?, ?it/s]"
      ]
     },
     "metadata": {},
     "output_type": "display_data"
    },
    {
     "data": {
      "application/vnd.jupyter.widget-view+json": {
       "model_id": "f63381a7f3e94f2c9401a857760c0c2b",
       "version_major": 2,
       "version_minor": 0
      },
      "text/plain": [
       "  0%|          | 0/1 [00:00<?, ?it/s]"
      ]
     },
     "metadata": {},
     "output_type": "display_data"
    },
    {
     "name": "stdout",
     "output_type": "stream",
     "text": [
      "FOXO3-TGFB1\n",
      "| Feature_group   |    Cells |   Cytoplasm |   Nuclei |\n",
      "|:----------------|---------:|------------:|---------:|\n",
      "| AreaShape       | 0.729562 |    0.698623 | 0.636117 |\n"
     ]
    },
    {
     "data": {
      "application/vnd.jupyter.widget-view+json": {
       "model_id": "619fa0ffd0f949dd84f701acfa3765d0",
       "version_major": 2,
       "version_minor": 0
      },
      "text/plain": [
       "  0%|          | 0/1 [00:00<?, ?it/s]"
      ]
     },
     "metadata": {},
     "output_type": "display_data"
    },
    {
     "data": {
      "application/vnd.jupyter.widget-view+json": {
       "model_id": "e0c51aaac8424e2ab76e2b7aa6723e8a",
       "version_major": 2,
       "version_minor": 0
      },
      "text/plain": [
       "  0%|          | 0/1 [00:00<?, ?it/s]"
      ]
     },
     "metadata": {},
     "output_type": "display_data"
    },
    {
     "data": {
      "application/vnd.jupyter.widget-view+json": {
       "model_id": "2e4587aadec549b9bd3fddf65b2f90e9",
       "version_major": 2,
       "version_minor": 0
      },
      "text/plain": [
       "  0%|          | 0/1 [00:00<?, ?it/s]"
      ]
     },
     "metadata": {},
     "output_type": "display_data"
    },
    {
     "name": "stdout",
     "output_type": "stream",
     "text": [
      "SARS2-ECH1-PVR-LAIR1-SLC1A5-UQCRFS1-CYP3A4-F2\n",
      "| Feature_group   |    Cells |   Cytoplasm |   Nuclei |\n",
      "|:----------------|---------:|------------:|---------:|\n",
      "| AreaShape       | 0.853236 |    0.718211 | 0.636208 |\n"
     ]
    },
    {
     "data": {
      "application/vnd.jupyter.widget-view+json": {
       "model_id": "672ca47d0d8a430fbbf4b5d9bf0dd8c4",
       "version_major": 2,
       "version_minor": 0
      },
      "text/plain": [
       "  0%|          | 0/1 [00:00<?, ?it/s]"
      ]
     },
     "metadata": {},
     "output_type": "display_data"
    },
    {
     "data": {
      "application/vnd.jupyter.widget-view+json": {
       "model_id": "b5bba4faa04942e7927a03c746758280",
       "version_major": 2,
       "version_minor": 0
      },
      "text/plain": [
       "  0%|          | 0/1 [00:00<?, ?it/s]"
      ]
     },
     "metadata": {},
     "output_type": "display_data"
    },
    {
     "data": {
      "application/vnd.jupyter.widget-view+json": {
       "model_id": "00286efc19af443ab4ba96ec5e87b2c1",
       "version_major": 2,
       "version_minor": 0
      },
      "text/plain": [
       "  0%|          | 0/1 [00:00<?, ?it/s]"
      ]
     },
     "metadata": {},
     "output_type": "display_data"
    },
    {
     "name": "stdout",
     "output_type": "stream",
     "text": [
      "MYT1-CHRM4-GPR176-TSC22D1-GHRHR-SCX\n",
      "| Feature_group   |    Cells |   Cytoplasm |   Nuclei |\n",
      "|:----------------|---------:|------------:|---------:|\n",
      "| AreaShape       | 0.785038 |    0.791136 | 0.635088 |\n"
     ]
    },
    {
     "data": {
      "application/vnd.jupyter.widget-view+json": {
       "model_id": "3731f44568f848d1812441c6c801886d",
       "version_major": 2,
       "version_minor": 0
      },
      "text/plain": [
       "  0%|          | 0/1 [00:00<?, ?it/s]"
      ]
     },
     "metadata": {},
     "output_type": "display_data"
    },
    {
     "data": {
      "application/vnd.jupyter.widget-view+json": {
       "model_id": "126a1dcc0acb42b389f755bcc9d044e6",
       "version_major": 2,
       "version_minor": 0
      },
      "text/plain": [
       "  0%|          | 0/1 [00:00<?, ?it/s]"
      ]
     },
     "metadata": {},
     "output_type": "display_data"
    },
    {
     "data": {
      "application/vnd.jupyter.widget-view+json": {
       "model_id": "444b1975db6f444d867acc743ee51ff7",
       "version_major": 2,
       "version_minor": 0
      },
      "text/plain": [
       "  0%|          | 0/1 [00:00<?, ?it/s]"
      ]
     },
     "metadata": {},
     "output_type": "display_data"
    },
    {
     "name": "stdout",
     "output_type": "stream",
     "text": [
      "PIK3R3-ZFP36L1-HOXC8-NRBP1-RAB40B-F10-HTR1B\n",
      "| Feature_group   |    Cells |   Cytoplasm |   Nuclei |\n",
      "|:----------------|---------:|------------:|---------:|\n",
      "| AreaShape       | 0.612081 |    0.718491 | 0.553484 |\n"
     ]
    }
   ],
   "source": [
    "for geneset in crispr_genesets:\n",
    "    compartment_feature_group_df = pd.DataFrame()\n",
    "    for compartment in compartments:\n",
    "        feature_cols = (\n",
    "            feature_name_interpretation_df.query(\"feature_group==@feature_group\")\n",
    "            .query(\"compartment==@compartment\")\n",
    "            .feature.to_list()\n",
    "        )\n",
    "\n",
    "        profiles = crispr_profiles_with_feature_names_df.query(\n",
    "            \"Metadata_Symbol in @geneset\"\n",
    "        )\n",
    "        plates_with_genes = list(np.unique(profiles.Metadata_Plate.to_list()))\n",
    "        negative_control_profiles = crispr_profiles_with_feature_names_df.query(\n",
    "            \"Metadata_Plate in @plates_with_genes\"\n",
    "        ).query(\"Metadata_pert_type=='negcon'\")\n",
    "\n",
    "        consensus_profiles = utils.consensus(profiles, \"Metadata_JCP2022\")\n",
    "        consensus_profiles = utils.consensus(consensus_profiles, \"Metadata_pert_type\")[\n",
    "            feature_cols\n",
    "        ].copy()\n",
    "        consensus_negative_control_profiles = utils.consensus(\n",
    "            negative_control_profiles, \"Metadata_pert_type\"\n",
    "        )[feature_cols].copy()\n",
    "\n",
    "        id = [\"genes\", \"negcon\"]\n",
    "\n",
    "        feature_values = np.asarray(\n",
    "            [\n",
    "                np.abs(utils.get_featuredata(consensus_profiles)).values[0],\n",
    "                np.abs(\n",
    "                    utils.get_featuredata(consensus_negative_control_profiles)\n",
    "                ).values[0],\n",
    "            ]\n",
    "        )\n",
    "\n",
    "        cosine_sim = utils.cosine_similarity(id, feature_values).values[0, 1]\n",
    "\n",
    "        df = pd.DataFrame(\n",
    "            {\n",
    "                \"Compartment\": compartment,\n",
    "                \"Feature_group\": feature_group,\n",
    "                \"Similarity\": cosine_sim,\n",
    "            },\n",
    "            index=[0],\n",
    "        )\n",
    "\n",
    "        compartment_feature_group_df = pd.concat(\n",
    "            [compartment_feature_group_df, df], ignore_index=True\n",
    "        )\n",
    "\n",
    "    compartment_feature_group_df = compartment_feature_group_df.pivot(\n",
    "        index=\"Feature_group\", columns=\"Compartment\", values=\"Similarity\"\n",
    "    )\n",
    "\n",
    "    print('-'.join(geneset))\n",
    "    print(compartment_feature_group_df.to_markdown())"
   ]
  },
  {
   "cell_type": "code",
   "execution_count": 12,
   "metadata": {},
   "outputs": [
    {
     "data": {
      "application/vnd.jupyter.widget-view+json": {
       "model_id": "992f036d98e6464dbd46b515d87e0d4c",
       "version_major": 2,
       "version_minor": 0
      },
      "text/plain": [
       "  0%|          | 0/1 [00:00<?, ?it/s]"
      ]
     },
     "metadata": {},
     "output_type": "display_data"
    },
    {
     "data": {
      "application/vnd.jupyter.widget-view+json": {
       "model_id": "5781775fcbd74e2b9c5b72cd75f4ae96",
       "version_major": 2,
       "version_minor": 0
      },
      "text/plain": [
       "  0%|          | 0/1 [00:00<?, ?it/s]"
      ]
     },
     "metadata": {},
     "output_type": "display_data"
    },
    {
     "data": {
      "application/vnd.jupyter.widget-view+json": {
       "model_id": "a128abf5949b4343ac0d8f39a9fca444",
       "version_major": 2,
       "version_minor": 0
      },
      "text/plain": [
       "  0%|          | 0/1 [00:00<?, ?it/s]"
      ]
     },
     "metadata": {},
     "output_type": "display_data"
    },
    {
     "data": {
      "application/vnd.jupyter.widget-view+json": {
       "model_id": "53af7c48520c4ca8a06d9ae690dffe5b",
       "version_major": 2,
       "version_minor": 0
      },
      "text/plain": [
       "  0%|          | 0/1 [00:00<?, ?it/s]"
      ]
     },
     "metadata": {},
     "output_type": "display_data"
    },
    {
     "data": {
      "application/vnd.jupyter.widget-view+json": {
       "model_id": "979aed49aa444102a989a77ea8f4827d",
       "version_major": 2,
       "version_minor": 0
      },
      "text/plain": [
       "  0%|          | 0/1 [00:00<?, ?it/s]"
      ]
     },
     "metadata": {},
     "output_type": "display_data"
    },
    {
     "data": {
      "application/vnd.jupyter.widget-view+json": {
       "model_id": "f3a4f23c329d4230a203a42aa4189b6f",
       "version_major": 2,
       "version_minor": 0
      },
      "text/plain": [
       "  0%|          | 0/1 [00:00<?, ?it/s]"
      ]
     },
     "metadata": {},
     "output_type": "display_data"
    },
    {
     "data": {
      "application/vnd.jupyter.widget-view+json": {
       "model_id": "dba4cd3cd53c4538b8dba0fe8a745806",
       "version_major": 2,
       "version_minor": 0
      },
      "text/plain": [
       "  0%|          | 0/1 [00:00<?, ?it/s]"
      ]
     },
     "metadata": {},
     "output_type": "display_data"
    },
    {
     "data": {
      "application/vnd.jupyter.widget-view+json": {
       "model_id": "4ebd230df430419fa28e0a02925d30ac",
       "version_major": 2,
       "version_minor": 0
      },
      "text/plain": [
       "  0%|          | 0/1 [00:00<?, ?it/s]"
      ]
     },
     "metadata": {},
     "output_type": "display_data"
    },
    {
     "data": {
      "application/vnd.jupyter.widget-view+json": {
       "model_id": "baed271c0b5b442796a86c23a1cea009",
       "version_major": 2,
       "version_minor": 0
      },
      "text/plain": [
       "  0%|          | 0/1 [00:00<?, ?it/s]"
      ]
     },
     "metadata": {},
     "output_type": "display_data"
    },
    {
     "data": {
      "application/vnd.jupyter.widget-view+json": {
       "model_id": "a612e337ce1e4f49b8f229bb99b48a98",
       "version_major": 2,
       "version_minor": 0
      },
      "text/plain": [
       "  0%|          | 0/1 [00:00<?, ?it/s]"
      ]
     },
     "metadata": {},
     "output_type": "display_data"
    },
    {
     "data": {
      "application/vnd.jupyter.widget-view+json": {
       "model_id": "ed7bfef10f794fe6b3ed972c9bab82b1",
       "version_major": 2,
       "version_minor": 0
      },
      "text/plain": [
       "  0%|          | 0/1 [00:00<?, ?it/s]"
      ]
     },
     "metadata": {},
     "output_type": "display_data"
    },
    {
     "data": {
      "application/vnd.jupyter.widget-view+json": {
       "model_id": "a447550760f6442f84361a2d4e534d80",
       "version_major": 2,
       "version_minor": 0
      },
      "text/plain": [
       "  0%|          | 0/1 [00:00<?, ?it/s]"
      ]
     },
     "metadata": {},
     "output_type": "display_data"
    },
    {
     "data": {
      "application/vnd.jupyter.widget-view+json": {
       "model_id": "e584ce10c711473c885fe8f4fa60fc11",
       "version_major": 2,
       "version_minor": 0
      },
      "text/plain": [
       "  0%|          | 0/1 [00:00<?, ?it/s]"
      ]
     },
     "metadata": {},
     "output_type": "display_data"
    },
    {
     "data": {
      "application/vnd.jupyter.widget-view+json": {
       "model_id": "60ec5292f23b462584e29ef8dde12b61",
       "version_major": 2,
       "version_minor": 0
      },
      "text/plain": [
       "  0%|          | 0/1 [00:00<?, ?it/s]"
      ]
     },
     "metadata": {},
     "output_type": "display_data"
    },
    {
     "data": {
      "application/vnd.jupyter.widget-view+json": {
       "model_id": "ae50205a2c0d490481a6cdc9e4b55984",
       "version_major": 2,
       "version_minor": 0
      },
      "text/plain": [
       "  0%|          | 0/1 [00:00<?, ?it/s]"
      ]
     },
     "metadata": {},
     "output_type": "display_data"
    },
    {
     "name": "stdout",
     "output_type": "stream",
     "text": [
      "SLC39A1-ZBTB16\n",
      "| Feature_group      |      AGP |      DNA |       ER |     Mito |      RNA |\n",
      "|:-------------------|---------:|---------:|---------:|---------:|---------:|\n",
      "| Intensity          | 0.728945 | 0.767571 | 0.771242 | 0.873135 | 0.822642 |\n",
      "| RadialDistribution | 0.711016 | 0.761158 | 0.826235 | 0.858462 | 0.794492 |\n",
      "| Texture            | 0.697588 | 0.727041 | 0.827957 | 0.800155 | 0.894299 |\n"
     ]
    },
    {
     "data": {
      "application/vnd.jupyter.widget-view+json": {
       "model_id": "d17b08da436c4f799b96630cf6cddd56",
       "version_major": 2,
       "version_minor": 0
      },
      "text/plain": [
       "  0%|          | 0/1 [00:00<?, ?it/s]"
      ]
     },
     "metadata": {},
     "output_type": "display_data"
    },
    {
     "data": {
      "application/vnd.jupyter.widget-view+json": {
       "model_id": "1c5f0a6e19244a80bb74d1a1f2fe678f",
       "version_major": 2,
       "version_minor": 0
      },
      "text/plain": [
       "  0%|          | 0/1 [00:00<?, ?it/s]"
      ]
     },
     "metadata": {},
     "output_type": "display_data"
    },
    {
     "data": {
      "application/vnd.jupyter.widget-view+json": {
       "model_id": "994c705847074ad0969c0b2d2432d5fa",
       "version_major": 2,
       "version_minor": 0
      },
      "text/plain": [
       "  0%|          | 0/1 [00:00<?, ?it/s]"
      ]
     },
     "metadata": {},
     "output_type": "display_data"
    },
    {
     "data": {
      "application/vnd.jupyter.widget-view+json": {
       "model_id": "3244238e60804506bf8110c351c899fc",
       "version_major": 2,
       "version_minor": 0
      },
      "text/plain": [
       "  0%|          | 0/1 [00:00<?, ?it/s]"
      ]
     },
     "metadata": {},
     "output_type": "display_data"
    },
    {
     "data": {
      "application/vnd.jupyter.widget-view+json": {
       "model_id": "78fb6fcd2ee9476cb89550cf8ac1ed65",
       "version_major": 2,
       "version_minor": 0
      },
      "text/plain": [
       "  0%|          | 0/1 [00:00<?, ?it/s]"
      ]
     },
     "metadata": {},
     "output_type": "display_data"
    },
    {
     "data": {
      "application/vnd.jupyter.widget-view+json": {
       "model_id": "e42e58b761ef40fdaf640168e652c899",
       "version_major": 2,
       "version_minor": 0
      },
      "text/plain": [
       "  0%|          | 0/1 [00:00<?, ?it/s]"
      ]
     },
     "metadata": {},
     "output_type": "display_data"
    },
    {
     "data": {
      "application/vnd.jupyter.widget-view+json": {
       "model_id": "5c72ccec382c48a1a45b0ebff3683faa",
       "version_major": 2,
       "version_minor": 0
      },
      "text/plain": [
       "  0%|          | 0/1 [00:00<?, ?it/s]"
      ]
     },
     "metadata": {},
     "output_type": "display_data"
    },
    {
     "data": {
      "application/vnd.jupyter.widget-view+json": {
       "model_id": "8f38e38f69594f3f9c7a2b7538753d2d",
       "version_major": 2,
       "version_minor": 0
      },
      "text/plain": [
       "  0%|          | 0/1 [00:00<?, ?it/s]"
      ]
     },
     "metadata": {},
     "output_type": "display_data"
    },
    {
     "data": {
      "application/vnd.jupyter.widget-view+json": {
       "model_id": "fdc5b552df9042f2acf801c705ba2203",
       "version_major": 2,
       "version_minor": 0
      },
      "text/plain": [
       "  0%|          | 0/1 [00:00<?, ?it/s]"
      ]
     },
     "metadata": {},
     "output_type": "display_data"
    },
    {
     "data": {
      "application/vnd.jupyter.widget-view+json": {
       "model_id": "92657b205fc9451c9e4dfaea0b66db03",
       "version_major": 2,
       "version_minor": 0
      },
      "text/plain": [
       "  0%|          | 0/1 [00:00<?, ?it/s]"
      ]
     },
     "metadata": {},
     "output_type": "display_data"
    },
    {
     "data": {
      "application/vnd.jupyter.widget-view+json": {
       "model_id": "2392e45d070a478f98c45007ca2eed6c",
       "version_major": 2,
       "version_minor": 0
      },
      "text/plain": [
       "  0%|          | 0/1 [00:00<?, ?it/s]"
      ]
     },
     "metadata": {},
     "output_type": "display_data"
    },
    {
     "data": {
      "application/vnd.jupyter.widget-view+json": {
       "model_id": "996516d9fdbf405abcab83b5b18547d7",
       "version_major": 2,
       "version_minor": 0
      },
      "text/plain": [
       "  0%|          | 0/1 [00:00<?, ?it/s]"
      ]
     },
     "metadata": {},
     "output_type": "display_data"
    },
    {
     "data": {
      "application/vnd.jupyter.widget-view+json": {
       "model_id": "9ee6acface20452a8d38dcf6106e6a0a",
       "version_major": 2,
       "version_minor": 0
      },
      "text/plain": [
       "  0%|          | 0/1 [00:00<?, ?it/s]"
      ]
     },
     "metadata": {},
     "output_type": "display_data"
    },
    {
     "data": {
      "application/vnd.jupyter.widget-view+json": {
       "model_id": "dd67828a50e34c5bae74836800080b16",
       "version_major": 2,
       "version_minor": 0
      },
      "text/plain": [
       "  0%|          | 0/1 [00:00<?, ?it/s]"
      ]
     },
     "metadata": {},
     "output_type": "display_data"
    },
    {
     "data": {
      "application/vnd.jupyter.widget-view+json": {
       "model_id": "0ea4aab3180b4de7af9668daf5e27866",
       "version_major": 2,
       "version_minor": 0
      },
      "text/plain": [
       "  0%|          | 0/1 [00:00<?, ?it/s]"
      ]
     },
     "metadata": {},
     "output_type": "display_data"
    },
    {
     "name": "stdout",
     "output_type": "stream",
     "text": [
      "FOXO3-TGFB1\n",
      "| Feature_group      |      AGP |      DNA |       ER |     Mito |      RNA |\n",
      "|:-------------------|---------:|---------:|---------:|---------:|---------:|\n",
      "| Intensity          | 0.544389 | 0.688425 | 0.681472 | 0.722339 | 0.670453 |\n",
      "| RadialDistribution | 0.735871 | 0.840089 | 0.661786 | 0.788626 | 0.665996 |\n",
      "| Texture            | 0.717921 | 0.733803 | 0.669132 | 0.81236  | 0.572922 |\n"
     ]
    },
    {
     "data": {
      "application/vnd.jupyter.widget-view+json": {
       "model_id": "9a46c92e70844b4daa6afa5c8efaa58f",
       "version_major": 2,
       "version_minor": 0
      },
      "text/plain": [
       "  0%|          | 0/1 [00:00<?, ?it/s]"
      ]
     },
     "metadata": {},
     "output_type": "display_data"
    },
    {
     "data": {
      "application/vnd.jupyter.widget-view+json": {
       "model_id": "be6701e27ba244c6bd87c8bb844a7a06",
       "version_major": 2,
       "version_minor": 0
      },
      "text/plain": [
       "  0%|          | 0/1 [00:00<?, ?it/s]"
      ]
     },
     "metadata": {},
     "output_type": "display_data"
    },
    {
     "data": {
      "application/vnd.jupyter.widget-view+json": {
       "model_id": "449688396cd04fdeba2214912a1d3d21",
       "version_major": 2,
       "version_minor": 0
      },
      "text/plain": [
       "  0%|          | 0/1 [00:00<?, ?it/s]"
      ]
     },
     "metadata": {},
     "output_type": "display_data"
    },
    {
     "data": {
      "application/vnd.jupyter.widget-view+json": {
       "model_id": "febd0ddeb9224487be5caf8db5f2d25b",
       "version_major": 2,
       "version_minor": 0
      },
      "text/plain": [
       "  0%|          | 0/1 [00:00<?, ?it/s]"
      ]
     },
     "metadata": {},
     "output_type": "display_data"
    },
    {
     "data": {
      "application/vnd.jupyter.widget-view+json": {
       "model_id": "9b4048b4fd1d47a0974a4ee5e989c040",
       "version_major": 2,
       "version_minor": 0
      },
      "text/plain": [
       "  0%|          | 0/1 [00:00<?, ?it/s]"
      ]
     },
     "metadata": {},
     "output_type": "display_data"
    },
    {
     "data": {
      "application/vnd.jupyter.widget-view+json": {
       "model_id": "647dfd9a201c438db85fa0125038c054",
       "version_major": 2,
       "version_minor": 0
      },
      "text/plain": [
       "  0%|          | 0/1 [00:00<?, ?it/s]"
      ]
     },
     "metadata": {},
     "output_type": "display_data"
    },
    {
     "data": {
      "application/vnd.jupyter.widget-view+json": {
       "model_id": "fc9db11461324dbc88e3916f073904e7",
       "version_major": 2,
       "version_minor": 0
      },
      "text/plain": [
       "  0%|          | 0/1 [00:00<?, ?it/s]"
      ]
     },
     "metadata": {},
     "output_type": "display_data"
    },
    {
     "data": {
      "application/vnd.jupyter.widget-view+json": {
       "model_id": "28e39711258348e6957e90b5de4b9bad",
       "version_major": 2,
       "version_minor": 0
      },
      "text/plain": [
       "  0%|          | 0/1 [00:00<?, ?it/s]"
      ]
     },
     "metadata": {},
     "output_type": "display_data"
    },
    {
     "data": {
      "application/vnd.jupyter.widget-view+json": {
       "model_id": "f7b431d5df4e41a09a3e8f7f560b1e04",
       "version_major": 2,
       "version_minor": 0
      },
      "text/plain": [
       "  0%|          | 0/1 [00:00<?, ?it/s]"
      ]
     },
     "metadata": {},
     "output_type": "display_data"
    },
    {
     "data": {
      "application/vnd.jupyter.widget-view+json": {
       "model_id": "e839066149194f50b037dbe2a3870814",
       "version_major": 2,
       "version_minor": 0
      },
      "text/plain": [
       "  0%|          | 0/1 [00:00<?, ?it/s]"
      ]
     },
     "metadata": {},
     "output_type": "display_data"
    },
    {
     "data": {
      "application/vnd.jupyter.widget-view+json": {
       "model_id": "10e94090463848c99955a7565d118c4d",
       "version_major": 2,
       "version_minor": 0
      },
      "text/plain": [
       "  0%|          | 0/1 [00:00<?, ?it/s]"
      ]
     },
     "metadata": {},
     "output_type": "display_data"
    },
    {
     "data": {
      "application/vnd.jupyter.widget-view+json": {
       "model_id": "3b361545782c4fe68240605e8705384d",
       "version_major": 2,
       "version_minor": 0
      },
      "text/plain": [
       "  0%|          | 0/1 [00:00<?, ?it/s]"
      ]
     },
     "metadata": {},
     "output_type": "display_data"
    },
    {
     "data": {
      "application/vnd.jupyter.widget-view+json": {
       "model_id": "a005fb5de7744d6bb66dfba1ae2b770a",
       "version_major": 2,
       "version_minor": 0
      },
      "text/plain": [
       "  0%|          | 0/1 [00:00<?, ?it/s]"
      ]
     },
     "metadata": {},
     "output_type": "display_data"
    },
    {
     "data": {
      "application/vnd.jupyter.widget-view+json": {
       "model_id": "b7f9520725ad402d9c64152cf28fc939",
       "version_major": 2,
       "version_minor": 0
      },
      "text/plain": [
       "  0%|          | 0/1 [00:00<?, ?it/s]"
      ]
     },
     "metadata": {},
     "output_type": "display_data"
    },
    {
     "data": {
      "application/vnd.jupyter.widget-view+json": {
       "model_id": "4cf4b32bb5e5401a8d233784afb7b9bd",
       "version_major": 2,
       "version_minor": 0
      },
      "text/plain": [
       "  0%|          | 0/1 [00:00<?, ?it/s]"
      ]
     },
     "metadata": {},
     "output_type": "display_data"
    },
    {
     "name": "stdout",
     "output_type": "stream",
     "text": [
      "SARS2-ECH1-PVR-LAIR1-SLC1A5-UQCRFS1-CYP3A4-F2\n",
      "| Feature_group      |      AGP |      DNA |       ER |     Mito |      RNA |\n",
      "|:-------------------|---------:|---------:|---------:|---------:|---------:|\n",
      "| Intensity          | 0.696566 | 0.729649 | 0.570136 | 0.489147 | 0.597183 |\n",
      "| RadialDistribution | 0.731647 | 0.455593 | 0.783568 | 0.614096 | 0.786175 |\n",
      "| Texture            | 0.661382 | 0.748211 | 0.728358 | 0.631888 | 0.670993 |\n"
     ]
    },
    {
     "data": {
      "application/vnd.jupyter.widget-view+json": {
       "model_id": "a27b4f92345a47c389dbdb3f7c544962",
       "version_major": 2,
       "version_minor": 0
      },
      "text/plain": [
       "  0%|          | 0/1 [00:00<?, ?it/s]"
      ]
     },
     "metadata": {},
     "output_type": "display_data"
    },
    {
     "data": {
      "application/vnd.jupyter.widget-view+json": {
       "model_id": "5452f3b74e504ad28f79a5c98f0fb923",
       "version_major": 2,
       "version_minor": 0
      },
      "text/plain": [
       "  0%|          | 0/1 [00:00<?, ?it/s]"
      ]
     },
     "metadata": {},
     "output_type": "display_data"
    },
    {
     "data": {
      "application/vnd.jupyter.widget-view+json": {
       "model_id": "19221e74546b42ca831a1631c78acb2f",
       "version_major": 2,
       "version_minor": 0
      },
      "text/plain": [
       "  0%|          | 0/1 [00:00<?, ?it/s]"
      ]
     },
     "metadata": {},
     "output_type": "display_data"
    },
    {
     "data": {
      "application/vnd.jupyter.widget-view+json": {
       "model_id": "c4e62361562c4a26b974fcf23dbd9d14",
       "version_major": 2,
       "version_minor": 0
      },
      "text/plain": [
       "  0%|          | 0/1 [00:00<?, ?it/s]"
      ]
     },
     "metadata": {},
     "output_type": "display_data"
    },
    {
     "data": {
      "application/vnd.jupyter.widget-view+json": {
       "model_id": "dd6b301296cf4dd5be89ec149abc6d72",
       "version_major": 2,
       "version_minor": 0
      },
      "text/plain": [
       "  0%|          | 0/1 [00:00<?, ?it/s]"
      ]
     },
     "metadata": {},
     "output_type": "display_data"
    },
    {
     "data": {
      "application/vnd.jupyter.widget-view+json": {
       "model_id": "9e02e1d448cc4828a0124fa19b22f6c1",
       "version_major": 2,
       "version_minor": 0
      },
      "text/plain": [
       "  0%|          | 0/1 [00:00<?, ?it/s]"
      ]
     },
     "metadata": {},
     "output_type": "display_data"
    },
    {
     "data": {
      "application/vnd.jupyter.widget-view+json": {
       "model_id": "95dbee65c0dd4a3bbc14d77f40d7b973",
       "version_major": 2,
       "version_minor": 0
      },
      "text/plain": [
       "  0%|          | 0/1 [00:00<?, ?it/s]"
      ]
     },
     "metadata": {},
     "output_type": "display_data"
    },
    {
     "data": {
      "application/vnd.jupyter.widget-view+json": {
       "model_id": "f752104e084c499aa3917e0a93777a83",
       "version_major": 2,
       "version_minor": 0
      },
      "text/plain": [
       "  0%|          | 0/1 [00:00<?, ?it/s]"
      ]
     },
     "metadata": {},
     "output_type": "display_data"
    },
    {
     "data": {
      "application/vnd.jupyter.widget-view+json": {
       "model_id": "56a41da1b505407c86d3cc71fda1ca52",
       "version_major": 2,
       "version_minor": 0
      },
      "text/plain": [
       "  0%|          | 0/1 [00:00<?, ?it/s]"
      ]
     },
     "metadata": {},
     "output_type": "display_data"
    },
    {
     "data": {
      "application/vnd.jupyter.widget-view+json": {
       "model_id": "5103a0686e314c0eb7df5472b6a0bf10",
       "version_major": 2,
       "version_minor": 0
      },
      "text/plain": [
       "  0%|          | 0/1 [00:00<?, ?it/s]"
      ]
     },
     "metadata": {},
     "output_type": "display_data"
    },
    {
     "data": {
      "application/vnd.jupyter.widget-view+json": {
       "model_id": "ca59f9703b7645b1b212ef55f7801e16",
       "version_major": 2,
       "version_minor": 0
      },
      "text/plain": [
       "  0%|          | 0/1 [00:00<?, ?it/s]"
      ]
     },
     "metadata": {},
     "output_type": "display_data"
    },
    {
     "data": {
      "application/vnd.jupyter.widget-view+json": {
       "model_id": "6853c80b3206491fa77ab7ae8243f0d6",
       "version_major": 2,
       "version_minor": 0
      },
      "text/plain": [
       "  0%|          | 0/1 [00:00<?, ?it/s]"
      ]
     },
     "metadata": {},
     "output_type": "display_data"
    },
    {
     "data": {
      "application/vnd.jupyter.widget-view+json": {
       "model_id": "0560ab91e7704887833fe7be01608132",
       "version_major": 2,
       "version_minor": 0
      },
      "text/plain": [
       "  0%|          | 0/1 [00:00<?, ?it/s]"
      ]
     },
     "metadata": {},
     "output_type": "display_data"
    },
    {
     "data": {
      "application/vnd.jupyter.widget-view+json": {
       "model_id": "53b5b022da2848e084901fe2d8bbca07",
       "version_major": 2,
       "version_minor": 0
      },
      "text/plain": [
       "  0%|          | 0/1 [00:00<?, ?it/s]"
      ]
     },
     "metadata": {},
     "output_type": "display_data"
    },
    {
     "data": {
      "application/vnd.jupyter.widget-view+json": {
       "model_id": "bbd4428aa631439eae9c7aba9986d1ef",
       "version_major": 2,
       "version_minor": 0
      },
      "text/plain": [
       "  0%|          | 0/1 [00:00<?, ?it/s]"
      ]
     },
     "metadata": {},
     "output_type": "display_data"
    },
    {
     "name": "stdout",
     "output_type": "stream",
     "text": [
      "MYT1-CHRM4-GPR176-TSC22D1-GHRHR-SCX\n",
      "| Feature_group      |      AGP |      DNA |       ER |     Mito |      RNA |\n",
      "|:-------------------|---------:|---------:|---------:|---------:|---------:|\n",
      "| Intensity          | 0.764776 | 0.797997 | 0.533669 | 0.881793 | 0.66529  |\n",
      "| RadialDistribution | 0.803998 | 0.666067 | 0.873241 | 0.551137 | 0.85356  |\n",
      "| Texture            | 0.663527 | 0.587965 | 0.653384 | 0.708722 | 0.636707 |\n"
     ]
    },
    {
     "data": {
      "application/vnd.jupyter.widget-view+json": {
       "model_id": "259d092b84924c57bb48b101b90fecc2",
       "version_major": 2,
       "version_minor": 0
      },
      "text/plain": [
       "  0%|          | 0/1 [00:00<?, ?it/s]"
      ]
     },
     "metadata": {},
     "output_type": "display_data"
    },
    {
     "data": {
      "application/vnd.jupyter.widget-view+json": {
       "model_id": "8f4898c929964fe8b54cc0c1dbd2649b",
       "version_major": 2,
       "version_minor": 0
      },
      "text/plain": [
       "  0%|          | 0/1 [00:00<?, ?it/s]"
      ]
     },
     "metadata": {},
     "output_type": "display_data"
    },
    {
     "data": {
      "application/vnd.jupyter.widget-view+json": {
       "model_id": "90987b0637884ac0ad54795d6d1e4ffc",
       "version_major": 2,
       "version_minor": 0
      },
      "text/plain": [
       "  0%|          | 0/1 [00:00<?, ?it/s]"
      ]
     },
     "metadata": {},
     "output_type": "display_data"
    },
    {
     "data": {
      "application/vnd.jupyter.widget-view+json": {
       "model_id": "34778d17b42b4f35985ea3e8a0f50cd9",
       "version_major": 2,
       "version_minor": 0
      },
      "text/plain": [
       "  0%|          | 0/1 [00:00<?, ?it/s]"
      ]
     },
     "metadata": {},
     "output_type": "display_data"
    },
    {
     "data": {
      "application/vnd.jupyter.widget-view+json": {
       "model_id": "f402e9b9e57d4dc1bcd7fff93b6c5b4f",
       "version_major": 2,
       "version_minor": 0
      },
      "text/plain": [
       "  0%|          | 0/1 [00:00<?, ?it/s]"
      ]
     },
     "metadata": {},
     "output_type": "display_data"
    },
    {
     "data": {
      "application/vnd.jupyter.widget-view+json": {
       "model_id": "2033923758f541efa16f87891b610021",
       "version_major": 2,
       "version_minor": 0
      },
      "text/plain": [
       "  0%|          | 0/1 [00:00<?, ?it/s]"
      ]
     },
     "metadata": {},
     "output_type": "display_data"
    },
    {
     "data": {
      "application/vnd.jupyter.widget-view+json": {
       "model_id": "8cecba0e9b42422ebc798fc7f23bd8ea",
       "version_major": 2,
       "version_minor": 0
      },
      "text/plain": [
       "  0%|          | 0/1 [00:00<?, ?it/s]"
      ]
     },
     "metadata": {},
     "output_type": "display_data"
    },
    {
     "data": {
      "application/vnd.jupyter.widget-view+json": {
       "model_id": "a30695d89eaa4333974680d532a5f4e4",
       "version_major": 2,
       "version_minor": 0
      },
      "text/plain": [
       "  0%|          | 0/1 [00:00<?, ?it/s]"
      ]
     },
     "metadata": {},
     "output_type": "display_data"
    },
    {
     "data": {
      "application/vnd.jupyter.widget-view+json": {
       "model_id": "df48caff087a4e96901d843de5a71b6a",
       "version_major": 2,
       "version_minor": 0
      },
      "text/plain": [
       "  0%|          | 0/1 [00:00<?, ?it/s]"
      ]
     },
     "metadata": {},
     "output_type": "display_data"
    },
    {
     "data": {
      "application/vnd.jupyter.widget-view+json": {
       "model_id": "b93bd397ae0c48cba4af54e61e8563a9",
       "version_major": 2,
       "version_minor": 0
      },
      "text/plain": [
       "  0%|          | 0/1 [00:00<?, ?it/s]"
      ]
     },
     "metadata": {},
     "output_type": "display_data"
    },
    {
     "data": {
      "application/vnd.jupyter.widget-view+json": {
       "model_id": "aa240a8f434f4284880832799bfedf81",
       "version_major": 2,
       "version_minor": 0
      },
      "text/plain": [
       "  0%|          | 0/1 [00:00<?, ?it/s]"
      ]
     },
     "metadata": {},
     "output_type": "display_data"
    },
    {
     "data": {
      "application/vnd.jupyter.widget-view+json": {
       "model_id": "5a927ad1f4bc4567937a691a98b7ab1d",
       "version_major": 2,
       "version_minor": 0
      },
      "text/plain": [
       "  0%|          | 0/1 [00:00<?, ?it/s]"
      ]
     },
     "metadata": {},
     "output_type": "display_data"
    },
    {
     "data": {
      "application/vnd.jupyter.widget-view+json": {
       "model_id": "0fe01c88abf44acd84836d656c7cae95",
       "version_major": 2,
       "version_minor": 0
      },
      "text/plain": [
       "  0%|          | 0/1 [00:00<?, ?it/s]"
      ]
     },
     "metadata": {},
     "output_type": "display_data"
    },
    {
     "data": {
      "application/vnd.jupyter.widget-view+json": {
       "model_id": "20c58710f4674316a82dfd79c0d573bd",
       "version_major": 2,
       "version_minor": 0
      },
      "text/plain": [
       "  0%|          | 0/1 [00:00<?, ?it/s]"
      ]
     },
     "metadata": {},
     "output_type": "display_data"
    },
    {
     "data": {
      "application/vnd.jupyter.widget-view+json": {
       "model_id": "3aef0abea587485690aaf4064435bc4e",
       "version_major": 2,
       "version_minor": 0
      },
      "text/plain": [
       "  0%|          | 0/1 [00:00<?, ?it/s]"
      ]
     },
     "metadata": {},
     "output_type": "display_data"
    },
    {
     "name": "stdout",
     "output_type": "stream",
     "text": [
      "PIK3R3-ZFP36L1-HOXC8-NRBP1-RAB40B-F10-HTR1B\n",
      "| Feature_group      |      AGP |      DNA |       ER |     Mito |      RNA |\n",
      "|:-------------------|---------:|---------:|---------:|---------:|---------:|\n",
      "| Intensity          | 0.822809 | 0.780033 | 0.780679 | 0.798771 | 0.854863 |\n",
      "| RadialDistribution | 0.407731 | 0.565652 | 0.711145 | 0.707939 | 0.783478 |\n",
      "| Texture            | 0.698541 | 0.540558 | 0.703713 | 0.741229 | 0.765373 |\n"
     ]
    }
   ],
   "source": [
    "for geneset in crispr_genesets:\n",
    "    channel_feature_group_df = pd.DataFrame()\n",
    "    for channel in channels:\n",
    "        for feature_group in feature_group_list:\n",
    "            feature_cols = (\n",
    "                feature_name_interpretation_df.query(\"feature_group==@feature_group\")\n",
    "                .query(\"channel==@channel\")\n",
    "                .feature.to_list()\n",
    "            )\n",
    "\n",
    "            profiles = crispr_profiles_with_feature_names_df.query(\n",
    "                \"Metadata_Symbol in @geneset\"\n",
    "            )\n",
    "            plates_with_genes = list(np.unique(profiles.Metadata_Plate.to_list()))\n",
    "            negative_control_profiles = crispr_profiles_with_feature_names_df.query(\n",
    "                \"Metadata_Plate in @plates_with_genes\"\n",
    "            ).query(\"Metadata_pert_type=='negcon'\")\n",
    "\n",
    "            consensus_profiles = utils.consensus(profiles, \"Metadata_JCP2022\")\n",
    "            consensus_profiles = utils.consensus(consensus_profiles, \"Metadata_pert_type\")[\n",
    "                feature_cols\n",
    "            ].copy()\n",
    "            consensus_negative_control_profiles = utils.consensus(\n",
    "                negative_control_profiles, \"Metadata_pert_type\"\n",
    "            )[feature_cols].copy()\n",
    "\n",
    "            id = [\"genes\", \"negcon\"]\n",
    "\n",
    "            feature_values = np.asarray(\n",
    "                [\n",
    "                    np.abs(utils.get_featuredata(consensus_profiles)).values[0],\n",
    "                    np.abs(\n",
    "                        utils.get_featuredata(consensus_negative_control_profiles)\n",
    "                    ).values[0],\n",
    "                ]\n",
    "            )\n",
    "\n",
    "            cosine_sim = utils.cosine_similarity(id, feature_values).values[0, 1]\n",
    "\n",
    "            df = pd.DataFrame(\n",
    "                {\n",
    "                    \"Channel\": channel,\n",
    "                    \"Feature_group\": feature_group,\n",
    "                    \"Similarity\": cosine_sim,\n",
    "                },\n",
    "                index=[0],\n",
    "            )\n",
    "\n",
    "            channel_feature_group_df = pd.concat(\n",
    "                [channel_feature_group_df, df], ignore_index=True\n",
    "            )\n",
    "\n",
    "    channel_feature_group_df = channel_feature_group_df.pivot(\n",
    "        index=\"Feature_group\", columns=\"Channel\", values=\"Similarity\"\n",
    "    )\n",
    "\n",
    "    print('-'.join(geneset))\n",
    "    print(channel_feature_group_df.to_markdown())"
   ]
  }
 ],
 "metadata": {
  "kernelspec": {
   "display_name": "similarity",
   "language": "python",
   "name": "python3"
  },
  "language_info": {
   "codemirror_mode": {
    "name": "ipython",
    "version": 3
   },
   "file_extension": ".py",
   "mimetype": "text/x-python",
   "name": "python",
   "nbconvert_exporter": "python",
   "pygments_lexer": "ipython3",
   "version": "3.10.6"
  }
 },
 "nbformat": 4,
 "nbformat_minor": 2
}
