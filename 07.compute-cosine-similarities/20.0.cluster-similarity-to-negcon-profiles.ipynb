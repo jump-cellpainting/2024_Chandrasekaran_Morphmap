{
 "cells": [
  {
   "cell_type": "code",
   "execution_count": 1,
   "metadata": {},
   "outputs": [],
   "source": [
    "import pandas as pd\n",
    "import utils\n",
    "import numpy as np"
   ]
  },
  {
   "cell_type": "code",
   "execution_count": 2,
   "metadata": {},
   "outputs": [],
   "source": [
    "feature_group = \"AreaShape\"\n",
    "feature_group_list = [\"Texture\", \"Intensity\", \"RadialDistribution\"]\n",
    "compartments = [\"Cells\", \"Cytoplasm\", \"Nuclei\"]\n",
    "channels = [\"DNA\", \"RNA\", \"Mito\", \"ER\", \"AGP\"]"
   ]
  },
  {
   "cell_type": "code",
   "execution_count": 3,
   "metadata": {},
   "outputs": [],
   "source": [
    "orf_genesets = [\n",
    "    [\"SLC39A1\", \"ZBTB16\"],\n",
    "    [\"SARS2\", \"ECH1\", \"DGUOK\", \"MRPS2\", \"LDHAL6B\", \"UQCRFS1\"],\n",
    "    [\"MYT1\", \"LZTS2\", \"CHRM4\", \"GPR176\", \"TSC22D1\"],\n",
    "    [\"SPDL1\", \"PAFAH1B1\", \"NDEL1\", \"NDE1\", \"HOOK2\", \"HOOK1\"],\n",
    "    [\"MYT1\", \"INSYN1\", \"RNF41\"],\n",
    "    [\"ZFP36L1\", \"PIK3R3\", \"NRBP1\", \"INSYN1\", \"HOXC8\", \"RAB40C\", \"RAB40B\"]\n",
    "]\n",
    "\n",
    "crispr_genesets = [\n",
    "    [\"SLC39A1\", \"ZBTB16\"],\n",
    "    [\"FOXO3\", \"TGFB1\"],\n",
    "    [\"SARS2\", \"ECH1\", \"PVR\", \"LAIR1\", \"SLC1A5\", \"UQCRFS1\"],\n",
    "    [\"MYT1\", \"CHRM4\", \"GPR176\", \"TSC22D1\"],\n",
    "    [\"PIK3R3\", \"ZFP36L1\", \"HOXC8\", \"NRBP1\", \"RAB40B\"]\n",
    "]"
   ]
  },
  {
   "cell_type": "code",
   "execution_count": 4,
   "metadata": {},
   "outputs": [
    {
     "data": {
      "text/html": [
       "<div>\n",
       "<style scoped>\n",
       "    .dataframe tbody tr th:only-of-type {\n",
       "        vertical-align: middle;\n",
       "    }\n",
       "\n",
       "    .dataframe tbody tr th {\n",
       "        vertical-align: top;\n",
       "    }\n",
       "\n",
       "    .dataframe thead th {\n",
       "        text-align: right;\n",
       "    }\n",
       "</style>\n",
       "<table border=\"1\" class=\"dataframe\">\n",
       "  <thead>\n",
       "    <tr style=\"text-align: right;\">\n",
       "      <th></th>\n",
       "      <th>Metadata_Source</th>\n",
       "      <th>Metadata_Plate</th>\n",
       "      <th>Metadata_Well</th>\n",
       "      <th>Metadata_JCP2022</th>\n",
       "      <th>Cells_AreaShape_Area</th>\n",
       "      <th>Cells_AreaShape_BoundingBoxArea</th>\n",
       "      <th>Cells_AreaShape_BoundingBoxMaximum_X</th>\n",
       "      <th>Cells_AreaShape_BoundingBoxMaximum_Y</th>\n",
       "      <th>Cells_AreaShape_BoundingBoxMinimum_X</th>\n",
       "      <th>Cells_AreaShape_BoundingBoxMinimum_Y</th>\n",
       "      <th>...</th>\n",
       "      <th>Nuclei_Texture_Variance_RNA_3_00_256</th>\n",
       "      <th>Nuclei_Texture_Variance_RNA_3_01_256</th>\n",
       "      <th>Nuclei_Texture_Variance_RNA_3_02_256</th>\n",
       "      <th>Nuclei_Texture_Variance_RNA_3_03_256</th>\n",
       "      <th>Nuclei_Texture_Variance_RNA_5_00_256</th>\n",
       "      <th>Nuclei_Texture_Variance_RNA_5_01_256</th>\n",
       "      <th>Nuclei_Texture_Variance_RNA_5_02_256</th>\n",
       "      <th>Nuclei_Texture_Variance_RNA_5_03_256</th>\n",
       "      <th>Metadata_Symbol</th>\n",
       "      <th>Metadata_pert_type</th>\n",
       "    </tr>\n",
       "  </thead>\n",
       "  <tbody>\n",
       "    <tr>\n",
       "      <th>0</th>\n",
       "      <td>source_4</td>\n",
       "      <td>BR00117035</td>\n",
       "      <td>A01</td>\n",
       "      <td>JCP2022_905588</td>\n",
       "      <td>1.976969</td>\n",
       "      <td>2.478890</td>\n",
       "      <td>-0.027964</td>\n",
       "      <td>-0.219052</td>\n",
       "      <td>-0.387556</td>\n",
       "      <td>-0.408526</td>\n",
       "      <td>...</td>\n",
       "      <td>-3.679746</td>\n",
       "      <td>-3.644897</td>\n",
       "      <td>-3.663296</td>\n",
       "      <td>-3.716321</td>\n",
       "      <td>-3.636625</td>\n",
       "      <td>-3.645543</td>\n",
       "      <td>-3.727525</td>\n",
       "      <td>-3.679245</td>\n",
       "      <td>CDK9</td>\n",
       "      <td>trt</td>\n",
       "    </tr>\n",
       "    <tr>\n",
       "      <th>1</th>\n",
       "      <td>source_4</td>\n",
       "      <td>BR00117036</td>\n",
       "      <td>A01</td>\n",
       "      <td>JCP2022_905588</td>\n",
       "      <td>0.609293</td>\n",
       "      <td>1.348788</td>\n",
       "      <td>-1.335341</td>\n",
       "      <td>-0.904727</td>\n",
       "      <td>-1.493824</td>\n",
       "      <td>-1.208351</td>\n",
       "      <td>...</td>\n",
       "      <td>2.437158</td>\n",
       "      <td>2.377791</td>\n",
       "      <td>2.409654</td>\n",
       "      <td>2.368619</td>\n",
       "      <td>2.390954</td>\n",
       "      <td>2.298647</td>\n",
       "      <td>2.406632</td>\n",
       "      <td>2.438143</td>\n",
       "      <td>CDK9</td>\n",
       "      <td>trt</td>\n",
       "    </tr>\n",
       "    <tr>\n",
       "      <th>2</th>\n",
       "      <td>source_4</td>\n",
       "      <td>BR00121558</td>\n",
       "      <td>A01</td>\n",
       "      <td>JCP2022_905588</td>\n",
       "      <td>-0.185963</td>\n",
       "      <td>1.084949</td>\n",
       "      <td>0.525013</td>\n",
       "      <td>-0.442693</td>\n",
       "      <td>0.366960</td>\n",
       "      <td>-0.529556</td>\n",
       "      <td>...</td>\n",
       "      <td>-0.525705</td>\n",
       "      <td>-0.495094</td>\n",
       "      <td>-0.506351</td>\n",
       "      <td>-0.553593</td>\n",
       "      <td>-0.530804</td>\n",
       "      <td>-0.562515</td>\n",
       "      <td>-0.519971</td>\n",
       "      <td>-0.535011</td>\n",
       "      <td>CDK9</td>\n",
       "      <td>trt</td>\n",
       "    </tr>\n",
       "    <tr>\n",
       "      <th>3</th>\n",
       "      <td>source_4</td>\n",
       "      <td>BR00121559</td>\n",
       "      <td>A01</td>\n",
       "      <td>JCP2022_905588</td>\n",
       "      <td>1.975644</td>\n",
       "      <td>2.602919</td>\n",
       "      <td>2.095917</td>\n",
       "      <td>-3.154853</td>\n",
       "      <td>1.848040</td>\n",
       "      <td>-3.808197</td>\n",
       "      <td>...</td>\n",
       "      <td>-0.868960</td>\n",
       "      <td>-0.879897</td>\n",
       "      <td>-0.857301</td>\n",
       "      <td>-0.868555</td>\n",
       "      <td>-0.879776</td>\n",
       "      <td>-0.898712</td>\n",
       "      <td>-0.885029</td>\n",
       "      <td>-0.847506</td>\n",
       "      <td>CDK9</td>\n",
       "      <td>trt</td>\n",
       "    </tr>\n",
       "    <tr>\n",
       "      <th>4</th>\n",
       "      <td>source_4</td>\n",
       "      <td>BR00121560</td>\n",
       "      <td>A01</td>\n",
       "      <td>JCP2022_905588</td>\n",
       "      <td>-3.077340</td>\n",
       "      <td>-2.134534</td>\n",
       "      <td>-2.492584</td>\n",
       "      <td>-0.933778</td>\n",
       "      <td>-2.360221</td>\n",
       "      <td>-0.558088</td>\n",
       "      <td>...</td>\n",
       "      <td>-0.916399</td>\n",
       "      <td>-0.913091</td>\n",
       "      <td>-0.958685</td>\n",
       "      <td>-0.896140</td>\n",
       "      <td>-0.887870</td>\n",
       "      <td>-0.906178</td>\n",
       "      <td>-0.915392</td>\n",
       "      <td>-0.889229</td>\n",
       "      <td>CDK9</td>\n",
       "      <td>trt</td>\n",
       "    </tr>\n",
       "  </tbody>\n",
       "</table>\n",
       "<p>5 rows × 3642 columns</p>\n",
       "</div>"
      ],
      "text/plain": [
       "  Metadata_Source Metadata_Plate Metadata_Well Metadata_JCP2022  \\\n",
       "0        source_4     BR00117035           A01   JCP2022_905588   \n",
       "1        source_4     BR00117036           A01   JCP2022_905588   \n",
       "2        source_4     BR00121558           A01   JCP2022_905588   \n",
       "3        source_4     BR00121559           A01   JCP2022_905588   \n",
       "4        source_4     BR00121560           A01   JCP2022_905588   \n",
       "\n",
       "   Cells_AreaShape_Area  Cells_AreaShape_BoundingBoxArea  \\\n",
       "0              1.976969                         2.478890   \n",
       "1              0.609293                         1.348788   \n",
       "2             -0.185963                         1.084949   \n",
       "3              1.975644                         2.602919   \n",
       "4             -3.077340                        -2.134534   \n",
       "\n",
       "   Cells_AreaShape_BoundingBoxMaximum_X  Cells_AreaShape_BoundingBoxMaximum_Y  \\\n",
       "0                             -0.027964                             -0.219052   \n",
       "1                             -1.335341                             -0.904727   \n",
       "2                              0.525013                             -0.442693   \n",
       "3                              2.095917                             -3.154853   \n",
       "4                             -2.492584                             -0.933778   \n",
       "\n",
       "   Cells_AreaShape_BoundingBoxMinimum_X  Cells_AreaShape_BoundingBoxMinimum_Y  \\\n",
       "0                             -0.387556                             -0.408526   \n",
       "1                             -1.493824                             -1.208351   \n",
       "2                              0.366960                             -0.529556   \n",
       "3                              1.848040                             -3.808197   \n",
       "4                             -2.360221                             -0.558088   \n",
       "\n",
       "   ...  Nuclei_Texture_Variance_RNA_3_00_256  \\\n",
       "0  ...                             -3.679746   \n",
       "1  ...                              2.437158   \n",
       "2  ...                             -0.525705   \n",
       "3  ...                             -0.868960   \n",
       "4  ...                             -0.916399   \n",
       "\n",
       "   Nuclei_Texture_Variance_RNA_3_01_256  Nuclei_Texture_Variance_RNA_3_02_256  \\\n",
       "0                             -3.644897                             -3.663296   \n",
       "1                              2.377791                              2.409654   \n",
       "2                             -0.495094                             -0.506351   \n",
       "3                             -0.879897                             -0.857301   \n",
       "4                             -0.913091                             -0.958685   \n",
       "\n",
       "   Nuclei_Texture_Variance_RNA_3_03_256  Nuclei_Texture_Variance_RNA_5_00_256  \\\n",
       "0                             -3.716321                             -3.636625   \n",
       "1                              2.368619                              2.390954   \n",
       "2                             -0.553593                             -0.530804   \n",
       "3                             -0.868555                             -0.879776   \n",
       "4                             -0.896140                             -0.887870   \n",
       "\n",
       "   Nuclei_Texture_Variance_RNA_5_01_256  Nuclei_Texture_Variance_RNA_5_02_256  \\\n",
       "0                             -3.645543                             -3.727525   \n",
       "1                              2.298647                              2.406632   \n",
       "2                             -0.562515                             -0.519971   \n",
       "3                             -0.898712                             -0.885029   \n",
       "4                             -0.906178                             -0.915392   \n",
       "\n",
       "   Nuclei_Texture_Variance_RNA_5_03_256  Metadata_Symbol  Metadata_pert_type  \n",
       "0                             -3.679245             CDK9                 trt  \n",
       "1                              2.438143             CDK9                 trt  \n",
       "2                             -0.535011             CDK9                 trt  \n",
       "3                             -0.847506             CDK9                 trt  \n",
       "4                             -0.889229             CDK9                 trt  \n",
       "\n",
       "[5 rows x 3642 columns]"
      ]
     },
     "execution_count": 4,
     "metadata": {},
     "output_type": "execute_result"
    }
   ],
   "source": [
    "orf_metadata_df = pd.read_csv(\n",
    "    \"../00.download-and-process-annotations/output/orf_metadata.tsv.gz\",\n",
    "    sep=\"\\t\",\n",
    "    usecols=[\"Metadata_JCP2022\", \"Metadata_Symbol\", \"Metadata_pert_type\"],\n",
    ")\n",
    "\n",
    "orf_profiles_with_feature_names_df = pd.read_parquet(\n",
    "    \"../profiles/profiles_wellpos_cc_var_mad_outlier_orf.parquet\"\n",
    ").merge(orf_metadata_df, on=\"Metadata_JCP2022\", how=\"inner\")\n",
    "\n",
    "orf_profiles_with_feature_names_df.head()"
   ]
  },
  {
   "cell_type": "code",
   "execution_count": 5,
   "metadata": {},
   "outputs": [
    {
     "data": {
      "text/html": [
       "<div>\n",
       "<style scoped>\n",
       "    .dataframe tbody tr th:only-of-type {\n",
       "        vertical-align: middle;\n",
       "    }\n",
       "\n",
       "    .dataframe tbody tr th {\n",
       "        vertical-align: top;\n",
       "    }\n",
       "\n",
       "    .dataframe thead th {\n",
       "        text-align: right;\n",
       "    }\n",
       "</style>\n",
       "<table border=\"1\" class=\"dataframe\">\n",
       "  <thead>\n",
       "    <tr style=\"text-align: right;\">\n",
       "      <th></th>\n",
       "      <th>Metadata_Source</th>\n",
       "      <th>Metadata_Plate</th>\n",
       "      <th>Metadata_Well</th>\n",
       "      <th>Metadata_JCP2022</th>\n",
       "      <th>Cells_AreaShape_Area</th>\n",
       "      <th>Cells_AreaShape_BoundingBoxArea</th>\n",
       "      <th>Cells_AreaShape_BoundingBoxMaximum_X</th>\n",
       "      <th>Cells_AreaShape_BoundingBoxMaximum_Y</th>\n",
       "      <th>Cells_AreaShape_BoundingBoxMinimum_X</th>\n",
       "      <th>Cells_AreaShape_BoundingBoxMinimum_Y</th>\n",
       "      <th>...</th>\n",
       "      <th>Nuclei_Texture_Variance_RNA_3_00_256</th>\n",
       "      <th>Nuclei_Texture_Variance_RNA_3_01_256</th>\n",
       "      <th>Nuclei_Texture_Variance_RNA_3_02_256</th>\n",
       "      <th>Nuclei_Texture_Variance_RNA_3_03_256</th>\n",
       "      <th>Nuclei_Texture_Variance_RNA_5_00_256</th>\n",
       "      <th>Nuclei_Texture_Variance_RNA_5_01_256</th>\n",
       "      <th>Nuclei_Texture_Variance_RNA_5_02_256</th>\n",
       "      <th>Nuclei_Texture_Variance_RNA_5_03_256</th>\n",
       "      <th>Metadata_Symbol</th>\n",
       "      <th>Metadata_pert_type</th>\n",
       "    </tr>\n",
       "  </thead>\n",
       "  <tbody>\n",
       "    <tr>\n",
       "      <th>0</th>\n",
       "      <td>source_13</td>\n",
       "      <td>CP-CC9-R1-01</td>\n",
       "      <td>A02</td>\n",
       "      <td>JCP2022_800002</td>\n",
       "      <td>2.218619</td>\n",
       "      <td>2.431635</td>\n",
       "      <td>0.501694</td>\n",
       "      <td>1.198642</td>\n",
       "      <td>0.224633</td>\n",
       "      <td>0.844867</td>\n",
       "      <td>...</td>\n",
       "      <td>-0.889403</td>\n",
       "      <td>-0.903963</td>\n",
       "      <td>-0.883159</td>\n",
       "      <td>-0.895142</td>\n",
       "      <td>-0.891171</td>\n",
       "      <td>-0.866901</td>\n",
       "      <td>-0.905884</td>\n",
       "      <td>-0.872768</td>\n",
       "      <td>non-targeting</td>\n",
       "      <td>negcon</td>\n",
       "    </tr>\n",
       "    <tr>\n",
       "      <th>1</th>\n",
       "      <td>source_13</td>\n",
       "      <td>CP-CC9-R1-01</td>\n",
       "      <td>L23</td>\n",
       "      <td>JCP2022_800002</td>\n",
       "      <td>2.185739</td>\n",
       "      <td>2.296984</td>\n",
       "      <td>-1.985822</td>\n",
       "      <td>0.262706</td>\n",
       "      <td>-2.189088</td>\n",
       "      <td>-0.015251</td>\n",
       "      <td>...</td>\n",
       "      <td>1.241002</td>\n",
       "      <td>1.224294</td>\n",
       "      <td>1.235871</td>\n",
       "      <td>1.233204</td>\n",
       "      <td>1.220388</td>\n",
       "      <td>1.225830</td>\n",
       "      <td>1.224827</td>\n",
       "      <td>1.229212</td>\n",
       "      <td>non-targeting</td>\n",
       "      <td>negcon</td>\n",
       "    </tr>\n",
       "    <tr>\n",
       "      <th>2</th>\n",
       "      <td>source_13</td>\n",
       "      <td>CP-CC9-R1-01</td>\n",
       "      <td>I23</td>\n",
       "      <td>JCP2022_800002</td>\n",
       "      <td>1.598852</td>\n",
       "      <td>1.733746</td>\n",
       "      <td>1.054698</td>\n",
       "      <td>-1.709091</td>\n",
       "      <td>0.858090</td>\n",
       "      <td>-1.865041</td>\n",
       "      <td>...</td>\n",
       "      <td>2.410808</td>\n",
       "      <td>2.404765</td>\n",
       "      <td>2.402406</td>\n",
       "      <td>2.401428</td>\n",
       "      <td>2.386266</td>\n",
       "      <td>2.419901</td>\n",
       "      <td>2.407083</td>\n",
       "      <td>2.400517</td>\n",
       "      <td>non-targeting</td>\n",
       "      <td>negcon</td>\n",
       "    </tr>\n",
       "    <tr>\n",
       "      <th>3</th>\n",
       "      <td>source_13</td>\n",
       "      <td>CP-CC9-R1-01</td>\n",
       "      <td>J02</td>\n",
       "      <td>JCP2022_800002</td>\n",
       "      <td>1.863836</td>\n",
       "      <td>2.242304</td>\n",
       "      <td>0.272562</td>\n",
       "      <td>-2.722119</td>\n",
       "      <td>0.111834</td>\n",
       "      <td>-2.954700</td>\n",
       "      <td>...</td>\n",
       "      <td>2.207796</td>\n",
       "      <td>2.195493</td>\n",
       "      <td>2.204458</td>\n",
       "      <td>2.189717</td>\n",
       "      <td>2.173862</td>\n",
       "      <td>2.194929</td>\n",
       "      <td>2.196221</td>\n",
       "      <td>2.188477</td>\n",
       "      <td>non-targeting</td>\n",
       "      <td>negcon</td>\n",
       "    </tr>\n",
       "    <tr>\n",
       "      <th>4</th>\n",
       "      <td>source_13</td>\n",
       "      <td>CP-CC9-R1-01</td>\n",
       "      <td>O23</td>\n",
       "      <td>JCP2022_800002</td>\n",
       "      <td>1.833142</td>\n",
       "      <td>1.891680</td>\n",
       "      <td>2.556046</td>\n",
       "      <td>-1.213637</td>\n",
       "      <td>2.293583</td>\n",
       "      <td>-1.423116</td>\n",
       "      <td>...</td>\n",
       "      <td>3.256251</td>\n",
       "      <td>3.251066</td>\n",
       "      <td>3.248827</td>\n",
       "      <td>3.243864</td>\n",
       "      <td>3.222744</td>\n",
       "      <td>3.243059</td>\n",
       "      <td>3.245875</td>\n",
       "      <td>3.223063</td>\n",
       "      <td>non-targeting</td>\n",
       "      <td>negcon</td>\n",
       "    </tr>\n",
       "  </tbody>\n",
       "</table>\n",
       "<p>5 rows × 3657 columns</p>\n",
       "</div>"
      ],
      "text/plain": [
       "  Metadata_Source Metadata_Plate Metadata_Well Metadata_JCP2022  \\\n",
       "0       source_13   CP-CC9-R1-01           A02   JCP2022_800002   \n",
       "1       source_13   CP-CC9-R1-01           L23   JCP2022_800002   \n",
       "2       source_13   CP-CC9-R1-01           I23   JCP2022_800002   \n",
       "3       source_13   CP-CC9-R1-01           J02   JCP2022_800002   \n",
       "4       source_13   CP-CC9-R1-01           O23   JCP2022_800002   \n",
       "\n",
       "   Cells_AreaShape_Area  Cells_AreaShape_BoundingBoxArea  \\\n",
       "0              2.218619                         2.431635   \n",
       "1              2.185739                         2.296984   \n",
       "2              1.598852                         1.733746   \n",
       "3              1.863836                         2.242304   \n",
       "4              1.833142                         1.891680   \n",
       "\n",
       "   Cells_AreaShape_BoundingBoxMaximum_X  Cells_AreaShape_BoundingBoxMaximum_Y  \\\n",
       "0                              0.501694                              1.198642   \n",
       "1                             -1.985822                              0.262706   \n",
       "2                              1.054698                             -1.709091   \n",
       "3                              0.272562                             -2.722119   \n",
       "4                              2.556046                             -1.213637   \n",
       "\n",
       "   Cells_AreaShape_BoundingBoxMinimum_X  Cells_AreaShape_BoundingBoxMinimum_Y  \\\n",
       "0                              0.224633                              0.844867   \n",
       "1                             -2.189088                             -0.015251   \n",
       "2                              0.858090                             -1.865041   \n",
       "3                              0.111834                             -2.954700   \n",
       "4                              2.293583                             -1.423116   \n",
       "\n",
       "   ...  Nuclei_Texture_Variance_RNA_3_00_256  \\\n",
       "0  ...                             -0.889403   \n",
       "1  ...                              1.241002   \n",
       "2  ...                              2.410808   \n",
       "3  ...                              2.207796   \n",
       "4  ...                              3.256251   \n",
       "\n",
       "   Nuclei_Texture_Variance_RNA_3_01_256  Nuclei_Texture_Variance_RNA_3_02_256  \\\n",
       "0                             -0.903963                             -0.883159   \n",
       "1                              1.224294                              1.235871   \n",
       "2                              2.404765                              2.402406   \n",
       "3                              2.195493                              2.204458   \n",
       "4                              3.251066                              3.248827   \n",
       "\n",
       "   Nuclei_Texture_Variance_RNA_3_03_256  Nuclei_Texture_Variance_RNA_5_00_256  \\\n",
       "0                             -0.895142                             -0.891171   \n",
       "1                              1.233204                              1.220388   \n",
       "2                              2.401428                              2.386266   \n",
       "3                              2.189717                              2.173862   \n",
       "4                              3.243864                              3.222744   \n",
       "\n",
       "   Nuclei_Texture_Variance_RNA_5_01_256  Nuclei_Texture_Variance_RNA_5_02_256  \\\n",
       "0                             -0.866901                             -0.905884   \n",
       "1                              1.225830                              1.224827   \n",
       "2                              2.419901                              2.407083   \n",
       "3                              2.194929                              2.196221   \n",
       "4                              3.243059                              3.245875   \n",
       "\n",
       "   Nuclei_Texture_Variance_RNA_5_03_256  Metadata_Symbol  Metadata_pert_type  \n",
       "0                             -0.872768    non-targeting              negcon  \n",
       "1                              1.229212    non-targeting              negcon  \n",
       "2                              2.400517    non-targeting              negcon  \n",
       "3                              2.188477    non-targeting              negcon  \n",
       "4                              3.223063    non-targeting              negcon  \n",
       "\n",
       "[5 rows x 3657 columns]"
      ]
     },
     "execution_count": 5,
     "metadata": {},
     "output_type": "execute_result"
    }
   ],
   "source": [
    "crispr_metadata_df = pd.read_csv(\n",
    "    \"../00.download-and-process-annotations/output/crispr_metadata.tsv.gz\",\n",
    "    sep=\"\\t\",\n",
    "    usecols=[\"Metadata_JCP2022\", \"Metadata_Symbol\"],\n",
    ")\n",
    "\n",
    "crispr_controls_df = pd.DataFrame(\n",
    "    {\n",
    "        \"Metadata_JCP2022\": [\"JCP2022_805264\", \"JCP2022_800001\", \"JCP2022_800002\"],\n",
    "        \"Metadata_pert_type\": [\"poscon\", \"negcon\", \"negcon\"],\n",
    "    },\n",
    "    index=[0, 1, 2],\n",
    ")\n",
    "\n",
    "crispr_profiles_with_feature_names_df = (\n",
    "    pd.read_parquet(\"../profiles/profiles_wellpos_cc_var_mad_outlier_crispr.parquet\")\n",
    "    .merge(crispr_metadata_df, on=\"Metadata_JCP2022\", how=\"inner\")\n",
    "    .merge(crispr_controls_df, on=\"Metadata_JCP2022\", how=\"left\")\n",
    "    .fillna(value={\"Metadata_pert_type\": \"trt\"})\n",
    ")\n",
    "\n",
    "crispr_profiles_with_feature_names_df.head()"
   ]
  },
  {
   "cell_type": "code",
   "execution_count": 6,
   "metadata": {},
   "outputs": [
    {
     "data": {
      "text/html": [
       "<div>\n",
       "<style scoped>\n",
       "    .dataframe tbody tr th:only-of-type {\n",
       "        vertical-align: middle;\n",
       "    }\n",
       "\n",
       "    .dataframe tbody tr th {\n",
       "        vertical-align: top;\n",
       "    }\n",
       "\n",
       "    .dataframe thead th {\n",
       "        text-align: right;\n",
       "    }\n",
       "</style>\n",
       "<table border=\"1\" class=\"dataframe\">\n",
       "  <thead>\n",
       "    <tr style=\"text-align: right;\">\n",
       "      <th></th>\n",
       "      <th>feature</th>\n",
       "      <th>compartment</th>\n",
       "      <th>feature_group</th>\n",
       "      <th>feature_type</th>\n",
       "      <th>channel</th>\n",
       "    </tr>\n",
       "  </thead>\n",
       "  <tbody>\n",
       "    <tr>\n",
       "      <th>0</th>\n",
       "      <td>Cells_AreaShape_Area</td>\n",
       "      <td>Cells</td>\n",
       "      <td>AreaShape</td>\n",
       "      <td>Area</td>\n",
       "      <td>XNONE</td>\n",
       "    </tr>\n",
       "    <tr>\n",
       "      <th>1</th>\n",
       "      <td>Cells_AreaShape_BoundingBoxArea</td>\n",
       "      <td>Cells</td>\n",
       "      <td>AreaShape</td>\n",
       "      <td>BoundingBoxArea</td>\n",
       "      <td>XNONE</td>\n",
       "    </tr>\n",
       "    <tr>\n",
       "      <th>2</th>\n",
       "      <td>Cells_AreaShape_BoundingBoxMaximum_X</td>\n",
       "      <td>Cells</td>\n",
       "      <td>AreaShape</td>\n",
       "      <td>BoundingBoxMaximum</td>\n",
       "      <td>XNONE</td>\n",
       "    </tr>\n",
       "    <tr>\n",
       "      <th>3</th>\n",
       "      <td>Cells_AreaShape_BoundingBoxMaximum_Y</td>\n",
       "      <td>Cells</td>\n",
       "      <td>AreaShape</td>\n",
       "      <td>BoundingBoxMaximum</td>\n",
       "      <td>XNONE</td>\n",
       "    </tr>\n",
       "    <tr>\n",
       "      <th>4</th>\n",
       "      <td>Cells_AreaShape_BoundingBoxMinimum_X</td>\n",
       "      <td>Cells</td>\n",
       "      <td>AreaShape</td>\n",
       "      <td>BoundingBoxMinimum</td>\n",
       "      <td>XNONE</td>\n",
       "    </tr>\n",
       "  </tbody>\n",
       "</table>\n",
       "</div>"
      ],
      "text/plain": [
       "                                feature compartment feature_group  \\\n",
       "0                  Cells_AreaShape_Area       Cells     AreaShape   \n",
       "1       Cells_AreaShape_BoundingBoxArea       Cells     AreaShape   \n",
       "2  Cells_AreaShape_BoundingBoxMaximum_X       Cells     AreaShape   \n",
       "3  Cells_AreaShape_BoundingBoxMaximum_Y       Cells     AreaShape   \n",
       "4  Cells_AreaShape_BoundingBoxMinimum_X       Cells     AreaShape   \n",
       "\n",
       "         feature_type channel  \n",
       "0                Area   XNONE  \n",
       "1     BoundingBoxArea   XNONE  \n",
       "2  BoundingBoxMaximum   XNONE  \n",
       "3  BoundingBoxMaximum   XNONE  \n",
       "4  BoundingBoxMinimum   XNONE  "
      ]
     },
     "execution_count": 6,
     "metadata": {},
     "output_type": "execute_result"
    }
   ],
   "source": [
    "feature_names = utils.get_featurecols(orf_profiles_with_feature_names_df)\n",
    "\n",
    "feature_name_interpretation_df = pd.DataFrame()\n",
    "\n",
    "for feature_name in feature_names:\n",
    "    df = pd.DataFrame(utils.parse_cp_features(feature_name), index=[0])\n",
    "    feature_name_interpretation_df = pd.concat([feature_name_interpretation_df, df], ignore_index=True)\n",
    "\n",
    "feature_name_interpretation_df.head()"
   ]
  },
  {
   "cell_type": "code",
   "execution_count": 7,
   "metadata": {},
   "outputs": [
    {
     "data": {
      "application/vnd.jupyter.widget-view+json": {
       "model_id": "cf80e328f25d471ebb28cc57d4ce9fbd",
       "version_major": 2,
       "version_minor": 0
      },
      "text/plain": [
       "  0%|          | 0/1 [00:00<?, ?it/s]"
      ]
     },
     "metadata": {},
     "output_type": "display_data"
    },
    {
     "data": {
      "application/vnd.jupyter.widget-view+json": {
       "model_id": "bae5cec75c0346fdba45ad83362b40b7",
       "version_major": 2,
       "version_minor": 0
      },
      "text/plain": [
       "  0%|          | 0/1 [00:00<?, ?it/s]"
      ]
     },
     "metadata": {},
     "output_type": "display_data"
    },
    {
     "data": {
      "application/vnd.jupyter.widget-view+json": {
       "model_id": "153597fb28c64cd9ad45118c3509e826",
       "version_major": 2,
       "version_minor": 0
      },
      "text/plain": [
       "  0%|          | 0/1 [00:00<?, ?it/s]"
      ]
     },
     "metadata": {},
     "output_type": "display_data"
    },
    {
     "name": "stdout",
     "output_type": "stream",
     "text": [
      "SLC39A1-ZBTB16\n",
      "| Feature_group   |    Cells |   Cytoplasm |   Nuclei |\n",
      "|:----------------|---------:|------------:|---------:|\n",
      "| AreaShape       | 0.756485 |    0.741052 | 0.580042 |\n"
     ]
    },
    {
     "data": {
      "application/vnd.jupyter.widget-view+json": {
       "model_id": "521a988225dc4913aa2e26341ed3d622",
       "version_major": 2,
       "version_minor": 0
      },
      "text/plain": [
       "  0%|          | 0/1 [00:00<?, ?it/s]"
      ]
     },
     "metadata": {},
     "output_type": "display_data"
    },
    {
     "data": {
      "application/vnd.jupyter.widget-view+json": {
       "model_id": "445401b284e5499d856e7d08af495749",
       "version_major": 2,
       "version_minor": 0
      },
      "text/plain": [
       "  0%|          | 0/1 [00:00<?, ?it/s]"
      ]
     },
     "metadata": {},
     "output_type": "display_data"
    },
    {
     "data": {
      "application/vnd.jupyter.widget-view+json": {
       "model_id": "c3843caf60454be6bbfbb5c84a87067d",
       "version_major": 2,
       "version_minor": 0
      },
      "text/plain": [
       "  0%|          | 0/1 [00:00<?, ?it/s]"
      ]
     },
     "metadata": {},
     "output_type": "display_data"
    },
    {
     "name": "stdout",
     "output_type": "stream",
     "text": [
      "SARS2-ECH1-DGUOK-MRPS2-LDHAL6B-UQCRFS1\n",
      "| Feature_group   |    Cells |   Cytoplasm |   Nuclei |\n",
      "|:----------------|---------:|------------:|---------:|\n",
      "| AreaShape       | 0.928316 |    0.858894 | 0.704496 |\n"
     ]
    },
    {
     "data": {
      "application/vnd.jupyter.widget-view+json": {
       "model_id": "a79b7bb1d1fa4ad7a04f6a1b970b3668",
       "version_major": 2,
       "version_minor": 0
      },
      "text/plain": [
       "  0%|          | 0/1 [00:00<?, ?it/s]"
      ]
     },
     "metadata": {},
     "output_type": "display_data"
    },
    {
     "data": {
      "application/vnd.jupyter.widget-view+json": {
       "model_id": "0a1f0957094549378927ce359ff443a9",
       "version_major": 2,
       "version_minor": 0
      },
      "text/plain": [
       "  0%|          | 0/1 [00:00<?, ?it/s]"
      ]
     },
     "metadata": {},
     "output_type": "display_data"
    },
    {
     "data": {
      "application/vnd.jupyter.widget-view+json": {
       "model_id": "27d6a0f901be47209864d9f39ed23201",
       "version_major": 2,
       "version_minor": 0
      },
      "text/plain": [
       "  0%|          | 0/1 [00:00<?, ?it/s]"
      ]
     },
     "metadata": {},
     "output_type": "display_data"
    },
    {
     "name": "stdout",
     "output_type": "stream",
     "text": [
      "MYT1-LZTS2-CHRM4-GPR176-TSC22D1\n",
      "| Feature_group   |    Cells |   Cytoplasm |   Nuclei |\n",
      "|:----------------|---------:|------------:|---------:|\n",
      "| AreaShape       | 0.781649 |    0.687088 | 0.784338 |\n"
     ]
    },
    {
     "data": {
      "application/vnd.jupyter.widget-view+json": {
       "model_id": "2ceb0a1f2b534ad088f1f3a75f9160a3",
       "version_major": 2,
       "version_minor": 0
      },
      "text/plain": [
       "  0%|          | 0/1 [00:00<?, ?it/s]"
      ]
     },
     "metadata": {},
     "output_type": "display_data"
    },
    {
     "data": {
      "application/vnd.jupyter.widget-view+json": {
       "model_id": "4e3a766624cb4beba2a820d55d9e61b1",
       "version_major": 2,
       "version_minor": 0
      },
      "text/plain": [
       "  0%|          | 0/1 [00:00<?, ?it/s]"
      ]
     },
     "metadata": {},
     "output_type": "display_data"
    },
    {
     "data": {
      "application/vnd.jupyter.widget-view+json": {
       "model_id": "2b49a62faf854601b66dba380df6474b",
       "version_major": 2,
       "version_minor": 0
      },
      "text/plain": [
       "  0%|          | 0/1 [00:00<?, ?it/s]"
      ]
     },
     "metadata": {},
     "output_type": "display_data"
    },
    {
     "name": "stdout",
     "output_type": "stream",
     "text": [
      "SPDL1-PAFAH1B1-NDEL1-NDE1-HOOK2-HOOK1\n",
      "| Feature_group   |    Cells |   Cytoplasm |   Nuclei |\n",
      "|:----------------|---------:|------------:|---------:|\n",
      "| AreaShape       | 0.446054 |    0.556465 | 0.537324 |\n"
     ]
    },
    {
     "data": {
      "application/vnd.jupyter.widget-view+json": {
       "model_id": "3152ccfdbad14a6ba1de57646e277156",
       "version_major": 2,
       "version_minor": 0
      },
      "text/plain": [
       "  0%|          | 0/1 [00:00<?, ?it/s]"
      ]
     },
     "metadata": {},
     "output_type": "display_data"
    },
    {
     "data": {
      "application/vnd.jupyter.widget-view+json": {
       "model_id": "29cec2f054224399a9cc6bb011b24391",
       "version_major": 2,
       "version_minor": 0
      },
      "text/plain": [
       "  0%|          | 0/1 [00:00<?, ?it/s]"
      ]
     },
     "metadata": {},
     "output_type": "display_data"
    },
    {
     "data": {
      "application/vnd.jupyter.widget-view+json": {
       "model_id": "44652b1728734519ae4a729b5f8d4bce",
       "version_major": 2,
       "version_minor": 0
      },
      "text/plain": [
       "  0%|          | 0/1 [00:00<?, ?it/s]"
      ]
     },
     "metadata": {},
     "output_type": "display_data"
    },
    {
     "name": "stdout",
     "output_type": "stream",
     "text": [
      "MYT1-INSYN1-RNF41\n",
      "| Feature_group   |    Cells |   Cytoplasm |   Nuclei |\n",
      "|:----------------|---------:|------------:|---------:|\n",
      "| AreaShape       | 0.622954 |    0.666372 | 0.775038 |\n"
     ]
    },
    {
     "data": {
      "application/vnd.jupyter.widget-view+json": {
       "model_id": "92907e43cb6743ed979287d60c46b792",
       "version_major": 2,
       "version_minor": 0
      },
      "text/plain": [
       "  0%|          | 0/1 [00:00<?, ?it/s]"
      ]
     },
     "metadata": {},
     "output_type": "display_data"
    },
    {
     "data": {
      "application/vnd.jupyter.widget-view+json": {
       "model_id": "947e75001c3a4754921778cdcbaf72ef",
       "version_major": 2,
       "version_minor": 0
      },
      "text/plain": [
       "  0%|          | 0/1 [00:00<?, ?it/s]"
      ]
     },
     "metadata": {},
     "output_type": "display_data"
    },
    {
     "data": {
      "application/vnd.jupyter.widget-view+json": {
       "model_id": "c9f888dbf2324ea5833558c9b55a5703",
       "version_major": 2,
       "version_minor": 0
      },
      "text/plain": [
       "  0%|          | 0/1 [00:00<?, ?it/s]"
      ]
     },
     "metadata": {},
     "output_type": "display_data"
    },
    {
     "name": "stdout",
     "output_type": "stream",
     "text": [
      "ZFP36L1-PIK3R3-NRBP1-INSYN1-HOXC8-RAB40C-RAB40B\n",
      "| Feature_group   |    Cells |   Cytoplasm |   Nuclei |\n",
      "|:----------------|---------:|------------:|---------:|\n",
      "| AreaShape       | 0.558699 |    0.678012 |  0.62273 |\n"
     ]
    }
   ],
   "source": [
    "for geneset in orf_genesets:\n",
    "    compartment_feature_group_df = pd.DataFrame()\n",
    "    for compartment in compartments:\n",
    "        feature_cols = (\n",
    "            feature_name_interpretation_df.query(\"feature_group==@feature_group\")\n",
    "            .query(\"compartment==@compartment\")\n",
    "            .feature.to_list()\n",
    "        )\n",
    "\n",
    "        profiles = orf_profiles_with_feature_names_df.query(\n",
    "            \"Metadata_Symbol in @geneset\"\n",
    "        )\n",
    "        plates_with_genes = list(np.unique(profiles.Metadata_Plate.to_list()))\n",
    "        negative_control_profiles = orf_profiles_with_feature_names_df.query(\n",
    "            \"Metadata_Plate in @plates_with_genes\"\n",
    "        ).query(\"Metadata_pert_type=='negcon'\")\n",
    "\n",
    "        consensus_profiles = utils.consensus(profiles, \"Metadata_JCP2022\")\n",
    "        consensus_profiles = utils.consensus(consensus_profiles, \"Metadata_pert_type\")[\n",
    "            feature_cols\n",
    "        ].copy()\n",
    "        consensus_negative_control_profiles = utils.consensus(\n",
    "            negative_control_profiles, \"Metadata_pert_type\"\n",
    "        )[feature_cols].copy()\n",
    "\n",
    "        id = [\"genes\", \"negcon\"]\n",
    "\n",
    "        feature_values = np.asarray(\n",
    "            [\n",
    "                np.abs(utils.get_featuredata(consensus_profiles)).values[0],\n",
    "                np.abs(\n",
    "                    utils.get_featuredata(consensus_negative_control_profiles)\n",
    "                ).values[0],\n",
    "            ]\n",
    "        )\n",
    "\n",
    "        cosine_sim = utils.cosine_similarity(id, feature_values).values[0, 1]\n",
    "\n",
    "        df = pd.DataFrame(\n",
    "            {\n",
    "                \"Compartment\": compartment,\n",
    "                \"Feature_group\": feature_group,\n",
    "                \"Similarity\": cosine_sim,\n",
    "            },\n",
    "            index=[0],\n",
    "        )\n",
    "\n",
    "        compartment_feature_group_df = pd.concat(\n",
    "            [compartment_feature_group_df, df], ignore_index=True\n",
    "        )\n",
    "\n",
    "    compartment_feature_group_df = compartment_feature_group_df.pivot(\n",
    "        index=\"Feature_group\", columns=\"Compartment\", values=\"Similarity\"\n",
    "    )\n",
    "\n",
    "    print('-'.join(geneset))\n",
    "    print(compartment_feature_group_df.to_markdown())"
   ]
  },
  {
   "cell_type": "code",
   "execution_count": 8,
   "metadata": {},
   "outputs": [
    {
     "data": {
      "application/vnd.jupyter.widget-view+json": {
       "model_id": "b68f17fcc447435cad25bc77d2595895",
       "version_major": 2,
       "version_minor": 0
      },
      "text/plain": [
       "  0%|          | 0/1 [00:00<?, ?it/s]"
      ]
     },
     "metadata": {},
     "output_type": "display_data"
    },
    {
     "data": {
      "application/vnd.jupyter.widget-view+json": {
       "model_id": "e3cdb3dea3a64648ad86a07a8ec3be3b",
       "version_major": 2,
       "version_minor": 0
      },
      "text/plain": [
       "  0%|          | 0/1 [00:00<?, ?it/s]"
      ]
     },
     "metadata": {},
     "output_type": "display_data"
    },
    {
     "data": {
      "application/vnd.jupyter.widget-view+json": {
       "model_id": "f875aa35d9e0428c9d0c23255d662696",
       "version_major": 2,
       "version_minor": 0
      },
      "text/plain": [
       "  0%|          | 0/1 [00:00<?, ?it/s]"
      ]
     },
     "metadata": {},
     "output_type": "display_data"
    },
    {
     "data": {
      "application/vnd.jupyter.widget-view+json": {
       "model_id": "7c8e892880e1472c9104c8395e3307c8",
       "version_major": 2,
       "version_minor": 0
      },
      "text/plain": [
       "  0%|          | 0/1 [00:00<?, ?it/s]"
      ]
     },
     "metadata": {},
     "output_type": "display_data"
    },
    {
     "data": {
      "application/vnd.jupyter.widget-view+json": {
       "model_id": "2508ec522104484d97c49ded6d3cc1d3",
       "version_major": 2,
       "version_minor": 0
      },
      "text/plain": [
       "  0%|          | 0/1 [00:00<?, ?it/s]"
      ]
     },
     "metadata": {},
     "output_type": "display_data"
    },
    {
     "data": {
      "application/vnd.jupyter.widget-view+json": {
       "model_id": "6408d5c217bf4d1484905a55b8af0317",
       "version_major": 2,
       "version_minor": 0
      },
      "text/plain": [
       "  0%|          | 0/1 [00:00<?, ?it/s]"
      ]
     },
     "metadata": {},
     "output_type": "display_data"
    },
    {
     "data": {
      "application/vnd.jupyter.widget-view+json": {
       "model_id": "7eb15224f5a74668a195ca7d4793a634",
       "version_major": 2,
       "version_minor": 0
      },
      "text/plain": [
       "  0%|          | 0/1 [00:00<?, ?it/s]"
      ]
     },
     "metadata": {},
     "output_type": "display_data"
    },
    {
     "data": {
      "application/vnd.jupyter.widget-view+json": {
       "model_id": "84a430a457bf4ff79e0a6d69eb958313",
       "version_major": 2,
       "version_minor": 0
      },
      "text/plain": [
       "  0%|          | 0/1 [00:00<?, ?it/s]"
      ]
     },
     "metadata": {},
     "output_type": "display_data"
    },
    {
     "data": {
      "application/vnd.jupyter.widget-view+json": {
       "model_id": "fc8a8313c855463594339c6d03cdf4ea",
       "version_major": 2,
       "version_minor": 0
      },
      "text/plain": [
       "  0%|          | 0/1 [00:00<?, ?it/s]"
      ]
     },
     "metadata": {},
     "output_type": "display_data"
    },
    {
     "data": {
      "application/vnd.jupyter.widget-view+json": {
       "model_id": "bdc9abe682224144bb24e12fa3c1f1ef",
       "version_major": 2,
       "version_minor": 0
      },
      "text/plain": [
       "  0%|          | 0/1 [00:00<?, ?it/s]"
      ]
     },
     "metadata": {},
     "output_type": "display_data"
    },
    {
     "data": {
      "application/vnd.jupyter.widget-view+json": {
       "model_id": "61356c0a28f0493db8ec030bf6fa14df",
       "version_major": 2,
       "version_minor": 0
      },
      "text/plain": [
       "  0%|          | 0/1 [00:00<?, ?it/s]"
      ]
     },
     "metadata": {},
     "output_type": "display_data"
    },
    {
     "data": {
      "application/vnd.jupyter.widget-view+json": {
       "model_id": "ef3a957bf0864665a7024555d7659d96",
       "version_major": 2,
       "version_minor": 0
      },
      "text/plain": [
       "  0%|          | 0/1 [00:00<?, ?it/s]"
      ]
     },
     "metadata": {},
     "output_type": "display_data"
    },
    {
     "data": {
      "application/vnd.jupyter.widget-view+json": {
       "model_id": "5b27142b8f2346b38cd384b91868f7be",
       "version_major": 2,
       "version_minor": 0
      },
      "text/plain": [
       "  0%|          | 0/1 [00:00<?, ?it/s]"
      ]
     },
     "metadata": {},
     "output_type": "display_data"
    },
    {
     "data": {
      "application/vnd.jupyter.widget-view+json": {
       "model_id": "fdd350ad085e4927a7af361b8a905d04",
       "version_major": 2,
       "version_minor": 0
      },
      "text/plain": [
       "  0%|          | 0/1 [00:00<?, ?it/s]"
      ]
     },
     "metadata": {},
     "output_type": "display_data"
    },
    {
     "data": {
      "application/vnd.jupyter.widget-view+json": {
       "model_id": "a7307a6baec94e949959b05843421942",
       "version_major": 2,
       "version_minor": 0
      },
      "text/plain": [
       "  0%|          | 0/1 [00:00<?, ?it/s]"
      ]
     },
     "metadata": {},
     "output_type": "display_data"
    },
    {
     "name": "stdout",
     "output_type": "stream",
     "text": [
      "SLC39A1-ZBTB16\n",
      "| Feature_group      |      AGP |      DNA |       ER |     Mito |      RNA |\n",
      "|:-------------------|---------:|---------:|---------:|---------:|---------:|\n",
      "| Intensity          | 0.672086 | 0.789707 | 0.770823 | 0.965031 | 0.797988 |\n",
      "| RadialDistribution | 0.663653 | 0.419407 | 0.63083  | 0.738365 | 0.856948 |\n",
      "| Texture            | 0.741627 | 0.622982 | 0.569258 | 0.683218 | 0.649612 |\n"
     ]
    },
    {
     "data": {
      "application/vnd.jupyter.widget-view+json": {
       "model_id": "367c6b6aab03407aba5afbed8ed33b40",
       "version_major": 2,
       "version_minor": 0
      },
      "text/plain": [
       "  0%|          | 0/1 [00:00<?, ?it/s]"
      ]
     },
     "metadata": {},
     "output_type": "display_data"
    },
    {
     "data": {
      "application/vnd.jupyter.widget-view+json": {
       "model_id": "a9cc182f7c404b919c699587f71043f4",
       "version_major": 2,
       "version_minor": 0
      },
      "text/plain": [
       "  0%|          | 0/1 [00:00<?, ?it/s]"
      ]
     },
     "metadata": {},
     "output_type": "display_data"
    },
    {
     "data": {
      "application/vnd.jupyter.widget-view+json": {
       "model_id": "102a5649c8074e27837e7426405d7d34",
       "version_major": 2,
       "version_minor": 0
      },
      "text/plain": [
       "  0%|          | 0/1 [00:00<?, ?it/s]"
      ]
     },
     "metadata": {},
     "output_type": "display_data"
    },
    {
     "data": {
      "application/vnd.jupyter.widget-view+json": {
       "model_id": "67f9ba76b09f4979a23bbc3c6f307973",
       "version_major": 2,
       "version_minor": 0
      },
      "text/plain": [
       "  0%|          | 0/1 [00:00<?, ?it/s]"
      ]
     },
     "metadata": {},
     "output_type": "display_data"
    },
    {
     "data": {
      "application/vnd.jupyter.widget-view+json": {
       "model_id": "eaa3fc5ae0534e9f9ecc56942d5be3db",
       "version_major": 2,
       "version_minor": 0
      },
      "text/plain": [
       "  0%|          | 0/1 [00:00<?, ?it/s]"
      ]
     },
     "metadata": {},
     "output_type": "display_data"
    },
    {
     "data": {
      "application/vnd.jupyter.widget-view+json": {
       "model_id": "3e940a1b9f4b47ad9b464149e7a1f01c",
       "version_major": 2,
       "version_minor": 0
      },
      "text/plain": [
       "  0%|          | 0/1 [00:00<?, ?it/s]"
      ]
     },
     "metadata": {},
     "output_type": "display_data"
    },
    {
     "data": {
      "application/vnd.jupyter.widget-view+json": {
       "model_id": "911220a4fe8244b2a4ba43b825253cbd",
       "version_major": 2,
       "version_minor": 0
      },
      "text/plain": [
       "  0%|          | 0/1 [00:00<?, ?it/s]"
      ]
     },
     "metadata": {},
     "output_type": "display_data"
    },
    {
     "data": {
      "application/vnd.jupyter.widget-view+json": {
       "model_id": "e05e756e57d0432c954fb9ae5d7e79e4",
       "version_major": 2,
       "version_minor": 0
      },
      "text/plain": [
       "  0%|          | 0/1 [00:00<?, ?it/s]"
      ]
     },
     "metadata": {},
     "output_type": "display_data"
    },
    {
     "data": {
      "application/vnd.jupyter.widget-view+json": {
       "model_id": "6c18d1bfc9f04aa39a85022aae1daee2",
       "version_major": 2,
       "version_minor": 0
      },
      "text/plain": [
       "  0%|          | 0/1 [00:00<?, ?it/s]"
      ]
     },
     "metadata": {},
     "output_type": "display_data"
    },
    {
     "data": {
      "application/vnd.jupyter.widget-view+json": {
       "model_id": "fa62fe40ada748e79f4ca35e82dcb93b",
       "version_major": 2,
       "version_minor": 0
      },
      "text/plain": [
       "  0%|          | 0/1 [00:00<?, ?it/s]"
      ]
     },
     "metadata": {},
     "output_type": "display_data"
    },
    {
     "data": {
      "application/vnd.jupyter.widget-view+json": {
       "model_id": "2fbcbf8fc28c4150a82871d24376b73a",
       "version_major": 2,
       "version_minor": 0
      },
      "text/plain": [
       "  0%|          | 0/1 [00:00<?, ?it/s]"
      ]
     },
     "metadata": {},
     "output_type": "display_data"
    },
    {
     "data": {
      "application/vnd.jupyter.widget-view+json": {
       "model_id": "4e1b712611564a168790b046be7d542c",
       "version_major": 2,
       "version_minor": 0
      },
      "text/plain": [
       "  0%|          | 0/1 [00:00<?, ?it/s]"
      ]
     },
     "metadata": {},
     "output_type": "display_data"
    },
    {
     "data": {
      "application/vnd.jupyter.widget-view+json": {
       "model_id": "39aaafaa8a2b4edeb1638a0eb1c81586",
       "version_major": 2,
       "version_minor": 0
      },
      "text/plain": [
       "  0%|          | 0/1 [00:00<?, ?it/s]"
      ]
     },
     "metadata": {},
     "output_type": "display_data"
    },
    {
     "data": {
      "application/vnd.jupyter.widget-view+json": {
       "model_id": "2d3e7e1aaa2f4028b69ee16dd29a4bf5",
       "version_major": 2,
       "version_minor": 0
      },
      "text/plain": [
       "  0%|          | 0/1 [00:00<?, ?it/s]"
      ]
     },
     "metadata": {},
     "output_type": "display_data"
    },
    {
     "data": {
      "application/vnd.jupyter.widget-view+json": {
       "model_id": "a4f1b7ce50864d74a61a7c5fb6f46a10",
       "version_major": 2,
       "version_minor": 0
      },
      "text/plain": [
       "  0%|          | 0/1 [00:00<?, ?it/s]"
      ]
     },
     "metadata": {},
     "output_type": "display_data"
    },
    {
     "name": "stdout",
     "output_type": "stream",
     "text": [
      "SARS2-ECH1-DGUOK-MRPS2-LDHAL6B-UQCRFS1\n",
      "| Feature_group      |      AGP |      DNA |       ER |     Mito |      RNA |\n",
      "|:-------------------|---------:|---------:|---------:|---------:|---------:|\n",
      "| Intensity          | 0.541427 | 0.776904 | 0.518479 | 0.762869 | 0.553949 |\n",
      "| RadialDistribution | 0.908801 | 0.638516 | 0.649865 | 0.775103 | 0.638098 |\n",
      "| Texture            | 0.628305 | 0.932647 | 0.770487 | 0.909473 | 0.736923 |\n"
     ]
    },
    {
     "data": {
      "application/vnd.jupyter.widget-view+json": {
       "model_id": "155190399f66453199e07e4c9cfc1427",
       "version_major": 2,
       "version_minor": 0
      },
      "text/plain": [
       "  0%|          | 0/1 [00:00<?, ?it/s]"
      ]
     },
     "metadata": {},
     "output_type": "display_data"
    },
    {
     "data": {
      "application/vnd.jupyter.widget-view+json": {
       "model_id": "14482927d2924debbbdd743478bba8d7",
       "version_major": 2,
       "version_minor": 0
      },
      "text/plain": [
       "  0%|          | 0/1 [00:00<?, ?it/s]"
      ]
     },
     "metadata": {},
     "output_type": "display_data"
    },
    {
     "data": {
      "application/vnd.jupyter.widget-view+json": {
       "model_id": "1e3cf5f7dc4e47b7a64649d88dc10ed0",
       "version_major": 2,
       "version_minor": 0
      },
      "text/plain": [
       "  0%|          | 0/1 [00:00<?, ?it/s]"
      ]
     },
     "metadata": {},
     "output_type": "display_data"
    },
    {
     "data": {
      "application/vnd.jupyter.widget-view+json": {
       "model_id": "aa5ad24eaa1c4ef9829346753a872def",
       "version_major": 2,
       "version_minor": 0
      },
      "text/plain": [
       "  0%|          | 0/1 [00:00<?, ?it/s]"
      ]
     },
     "metadata": {},
     "output_type": "display_data"
    },
    {
     "data": {
      "application/vnd.jupyter.widget-view+json": {
       "model_id": "05331b79e53e406eae170a227f14e9a5",
       "version_major": 2,
       "version_minor": 0
      },
      "text/plain": [
       "  0%|          | 0/1 [00:00<?, ?it/s]"
      ]
     },
     "metadata": {},
     "output_type": "display_data"
    },
    {
     "data": {
      "application/vnd.jupyter.widget-view+json": {
       "model_id": "39870206fa93440e9dfd70252e44e37d",
       "version_major": 2,
       "version_minor": 0
      },
      "text/plain": [
       "  0%|          | 0/1 [00:00<?, ?it/s]"
      ]
     },
     "metadata": {},
     "output_type": "display_data"
    },
    {
     "data": {
      "application/vnd.jupyter.widget-view+json": {
       "model_id": "cb555b5f4eb34ae19c16dc44663bcfec",
       "version_major": 2,
       "version_minor": 0
      },
      "text/plain": [
       "  0%|          | 0/1 [00:00<?, ?it/s]"
      ]
     },
     "metadata": {},
     "output_type": "display_data"
    },
    {
     "data": {
      "application/vnd.jupyter.widget-view+json": {
       "model_id": "2fca671ffa03412fbf236dd007381bad",
       "version_major": 2,
       "version_minor": 0
      },
      "text/plain": [
       "  0%|          | 0/1 [00:00<?, ?it/s]"
      ]
     },
     "metadata": {},
     "output_type": "display_data"
    },
    {
     "data": {
      "application/vnd.jupyter.widget-view+json": {
       "model_id": "ab45d4d2534f4169a83745eeba5f4a21",
       "version_major": 2,
       "version_minor": 0
      },
      "text/plain": [
       "  0%|          | 0/1 [00:00<?, ?it/s]"
      ]
     },
     "metadata": {},
     "output_type": "display_data"
    },
    {
     "data": {
      "application/vnd.jupyter.widget-view+json": {
       "model_id": "784eafcd4aa347beb092bf9bb9508f9b",
       "version_major": 2,
       "version_minor": 0
      },
      "text/plain": [
       "  0%|          | 0/1 [00:00<?, ?it/s]"
      ]
     },
     "metadata": {},
     "output_type": "display_data"
    },
    {
     "data": {
      "application/vnd.jupyter.widget-view+json": {
       "model_id": "ec7ddb5224484f71b75e41f162f64773",
       "version_major": 2,
       "version_minor": 0
      },
      "text/plain": [
       "  0%|          | 0/1 [00:00<?, ?it/s]"
      ]
     },
     "metadata": {},
     "output_type": "display_data"
    },
    {
     "data": {
      "application/vnd.jupyter.widget-view+json": {
       "model_id": "1a144fbf62954995bb47b0adf4475cea",
       "version_major": 2,
       "version_minor": 0
      },
      "text/plain": [
       "  0%|          | 0/1 [00:00<?, ?it/s]"
      ]
     },
     "metadata": {},
     "output_type": "display_data"
    },
    {
     "data": {
      "application/vnd.jupyter.widget-view+json": {
       "model_id": "0f3ee6cac796461892890c0d0ce70903",
       "version_major": 2,
       "version_minor": 0
      },
      "text/plain": [
       "  0%|          | 0/1 [00:00<?, ?it/s]"
      ]
     },
     "metadata": {},
     "output_type": "display_data"
    },
    {
     "data": {
      "application/vnd.jupyter.widget-view+json": {
       "model_id": "003a8092a79f4c52bbf066199b91bade",
       "version_major": 2,
       "version_minor": 0
      },
      "text/plain": [
       "  0%|          | 0/1 [00:00<?, ?it/s]"
      ]
     },
     "metadata": {},
     "output_type": "display_data"
    },
    {
     "data": {
      "application/vnd.jupyter.widget-view+json": {
       "model_id": "124a5fcb29094096ac88b11ed90b2458",
       "version_major": 2,
       "version_minor": 0
      },
      "text/plain": [
       "  0%|          | 0/1 [00:00<?, ?it/s]"
      ]
     },
     "metadata": {},
     "output_type": "display_data"
    },
    {
     "name": "stdout",
     "output_type": "stream",
     "text": [
      "MYT1-LZTS2-CHRM4-GPR176-TSC22D1\n",
      "| Feature_group      |      AGP |      DNA |       ER |     Mito |      RNA |\n",
      "|:-------------------|---------:|---------:|---------:|---------:|---------:|\n",
      "| Intensity          | 0.487197 | 0.52347  | 0.644771 | 0.458181 | 0.681677 |\n",
      "| RadialDistribution | 0.907964 | 0.730055 | 0.5467   | 0.641424 | 0.554975 |\n",
      "| Texture            | 0.551001 | 0.761822 | 0.559646 | 0.687991 | 0.764027 |\n"
     ]
    },
    {
     "data": {
      "application/vnd.jupyter.widget-view+json": {
       "model_id": "7328fbbeaef344f7b3ea07ea1aa84386",
       "version_major": 2,
       "version_minor": 0
      },
      "text/plain": [
       "  0%|          | 0/1 [00:00<?, ?it/s]"
      ]
     },
     "metadata": {},
     "output_type": "display_data"
    },
    {
     "data": {
      "application/vnd.jupyter.widget-view+json": {
       "model_id": "cfb5a692b4654110bdcd6538beb894d4",
       "version_major": 2,
       "version_minor": 0
      },
      "text/plain": [
       "  0%|          | 0/1 [00:00<?, ?it/s]"
      ]
     },
     "metadata": {},
     "output_type": "display_data"
    },
    {
     "data": {
      "application/vnd.jupyter.widget-view+json": {
       "model_id": "b2a8daae7e0e41e1bb2f8fb0b27cd00c",
       "version_major": 2,
       "version_minor": 0
      },
      "text/plain": [
       "  0%|          | 0/1 [00:00<?, ?it/s]"
      ]
     },
     "metadata": {},
     "output_type": "display_data"
    },
    {
     "data": {
      "application/vnd.jupyter.widget-view+json": {
       "model_id": "88cd6504e6e0443f81355cd1092de13a",
       "version_major": 2,
       "version_minor": 0
      },
      "text/plain": [
       "  0%|          | 0/1 [00:00<?, ?it/s]"
      ]
     },
     "metadata": {},
     "output_type": "display_data"
    },
    {
     "data": {
      "application/vnd.jupyter.widget-view+json": {
       "model_id": "e671ab07897c4bc3aef8ac9573a00ff9",
       "version_major": 2,
       "version_minor": 0
      },
      "text/plain": [
       "  0%|          | 0/1 [00:00<?, ?it/s]"
      ]
     },
     "metadata": {},
     "output_type": "display_data"
    },
    {
     "data": {
      "application/vnd.jupyter.widget-view+json": {
       "model_id": "15cdb087e68d4c3dbc810f1beb356dc9",
       "version_major": 2,
       "version_minor": 0
      },
      "text/plain": [
       "  0%|          | 0/1 [00:00<?, ?it/s]"
      ]
     },
     "metadata": {},
     "output_type": "display_data"
    },
    {
     "data": {
      "application/vnd.jupyter.widget-view+json": {
       "model_id": "8862a3fbd0b3461ba8bf85a962af71bf",
       "version_major": 2,
       "version_minor": 0
      },
      "text/plain": [
       "  0%|          | 0/1 [00:00<?, ?it/s]"
      ]
     },
     "metadata": {},
     "output_type": "display_data"
    },
    {
     "data": {
      "application/vnd.jupyter.widget-view+json": {
       "model_id": "dbcd800a61c84e8ea3434c72ff2161ab",
       "version_major": 2,
       "version_minor": 0
      },
      "text/plain": [
       "  0%|          | 0/1 [00:00<?, ?it/s]"
      ]
     },
     "metadata": {},
     "output_type": "display_data"
    },
    {
     "data": {
      "application/vnd.jupyter.widget-view+json": {
       "model_id": "82a6de4fad254e8482a00e9b3faa7aff",
       "version_major": 2,
       "version_minor": 0
      },
      "text/plain": [
       "  0%|          | 0/1 [00:00<?, ?it/s]"
      ]
     },
     "metadata": {},
     "output_type": "display_data"
    },
    {
     "data": {
      "application/vnd.jupyter.widget-view+json": {
       "model_id": "08b2ca40bf1548e2861bf4f796e35748",
       "version_major": 2,
       "version_minor": 0
      },
      "text/plain": [
       "  0%|          | 0/1 [00:00<?, ?it/s]"
      ]
     },
     "metadata": {},
     "output_type": "display_data"
    },
    {
     "data": {
      "application/vnd.jupyter.widget-view+json": {
       "model_id": "bbb881ff6fe14d74a3f8201d78338a7f",
       "version_major": 2,
       "version_minor": 0
      },
      "text/plain": [
       "  0%|          | 0/1 [00:00<?, ?it/s]"
      ]
     },
     "metadata": {},
     "output_type": "display_data"
    },
    {
     "data": {
      "application/vnd.jupyter.widget-view+json": {
       "model_id": "4d85d862ca4140e096bd48c0cb6cbc04",
       "version_major": 2,
       "version_minor": 0
      },
      "text/plain": [
       "  0%|          | 0/1 [00:00<?, ?it/s]"
      ]
     },
     "metadata": {},
     "output_type": "display_data"
    },
    {
     "data": {
      "application/vnd.jupyter.widget-view+json": {
       "model_id": "3850caf6d9bb4dc1b42d27f8ec85ba65",
       "version_major": 2,
       "version_minor": 0
      },
      "text/plain": [
       "  0%|          | 0/1 [00:00<?, ?it/s]"
      ]
     },
     "metadata": {},
     "output_type": "display_data"
    },
    {
     "data": {
      "application/vnd.jupyter.widget-view+json": {
       "model_id": "17bc25654a3d4dff95cd3765319688a1",
       "version_major": 2,
       "version_minor": 0
      },
      "text/plain": [
       "  0%|          | 0/1 [00:00<?, ?it/s]"
      ]
     },
     "metadata": {},
     "output_type": "display_data"
    },
    {
     "data": {
      "application/vnd.jupyter.widget-view+json": {
       "model_id": "03d32898582645b6b8aa7c9d2f01aa86",
       "version_major": 2,
       "version_minor": 0
      },
      "text/plain": [
       "  0%|          | 0/1 [00:00<?, ?it/s]"
      ]
     },
     "metadata": {},
     "output_type": "display_data"
    },
    {
     "name": "stdout",
     "output_type": "stream",
     "text": [
      "SPDL1-PAFAH1B1-NDEL1-NDE1-HOOK2-HOOK1\n",
      "| Feature_group      |      AGP |      DNA |       ER |     Mito |      RNA |\n",
      "|:-------------------|---------:|---------:|---------:|---------:|---------:|\n",
      "| Intensity          | 0.530789 | 0.712743 | 0.815348 | 0.713063 | 0.71227  |\n",
      "| RadialDistribution | 0.378488 | 0.467896 | 0.707991 | 0.650461 | 0.43878  |\n",
      "| Texture            | 0.601008 | 0.890659 | 0.765041 | 0.732915 | 0.751516 |\n"
     ]
    },
    {
     "data": {
      "application/vnd.jupyter.widget-view+json": {
       "model_id": "ff052e71757947b8b516f1e1351db47e",
       "version_major": 2,
       "version_minor": 0
      },
      "text/plain": [
       "  0%|          | 0/1 [00:00<?, ?it/s]"
      ]
     },
     "metadata": {},
     "output_type": "display_data"
    },
    {
     "data": {
      "application/vnd.jupyter.widget-view+json": {
       "model_id": "7ddc73dff602487083da4761e159a6cc",
       "version_major": 2,
       "version_minor": 0
      },
      "text/plain": [
       "  0%|          | 0/1 [00:00<?, ?it/s]"
      ]
     },
     "metadata": {},
     "output_type": "display_data"
    },
    {
     "data": {
      "application/vnd.jupyter.widget-view+json": {
       "model_id": "9188557e3657437e988db081357907d3",
       "version_major": 2,
       "version_minor": 0
      },
      "text/plain": [
       "  0%|          | 0/1 [00:00<?, ?it/s]"
      ]
     },
     "metadata": {},
     "output_type": "display_data"
    },
    {
     "data": {
      "application/vnd.jupyter.widget-view+json": {
       "model_id": "dbc36707512f49c89cda5007a3f65638",
       "version_major": 2,
       "version_minor": 0
      },
      "text/plain": [
       "  0%|          | 0/1 [00:00<?, ?it/s]"
      ]
     },
     "metadata": {},
     "output_type": "display_data"
    },
    {
     "data": {
      "application/vnd.jupyter.widget-view+json": {
       "model_id": "04296eda19d244b3994e4ed5e28e1958",
       "version_major": 2,
       "version_minor": 0
      },
      "text/plain": [
       "  0%|          | 0/1 [00:00<?, ?it/s]"
      ]
     },
     "metadata": {},
     "output_type": "display_data"
    },
    {
     "data": {
      "application/vnd.jupyter.widget-view+json": {
       "model_id": "770579bb2b0d419caaed0728b2a61beb",
       "version_major": 2,
       "version_minor": 0
      },
      "text/plain": [
       "  0%|          | 0/1 [00:00<?, ?it/s]"
      ]
     },
     "metadata": {},
     "output_type": "display_data"
    },
    {
     "data": {
      "application/vnd.jupyter.widget-view+json": {
       "model_id": "809cb4f53eac4fd98ae99a5c6d3466ad",
       "version_major": 2,
       "version_minor": 0
      },
      "text/plain": [
       "  0%|          | 0/1 [00:00<?, ?it/s]"
      ]
     },
     "metadata": {},
     "output_type": "display_data"
    },
    {
     "data": {
      "application/vnd.jupyter.widget-view+json": {
       "model_id": "d49ca8129652426faeca77833ec42a55",
       "version_major": 2,
       "version_minor": 0
      },
      "text/plain": [
       "  0%|          | 0/1 [00:00<?, ?it/s]"
      ]
     },
     "metadata": {},
     "output_type": "display_data"
    },
    {
     "data": {
      "application/vnd.jupyter.widget-view+json": {
       "model_id": "706788edd28548d8a5ce12515e3c24cc",
       "version_major": 2,
       "version_minor": 0
      },
      "text/plain": [
       "  0%|          | 0/1 [00:00<?, ?it/s]"
      ]
     },
     "metadata": {},
     "output_type": "display_data"
    },
    {
     "data": {
      "application/vnd.jupyter.widget-view+json": {
       "model_id": "92735cdff2e64ed1b7a1eb7490d54fc8",
       "version_major": 2,
       "version_minor": 0
      },
      "text/plain": [
       "  0%|          | 0/1 [00:00<?, ?it/s]"
      ]
     },
     "metadata": {},
     "output_type": "display_data"
    },
    {
     "data": {
      "application/vnd.jupyter.widget-view+json": {
       "model_id": "418fa0396be149aba87e1f9c8eae205a",
       "version_major": 2,
       "version_minor": 0
      },
      "text/plain": [
       "  0%|          | 0/1 [00:00<?, ?it/s]"
      ]
     },
     "metadata": {},
     "output_type": "display_data"
    },
    {
     "data": {
      "application/vnd.jupyter.widget-view+json": {
       "model_id": "020e57cd899f42a48edbfec937ce79aa",
       "version_major": 2,
       "version_minor": 0
      },
      "text/plain": [
       "  0%|          | 0/1 [00:00<?, ?it/s]"
      ]
     },
     "metadata": {},
     "output_type": "display_data"
    },
    {
     "data": {
      "application/vnd.jupyter.widget-view+json": {
       "model_id": "2b2b7f18897b4d40ac402267e4973fdf",
       "version_major": 2,
       "version_minor": 0
      },
      "text/plain": [
       "  0%|          | 0/1 [00:00<?, ?it/s]"
      ]
     },
     "metadata": {},
     "output_type": "display_data"
    },
    {
     "data": {
      "application/vnd.jupyter.widget-view+json": {
       "model_id": "fc1ccece9e8d4ba49b788e90732d28ff",
       "version_major": 2,
       "version_minor": 0
      },
      "text/plain": [
       "  0%|          | 0/1 [00:00<?, ?it/s]"
      ]
     },
     "metadata": {},
     "output_type": "display_data"
    },
    {
     "data": {
      "application/vnd.jupyter.widget-view+json": {
       "model_id": "05183f9bef6d42b99080aa66009b0d73",
       "version_major": 2,
       "version_minor": 0
      },
      "text/plain": [
       "  0%|          | 0/1 [00:00<?, ?it/s]"
      ]
     },
     "metadata": {},
     "output_type": "display_data"
    },
    {
     "name": "stdout",
     "output_type": "stream",
     "text": [
      "MYT1-INSYN1-RNF41\n",
      "| Feature_group      |      AGP |      DNA |       ER |     Mito |      RNA |\n",
      "|:-------------------|---------:|---------:|---------:|---------:|---------:|\n",
      "| Intensity          | 0.625156 | 0.749395 | 0.468944 | 0.699724 | 0.739519 |\n",
      "| RadialDistribution | 0.754368 | 0.727735 | 0.552624 | 0.684017 | 0.610879 |\n",
      "| Texture            | 0.671218 | 0.725173 | 0.723866 | 0.594921 | 0.786448 |\n"
     ]
    },
    {
     "data": {
      "application/vnd.jupyter.widget-view+json": {
       "model_id": "88619cd4c67c4f30a7cf41870c284a04",
       "version_major": 2,
       "version_minor": 0
      },
      "text/plain": [
       "  0%|          | 0/1 [00:00<?, ?it/s]"
      ]
     },
     "metadata": {},
     "output_type": "display_data"
    },
    {
     "data": {
      "application/vnd.jupyter.widget-view+json": {
       "model_id": "f90dda9855ed41a8a3de8ca86705a31e",
       "version_major": 2,
       "version_minor": 0
      },
      "text/plain": [
       "  0%|          | 0/1 [00:00<?, ?it/s]"
      ]
     },
     "metadata": {},
     "output_type": "display_data"
    },
    {
     "data": {
      "application/vnd.jupyter.widget-view+json": {
       "model_id": "6765281ff51d462983bf668d0b3cf11d",
       "version_major": 2,
       "version_minor": 0
      },
      "text/plain": [
       "  0%|          | 0/1 [00:00<?, ?it/s]"
      ]
     },
     "metadata": {},
     "output_type": "display_data"
    },
    {
     "data": {
      "application/vnd.jupyter.widget-view+json": {
       "model_id": "40604a251d1f4415b5088b148e1cbddd",
       "version_major": 2,
       "version_minor": 0
      },
      "text/plain": [
       "  0%|          | 0/1 [00:00<?, ?it/s]"
      ]
     },
     "metadata": {},
     "output_type": "display_data"
    },
    {
     "data": {
      "application/vnd.jupyter.widget-view+json": {
       "model_id": "10edca4de18b4347884b30a77a30a294",
       "version_major": 2,
       "version_minor": 0
      },
      "text/plain": [
       "  0%|          | 0/1 [00:00<?, ?it/s]"
      ]
     },
     "metadata": {},
     "output_type": "display_data"
    },
    {
     "data": {
      "application/vnd.jupyter.widget-view+json": {
       "model_id": "67308d3ba9d54ef3b8f2f9189a1b1803",
       "version_major": 2,
       "version_minor": 0
      },
      "text/plain": [
       "  0%|          | 0/1 [00:00<?, ?it/s]"
      ]
     },
     "metadata": {},
     "output_type": "display_data"
    },
    {
     "data": {
      "application/vnd.jupyter.widget-view+json": {
       "model_id": "fa8c87f771974a93b4233def101ef70b",
       "version_major": 2,
       "version_minor": 0
      },
      "text/plain": [
       "  0%|          | 0/1 [00:00<?, ?it/s]"
      ]
     },
     "metadata": {},
     "output_type": "display_data"
    },
    {
     "data": {
      "application/vnd.jupyter.widget-view+json": {
       "model_id": "6592ca3ea79f43d6b8f9525bb1c7e9d3",
       "version_major": 2,
       "version_minor": 0
      },
      "text/plain": [
       "  0%|          | 0/1 [00:00<?, ?it/s]"
      ]
     },
     "metadata": {},
     "output_type": "display_data"
    },
    {
     "data": {
      "application/vnd.jupyter.widget-view+json": {
       "model_id": "0c40af26ab6144b499b1a9c8dcc4f217",
       "version_major": 2,
       "version_minor": 0
      },
      "text/plain": [
       "  0%|          | 0/1 [00:00<?, ?it/s]"
      ]
     },
     "metadata": {},
     "output_type": "display_data"
    },
    {
     "data": {
      "application/vnd.jupyter.widget-view+json": {
       "model_id": "fec81bc996f446d08708e436eaf1023e",
       "version_major": 2,
       "version_minor": 0
      },
      "text/plain": [
       "  0%|          | 0/1 [00:00<?, ?it/s]"
      ]
     },
     "metadata": {},
     "output_type": "display_data"
    },
    {
     "data": {
      "application/vnd.jupyter.widget-view+json": {
       "model_id": "503f7dbc9af4416fa25f5b4231535f8e",
       "version_major": 2,
       "version_minor": 0
      },
      "text/plain": [
       "  0%|          | 0/1 [00:00<?, ?it/s]"
      ]
     },
     "metadata": {},
     "output_type": "display_data"
    },
    {
     "data": {
      "application/vnd.jupyter.widget-view+json": {
       "model_id": "7b0eaaf578674aa6b1a1b7c390eb1c85",
       "version_major": 2,
       "version_minor": 0
      },
      "text/plain": [
       "  0%|          | 0/1 [00:00<?, ?it/s]"
      ]
     },
     "metadata": {},
     "output_type": "display_data"
    },
    {
     "data": {
      "application/vnd.jupyter.widget-view+json": {
       "model_id": "b87e4935928c49c7a651a7cc4614c8f0",
       "version_major": 2,
       "version_minor": 0
      },
      "text/plain": [
       "  0%|          | 0/1 [00:00<?, ?it/s]"
      ]
     },
     "metadata": {},
     "output_type": "display_data"
    },
    {
     "data": {
      "application/vnd.jupyter.widget-view+json": {
       "model_id": "f12188fa2a8b44818068ee740524f9f5",
       "version_major": 2,
       "version_minor": 0
      },
      "text/plain": [
       "  0%|          | 0/1 [00:00<?, ?it/s]"
      ]
     },
     "metadata": {},
     "output_type": "display_data"
    },
    {
     "data": {
      "application/vnd.jupyter.widget-view+json": {
       "model_id": "fecd3f078def481f9ed7802c9bf931f9",
       "version_major": 2,
       "version_minor": 0
      },
      "text/plain": [
       "  0%|          | 0/1 [00:00<?, ?it/s]"
      ]
     },
     "metadata": {},
     "output_type": "display_data"
    },
    {
     "name": "stdout",
     "output_type": "stream",
     "text": [
      "ZFP36L1-PIK3R3-NRBP1-INSYN1-HOXC8-RAB40C-RAB40B\n",
      "| Feature_group      |      AGP |      DNA |       ER |     Mito |      RNA |\n",
      "|:-------------------|---------:|---------:|---------:|---------:|---------:|\n",
      "| Intensity          | 0.7899   | 0.827652 | 0.487029 | 0.837112 | 0.513674 |\n",
      "| RadialDistribution | 0.644026 | 0.641674 | 0.704568 | 0.697298 | 0.69203  |\n",
      "| Texture            | 0.725892 | 0.805295 | 0.651388 | 0.74524  | 0.608624 |\n"
     ]
    }
   ],
   "source": [
    "for geneset in orf_genesets:\n",
    "    channel_feature_group_df = pd.DataFrame()\n",
    "    for channel in channels:\n",
    "        for feature_group in feature_group_list:\n",
    "            feature_cols = (\n",
    "                feature_name_interpretation_df.query(\"feature_group==@feature_group\")\n",
    "                .query(\"channel==@channel\")\n",
    "                .feature.to_list()\n",
    "            )\n",
    "\n",
    "            profiles = orf_profiles_with_feature_names_df.query(\n",
    "                \"Metadata_Symbol in @geneset\"\n",
    "            )\n",
    "            plates_with_genes = list(np.unique(profiles.Metadata_Plate.to_list()))\n",
    "            negative_control_profiles = orf_profiles_with_feature_names_df.query(\n",
    "                \"Metadata_Plate in @plates_with_genes\"\n",
    "            ).query(\"Metadata_pert_type=='negcon'\")\n",
    "\n",
    "            consensus_profiles = utils.consensus(profiles, \"Metadata_JCP2022\")\n",
    "            consensus_profiles = utils.consensus(consensus_profiles, \"Metadata_pert_type\")[\n",
    "                feature_cols\n",
    "            ].copy()\n",
    "            consensus_negative_control_profiles = utils.consensus(\n",
    "                negative_control_profiles, \"Metadata_pert_type\"\n",
    "            )[feature_cols].copy()\n",
    "\n",
    "            id = [\"genes\", \"negcon\"]\n",
    "\n",
    "            feature_values = np.asarray(\n",
    "                [\n",
    "                    np.abs(utils.get_featuredata(consensus_profiles)).values[0],\n",
    "                    np.abs(\n",
    "                        utils.get_featuredata(consensus_negative_control_profiles)\n",
    "                    ).values[0],\n",
    "                ]\n",
    "            )\n",
    "\n",
    "            cosine_sim = utils.cosine_similarity(id, feature_values).values[0, 1]\n",
    "\n",
    "            df = pd.DataFrame(\n",
    "                {\n",
    "                    \"Channel\": channel,\n",
    "                    \"Feature_group\": feature_group,\n",
    "                    \"Similarity\": cosine_sim,\n",
    "                },\n",
    "                index=[0],\n",
    "            )\n",
    "\n",
    "            channel_feature_group_df = pd.concat(\n",
    "                [channel_feature_group_df, df], ignore_index=True\n",
    "            )\n",
    "\n",
    "    channel_feature_group_df = channel_feature_group_df.pivot(\n",
    "        index=\"Feature_group\", columns=\"Channel\", values=\"Similarity\"\n",
    "    )\n",
    "\n",
    "    print('-'.join(geneset))\n",
    "    print(channel_feature_group_df.to_markdown())"
   ]
  },
  {
   "cell_type": "code",
   "execution_count": 9,
   "metadata": {},
   "outputs": [],
   "source": [
    "feature_group = \"AreaShape\"\n",
    "feature_group_list = [\"Texture\", \"Intensity\", \"RadialDistribution\"]\n",
    "compartments = [\"Cells\", \"Cytoplasm\", \"Nuclei\"]\n",
    "channels = [\"DNA\", \"RNA\", \"Mito\", \"ER\", \"AGP\"]"
   ]
  },
  {
   "cell_type": "code",
   "execution_count": 10,
   "metadata": {},
   "outputs": [
    {
     "data": {
      "text/html": [
       "<div>\n",
       "<style scoped>\n",
       "    .dataframe tbody tr th:only-of-type {\n",
       "        vertical-align: middle;\n",
       "    }\n",
       "\n",
       "    .dataframe tbody tr th {\n",
       "        vertical-align: top;\n",
       "    }\n",
       "\n",
       "    .dataframe thead th {\n",
       "        text-align: right;\n",
       "    }\n",
       "</style>\n",
       "<table border=\"1\" class=\"dataframe\">\n",
       "  <thead>\n",
       "    <tr style=\"text-align: right;\">\n",
       "      <th></th>\n",
       "      <th>feature</th>\n",
       "      <th>compartment</th>\n",
       "      <th>feature_group</th>\n",
       "      <th>feature_type</th>\n",
       "      <th>channel</th>\n",
       "    </tr>\n",
       "  </thead>\n",
       "  <tbody>\n",
       "    <tr>\n",
       "      <th>0</th>\n",
       "      <td>Cells_AreaShape_Area</td>\n",
       "      <td>Cells</td>\n",
       "      <td>AreaShape</td>\n",
       "      <td>Area</td>\n",
       "      <td>XNONE</td>\n",
       "    </tr>\n",
       "    <tr>\n",
       "      <th>1</th>\n",
       "      <td>Cells_AreaShape_BoundingBoxArea</td>\n",
       "      <td>Cells</td>\n",
       "      <td>AreaShape</td>\n",
       "      <td>BoundingBoxArea</td>\n",
       "      <td>XNONE</td>\n",
       "    </tr>\n",
       "    <tr>\n",
       "      <th>2</th>\n",
       "      <td>Cells_AreaShape_BoundingBoxMaximum_X</td>\n",
       "      <td>Cells</td>\n",
       "      <td>AreaShape</td>\n",
       "      <td>BoundingBoxMaximum</td>\n",
       "      <td>XNONE</td>\n",
       "    </tr>\n",
       "    <tr>\n",
       "      <th>3</th>\n",
       "      <td>Cells_AreaShape_BoundingBoxMaximum_Y</td>\n",
       "      <td>Cells</td>\n",
       "      <td>AreaShape</td>\n",
       "      <td>BoundingBoxMaximum</td>\n",
       "      <td>XNONE</td>\n",
       "    </tr>\n",
       "    <tr>\n",
       "      <th>4</th>\n",
       "      <td>Cells_AreaShape_BoundingBoxMinimum_X</td>\n",
       "      <td>Cells</td>\n",
       "      <td>AreaShape</td>\n",
       "      <td>BoundingBoxMinimum</td>\n",
       "      <td>XNONE</td>\n",
       "    </tr>\n",
       "  </tbody>\n",
       "</table>\n",
       "</div>"
      ],
      "text/plain": [
       "                                feature compartment feature_group  \\\n",
       "0                  Cells_AreaShape_Area       Cells     AreaShape   \n",
       "1       Cells_AreaShape_BoundingBoxArea       Cells     AreaShape   \n",
       "2  Cells_AreaShape_BoundingBoxMaximum_X       Cells     AreaShape   \n",
       "3  Cells_AreaShape_BoundingBoxMaximum_Y       Cells     AreaShape   \n",
       "4  Cells_AreaShape_BoundingBoxMinimum_X       Cells     AreaShape   \n",
       "\n",
       "         feature_type channel  \n",
       "0                Area   XNONE  \n",
       "1     BoundingBoxArea   XNONE  \n",
       "2  BoundingBoxMaximum   XNONE  \n",
       "3  BoundingBoxMaximum   XNONE  \n",
       "4  BoundingBoxMinimum   XNONE  "
      ]
     },
     "execution_count": 10,
     "metadata": {},
     "output_type": "execute_result"
    }
   ],
   "source": [
    "feature_names = utils.get_featurecols(crispr_profiles_with_feature_names_df)\n",
    "\n",
    "feature_name_interpretation_df = pd.DataFrame()\n",
    "\n",
    "for feature_name in feature_names:\n",
    "    df = pd.DataFrame(utils.parse_cp_features(feature_name), index=[0])\n",
    "    feature_name_interpretation_df = pd.concat([feature_name_interpretation_df, df], ignore_index=True)\n",
    "\n",
    "feature_name_interpretation_df.head()"
   ]
  },
  {
   "cell_type": "code",
   "execution_count": 11,
   "metadata": {},
   "outputs": [
    {
     "data": {
      "application/vnd.jupyter.widget-view+json": {
       "model_id": "67afc59a12374404b86d72dace3200c5",
       "version_major": 2,
       "version_minor": 0
      },
      "text/plain": [
       "  0%|          | 0/1 [00:00<?, ?it/s]"
      ]
     },
     "metadata": {},
     "output_type": "display_data"
    },
    {
     "data": {
      "application/vnd.jupyter.widget-view+json": {
       "model_id": "f3c7c27468e5475d98a5c96e0011453b",
       "version_major": 2,
       "version_minor": 0
      },
      "text/plain": [
       "  0%|          | 0/1 [00:00<?, ?it/s]"
      ]
     },
     "metadata": {},
     "output_type": "display_data"
    },
    {
     "data": {
      "application/vnd.jupyter.widget-view+json": {
       "model_id": "4d512ea1b83e444bb5fb601f523803f7",
       "version_major": 2,
       "version_minor": 0
      },
      "text/plain": [
       "  0%|          | 0/1 [00:00<?, ?it/s]"
      ]
     },
     "metadata": {},
     "output_type": "display_data"
    },
    {
     "name": "stdout",
     "output_type": "stream",
     "text": [
      "SLC39A1-ZBTB16\n",
      "| Feature_group   |    Cells |   Cytoplasm |   Nuclei |\n",
      "|:----------------|---------:|------------:|---------:|\n",
      "| AreaShape       | 0.594427 |    0.699604 | 0.548067 |\n"
     ]
    },
    {
     "data": {
      "application/vnd.jupyter.widget-view+json": {
       "model_id": "444593df2a354f58a02613e2172d6900",
       "version_major": 2,
       "version_minor": 0
      },
      "text/plain": [
       "  0%|          | 0/1 [00:00<?, ?it/s]"
      ]
     },
     "metadata": {},
     "output_type": "display_data"
    },
    {
     "data": {
      "application/vnd.jupyter.widget-view+json": {
       "model_id": "f52eb16d0ae640ab883e3b0a8851b0f5",
       "version_major": 2,
       "version_minor": 0
      },
      "text/plain": [
       "  0%|          | 0/1 [00:00<?, ?it/s]"
      ]
     },
     "metadata": {},
     "output_type": "display_data"
    },
    {
     "data": {
      "application/vnd.jupyter.widget-view+json": {
       "model_id": "22141257e42f436d8fdb52fb816720c0",
       "version_major": 2,
       "version_minor": 0
      },
      "text/plain": [
       "  0%|          | 0/1 [00:00<?, ?it/s]"
      ]
     },
     "metadata": {},
     "output_type": "display_data"
    },
    {
     "name": "stdout",
     "output_type": "stream",
     "text": [
      "FOXO3-TGFB1\n",
      "| Feature_group   |    Cells |   Cytoplasm |   Nuclei |\n",
      "|:----------------|---------:|------------:|---------:|\n",
      "| AreaShape       | 0.729562 |    0.698623 | 0.636117 |\n"
     ]
    },
    {
     "data": {
      "application/vnd.jupyter.widget-view+json": {
       "model_id": "4e6a64792c1b40c8854581651c1ad3af",
       "version_major": 2,
       "version_minor": 0
      },
      "text/plain": [
       "  0%|          | 0/1 [00:00<?, ?it/s]"
      ]
     },
     "metadata": {},
     "output_type": "display_data"
    },
    {
     "data": {
      "application/vnd.jupyter.widget-view+json": {
       "model_id": "2ab6857a82494176bef9da44efce4282",
       "version_major": 2,
       "version_minor": 0
      },
      "text/plain": [
       "  0%|          | 0/1 [00:00<?, ?it/s]"
      ]
     },
     "metadata": {},
     "output_type": "display_data"
    },
    {
     "data": {
      "application/vnd.jupyter.widget-view+json": {
       "model_id": "2348994987234a40bf4c14ec90a758db",
       "version_major": 2,
       "version_minor": 0
      },
      "text/plain": [
       "  0%|          | 0/1 [00:00<?, ?it/s]"
      ]
     },
     "metadata": {},
     "output_type": "display_data"
    },
    {
     "name": "stdout",
     "output_type": "stream",
     "text": [
      "SARS2-ECH1-PVR-LAIR1-SLC1A5-UQCRFS1\n",
      "| Feature_group   |    Cells |   Cytoplasm |   Nuclei |\n",
      "|:----------------|---------:|------------:|---------:|\n",
      "| AreaShape       | 0.831355 |    0.715244 |  0.59991 |\n"
     ]
    },
    {
     "data": {
      "application/vnd.jupyter.widget-view+json": {
       "model_id": "e335de7266514e698fb8eb39d276cfff",
       "version_major": 2,
       "version_minor": 0
      },
      "text/plain": [
       "  0%|          | 0/1 [00:00<?, ?it/s]"
      ]
     },
     "metadata": {},
     "output_type": "display_data"
    },
    {
     "data": {
      "application/vnd.jupyter.widget-view+json": {
       "model_id": "ab1b235a6f8c41c99a4a1df6597fe6c9",
       "version_major": 2,
       "version_minor": 0
      },
      "text/plain": [
       "  0%|          | 0/1 [00:00<?, ?it/s]"
      ]
     },
     "metadata": {},
     "output_type": "display_data"
    },
    {
     "data": {
      "application/vnd.jupyter.widget-view+json": {
       "model_id": "f592ba0457c8459ca140806574da7f74",
       "version_major": 2,
       "version_minor": 0
      },
      "text/plain": [
       "  0%|          | 0/1 [00:00<?, ?it/s]"
      ]
     },
     "metadata": {},
     "output_type": "display_data"
    },
    {
     "name": "stdout",
     "output_type": "stream",
     "text": [
      "MYT1-CHRM4-GPR176-TSC22D1\n",
      "| Feature_group   |    Cells |   Cytoplasm |   Nuclei |\n",
      "|:----------------|---------:|------------:|---------:|\n",
      "| AreaShape       | 0.731146 |    0.642172 | 0.526139 |\n"
     ]
    },
    {
     "data": {
      "application/vnd.jupyter.widget-view+json": {
       "model_id": "2456927f7b55488998bac94f750b7fda",
       "version_major": 2,
       "version_minor": 0
      },
      "text/plain": [
       "  0%|          | 0/1 [00:00<?, ?it/s]"
      ]
     },
     "metadata": {},
     "output_type": "display_data"
    },
    {
     "data": {
      "application/vnd.jupyter.widget-view+json": {
       "model_id": "6d18f945eb1a492783780cd23cbdf323",
       "version_major": 2,
       "version_minor": 0
      },
      "text/plain": [
       "  0%|          | 0/1 [00:00<?, ?it/s]"
      ]
     },
     "metadata": {},
     "output_type": "display_data"
    },
    {
     "data": {
      "application/vnd.jupyter.widget-view+json": {
       "model_id": "37fc287dc4a043f8bd50462ad80d4772",
       "version_major": 2,
       "version_minor": 0
      },
      "text/plain": [
       "  0%|          | 0/1 [00:00<?, ?it/s]"
      ]
     },
     "metadata": {},
     "output_type": "display_data"
    },
    {
     "name": "stdout",
     "output_type": "stream",
     "text": [
      "PIK3R3-ZFP36L1-HOXC8-NRBP1-RAB40B\n",
      "| Feature_group   |    Cells |   Cytoplasm |   Nuclei |\n",
      "|:----------------|---------:|------------:|---------:|\n",
      "| AreaShape       | 0.465711 |    0.517223 | 0.559276 |\n"
     ]
    }
   ],
   "source": [
    "for geneset in crispr_genesets:\n",
    "    compartment_feature_group_df = pd.DataFrame()\n",
    "    for compartment in compartments:\n",
    "        feature_cols = (\n",
    "            feature_name_interpretation_df.query(\"feature_group==@feature_group\")\n",
    "            .query(\"compartment==@compartment\")\n",
    "            .feature.to_list()\n",
    "        )\n",
    "\n",
    "        profiles = crispr_profiles_with_feature_names_df.query(\n",
    "            \"Metadata_Symbol in @geneset\"\n",
    "        )\n",
    "        plates_with_genes = list(np.unique(profiles.Metadata_Plate.to_list()))\n",
    "        negative_control_profiles = crispr_profiles_with_feature_names_df.query(\n",
    "            \"Metadata_Plate in @plates_with_genes\"\n",
    "        ).query(\"Metadata_pert_type=='negcon'\")\n",
    "\n",
    "        consensus_profiles = utils.consensus(profiles, \"Metadata_JCP2022\")\n",
    "        consensus_profiles = utils.consensus(consensus_profiles, \"Metadata_pert_type\")[\n",
    "            feature_cols\n",
    "        ].copy()\n",
    "        consensus_negative_control_profiles = utils.consensus(\n",
    "            negative_control_profiles, \"Metadata_pert_type\"\n",
    "        )[feature_cols].copy()\n",
    "\n",
    "        id = [\"genes\", \"negcon\"]\n",
    "\n",
    "        feature_values = np.asarray(\n",
    "            [\n",
    "                np.abs(utils.get_featuredata(consensus_profiles)).values[0],\n",
    "                np.abs(\n",
    "                    utils.get_featuredata(consensus_negative_control_profiles)\n",
    "                ).values[0],\n",
    "            ]\n",
    "        )\n",
    "\n",
    "        cosine_sim = utils.cosine_similarity(id, feature_values).values[0, 1]\n",
    "\n",
    "        df = pd.DataFrame(\n",
    "            {\n",
    "                \"Compartment\": compartment,\n",
    "                \"Feature_group\": feature_group,\n",
    "                \"Similarity\": cosine_sim,\n",
    "            },\n",
    "            index=[0],\n",
    "        )\n",
    "\n",
    "        compartment_feature_group_df = pd.concat(\n",
    "            [compartment_feature_group_df, df], ignore_index=True\n",
    "        )\n",
    "\n",
    "    compartment_feature_group_df = compartment_feature_group_df.pivot(\n",
    "        index=\"Feature_group\", columns=\"Compartment\", values=\"Similarity\"\n",
    "    )\n",
    "\n",
    "    print('-'.join(geneset))\n",
    "    print(compartment_feature_group_df.to_markdown())"
   ]
  },
  {
   "cell_type": "code",
   "execution_count": 12,
   "metadata": {},
   "outputs": [
    {
     "data": {
      "application/vnd.jupyter.widget-view+json": {
       "model_id": "817065f433e045b0b36a6b3fcf74f43a",
       "version_major": 2,
       "version_minor": 0
      },
      "text/plain": [
       "  0%|          | 0/1 [00:00<?, ?it/s]"
      ]
     },
     "metadata": {},
     "output_type": "display_data"
    },
    {
     "data": {
      "application/vnd.jupyter.widget-view+json": {
       "model_id": "e023021ca4b746078cf1d97ab7044a90",
       "version_major": 2,
       "version_minor": 0
      },
      "text/plain": [
       "  0%|          | 0/1 [00:00<?, ?it/s]"
      ]
     },
     "metadata": {},
     "output_type": "display_data"
    },
    {
     "data": {
      "application/vnd.jupyter.widget-view+json": {
       "model_id": "57109e99fa714166b622156cf3098b7c",
       "version_major": 2,
       "version_minor": 0
      },
      "text/plain": [
       "  0%|          | 0/1 [00:00<?, ?it/s]"
      ]
     },
     "metadata": {},
     "output_type": "display_data"
    },
    {
     "data": {
      "application/vnd.jupyter.widget-view+json": {
       "model_id": "d9ad8c8ded134651a872aff7a2c8590d",
       "version_major": 2,
       "version_minor": 0
      },
      "text/plain": [
       "  0%|          | 0/1 [00:00<?, ?it/s]"
      ]
     },
     "metadata": {},
     "output_type": "display_data"
    },
    {
     "data": {
      "application/vnd.jupyter.widget-view+json": {
       "model_id": "c24833853bb048e3b7f225652cbcfebe",
       "version_major": 2,
       "version_minor": 0
      },
      "text/plain": [
       "  0%|          | 0/1 [00:00<?, ?it/s]"
      ]
     },
     "metadata": {},
     "output_type": "display_data"
    },
    {
     "data": {
      "application/vnd.jupyter.widget-view+json": {
       "model_id": "e677371b88d54e6baa28a6b21889f991",
       "version_major": 2,
       "version_minor": 0
      },
      "text/plain": [
       "  0%|          | 0/1 [00:00<?, ?it/s]"
      ]
     },
     "metadata": {},
     "output_type": "display_data"
    },
    {
     "data": {
      "application/vnd.jupyter.widget-view+json": {
       "model_id": "7770b9f65522401ea1982604ab25599f",
       "version_major": 2,
       "version_minor": 0
      },
      "text/plain": [
       "  0%|          | 0/1 [00:00<?, ?it/s]"
      ]
     },
     "metadata": {},
     "output_type": "display_data"
    },
    {
     "data": {
      "application/vnd.jupyter.widget-view+json": {
       "model_id": "cfff3512a02f4f7bb7b2b92648d94a4f",
       "version_major": 2,
       "version_minor": 0
      },
      "text/plain": [
       "  0%|          | 0/1 [00:00<?, ?it/s]"
      ]
     },
     "metadata": {},
     "output_type": "display_data"
    },
    {
     "data": {
      "application/vnd.jupyter.widget-view+json": {
       "model_id": "c108c0f7e919408c867b6c587b932f2c",
       "version_major": 2,
       "version_minor": 0
      },
      "text/plain": [
       "  0%|          | 0/1 [00:00<?, ?it/s]"
      ]
     },
     "metadata": {},
     "output_type": "display_data"
    },
    {
     "data": {
      "application/vnd.jupyter.widget-view+json": {
       "model_id": "bc006adfebe0424fa80797056bedb43c",
       "version_major": 2,
       "version_minor": 0
      },
      "text/plain": [
       "  0%|          | 0/1 [00:00<?, ?it/s]"
      ]
     },
     "metadata": {},
     "output_type": "display_data"
    },
    {
     "data": {
      "application/vnd.jupyter.widget-view+json": {
       "model_id": "2d5dc625ccce4582ad663012b66fa3d3",
       "version_major": 2,
       "version_minor": 0
      },
      "text/plain": [
       "  0%|          | 0/1 [00:00<?, ?it/s]"
      ]
     },
     "metadata": {},
     "output_type": "display_data"
    },
    {
     "data": {
      "application/vnd.jupyter.widget-view+json": {
       "model_id": "5e03947a573a46d78c8abe580eccfd99",
       "version_major": 2,
       "version_minor": 0
      },
      "text/plain": [
       "  0%|          | 0/1 [00:00<?, ?it/s]"
      ]
     },
     "metadata": {},
     "output_type": "display_data"
    },
    {
     "data": {
      "application/vnd.jupyter.widget-view+json": {
       "model_id": "cb307a1e56694e6abd72f6f3a8f93d3b",
       "version_major": 2,
       "version_minor": 0
      },
      "text/plain": [
       "  0%|          | 0/1 [00:00<?, ?it/s]"
      ]
     },
     "metadata": {},
     "output_type": "display_data"
    },
    {
     "data": {
      "application/vnd.jupyter.widget-view+json": {
       "model_id": "93db1cba9580433fb524c6e454146ee4",
       "version_major": 2,
       "version_minor": 0
      },
      "text/plain": [
       "  0%|          | 0/1 [00:00<?, ?it/s]"
      ]
     },
     "metadata": {},
     "output_type": "display_data"
    },
    {
     "data": {
      "application/vnd.jupyter.widget-view+json": {
       "model_id": "7f478c23516a4a068c41a73bd6928c0d",
       "version_major": 2,
       "version_minor": 0
      },
      "text/plain": [
       "  0%|          | 0/1 [00:00<?, ?it/s]"
      ]
     },
     "metadata": {},
     "output_type": "display_data"
    },
    {
     "name": "stdout",
     "output_type": "stream",
     "text": [
      "SLC39A1-ZBTB16\n",
      "| Feature_group      |      AGP |      DNA |       ER |     Mito |      RNA |\n",
      "|:-------------------|---------:|---------:|---------:|---------:|---------:|\n",
      "| Intensity          | 0.728945 | 0.767571 | 0.771242 | 0.873135 | 0.822642 |\n",
      "| RadialDistribution | 0.711016 | 0.761158 | 0.826235 | 0.858462 | 0.794492 |\n",
      "| Texture            | 0.697588 | 0.727041 | 0.827957 | 0.800155 | 0.894299 |\n"
     ]
    },
    {
     "data": {
      "application/vnd.jupyter.widget-view+json": {
       "model_id": "3d63d12205354db5897928b4119d46fe",
       "version_major": 2,
       "version_minor": 0
      },
      "text/plain": [
       "  0%|          | 0/1 [00:00<?, ?it/s]"
      ]
     },
     "metadata": {},
     "output_type": "display_data"
    },
    {
     "data": {
      "application/vnd.jupyter.widget-view+json": {
       "model_id": "d789df92fe93420391694c9455174af1",
       "version_major": 2,
       "version_minor": 0
      },
      "text/plain": [
       "  0%|          | 0/1 [00:00<?, ?it/s]"
      ]
     },
     "metadata": {},
     "output_type": "display_data"
    },
    {
     "data": {
      "application/vnd.jupyter.widget-view+json": {
       "model_id": "7a6ff00a6d6f4f2e9c68cc0625333c4a",
       "version_major": 2,
       "version_minor": 0
      },
      "text/plain": [
       "  0%|          | 0/1 [00:00<?, ?it/s]"
      ]
     },
     "metadata": {},
     "output_type": "display_data"
    },
    {
     "data": {
      "application/vnd.jupyter.widget-view+json": {
       "model_id": "b47622c2771f4efdbfa39ffed018d24a",
       "version_major": 2,
       "version_minor": 0
      },
      "text/plain": [
       "  0%|          | 0/1 [00:00<?, ?it/s]"
      ]
     },
     "metadata": {},
     "output_type": "display_data"
    },
    {
     "data": {
      "application/vnd.jupyter.widget-view+json": {
       "model_id": "7573a5b0c9464dee963c6a2734e69b48",
       "version_major": 2,
       "version_minor": 0
      },
      "text/plain": [
       "  0%|          | 0/1 [00:00<?, ?it/s]"
      ]
     },
     "metadata": {},
     "output_type": "display_data"
    },
    {
     "data": {
      "application/vnd.jupyter.widget-view+json": {
       "model_id": "e121a3da92514a4e8d2202b33bc5a45f",
       "version_major": 2,
       "version_minor": 0
      },
      "text/plain": [
       "  0%|          | 0/1 [00:00<?, ?it/s]"
      ]
     },
     "metadata": {},
     "output_type": "display_data"
    },
    {
     "data": {
      "application/vnd.jupyter.widget-view+json": {
       "model_id": "53bdbc592ba4403e85a3104d44b18339",
       "version_major": 2,
       "version_minor": 0
      },
      "text/plain": [
       "  0%|          | 0/1 [00:00<?, ?it/s]"
      ]
     },
     "metadata": {},
     "output_type": "display_data"
    },
    {
     "data": {
      "application/vnd.jupyter.widget-view+json": {
       "model_id": "09e71c3eec4841ab91ca29c1df1f86c9",
       "version_major": 2,
       "version_minor": 0
      },
      "text/plain": [
       "  0%|          | 0/1 [00:00<?, ?it/s]"
      ]
     },
     "metadata": {},
     "output_type": "display_data"
    },
    {
     "data": {
      "application/vnd.jupyter.widget-view+json": {
       "model_id": "a20e2eff0c334d90b88fe04b371944ea",
       "version_major": 2,
       "version_minor": 0
      },
      "text/plain": [
       "  0%|          | 0/1 [00:00<?, ?it/s]"
      ]
     },
     "metadata": {},
     "output_type": "display_data"
    },
    {
     "data": {
      "application/vnd.jupyter.widget-view+json": {
       "model_id": "5014dc7e6bae425da81ea34e90c983a1",
       "version_major": 2,
       "version_minor": 0
      },
      "text/plain": [
       "  0%|          | 0/1 [00:00<?, ?it/s]"
      ]
     },
     "metadata": {},
     "output_type": "display_data"
    },
    {
     "data": {
      "application/vnd.jupyter.widget-view+json": {
       "model_id": "6c2a8de9118d441bb65717d3e62552bb",
       "version_major": 2,
       "version_minor": 0
      },
      "text/plain": [
       "  0%|          | 0/1 [00:00<?, ?it/s]"
      ]
     },
     "metadata": {},
     "output_type": "display_data"
    },
    {
     "data": {
      "application/vnd.jupyter.widget-view+json": {
       "model_id": "5b7c166e17be4caf83cb7d2f9bcb0bc2",
       "version_major": 2,
       "version_minor": 0
      },
      "text/plain": [
       "  0%|          | 0/1 [00:00<?, ?it/s]"
      ]
     },
     "metadata": {},
     "output_type": "display_data"
    },
    {
     "data": {
      "application/vnd.jupyter.widget-view+json": {
       "model_id": "7c386df37e6d4e13a22de5775e07fa34",
       "version_major": 2,
       "version_minor": 0
      },
      "text/plain": [
       "  0%|          | 0/1 [00:00<?, ?it/s]"
      ]
     },
     "metadata": {},
     "output_type": "display_data"
    },
    {
     "data": {
      "application/vnd.jupyter.widget-view+json": {
       "model_id": "48633e261f91487986c55c7ff4692798",
       "version_major": 2,
       "version_minor": 0
      },
      "text/plain": [
       "  0%|          | 0/1 [00:00<?, ?it/s]"
      ]
     },
     "metadata": {},
     "output_type": "display_data"
    },
    {
     "data": {
      "application/vnd.jupyter.widget-view+json": {
       "model_id": "242c891b2afd4325a17c17a76ff6b94b",
       "version_major": 2,
       "version_minor": 0
      },
      "text/plain": [
       "  0%|          | 0/1 [00:00<?, ?it/s]"
      ]
     },
     "metadata": {},
     "output_type": "display_data"
    },
    {
     "name": "stdout",
     "output_type": "stream",
     "text": [
      "FOXO3-TGFB1\n",
      "| Feature_group      |      AGP |      DNA |       ER |     Mito |      RNA |\n",
      "|:-------------------|---------:|---------:|---------:|---------:|---------:|\n",
      "| Intensity          | 0.544389 | 0.688425 | 0.681472 | 0.722339 | 0.670453 |\n",
      "| RadialDistribution | 0.735871 | 0.840089 | 0.661786 | 0.788626 | 0.665996 |\n",
      "| Texture            | 0.717921 | 0.733803 | 0.669132 | 0.81236  | 0.572922 |\n"
     ]
    },
    {
     "data": {
      "application/vnd.jupyter.widget-view+json": {
       "model_id": "81366bd4efb546b0a6241bf65cb2182e",
       "version_major": 2,
       "version_minor": 0
      },
      "text/plain": [
       "  0%|          | 0/1 [00:00<?, ?it/s]"
      ]
     },
     "metadata": {},
     "output_type": "display_data"
    },
    {
     "data": {
      "application/vnd.jupyter.widget-view+json": {
       "model_id": "ff47f10a5b7f49849316c696f1e78199",
       "version_major": 2,
       "version_minor": 0
      },
      "text/plain": [
       "  0%|          | 0/1 [00:00<?, ?it/s]"
      ]
     },
     "metadata": {},
     "output_type": "display_data"
    },
    {
     "data": {
      "application/vnd.jupyter.widget-view+json": {
       "model_id": "fbfd595e23ff41da995728eb697bfff3",
       "version_major": 2,
       "version_minor": 0
      },
      "text/plain": [
       "  0%|          | 0/1 [00:00<?, ?it/s]"
      ]
     },
     "metadata": {},
     "output_type": "display_data"
    },
    {
     "data": {
      "application/vnd.jupyter.widget-view+json": {
       "model_id": "f8deb4c7b3b94a90a6c6b9caa7abb32a",
       "version_major": 2,
       "version_minor": 0
      },
      "text/plain": [
       "  0%|          | 0/1 [00:00<?, ?it/s]"
      ]
     },
     "metadata": {},
     "output_type": "display_data"
    },
    {
     "data": {
      "application/vnd.jupyter.widget-view+json": {
       "model_id": "5d95e6e7e9144c30b83fcac4737d16d9",
       "version_major": 2,
       "version_minor": 0
      },
      "text/plain": [
       "  0%|          | 0/1 [00:00<?, ?it/s]"
      ]
     },
     "metadata": {},
     "output_type": "display_data"
    },
    {
     "data": {
      "application/vnd.jupyter.widget-view+json": {
       "model_id": "79951593f679424bb15029027641fb05",
       "version_major": 2,
       "version_minor": 0
      },
      "text/plain": [
       "  0%|          | 0/1 [00:00<?, ?it/s]"
      ]
     },
     "metadata": {},
     "output_type": "display_data"
    },
    {
     "data": {
      "application/vnd.jupyter.widget-view+json": {
       "model_id": "415353f80c1e4f738cf6ca35a9b7a2f8",
       "version_major": 2,
       "version_minor": 0
      },
      "text/plain": [
       "  0%|          | 0/1 [00:00<?, ?it/s]"
      ]
     },
     "metadata": {},
     "output_type": "display_data"
    },
    {
     "data": {
      "application/vnd.jupyter.widget-view+json": {
       "model_id": "79c508b5fb334ae4840a8141634485f4",
       "version_major": 2,
       "version_minor": 0
      },
      "text/plain": [
       "  0%|          | 0/1 [00:00<?, ?it/s]"
      ]
     },
     "metadata": {},
     "output_type": "display_data"
    },
    {
     "data": {
      "application/vnd.jupyter.widget-view+json": {
       "model_id": "72e2f0945e0d49eead8383417509f7f5",
       "version_major": 2,
       "version_minor": 0
      },
      "text/plain": [
       "  0%|          | 0/1 [00:00<?, ?it/s]"
      ]
     },
     "metadata": {},
     "output_type": "display_data"
    },
    {
     "data": {
      "application/vnd.jupyter.widget-view+json": {
       "model_id": "c589d5e4077a49ffa47b3e594bd052a1",
       "version_major": 2,
       "version_minor": 0
      },
      "text/plain": [
       "  0%|          | 0/1 [00:00<?, ?it/s]"
      ]
     },
     "metadata": {},
     "output_type": "display_data"
    },
    {
     "data": {
      "application/vnd.jupyter.widget-view+json": {
       "model_id": "2d89497b1e6f4c5e97c05e1b1780fa48",
       "version_major": 2,
       "version_minor": 0
      },
      "text/plain": [
       "  0%|          | 0/1 [00:00<?, ?it/s]"
      ]
     },
     "metadata": {},
     "output_type": "display_data"
    },
    {
     "data": {
      "application/vnd.jupyter.widget-view+json": {
       "model_id": "478f1340592f4e6dad79a3b231af2799",
       "version_major": 2,
       "version_minor": 0
      },
      "text/plain": [
       "  0%|          | 0/1 [00:00<?, ?it/s]"
      ]
     },
     "metadata": {},
     "output_type": "display_data"
    },
    {
     "data": {
      "application/vnd.jupyter.widget-view+json": {
       "model_id": "4ee8cfb7d3404d2caa6882140ca1ffc3",
       "version_major": 2,
       "version_minor": 0
      },
      "text/plain": [
       "  0%|          | 0/1 [00:00<?, ?it/s]"
      ]
     },
     "metadata": {},
     "output_type": "display_data"
    },
    {
     "data": {
      "application/vnd.jupyter.widget-view+json": {
       "model_id": "de32cc1763c9471fa5997bd08f23dbdd",
       "version_major": 2,
       "version_minor": 0
      },
      "text/plain": [
       "  0%|          | 0/1 [00:00<?, ?it/s]"
      ]
     },
     "metadata": {},
     "output_type": "display_data"
    },
    {
     "data": {
      "application/vnd.jupyter.widget-view+json": {
       "model_id": "dec6e62bd83144cb8528fb3aabdb5aa6",
       "version_major": 2,
       "version_minor": 0
      },
      "text/plain": [
       "  0%|          | 0/1 [00:00<?, ?it/s]"
      ]
     },
     "metadata": {},
     "output_type": "display_data"
    },
    {
     "name": "stdout",
     "output_type": "stream",
     "text": [
      "SARS2-ECH1-PVR-LAIR1-SLC1A5-UQCRFS1\n",
      "| Feature_group      |      AGP |      DNA |       ER |     Mito |      RNA |\n",
      "|:-------------------|---------:|---------:|---------:|---------:|---------:|\n",
      "| Intensity          | 0.660504 | 0.714538 | 0.560621 | 0.486821 | 0.566481 |\n",
      "| RadialDistribution | 0.738251 | 0.433272 | 0.749539 | 0.598352 | 0.745186 |\n",
      "| Texture            | 0.654579 | 0.705495 | 0.689171 | 0.637149 | 0.639123 |\n"
     ]
    },
    {
     "data": {
      "application/vnd.jupyter.widget-view+json": {
       "model_id": "b40bbf7c075c4d6ebb3f96aa0d3a8a82",
       "version_major": 2,
       "version_minor": 0
      },
      "text/plain": [
       "  0%|          | 0/1 [00:00<?, ?it/s]"
      ]
     },
     "metadata": {},
     "output_type": "display_data"
    },
    {
     "data": {
      "application/vnd.jupyter.widget-view+json": {
       "model_id": "0d638b160eea4f37bc707960d753b7cd",
       "version_major": 2,
       "version_minor": 0
      },
      "text/plain": [
       "  0%|          | 0/1 [00:00<?, ?it/s]"
      ]
     },
     "metadata": {},
     "output_type": "display_data"
    },
    {
     "data": {
      "application/vnd.jupyter.widget-view+json": {
       "model_id": "dc9ec2f5417c429686ee9a9dafc3eded",
       "version_major": 2,
       "version_minor": 0
      },
      "text/plain": [
       "  0%|          | 0/1 [00:00<?, ?it/s]"
      ]
     },
     "metadata": {},
     "output_type": "display_data"
    },
    {
     "data": {
      "application/vnd.jupyter.widget-view+json": {
       "model_id": "17f4c8922823479ca691b7594761f447",
       "version_major": 2,
       "version_minor": 0
      },
      "text/plain": [
       "  0%|          | 0/1 [00:00<?, ?it/s]"
      ]
     },
     "metadata": {},
     "output_type": "display_data"
    },
    {
     "data": {
      "application/vnd.jupyter.widget-view+json": {
       "model_id": "992faafc28fc486483f85be78bfbd88c",
       "version_major": 2,
       "version_minor": 0
      },
      "text/plain": [
       "  0%|          | 0/1 [00:00<?, ?it/s]"
      ]
     },
     "metadata": {},
     "output_type": "display_data"
    },
    {
     "data": {
      "application/vnd.jupyter.widget-view+json": {
       "model_id": "29170713b7354b97a224e97d2c8f43fb",
       "version_major": 2,
       "version_minor": 0
      },
      "text/plain": [
       "  0%|          | 0/1 [00:00<?, ?it/s]"
      ]
     },
     "metadata": {},
     "output_type": "display_data"
    },
    {
     "data": {
      "application/vnd.jupyter.widget-view+json": {
       "model_id": "0561abad6e19452aa353efe6627aa763",
       "version_major": 2,
       "version_minor": 0
      },
      "text/plain": [
       "  0%|          | 0/1 [00:00<?, ?it/s]"
      ]
     },
     "metadata": {},
     "output_type": "display_data"
    },
    {
     "data": {
      "application/vnd.jupyter.widget-view+json": {
       "model_id": "4ec043309bd0415abc499227300f5663",
       "version_major": 2,
       "version_minor": 0
      },
      "text/plain": [
       "  0%|          | 0/1 [00:00<?, ?it/s]"
      ]
     },
     "metadata": {},
     "output_type": "display_data"
    },
    {
     "data": {
      "application/vnd.jupyter.widget-view+json": {
       "model_id": "a69b199713c44654aa26200db6132f34",
       "version_major": 2,
       "version_minor": 0
      },
      "text/plain": [
       "  0%|          | 0/1 [00:00<?, ?it/s]"
      ]
     },
     "metadata": {},
     "output_type": "display_data"
    },
    {
     "data": {
      "application/vnd.jupyter.widget-view+json": {
       "model_id": "e371e067f8fc4615aca18a6bf93db304",
       "version_major": 2,
       "version_minor": 0
      },
      "text/plain": [
       "  0%|          | 0/1 [00:00<?, ?it/s]"
      ]
     },
     "metadata": {},
     "output_type": "display_data"
    },
    {
     "data": {
      "application/vnd.jupyter.widget-view+json": {
       "model_id": "f506dd7cc92349e590f3a74af167719b",
       "version_major": 2,
       "version_minor": 0
      },
      "text/plain": [
       "  0%|          | 0/1 [00:00<?, ?it/s]"
      ]
     },
     "metadata": {},
     "output_type": "display_data"
    },
    {
     "data": {
      "application/vnd.jupyter.widget-view+json": {
       "model_id": "096cb1d73581478da6dc95106af91abd",
       "version_major": 2,
       "version_minor": 0
      },
      "text/plain": [
       "  0%|          | 0/1 [00:00<?, ?it/s]"
      ]
     },
     "metadata": {},
     "output_type": "display_data"
    },
    {
     "data": {
      "application/vnd.jupyter.widget-view+json": {
       "model_id": "c43eb1a2c50f417397289f216b3b50c0",
       "version_major": 2,
       "version_minor": 0
      },
      "text/plain": [
       "  0%|          | 0/1 [00:00<?, ?it/s]"
      ]
     },
     "metadata": {},
     "output_type": "display_data"
    },
    {
     "data": {
      "application/vnd.jupyter.widget-view+json": {
       "model_id": "8e7e4d94d4d849c8bfc80a996dbd450d",
       "version_major": 2,
       "version_minor": 0
      },
      "text/plain": [
       "  0%|          | 0/1 [00:00<?, ?it/s]"
      ]
     },
     "metadata": {},
     "output_type": "display_data"
    },
    {
     "data": {
      "application/vnd.jupyter.widget-view+json": {
       "model_id": "4e4555c14ce44004b1f5eb1bbaea5726",
       "version_major": 2,
       "version_minor": 0
      },
      "text/plain": [
       "  0%|          | 0/1 [00:00<?, ?it/s]"
      ]
     },
     "metadata": {},
     "output_type": "display_data"
    },
    {
     "name": "stdout",
     "output_type": "stream",
     "text": [
      "MYT1-CHRM4-GPR176-TSC22D1\n",
      "| Feature_group      |      AGP |      DNA |       ER |     Mito |      RNA |\n",
      "|:-------------------|---------:|---------:|---------:|---------:|---------:|\n",
      "| Intensity          | 0.800768 | 0.675345 | 0.646027 | 0.722812 | 0.713452 |\n",
      "| RadialDistribution | 0.710884 | 0.540154 | 0.609774 | 0.65714  | 0.577702 |\n",
      "| Texture            | 0.612081 | 0.477809 | 0.717486 | 0.797778 | 0.764024 |\n"
     ]
    },
    {
     "data": {
      "application/vnd.jupyter.widget-view+json": {
       "model_id": "c4eb662a1d0b4640972dbb9a5bcf21d2",
       "version_major": 2,
       "version_minor": 0
      },
      "text/plain": [
       "  0%|          | 0/1 [00:00<?, ?it/s]"
      ]
     },
     "metadata": {},
     "output_type": "display_data"
    },
    {
     "data": {
      "application/vnd.jupyter.widget-view+json": {
       "model_id": "c6d06a58dd1f409481f1a45052a91d78",
       "version_major": 2,
       "version_minor": 0
      },
      "text/plain": [
       "  0%|          | 0/1 [00:00<?, ?it/s]"
      ]
     },
     "metadata": {},
     "output_type": "display_data"
    },
    {
     "data": {
      "application/vnd.jupyter.widget-view+json": {
       "model_id": "1ea806fc393245ecbceeb7c611b74ef6",
       "version_major": 2,
       "version_minor": 0
      },
      "text/plain": [
       "  0%|          | 0/1 [00:00<?, ?it/s]"
      ]
     },
     "metadata": {},
     "output_type": "display_data"
    },
    {
     "data": {
      "application/vnd.jupyter.widget-view+json": {
       "model_id": "865ffb88e98645d7862ac99cdc35daa9",
       "version_major": 2,
       "version_minor": 0
      },
      "text/plain": [
       "  0%|          | 0/1 [00:00<?, ?it/s]"
      ]
     },
     "metadata": {},
     "output_type": "display_data"
    },
    {
     "data": {
      "application/vnd.jupyter.widget-view+json": {
       "model_id": "31597b88c3d14d94be3e503e78dd3ece",
       "version_major": 2,
       "version_minor": 0
      },
      "text/plain": [
       "  0%|          | 0/1 [00:00<?, ?it/s]"
      ]
     },
     "metadata": {},
     "output_type": "display_data"
    },
    {
     "data": {
      "application/vnd.jupyter.widget-view+json": {
       "model_id": "979cb71b830347fb8fc9840f85981b40",
       "version_major": 2,
       "version_minor": 0
      },
      "text/plain": [
       "  0%|          | 0/1 [00:00<?, ?it/s]"
      ]
     },
     "metadata": {},
     "output_type": "display_data"
    },
    {
     "data": {
      "application/vnd.jupyter.widget-view+json": {
       "model_id": "52ea5a57238543e18bd1e530c0ece82f",
       "version_major": 2,
       "version_minor": 0
      },
      "text/plain": [
       "  0%|          | 0/1 [00:00<?, ?it/s]"
      ]
     },
     "metadata": {},
     "output_type": "display_data"
    },
    {
     "data": {
      "application/vnd.jupyter.widget-view+json": {
       "model_id": "039948cd24a74e9f900cc076246f6910",
       "version_major": 2,
       "version_minor": 0
      },
      "text/plain": [
       "  0%|          | 0/1 [00:00<?, ?it/s]"
      ]
     },
     "metadata": {},
     "output_type": "display_data"
    },
    {
     "data": {
      "application/vnd.jupyter.widget-view+json": {
       "model_id": "feb1e2b191344883a5e63f8902c7e572",
       "version_major": 2,
       "version_minor": 0
      },
      "text/plain": [
       "  0%|          | 0/1 [00:00<?, ?it/s]"
      ]
     },
     "metadata": {},
     "output_type": "display_data"
    },
    {
     "data": {
      "application/vnd.jupyter.widget-view+json": {
       "model_id": "ea36fbef72824b888c3ecca477810011",
       "version_major": 2,
       "version_minor": 0
      },
      "text/plain": [
       "  0%|          | 0/1 [00:00<?, ?it/s]"
      ]
     },
     "metadata": {},
     "output_type": "display_data"
    },
    {
     "data": {
      "application/vnd.jupyter.widget-view+json": {
       "model_id": "b9f865f8fb6843e188b3ab1af3324ce6",
       "version_major": 2,
       "version_minor": 0
      },
      "text/plain": [
       "  0%|          | 0/1 [00:00<?, ?it/s]"
      ]
     },
     "metadata": {},
     "output_type": "display_data"
    },
    {
     "data": {
      "application/vnd.jupyter.widget-view+json": {
       "model_id": "f709d0baadeb4b94aa7c1548d26e73f9",
       "version_major": 2,
       "version_minor": 0
      },
      "text/plain": [
       "  0%|          | 0/1 [00:00<?, ?it/s]"
      ]
     },
     "metadata": {},
     "output_type": "display_data"
    },
    {
     "data": {
      "application/vnd.jupyter.widget-view+json": {
       "model_id": "163b948d58c746929cdaec71348cee9e",
       "version_major": 2,
       "version_minor": 0
      },
      "text/plain": [
       "  0%|          | 0/1 [00:00<?, ?it/s]"
      ]
     },
     "metadata": {},
     "output_type": "display_data"
    },
    {
     "data": {
      "application/vnd.jupyter.widget-view+json": {
       "model_id": "0092e24963b942e889f13d292ada9f58",
       "version_major": 2,
       "version_minor": 0
      },
      "text/plain": [
       "  0%|          | 0/1 [00:00<?, ?it/s]"
      ]
     },
     "metadata": {},
     "output_type": "display_data"
    },
    {
     "data": {
      "application/vnd.jupyter.widget-view+json": {
       "model_id": "4272e8aa84b14d41ad47b30c8ba2a2db",
       "version_major": 2,
       "version_minor": 0
      },
      "text/plain": [
       "  0%|          | 0/1 [00:00<?, ?it/s]"
      ]
     },
     "metadata": {},
     "output_type": "display_data"
    },
    {
     "name": "stdout",
     "output_type": "stream",
     "text": [
      "PIK3R3-ZFP36L1-HOXC8-NRBP1-RAB40B\n",
      "| Feature_group      |      AGP |      DNA |       ER |     Mito |      RNA |\n",
      "|:-------------------|---------:|---------:|---------:|---------:|---------:|\n",
      "| Intensity          | 0.815547 | 0.663625 | 0.840245 | 0.863779 | 0.84601  |\n",
      "| RadialDistribution | 0.533896 | 0.542838 | 0.53368  | 0.673193 | 0.665232 |\n",
      "| Texture            | 0.697165 | 0.712801 | 0.732557 | 0.711678 | 0.818763 |\n"
     ]
    }
   ],
   "source": [
    "for geneset in crispr_genesets:\n",
    "    channel_feature_group_df = pd.DataFrame()\n",
    "    for channel in channels:\n",
    "        for feature_group in feature_group_list:\n",
    "            feature_cols = (\n",
    "                feature_name_interpretation_df.query(\"feature_group==@feature_group\")\n",
    "                .query(\"channel==@channel\")\n",
    "                .feature.to_list()\n",
    "            )\n",
    "\n",
    "            profiles = crispr_profiles_with_feature_names_df.query(\n",
    "                \"Metadata_Symbol in @geneset\"\n",
    "            )\n",
    "            plates_with_genes = list(np.unique(profiles.Metadata_Plate.to_list()))\n",
    "            negative_control_profiles = crispr_profiles_with_feature_names_df.query(\n",
    "                \"Metadata_Plate in @plates_with_genes\"\n",
    "            ).query(\"Metadata_pert_type=='negcon'\")\n",
    "\n",
    "            consensus_profiles = utils.consensus(profiles, \"Metadata_JCP2022\")\n",
    "            consensus_profiles = utils.consensus(consensus_profiles, \"Metadata_pert_type\")[\n",
    "                feature_cols\n",
    "            ].copy()\n",
    "            consensus_negative_control_profiles = utils.consensus(\n",
    "                negative_control_profiles, \"Metadata_pert_type\"\n",
    "            )[feature_cols].copy()\n",
    "\n",
    "            id = [\"genes\", \"negcon\"]\n",
    "\n",
    "            feature_values = np.asarray(\n",
    "                [\n",
    "                    np.abs(utils.get_featuredata(consensus_profiles)).values[0],\n",
    "                    np.abs(\n",
    "                        utils.get_featuredata(consensus_negative_control_profiles)\n",
    "                    ).values[0],\n",
    "                ]\n",
    "            )\n",
    "\n",
    "            cosine_sim = utils.cosine_similarity(id, feature_values).values[0, 1]\n",
    "\n",
    "            df = pd.DataFrame(\n",
    "                {\n",
    "                    \"Channel\": channel,\n",
    "                    \"Feature_group\": feature_group,\n",
    "                    \"Similarity\": cosine_sim,\n",
    "                },\n",
    "                index=[0],\n",
    "            )\n",
    "\n",
    "            channel_feature_group_df = pd.concat(\n",
    "                [channel_feature_group_df, df], ignore_index=True\n",
    "            )\n",
    "\n",
    "    channel_feature_group_df = channel_feature_group_df.pivot(\n",
    "        index=\"Feature_group\", columns=\"Channel\", values=\"Similarity\"\n",
    "    )\n",
    "\n",
    "    print('-'.join(geneset))\n",
    "    print(channel_feature_group_df.to_markdown())"
   ]
  }
 ],
 "metadata": {
  "kernelspec": {
   "display_name": "similarity",
   "language": "python",
   "name": "python3"
  },
  "language_info": {
   "codemirror_mode": {
    "name": "ipython",
    "version": 3
   },
   "file_extension": ".py",
   "mimetype": "text/x-python",
   "name": "python",
   "nbconvert_exporter": "python",
   "pygments_lexer": "ipython3",
   "version": "3.10.6"
  }
 },
 "nbformat": 4,
 "nbformat_minor": 2
}
