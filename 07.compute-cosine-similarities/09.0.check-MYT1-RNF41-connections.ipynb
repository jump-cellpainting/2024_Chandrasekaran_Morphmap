{
 "cells": [
  {
   "cell_type": "code",
   "execution_count": 1,
   "metadata": {},
   "outputs": [],
   "source": [
    "import pandas as pd\n",
    "import utils\n",
    "import seaborn as sns\n",
    "import matplotlib.pyplot as plt"
   ]
  },
  {
   "cell_type": "markdown",
   "metadata": {},
   "source": [
    "Check MYT1-RNF41 connections at the replicate level"
   ]
  },
  {
   "cell_type": "code",
   "execution_count": 2,
   "metadata": {},
   "outputs": [
    {
     "data": {
      "text/html": [
       "<div>\n",
       "<style scoped>\n",
       "    .dataframe tbody tr th:only-of-type {\n",
       "        vertical-align: middle;\n",
       "    }\n",
       "\n",
       "    .dataframe tbody tr th {\n",
       "        vertical-align: top;\n",
       "    }\n",
       "\n",
       "    .dataframe thead th {\n",
       "        text-align: right;\n",
       "    }\n",
       "</style>\n",
       "<table border=\"1\" class=\"dataframe\">\n",
       "  <thead>\n",
       "    <tr style=\"text-align: right;\">\n",
       "      <th></th>\n",
       "      <th>Metadata_Source</th>\n",
       "      <th>Metadata_Plate</th>\n",
       "      <th>Metadata_Well</th>\n",
       "      <th>Metadata_JCP2022</th>\n",
       "      <th>X_1</th>\n",
       "      <th>X_2</th>\n",
       "      <th>X_3</th>\n",
       "      <th>X_4</th>\n",
       "      <th>X_5</th>\n",
       "      <th>X_6</th>\n",
       "      <th>...</th>\n",
       "      <th>X_713</th>\n",
       "      <th>X_714</th>\n",
       "      <th>X_715</th>\n",
       "      <th>X_716</th>\n",
       "      <th>X_717</th>\n",
       "      <th>X_718</th>\n",
       "      <th>X_719</th>\n",
       "      <th>X_720</th>\n",
       "      <th>X_721</th>\n",
       "      <th>X_722</th>\n",
       "    </tr>\n",
       "  </thead>\n",
       "  <tbody>\n",
       "    <tr>\n",
       "      <th>0</th>\n",
       "      <td>source_4</td>\n",
       "      <td>BR00117035</td>\n",
       "      <td>A01</td>\n",
       "      <td>JCP2022_905588</td>\n",
       "      <td>0.052849</td>\n",
       "      <td>0.243130</td>\n",
       "      <td>-0.025814</td>\n",
       "      <td>1.463608</td>\n",
       "      <td>0.118261</td>\n",
       "      <td>0.768867</td>\n",
       "      <td>...</td>\n",
       "      <td>0.007945</td>\n",
       "      <td>0.231715</td>\n",
       "      <td>-0.439640</td>\n",
       "      <td>-0.272064</td>\n",
       "      <td>-0.326058</td>\n",
       "      <td>-0.315760</td>\n",
       "      <td>1.113890</td>\n",
       "      <td>2.681547</td>\n",
       "      <td>0.556489</td>\n",
       "      <td>-1.012824</td>\n",
       "    </tr>\n",
       "    <tr>\n",
       "      <th>1</th>\n",
       "      <td>source_4</td>\n",
       "      <td>BR00117035</td>\n",
       "      <td>K16</td>\n",
       "      <td>JCP2022_904671</td>\n",
       "      <td>0.291435</td>\n",
       "      <td>0.856620</td>\n",
       "      <td>-0.087470</td>\n",
       "      <td>0.829247</td>\n",
       "      <td>-0.260318</td>\n",
       "      <td>0.096628</td>\n",
       "      <td>...</td>\n",
       "      <td>0.041054</td>\n",
       "      <td>0.183351</td>\n",
       "      <td>-0.082316</td>\n",
       "      <td>-0.021600</td>\n",
       "      <td>-0.314601</td>\n",
       "      <td>-0.093980</td>\n",
       "      <td>-0.768527</td>\n",
       "      <td>0.122399</td>\n",
       "      <td>-0.206554</td>\n",
       "      <td>-0.124473</td>\n",
       "    </tr>\n",
       "    <tr>\n",
       "      <th>2</th>\n",
       "      <td>source_4</td>\n",
       "      <td>BR00117035</td>\n",
       "      <td>K15</td>\n",
       "      <td>JCP2022_910002</td>\n",
       "      <td>1.051215</td>\n",
       "      <td>0.050609</td>\n",
       "      <td>0.055375</td>\n",
       "      <td>-0.892842</td>\n",
       "      <td>-0.293192</td>\n",
       "      <td>0.241954</td>\n",
       "      <td>...</td>\n",
       "      <td>0.817725</td>\n",
       "      <td>-0.560760</td>\n",
       "      <td>-0.493579</td>\n",
       "      <td>-0.743412</td>\n",
       "      <td>-0.308875</td>\n",
       "      <td>-0.698211</td>\n",
       "      <td>0.117192</td>\n",
       "      <td>0.416552</td>\n",
       "      <td>-0.220121</td>\n",
       "      <td>0.597348</td>\n",
       "    </tr>\n",
       "    <tr>\n",
       "      <th>3</th>\n",
       "      <td>source_4</td>\n",
       "      <td>BR00117035</td>\n",
       "      <td>K14</td>\n",
       "      <td>JCP2022_915130</td>\n",
       "      <td>-0.926487</td>\n",
       "      <td>0.877830</td>\n",
       "      <td>-0.176330</td>\n",
       "      <td>0.490574</td>\n",
       "      <td>-0.092425</td>\n",
       "      <td>0.312627</td>\n",
       "      <td>...</td>\n",
       "      <td>0.156092</td>\n",
       "      <td>-0.090704</td>\n",
       "      <td>-0.229331</td>\n",
       "      <td>0.215088</td>\n",
       "      <td>-0.142982</td>\n",
       "      <td>0.212413</td>\n",
       "      <td>-0.570515</td>\n",
       "      <td>-0.104503</td>\n",
       "      <td>-0.228382</td>\n",
       "      <td>0.419602</td>\n",
       "    </tr>\n",
       "    <tr>\n",
       "      <th>4</th>\n",
       "      <td>source_4</td>\n",
       "      <td>BR00117035</td>\n",
       "      <td>K13</td>\n",
       "      <td>JCP2022_907169</td>\n",
       "      <td>-0.454818</td>\n",
       "      <td>0.058401</td>\n",
       "      <td>0.453824</td>\n",
       "      <td>-0.760628</td>\n",
       "      <td>-0.782859</td>\n",
       "      <td>0.467273</td>\n",
       "      <td>...</td>\n",
       "      <td>0.623233</td>\n",
       "      <td>-0.210110</td>\n",
       "      <td>-0.600980</td>\n",
       "      <td>-0.397738</td>\n",
       "      <td>-0.594362</td>\n",
       "      <td>-0.354290</td>\n",
       "      <td>-0.155720</td>\n",
       "      <td>0.191323</td>\n",
       "      <td>0.011434</td>\n",
       "      <td>-0.229435</td>\n",
       "    </tr>\n",
       "  </tbody>\n",
       "</table>\n",
       "<p>5 rows × 726 columns</p>\n",
       "</div>"
      ],
      "text/plain": [
       "  Metadata_Source Metadata_Plate Metadata_Well Metadata_JCP2022       X_1  \\\n",
       "0        source_4     BR00117035           A01   JCP2022_905588  0.052849   \n",
       "1        source_4     BR00117035           K16   JCP2022_904671  0.291435   \n",
       "2        source_4     BR00117035           K15   JCP2022_910002  1.051215   \n",
       "3        source_4     BR00117035           K14   JCP2022_915130 -0.926487   \n",
       "4        source_4     BR00117035           K13   JCP2022_907169 -0.454818   \n",
       "\n",
       "        X_2       X_3       X_4       X_5       X_6  ...     X_713     X_714  \\\n",
       "0  0.243130 -0.025814  1.463608  0.118261  0.768867  ...  0.007945  0.231715   \n",
       "1  0.856620 -0.087470  0.829247 -0.260318  0.096628  ...  0.041054  0.183351   \n",
       "2  0.050609  0.055375 -0.892842 -0.293192  0.241954  ...  0.817725 -0.560760   \n",
       "3  0.877830 -0.176330  0.490574 -0.092425  0.312627  ...  0.156092 -0.090704   \n",
       "4  0.058401  0.453824 -0.760628 -0.782859  0.467273  ...  0.623233 -0.210110   \n",
       "\n",
       "      X_715     X_716     X_717     X_718     X_719     X_720     X_721  \\\n",
       "0 -0.439640 -0.272064 -0.326058 -0.315760  1.113890  2.681547  0.556489   \n",
       "1 -0.082316 -0.021600 -0.314601 -0.093980 -0.768527  0.122399 -0.206554   \n",
       "2 -0.493579 -0.743412 -0.308875 -0.698211  0.117192  0.416552 -0.220121   \n",
       "3 -0.229331  0.215088 -0.142982  0.212413 -0.570515 -0.104503 -0.228382   \n",
       "4 -0.600980 -0.397738 -0.594362 -0.354290 -0.155720  0.191323  0.011434   \n",
       "\n",
       "      X_722  \n",
       "0 -1.012824  \n",
       "1 -0.124473  \n",
       "2  0.597348  \n",
       "3  0.419602  \n",
       "4 -0.229435  \n",
       "\n",
       "[5 rows x 726 columns]"
      ]
     },
     "execution_count": 2,
     "metadata": {},
     "output_type": "execute_result"
    }
   ],
   "source": [
    "orf_profiles_df = pd.read_parquet(\n",
    "    \"../profiles/profiles_wellpos_cc_var_mad_outlier_featselect_sphering_harmony.parquet\"\n",
    ")\n",
    "\n",
    "orf_profiles_df.head()"
   ]
  },
  {
   "cell_type": "code",
   "execution_count": 3,
   "metadata": {},
   "outputs": [
    {
     "data": {
      "text/html": [
       "<div>\n",
       "<style scoped>\n",
       "    .dataframe tbody tr th:only-of-type {\n",
       "        vertical-align: middle;\n",
       "    }\n",
       "\n",
       "    .dataframe tbody tr th {\n",
       "        vertical-align: top;\n",
       "    }\n",
       "\n",
       "    .dataframe thead th {\n",
       "        text-align: right;\n",
       "    }\n",
       "</style>\n",
       "<table border=\"1\" class=\"dataframe\">\n",
       "  <thead>\n",
       "    <tr style=\"text-align: right;\">\n",
       "      <th></th>\n",
       "      <th>Metadata_JCP2022</th>\n",
       "      <th>Metadata_Symbol</th>\n",
       "    </tr>\n",
       "  </thead>\n",
       "  <tbody>\n",
       "    <tr>\n",
       "      <th>0</th>\n",
       "      <td>JCP2022_900001</td>\n",
       "      <td>NaN</td>\n",
       "    </tr>\n",
       "    <tr>\n",
       "      <th>1</th>\n",
       "      <td>JCP2022_900002</td>\n",
       "      <td>NAT1</td>\n",
       "    </tr>\n",
       "    <tr>\n",
       "      <th>2</th>\n",
       "      <td>JCP2022_900003</td>\n",
       "      <td>AANAT</td>\n",
       "    </tr>\n",
       "    <tr>\n",
       "      <th>3</th>\n",
       "      <td>JCP2022_900004</td>\n",
       "      <td>ABAT</td>\n",
       "    </tr>\n",
       "    <tr>\n",
       "      <th>4</th>\n",
       "      <td>JCP2022_900005</td>\n",
       "      <td>ACADVL</td>\n",
       "    </tr>\n",
       "  </tbody>\n",
       "</table>\n",
       "</div>"
      ],
      "text/plain": [
       "  Metadata_JCP2022 Metadata_Symbol\n",
       "0   JCP2022_900001             NaN\n",
       "1   JCP2022_900002            NAT1\n",
       "2   JCP2022_900003           AANAT\n",
       "3   JCP2022_900004            ABAT\n",
       "4   JCP2022_900005          ACADVL"
      ]
     },
     "execution_count": 3,
     "metadata": {},
     "output_type": "execute_result"
    }
   ],
   "source": [
    "orf_metadata_df = pd.read_csv(\n",
    "    \"../00.download-and-process-annotations/output/orf_metadata.tsv.gz\",\n",
    "    sep=\"\\t\",\n",
    "    usecols=[\"Metadata_JCP2022\", \"Metadata_Symbol\"],\n",
    ")\n",
    "orf_metadata_df.head()"
   ]
  },
  {
   "cell_type": "code",
   "execution_count": 4,
   "metadata": {},
   "outputs": [
    {
     "data": {
      "text/html": [
       "<div>\n",
       "<style scoped>\n",
       "    .dataframe tbody tr th:only-of-type {\n",
       "        vertical-align: middle;\n",
       "    }\n",
       "\n",
       "    .dataframe tbody tr th {\n",
       "        vertical-align: top;\n",
       "    }\n",
       "\n",
       "    .dataframe thead th {\n",
       "        text-align: right;\n",
       "    }\n",
       "</style>\n",
       "<table border=\"1\" class=\"dataframe\">\n",
       "  <thead>\n",
       "    <tr style=\"text-align: right;\">\n",
       "      <th></th>\n",
       "      <th>Metadata_Source</th>\n",
       "      <th>Metadata_Plate</th>\n",
       "      <th>Metadata_Well</th>\n",
       "      <th>Metadata_JCP2022</th>\n",
       "      <th>X_1</th>\n",
       "      <th>X_2</th>\n",
       "      <th>X_3</th>\n",
       "      <th>X_4</th>\n",
       "      <th>X_5</th>\n",
       "      <th>X_6</th>\n",
       "      <th>...</th>\n",
       "      <th>X_714</th>\n",
       "      <th>X_715</th>\n",
       "      <th>X_716</th>\n",
       "      <th>X_717</th>\n",
       "      <th>X_718</th>\n",
       "      <th>X_719</th>\n",
       "      <th>X_720</th>\n",
       "      <th>X_721</th>\n",
       "      <th>X_722</th>\n",
       "      <th>Metadata_Symbol</th>\n",
       "    </tr>\n",
       "  </thead>\n",
       "  <tbody>\n",
       "    <tr>\n",
       "      <th>13285</th>\n",
       "      <td>source_4</td>\n",
       "      <td>BR00121547</td>\n",
       "      <td>C03</td>\n",
       "      <td>JCP2022_902199</td>\n",
       "      <td>0.790947</td>\n",
       "      <td>0.340681</td>\n",
       "      <td>0.353621</td>\n",
       "      <td>-0.139256</td>\n",
       "      <td>-0.085210</td>\n",
       "      <td>0.309761</td>\n",
       "      <td>...</td>\n",
       "      <td>-0.216062</td>\n",
       "      <td>-0.072261</td>\n",
       "      <td>0.053150</td>\n",
       "      <td>-1.233858</td>\n",
       "      <td>-0.216214</td>\n",
       "      <td>-0.216134</td>\n",
       "      <td>0.055252</td>\n",
       "      <td>0.662488</td>\n",
       "      <td>-0.475779</td>\n",
       "      <td>RNF41</td>\n",
       "    </tr>\n",
       "    <tr>\n",
       "      <th>13286</th>\n",
       "      <td>source_4</td>\n",
       "      <td>BR00121548</td>\n",
       "      <td>C03</td>\n",
       "      <td>JCP2022_902199</td>\n",
       "      <td>1.456350</td>\n",
       "      <td>-0.022168</td>\n",
       "      <td>1.032135</td>\n",
       "      <td>0.059142</td>\n",
       "      <td>-0.788467</td>\n",
       "      <td>-0.336951</td>\n",
       "      <td>...</td>\n",
       "      <td>0.196056</td>\n",
       "      <td>0.154297</td>\n",
       "      <td>-0.024582</td>\n",
       "      <td>-1.421476</td>\n",
       "      <td>-0.122930</td>\n",
       "      <td>-0.412375</td>\n",
       "      <td>0.026178</td>\n",
       "      <td>0.551593</td>\n",
       "      <td>-0.432554</td>\n",
       "      <td>RNF41</td>\n",
       "    </tr>\n",
       "    <tr>\n",
       "      <th>13287</th>\n",
       "      <td>source_4</td>\n",
       "      <td>BR00121549</td>\n",
       "      <td>C03</td>\n",
       "      <td>JCP2022_902199</td>\n",
       "      <td>0.494793</td>\n",
       "      <td>-0.129504</td>\n",
       "      <td>0.178259</td>\n",
       "      <td>0.950581</td>\n",
       "      <td>-0.575985</td>\n",
       "      <td>0.480338</td>\n",
       "      <td>...</td>\n",
       "      <td>0.088754</td>\n",
       "      <td>-0.108999</td>\n",
       "      <td>-0.308178</td>\n",
       "      <td>-1.280444</td>\n",
       "      <td>-0.068300</td>\n",
       "      <td>-0.471226</td>\n",
       "      <td>0.041938</td>\n",
       "      <td>0.262599</td>\n",
       "      <td>-0.663147</td>\n",
       "      <td>RNF41</td>\n",
       "    </tr>\n",
       "    <tr>\n",
       "      <th>13288</th>\n",
       "      <td>source_4</td>\n",
       "      <td>BR00121550</td>\n",
       "      <td>C03</td>\n",
       "      <td>JCP2022_902199</td>\n",
       "      <td>-0.624127</td>\n",
       "      <td>0.194719</td>\n",
       "      <td>0.679070</td>\n",
       "      <td>-1.225201</td>\n",
       "      <td>-0.378428</td>\n",
       "      <td>-0.257654</td>\n",
       "      <td>...</td>\n",
       "      <td>-0.086186</td>\n",
       "      <td>-0.072997</td>\n",
       "      <td>0.112969</td>\n",
       "      <td>-1.709486</td>\n",
       "      <td>-0.111991</td>\n",
       "      <td>-0.483183</td>\n",
       "      <td>0.235699</td>\n",
       "      <td>0.634475</td>\n",
       "      <td>-0.449450</td>\n",
       "      <td>RNF41</td>\n",
       "    </tr>\n",
       "    <tr>\n",
       "      <th>13289</th>\n",
       "      <td>source_4</td>\n",
       "      <td>BR00121551</td>\n",
       "      <td>C03</td>\n",
       "      <td>JCP2022_902199</td>\n",
       "      <td>-1.280270</td>\n",
       "      <td>1.792718</td>\n",
       "      <td>0.755051</td>\n",
       "      <td>-1.141219</td>\n",
       "      <td>-0.562895</td>\n",
       "      <td>-0.184076</td>\n",
       "      <td>...</td>\n",
       "      <td>-0.163508</td>\n",
       "      <td>-0.134373</td>\n",
       "      <td>-0.266418</td>\n",
       "      <td>-1.028338</td>\n",
       "      <td>-0.094466</td>\n",
       "      <td>-0.354746</td>\n",
       "      <td>-0.047302</td>\n",
       "      <td>0.337652</td>\n",
       "      <td>-0.609660</td>\n",
       "      <td>RNF41</td>\n",
       "    </tr>\n",
       "    <tr>\n",
       "      <th>15665</th>\n",
       "      <td>source_4</td>\n",
       "      <td>BR00121562</td>\n",
       "      <td>I08</td>\n",
       "      <td>JCP2022_910239</td>\n",
       "      <td>-0.885694</td>\n",
       "      <td>0.572118</td>\n",
       "      <td>-0.480118</td>\n",
       "      <td>0.711251</td>\n",
       "      <td>-0.083313</td>\n",
       "      <td>0.097760</td>\n",
       "      <td>...</td>\n",
       "      <td>1.008334</td>\n",
       "      <td>0.337662</td>\n",
       "      <td>0.180112</td>\n",
       "      <td>1.577976</td>\n",
       "      <td>0.036992</td>\n",
       "      <td>-0.498505</td>\n",
       "      <td>-0.063101</td>\n",
       "      <td>-0.518858</td>\n",
       "      <td>0.028692</td>\n",
       "      <td>MYT1</td>\n",
       "    </tr>\n",
       "    <tr>\n",
       "      <th>15666</th>\n",
       "      <td>source_4</td>\n",
       "      <td>BR00121563</td>\n",
       "      <td>I08</td>\n",
       "      <td>JCP2022_910239</td>\n",
       "      <td>-0.170320</td>\n",
       "      <td>0.387835</td>\n",
       "      <td>-0.733217</td>\n",
       "      <td>-0.526642</td>\n",
       "      <td>0.302022</td>\n",
       "      <td>-1.394500</td>\n",
       "      <td>...</td>\n",
       "      <td>0.253811</td>\n",
       "      <td>0.424543</td>\n",
       "      <td>0.049693</td>\n",
       "      <td>0.645513</td>\n",
       "      <td>0.197462</td>\n",
       "      <td>0.448109</td>\n",
       "      <td>0.015352</td>\n",
       "      <td>-0.064350</td>\n",
       "      <td>-0.190663</td>\n",
       "      <td>MYT1</td>\n",
       "    </tr>\n",
       "    <tr>\n",
       "      <th>15667</th>\n",
       "      <td>source_4</td>\n",
       "      <td>BR00121564</td>\n",
       "      <td>I08</td>\n",
       "      <td>JCP2022_910239</td>\n",
       "      <td>-0.943809</td>\n",
       "      <td>1.496020</td>\n",
       "      <td>-0.210119</td>\n",
       "      <td>0.115617</td>\n",
       "      <td>0.358177</td>\n",
       "      <td>-0.810386</td>\n",
       "      <td>...</td>\n",
       "      <td>-0.004698</td>\n",
       "      <td>0.328033</td>\n",
       "      <td>0.108390</td>\n",
       "      <td>0.206710</td>\n",
       "      <td>0.176505</td>\n",
       "      <td>0.296270</td>\n",
       "      <td>-0.396145</td>\n",
       "      <td>-0.289267</td>\n",
       "      <td>-0.076682</td>\n",
       "      <td>MYT1</td>\n",
       "    </tr>\n",
       "    <tr>\n",
       "      <th>15668</th>\n",
       "      <td>source_4</td>\n",
       "      <td>BR00121565</td>\n",
       "      <td>I08</td>\n",
       "      <td>JCP2022_910239</td>\n",
       "      <td>-1.043714</td>\n",
       "      <td>1.776968</td>\n",
       "      <td>-0.633081</td>\n",
       "      <td>-0.561837</td>\n",
       "      <td>0.357193</td>\n",
       "      <td>0.023450</td>\n",
       "      <td>...</td>\n",
       "      <td>0.102484</td>\n",
       "      <td>0.187234</td>\n",
       "      <td>-0.053777</td>\n",
       "      <td>0.370321</td>\n",
       "      <td>-0.186957</td>\n",
       "      <td>0.423906</td>\n",
       "      <td>-0.215631</td>\n",
       "      <td>-0.217814</td>\n",
       "      <td>-0.894265</td>\n",
       "      <td>MYT1</td>\n",
       "    </tr>\n",
       "    <tr>\n",
       "      <th>15669</th>\n",
       "      <td>source_4</td>\n",
       "      <td>BR00121566</td>\n",
       "      <td>I08</td>\n",
       "      <td>JCP2022_910239</td>\n",
       "      <td>0.213164</td>\n",
       "      <td>0.258971</td>\n",
       "      <td>-0.485078</td>\n",
       "      <td>0.466362</td>\n",
       "      <td>0.256907</td>\n",
       "      <td>-0.255669</td>\n",
       "      <td>...</td>\n",
       "      <td>0.360118</td>\n",
       "      <td>0.471653</td>\n",
       "      <td>0.342744</td>\n",
       "      <td>0.368243</td>\n",
       "      <td>0.064673</td>\n",
       "      <td>0.031206</td>\n",
       "      <td>-0.292007</td>\n",
       "      <td>-0.459769</td>\n",
       "      <td>0.326449</td>\n",
       "      <td>MYT1</td>\n",
       "    </tr>\n",
       "  </tbody>\n",
       "</table>\n",
       "<p>10 rows × 727 columns</p>\n",
       "</div>"
      ],
      "text/plain": [
       "      Metadata_Source Metadata_Plate Metadata_Well Metadata_JCP2022       X_1  \\\n",
       "13285        source_4     BR00121547           C03   JCP2022_902199  0.790947   \n",
       "13286        source_4     BR00121548           C03   JCP2022_902199  1.456350   \n",
       "13287        source_4     BR00121549           C03   JCP2022_902199  0.494793   \n",
       "13288        source_4     BR00121550           C03   JCP2022_902199 -0.624127   \n",
       "13289        source_4     BR00121551           C03   JCP2022_902199 -1.280270   \n",
       "15665        source_4     BR00121562           I08   JCP2022_910239 -0.885694   \n",
       "15666        source_4     BR00121563           I08   JCP2022_910239 -0.170320   \n",
       "15667        source_4     BR00121564           I08   JCP2022_910239 -0.943809   \n",
       "15668        source_4     BR00121565           I08   JCP2022_910239 -1.043714   \n",
       "15669        source_4     BR00121566           I08   JCP2022_910239  0.213164   \n",
       "\n",
       "            X_2       X_3       X_4       X_5       X_6  ...     X_714  \\\n",
       "13285  0.340681  0.353621 -0.139256 -0.085210  0.309761  ... -0.216062   \n",
       "13286 -0.022168  1.032135  0.059142 -0.788467 -0.336951  ...  0.196056   \n",
       "13287 -0.129504  0.178259  0.950581 -0.575985  0.480338  ...  0.088754   \n",
       "13288  0.194719  0.679070 -1.225201 -0.378428 -0.257654  ... -0.086186   \n",
       "13289  1.792718  0.755051 -1.141219 -0.562895 -0.184076  ... -0.163508   \n",
       "15665  0.572118 -0.480118  0.711251 -0.083313  0.097760  ...  1.008334   \n",
       "15666  0.387835 -0.733217 -0.526642  0.302022 -1.394500  ...  0.253811   \n",
       "15667  1.496020 -0.210119  0.115617  0.358177 -0.810386  ... -0.004698   \n",
       "15668  1.776968 -0.633081 -0.561837  0.357193  0.023450  ...  0.102484   \n",
       "15669  0.258971 -0.485078  0.466362  0.256907 -0.255669  ...  0.360118   \n",
       "\n",
       "          X_715     X_716     X_717     X_718     X_719     X_720     X_721  \\\n",
       "13285 -0.072261  0.053150 -1.233858 -0.216214 -0.216134  0.055252  0.662488   \n",
       "13286  0.154297 -0.024582 -1.421476 -0.122930 -0.412375  0.026178  0.551593   \n",
       "13287 -0.108999 -0.308178 -1.280444 -0.068300 -0.471226  0.041938  0.262599   \n",
       "13288 -0.072997  0.112969 -1.709486 -0.111991 -0.483183  0.235699  0.634475   \n",
       "13289 -0.134373 -0.266418 -1.028338 -0.094466 -0.354746 -0.047302  0.337652   \n",
       "15665  0.337662  0.180112  1.577976  0.036992 -0.498505 -0.063101 -0.518858   \n",
       "15666  0.424543  0.049693  0.645513  0.197462  0.448109  0.015352 -0.064350   \n",
       "15667  0.328033  0.108390  0.206710  0.176505  0.296270 -0.396145 -0.289267   \n",
       "15668  0.187234 -0.053777  0.370321 -0.186957  0.423906 -0.215631 -0.217814   \n",
       "15669  0.471653  0.342744  0.368243  0.064673  0.031206 -0.292007 -0.459769   \n",
       "\n",
       "          X_722  Metadata_Symbol  \n",
       "13285 -0.475779            RNF41  \n",
       "13286 -0.432554            RNF41  \n",
       "13287 -0.663147            RNF41  \n",
       "13288 -0.449450            RNF41  \n",
       "13289 -0.609660            RNF41  \n",
       "15665  0.028692             MYT1  \n",
       "15666 -0.190663             MYT1  \n",
       "15667 -0.076682             MYT1  \n",
       "15668 -0.894265             MYT1  \n",
       "15669  0.326449             MYT1  \n",
       "\n",
       "[10 rows x 727 columns]"
      ]
     },
     "execution_count": 4,
     "metadata": {},
     "output_type": "execute_result"
    }
   ],
   "source": [
    "orf_profiles_df = orf_profiles_df.merge(\n",
    "    orf_metadata_df, on=\"Metadata_JCP2022\", how=\"inner\"\n",
    ").query('Metadata_Symbol==\"MYT1\" or Metadata_Symbol==\"RNF41\"')\n",
    "\n",
    "orf_profiles_df"
   ]
  },
  {
   "cell_type": "code",
   "execution_count": 5,
   "metadata": {},
   "outputs": [],
   "source": [
    "feature_df = utils.get_featuredata(orf_profiles_df)\n",
    "feature_values = feature_df.values\n",
    "id = list(orf_profiles_df[\"Metadata_Symbol\"])"
   ]
  },
  {
   "cell_type": "code",
   "execution_count": 6,
   "metadata": {},
   "outputs": [
    {
     "data": {
      "application/vnd.jupyter.widget-view+json": {
       "model_id": "1a57627b77834d1f898c07a32c9645b8",
       "version_major": 2,
       "version_minor": 0
      },
      "text/plain": [
       "  0%|          | 0/1 [00:00<?, ?it/s]"
      ]
     },
     "metadata": {},
     "output_type": "display_data"
    }
   ],
   "source": [
    "cosine_sim_df = utils.cosine_similarity(\n",
    "    id,\n",
    "    feature_values\n",
    ")"
   ]
  },
  {
   "cell_type": "code",
   "execution_count": 7,
   "metadata": {},
   "outputs": [
    {
     "data": {
      "text/html": [
       "<div>\n",
       "<style scoped>\n",
       "    .dataframe tbody tr th:only-of-type {\n",
       "        vertical-align: middle;\n",
       "    }\n",
       "\n",
       "    .dataframe tbody tr th {\n",
       "        vertical-align: top;\n",
       "    }\n",
       "\n",
       "    .dataframe thead th {\n",
       "        text-align: right;\n",
       "    }\n",
       "</style>\n",
       "<table border=\"1\" class=\"dataframe\">\n",
       "  <thead>\n",
       "    <tr style=\"text-align: right;\">\n",
       "      <th></th>\n",
       "      <th>RNF41</th>\n",
       "      <th>RNF41</th>\n",
       "      <th>RNF41</th>\n",
       "      <th>RNF41</th>\n",
       "      <th>RNF41</th>\n",
       "      <th>MYT1</th>\n",
       "      <th>MYT1</th>\n",
       "      <th>MYT1</th>\n",
       "      <th>MYT1</th>\n",
       "      <th>MYT1</th>\n",
       "    </tr>\n",
       "  </thead>\n",
       "  <tbody>\n",
       "    <tr>\n",
       "      <th>RNF41</th>\n",
       "      <td>1.000000</td>\n",
       "      <td>0.623194</td>\n",
       "      <td>0.481836</td>\n",
       "      <td>0.576382</td>\n",
       "      <td>0.441546</td>\n",
       "      <td>-0.403901</td>\n",
       "      <td>-0.301635</td>\n",
       "      <td>-0.274413</td>\n",
       "      <td>-0.353588</td>\n",
       "      <td>-0.397900</td>\n",
       "    </tr>\n",
       "    <tr>\n",
       "      <th>RNF41</th>\n",
       "      <td>0.623194</td>\n",
       "      <td>1.000000</td>\n",
       "      <td>0.535665</td>\n",
       "      <td>0.584283</td>\n",
       "      <td>0.422706</td>\n",
       "      <td>-0.341055</td>\n",
       "      <td>-0.323589</td>\n",
       "      <td>-0.291632</td>\n",
       "      <td>-0.305618</td>\n",
       "      <td>-0.368783</td>\n",
       "    </tr>\n",
       "    <tr>\n",
       "      <th>RNF41</th>\n",
       "      <td>0.481836</td>\n",
       "      <td>0.535665</td>\n",
       "      <td>1.000000</td>\n",
       "      <td>0.546259</td>\n",
       "      <td>0.432326</td>\n",
       "      <td>-0.325550</td>\n",
       "      <td>-0.255443</td>\n",
       "      <td>-0.211824</td>\n",
       "      <td>-0.315934</td>\n",
       "      <td>-0.420457</td>\n",
       "    </tr>\n",
       "    <tr>\n",
       "      <th>RNF41</th>\n",
       "      <td>0.576382</td>\n",
       "      <td>0.584283</td>\n",
       "      <td>0.546259</td>\n",
       "      <td>1.000000</td>\n",
       "      <td>0.509560</td>\n",
       "      <td>-0.303728</td>\n",
       "      <td>-0.286373</td>\n",
       "      <td>-0.275737</td>\n",
       "      <td>-0.376927</td>\n",
       "      <td>-0.449287</td>\n",
       "    </tr>\n",
       "    <tr>\n",
       "      <th>RNF41</th>\n",
       "      <td>0.441546</td>\n",
       "      <td>0.422706</td>\n",
       "      <td>0.432326</td>\n",
       "      <td>0.509560</td>\n",
       "      <td>1.000000</td>\n",
       "      <td>-0.293400</td>\n",
       "      <td>-0.221352</td>\n",
       "      <td>-0.192797</td>\n",
       "      <td>-0.293758</td>\n",
       "      <td>-0.374676</td>\n",
       "    </tr>\n",
       "  </tbody>\n",
       "</table>\n",
       "</div>"
      ],
      "text/plain": [
       "          RNF41     RNF41     RNF41     RNF41     RNF41      MYT1      MYT1  \\\n",
       "RNF41  1.000000  0.623194  0.481836  0.576382  0.441546 -0.403901 -0.301635   \n",
       "RNF41  0.623194  1.000000  0.535665  0.584283  0.422706 -0.341055 -0.323589   \n",
       "RNF41  0.481836  0.535665  1.000000  0.546259  0.432326 -0.325550 -0.255443   \n",
       "RNF41  0.576382  0.584283  0.546259  1.000000  0.509560 -0.303728 -0.286373   \n",
       "RNF41  0.441546  0.422706  0.432326  0.509560  1.000000 -0.293400 -0.221352   \n",
       "\n",
       "           MYT1      MYT1      MYT1  \n",
       "RNF41 -0.274413 -0.353588 -0.397900  \n",
       "RNF41 -0.291632 -0.305618 -0.368783  \n",
       "RNF41 -0.211824 -0.315934 -0.420457  \n",
       "RNF41 -0.275737 -0.376927 -0.449287  \n",
       "RNF41 -0.192797 -0.293758 -0.374676  "
      ]
     },
     "execution_count": 7,
     "metadata": {},
     "output_type": "execute_result"
    }
   ],
   "source": [
    "cosine_sim_df.head()"
   ]
  },
  {
   "cell_type": "code",
   "execution_count": 8,
   "metadata": {},
   "outputs": [
    {
     "data": {
      "image/png": "[encoded data removed]",
      "text/plain": [
       "<Figure size 1000x1000 with 4 Axes>"
      ]
     },
     "metadata": {},
     "output_type": "display_data"
    }
   ],
   "source": [
    "# Plot heatmap\n",
    "\n",
    "f = sns.clustermap(\n",
    "    cosine_sim_df,\n",
    "    cmap=\"RdBu\",\n",
    "    vmin=-1,\n",
    "    vmax=1,\n",
    "    xticklabels=True,\n",
    "    yticklabels=True,\n",
    "    annot=True,\n",
    ")\n",
    "\n",
    "f.ax_heatmap.set(xlabel=\"Genes\", ylabel=\"Genes\")\n",
    "\n",
    "f.ax_heatmap.xaxis.label.set_size(12)\n",
    "f.ax_heatmap.yaxis.label.set_size(12)\n",
    "\n",
    "f.ax_heatmap.set_title(\"MYT1-RNF41 connections\", fontsize=16, y=1.25)\n",
    "\n",
    "f.savefig(\"figures/MYT1-RNF41_similarities.png\")\n",
    "f.savefig(\"figures/MYT1-RNF41_similarities.svg\")"
   ]
  },
  {
   "cell_type": "code",
   "execution_count": 9,
   "metadata": {},
   "outputs": [
    {
     "data": {
      "text/html": [
       "<div>\n",
       "<style scoped>\n",
       "    .dataframe tbody tr th:only-of-type {\n",
       "        vertical-align: middle;\n",
       "    }\n",
       "\n",
       "    .dataframe tbody tr th {\n",
       "        vertical-align: top;\n",
       "    }\n",
       "\n",
       "    .dataframe thead th {\n",
       "        text-align: right;\n",
       "    }\n",
       "</style>\n",
       "<table border=\"1\" class=\"dataframe\">\n",
       "  <thead>\n",
       "    <tr style=\"text-align: right;\">\n",
       "      <th></th>\n",
       "      <th>Metadata_Source</th>\n",
       "      <th>Metadata_Plate</th>\n",
       "      <th>Metadata_Well</th>\n",
       "      <th>Metadata_JCP2022</th>\n",
       "      <th>Metadata_Symbol</th>\n",
       "      <th>Cells_AreaShape_Area</th>\n",
       "      <th>Cells_AreaShape_BoundingBoxArea</th>\n",
       "      <th>Cells_AreaShape_BoundingBoxMaximum_X</th>\n",
       "      <th>Cells_AreaShape_BoundingBoxMaximum_Y</th>\n",
       "      <th>Cells_AreaShape_BoundingBoxMinimum_X</th>\n",
       "      <th>...</th>\n",
       "      <th>Nuclei_Texture_Variance_RNA_10_02_256</th>\n",
       "      <th>Nuclei_Texture_Variance_RNA_10_03_256</th>\n",
       "      <th>Nuclei_Texture_Variance_RNA_3_00_256</th>\n",
       "      <th>Nuclei_Texture_Variance_RNA_3_01_256</th>\n",
       "      <th>Nuclei_Texture_Variance_RNA_3_02_256</th>\n",
       "      <th>Nuclei_Texture_Variance_RNA_3_03_256</th>\n",
       "      <th>Nuclei_Texture_Variance_RNA_5_00_256</th>\n",
       "      <th>Nuclei_Texture_Variance_RNA_5_01_256</th>\n",
       "      <th>Nuclei_Texture_Variance_RNA_5_02_256</th>\n",
       "      <th>Nuclei_Texture_Variance_RNA_5_03_256</th>\n",
       "    </tr>\n",
       "  </thead>\n",
       "  <tbody>\n",
       "    <tr>\n",
       "      <th>0</th>\n",
       "      <td>source_4</td>\n",
       "      <td>BR00121547</td>\n",
       "      <td>C03</td>\n",
       "      <td>JCP2022_902199</td>\n",
       "      <td>RNF41</td>\n",
       "      <td>1.226954</td>\n",
       "      <td>1.567175</td>\n",
       "      <td>1.094613</td>\n",
       "      <td>0.062425</td>\n",
       "      <td>0.755202</td>\n",
       "      <td>...</td>\n",
       "      <td>0.877546</td>\n",
       "      <td>0.836630</td>\n",
       "      <td>0.816269</td>\n",
       "      <td>0.814545</td>\n",
       "      <td>0.788805</td>\n",
       "      <td>0.787544</td>\n",
       "      <td>0.824995</td>\n",
       "      <td>0.806911</td>\n",
       "      <td>0.807318</td>\n",
       "      <td>0.807995</td>\n",
       "    </tr>\n",
       "    <tr>\n",
       "      <th>1</th>\n",
       "      <td>source_4</td>\n",
       "      <td>BR00121562</td>\n",
       "      <td>I08</td>\n",
       "      <td>JCP2022_910239</td>\n",
       "      <td>MYT1</td>\n",
       "      <td>-0.690802</td>\n",
       "      <td>-1.168962</td>\n",
       "      <td>-1.440234</td>\n",
       "      <td>1.078396</td>\n",
       "      <td>-1.244690</td>\n",
       "      <td>...</td>\n",
       "      <td>-0.291057</td>\n",
       "      <td>-0.584193</td>\n",
       "      <td>-0.275943</td>\n",
       "      <td>-0.404181</td>\n",
       "      <td>-0.408087</td>\n",
       "      <td>-0.369660</td>\n",
       "      <td>-0.342646</td>\n",
       "      <td>-0.428945</td>\n",
       "      <td>-0.430834</td>\n",
       "      <td>-0.439444</td>\n",
       "    </tr>\n",
       "  </tbody>\n",
       "</table>\n",
       "<p>2 rows × 3641 columns</p>\n",
       "</div>"
      ],
      "text/plain": [
       "  Metadata_Source Metadata_Plate Metadata_Well Metadata_JCP2022  \\\n",
       "0        source_4     BR00121547           C03   JCP2022_902199   \n",
       "1        source_4     BR00121562           I08   JCP2022_910239   \n",
       "\n",
       "  Metadata_Symbol  Cells_AreaShape_Area  Cells_AreaShape_BoundingBoxArea  \\\n",
       "0           RNF41              1.226954                         1.567175   \n",
       "1            MYT1             -0.690802                        -1.168962   \n",
       "\n",
       "   Cells_AreaShape_BoundingBoxMaximum_X  Cells_AreaShape_BoundingBoxMaximum_Y  \\\n",
       "0                              1.094613                              0.062425   \n",
       "1                             -1.440234                              1.078396   \n",
       "\n",
       "   Cells_AreaShape_BoundingBoxMinimum_X  ...  \\\n",
       "0                              0.755202  ...   \n",
       "1                             -1.244690  ...   \n",
       "\n",
       "   Nuclei_Texture_Variance_RNA_10_02_256  \\\n",
       "0                               0.877546   \n",
       "1                              -0.291057   \n",
       "\n",
       "   Nuclei_Texture_Variance_RNA_10_03_256  \\\n",
       "0                               0.836630   \n",
       "1                              -0.584193   \n",
       "\n",
       "   Nuclei_Texture_Variance_RNA_3_00_256  Nuclei_Texture_Variance_RNA_3_01_256  \\\n",
       "0                              0.816269                              0.814545   \n",
       "1                             -0.275943                             -0.404181   \n",
       "\n",
       "   Nuclei_Texture_Variance_RNA_3_02_256  Nuclei_Texture_Variance_RNA_3_03_256  \\\n",
       "0                              0.788805                              0.787544   \n",
       "1                             -0.408087                             -0.369660   \n",
       "\n",
       "   Nuclei_Texture_Variance_RNA_5_00_256  Nuclei_Texture_Variance_RNA_5_01_256  \\\n",
       "0                              0.824995                              0.806911   \n",
       "1                             -0.342646                             -0.428945   \n",
       "\n",
       "   Nuclei_Texture_Variance_RNA_5_02_256  Nuclei_Texture_Variance_RNA_5_03_256  \n",
       "0                              0.807318                              0.807995  \n",
       "1                             -0.430834                             -0.439444  \n",
       "\n",
       "[2 rows x 3641 columns]"
      ]
     },
     "execution_count": 9,
     "metadata": {},
     "output_type": "execute_result"
    }
   ],
   "source": [
    "orf_profiles_with_feature_names_df = utils.consensus(\n",
    "    pd.read_parquet(\"../profiles/profiles_wellpos_cc_var_mad_outlier_orf.parquet\")\n",
    "    .merge(orf_metadata_df, on=\"Metadata_JCP2022\", how=\"inner\")\n",
    "    .query('Metadata_Symbol==\"MYT1\" or Metadata_Symbol==\"RNF41\"'),\n",
    "    \"Metadata_JCP2022\",\n",
    ")\n",
    "\n",
    "orf_profiles_with_feature_names_df.head()"
   ]
  },
  {
   "cell_type": "code",
   "execution_count": 10,
   "metadata": {},
   "outputs": [
    {
     "data": {
      "text/html": [
       "<div>\n",
       "<style scoped>\n",
       "    .dataframe tbody tr th:only-of-type {\n",
       "        vertical-align: middle;\n",
       "    }\n",
       "\n",
       "    .dataframe tbody tr th {\n",
       "        vertical-align: top;\n",
       "    }\n",
       "\n",
       "    .dataframe thead th {\n",
       "        text-align: right;\n",
       "    }\n",
       "</style>\n",
       "<table border=\"1\" class=\"dataframe\">\n",
       "  <thead>\n",
       "    <tr style=\"text-align: right;\">\n",
       "      <th></th>\n",
       "      <th>feature</th>\n",
       "      <th>compartment</th>\n",
       "      <th>feature_group</th>\n",
       "      <th>feature_type</th>\n",
       "      <th>channel</th>\n",
       "    </tr>\n",
       "  </thead>\n",
       "  <tbody>\n",
       "    <tr>\n",
       "      <th>0</th>\n",
       "      <td>Cells_AreaShape_Area</td>\n",
       "      <td>Cells</td>\n",
       "      <td>AreaShape</td>\n",
       "      <td>Area</td>\n",
       "      <td>XNONE</td>\n",
       "    </tr>\n",
       "    <tr>\n",
       "      <th>1</th>\n",
       "      <td>Cells_AreaShape_BoundingBoxArea</td>\n",
       "      <td>Cells</td>\n",
       "      <td>AreaShape</td>\n",
       "      <td>BoundingBoxArea</td>\n",
       "      <td>XNONE</td>\n",
       "    </tr>\n",
       "    <tr>\n",
       "      <th>2</th>\n",
       "      <td>Cells_AreaShape_BoundingBoxMaximum_X</td>\n",
       "      <td>Cells</td>\n",
       "      <td>AreaShape</td>\n",
       "      <td>BoundingBoxMaximum</td>\n",
       "      <td>XNONE</td>\n",
       "    </tr>\n",
       "    <tr>\n",
       "      <th>3</th>\n",
       "      <td>Cells_AreaShape_BoundingBoxMaximum_Y</td>\n",
       "      <td>Cells</td>\n",
       "      <td>AreaShape</td>\n",
       "      <td>BoundingBoxMaximum</td>\n",
       "      <td>XNONE</td>\n",
       "    </tr>\n",
       "    <tr>\n",
       "      <th>4</th>\n",
       "      <td>Cells_AreaShape_BoundingBoxMinimum_X</td>\n",
       "      <td>Cells</td>\n",
       "      <td>AreaShape</td>\n",
       "      <td>BoundingBoxMinimum</td>\n",
       "      <td>XNONE</td>\n",
       "    </tr>\n",
       "  </tbody>\n",
       "</table>\n",
       "</div>"
      ],
      "text/plain": [
       "                                feature compartment feature_group  \\\n",
       "0                  Cells_AreaShape_Area       Cells     AreaShape   \n",
       "1       Cells_AreaShape_BoundingBoxArea       Cells     AreaShape   \n",
       "2  Cells_AreaShape_BoundingBoxMaximum_X       Cells     AreaShape   \n",
       "3  Cells_AreaShape_BoundingBoxMaximum_Y       Cells     AreaShape   \n",
       "4  Cells_AreaShape_BoundingBoxMinimum_X       Cells     AreaShape   \n",
       "\n",
       "         feature_type channel  \n",
       "0                Area   XNONE  \n",
       "1     BoundingBoxArea   XNONE  \n",
       "2  BoundingBoxMaximum   XNONE  \n",
       "3  BoundingBoxMaximum   XNONE  \n",
       "4  BoundingBoxMinimum   XNONE  "
      ]
     },
     "execution_count": 10,
     "metadata": {},
     "output_type": "execute_result"
    }
   ],
   "source": [
    "feature_names = utils.get_featurecols(orf_profiles_with_feature_names_df)\n",
    "\n",
    "feature_name_interpretation_df = pd.DataFrame()\n",
    "\n",
    "for feature_name in feature_names:\n",
    "    df = pd.DataFrame(utils.parse_cp_features(feature_name), index=[0])\n",
    "    feature_name_interpretation_df = pd.concat([feature_name_interpretation_df, df], ignore_index=True)\n",
    "\n",
    "feature_name_interpretation_df.head()"
   ]
  },
  {
   "cell_type": "code",
   "execution_count": 11,
   "metadata": {},
   "outputs": [],
   "source": [
    "feature_group = \"AreaShape\"\n",
    "feature_group_list = [\"Texture\", \"Intensity\", \"RadialDistribution\"]\n",
    "compartments = [\"Cells\", \"Cytoplasm\", \"Nuclei\"]\n",
    "channels = [\"DNA\", \"RNA\", \"Mito\", \"ER\", \"AGP\"]"
   ]
  },
  {
   "cell_type": "code",
   "execution_count": 12,
   "metadata": {},
   "outputs": [
    {
     "data": {
      "application/vnd.jupyter.widget-view+json": {
       "model_id": "94c6499ace6042a187f27d7fc1d39a0a",
       "version_major": 2,
       "version_minor": 0
      },
      "text/plain": [
       "  0%|          | 0/1 [00:00<?, ?it/s]"
      ]
     },
     "metadata": {},
     "output_type": "display_data"
    },
    {
     "data": {
      "application/vnd.jupyter.widget-view+json": {
       "model_id": "b952adeb6f9b49b5b6573de3b1785d5d",
       "version_major": 2,
       "version_minor": 0
      },
      "text/plain": [
       "  0%|          | 0/1 [00:00<?, ?it/s]"
      ]
     },
     "metadata": {},
     "output_type": "display_data"
    },
    {
     "data": {
      "application/vnd.jupyter.widget-view+json": {
       "model_id": "8f9213997c6441c891dbb03f9ca4d13e",
       "version_major": 2,
       "version_minor": 0
      },
      "text/plain": [
       "  0%|          | 0/1 [00:00<?, ?it/s]"
      ]
     },
     "metadata": {},
     "output_type": "display_data"
    }
   ],
   "source": [
    "compartment_feature_group_df = pd.DataFrame()\n",
    "\n",
    "for compartment in compartments:\n",
    "    feature_cols = (\n",
    "        feature_name_interpretation_df.query(\"feature_group==@feature_group\")\n",
    "        .query(\"compartment==@compartment\")\n",
    "        .feature.to_list()\n",
    "    )\n",
    "    feature_values = orf_profiles_with_feature_names_df[feature_cols].copy().values\n",
    "    id = list(orf_profiles_with_feature_names_df[\"Metadata_Symbol\"])\n",
    "\n",
    "    cosine_sim_df = utils.cosine_similarity(id, feature_values)\n",
    "\n",
    "    df = pd.DataFrame(\n",
    "        {\n",
    "            \"Compartment\": compartment,\n",
    "            \"Feature_group\": feature_group,\n",
    "            \"Similarity\": cosine_sim_df.loc[id[0], id[1]],\n",
    "        },\n",
    "        index=[0],\n",
    "    )\n",
    "\n",
    "    compartment_feature_group_df = pd.concat(\n",
    "        [compartment_feature_group_df, df], ignore_index=True\n",
    "    )\n",
    "\n",
    "compartment_feature_group_df = compartment_feature_group_df.pivot(\n",
    "    index=\"Feature_group\", columns=\"Compartment\", values=\"Similarity\"\n",
    ")"
   ]
  },
  {
   "cell_type": "code",
   "execution_count": 13,
   "metadata": {},
   "outputs": [
    {
     "name": "stdout",
     "output_type": "stream",
     "text": [
      "| Feature_group   |     Cells |   Cytoplasm |    Nuclei |\n",
      "|:----------------|----------:|------------:|----------:|\n",
      "| AreaShape       | -0.600811 |   -0.642041 | -0.698311 |\n"
     ]
    }
   ],
   "source": [
    "print(compartment_feature_group_df.to_markdown())"
   ]
  },
  {
   "cell_type": "code",
   "execution_count": 14,
   "metadata": {},
   "outputs": [
    {
     "data": {
      "image/png": "[encoded data removed]",
      "text/plain": [
       "<Figure size 640x480 with 2 Axes>"
      ]
     },
     "metadata": {},
     "output_type": "display_data"
    }
   ],
   "source": [
    "f = sns.heatmap(\n",
    "    compartment_feature_group_df,\n",
    "    cmap=\"RdBu\",\n",
    "    vmin=-1,\n",
    "    vmax=1,\n",
    "    xticklabels=True,\n",
    "    yticklabels=True,\n",
    "    annot=True,\n",
    ")\n",
    "\n",
    "f.set(xlabel=\"Compartment\", ylabel=\"Feature Group\")\n",
    "\n",
    "f.xaxis.label.set_size(12)\n",
    "f.yaxis.label.set_size(12)\n",
    "\n",
    "f.set_title(\"MYT1-RNF41 Feature group  vs. compartment\", fontsize=14)\n",
    "\n",
    "plt.savefig(\"figures/MYT1-RNF41_area_size_compartment.png\")\n",
    "plt.savefig(\"figures/MYT1-RNF41_area_size_compartment.svg\")"
   ]
  },
  {
   "cell_type": "code",
   "execution_count": 15,
   "metadata": {},
   "outputs": [
    {
     "data": {
      "application/vnd.jupyter.widget-view+json": {
       "model_id": "88cb4f601a614cbc959b30221605990c",
       "version_major": 2,
       "version_minor": 0
      },
      "text/plain": [
       "  0%|          | 0/1 [00:00<?, ?it/s]"
      ]
     },
     "metadata": {},
     "output_type": "display_data"
    },
    {
     "data": {
      "application/vnd.jupyter.widget-view+json": {
       "model_id": "77748b7df2c94ab4885758607a76b4ad",
       "version_major": 2,
       "version_minor": 0
      },
      "text/plain": [
       "  0%|          | 0/1 [00:00<?, ?it/s]"
      ]
     },
     "metadata": {},
     "output_type": "display_data"
    },
    {
     "data": {
      "application/vnd.jupyter.widget-view+json": {
       "model_id": "6e321df0a38b4547808ad333d02fc74e",
       "version_major": 2,
       "version_minor": 0
      },
      "text/plain": [
       "  0%|          | 0/1 [00:00<?, ?it/s]"
      ]
     },
     "metadata": {},
     "output_type": "display_data"
    },
    {
     "data": {
      "application/vnd.jupyter.widget-view+json": {
       "model_id": "8dfe4636c4b34c4280dd165592962a48",
       "version_major": 2,
       "version_minor": 0
      },
      "text/plain": [
       "  0%|          | 0/1 [00:00<?, ?it/s]"
      ]
     },
     "metadata": {},
     "output_type": "display_data"
    },
    {
     "data": {
      "application/vnd.jupyter.widget-view+json": {
       "model_id": "5a0439e3a68c4783a3d781a05b5664e2",
       "version_major": 2,
       "version_minor": 0
      },
      "text/plain": [
       "  0%|          | 0/1 [00:00<?, ?it/s]"
      ]
     },
     "metadata": {},
     "output_type": "display_data"
    },
    {
     "data": {
      "application/vnd.jupyter.widget-view+json": {
       "model_id": "1bf291a581ea4ce49768fd93d3699217",
       "version_major": 2,
       "version_minor": 0
      },
      "text/plain": [
       "  0%|          | 0/1 [00:00<?, ?it/s]"
      ]
     },
     "metadata": {},
     "output_type": "display_data"
    },
    {
     "data": {
      "application/vnd.jupyter.widget-view+json": {
       "model_id": "03403d3780a4478f831ca0a8fc75009d",
       "version_major": 2,
       "version_minor": 0
      },
      "text/plain": [
       "  0%|          | 0/1 [00:00<?, ?it/s]"
      ]
     },
     "metadata": {},
     "output_type": "display_data"
    },
    {
     "data": {
      "application/vnd.jupyter.widget-view+json": {
       "model_id": "e33cd835f2a14b0eaf6143c9c9905bc5",
       "version_major": 2,
       "version_minor": 0
      },
      "text/plain": [
       "  0%|          | 0/1 [00:00<?, ?it/s]"
      ]
     },
     "metadata": {},
     "output_type": "display_data"
    },
    {
     "data": {
      "application/vnd.jupyter.widget-view+json": {
       "model_id": "5e398f3810064ac8a0c7964b3cba17ed",
       "version_major": 2,
       "version_minor": 0
      },
      "text/plain": [
       "  0%|          | 0/1 [00:00<?, ?it/s]"
      ]
     },
     "metadata": {},
     "output_type": "display_data"
    },
    {
     "data": {
      "application/vnd.jupyter.widget-view+json": {
       "model_id": "d367cc59dc7345dbbecf3bd2bd3a50a7",
       "version_major": 2,
       "version_minor": 0
      },
      "text/plain": [
       "  0%|          | 0/1 [00:00<?, ?it/s]"
      ]
     },
     "metadata": {},
     "output_type": "display_data"
    },
    {
     "data": {
      "application/vnd.jupyter.widget-view+json": {
       "model_id": "f243fe241ed641aa96a8a52ee618b41e",
       "version_major": 2,
       "version_minor": 0
      },
      "text/plain": [
       "  0%|          | 0/1 [00:00<?, ?it/s]"
      ]
     },
     "metadata": {},
     "output_type": "display_data"
    },
    {
     "data": {
      "application/vnd.jupyter.widget-view+json": {
       "model_id": "feb19ad86827483da4252a20d6e31017",
       "version_major": 2,
       "version_minor": 0
      },
      "text/plain": [
       "  0%|          | 0/1 [00:00<?, ?it/s]"
      ]
     },
     "metadata": {},
     "output_type": "display_data"
    },
    {
     "data": {
      "application/vnd.jupyter.widget-view+json": {
       "model_id": "1b80c72cba514661a7e31efc51aebe73",
       "version_major": 2,
       "version_minor": 0
      },
      "text/plain": [
       "  0%|          | 0/1 [00:00<?, ?it/s]"
      ]
     },
     "metadata": {},
     "output_type": "display_data"
    },
    {
     "data": {
      "application/vnd.jupyter.widget-view+json": {
       "model_id": "87338b9a67f5423c9b68a6f922f0f990",
       "version_major": 2,
       "version_minor": 0
      },
      "text/plain": [
       "  0%|          | 0/1 [00:00<?, ?it/s]"
      ]
     },
     "metadata": {},
     "output_type": "display_data"
    },
    {
     "data": {
      "application/vnd.jupyter.widget-view+json": {
       "model_id": "b890ad1d42de485bae04f672e2753d73",
       "version_major": 2,
       "version_minor": 0
      },
      "text/plain": [
       "  0%|          | 0/1 [00:00<?, ?it/s]"
      ]
     },
     "metadata": {},
     "output_type": "display_data"
    }
   ],
   "source": [
    "channel_feature_group_df = pd.DataFrame()\n",
    "\n",
    "for channel in channels:\n",
    "    for feature_group in feature_group_list:\n",
    "        feature_cols = (\n",
    "            feature_name_interpretation_df.query(\"feature_group==@feature_group\")\n",
    "            .query(\"channel==@channel\")\n",
    "            .feature.to_list()\n",
    "        )\n",
    "        feature_values = orf_profiles_with_feature_names_df[feature_cols].copy().values\n",
    "        id = list(orf_profiles_with_feature_names_df[\"Metadata_Symbol\"])\n",
    "\n",
    "        cosine_sim_df = utils.cosine_similarity(id, feature_values)\n",
    "\n",
    "        df = pd.DataFrame(\n",
    "            {\n",
    "                \"Channel\": channel,\n",
    "                \"Feature_group\": feature_group,\n",
    "                \"Similarity\": cosine_sim_df.loc[id[0], id[1]],\n",
    "            },\n",
    "            index=[0],\n",
    "        )\n",
    "\n",
    "        channel_feature_group_df = pd.concat(\n",
    "            [channel_feature_group_df, df], ignore_index=True\n",
    "        )\n",
    "\n",
    "channel_feature_group_df = channel_feature_group_df.pivot(\n",
    "    index=\"Feature_group\", columns=\"Channel\", values=\"Similarity\"\n",
    ")"
   ]
  },
  {
   "cell_type": "code",
   "execution_count": 16,
   "metadata": {},
   "outputs": [
    {
     "name": "stdout",
     "output_type": "stream",
     "text": [
      "| Feature_group      |       AGP |       DNA |        ER |      Mito |        RNA |\n",
      "|:-------------------|----------:|----------:|----------:|----------:|-----------:|\n",
      "| Intensity          | -0.383413 | -0.691115 | -0.774888 | -0.884678 | -0.733105  |\n",
      "| RadialDistribution | -0.831001 | -0.806229 | -0.846459 | -0.909176 | -0.812161  |\n",
      "| Texture            | -0.771547 | -0.409865 | -0.654464 | -0.882929 |  0.0377073 |\n"
     ]
    }
   ],
   "source": [
    "print(channel_feature_group_df.to_markdown())"
   ]
  },
  {
   "cell_type": "code",
   "execution_count": 17,
   "metadata": {},
   "outputs": [
    {
     "data": {
      "image/png": "[encoded data removed]",
      "text/plain": [
       "<Figure size 640x480 with 2 Axes>"
      ]
     },
     "metadata": {},
     "output_type": "display_data"
    }
   ],
   "source": [
    "f = sns.heatmap(\n",
    "    channel_feature_group_df,\n",
    "    cmap=\"RdBu\",\n",
    "    vmin=-1,\n",
    "    vmax=1,\n",
    "    xticklabels=True,\n",
    "    yticklabels=True,\n",
    "    annot=True,\n",
    ")\n",
    "\n",
    "f.set(xlabel=\"Channel\", ylabel=\"Feature Group\")\n",
    "\n",
    "f.xaxis.label.set_size(12)\n",
    "f.yaxis.label.set_size(12)\n",
    "\n",
    "f.set_title(\"MYT1-RNF41 Feature group  vs. channel\", fontsize=14)\n",
    "\n",
    "plt.savefig(\"figures/MYT1-RNF41_feature_group_channel.png\")\n",
    "plt.savefig(\"figures/MYT1-RNF41_feature_group_channel.svg\")"
   ]
  }
 ],
 "metadata": {
  "kernelspec": {
   "display_name": "similarity",
   "language": "python",
   "name": "python3"
  },
  "language_info": {
   "codemirror_mode": {
    "name": "ipython",
    "version": 3
   },
   "file_extension": ".py",
   "mimetype": "text/x-python",
   "name": "python",
   "nbconvert_exporter": "python",
   "pygments_lexer": "ipython3",
   "version": "3.10.6"
  }
 },
 "nbformat": 4,
 "nbformat_minor": 2
}
