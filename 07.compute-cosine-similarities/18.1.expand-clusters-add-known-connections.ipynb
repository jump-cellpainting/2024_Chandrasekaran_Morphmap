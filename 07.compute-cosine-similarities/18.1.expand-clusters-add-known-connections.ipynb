{
 "cells": [
  {
   "cell_type": "code",
   "execution_count": 1,
   "metadata": {},
   "outputs": [],
   "source": [
    "import pandas as pd\n",
    "import numpy as np"
   ]
  },
  {
   "cell_type": "code",
   "execution_count": 2,
   "metadata": {},
   "outputs": [],
   "source": [
    "orf_genesets = {\n",
    "    \"ECH1\": [\"SARS2\", \"ECH1\", \"DGUOK\", \"MRPS2\", \"LDHAL6B\", \"UQCRFS1\"],\n",
    "    \"MYT1\": [\"MYT1\", \"LZTS2\", \"CHRM4\", \"GPR176\", \"TSC22D1\"],\n",
    "    \"RNF41\": [\"MYT1\", \"INSYN1\", \"RNF41\"],\n",
    "    \"RAB40B\": [\"ZFP36L1\", \"PIK3R3\", \"NRBP1\", \"INSYN1\", \"HOXC8\", \"RAB40C\", \"RAB40B\"],\n",
    "    \"YAP1\": [\"YAP1\", \"WWTR1\", \"VGLL4\", \"PRKCE\", \"STK3\", \"CEP72\", \"IL20RB\", \"MTMR9\"],\n",
    "}\n",
    "\n",
    "crispr_genesets = {\n",
    "    \"ECH1\": [\"SARS2\", \"ECH1\", \"PVR\", \"LAIR1\", \"SLC1A5\", \"UQCRFS1\"],\n",
    "    \"MYT1\": [\"MYT1\", \"CHRM4\", \"GPR176\", \"TSC22D1\"],\n",
    "    \"RAB40B\": [\"PIK3R3\", \"ZFP36L1\", \"HOXC8\", \"NRBP1\", \"RAB40B\"],\n",
    "}"
   ]
  },
  {
   "cell_type": "code",
   "execution_count": 3,
   "metadata": {},
   "outputs": [],
   "source": [
    "orf_similarity_percentile_df = pd.read_parquet(\"cos_sim/cosine_similarities_percentile_genes_orf.parquet\")\n",
    "\n",
    "crispr_similarity_percentile_df = pd.read_parquet(\"cos_sim/cosine_similarities_percentile_genes_crispr.parquet\")"
   ]
  },
  {
   "cell_type": "code",
   "execution_count": 4,
   "metadata": {},
   "outputs": [],
   "source": [
    "knowledge_graph_orf = pd.read_csv(\n",
    "    \"~/Downloads/orf_scores_merged.zip\",\n",
    "    sep=\"\\t\",\n",
    "    usecols=[\"GENE1\", \"GENE2\", \"gene_mf__go\", \"gene_bp__go\", \"gene_pathway\"],\n",
    ").rename(\n",
    "    columns={\n",
    "        \"GENE1\": \"gene_1\",\n",
    "        \"GENE2\": \"gene_2\",\n",
    "        \"gene_mf__go\": \"gene_mf\",\n",
    "        \"gene_bp__go\": \"gene_bp\",\n",
    "    }\n",
    ")\n",
    "\n",
    "knowledge_graph_orf = pd.concat(\n",
    "    [\n",
    "        knowledge_graph_orf,\n",
    "        knowledge_graph_orf.rename(columns={\"gene_1\": \"gene_2\", \"gene_2\": \"gene_1\"}),\n",
    "    ],\n",
    "    ignore_index=True,\n",
    ")\n",
    "\n",
    "knowledge_graph_orf = knowledge_graph_orf.assign(\n",
    "    gene_kg=lambda x: np.max(x[[ \"gene_mf\", \"gene_bp\", \"gene_pathway\"]].abs(), axis=1)\n",
    ").query(\"gene_1 != gene_2\").drop(columns=[\"gene_mf\", \"gene_bp\", \"gene_pathway\"])\n",
    "\n",
    "knowledge_graph_crispr = pd.read_csv(\n",
    "    \"~/Downloads/crispr_scores_merged.zip\",\n",
    "    sep=\"\\t\",\n",
    "    usecols=[\"GENE1\", \"GENE2\", \"gene_mf__go\", \"gene_bp__go\", \"gene_pathway\"],\n",
    ").rename(\n",
    "    columns={\n",
    "        \"GENE1\": \"gene_1\",\n",
    "        \"GENE2\": \"gene_2\",\n",
    "        \"gene_mf__go\": \"gene_mf\",\n",
    "        \"gene_bp__go\": \"gene_bp\",\n",
    "    }\n",
    ")\n",
    "\n",
    "knowledge_graph_crispr = pd.concat(\n",
    "    [\n",
    "        knowledge_graph_crispr,\n",
    "        knowledge_graph_crispr.rename(columns={\"gene_1\": \"gene_2\", \"gene_2\": \"gene_1\"}),\n",
    "    ],\n",
    "    ignore_index=True,\n",
    ")\n",
    "\n",
    "knowledge_graph_crispr = knowledge_graph_crispr.assign(\n",
    "    gene_kg=lambda x: np.max(x[[ \"gene_mf\", \"gene_bp\", \"gene_pathway\"]].abs(), axis=1)\n",
    ").query(\"gene_1 != gene_2\").drop(columns=[\"gene_mf\", \"gene_bp\", \"gene_pathway\"])"
   ]
  },
  {
   "cell_type": "code",
   "execution_count": 5,
   "metadata": {},
   "outputs": [
    {
     "name": "stdout",
     "output_type": "stream",
     "text": [
      "ECH1 ['SARS2', 'ECH1', 'DGUOK', 'MRPS2', 'LDHAL6B', 'UQCRFS1', 'ACADVL', 'HMGCL']\n",
      "MYT1 ['MYT1', 'LZTS2', 'CHRM4', 'GPR176', 'TSC22D1', 'NEUROD1', 'MSC']\n",
      "RNF41 ['MYT1', 'INSYN1', 'RNF41', 'PAK4', 'IKZF1']\n",
      "RAB40B ['ZFP36L1', 'PIK3R3', 'NRBP1', 'INSYN1', 'HOXC8', 'RAB40C', 'RAB40B', 'HTR1D', 'TUBA3D']\n",
      "YAP1 ['YAP1', 'WWTR1', 'VGLL4', 'PRKCE', 'STK3', 'CEP72', 'IL20RB', 'MTMR9', 'TXNIP', 'LDLRAD4']\n"
     ]
    }
   ],
   "source": [
    "for gene in orf_genesets:\n",
    "    geneset = orf_genesets[gene]\n",
    "    df = (\n",
    "        orf_similarity_percentile_df[gene]\n",
    "        .copy()\n",
    "        .reset_index()\n",
    "        .rename(columns={gene: \"similarity\"})\n",
    "        .assign(gene_2=gene)\n",
    "    )\n",
    "\n",
    "    df = df.merge(knowledge_graph_orf, on=[\"gene_1\", \"gene_2\"], how=\"left\")\n",
    "    df = df.query(\"gene_kg > 0.7\").query(\"gene_1 not in @geneset\").sort_values(\n",
    "        by=\"similarity\", ascending=False\n",
    "    )\n",
    "\n",
    "    geneset = geneset + df.head(2).gene_1.to_list()\n",
    "    print(gene, geneset)"
   ]
  },
  {
   "cell_type": "code",
   "execution_count": 6,
   "metadata": {},
   "outputs": [
    {
     "name": "stdout",
     "output_type": "stream",
     "text": [
      "ECH1 ['SARS2', 'ECH1', 'PVR', 'LAIR1', 'SLC1A5', 'UQCRFS1', 'CYP3A4', 'F2']\n",
      "MYT1 ['MYT1', 'CHRM4', 'GPR176', 'TSC22D1', 'GHRHR', 'SCX']\n",
      "RAB40B ['PIK3R3', 'ZFP36L1', 'HOXC8', 'NRBP1', 'RAB40B', 'F10', 'HTR1B']\n"
     ]
    }
   ],
   "source": [
    "for gene in crispr_genesets:\n",
    "    geneset = crispr_genesets[gene]\n",
    "    df = (\n",
    "        crispr_similarity_percentile_df[gene]\n",
    "        .copy()\n",
    "        .reset_index()\n",
    "        .rename(columns={gene: \"similarity\"})\n",
    "        .assign(gene_2=gene)\n",
    "    )\n",
    "\n",
    "    df = df.merge(knowledge_graph_crispr, on=[\"gene_1\", \"gene_2\"], how=\"left\")\n",
    "    df = df.query(\"gene_kg > 0.7\").query(\"gene_1 not in @geneset\").sort_values(\n",
    "        by=\"similarity\", ascending=False\n",
    "    )\n",
    "\n",
    "    geneset = geneset + df.head(2).gene_1.to_list()\n",
    "    print(gene, geneset)"
   ]
  }
 ],
 "metadata": {
  "kernelspec": {
   "display_name": "similarity",
   "language": "python",
   "name": "python3"
  },
  "language_info": {
   "codemirror_mode": {
    "name": "ipython",
    "version": 3
   },
   "file_extension": ".py",
   "mimetype": "text/x-python",
   "name": "python",
   "nbconvert_exporter": "python",
   "pygments_lexer": "ipython3",
   "version": "3.10.6"
  }
 },
 "nbformat": 4,
 "nbformat_minor": 2
}
