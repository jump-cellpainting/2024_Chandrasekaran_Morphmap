{
 "cells": [
  {
   "cell_type": "code",
   "execution_count": 1,
   "metadata": {},
   "outputs": [],
   "source": [
    "import pandas as pd\n",
    "import utils\n",
    "import numpy as np\n",
    "from tqdm import tqdm\n",
    "import logging\n",
    "\n",
    "logging.basicConfig(format=\"%(levelname)s:%(asctime)s:%(name)s:%(message)s\")\n",
    "logging.getLogger(\"copairs\").setLevel(logging.INFO)"
   ]
  },
  {
   "cell_type": "code",
   "execution_count": 2,
   "metadata": {},
   "outputs": [],
   "source": [
    "operations = \"wellpos_var_mad_int_featselect_harmony_PCA_corrected\"\n",
    "batch_size = 20000"
   ]
  },
  {
   "cell_type": "markdown",
   "metadata": {},
   "source": [
    "### Prepare the data"
   ]
  },
  {
   "cell_type": "markdown",
   "metadata": {},
   "source": [
    "#### Read the CRISPR parquet file"
   ]
  },
  {
   "cell_type": "code",
   "execution_count": 3,
   "metadata": {},
   "outputs": [],
   "source": [
    "crispr_df = pd.read_parquet(\n",
    "    f\"../profiles/profiles_{operations}.parquet\"\n",
    ")"
   ]
  },
  {
   "cell_type": "markdown",
   "metadata": {},
   "source": [
    "#### Remove empty wells and `negcon`s"
   ]
  },
  {
   "cell_type": "code",
   "execution_count": 4,
   "metadata": {},
   "outputs": [
    {
     "data": {
      "text/plain": [
       "(43707, 309)"
      ]
     },
     "execution_count": 4,
     "metadata": {},
     "output_type": "execute_result"
    }
   ],
   "source": [
    "crispr_df = utils.remove_negcon_empty_wells(crispr_df)\n",
    "crispr_df.shape"
   ]
  },
  {
   "cell_type": "markdown",
   "metadata": {},
   "source": [
    "#### Remove `poscon` wells."
   ]
  },
  {
   "cell_type": "code",
   "execution_count": 5,
   "metadata": {},
   "outputs": [
    {
     "data": {
      "text/plain": [
       "(43138, 309)"
      ]
     },
     "execution_count": 5,
     "metadata": {},
     "output_type": "execute_result"
    }
   ],
   "source": [
    "crispr_df = crispr_df.query('Metadata_Symbol!=\"PLK1\"').reset_index(drop=True)\n",
    "crispr_df.shape"
   ]
  },
  {
   "cell_type": "markdown",
   "metadata": {},
   "source": [
    "#### Remove ORF reagents without a phenotypic activity"
   ]
  },
  {
   "cell_type": "code",
   "execution_count": 6,
   "metadata": {},
   "outputs": [
    {
     "data": {
      "text/plain": [
       "(5685, 2)"
      ]
     },
     "execution_count": 6,
     "metadata": {},
     "output_type": "execute_result"
    }
   ],
   "source": [
    "crispr_phenotypic_activity_df = (\n",
    "    pd.read_csv(\n",
    "        f\"../03.retrieve-annotations/output/phenotypic-activity-{operations}.csv.gz\",\n",
    "        usecols=[\"Metadata_JCP2022\", \"below_corrected_p\"],\n",
    "    )\n",
    "    .rename(columns={\"below_corrected_p\": \"Metadata_below_corrected_p\"})\n",
    ").query(\"Metadata_below_corrected_p==True\")\n",
    "\n",
    "crispr_phenotypic_activity_df.shape"
   ]
  },
  {
   "cell_type": "code",
   "execution_count": 7,
   "metadata": {},
   "outputs": [
    {
     "data": {
      "text/plain": [
       "(30686, 310)"
      ]
     },
     "execution_count": 7,
     "metadata": {},
     "output_type": "execute_result"
    }
   ],
   "source": [
    "crispr_df = (\n",
    "    crispr_df.merge(crispr_phenotypic_activity_df, on=\"Metadata_JCP2022\", how=\"inner\")\n",
    "    .reset_index(drop=True)\n",
    ")\n",
    "\n",
    "crispr_df.shape"
   ]
  },
  {
   "cell_type": "markdown",
   "metadata": {},
   "source": [
    "### Create cosine similarity matrix"
   ]
  },
  {
   "cell_type": "markdown",
   "metadata": {},
   "source": [
    "#### Add Approved Symbols"
   ]
  },
  {
   "cell_type": "code",
   "execution_count": 8,
   "metadata": {},
   "outputs": [
    {
     "data": {
      "text/plain": [
       "(30686, 311)"
      ]
     },
     "execution_count": 8,
     "metadata": {},
     "output_type": "execute_result"
    }
   ],
   "source": [
    "crispr_metadata = pd.read_csv(\n",
    "    \"../00.download-and-process-annotations/output/crispr.csv.gz\",\n",
    "    usecols=[\"Metadata_JCP2022\", \"Metadata_Approved_Symbol\"],\n",
    ")\n",
    "\n",
    "crispr_df = crispr_df.drop(columns=[\"Metadata_Approved_symbol\"]).merge(\n",
    "    crispr_metadata, on=\"Metadata_JCP2022\", how=\"left\"\n",
    ")\n",
    "\n",
    "crispr_df = crispr_df.assign(\n",
    "    Metadata_Gene_Symbol=lambda x: np.where(\n",
    "        x.Metadata_Approved_Symbol.isna(), x.Metadata_Symbol, x.Metadata_Approved_Symbol\n",
    "    )\n",
    ")\n",
    "\n",
    "crispr_df.shape"
   ]
  },
  {
   "cell_type": "markdown",
   "metadata": {},
   "source": [
    "#### Create consensus profiles"
   ]
  },
  {
   "cell_type": "code",
   "execution_count": 9,
   "metadata": {},
   "outputs": [
    {
     "data": {
      "text/plain": [
       "(5684, 311)"
      ]
     },
     "execution_count": 9,
     "metadata": {},
     "output_type": "execute_result"
    }
   ],
   "source": [
    "consensus_df = utils.consensus(crispr_df, \"Metadata_Gene_Symbol\")\n",
    "consensus_df.shape"
   ]
  },
  {
   "cell_type": "code",
   "execution_count": 10,
   "metadata": {},
   "outputs": [],
   "source": [
    "pos_sameby = []\n",
    "pos_diffby = [\"Metadata_Gene_Symbol\"]\n",
    "neg_sameby = []\n",
    "neg_diffby = []"
   ]
  },
  {
   "cell_type": "code",
   "execution_count": 11,
   "metadata": {},
   "outputs": [],
   "source": [
    "metadata_df = utils.get_metadata(consensus_df)\n",
    "feature_df = utils.get_featuredata(consensus_df)\n",
    "feature_values = feature_df.values"
   ]
  },
  {
   "cell_type": "code",
   "execution_count": 12,
   "metadata": {},
   "outputs": [
    {
     "name": "stderr",
     "output_type": "stream",
     "text": [
      "INFO:2024-04-05 15:39:07,211:copairs:Finding positive pairs...\n",
      "INFO:2024-04-05 15:39:38,184:copairs:Computing positive similarities...\n"
     ]
    },
    {
     "data": {
      "application/vnd.jupyter.widget-view+json": {
       "model_id": "1b15a9caeef349ae9176936c575f2025",
       "version_major": 2,
       "version_minor": 0
      },
      "text/plain": [
       "  0%|          | 0/808 [00:00<?, ?it/s]"
      ]
     },
     "metadata": {},
     "output_type": "display_data"
    }
   ],
   "source": [
    "cosine_sim_df = utils.cosine_similarity(\n",
    "    metadata_df,\n",
    "    feature_values,\n",
    "    pos_sameby,\n",
    "    pos_diffby,\n",
    "    neg_sameby,\n",
    "    neg_diffby,\n",
    "    batch_size=batch_size,\n",
    ")"
   ]
  },
  {
   "cell_type": "code",
   "execution_count": 13,
   "metadata": {},
   "outputs": [
    {
     "data": {
      "text/html": [
       "<div>\n",
       "<style scoped>\n",
       "    .dataframe tbody tr th:only-of-type {\n",
       "        vertical-align: middle;\n",
       "    }\n",
       "\n",
       "    .dataframe tbody tr th {\n",
       "        vertical-align: top;\n",
       "    }\n",
       "\n",
       "    .dataframe thead th {\n",
       "        text-align: right;\n",
       "    }\n",
       "</style>\n",
       "<table border=\"1\" class=\"dataframe\">\n",
       "  <thead>\n",
       "    <tr style=\"text-align: right;\">\n",
       "      <th></th>\n",
       "      <th>PALS2</th>\n",
       "      <th>MRPL58</th>\n",
       "      <th>GUCY1B1</th>\n",
       "      <th>TAFAZZIN</th>\n",
       "      <th>MARS1</th>\n",
       "      <th>SARS1</th>\n",
       "      <th>ATP5PO</th>\n",
       "      <th>EPRS1</th>\n",
       "      <th>GFUS</th>\n",
       "      <th>TMT1B</th>\n",
       "      <th>...</th>\n",
       "      <th>MIB2</th>\n",
       "      <th>SPSB1</th>\n",
       "      <th>TP53I3</th>\n",
       "      <th>PLD5</th>\n",
       "      <th>SFXN1</th>\n",
       "      <th>BZW2</th>\n",
       "      <th>SIX6</th>\n",
       "      <th>SMARCA4</th>\n",
       "      <th>TGIF1</th>\n",
       "      <th>SPTLC1</th>\n",
       "    </tr>\n",
       "  </thead>\n",
       "  <tbody>\n",
       "    <tr>\n",
       "      <th>PALS2</th>\n",
       "      <td>1.000000</td>\n",
       "      <td>-0.422487</td>\n",
       "      <td>-0.210183</td>\n",
       "      <td>-0.740775</td>\n",
       "      <td>-0.055936</td>\n",
       "      <td>-0.068931</td>\n",
       "      <td>-0.587807</td>\n",
       "      <td>-0.414720</td>\n",
       "      <td>-0.572635</td>\n",
       "      <td>-0.622593</td>\n",
       "      <td>...</td>\n",
       "      <td>0.148122</td>\n",
       "      <td>-0.355132</td>\n",
       "      <td>0.178931</td>\n",
       "      <td>0.423990</td>\n",
       "      <td>0.559796</td>\n",
       "      <td>0.539070</td>\n",
       "      <td>-0.545599</td>\n",
       "      <td>0.478428</td>\n",
       "      <td>-0.359071</td>\n",
       "      <td>0.585360</td>\n",
       "    </tr>\n",
       "    <tr>\n",
       "      <th>MRPL58</th>\n",
       "      <td>-0.422487</td>\n",
       "      <td>1.000000</td>\n",
       "      <td>0.185705</td>\n",
       "      <td>0.595375</td>\n",
       "      <td>-0.467842</td>\n",
       "      <td>0.327467</td>\n",
       "      <td>0.553897</td>\n",
       "      <td>0.217571</td>\n",
       "      <td>-0.570478</td>\n",
       "      <td>0.011950</td>\n",
       "      <td>...</td>\n",
       "      <td>-0.389247</td>\n",
       "      <td>-0.051933</td>\n",
       "      <td>0.214238</td>\n",
       "      <td>0.303927</td>\n",
       "      <td>0.275834</td>\n",
       "      <td>0.223305</td>\n",
       "      <td>-0.128052</td>\n",
       "      <td>0.036010</td>\n",
       "      <td>-0.507883</td>\n",
       "      <td>0.394999</td>\n",
       "    </tr>\n",
       "    <tr>\n",
       "      <th>GUCY1B1</th>\n",
       "      <td>-0.210183</td>\n",
       "      <td>0.185705</td>\n",
       "      <td>1.000000</td>\n",
       "      <td>0.517195</td>\n",
       "      <td>0.008332</td>\n",
       "      <td>0.337339</td>\n",
       "      <td>0.381405</td>\n",
       "      <td>0.196439</td>\n",
       "      <td>0.523371</td>\n",
       "      <td>0.456519</td>\n",
       "      <td>...</td>\n",
       "      <td>-0.487900</td>\n",
       "      <td>0.540347</td>\n",
       "      <td>0.637117</td>\n",
       "      <td>-0.173665</td>\n",
       "      <td>0.622148</td>\n",
       "      <td>0.167815</td>\n",
       "      <td>-0.660105</td>\n",
       "      <td>0.482375</td>\n",
       "      <td>0.073153</td>\n",
       "      <td>-0.163348</td>\n",
       "    </tr>\n",
       "    <tr>\n",
       "      <th>TAFAZZIN</th>\n",
       "      <td>-0.740775</td>\n",
       "      <td>0.595375</td>\n",
       "      <td>0.517195</td>\n",
       "      <td>1.000000</td>\n",
       "      <td>0.020713</td>\n",
       "      <td>0.709119</td>\n",
       "      <td>0.614830</td>\n",
       "      <td>0.001276</td>\n",
       "      <td>-0.270886</td>\n",
       "      <td>0.057081</td>\n",
       "      <td>...</td>\n",
       "      <td>0.014641</td>\n",
       "      <td>0.188011</td>\n",
       "      <td>-0.252593</td>\n",
       "      <td>-0.049781</td>\n",
       "      <td>0.085963</td>\n",
       "      <td>-0.121196</td>\n",
       "      <td>0.149903</td>\n",
       "      <td>-0.316598</td>\n",
       "      <td>-0.062708</td>\n",
       "      <td>0.188427</td>\n",
       "    </tr>\n",
       "    <tr>\n",
       "      <th>MARS1</th>\n",
       "      <td>-0.055936</td>\n",
       "      <td>-0.467842</td>\n",
       "      <td>0.008332</td>\n",
       "      <td>0.020713</td>\n",
       "      <td>1.000000</td>\n",
       "      <td>0.101256</td>\n",
       "      <td>-0.196862</td>\n",
       "      <td>-0.042089</td>\n",
       "      <td>-0.354583</td>\n",
       "      <td>-0.003254</td>\n",
       "      <td>...</td>\n",
       "      <td>-0.014736</td>\n",
       "      <td>-0.166872</td>\n",
       "      <td>-0.267012</td>\n",
       "      <td>0.328517</td>\n",
       "      <td>0.045806</td>\n",
       "      <td>0.047072</td>\n",
       "      <td>0.176365</td>\n",
       "      <td>0.247710</td>\n",
       "      <td>-0.119467</td>\n",
       "      <td>0.016594</td>\n",
       "    </tr>\n",
       "  </tbody>\n",
       "</table>\n",
       "<p>5 rows × 5684 columns</p>\n",
       "</div>"
      ],
      "text/plain": [
       "             PALS2    MRPL58   GUCY1B1  TAFAZZIN     MARS1     SARS1  \\\n",
       "PALS2     1.000000 -0.422487 -0.210183 -0.740775 -0.055936 -0.068931   \n",
       "MRPL58   -0.422487  1.000000  0.185705  0.595375 -0.467842  0.327467   \n",
       "GUCY1B1  -0.210183  0.185705  1.000000  0.517195  0.008332  0.337339   \n",
       "TAFAZZIN -0.740775  0.595375  0.517195  1.000000  0.020713  0.709119   \n",
       "MARS1    -0.055936 -0.467842  0.008332  0.020713  1.000000  0.101256   \n",
       "\n",
       "            ATP5PO     EPRS1      GFUS     TMT1B  ...      MIB2     SPSB1  \\\n",
       "PALS2    -0.587807 -0.414720 -0.572635 -0.622593  ...  0.148122 -0.355132   \n",
       "MRPL58    0.553897  0.217571 -0.570478  0.011950  ... -0.389247 -0.051933   \n",
       "GUCY1B1   0.381405  0.196439  0.523371  0.456519  ... -0.487900  0.540347   \n",
       "TAFAZZIN  0.614830  0.001276 -0.270886  0.057081  ...  0.014641  0.188011   \n",
       "MARS1    -0.196862 -0.042089 -0.354583 -0.003254  ... -0.014736 -0.166872   \n",
       "\n",
       "            TP53I3      PLD5     SFXN1      BZW2      SIX6   SMARCA4  \\\n",
       "PALS2     0.178931  0.423990  0.559796  0.539070 -0.545599  0.478428   \n",
       "MRPL58    0.214238  0.303927  0.275834  0.223305 -0.128052  0.036010   \n",
       "GUCY1B1   0.637117 -0.173665  0.622148  0.167815 -0.660105  0.482375   \n",
       "TAFAZZIN -0.252593 -0.049781  0.085963 -0.121196  0.149903 -0.316598   \n",
       "MARS1    -0.267012  0.328517  0.045806  0.047072  0.176365  0.247710   \n",
       "\n",
       "             TGIF1    SPTLC1  \n",
       "PALS2    -0.359071  0.585360  \n",
       "MRPL58   -0.507883  0.394999  \n",
       "GUCY1B1   0.073153 -0.163348  \n",
       "TAFAZZIN -0.062708  0.188427  \n",
       "MARS1    -0.119467  0.016594  \n",
       "\n",
       "[5 rows x 5684 columns]"
      ]
     },
     "execution_count": 13,
     "metadata": {},
     "output_type": "execute_result"
    }
   ],
   "source": [
    "cosine_sim_df.head()"
   ]
  },
  {
   "cell_type": "code",
   "execution_count": 14,
   "metadata": {},
   "outputs": [],
   "source": [
    "cosine_sim_df.to_parquet(\n",
    "    f\"cos_sim/cosine_similarities_genes_crispr.parquet\", index=True\n",
    ")"
   ]
  }
 ],
 "metadata": {
  "kernelspec": {
   "display_name": "similarity",
   "language": "python",
   "name": "python3"
  },
  "language_info": {
   "codemirror_mode": {
    "name": "ipython",
    "version": 3
   },
   "file_extension": ".py",
   "mimetype": "text/x-python",
   "name": "python",
   "nbconvert_exporter": "python",
   "pygments_lexer": "ipython3",
   "version": "3.10.6"
  }
 },
 "nbformat": 4,
 "nbformat_minor": 2
}
