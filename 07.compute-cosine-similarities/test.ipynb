{
 "cells": [
  {
   "cell_type": "code",
   "execution_count": 80,
   "metadata": {},
   "outputs": [],
   "source": [
    "import seaborn as sns\n",
    "import matplotlib.pyplot as plt\n",
    "import pandas as pd\n",
    "import numpy as np"
   ]
  },
  {
   "cell_type": "code",
   "execution_count": 81,
   "metadata": {},
   "outputs": [
    {
     "data": {
      "text/html": [
       "<div>\n",
       "<style scoped>\n",
       "    .dataframe tbody tr th:only-of-type {\n",
       "        vertical-align: middle;\n",
       "    }\n",
       "\n",
       "    .dataframe tbody tr th {\n",
       "        vertical-align: top;\n",
       "    }\n",
       "\n",
       "    .dataframe thead th {\n",
       "        text-align: right;\n",
       "    }\n",
       "</style>\n",
       "<table border=\"1\" class=\"dataframe\">\n",
       "  <thead>\n",
       "    <tr style=\"text-align: right;\">\n",
       "      <th></th>\n",
       "      <th>Gene1</th>\n",
       "      <th>Gene2</th>\n",
       "      <th>Gene3</th>\n",
       "      <th>Gene4</th>\n",
       "    </tr>\n",
       "  </thead>\n",
       "  <tbody>\n",
       "    <tr>\n",
       "      <th>Gene1</th>\n",
       "      <td>1.00</td>\n",
       "      <td>0.89</td>\n",
       "      <td>-0.5</td>\n",
       "      <td>-0.8</td>\n",
       "    </tr>\n",
       "    <tr>\n",
       "      <th>Gene2</th>\n",
       "      <td>0.89</td>\n",
       "      <td>1.00</td>\n",
       "      <td>-0.4</td>\n",
       "      <td>-0.4</td>\n",
       "    </tr>\n",
       "    <tr>\n",
       "      <th>Gene3</th>\n",
       "      <td>-0.50</td>\n",
       "      <td>-0.40</td>\n",
       "      <td>1.0</td>\n",
       "      <td>0.7</td>\n",
       "    </tr>\n",
       "    <tr>\n",
       "      <th>Gene4</th>\n",
       "      <td>-0.80</td>\n",
       "      <td>-0.40</td>\n",
       "      <td>0.7</td>\n",
       "      <td>1.0</td>\n",
       "    </tr>\n",
       "  </tbody>\n",
       "</table>\n",
       "</div>"
      ],
      "text/plain": [
       "       Gene1  Gene2  Gene3  Gene4\n",
       "Gene1   1.00   0.89   -0.5   -0.8\n",
       "Gene2   0.89   1.00   -0.4   -0.4\n",
       "Gene3  -0.50  -0.40    1.0    0.7\n",
       "Gene4  -0.80  -0.40    0.7    1.0"
      ]
     },
     "execution_count": 81,
     "metadata": {},
     "output_type": "execute_result"
    }
   ],
   "source": [
    "df = pd.DataFrame(\n",
    "    {\n",
    "        \"Gene1\": [1.0, 0.89, -0.5, -0.8],\n",
    "        \"Gene2\": [0.89, 1.0, -0.4, -0.4],\n",
    "        \"Gene3\": [-0.5, -0.4, 1, 0.7],\n",
    "        \"Gene4\": [-0.8, -0.4, 0.7, 1],\n",
    "    },\n",
    "    index=[\"Gene1\", \"Gene2\", \"Gene3\", \"Gene4\"],\n",
    ")\n",
    "df.head()\n",
    "\n",
    "# df = pd.DataFrame(\n",
    "#     {\n",
    "#         \"Gene1\": [1.0, 0.89],\n",
    "#         \"Gene2\": [0.89, 1.0,],\n",
    "#     },\n",
    "#     index=[\"Gene1\", \"Gene2\"],\n",
    "# )\n",
    "\n",
    "# Symmetric matrix of size 10x10\n",
    "\n",
    "# df = pd.DataFrame(\n",
    "#     np.random.rand(10, 10),\n",
    "#     index=[f\"Gene{i}\" for i in range(1, 11)],\n",
    "#     columns=[f\"Gene{i}\" for i in range(1, 11)],\n",
    "# )\n",
    "# df"
   ]
  },
  {
   "cell_type": "code",
   "execution_count": 82,
   "metadata": {},
   "outputs": [
    {
     "data": {
      "image/png": "[encoded data removed]",
      "text/plain": [
       "<Figure size 300x300 with 4 Axes>"
      ]
     },
     "metadata": {},
     "output_type": "display_data"
    }
   ],
   "source": [
    "n_row = df.shape[0]\n",
    "n_col = df.shape[1]\n",
    "fig_width = n_row * 0.5 + 1\n",
    "fig_height = n_col * 0.5 + 1\n",
    "\n",
    "sns.clustermap(\n",
    "    df,\n",
    "    annot=True,\n",
    "    cmap=\"RdBu\",\n",
    "    dendrogram_ratio=(0.1, 0.1),\n",
    "    figsize=(fig_width, fig_height),\n",
    "    vmax=1.0,\n",
    "    vmin=-1.0,\n",
    "    cbar_pos=(0.01, 0.9, 0.05, 0.15),\n",
    ")\n",
    "plt.show()"
   ]
  }
 ],
 "metadata": {
  "kernelspec": {
   "display_name": "similarity",
   "language": "python",
   "name": "python3"
  },
  "language_info": {
   "codemirror_mode": {
    "name": "ipython",
    "version": 3
   },
   "file_extension": ".py",
   "mimetype": "text/x-python",
   "name": "python",
   "nbconvert_exporter": "python",
   "pygments_lexer": "ipython3",
   "version": "3.10.6"
  }
 },
 "nbformat": 4,
 "nbformat_minor": 2
}
