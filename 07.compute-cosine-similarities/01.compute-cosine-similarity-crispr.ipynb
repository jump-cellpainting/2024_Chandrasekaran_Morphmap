{
 "cells": [
  {
   "cell_type": "code",
   "execution_count": 1,
   "metadata": {},
   "outputs": [],
   "source": [
    "import pandas as pd\n",
    "import utils\n",
    "import numpy as np\n",
    "from tqdm import tqdm\n",
    "import logging\n",
    "\n",
    "logging.basicConfig(format=\"%(levelname)s:%(asctime)s:%(name)s:%(message)s\")\n",
    "logging.getLogger(\"copairs\").setLevel(logging.INFO)"
   ]
  },
  {
   "cell_type": "code",
   "execution_count": 2,
   "metadata": {},
   "outputs": [],
   "source": [
    "operations = \"wellpos_cc_var_mad_outlier_featselect_sphering_harmony_PCA_corrected\"\n",
    "batch_size = 20000"
   ]
  },
  {
   "cell_type": "markdown",
   "metadata": {},
   "source": [
    "### Prepare the data"
   ]
  },
  {
   "cell_type": "markdown",
   "metadata": {},
   "source": [
    "#### Read the CRISPR parquet file"
   ]
  },
  {
   "cell_type": "code",
   "execution_count": 3,
   "metadata": {},
   "outputs": [],
   "source": [
    "crispr_df = pd.read_parquet(\n",
    "    f\"../profiles/profiles_{operations}.parquet\"\n",
    ")"
   ]
  },
  {
   "cell_type": "markdown",
   "metadata": {},
   "source": [
    "#### Remove ORF reagents without a phenotypic activity"
   ]
  },
  {
   "cell_type": "code",
   "execution_count": 4,
   "metadata": {},
   "outputs": [
    {
     "data": {
      "text/plain": [
       "(5546, 2)"
      ]
     },
     "execution_count": 4,
     "metadata": {},
     "output_type": "execute_result"
    }
   ],
   "source": [
    "crispr_phenotypic_activity_df = (\n",
    "    pd.read_csv(\n",
    "        f\"../03.retrieve-annotations/output/phenotypic-activity-{operations}.csv.gz\",\n",
    "        usecols=[\"Metadata_JCP2022\", \"below_corrected_p\"],\n",
    "    )\n",
    "    .rename(columns={\"below_corrected_p\": \"Metadata_below_corrected_p\"})\n",
    ").query(\"Metadata_below_corrected_p==True\")\n",
    "\n",
    "crispr_phenotypic_activity_df.shape"
   ]
  },
  {
   "cell_type": "code",
   "execution_count": 5,
   "metadata": {},
   "outputs": [
    {
     "data": {
      "text/plain": [
       "(29909, 264)"
      ]
     },
     "execution_count": 5,
     "metadata": {},
     "output_type": "execute_result"
    }
   ],
   "source": [
    "crispr_df = (\n",
    "    crispr_df.merge(crispr_phenotypic_activity_df, on=\"Metadata_JCP2022\", how=\"inner\")\n",
    "    .reset_index(drop=True)\n",
    ")\n",
    "\n",
    "crispr_df.shape"
   ]
  },
  {
   "cell_type": "markdown",
   "metadata": {},
   "source": [
    "### Create cosine similarity matrix"
   ]
  },
  {
   "cell_type": "markdown",
   "metadata": {},
   "source": [
    "#### Add Approved Symbols"
   ]
  },
  {
   "cell_type": "code",
   "execution_count": 6,
   "metadata": {},
   "outputs": [
    {
     "data": {
      "text/plain": [
       "(29909, 267)"
      ]
     },
     "execution_count": 6,
     "metadata": {},
     "output_type": "execute_result"
    }
   ],
   "source": [
    "crispr_metadata = pd.read_csv(\n",
    "    \"../00.download-and-process-annotations/output/crispr_metadata.tsv.gz\",\n",
    "    sep=\"\\t\",\n",
    "    usecols=[\"Metadata_JCP2022\", \"Metadata_Approved_Symbol\", \"Metadata_Symbol\"],\n",
    ")\n",
    "\n",
    "crispr_df = crispr_df.merge(crispr_metadata, on=\"Metadata_JCP2022\", how=\"left\")\n",
    "\n",
    "crispr_df = crispr_df.assign(\n",
    "    Metadata_Gene_Symbol=lambda x: np.where(\n",
    "        x.Metadata_Approved_Symbol.isna(), x.Metadata_Symbol, x.Metadata_Approved_Symbol\n",
    "    )\n",
    ")\n",
    "\n",
    "crispr_df.shape"
   ]
  },
  {
   "cell_type": "markdown",
   "metadata": {},
   "source": [
    "#### Create consensus profiles"
   ]
  },
  {
   "cell_type": "code",
   "execution_count": 7,
   "metadata": {},
   "outputs": [
    {
     "data": {
      "text/plain": [
       "(5546, 267)"
      ]
     },
     "execution_count": 7,
     "metadata": {},
     "output_type": "execute_result"
    }
   ],
   "source": [
    "consensus_df = utils.consensus(crispr_df, \"Metadata_Gene_Symbol\")\n",
    "consensus_df.shape"
   ]
  },
  {
   "cell_type": "code",
   "execution_count": 8,
   "metadata": {},
   "outputs": [],
   "source": [
    "feature_df = utils.get_featuredata(consensus_df)\n",
    "feature_values = feature_df.values\n",
    "id = list(consensus_df[\"Metadata_Gene_Symbol\"])"
   ]
  },
  {
   "cell_type": "code",
   "execution_count": 9,
   "metadata": {},
   "outputs": [
    {
     "name": "stderr",
     "output_type": "stream",
     "text": [
      "INFO:2024-05-02 12:09:53,813:copairs:Computing positive similarities...\n"
     ]
    },
    {
     "data": {
      "application/vnd.jupyter.widget-view+json": {
       "model_id": "6e8a88e8d4f94fb49d3af0ce2a0ffddc",
       "version_major": 2,
       "version_minor": 0
      },
      "text/plain": [
       "  0%|          | 0/769 [00:00<?, ?it/s]"
      ]
     },
     "metadata": {},
     "output_type": "display_data"
    }
   ],
   "source": [
    "cosine_sim_df = utils.cosine_similarity(\n",
    "    id,\n",
    "    feature_values,\n",
    "    batch_size=batch_size,\n",
    ")"
   ]
  },
  {
   "cell_type": "code",
   "execution_count": 10,
   "metadata": {},
   "outputs": [
    {
     "data": {
      "text/html": [
       "<div>\n",
       "<style scoped>\n",
       "    .dataframe tbody tr th:only-of-type {\n",
       "        vertical-align: middle;\n",
       "    }\n",
       "\n",
       "    .dataframe tbody tr th {\n",
       "        vertical-align: top;\n",
       "    }\n",
       "\n",
       "    .dataframe thead th {\n",
       "        text-align: right;\n",
       "    }\n",
       "</style>\n",
       "<table border=\"1\" class=\"dataframe\">\n",
       "  <thead>\n",
       "    <tr style=\"text-align: right;\">\n",
       "      <th></th>\n",
       "      <th>PALS2</th>\n",
       "      <th>SEPTIN1</th>\n",
       "      <th>AFG2B</th>\n",
       "      <th>MRPL58</th>\n",
       "      <th>TAFAZZIN</th>\n",
       "      <th>MARS1</th>\n",
       "      <th>SARS1</th>\n",
       "      <th>ATP5PO</th>\n",
       "      <th>EPRS1</th>\n",
       "      <th>GFUS</th>\n",
       "      <th>...</th>\n",
       "      <th>TAPBP</th>\n",
       "      <th>TP53I3</th>\n",
       "      <th>PLD5</th>\n",
       "      <th>SFXN1</th>\n",
       "      <th>SLC25A22</th>\n",
       "      <th>GUCA1A</th>\n",
       "      <th>SIX6</th>\n",
       "      <th>SMARCA4</th>\n",
       "      <th>TGIF1</th>\n",
       "      <th>SPTLC1</th>\n",
       "    </tr>\n",
       "  </thead>\n",
       "  <tbody>\n",
       "    <tr>\n",
       "      <th>PALS2</th>\n",
       "      <td>1.000000</td>\n",
       "      <td>0.066599</td>\n",
       "      <td>0.226660</td>\n",
       "      <td>-0.096645</td>\n",
       "      <td>0.060595</td>\n",
       "      <td>-0.140241</td>\n",
       "      <td>-0.166251</td>\n",
       "      <td>0.351551</td>\n",
       "      <td>0.104548</td>\n",
       "      <td>0.175636</td>\n",
       "      <td>...</td>\n",
       "      <td>0.063718</td>\n",
       "      <td>0.022331</td>\n",
       "      <td>0.038044</td>\n",
       "      <td>0.033832</td>\n",
       "      <td>0.077804</td>\n",
       "      <td>0.180820</td>\n",
       "      <td>0.108754</td>\n",
       "      <td>-0.149984</td>\n",
       "      <td>0.164068</td>\n",
       "      <td>-0.004394</td>\n",
       "    </tr>\n",
       "    <tr>\n",
       "      <th>SEPTIN1</th>\n",
       "      <td>0.066599</td>\n",
       "      <td>1.000000</td>\n",
       "      <td>0.300627</td>\n",
       "      <td>0.105448</td>\n",
       "      <td>-0.049673</td>\n",
       "      <td>0.131625</td>\n",
       "      <td>0.159204</td>\n",
       "      <td>0.077655</td>\n",
       "      <td>-0.085825</td>\n",
       "      <td>-0.294846</td>\n",
       "      <td>...</td>\n",
       "      <td>-0.004568</td>\n",
       "      <td>0.097005</td>\n",
       "      <td>-0.045114</td>\n",
       "      <td>0.256349</td>\n",
       "      <td>0.114172</td>\n",
       "      <td>-0.250846</td>\n",
       "      <td>0.157650</td>\n",
       "      <td>-0.136250</td>\n",
       "      <td>-0.038479</td>\n",
       "      <td>-0.032529</td>\n",
       "    </tr>\n",
       "    <tr>\n",
       "      <th>AFG2B</th>\n",
       "      <td>0.226660</td>\n",
       "      <td>0.300627</td>\n",
       "      <td>1.000000</td>\n",
       "      <td>0.050718</td>\n",
       "      <td>0.012705</td>\n",
       "      <td>-0.381485</td>\n",
       "      <td>-0.378036</td>\n",
       "      <td>0.008984</td>\n",
       "      <td>-0.308267</td>\n",
       "      <td>0.014491</td>\n",
       "      <td>...</td>\n",
       "      <td>0.027969</td>\n",
       "      <td>0.035475</td>\n",
       "      <td>0.061099</td>\n",
       "      <td>0.121436</td>\n",
       "      <td>-0.173788</td>\n",
       "      <td>-0.143466</td>\n",
       "      <td>0.146600</td>\n",
       "      <td>-0.196483</td>\n",
       "      <td>0.129058</td>\n",
       "      <td>-0.089391</td>\n",
       "    </tr>\n",
       "    <tr>\n",
       "      <th>MRPL58</th>\n",
       "      <td>-0.096645</td>\n",
       "      <td>0.105448</td>\n",
       "      <td>0.050718</td>\n",
       "      <td>1.000000</td>\n",
       "      <td>0.126722</td>\n",
       "      <td>0.179809</td>\n",
       "      <td>0.352486</td>\n",
       "      <td>-0.023718</td>\n",
       "      <td>0.309831</td>\n",
       "      <td>-0.034218</td>\n",
       "      <td>...</td>\n",
       "      <td>-0.093693</td>\n",
       "      <td>0.114346</td>\n",
       "      <td>-0.085495</td>\n",
       "      <td>-0.036108</td>\n",
       "      <td>0.124639</td>\n",
       "      <td>-0.149030</td>\n",
       "      <td>-0.105554</td>\n",
       "      <td>0.076929</td>\n",
       "      <td>-0.076278</td>\n",
       "      <td>0.037285</td>\n",
       "    </tr>\n",
       "    <tr>\n",
       "      <th>TAFAZZIN</th>\n",
       "      <td>0.060595</td>\n",
       "      <td>-0.049673</td>\n",
       "      <td>0.012705</td>\n",
       "      <td>0.126722</td>\n",
       "      <td>1.000000</td>\n",
       "      <td>0.112294</td>\n",
       "      <td>0.137403</td>\n",
       "      <td>0.119867</td>\n",
       "      <td>0.144929</td>\n",
       "      <td>-0.002554</td>\n",
       "      <td>...</td>\n",
       "      <td>-0.080834</td>\n",
       "      <td>-0.006972</td>\n",
       "      <td>0.031903</td>\n",
       "      <td>0.057618</td>\n",
       "      <td>0.058439</td>\n",
       "      <td>0.114054</td>\n",
       "      <td>-0.156385</td>\n",
       "      <td>0.022209</td>\n",
       "      <td>-0.241812</td>\n",
       "      <td>0.031025</td>\n",
       "    </tr>\n",
       "  </tbody>\n",
       "</table>\n",
       "<p>5 rows × 5546 columns</p>\n",
       "</div>"
      ],
      "text/plain": [
       "             PALS2   SEPTIN1     AFG2B    MRPL58  TAFAZZIN     MARS1  \\\n",
       "PALS2     1.000000  0.066599  0.226660 -0.096645  0.060595 -0.140241   \n",
       "SEPTIN1   0.066599  1.000000  0.300627  0.105448 -0.049673  0.131625   \n",
       "AFG2B     0.226660  0.300627  1.000000  0.050718  0.012705 -0.381485   \n",
       "MRPL58   -0.096645  0.105448  0.050718  1.000000  0.126722  0.179809   \n",
       "TAFAZZIN  0.060595 -0.049673  0.012705  0.126722  1.000000  0.112294   \n",
       "\n",
       "             SARS1    ATP5PO     EPRS1      GFUS  ...     TAPBP    TP53I3  \\\n",
       "PALS2    -0.166251  0.351551  0.104548  0.175636  ...  0.063718  0.022331   \n",
       "SEPTIN1   0.159204  0.077655 -0.085825 -0.294846  ... -0.004568  0.097005   \n",
       "AFG2B    -0.378036  0.008984 -0.308267  0.014491  ...  0.027969  0.035475   \n",
       "MRPL58    0.352486 -0.023718  0.309831 -0.034218  ... -0.093693  0.114346   \n",
       "TAFAZZIN  0.137403  0.119867  0.144929 -0.002554  ... -0.080834 -0.006972   \n",
       "\n",
       "              PLD5     SFXN1  SLC25A22    GUCA1A      SIX6   SMARCA4  \\\n",
       "PALS2     0.038044  0.033832  0.077804  0.180820  0.108754 -0.149984   \n",
       "SEPTIN1  -0.045114  0.256349  0.114172 -0.250846  0.157650 -0.136250   \n",
       "AFG2B     0.061099  0.121436 -0.173788 -0.143466  0.146600 -0.196483   \n",
       "MRPL58   -0.085495 -0.036108  0.124639 -0.149030 -0.105554  0.076929   \n",
       "TAFAZZIN  0.031903  0.057618  0.058439  0.114054 -0.156385  0.022209   \n",
       "\n",
       "             TGIF1    SPTLC1  \n",
       "PALS2     0.164068 -0.004394  \n",
       "SEPTIN1  -0.038479 -0.032529  \n",
       "AFG2B     0.129058 -0.089391  \n",
       "MRPL58   -0.076278  0.037285  \n",
       "TAFAZZIN -0.241812  0.031025  \n",
       "\n",
       "[5 rows x 5546 columns]"
      ]
     },
     "execution_count": 10,
     "metadata": {},
     "output_type": "execute_result"
    }
   ],
   "source": [
    "cosine_sim_df.head()"
   ]
  },
  {
   "cell_type": "code",
   "execution_count": 11,
   "metadata": {},
   "outputs": [],
   "source": [
    "cosine_sim_df.to_parquet(\n",
    "    f\"cos_sim/cosine_similarities_genes_crispr.parquet\", index=True\n",
    ")"
   ]
  }
 ],
 "metadata": {
  "kernelspec": {
   "display_name": "similarity",
   "language": "python",
   "name": "python3"
  },
  "language_info": {
   "codemirror_mode": {
    "name": "ipython",
    "version": 3
   },
   "file_extension": ".py",
   "mimetype": "text/x-python",
   "name": "python",
   "nbconvert_exporter": "python",
   "pygments_lexer": "ipython3",
   "version": "3.10.6"
  }
 },
 "nbformat": 4,
 "nbformat_minor": 2
}
