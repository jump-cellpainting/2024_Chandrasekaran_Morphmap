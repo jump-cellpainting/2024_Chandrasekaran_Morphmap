{
 "cells": [
  {
   "cell_type": "code",
   "execution_count": 1,
   "metadata": {},
   "outputs": [],
   "source": [
    "import pandas as pd\n",
    "import utils\n",
    "import numpy as np\n",
    "from tqdm import tqdm\n",
    "import logging\n",
    "\n",
    "logging.basicConfig(format=\"%(levelname)s:%(asctime)s:%(name)s:%(message)s\")\n",
    "logging.getLogger(\"copairs\").setLevel(logging.INFO)"
   ]
  },
  {
   "cell_type": "code",
   "execution_count": 2,
   "metadata": {},
   "outputs": [],
   "source": [
    "operations = \"wellpos_var_mad_int_featselect_harmony_PCA_corrected\"\n",
    "batch_size = 20000"
   ]
  },
  {
   "cell_type": "markdown",
   "metadata": {},
   "source": [
    "### Prepare the data"
   ]
  },
  {
   "cell_type": "markdown",
   "metadata": {},
   "source": [
    "#### Read the CRISPR parquet file"
   ]
  },
  {
   "cell_type": "code",
   "execution_count": 3,
   "metadata": {},
   "outputs": [],
   "source": [
    "crispr_df = pd.read_parquet(\n",
    "    f\"../profiles/profiles_{operations}.parquet\"\n",
    ")"
   ]
  },
  {
   "cell_type": "markdown",
   "metadata": {},
   "source": [
    "#### Remove empty wells and `negcon`s"
   ]
  },
  {
   "cell_type": "code",
   "execution_count": 4,
   "metadata": {},
   "outputs": [
    {
     "data": {
      "text/plain": [
       "(43707, 309)"
      ]
     },
     "execution_count": 4,
     "metadata": {},
     "output_type": "execute_result"
    }
   ],
   "source": [
    "crispr_df = utils.remove_negcon_empty_wells(crispr_df)\n",
    "crispr_df.shape"
   ]
  },
  {
   "cell_type": "markdown",
   "metadata": {},
   "source": [
    "#### Remove `poscon` wells."
   ]
  },
  {
   "cell_type": "code",
   "execution_count": 5,
   "metadata": {},
   "outputs": [
    {
     "data": {
      "text/plain": [
       "(43138, 309)"
      ]
     },
     "execution_count": 5,
     "metadata": {},
     "output_type": "execute_result"
    }
   ],
   "source": [
    "crispr_df = crispr_df.query('Metadata_Symbol!=\"PLK1\"').reset_index(drop=True)\n",
    "crispr_df.shape"
   ]
  },
  {
   "cell_type": "markdown",
   "metadata": {},
   "source": [
    "#### Remove ORF reagents without a phenotypic activity"
   ]
  },
  {
   "cell_type": "code",
   "execution_count": 6,
   "metadata": {},
   "outputs": [
    {
     "data": {
      "text/plain": [
       "(5685, 2)"
      ]
     },
     "execution_count": 6,
     "metadata": {},
     "output_type": "execute_result"
    }
   ],
   "source": [
    "crispr_phenotypic_activity_df = (\n",
    "    pd.read_csv(\n",
    "        f\"../03.retrieve-annotations/output/phenotypic-activity-{operations}.csv.gz\",\n",
    "        usecols=[\"Metadata_JCP2022\", \"below_corrected_p\"],\n",
    "    )\n",
    "    .rename(columns={\"below_corrected_p\": \"Metadata_below_corrected_p\"})\n",
    ").query(\"Metadata_below_corrected_p==True\")\n",
    "\n",
    "crispr_phenotypic_activity_df.shape"
   ]
  },
  {
   "cell_type": "code",
   "execution_count": 7,
   "metadata": {},
   "outputs": [
    {
     "data": {
      "text/plain": [
       "(30686, 310)"
      ]
     },
     "execution_count": 7,
     "metadata": {},
     "output_type": "execute_result"
    }
   ],
   "source": [
    "crispr_df = (\n",
    "    crispr_df.merge(crispr_phenotypic_activity_df, on=\"Metadata_JCP2022\", how=\"inner\")\n",
    "    .reset_index(drop=True)\n",
    ")\n",
    "\n",
    "crispr_df.shape"
   ]
  },
  {
   "cell_type": "markdown",
   "metadata": {},
   "source": [
    "### Create cosine similarity matrix"
   ]
  },
  {
   "cell_type": "markdown",
   "metadata": {},
   "source": [
    "#### Add Approved Symbols"
   ]
  },
  {
   "cell_type": "code",
   "execution_count": 8,
   "metadata": {},
   "outputs": [
    {
     "data": {
      "text/plain": [
       "(30686, 311)"
      ]
     },
     "execution_count": 8,
     "metadata": {},
     "output_type": "execute_result"
    }
   ],
   "source": [
    "crispr_metadata = pd.read_csv(\n",
    "    \"../00.download-and-process-annotations/output/crispr.csv.gz\",\n",
    "    usecols=[\"Metadata_JCP2022\", \"Metadata_Approved_Symbol\"],\n",
    ")\n",
    "\n",
    "crispr_df = crispr_df.drop(columns=[\"Metadata_Approved_symbol\"]).merge(\n",
    "    crispr_metadata, on=\"Metadata_JCP2022\", how=\"left\"\n",
    ")\n",
    "\n",
    "crispr_df = crispr_df.assign(\n",
    "    Metadata_Gene_Symbol=lambda x: np.where(\n",
    "        x.Metadata_Approved_Symbol.isna(), x.Metadata_Symbol, x.Metadata_Approved_Symbol\n",
    "    )\n",
    ")\n",
    "\n",
    "crispr_df.shape"
   ]
  },
  {
   "cell_type": "markdown",
   "metadata": {},
   "source": [
    "#### Create consensus profiles"
   ]
  },
  {
   "cell_type": "code",
   "execution_count": 9,
   "metadata": {},
   "outputs": [
    {
     "data": {
      "text/plain": [
       "(5684, 311)"
      ]
     },
     "execution_count": 9,
     "metadata": {},
     "output_type": "execute_result"
    }
   ],
   "source": [
    "consensus_df = utils.consensus(crispr_df, \"Metadata_Gene_Symbol\")\n",
    "consensus_df.shape"
   ]
  },
  {
   "cell_type": "code",
   "execution_count": 10,
   "metadata": {},
   "outputs": [],
   "source": [
    "feature_df = utils.get_featuredata(consensus_df)\n",
    "feature_values = feature_df.values\n",
    "id = list(consensus_df[\"Metadata_Gene_Symbol\"])"
   ]
  },
  {
   "cell_type": "code",
   "execution_count": 11,
   "metadata": {},
   "outputs": [
    {
     "name": "stderr",
     "output_type": "stream",
     "text": [
      "INFO:2024-04-11 18:04:30,971:copairs:Computing positive similarities...\n"
     ]
    },
    {
     "data": {
      "application/vnd.jupyter.widget-view+json": {
       "model_id": "10680ed01c8042aa9e148c9570770bb4",
       "version_major": 2,
       "version_minor": 0
      },
      "text/plain": [
       "  0%|          | 0/808 [00:00<?, ?it/s]"
      ]
     },
     "metadata": {},
     "output_type": "display_data"
    }
   ],
   "source": [
    "cosine_sim_df = utils.cosine_similarity(\n",
    "    id,\n",
    "    feature_values,\n",
    "    batch_size=batch_size,\n",
    ")"
   ]
  },
  {
   "cell_type": "code",
   "execution_count": 12,
   "metadata": {},
   "outputs": [
    {
     "data": {
      "text/html": [
       "<div>\n",
       "<style scoped>\n",
       "    .dataframe tbody tr th:only-of-type {\n",
       "        vertical-align: middle;\n",
       "    }\n",
       "\n",
       "    .dataframe tbody tr th {\n",
       "        vertical-align: top;\n",
       "    }\n",
       "\n",
       "    .dataframe thead th {\n",
       "        text-align: right;\n",
       "    }\n",
       "</style>\n",
       "<table border=\"1\" class=\"dataframe\">\n",
       "  <thead>\n",
       "    <tr style=\"text-align: right;\">\n",
       "      <th></th>\n",
       "      <th>PALS2</th>\n",
       "      <th>MRPL58</th>\n",
       "      <th>GUCY1B1</th>\n",
       "      <th>TAFAZZIN</th>\n",
       "      <th>MARS1</th>\n",
       "      <th>SARS1</th>\n",
       "      <th>ATP5PO</th>\n",
       "      <th>EPRS1</th>\n",
       "      <th>GFUS</th>\n",
       "      <th>TMT1B</th>\n",
       "      <th>...</th>\n",
       "      <th>MIB2</th>\n",
       "      <th>SPSB1</th>\n",
       "      <th>TP53I3</th>\n",
       "      <th>PLD5</th>\n",
       "      <th>SFXN1</th>\n",
       "      <th>BZW2</th>\n",
       "      <th>SIX6</th>\n",
       "      <th>SMARCA4</th>\n",
       "      <th>TGIF1</th>\n",
       "      <th>SPTLC1</th>\n",
       "    </tr>\n",
       "  </thead>\n",
       "  <tbody>\n",
       "    <tr>\n",
       "      <th>PALS2</th>\n",
       "      <td>1.000000</td>\n",
       "      <td>-0.643831</td>\n",
       "      <td>0.720265</td>\n",
       "      <td>-0.422487</td>\n",
       "      <td>-0.509733</td>\n",
       "      <td>-0.210183</td>\n",
       "      <td>0.735649</td>\n",
       "      <td>0.328283</td>\n",
       "      <td>-0.008024</td>\n",
       "      <td>-0.740775</td>\n",
       "      <td>...</td>\n",
       "      <td>-0.500447</td>\n",
       "      <td>-0.575982</td>\n",
       "      <td>0.053975</td>\n",
       "      <td>0.277600</td>\n",
       "      <td>0.502114</td>\n",
       "      <td>0.435335</td>\n",
       "      <td>0.580798</td>\n",
       "      <td>0.023257</td>\n",
       "      <td>0.556337</td>\n",
       "      <td>0.734259</td>\n",
       "    </tr>\n",
       "    <tr>\n",
       "      <th>MRPL58</th>\n",
       "      <td>-0.643831</td>\n",
       "      <td>1.000000</td>\n",
       "      <td>-0.626703</td>\n",
       "      <td>0.465669</td>\n",
       "      <td>0.531746</td>\n",
       "      <td>0.561020</td>\n",
       "      <td>-0.469886</td>\n",
       "      <td>0.070868</td>\n",
       "      <td>-0.037122</td>\n",
       "      <td>0.619600</td>\n",
       "      <td>...</td>\n",
       "      <td>0.278111</td>\n",
       "      <td>0.323475</td>\n",
       "      <td>-0.192634</td>\n",
       "      <td>-0.048423</td>\n",
       "      <td>-0.295869</td>\n",
       "      <td>-0.502622</td>\n",
       "      <td>-0.445301</td>\n",
       "      <td>0.003610</td>\n",
       "      <td>-0.504500</td>\n",
       "      <td>-0.594612</td>\n",
       "    </tr>\n",
       "    <tr>\n",
       "      <th>GUCY1B1</th>\n",
       "      <td>0.720265</td>\n",
       "      <td>-0.626703</td>\n",
       "      <td>1.000000</td>\n",
       "      <td>-0.467930</td>\n",
       "      <td>-0.564229</td>\n",
       "      <td>-0.232995</td>\n",
       "      <td>0.712205</td>\n",
       "      <td>0.206827</td>\n",
       "      <td>-0.226712</td>\n",
       "      <td>-0.774118</td>\n",
       "      <td>...</td>\n",
       "      <td>-0.457503</td>\n",
       "      <td>-0.539270</td>\n",
       "      <td>0.149425</td>\n",
       "      <td>0.334244</td>\n",
       "      <td>0.660528</td>\n",
       "      <td>0.510027</td>\n",
       "      <td>0.734846</td>\n",
       "      <td>-0.143996</td>\n",
       "      <td>0.653741</td>\n",
       "      <td>0.730705</td>\n",
       "    </tr>\n",
       "    <tr>\n",
       "      <th>TAFAZZIN</th>\n",
       "      <td>-0.422487</td>\n",
       "      <td>0.465669</td>\n",
       "      <td>-0.467930</td>\n",
       "      <td>1.000000</td>\n",
       "      <td>0.424794</td>\n",
       "      <td>0.525662</td>\n",
       "      <td>-0.390304</td>\n",
       "      <td>-0.136345</td>\n",
       "      <td>-0.303524</td>\n",
       "      <td>0.569585</td>\n",
       "      <td>...</td>\n",
       "      <td>-0.010277</td>\n",
       "      <td>0.389118</td>\n",
       "      <td>-0.554688</td>\n",
       "      <td>0.001064</td>\n",
       "      <td>-0.197410</td>\n",
       "      <td>-0.161778</td>\n",
       "      <td>-0.340859</td>\n",
       "      <td>0.098475</td>\n",
       "      <td>-0.661722</td>\n",
       "      <td>-0.367321</td>\n",
       "    </tr>\n",
       "    <tr>\n",
       "      <th>MARS1</th>\n",
       "      <td>-0.509733</td>\n",
       "      <td>0.531746</td>\n",
       "      <td>-0.564229</td>\n",
       "      <td>0.424794</td>\n",
       "      <td>1.000000</td>\n",
       "      <td>0.564323</td>\n",
       "      <td>-0.398502</td>\n",
       "      <td>0.049872</td>\n",
       "      <td>-0.065045</td>\n",
       "      <td>0.484347</td>\n",
       "      <td>...</td>\n",
       "      <td>0.068258</td>\n",
       "      <td>0.193165</td>\n",
       "      <td>-0.242758</td>\n",
       "      <td>-0.155394</td>\n",
       "      <td>-0.264613</td>\n",
       "      <td>-0.327999</td>\n",
       "      <td>-0.441528</td>\n",
       "      <td>-0.016923</td>\n",
       "      <td>-0.611758</td>\n",
       "      <td>-0.367407</td>\n",
       "    </tr>\n",
       "  </tbody>\n",
       "</table>\n",
       "<p>5 rows × 5684 columns</p>\n",
       "</div>"
      ],
      "text/plain": [
       "             PALS2    MRPL58   GUCY1B1  TAFAZZIN     MARS1     SARS1  \\\n",
       "PALS2     1.000000 -0.643831  0.720265 -0.422487 -0.509733 -0.210183   \n",
       "MRPL58   -0.643831  1.000000 -0.626703  0.465669  0.531746  0.561020   \n",
       "GUCY1B1   0.720265 -0.626703  1.000000 -0.467930 -0.564229 -0.232995   \n",
       "TAFAZZIN -0.422487  0.465669 -0.467930  1.000000  0.424794  0.525662   \n",
       "MARS1    -0.509733  0.531746 -0.564229  0.424794  1.000000  0.564323   \n",
       "\n",
       "            ATP5PO     EPRS1      GFUS     TMT1B  ...      MIB2     SPSB1  \\\n",
       "PALS2     0.735649  0.328283 -0.008024 -0.740775  ... -0.500447 -0.575982   \n",
       "MRPL58   -0.469886  0.070868 -0.037122  0.619600  ...  0.278111  0.323475   \n",
       "GUCY1B1   0.712205  0.206827 -0.226712 -0.774118  ... -0.457503 -0.539270   \n",
       "TAFAZZIN -0.390304 -0.136345 -0.303524  0.569585  ... -0.010277  0.389118   \n",
       "MARS1    -0.398502  0.049872 -0.065045  0.484347  ...  0.068258  0.193165   \n",
       "\n",
       "            TP53I3      PLD5     SFXN1      BZW2      SIX6   SMARCA4  \\\n",
       "PALS2     0.053975  0.277600  0.502114  0.435335  0.580798  0.023257   \n",
       "MRPL58   -0.192634 -0.048423 -0.295869 -0.502622 -0.445301  0.003610   \n",
       "GUCY1B1   0.149425  0.334244  0.660528  0.510027  0.734846 -0.143996   \n",
       "TAFAZZIN -0.554688  0.001064 -0.197410 -0.161778 -0.340859  0.098475   \n",
       "MARS1    -0.242758 -0.155394 -0.264613 -0.327999 -0.441528 -0.016923   \n",
       "\n",
       "             TGIF1    SPTLC1  \n",
       "PALS2     0.556337  0.734259  \n",
       "MRPL58   -0.504500 -0.594612  \n",
       "GUCY1B1   0.653741  0.730705  \n",
       "TAFAZZIN -0.661722 -0.367321  \n",
       "MARS1    -0.611758 -0.367407  \n",
       "\n",
       "[5 rows x 5684 columns]"
      ]
     },
     "execution_count": 12,
     "metadata": {},
     "output_type": "execute_result"
    }
   ],
   "source": [
    "cosine_sim_df.head()"
   ]
  },
  {
   "cell_type": "code",
   "execution_count": 13,
   "metadata": {},
   "outputs": [],
   "source": [
    "cosine_sim_df.to_parquet(\n",
    "    f\"cos_sim/cosine_similarities_genes_crispr.parquet\", index=True\n",
    ")"
   ]
  }
 ],
 "metadata": {
  "kernelspec": {
   "display_name": "similarity",
   "language": "python",
   "name": "python3"
  },
  "language_info": {
   "codemirror_mode": {
    "name": "ipython",
    "version": 3
   },
   "file_extension": ".py",
   "mimetype": "text/x-python",
   "name": "python",
   "nbconvert_exporter": "python",
   "pygments_lexer": "ipython3",
   "version": "3.10.6"
  }
 },
 "nbformat": 4,
 "nbformat_minor": 2
}
