{
 "cells": [
  {
   "cell_type": "code",
   "execution_count": 1,
   "metadata": {},
   "outputs": [],
   "source": [
    "import pandas as pd\n",
    "import utils\n",
    "import numpy as np"
   ]
  },
  {
   "cell_type": "code",
   "execution_count": 2,
   "metadata": {},
   "outputs": [],
   "source": [
    "feature_group = \"AreaShape\"\n",
    "feature_group_list = [\"Texture\", \"Intensity\", \"RadialDistribution\"]\n",
    "compartments = [\"Cells\", \"Cytoplasm\", \"Nuclei\"]\n",
    "channels = [\"DNA\", \"RNA\", \"Mito\", \"ER\", \"AGP\"]"
   ]
  },
  {
   "cell_type": "code",
   "execution_count": 3,
   "metadata": {},
   "outputs": [],
   "source": [
    "slc_or_genes = []\n",
    "with open(\"output/SLC-OR_genes.txt\") as f:\n",
    "    for line in f:\n",
    "        slc_or_genes.append(line.strip())"
   ]
  },
  {
   "cell_type": "code",
   "execution_count": 4,
   "metadata": {},
   "outputs": [],
   "source": [
    "orf_genesets = [\n",
    "    slc_or_genes,\n",
    "    ['YAP1', 'WWTR1', 'VGLL4', 'PRKCE', 'STK3', 'CEP72', 'IL20RB', 'MTMR9'] \n",
    "]"
   ]
  },
  {
   "cell_type": "code",
   "execution_count": 5,
   "metadata": {},
   "outputs": [
    {
     "data": {
      "text/html": [
       "<div>\n",
       "<style scoped>\n",
       "    .dataframe tbody tr th:only-of-type {\n",
       "        vertical-align: middle;\n",
       "    }\n",
       "\n",
       "    .dataframe tbody tr th {\n",
       "        vertical-align: top;\n",
       "    }\n",
       "\n",
       "    .dataframe thead th {\n",
       "        text-align: right;\n",
       "    }\n",
       "</style>\n",
       "<table border=\"1\" class=\"dataframe\">\n",
       "  <thead>\n",
       "    <tr style=\"text-align: right;\">\n",
       "      <th></th>\n",
       "      <th>Metadata_Source</th>\n",
       "      <th>Metadata_Plate</th>\n",
       "      <th>Metadata_Well</th>\n",
       "      <th>Metadata_JCP2022</th>\n",
       "      <th>Cells_AreaShape_Area</th>\n",
       "      <th>Cells_AreaShape_BoundingBoxArea</th>\n",
       "      <th>Cells_AreaShape_BoundingBoxMaximum_X</th>\n",
       "      <th>Cells_AreaShape_BoundingBoxMaximum_Y</th>\n",
       "      <th>Cells_AreaShape_BoundingBoxMinimum_X</th>\n",
       "      <th>Cells_AreaShape_BoundingBoxMinimum_Y</th>\n",
       "      <th>...</th>\n",
       "      <th>Nuclei_Texture_Variance_RNA_3_00_256</th>\n",
       "      <th>Nuclei_Texture_Variance_RNA_3_01_256</th>\n",
       "      <th>Nuclei_Texture_Variance_RNA_3_02_256</th>\n",
       "      <th>Nuclei_Texture_Variance_RNA_3_03_256</th>\n",
       "      <th>Nuclei_Texture_Variance_RNA_5_00_256</th>\n",
       "      <th>Nuclei_Texture_Variance_RNA_5_01_256</th>\n",
       "      <th>Nuclei_Texture_Variance_RNA_5_02_256</th>\n",
       "      <th>Nuclei_Texture_Variance_RNA_5_03_256</th>\n",
       "      <th>Metadata_Symbol</th>\n",
       "      <th>Metadata_pert_type</th>\n",
       "    </tr>\n",
       "  </thead>\n",
       "  <tbody>\n",
       "    <tr>\n",
       "      <th>0</th>\n",
       "      <td>source_4</td>\n",
       "      <td>BR00117035</td>\n",
       "      <td>A01</td>\n",
       "      <td>JCP2022_905588</td>\n",
       "      <td>1.976969</td>\n",
       "      <td>2.478890</td>\n",
       "      <td>-0.027964</td>\n",
       "      <td>-0.219052</td>\n",
       "      <td>-0.387556</td>\n",
       "      <td>-0.408526</td>\n",
       "      <td>...</td>\n",
       "      <td>-3.679746</td>\n",
       "      <td>-3.644897</td>\n",
       "      <td>-3.663296</td>\n",
       "      <td>-3.716321</td>\n",
       "      <td>-3.636625</td>\n",
       "      <td>-3.645543</td>\n",
       "      <td>-3.727525</td>\n",
       "      <td>-3.679245</td>\n",
       "      <td>CDK9</td>\n",
       "      <td>trt</td>\n",
       "    </tr>\n",
       "    <tr>\n",
       "      <th>1</th>\n",
       "      <td>source_4</td>\n",
       "      <td>BR00117036</td>\n",
       "      <td>A01</td>\n",
       "      <td>JCP2022_905588</td>\n",
       "      <td>0.609293</td>\n",
       "      <td>1.348788</td>\n",
       "      <td>-1.335341</td>\n",
       "      <td>-0.904727</td>\n",
       "      <td>-1.493824</td>\n",
       "      <td>-1.208351</td>\n",
       "      <td>...</td>\n",
       "      <td>2.437158</td>\n",
       "      <td>2.377791</td>\n",
       "      <td>2.409654</td>\n",
       "      <td>2.368619</td>\n",
       "      <td>2.390954</td>\n",
       "      <td>2.298647</td>\n",
       "      <td>2.406632</td>\n",
       "      <td>2.438143</td>\n",
       "      <td>CDK9</td>\n",
       "      <td>trt</td>\n",
       "    </tr>\n",
       "    <tr>\n",
       "      <th>2</th>\n",
       "      <td>source_4</td>\n",
       "      <td>BR00121558</td>\n",
       "      <td>A01</td>\n",
       "      <td>JCP2022_905588</td>\n",
       "      <td>-0.185963</td>\n",
       "      <td>1.084949</td>\n",
       "      <td>0.525013</td>\n",
       "      <td>-0.442693</td>\n",
       "      <td>0.366960</td>\n",
       "      <td>-0.529556</td>\n",
       "      <td>...</td>\n",
       "      <td>-0.525705</td>\n",
       "      <td>-0.495094</td>\n",
       "      <td>-0.506351</td>\n",
       "      <td>-0.553593</td>\n",
       "      <td>-0.530804</td>\n",
       "      <td>-0.562515</td>\n",
       "      <td>-0.519971</td>\n",
       "      <td>-0.535011</td>\n",
       "      <td>CDK9</td>\n",
       "      <td>trt</td>\n",
       "    </tr>\n",
       "    <tr>\n",
       "      <th>3</th>\n",
       "      <td>source_4</td>\n",
       "      <td>BR00121559</td>\n",
       "      <td>A01</td>\n",
       "      <td>JCP2022_905588</td>\n",
       "      <td>1.975644</td>\n",
       "      <td>2.602919</td>\n",
       "      <td>2.095917</td>\n",
       "      <td>-3.154853</td>\n",
       "      <td>1.848040</td>\n",
       "      <td>-3.808197</td>\n",
       "      <td>...</td>\n",
       "      <td>-0.868960</td>\n",
       "      <td>-0.879897</td>\n",
       "      <td>-0.857301</td>\n",
       "      <td>-0.868555</td>\n",
       "      <td>-0.879776</td>\n",
       "      <td>-0.898712</td>\n",
       "      <td>-0.885029</td>\n",
       "      <td>-0.847506</td>\n",
       "      <td>CDK9</td>\n",
       "      <td>trt</td>\n",
       "    </tr>\n",
       "    <tr>\n",
       "      <th>4</th>\n",
       "      <td>source_4</td>\n",
       "      <td>BR00121560</td>\n",
       "      <td>A01</td>\n",
       "      <td>JCP2022_905588</td>\n",
       "      <td>-3.077340</td>\n",
       "      <td>-2.134534</td>\n",
       "      <td>-2.492584</td>\n",
       "      <td>-0.933778</td>\n",
       "      <td>-2.360221</td>\n",
       "      <td>-0.558088</td>\n",
       "      <td>...</td>\n",
       "      <td>-0.916399</td>\n",
       "      <td>-0.913091</td>\n",
       "      <td>-0.958685</td>\n",
       "      <td>-0.896140</td>\n",
       "      <td>-0.887870</td>\n",
       "      <td>-0.906178</td>\n",
       "      <td>-0.915392</td>\n",
       "      <td>-0.889229</td>\n",
       "      <td>CDK9</td>\n",
       "      <td>trt</td>\n",
       "    </tr>\n",
       "  </tbody>\n",
       "</table>\n",
       "<p>5 rows × 3642 columns</p>\n",
       "</div>"
      ],
      "text/plain": [
       "  Metadata_Source Metadata_Plate Metadata_Well Metadata_JCP2022  \\\n",
       "0        source_4     BR00117035           A01   JCP2022_905588   \n",
       "1        source_4     BR00117036           A01   JCP2022_905588   \n",
       "2        source_4     BR00121558           A01   JCP2022_905588   \n",
       "3        source_4     BR00121559           A01   JCP2022_905588   \n",
       "4        source_4     BR00121560           A01   JCP2022_905588   \n",
       "\n",
       "   Cells_AreaShape_Area  Cells_AreaShape_BoundingBoxArea  \\\n",
       "0              1.976969                         2.478890   \n",
       "1              0.609293                         1.348788   \n",
       "2             -0.185963                         1.084949   \n",
       "3              1.975644                         2.602919   \n",
       "4             -3.077340                        -2.134534   \n",
       "\n",
       "   Cells_AreaShape_BoundingBoxMaximum_X  Cells_AreaShape_BoundingBoxMaximum_Y  \\\n",
       "0                             -0.027964                             -0.219052   \n",
       "1                             -1.335341                             -0.904727   \n",
       "2                              0.525013                             -0.442693   \n",
       "3                              2.095917                             -3.154853   \n",
       "4                             -2.492584                             -0.933778   \n",
       "\n",
       "   Cells_AreaShape_BoundingBoxMinimum_X  Cells_AreaShape_BoundingBoxMinimum_Y  \\\n",
       "0                             -0.387556                             -0.408526   \n",
       "1                             -1.493824                             -1.208351   \n",
       "2                              0.366960                             -0.529556   \n",
       "3                              1.848040                             -3.808197   \n",
       "4                             -2.360221                             -0.558088   \n",
       "\n",
       "   ...  Nuclei_Texture_Variance_RNA_3_00_256  \\\n",
       "0  ...                             -3.679746   \n",
       "1  ...                              2.437158   \n",
       "2  ...                             -0.525705   \n",
       "3  ...                             -0.868960   \n",
       "4  ...                             -0.916399   \n",
       "\n",
       "   Nuclei_Texture_Variance_RNA_3_01_256  Nuclei_Texture_Variance_RNA_3_02_256  \\\n",
       "0                             -3.644897                             -3.663296   \n",
       "1                              2.377791                              2.409654   \n",
       "2                             -0.495094                             -0.506351   \n",
       "3                             -0.879897                             -0.857301   \n",
       "4                             -0.913091                             -0.958685   \n",
       "\n",
       "   Nuclei_Texture_Variance_RNA_3_03_256  Nuclei_Texture_Variance_RNA_5_00_256  \\\n",
       "0                             -3.716321                             -3.636625   \n",
       "1                              2.368619                              2.390954   \n",
       "2                             -0.553593                             -0.530804   \n",
       "3                             -0.868555                             -0.879776   \n",
       "4                             -0.896140                             -0.887870   \n",
       "\n",
       "   Nuclei_Texture_Variance_RNA_5_01_256  Nuclei_Texture_Variance_RNA_5_02_256  \\\n",
       "0                             -3.645543                             -3.727525   \n",
       "1                              2.298647                              2.406632   \n",
       "2                             -0.562515                             -0.519971   \n",
       "3                             -0.898712                             -0.885029   \n",
       "4                             -0.906178                             -0.915392   \n",
       "\n",
       "   Nuclei_Texture_Variance_RNA_5_03_256  Metadata_Symbol  Metadata_pert_type  \n",
       "0                             -3.679245             CDK9                 trt  \n",
       "1                              2.438143             CDK9                 trt  \n",
       "2                             -0.535011             CDK9                 trt  \n",
       "3                             -0.847506             CDK9                 trt  \n",
       "4                             -0.889229             CDK9                 trt  \n",
       "\n",
       "[5 rows x 3642 columns]"
      ]
     },
     "execution_count": 5,
     "metadata": {},
     "output_type": "execute_result"
    }
   ],
   "source": [
    "orf_metadata_df = pd.read_csv(\n",
    "    \"../00.download-and-process-annotations/output/orf_metadata.tsv.gz\",\n",
    "    sep=\"\\t\",\n",
    "    usecols=[\"Metadata_JCP2022\", \"Metadata_Symbol\", \"Metadata_pert_type\"],\n",
    ")\n",
    "\n",
    "orf_profiles_with_feature_names_df = pd.read_parquet(\n",
    "    \"../profiles/profiles_wellpos_cc_var_mad_outlier_orf.parquet\"\n",
    ").merge(orf_metadata_df, on=\"Metadata_JCP2022\", how=\"inner\")\n",
    "\n",
    "orf_profiles_with_feature_names_df.head()"
   ]
  },
  {
   "cell_type": "code",
   "execution_count": 6,
   "metadata": {},
   "outputs": [
    {
     "data": {
      "text/html": [
       "<div>\n",
       "<style scoped>\n",
       "    .dataframe tbody tr th:only-of-type {\n",
       "        vertical-align: middle;\n",
       "    }\n",
       "\n",
       "    .dataframe tbody tr th {\n",
       "        vertical-align: top;\n",
       "    }\n",
       "\n",
       "    .dataframe thead th {\n",
       "        text-align: right;\n",
       "    }\n",
       "</style>\n",
       "<table border=\"1\" class=\"dataframe\">\n",
       "  <thead>\n",
       "    <tr style=\"text-align: right;\">\n",
       "      <th></th>\n",
       "      <th>feature</th>\n",
       "      <th>compartment</th>\n",
       "      <th>feature_group</th>\n",
       "      <th>feature_type</th>\n",
       "      <th>channel</th>\n",
       "    </tr>\n",
       "  </thead>\n",
       "  <tbody>\n",
       "    <tr>\n",
       "      <th>0</th>\n",
       "      <td>Cells_AreaShape_Area</td>\n",
       "      <td>Cells</td>\n",
       "      <td>AreaShape</td>\n",
       "      <td>Area</td>\n",
       "      <td>XNONE</td>\n",
       "    </tr>\n",
       "    <tr>\n",
       "      <th>1</th>\n",
       "      <td>Cells_AreaShape_BoundingBoxArea</td>\n",
       "      <td>Cells</td>\n",
       "      <td>AreaShape</td>\n",
       "      <td>BoundingBoxArea</td>\n",
       "      <td>XNONE</td>\n",
       "    </tr>\n",
       "    <tr>\n",
       "      <th>2</th>\n",
       "      <td>Cells_AreaShape_BoundingBoxMaximum_X</td>\n",
       "      <td>Cells</td>\n",
       "      <td>AreaShape</td>\n",
       "      <td>BoundingBoxMaximum</td>\n",
       "      <td>XNONE</td>\n",
       "    </tr>\n",
       "    <tr>\n",
       "      <th>3</th>\n",
       "      <td>Cells_AreaShape_BoundingBoxMaximum_Y</td>\n",
       "      <td>Cells</td>\n",
       "      <td>AreaShape</td>\n",
       "      <td>BoundingBoxMaximum</td>\n",
       "      <td>XNONE</td>\n",
       "    </tr>\n",
       "    <tr>\n",
       "      <th>4</th>\n",
       "      <td>Cells_AreaShape_BoundingBoxMinimum_X</td>\n",
       "      <td>Cells</td>\n",
       "      <td>AreaShape</td>\n",
       "      <td>BoundingBoxMinimum</td>\n",
       "      <td>XNONE</td>\n",
       "    </tr>\n",
       "  </tbody>\n",
       "</table>\n",
       "</div>"
      ],
      "text/plain": [
       "                                feature compartment feature_group  \\\n",
       "0                  Cells_AreaShape_Area       Cells     AreaShape   \n",
       "1       Cells_AreaShape_BoundingBoxArea       Cells     AreaShape   \n",
       "2  Cells_AreaShape_BoundingBoxMaximum_X       Cells     AreaShape   \n",
       "3  Cells_AreaShape_BoundingBoxMaximum_Y       Cells     AreaShape   \n",
       "4  Cells_AreaShape_BoundingBoxMinimum_X       Cells     AreaShape   \n",
       "\n",
       "         feature_type channel  \n",
       "0                Area   XNONE  \n",
       "1     BoundingBoxArea   XNONE  \n",
       "2  BoundingBoxMaximum   XNONE  \n",
       "3  BoundingBoxMaximum   XNONE  \n",
       "4  BoundingBoxMinimum   XNONE  "
      ]
     },
     "execution_count": 6,
     "metadata": {},
     "output_type": "execute_result"
    }
   ],
   "source": [
    "feature_names = utils.get_featurecols(orf_profiles_with_feature_names_df)\n",
    "\n",
    "feature_name_interpretation_df = pd.DataFrame()\n",
    "\n",
    "for feature_name in feature_names:\n",
    "    df = pd.DataFrame(utils.parse_cp_features(feature_name), index=[0])\n",
    "    feature_name_interpretation_df = pd.concat([feature_name_interpretation_df, df], ignore_index=True)\n",
    "\n",
    "feature_name_interpretation_df.head()"
   ]
  },
  {
   "cell_type": "code",
   "execution_count": 7,
   "metadata": {},
   "outputs": [
    {
     "data": {
      "application/vnd.jupyter.widget-view+json": {
       "model_id": "b8367d67fb5b45fc90c41bc3ccaf35dc",
       "version_major": 2,
       "version_minor": 0
      },
      "text/plain": [
       "  0%|          | 0/1 [00:00<?, ?it/s]"
      ]
     },
     "metadata": {},
     "output_type": "display_data"
    },
    {
     "data": {
      "application/vnd.jupyter.widget-view+json": {
       "model_id": "79ce46e0a36743148796bde6da2acc91",
       "version_major": 2,
       "version_minor": 0
      },
      "text/plain": [
       "  0%|          | 0/1 [00:00<?, ?it/s]"
      ]
     },
     "metadata": {},
     "output_type": "display_data"
    },
    {
     "data": {
      "application/vnd.jupyter.widget-view+json": {
       "model_id": "ccffc267dd52413d8c2c656df507ee5a",
       "version_major": 2,
       "version_minor": 0
      },
      "text/plain": [
       "  0%|          | 0/1 [00:00<?, ?it/s]"
      ]
     },
     "metadata": {},
     "output_type": "display_data"
    },
    {
     "name": "stdout",
     "output_type": "stream",
     "text": [
      "OR2L13-OR2C1-SLC10A3-SLC35F5-SLC22A12-SLC16A14-OR2A4-OR5L1-SLC22A14-OR7E2P-OR6N1-OR2A2-OR52I2-OR6B2-OR56A1-OR2B11-OR2AE1-OR4N4-OR10S1-OR4D6-OR13J1-OR13A1-OR14I1-OR12D3-OR5C1-SLC7A9-SLC22A13-OR2S2-SLC35E2A-OR10H2-SLC29A3-SLCO6A1-SLC7A7-SLC28A2-SLC49A4-SLC17A2-SLC35G5\n",
      "| Feature_group   |    Cells |   Cytoplasm |   Nuclei |\n",
      "|:----------------|---------:|------------:|---------:|\n",
      "| AreaShape       | 0.670766 |    0.681845 | 0.817445 |\n"
     ]
    },
    {
     "data": {
      "application/vnd.jupyter.widget-view+json": {
       "model_id": "0db84fa27c4b4733b2b7c34eb37ce953",
       "version_major": 2,
       "version_minor": 0
      },
      "text/plain": [
       "  0%|          | 0/1 [00:00<?, ?it/s]"
      ]
     },
     "metadata": {},
     "output_type": "display_data"
    },
    {
     "data": {
      "application/vnd.jupyter.widget-view+json": {
       "model_id": "1e510a0463c44ee08e2f13d6e6237c80",
       "version_major": 2,
       "version_minor": 0
      },
      "text/plain": [
       "  0%|          | 0/1 [00:00<?, ?it/s]"
      ]
     },
     "metadata": {},
     "output_type": "display_data"
    },
    {
     "data": {
      "application/vnd.jupyter.widget-view+json": {
       "model_id": "93817a25e60243e8aaedcfdc5e1d8d49",
       "version_major": 2,
       "version_minor": 0
      },
      "text/plain": [
       "  0%|          | 0/1 [00:00<?, ?it/s]"
      ]
     },
     "metadata": {},
     "output_type": "display_data"
    },
    {
     "name": "stdout",
     "output_type": "stream",
     "text": [
      "YAP1-WWTR1-VGLL4-PRKCE-STK3-CEP72-IL20RB-MTMR9\n",
      "| Feature_group   |    Cells |   Cytoplasm |   Nuclei |\n",
      "|:----------------|---------:|------------:|---------:|\n",
      "| AreaShape       | 0.462371 |    0.532238 | 0.582476 |\n"
     ]
    }
   ],
   "source": [
    "for geneset in orf_genesets:\n",
    "    compartment_feature_group_df = pd.DataFrame()\n",
    "    for compartment in compartments:\n",
    "        feature_cols = (\n",
    "            feature_name_interpretation_df.query(\"feature_group==@feature_group\")\n",
    "            .query(\"compartment==@compartment\")\n",
    "            .feature.to_list()\n",
    "        )\n",
    "\n",
    "        profiles = orf_profiles_with_feature_names_df.query(\n",
    "            \"Metadata_Symbol in @geneset\"\n",
    "        )\n",
    "        plates_with_genes = list(np.unique(profiles.Metadata_Plate.to_list()))\n",
    "        negative_control_profiles = orf_profiles_with_feature_names_df.query(\n",
    "            \"Metadata_Plate in @plates_with_genes\"\n",
    "        ).query(\"Metadata_pert_type=='negcon'\")\n",
    "\n",
    "        consensus_profiles = utils.consensus(profiles, \"Metadata_JCP2022\")\n",
    "        consensus_profiles = utils.consensus(consensus_profiles, \"Metadata_pert_type\")[\n",
    "            feature_cols\n",
    "        ].copy()\n",
    "        consensus_negative_control_profiles = utils.consensus(\n",
    "            negative_control_profiles, \"Metadata_pert_type\"\n",
    "        )[feature_cols].copy()\n",
    "\n",
    "        id = [\"genes\", \"negcon\"]\n",
    "\n",
    "        feature_values = np.asarray(\n",
    "            [\n",
    "                np.abs(utils.get_featuredata(consensus_profiles)).values[0],\n",
    "                np.abs(\n",
    "                    utils.get_featuredata(consensus_negative_control_profiles)\n",
    "                ).values[0],\n",
    "            ]\n",
    "        )\n",
    "\n",
    "        cosine_sim = utils.cosine_similarity(id, feature_values).values[0, 1]\n",
    "\n",
    "        df = pd.DataFrame(\n",
    "            {\n",
    "                \"Compartment\": compartment,\n",
    "                \"Feature_group\": feature_group,\n",
    "                \"Similarity\": cosine_sim,\n",
    "            },\n",
    "            index=[0],\n",
    "        )\n",
    "\n",
    "        compartment_feature_group_df = pd.concat(\n",
    "            [compartment_feature_group_df, df], ignore_index=True\n",
    "        )\n",
    "\n",
    "    compartment_feature_group_df = compartment_feature_group_df.pivot(\n",
    "        index=\"Feature_group\", columns=\"Compartment\", values=\"Similarity\"\n",
    "    )\n",
    "\n",
    "    print('-'.join(geneset))\n",
    "    print(compartment_feature_group_df.to_markdown())"
   ]
  },
  {
   "cell_type": "code",
   "execution_count": 8,
   "metadata": {},
   "outputs": [
    {
     "data": {
      "application/vnd.jupyter.widget-view+json": {
       "model_id": "5234a354d0874a41ac4998c0796e00fd",
       "version_major": 2,
       "version_minor": 0
      },
      "text/plain": [
       "  0%|          | 0/1 [00:00<?, ?it/s]"
      ]
     },
     "metadata": {},
     "output_type": "display_data"
    },
    {
     "data": {
      "application/vnd.jupyter.widget-view+json": {
       "model_id": "513ace6546d1461aaa784addf6a950e9",
       "version_major": 2,
       "version_minor": 0
      },
      "text/plain": [
       "  0%|          | 0/1 [00:00<?, ?it/s]"
      ]
     },
     "metadata": {},
     "output_type": "display_data"
    },
    {
     "data": {
      "application/vnd.jupyter.widget-view+json": {
       "model_id": "930d67549a974b4cbbabc8940d6f5962",
       "version_major": 2,
       "version_minor": 0
      },
      "text/plain": [
       "  0%|          | 0/1 [00:00<?, ?it/s]"
      ]
     },
     "metadata": {},
     "output_type": "display_data"
    },
    {
     "data": {
      "application/vnd.jupyter.widget-view+json": {
       "model_id": "b6692f5563044fa0957e41c149dd0c9a",
       "version_major": 2,
       "version_minor": 0
      },
      "text/plain": [
       "  0%|          | 0/1 [00:00<?, ?it/s]"
      ]
     },
     "metadata": {},
     "output_type": "display_data"
    },
    {
     "data": {
      "application/vnd.jupyter.widget-view+json": {
       "model_id": "17e6e54c50a7498aa800f23e6c82e8ff",
       "version_major": 2,
       "version_minor": 0
      },
      "text/plain": [
       "  0%|          | 0/1 [00:00<?, ?it/s]"
      ]
     },
     "metadata": {},
     "output_type": "display_data"
    },
    {
     "data": {
      "application/vnd.jupyter.widget-view+json": {
       "model_id": "d9ecd0467372411ba65522a7dda83f12",
       "version_major": 2,
       "version_minor": 0
      },
      "text/plain": [
       "  0%|          | 0/1 [00:00<?, ?it/s]"
      ]
     },
     "metadata": {},
     "output_type": "display_data"
    },
    {
     "data": {
      "application/vnd.jupyter.widget-view+json": {
       "model_id": "a91e4c77921f47dfbb65998a4e9c4235",
       "version_major": 2,
       "version_minor": 0
      },
      "text/plain": [
       "  0%|          | 0/1 [00:00<?, ?it/s]"
      ]
     },
     "metadata": {},
     "output_type": "display_data"
    },
    {
     "data": {
      "application/vnd.jupyter.widget-view+json": {
       "model_id": "f7bb311f681e45eab02209d90ea036e5",
       "version_major": 2,
       "version_minor": 0
      },
      "text/plain": [
       "  0%|          | 0/1 [00:00<?, ?it/s]"
      ]
     },
     "metadata": {},
     "output_type": "display_data"
    },
    {
     "data": {
      "application/vnd.jupyter.widget-view+json": {
       "model_id": "16da9eb229054caba8f5612ead8697dc",
       "version_major": 2,
       "version_minor": 0
      },
      "text/plain": [
       "  0%|          | 0/1 [00:00<?, ?it/s]"
      ]
     },
     "metadata": {},
     "output_type": "display_data"
    },
    {
     "data": {
      "application/vnd.jupyter.widget-view+json": {
       "model_id": "7ff1b44f08fc46909178ff6d94fe79d7",
       "version_major": 2,
       "version_minor": 0
      },
      "text/plain": [
       "  0%|          | 0/1 [00:00<?, ?it/s]"
      ]
     },
     "metadata": {},
     "output_type": "display_data"
    },
    {
     "data": {
      "application/vnd.jupyter.widget-view+json": {
       "model_id": "a0136bb9044846cbb87e678b1c28b976",
       "version_major": 2,
       "version_minor": 0
      },
      "text/plain": [
       "  0%|          | 0/1 [00:00<?, ?it/s]"
      ]
     },
     "metadata": {},
     "output_type": "display_data"
    },
    {
     "data": {
      "application/vnd.jupyter.widget-view+json": {
       "model_id": "5f379971bf5f402cada28f250fd1877f",
       "version_major": 2,
       "version_minor": 0
      },
      "text/plain": [
       "  0%|          | 0/1 [00:00<?, ?it/s]"
      ]
     },
     "metadata": {},
     "output_type": "display_data"
    },
    {
     "data": {
      "application/vnd.jupyter.widget-view+json": {
       "model_id": "dcafcba637d145b488a0b0dff04b013d",
       "version_major": 2,
       "version_minor": 0
      },
      "text/plain": [
       "  0%|          | 0/1 [00:00<?, ?it/s]"
      ]
     },
     "metadata": {},
     "output_type": "display_data"
    },
    {
     "data": {
      "application/vnd.jupyter.widget-view+json": {
       "model_id": "db120b3aa7784e64b711398ded2fe0fa",
       "version_major": 2,
       "version_minor": 0
      },
      "text/plain": [
       "  0%|          | 0/1 [00:00<?, ?it/s]"
      ]
     },
     "metadata": {},
     "output_type": "display_data"
    },
    {
     "data": {
      "application/vnd.jupyter.widget-view+json": {
       "model_id": "81473d4055ab4e7d95e6cb677dc23d1c",
       "version_major": 2,
       "version_minor": 0
      },
      "text/plain": [
       "  0%|          | 0/1 [00:00<?, ?it/s]"
      ]
     },
     "metadata": {},
     "output_type": "display_data"
    },
    {
     "name": "stdout",
     "output_type": "stream",
     "text": [
      "OR2L13-OR2C1-SLC10A3-SLC35F5-SLC22A12-SLC16A14-OR2A4-OR5L1-SLC22A14-OR7E2P-OR6N1-OR2A2-OR52I2-OR6B2-OR56A1-OR2B11-OR2AE1-OR4N4-OR10S1-OR4D6-OR13J1-OR13A1-OR14I1-OR12D3-OR5C1-SLC7A9-SLC22A13-OR2S2-SLC35E2A-OR10H2-SLC29A3-SLCO6A1-SLC7A7-SLC28A2-SLC49A4-SLC17A2-SLC35G5\n",
      "| Feature_group      |      AGP |      DNA |       ER |     Mito |      RNA |\n",
      "|:-------------------|---------:|---------:|---------:|---------:|---------:|\n",
      "| Intensity          | 0.663982 | 0.638312 | 0.451621 | 0.748014 | 0.678516 |\n",
      "| RadialDistribution | 0.628601 | 0.82015  | 0.741996 | 0.769545 | 0.612776 |\n",
      "| Texture            | 0.713483 | 0.319648 | 0.692508 | 0.770683 | 0.622415 |\n"
     ]
    },
    {
     "data": {
      "application/vnd.jupyter.widget-view+json": {
       "model_id": "5563ddf108c64b00890b90db9c4d5111",
       "version_major": 2,
       "version_minor": 0
      },
      "text/plain": [
       "  0%|          | 0/1 [00:00<?, ?it/s]"
      ]
     },
     "metadata": {},
     "output_type": "display_data"
    },
    {
     "data": {
      "application/vnd.jupyter.widget-view+json": {
       "model_id": "9f1d3241f1194b9fa0d5bb3633a0a0a3",
       "version_major": 2,
       "version_minor": 0
      },
      "text/plain": [
       "  0%|          | 0/1 [00:00<?, ?it/s]"
      ]
     },
     "metadata": {},
     "output_type": "display_data"
    },
    {
     "data": {
      "application/vnd.jupyter.widget-view+json": {
       "model_id": "b89c5cbb57f04044b98b6d8db8b64f04",
       "version_major": 2,
       "version_minor": 0
      },
      "text/plain": [
       "  0%|          | 0/1 [00:00<?, ?it/s]"
      ]
     },
     "metadata": {},
     "output_type": "display_data"
    },
    {
     "data": {
      "application/vnd.jupyter.widget-view+json": {
       "model_id": "742ed8d4348f48fdb241e67b156bde71",
       "version_major": 2,
       "version_minor": 0
      },
      "text/plain": [
       "  0%|          | 0/1 [00:00<?, ?it/s]"
      ]
     },
     "metadata": {},
     "output_type": "display_data"
    },
    {
     "data": {
      "application/vnd.jupyter.widget-view+json": {
       "model_id": "02134f78e40b4655a8c82bce9291f4e2",
       "version_major": 2,
       "version_minor": 0
      },
      "text/plain": [
       "  0%|          | 0/1 [00:00<?, ?it/s]"
      ]
     },
     "metadata": {},
     "output_type": "display_data"
    },
    {
     "data": {
      "application/vnd.jupyter.widget-view+json": {
       "model_id": "bb44857c6a15463f8a8a1a007415e85e",
       "version_major": 2,
       "version_minor": 0
      },
      "text/plain": [
       "  0%|          | 0/1 [00:00<?, ?it/s]"
      ]
     },
     "metadata": {},
     "output_type": "display_data"
    },
    {
     "data": {
      "application/vnd.jupyter.widget-view+json": {
       "model_id": "867175cf6de74b70a303e9dc94239d40",
       "version_major": 2,
       "version_minor": 0
      },
      "text/plain": [
       "  0%|          | 0/1 [00:00<?, ?it/s]"
      ]
     },
     "metadata": {},
     "output_type": "display_data"
    },
    {
     "data": {
      "application/vnd.jupyter.widget-view+json": {
       "model_id": "b923163d87e14f6ab5c1c3c0012c31a4",
       "version_major": 2,
       "version_minor": 0
      },
      "text/plain": [
       "  0%|          | 0/1 [00:00<?, ?it/s]"
      ]
     },
     "metadata": {},
     "output_type": "display_data"
    },
    {
     "data": {
      "application/vnd.jupyter.widget-view+json": {
       "model_id": "0dae9635e73146c39482a6cc019d0e03",
       "version_major": 2,
       "version_minor": 0
      },
      "text/plain": [
       "  0%|          | 0/1 [00:00<?, ?it/s]"
      ]
     },
     "metadata": {},
     "output_type": "display_data"
    },
    {
     "data": {
      "application/vnd.jupyter.widget-view+json": {
       "model_id": "8e31e88539cb4197b32a9edaadb5e2d4",
       "version_major": 2,
       "version_minor": 0
      },
      "text/plain": [
       "  0%|          | 0/1 [00:00<?, ?it/s]"
      ]
     },
     "metadata": {},
     "output_type": "display_data"
    },
    {
     "data": {
      "application/vnd.jupyter.widget-view+json": {
       "model_id": "a67c46c843244fd4abc49f3d44c9606d",
       "version_major": 2,
       "version_minor": 0
      },
      "text/plain": [
       "  0%|          | 0/1 [00:00<?, ?it/s]"
      ]
     },
     "metadata": {},
     "output_type": "display_data"
    },
    {
     "data": {
      "application/vnd.jupyter.widget-view+json": {
       "model_id": "8539fff11abc49198416f03abb151deb",
       "version_major": 2,
       "version_minor": 0
      },
      "text/plain": [
       "  0%|          | 0/1 [00:00<?, ?it/s]"
      ]
     },
     "metadata": {},
     "output_type": "display_data"
    },
    {
     "data": {
      "application/vnd.jupyter.widget-view+json": {
       "model_id": "c865fc25692a4ad0bea671702d01f770",
       "version_major": 2,
       "version_minor": 0
      },
      "text/plain": [
       "  0%|          | 0/1 [00:00<?, ?it/s]"
      ]
     },
     "metadata": {},
     "output_type": "display_data"
    },
    {
     "data": {
      "application/vnd.jupyter.widget-view+json": {
       "model_id": "00c8804d10034e1cb0b9bc98362ab034",
       "version_major": 2,
       "version_minor": 0
      },
      "text/plain": [
       "  0%|          | 0/1 [00:00<?, ?it/s]"
      ]
     },
     "metadata": {},
     "output_type": "display_data"
    },
    {
     "data": {
      "application/vnd.jupyter.widget-view+json": {
       "model_id": "81036a7a58d54fcca1e8a7b054b2d82b",
       "version_major": 2,
       "version_minor": 0
      },
      "text/plain": [
       "  0%|          | 0/1 [00:00<?, ?it/s]"
      ]
     },
     "metadata": {},
     "output_type": "display_data"
    },
    {
     "name": "stdout",
     "output_type": "stream",
     "text": [
      "YAP1-WWTR1-VGLL4-PRKCE-STK3-CEP72-IL20RB-MTMR9\n",
      "| Feature_group      |      AGP |      DNA |       ER |     Mito |      RNA |\n",
      "|:-------------------|---------:|---------:|---------:|---------:|---------:|\n",
      "| Intensity          | 0.668385 | 0.625085 | 0.689311 | 0.799832 | 0.67024  |\n",
      "| RadialDistribution | 0.623159 | 0.729679 | 0.703727 | 0.53702  | 0.619651 |\n",
      "| Texture            | 0.673136 | 0.678875 | 0.566791 | 0.751775 | 0.719063 |\n"
     ]
    }
   ],
   "source": [
    "for geneset in orf_genesets:\n",
    "    channel_feature_group_df = pd.DataFrame()\n",
    "    for channel in channels:\n",
    "        for feature_group in feature_group_list:\n",
    "            feature_cols = (\n",
    "                feature_name_interpretation_df.query(\"feature_group==@feature_group\")\n",
    "                .query(\"channel==@channel\")\n",
    "                .feature.to_list()\n",
    "            )\n",
    "\n",
    "            profiles = orf_profiles_with_feature_names_df.query(\n",
    "                \"Metadata_Symbol in @geneset\"\n",
    "            )\n",
    "            plates_with_genes = list(np.unique(profiles.Metadata_Plate.to_list()))\n",
    "            negative_control_profiles = orf_profiles_with_feature_names_df.query(\n",
    "                \"Metadata_Plate in @plates_with_genes\"\n",
    "            ).query(\"Metadata_pert_type=='negcon'\")\n",
    "\n",
    "            consensus_profiles = utils.consensus(profiles, \"Metadata_JCP2022\")\n",
    "            consensus_profiles = utils.consensus(consensus_profiles, \"Metadata_pert_type\")[\n",
    "                feature_cols\n",
    "            ].copy()\n",
    "            consensus_negative_control_profiles = utils.consensus(\n",
    "                negative_control_profiles, \"Metadata_pert_type\"\n",
    "            )[feature_cols].copy()\n",
    "\n",
    "            id = [\"genes\", \"negcon\"]\n",
    "\n",
    "            feature_values = np.asarray(\n",
    "                [\n",
    "                    np.abs(utils.get_featuredata(consensus_profiles)).values[0],\n",
    "                    np.abs(\n",
    "                        utils.get_featuredata(consensus_negative_control_profiles)\n",
    "                    ).values[0],\n",
    "                ]\n",
    "            )\n",
    "\n",
    "            cosine_sim = utils.cosine_similarity(id, feature_values).values[0, 1]\n",
    "\n",
    "            df = pd.DataFrame(\n",
    "                {\n",
    "                    \"Channel\": channel,\n",
    "                    \"Feature_group\": feature_group,\n",
    "                    \"Similarity\": cosine_sim,\n",
    "                },\n",
    "                index=[0],\n",
    "            )\n",
    "\n",
    "            channel_feature_group_df = pd.concat(\n",
    "                [channel_feature_group_df, df], ignore_index=True\n",
    "            )\n",
    "\n",
    "    channel_feature_group_df = channel_feature_group_df.pivot(\n",
    "        index=\"Feature_group\", columns=\"Channel\", values=\"Similarity\"\n",
    "    )\n",
    "\n",
    "    print('-'.join(geneset))\n",
    "    print(channel_feature_group_df.to_markdown())"
   ]
  }
 ],
 "metadata": {
  "kernelspec": {
   "display_name": "similarity",
   "language": "python",
   "name": "python3"
  },
  "language_info": {
   "codemirror_mode": {
    "name": "ipython",
    "version": 3
   },
   "file_extension": ".py",
   "mimetype": "text/x-python",
   "name": "python",
   "nbconvert_exporter": "python",
   "pygments_lexer": "ipython3",
   "version": "3.10.6"
  }
 },
 "nbformat": 4,
 "nbformat_minor": 2
}
