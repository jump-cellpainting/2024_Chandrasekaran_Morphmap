{
 "cells": [
  {
   "cell_type": "code",
   "execution_count": 1,
   "metadata": {},
   "outputs": [],
   "source": [
    "import pandas as pd\n",
    "import utils\n",
    "import numpy as np\n",
    "from tqdm import tqdm\n",
    "import logging\n",
    "from sklearn.metrics.pairwise import cosine_similarity\n",
    "\n",
    "logging.basicConfig(format=\"%(levelname)s:%(asctime)s:%(name)s:%(message)s\")\n",
    "logging.getLogger(\"copairs\").setLevel(logging.INFO)"
   ]
  },
  {
   "cell_type": "code",
   "execution_count": 2,
   "metadata": {},
   "outputs": [],
   "source": [
    "operations = \"wellpos_cc_var_mad_outlier_featselect_sphering_harmony\"\n",
    "batch_size = 20000"
   ]
  },
  {
   "cell_type": "markdown",
   "metadata": {},
   "source": [
    "### Prepare the data"
   ]
  },
  {
   "cell_type": "markdown",
   "metadata": {},
   "source": [
    "#### Read the ORF parquet file"
   ]
  },
  {
   "cell_type": "code",
   "execution_count": 3,
   "metadata": {},
   "outputs": [
    {
     "data": {
      "text/plain": [
       "(81660, 726)"
      ]
     },
     "execution_count": 3,
     "metadata": {},
     "output_type": "execute_result"
    }
   ],
   "source": [
    "orf_df = pd.read_parquet(\n",
    "    f\"../profiles/profiles_{operations}.parquet\"\n",
    ")\n",
    "orf_df.shape"
   ]
  },
  {
   "cell_type": "markdown",
   "metadata": {},
   "source": [
    "### Create cosine similarity matrix"
   ]
  },
  {
   "cell_type": "markdown",
   "metadata": {},
   "source": [
    "#### Add Approved Symbols"
   ]
  },
  {
   "cell_type": "code",
   "execution_count": 4,
   "metadata": {},
   "outputs": [
    {
     "data": {
      "text/plain": [
       "(81660, 729)"
      ]
     },
     "execution_count": 4,
     "metadata": {},
     "output_type": "execute_result"
    }
   ],
   "source": [
    "orf_metadata = pd.read_csv(\n",
    "    \"../00.download-and-process-annotations/output/orf_metadata.tsv.gz\",\n",
    "    sep=\"\\t\",\n",
    "    usecols=[\"Metadata_JCP2022\", \"Metadata_Approved_Symbol\", \"Metadata_Symbol\"],\n",
    ")\n",
    "\n",
    "orf_df = orf_df.merge(orf_metadata, on=\"Metadata_JCP2022\", how=\"left\")\n",
    "\n",
    "orf_df = orf_df.assign(\n",
    "    Metadata_Gene_Symbol=lambda x: np.where(\n",
    "        x.Metadata_Approved_Symbol.isna(), x.Metadata_Symbol, x.Metadata_Approved_Symbol\n",
    "    )\n",
    ")\n",
    "\n",
    "orf_df.shape"
   ]
  },
  {
   "cell_type": "markdown",
   "metadata": {},
   "source": [
    "#### Create consensus profiles"
   ]
  },
  {
   "cell_type": "code",
   "execution_count": 5,
   "metadata": {},
   "outputs": [
    {
     "data": {
      "text/plain": [
       "(12602, 729)"
      ]
     },
     "execution_count": 5,
     "metadata": {},
     "output_type": "execute_result"
    }
   ],
   "source": [
    "consensus_df = utils.consensus(orf_df, \"Metadata_Gene_Symbol\")\n",
    "consensus_df.shape"
   ]
  },
  {
   "cell_type": "code",
   "execution_count": 6,
   "metadata": {},
   "outputs": [],
   "source": [
    "feature_df = utils.get_featuredata(consensus_df)\n",
    "feature_values = feature_df.values\n",
    "id = list(consensus_df[\"Metadata_Gene_Symbol\"])"
   ]
  },
  {
   "cell_type": "code",
   "execution_count": 7,
   "metadata": {},
   "outputs": [
    {
     "name": "stderr",
     "output_type": "stream",
     "text": [
      "INFO:2024-05-17 10:11:52,876:copairs:Computing positive similarities...\n"
     ]
    },
    {
     "data": {
      "application/vnd.jupyter.widget-view+json": {
       "model_id": "67e2c9988a6d4ff985bfec215ea9affe",
       "version_major": 2,
       "version_minor": 0
      },
      "text/plain": [
       "  0%|          | 0/3970 [00:00<?, ?it/s]"
      ]
     },
     "metadata": {},
     "output_type": "display_data"
    }
   ],
   "source": [
    "cosine_sim_df = utils.cosine_similarity(\n",
    "    id,\n",
    "    feature_values,\n",
    "    batch_size=batch_size,\n",
    ")"
   ]
  },
  {
   "cell_type": "code",
   "execution_count": 8,
   "metadata": {},
   "outputs": [
    {
     "data": {
      "text/html": [
       "<div>\n",
       "<style scoped>\n",
       "    .dataframe tbody tr th:only-of-type {\n",
       "        vertical-align: middle;\n",
       "    }\n",
       "\n",
       "    .dataframe tbody tr th {\n",
       "        vertical-align: top;\n",
       "    }\n",
       "\n",
       "    .dataframe thead th {\n",
       "        text-align: right;\n",
       "    }\n",
       "</style>\n",
       "<table border=\"1\" class=\"dataframe\">\n",
       "  <thead>\n",
       "    <tr style=\"text-align: right;\">\n",
       "      <th></th>\n",
       "      <th>CDK9</th>\n",
       "      <th>ZNF597</th>\n",
       "      <th>CDX1</th>\n",
       "      <th>LUCIFERASE</th>\n",
       "      <th>SIX2</th>\n",
       "      <th>HSF5</th>\n",
       "      <th>ATF7</th>\n",
       "      <th>DIDO1</th>\n",
       "      <th>RAI1</th>\n",
       "      <th>HcRed</th>\n",
       "      <th>...</th>\n",
       "      <th>HPGD</th>\n",
       "      <th>HSD17B3</th>\n",
       "      <th>RAB32</th>\n",
       "      <th>SLC39A9</th>\n",
       "      <th>TNF</th>\n",
       "      <th>OSER1</th>\n",
       "      <th>MRAP2</th>\n",
       "      <th>DNAAF6</th>\n",
       "      <th>LY6D</th>\n",
       "      <th>COQ4</th>\n",
       "    </tr>\n",
       "  </thead>\n",
       "  <tbody>\n",
       "    <tr>\n",
       "      <th>CDK9</th>\n",
       "      <td>1.000000</td>\n",
       "      <td>-0.053557</td>\n",
       "      <td>-0.036738</td>\n",
       "      <td>0.185173</td>\n",
       "      <td>0.053934</td>\n",
       "      <td>-0.033102</td>\n",
       "      <td>-0.020880</td>\n",
       "      <td>0.024192</td>\n",
       "      <td>0.102774</td>\n",
       "      <td>0.188763</td>\n",
       "      <td>...</td>\n",
       "      <td>0.040449</td>\n",
       "      <td>-0.018367</td>\n",
       "      <td>0.028402</td>\n",
       "      <td>0.047726</td>\n",
       "      <td>0.065281</td>\n",
       "      <td>-0.056427</td>\n",
       "      <td>0.048590</td>\n",
       "      <td>0.094420</td>\n",
       "      <td>-0.014681</td>\n",
       "      <td>0.003006</td>\n",
       "    </tr>\n",
       "    <tr>\n",
       "      <th>ZNF597</th>\n",
       "      <td>-0.053557</td>\n",
       "      <td>1.000000</td>\n",
       "      <td>0.069338</td>\n",
       "      <td>0.094281</td>\n",
       "      <td>0.036989</td>\n",
       "      <td>0.180690</td>\n",
       "      <td>0.047083</td>\n",
       "      <td>0.095729</td>\n",
       "      <td>0.081758</td>\n",
       "      <td>0.062295</td>\n",
       "      <td>...</td>\n",
       "      <td>0.021428</td>\n",
       "      <td>0.064239</td>\n",
       "      <td>0.004501</td>\n",
       "      <td>0.066912</td>\n",
       "      <td>-0.142149</td>\n",
       "      <td>-0.046353</td>\n",
       "      <td>0.065912</td>\n",
       "      <td>-0.042277</td>\n",
       "      <td>0.068089</td>\n",
       "      <td>-0.004047</td>\n",
       "    </tr>\n",
       "    <tr>\n",
       "      <th>CDX1</th>\n",
       "      <td>-0.036738</td>\n",
       "      <td>0.069338</td>\n",
       "      <td>1.000000</td>\n",
       "      <td>0.053382</td>\n",
       "      <td>0.170138</td>\n",
       "      <td>0.124885</td>\n",
       "      <td>0.115133</td>\n",
       "      <td>0.055702</td>\n",
       "      <td>0.083784</td>\n",
       "      <td>0.109262</td>\n",
       "      <td>...</td>\n",
       "      <td>0.010269</td>\n",
       "      <td>0.047989</td>\n",
       "      <td>-0.032858</td>\n",
       "      <td>-0.011991</td>\n",
       "      <td>-0.041313</td>\n",
       "      <td>0.021274</td>\n",
       "      <td>0.022880</td>\n",
       "      <td>0.103896</td>\n",
       "      <td>0.169554</td>\n",
       "      <td>0.061498</td>\n",
       "    </tr>\n",
       "    <tr>\n",
       "      <th>LUCIFERASE</th>\n",
       "      <td>0.185173</td>\n",
       "      <td>0.094281</td>\n",
       "      <td>0.053382</td>\n",
       "      <td>1.000000</td>\n",
       "      <td>0.099741</td>\n",
       "      <td>0.133293</td>\n",
       "      <td>0.148306</td>\n",
       "      <td>0.182818</td>\n",
       "      <td>0.190666</td>\n",
       "      <td>0.607766</td>\n",
       "      <td>...</td>\n",
       "      <td>0.184806</td>\n",
       "      <td>-0.034328</td>\n",
       "      <td>0.200412</td>\n",
       "      <td>0.107746</td>\n",
       "      <td>0.003294</td>\n",
       "      <td>0.048373</td>\n",
       "      <td>0.169493</td>\n",
       "      <td>0.122674</td>\n",
       "      <td>0.071305</td>\n",
       "      <td>0.122501</td>\n",
       "    </tr>\n",
       "    <tr>\n",
       "      <th>SIX2</th>\n",
       "      <td>0.053934</td>\n",
       "      <td>0.036989</td>\n",
       "      <td>0.170138</td>\n",
       "      <td>0.099741</td>\n",
       "      <td>1.000000</td>\n",
       "      <td>0.153347</td>\n",
       "      <td>0.068425</td>\n",
       "      <td>0.043138</td>\n",
       "      <td>0.097845</td>\n",
       "      <td>0.108223</td>\n",
       "      <td>...</td>\n",
       "      <td>0.035675</td>\n",
       "      <td>-0.172400</td>\n",
       "      <td>-0.060922</td>\n",
       "      <td>0.094394</td>\n",
       "      <td>-0.016155</td>\n",
       "      <td>-0.021136</td>\n",
       "      <td>0.007049</td>\n",
       "      <td>0.093166</td>\n",
       "      <td>0.078007</td>\n",
       "      <td>0.002403</td>\n",
       "    </tr>\n",
       "  </tbody>\n",
       "</table>\n",
       "<p>5 rows × 12602 columns</p>\n",
       "</div>"
      ],
      "text/plain": [
       "                CDK9    ZNF597      CDX1  LUCIFERASE      SIX2      HSF5  \\\n",
       "CDK9        1.000000 -0.053557 -0.036738    0.185173  0.053934 -0.033102   \n",
       "ZNF597     -0.053557  1.000000  0.069338    0.094281  0.036989  0.180690   \n",
       "CDX1       -0.036738  0.069338  1.000000    0.053382  0.170138  0.124885   \n",
       "LUCIFERASE  0.185173  0.094281  0.053382    1.000000  0.099741  0.133293   \n",
       "SIX2        0.053934  0.036989  0.170138    0.099741  1.000000  0.153347   \n",
       "\n",
       "                ATF7     DIDO1      RAI1     HcRed  ...      HPGD   HSD17B3  \\\n",
       "CDK9       -0.020880  0.024192  0.102774  0.188763  ...  0.040449 -0.018367   \n",
       "ZNF597      0.047083  0.095729  0.081758  0.062295  ...  0.021428  0.064239   \n",
       "CDX1        0.115133  0.055702  0.083784  0.109262  ...  0.010269  0.047989   \n",
       "LUCIFERASE  0.148306  0.182818  0.190666  0.607766  ...  0.184806 -0.034328   \n",
       "SIX2        0.068425  0.043138  0.097845  0.108223  ...  0.035675 -0.172400   \n",
       "\n",
       "               RAB32   SLC39A9       TNF     OSER1     MRAP2    DNAAF6  \\\n",
       "CDK9        0.028402  0.047726  0.065281 -0.056427  0.048590  0.094420   \n",
       "ZNF597      0.004501  0.066912 -0.142149 -0.046353  0.065912 -0.042277   \n",
       "CDX1       -0.032858 -0.011991 -0.041313  0.021274  0.022880  0.103896   \n",
       "LUCIFERASE  0.200412  0.107746  0.003294  0.048373  0.169493  0.122674   \n",
       "SIX2       -0.060922  0.094394 -0.016155 -0.021136  0.007049  0.093166   \n",
       "\n",
       "                LY6D      COQ4  \n",
       "CDK9       -0.014681  0.003006  \n",
       "ZNF597      0.068089 -0.004047  \n",
       "CDX1        0.169554  0.061498  \n",
       "LUCIFERASE  0.071305  0.122501  \n",
       "SIX2        0.078007  0.002403  \n",
       "\n",
       "[5 rows x 12602 columns]"
      ]
     },
     "execution_count": 8,
     "metadata": {},
     "output_type": "execute_result"
    }
   ],
   "source": [
    "cosine_sim_df.head()"
   ]
  },
  {
   "cell_type": "code",
   "execution_count": 9,
   "metadata": {},
   "outputs": [],
   "source": [
    "cosine_sim_df.to_parquet(\n",
    "    f\"cos_sim/cosine_similarities_genes_orf-all.parquet\", index=True\n",
    ")"
   ]
  }
 ],
 "metadata": {
  "kernelspec": {
   "display_name": "similarity",
   "language": "python",
   "name": "python3"
  },
  "language_info": {
   "codemirror_mode": {
    "name": "ipython",
    "version": 3
   },
   "file_extension": ".py",
   "mimetype": "text/x-python",
   "name": "python",
   "nbconvert_exporter": "python",
   "pygments_lexer": "ipython3",
   "version": "3.10.6"
  }
 },
 "nbformat": 4,
 "nbformat_minor": 2
}
