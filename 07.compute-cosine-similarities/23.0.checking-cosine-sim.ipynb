{
 "cells": [
  {
   "cell_type": "code",
   "execution_count": 1,
   "metadata": {},
   "outputs": [],
   "source": [
    "import pandas as pd"
   ]
  },
  {
   "cell_type": "code",
   "execution_count": 2,
   "metadata": {},
   "outputs": [],
   "source": [
    "orf_genesets = [\n",
    "    [\"SLC39A1\", \"ZBTB16\"],\n",
    "    [\"SARS2\", \"ECH1\", \"DGUOK\", \"MRPS2\", \"LDHAL6B\", \"UQCRFS1\"],\n",
    "    [\"MYT1\", \"LZTS2\", \"CHRM4\", \"GPR176\", \"TSC22D1\"],\n",
    "    [\"SPDL1\", \"PAFAH1B1\", \"NDEL1\", \"NDE1\", \"HOOK2\", \"HOOK1\"],\n",
    "    [\"MYT1\", \"INSYN1\", \"RNF41\"],\n",
    "    [\"ZFP36L1\", \"PIK3R3\", \"NRBP1\", \"INSYN1\", \"HOXC8\", \"RAB40C\", \"RAB40B\"],\n",
    "    ['YAP1', 'WWTR1', 'VGLL4', 'PRKCE', 'STK3', 'CEP72', 'IL20RB', 'MTMR9']\n",
    "]\n",
    "\n",
    "crispr_genesets = [\n",
    "    [\"SLC39A1\", \"ZBTB16\"],\n",
    "    [\"FOXO3\", \"TGFB1\"],\n",
    "    [\"SARS2\", \"ECH1\", \"PVR\", \"LAIR1\", \"SLC1A5\", \"UQCRFS1\"],\n",
    "    [\"MYT1\", \"CHRM4\", \"GPR176\", \"TSC22D1\"],\n",
    "    [\"PIK3R3\", \"ZFP36L1\", \"HOXC8\", \"NRBP1\", \"RAB40B\"]\n",
    "]"
   ]
  },
  {
   "cell_type": "code",
   "execution_count": 3,
   "metadata": {},
   "outputs": [],
   "source": [
    "# Read ORF similarities\n",
    "\n",
    "orf_similarities_df = pd.read_parquet(\"cos_sim/cosine_similarities_genes_orf.parquet\")\n",
    "\n",
    "# Read CRISPR similarities\n",
    "\n",
    "crispr_similarities_df = pd.read_parquet(\"cos_sim/cosine_similarities_genes_crispr.parquet\")"
   ]
  },
  {
   "cell_type": "code",
   "execution_count": 4,
   "metadata": {},
   "outputs": [
    {
     "name": "stdout",
     "output_type": "stream",
     "text": [
      "|         |   SLC39A1 |    ZBTB16 |\n",
      "|:--------|----------:|----------:|\n",
      "| SLC39A1 |  1        | -0.294491 |\n",
      "| ZBTB16  | -0.294491 |  1        |\n",
      "\n",
      "|         |    SARS2 |     ECH1 |    DGUOK |    MRPS2 |   LDHAL6B |   UQCRFS1 |\n",
      "|:--------|---------:|---------:|---------:|---------:|----------:|----------:|\n",
      "| SARS2   | 1        | 0.376947 | 0.592026 | 0.598109 |  0.490712 |  0.48721  |\n",
      "| ECH1    | 0.376947 | 1        | 0.657316 | 0.626516 |  0.703084 |  0.632372 |\n",
      "| DGUOK   | 0.592026 | 0.657316 | 1        | 0.923327 |  0.815027 |  0.818835 |\n",
      "| MRPS2   | 0.598109 | 0.626516 | 0.923327 | 1        |  0.771309 |  0.780322 |\n",
      "| LDHAL6B | 0.490712 | 0.703084 | 0.815027 | 0.771309 |  1        |  0.738865 |\n",
      "| UQCRFS1 | 0.48721  | 0.632372 | 0.818835 | 0.780322 |  0.738865 |  1        |\n",
      "\n",
      "|         |      MYT1 |      LZTS2 |      CHRM4 |    GPR176 |   TSC22D1 |\n",
      "|:--------|----------:|-----------:|-----------:|----------:|----------:|\n",
      "| MYT1    |  1        |  0.572674  | -0.149658  | -0.246265 | -0.193917 |\n",
      "| LZTS2   |  0.572674 |  1         | -0.0679005 | -0.193512 | -0.192384 |\n",
      "| CHRM4   | -0.149658 | -0.0679005 |  1         |  0.689368 |  0.478575 |\n",
      "| GPR176  | -0.246265 | -0.193512  |  0.689368  |  1        |  0.681274 |\n",
      "| TSC22D1 | -0.193917 | -0.192384  |  0.478575  |  0.681274 |  1        |\n",
      "\n",
      "|          |     SPDL1 |   PAFAH1B1 |     NDEL1 |      NDE1 |     HOOK2 |     HOOK1 |\n",
      "|:---------|----------:|-----------:|----------:|----------:|----------:|----------:|\n",
      "| SPDL1    |  1        |  -0.23472  | -0.265153 | -0.296999 |  0.311621 |  0.410043 |\n",
      "| PAFAH1B1 | -0.23472  |   1        |  0.911471 |  0.860934 | -0.610536 | -0.473261 |\n",
      "| NDEL1    | -0.265153 |   0.911471 |  1        |  0.905747 | -0.614541 | -0.532928 |\n",
      "| NDE1     | -0.296999 |   0.860934 |  0.905747 |  1        | -0.6563   | -0.589538 |\n",
      "| HOOK2    |  0.311621 |  -0.610536 | -0.614541 | -0.6563   |  1        |  0.561544 |\n",
      "| HOOK1    |  0.410043 |  -0.473261 | -0.532928 | -0.589538 |  0.561544 |  1        |\n",
      "\n",
      "|        |      MYT1 |    INSYN1 |     RNF41 |\n",
      "|:-------|----------:|----------:|----------:|\n",
      "| MYT1   |  1        | -0.299223 | -0.55566  |\n",
      "| INSYN1 | -0.299223 |  1        |  0.430578 |\n",
      "| RNF41  | -0.55566  |  0.430578 |  1        |\n",
      "\n",
      "|         |   ZFP36L1 |    PIK3R3 |     NRBP1 |    INSYN1 |     HOXC8 |    RAB40C |    RAB40B |\n",
      "|:--------|----------:|----------:|----------:|----------:|----------:|----------:|----------:|\n",
      "| ZFP36L1 |  1        |  0.30248  | -0.274006 |  0.611344 |  0.30285  | -0.230711 | -0.338656 |\n",
      "| PIK3R3  |  0.30248  |  1        | -0.372086 |  0.260941 |  0.426598 | -0.210307 | -0.337578 |\n",
      "| NRBP1   | -0.274006 | -0.372086 |  1        | -0.331511 | -0.203548 |  0.538039 |  0.609754 |\n",
      "| INSYN1  |  0.611344 |  0.260941 | -0.331511 |  1        |  0.301661 | -0.232671 | -0.424922 |\n",
      "| HOXC8   |  0.30285  |  0.426598 | -0.203548 |  0.301661 |  1        | -0.168489 | -0.248815 |\n",
      "| RAB40C  | -0.230711 | -0.210307 |  0.538039 | -0.232671 | -0.168489 |  1        |  0.518329 |\n",
      "| RAB40B  | -0.338656 | -0.337578 |  0.609754 | -0.424922 | -0.248815 |  0.518329 |  1        |\n",
      "\n",
      "|        |      YAP1 |      WWTR1 |       VGLL4 |      PRKCE |      STK3 |      CEP72 |     IL20RB |       MTMR9 |\n",
      "|:-------|----------:|-----------:|------------:|-----------:|----------:|-----------:|-----------:|------------:|\n",
      "| YAP1   |  1        |  0.528834  | -0.254708   |  0.452393  | -0.297074 |  0.257692  | -0.104072  |  0.209464   |\n",
      "| WWTR1  |  0.528834 |  1         | -0.2415     |  0.0492941 | -0.228617 |  0.145248  | -0.0926753 |  0.0767734  |\n",
      "| VGLL4  | -0.254708 | -0.2415    |  1          | -0.253287  |  0.232085 | -0.14625   |  0.0958594 | -0.00929995 |\n",
      "| PRKCE  |  0.452393 |  0.0492941 | -0.253287   |  1         | -0.233399 |  0.287326  | -0.0473582 | -0.06958    |\n",
      "| STK3   | -0.297074 | -0.228617  |  0.232085   | -0.233399  |  1        | -0.127173  | -0.02064   | -0.113742   |\n",
      "| CEP72  |  0.257692 |  0.145248  | -0.14625    |  0.287326  | -0.127173 |  1         |  0.0171507 |  0.0114714  |\n",
      "| IL20RB | -0.104072 | -0.0926753 |  0.0958594  | -0.0473582 | -0.02064  |  0.0171507 |  1         |  0.091577   |\n",
      "| MTMR9  |  0.209464 |  0.0767734 | -0.00929995 | -0.06958   | -0.113742 |  0.0114714 |  0.091577  |  1          |\n",
      "\n"
     ]
    }
   ],
   "source": [
    "for gene in orf_genesets:\n",
    "    print(orf_similarities_df.loc[gene, gene].to_markdown())\n",
    "    print()"
   ]
  },
  {
   "cell_type": "code",
   "execution_count": 5,
   "metadata": {},
   "outputs": [
    {
     "name": "stdout",
     "output_type": "stream",
     "text": [
      "|         |   SLC39A1 |    ZBTB16 |\n",
      "|:--------|----------:|----------:|\n",
      "| SLC39A1 |  1        | -0.304687 |\n",
      "| ZBTB16  | -0.304687 |  1        |\n",
      "\n",
      "|       |     FOXO3 |     TGFB1 |\n",
      "|:------|----------:|----------:|\n",
      "| FOXO3 |  1        | -0.206471 |\n",
      "| TGFB1 | -0.206471 |  1        |\n",
      "\n",
      "|         |    SARS2 |     ECH1 |        PVR |    LAIR1 |   SLC1A5 |    UQCRFS1 |\n",
      "|:--------|---------:|---------:|-----------:|---------:|---------:|-----------:|\n",
      "| SARS2   | 1        | 0.194478 |  0.315206  | 0.257602 | 0.232863 |  0.182465  |\n",
      "| ECH1    | 0.194478 | 1        |  0.114323  | 0.315689 | 0.525064 |  0.10414   |\n",
      "| PVR     | 0.315206 | 0.114323 |  1         | 0.185011 | 0.143079 | -0.0234959 |\n",
      "| LAIR1   | 0.257602 | 0.315689 |  0.185011  | 1        | 0.357852 |  0.29154   |\n",
      "| SLC1A5  | 0.232863 | 0.525064 |  0.143079  | 0.357852 | 1        |  0.203122  |\n",
      "| UQCRFS1 | 0.182465 | 0.10414  | -0.0234959 | 0.29154  | 0.203122 |  1         |\n",
      "\n",
      "|         |        MYT1 |      CHRM4 |    GPR176 |   TSC22D1 |\n",
      "|:--------|------------:|-----------:|----------:|----------:|\n",
      "| MYT1    |  1          | 0.00255407 | -0.12769  | -0.103495 |\n",
      "| CHRM4   |  0.00255407 | 1          |  0.314455 |  0.319692 |\n",
      "| GPR176  | -0.12769    | 0.314455   |  1        |  0.279244 |\n",
      "| TSC22D1 | -0.103495   | 0.319692   |  0.279244 |  1        |\n",
      "\n",
      "|         |     PIK3R3 |    ZFP36L1 |      HOXC8 |      NRBP1 |     RAB40B |\n",
      "|:--------|-----------:|-----------:|-----------:|-----------:|-----------:|\n",
      "| PIK3R3  |  1         | -0.159878  |  0.0484771 |  0.0558099 | -0.10799   |\n",
      "| ZFP36L1 | -0.159878  |  1         | -0.0903159 |  0.0472781 | -0.0340886 |\n",
      "| HOXC8   |  0.0484771 | -0.0903159 |  1         |  0.0879811 | -0.0615741 |\n",
      "| NRBP1   |  0.0558099 |  0.0472781 |  0.0879811 |  1         | -0.136988  |\n",
      "| RAB40B  | -0.10799   | -0.0340886 | -0.0615741 | -0.136988  |  1         |\n",
      "\n"
     ]
    }
   ],
   "source": [
    "for gene in crispr_genesets:\n",
    "    print(crispr_similarities_df.loc[gene, gene].to_markdown())\n",
    "    print()"
   ]
  },
  {
   "cell_type": "code",
   "execution_count": 15,
   "metadata": {},
   "outputs": [],
   "source": [
    "orf_similarity_rank = (\n",
    "    orf_similarities_df.unstack()\n",
    "    .reset_index()\n",
    "    .rename(columns={\"level_0\": \"gene_1\", \"level_1\": \"gene_2\", 0: \"cosine_similarity\"})\n",
    "    .query(\"gene_1 != gene_2\")\n",
    "    .sort_values(by=\"cosine_similarity\", ascending=False)\n",
    "    .reset_index(drop=True)\n",
    "    .reset_index()\n",
    "    .rename(columns={\"index\": \"rank\"})\n",
    "    .sort_values(by=\"rank\", ascending=False)\n",
    "    .reset_index(drop=True)\n",
    "    .reset_index()\n",
    "    .rename(columns={\"index\": \"reverse_rank\"})\n",
    ")"
   ]
  },
  {
   "cell_type": "code",
   "execution_count": 20,
   "metadata": {},
   "outputs": [
    {
     "data": {
      "text/html": [
       "<div>\n",
       "<style scoped>\n",
       "    .dataframe tbody tr th:only-of-type {\n",
       "        vertical-align: middle;\n",
       "    }\n",
       "\n",
       "    .dataframe tbody tr th {\n",
       "        vertical-align: top;\n",
       "    }\n",
       "\n",
       "    .dataframe thead th {\n",
       "        text-align: right;\n",
       "    }\n",
       "</style>\n",
       "<table border=\"1\" class=\"dataframe\">\n",
       "  <thead>\n",
       "    <tr style=\"text-align: right;\">\n",
       "      <th></th>\n",
       "      <th>reverse_rank</th>\n",
       "      <th>rank</th>\n",
       "      <th>gene_1</th>\n",
       "      <th>gene_2</th>\n",
       "      <th>cosine_similarity</th>\n",
       "    </tr>\n",
       "  </thead>\n",
       "  <tbody>\n",
       "    <tr>\n",
       "      <th>26</th>\n",
       "      <td>26</td>\n",
       "      <td>49427903</td>\n",
       "      <td>MYT1</td>\n",
       "      <td>RNF41</td>\n",
       "      <td>-0.55566</td>\n",
       "    </tr>\n",
       "  </tbody>\n",
       "</table>\n",
       "</div>"
      ],
      "text/plain": [
       "    reverse_rank      rank gene_1 gene_2  cosine_similarity\n",
       "26            26  49427903   MYT1  RNF41           -0.55566"
      ]
     },
     "execution_count": 20,
     "metadata": {},
     "output_type": "execute_result"
    }
   ],
   "source": [
    "orf_similarity_rank.query(\"gene_1=='MYT1' and gene_2=='RNF41'\")"
   ]
  },
  {
   "cell_type": "code",
   "execution_count": 23,
   "metadata": {},
   "outputs": [
    {
     "data": {
      "text/plain": [
       "0.025132442"
      ]
     },
     "execution_count": 23,
     "metadata": {},
     "output_type": "execute_result"
    }
   ],
   "source": [
    "crispr_similarities_df.loc[\"MYT1\", \"RNF41\"]"
   ]
  },
  {
   "cell_type": "code",
   "execution_count": 22,
   "metadata": {},
   "outputs": [],
   "source": [
    "crispr_similarity_rank = (\n",
    "    crispr_similarities_df.unstack()\n",
    "    .reset_index()\n",
    "    .rename(columns={\"level_0\": \"gene_1\", \"level_1\": \"gene_2\", 0: \"cosine_similarity\"})\n",
    "    .query(\"gene_1 != gene_2\")\n",
    "    .sort_values(by=\"cosine_similarity\", ascending=False)\n",
    "    .reset_index(drop=True)\n",
    "    .reset_index()\n",
    "    .rename(columns={\"index\": \"rank\"})\n",
    "    .sort_values(by=\"rank\", ascending=False)\n",
    "    .reset_index(drop=True)\n",
    "    .reset_index()\n",
    "    .rename(columns={\"index\": \"reverse_rank\"})\n",
    ")"
   ]
  }
 ],
 "metadata": {
  "kernelspec": {
   "display_name": "similarity",
   "language": "python",
   "name": "python3"
  },
  "language_info": {
   "codemirror_mode": {
    "name": "ipython",
    "version": 3
   },
   "file_extension": ".py",
   "mimetype": "text/x-python",
   "name": "python",
   "nbconvert_exporter": "python",
   "pygments_lexer": "ipython3",
   "version": "3.10.6"
  }
 },
 "nbformat": 4,
 "nbformat_minor": 2
}
