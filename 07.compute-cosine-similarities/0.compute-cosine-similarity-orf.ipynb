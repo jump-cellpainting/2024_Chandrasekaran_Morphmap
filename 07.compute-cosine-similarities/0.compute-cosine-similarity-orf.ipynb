{
 "cells": [
  {
   "cell_type": "code",
   "execution_count": 1,
   "metadata": {},
   "outputs": [],
   "source": [
    "import pandas as pd\n",
    "import utils\n",
    "import numpy as np\n",
    "from tqdm import tqdm\n",
    "import logging\n",
    "\n",
    "logging.basicConfig(format=\"%(levelname)s:%(asctime)s:%(name)s:%(message)s\")\n",
    "logging.getLogger(\"copairs\").setLevel(logging.INFO)"
   ]
  },
  {
   "cell_type": "code",
   "execution_count": 2,
   "metadata": {},
   "outputs": [],
   "source": [
    "operations = \"wellpos_cc_var_mad_outlier_featselect_sphering_harmony\"\n",
    "batch_size = 20000"
   ]
  },
  {
   "cell_type": "markdown",
   "metadata": {},
   "source": [
    "### Prepare the data"
   ]
  },
  {
   "cell_type": "markdown",
   "metadata": {},
   "source": [
    "#### Read the ORF parquet file"
   ]
  },
  {
   "cell_type": "code",
   "execution_count": 3,
   "metadata": {},
   "outputs": [],
   "source": [
    "orf_df = pd.read_parquet(\n",
    "    f\"../profiles/profiles_{operations}.parquet\"\n",
    ")"
   ]
  },
  {
   "cell_type": "markdown",
   "metadata": {},
   "source": [
    "#### Remove empty wells and `negcon`s"
   ]
  },
  {
   "cell_type": "code",
   "execution_count": 4,
   "metadata": {},
   "outputs": [
    {
     "data": {
      "text/plain": [
       "(77810, 743)"
      ]
     },
     "execution_count": 4,
     "metadata": {},
     "output_type": "execute_result"
    }
   ],
   "source": [
    "orf_df = utils.remove_negcon_empty_wells(orf_df)\n",
    "orf_df.shape"
   ]
  },
  {
   "cell_type": "markdown",
   "metadata": {},
   "source": [
    "#### Remove `poscon` wells."
   ]
  },
  {
   "cell_type": "code",
   "execution_count": 5,
   "metadata": {},
   "outputs": [
    {
     "data": {
      "text/plain": [
       "(75880, 743)"
      ]
     },
     "execution_count": 5,
     "metadata": {},
     "output_type": "execute_result"
    }
   ],
   "source": [
    "orf_df = orf_df.query('Metadata_pert_type!=\"poscon\"').reset_index(drop=True)\n",
    "orf_df.shape"
   ]
  },
  {
   "cell_type": "markdown",
   "metadata": {},
   "source": [
    "#### Remove `BAD CONSTRUCT` wells."
   ]
  },
  {
   "cell_type": "code",
   "execution_count": 6,
   "metadata": {},
   "outputs": [
    {
     "data": {
      "text/plain": [
       "(75880, 743)"
      ]
     },
     "execution_count": 6,
     "metadata": {},
     "output_type": "execute_result"
    }
   ],
   "source": [
    "orf_df = orf_df.query('Metadata_broad_sample!=\"BAD CONSTRUCT\"').reset_index(drop=True)\n",
    "orf_df.shape"
   ]
  },
  {
   "cell_type": "markdown",
   "metadata": {},
   "source": [
    "#### Remove low infection effiency wells"
   ]
  },
  {
   "cell_type": "code",
   "execution_count": 7,
   "metadata": {},
   "outputs": [
    {
     "data": {
      "text/plain": [
       "(69058, 743)"
      ]
     },
     "execution_count": 7,
     "metadata": {},
     "output_type": "execute_result"
    }
   ],
   "source": [
    "orf_df = utils.remove_low_infection_efficiency_wells(orf_df)\n",
    "orf_df.shape"
   ]
  },
  {
   "cell_type": "markdown",
   "metadata": {},
   "source": [
    "#### Remove ORF reagents without a phenotypic activity"
   ]
  },
  {
   "cell_type": "code",
   "execution_count": 8,
   "metadata": {},
   "outputs": [
    {
     "data": {
      "text/plain": [
       "(7817, 2)"
      ]
     },
     "execution_count": 8,
     "metadata": {},
     "output_type": "execute_result"
    }
   ],
   "source": [
    "orf_phenotypic_activity_df = (\n",
    "    pd.read_csv(\n",
    "        f\"../03.retrieve-annotations/output/phenotypic-activity-{operations}.csv.gz\",\n",
    "        usecols=[\"Metadata_JCP2022\", \"below_corrected_p\"],\n",
    "    )\n",
    "    .rename(columns={\"below_corrected_p\": \"Metadata_below_corrected_p\"})\n",
    ").query(\"Metadata_below_corrected_p==True\")\n",
    "\n",
    "orf_phenotypic_activity_df.shape"
   ]
  },
  {
   "cell_type": "code",
   "execution_count": 9,
   "metadata": {},
   "outputs": [
    {
     "data": {
      "text/plain": [
       "(39325, 744)"
      ]
     },
     "execution_count": 9,
     "metadata": {},
     "output_type": "execute_result"
    }
   ],
   "source": [
    "orf_df = (\n",
    "    orf_df.merge(orf_phenotypic_activity_df, on=\"Metadata_JCP2022\", how=\"inner\")\n",
    "    .reset_index(drop=True)\n",
    ")\n",
    "\n",
    "orf_df.shape"
   ]
  },
  {
   "cell_type": "markdown",
   "metadata": {},
   "source": [
    "### Create cosine similarity matrix"
   ]
  },
  {
   "cell_type": "markdown",
   "metadata": {},
   "source": [
    "#### Add Approved Symbols"
   ]
  },
  {
   "cell_type": "code",
   "execution_count": 10,
   "metadata": {},
   "outputs": [
    {
     "data": {
      "text/plain": [
       "(39325, 746)"
      ]
     },
     "execution_count": 10,
     "metadata": {},
     "output_type": "execute_result"
    }
   ],
   "source": [
    "orf_metadata = pd.read_csv(\n",
    "    \"../00.download-and-process-annotations/output/orf.csv.gz\",\n",
    "    usecols=[\"Metadata_JCP2022\", \"Metadata_Approved_Symbol\"],\n",
    ")\n",
    "\n",
    "orf_df = orf_df.merge(orf_metadata, on=\"Metadata_JCP2022\", how=\"left\")\n",
    "\n",
    "orf_df = orf_df.assign(\n",
    "    Metadata_Gene_Symbol=lambda x: np.where(\n",
    "        x.Metadata_Approved_Symbol.isna(), x.Metadata_Symbol, x.Metadata_Approved_Symbol\n",
    "    )\n",
    ")\n",
    "\n",
    "orf_df.shape"
   ]
  },
  {
   "cell_type": "markdown",
   "metadata": {},
   "source": [
    "#### Create consensus profiles"
   ]
  },
  {
   "cell_type": "code",
   "execution_count": 11,
   "metadata": {},
   "outputs": [
    {
     "data": {
      "text/plain": [
       "(7031, 746)"
      ]
     },
     "execution_count": 11,
     "metadata": {},
     "output_type": "execute_result"
    }
   ],
   "source": [
    "consensus_df = utils.consensus(orf_df, \"Metadata_Gene_Symbol\")\n",
    "consensus_df.shape"
   ]
  },
  {
   "cell_type": "code",
   "execution_count": 12,
   "metadata": {},
   "outputs": [],
   "source": [
    "pos_sameby = []\n",
    "pos_diffby = [\"Metadata_Gene_Symbol\"]\n",
    "neg_sameby = []\n",
    "neg_diffby = []"
   ]
  },
  {
   "cell_type": "code",
   "execution_count": 13,
   "metadata": {},
   "outputs": [],
   "source": [
    "metadata_df = utils.get_metadata(consensus_df)\n",
    "feature_df = utils.get_featuredata(consensus_df)\n",
    "feature_values = feature_df.values"
   ]
  },
  {
   "cell_type": "code",
   "execution_count": 14,
   "metadata": {},
   "outputs": [
    {
     "name": "stderr",
     "output_type": "stream",
     "text": [
      "INFO:2024-04-05 15:36:06,803:copairs:Finding positive pairs...\n",
      "INFO:2024-04-05 15:36:54,218:copairs:Computing positive similarities...\n"
     ]
    },
    {
     "data": {
      "application/vnd.jupyter.widget-view+json": {
       "model_id": "c05af89ce28b4b2fb05561f102e73644",
       "version_major": 2,
       "version_minor": 0
      },
      "text/plain": [
       "  0%|          | 0/1236 [00:00<?, ?it/s]"
      ]
     },
     "metadata": {},
     "output_type": "display_data"
    }
   ],
   "source": [
    "cosine_sim_df = utils.cosine_similarity(\n",
    "    metadata_df,\n",
    "    feature_values,\n",
    "    pos_sameby,\n",
    "    pos_diffby,\n",
    "    neg_sameby,\n",
    "    neg_diffby,\n",
    "    batch_size=batch_size,\n",
    ")"
   ]
  },
  {
   "cell_type": "code",
   "execution_count": 15,
   "metadata": {},
   "outputs": [
    {
     "data": {
      "text/html": [
       "<div>\n",
       "<style scoped>\n",
       "    .dataframe tbody tr th:only-of-type {\n",
       "        vertical-align: middle;\n",
       "    }\n",
       "\n",
       "    .dataframe tbody tr th {\n",
       "        vertical-align: top;\n",
       "    }\n",
       "\n",
       "    .dataframe thead th {\n",
       "        text-align: right;\n",
       "    }\n",
       "</style>\n",
       "<table border=\"1\" class=\"dataframe\">\n",
       "  <thead>\n",
       "    <tr style=\"text-align: right;\">\n",
       "      <th></th>\n",
       "      <th>CDK9</th>\n",
       "      <th>CDX1</th>\n",
       "      <th>DIDO1</th>\n",
       "      <th>MORF4L1</th>\n",
       "      <th>ZNF816</th>\n",
       "      <th>CEBPG</th>\n",
       "      <th>SATB2</th>\n",
       "      <th>GMEB1</th>\n",
       "      <th>ZNF511</th>\n",
       "      <th>ZNF449</th>\n",
       "      <th>...</th>\n",
       "      <th>RSRC1</th>\n",
       "      <th>WDR53</th>\n",
       "      <th>HSD17B3</th>\n",
       "      <th>SLC39A9</th>\n",
       "      <th>TNF</th>\n",
       "      <th>OSER1</th>\n",
       "      <th>MRAP2</th>\n",
       "      <th>DNAAF6</th>\n",
       "      <th>LY6D</th>\n",
       "      <th>SSBP3</th>\n",
       "    </tr>\n",
       "  </thead>\n",
       "  <tbody>\n",
       "    <tr>\n",
       "      <th>CDK9</th>\n",
       "      <td>1.000000</td>\n",
       "      <td>-0.036738</td>\n",
       "      <td>0.024192</td>\n",
       "      <td>0.088266</td>\n",
       "      <td>0.118091</td>\n",
       "      <td>0.193830</td>\n",
       "      <td>-0.095525</td>\n",
       "      <td>-0.055995</td>\n",
       "      <td>0.072834</td>\n",
       "      <td>-0.154795</td>\n",
       "      <td>...</td>\n",
       "      <td>0.077817</td>\n",
       "      <td>-0.017365</td>\n",
       "      <td>0.066567</td>\n",
       "      <td>0.111152</td>\n",
       "      <td>0.030896</td>\n",
       "      <td>0.011113</td>\n",
       "      <td>0.055405</td>\n",
       "      <td>-0.062637</td>\n",
       "      <td>0.026236</td>\n",
       "      <td>0.066541</td>\n",
       "    </tr>\n",
       "    <tr>\n",
       "      <th>CDX1</th>\n",
       "      <td>-0.036738</td>\n",
       "      <td>1.000000</td>\n",
       "      <td>0.044687</td>\n",
       "      <td>0.004917</td>\n",
       "      <td>-0.045187</td>\n",
       "      <td>0.168101</td>\n",
       "      <td>-0.045539</td>\n",
       "      <td>0.004681</td>\n",
       "      <td>-0.017317</td>\n",
       "      <td>0.058500</td>\n",
       "      <td>...</td>\n",
       "      <td>-0.012456</td>\n",
       "      <td>0.044695</td>\n",
       "      <td>0.049403</td>\n",
       "      <td>-0.070566</td>\n",
       "      <td>-0.049111</td>\n",
       "      <td>0.099573</td>\n",
       "      <td>0.067627</td>\n",
       "      <td>-0.044814</td>\n",
       "      <td>-0.026791</td>\n",
       "      <td>0.152591</td>\n",
       "    </tr>\n",
       "    <tr>\n",
       "      <th>DIDO1</th>\n",
       "      <td>0.024192</td>\n",
       "      <td>0.044687</td>\n",
       "      <td>1.000000</td>\n",
       "      <td>-0.009977</td>\n",
       "      <td>0.015594</td>\n",
       "      <td>0.066995</td>\n",
       "      <td>0.002727</td>\n",
       "      <td>0.025855</td>\n",
       "      <td>-0.047823</td>\n",
       "      <td>-0.000241</td>\n",
       "      <td>...</td>\n",
       "      <td>0.010941</td>\n",
       "      <td>-0.092100</td>\n",
       "      <td>-0.040281</td>\n",
       "      <td>-0.022955</td>\n",
       "      <td>0.113931</td>\n",
       "      <td>0.013767</td>\n",
       "      <td>0.034814</td>\n",
       "      <td>-0.005883</td>\n",
       "      <td>-0.020173</td>\n",
       "      <td>-0.015723</td>\n",
       "    </tr>\n",
       "    <tr>\n",
       "      <th>MORF4L1</th>\n",
       "      <td>0.088266</td>\n",
       "      <td>0.004917</td>\n",
       "      <td>-0.009977</td>\n",
       "      <td>1.000000</td>\n",
       "      <td>0.193922</td>\n",
       "      <td>0.214003</td>\n",
       "      <td>0.344931</td>\n",
       "      <td>0.245831</td>\n",
       "      <td>-0.050684</td>\n",
       "      <td>-0.082916</td>\n",
       "      <td>...</td>\n",
       "      <td>-0.069621</td>\n",
       "      <td>0.093656</td>\n",
       "      <td>0.167320</td>\n",
       "      <td>0.047869</td>\n",
       "      <td>0.074827</td>\n",
       "      <td>0.043172</td>\n",
       "      <td>0.050987</td>\n",
       "      <td>0.012764</td>\n",
       "      <td>-0.052054</td>\n",
       "      <td>-0.112020</td>\n",
       "    </tr>\n",
       "    <tr>\n",
       "      <th>ZNF816</th>\n",
       "      <td>0.118091</td>\n",
       "      <td>-0.045187</td>\n",
       "      <td>0.015594</td>\n",
       "      <td>0.193922</td>\n",
       "      <td>1.000000</td>\n",
       "      <td>0.038202</td>\n",
       "      <td>-0.042108</td>\n",
       "      <td>-0.009093</td>\n",
       "      <td>0.009383</td>\n",
       "      <td>0.022128</td>\n",
       "      <td>...</td>\n",
       "      <td>-0.102140</td>\n",
       "      <td>-0.025482</td>\n",
       "      <td>0.040352</td>\n",
       "      <td>0.138435</td>\n",
       "      <td>0.049009</td>\n",
       "      <td>0.118845</td>\n",
       "      <td>0.133849</td>\n",
       "      <td>-0.104738</td>\n",
       "      <td>0.009390</td>\n",
       "      <td>-0.002249</td>\n",
       "    </tr>\n",
       "  </tbody>\n",
       "</table>\n",
       "<p>5 rows × 7031 columns</p>\n",
       "</div>"
      ],
      "text/plain": [
       "             CDK9      CDX1     DIDO1   MORF4L1    ZNF816     CEBPG     SATB2  \\\n",
       "CDK9     1.000000 -0.036738  0.024192  0.088266  0.118091  0.193830 -0.095525   \n",
       "CDX1    -0.036738  1.000000  0.044687  0.004917 -0.045187  0.168101 -0.045539   \n",
       "DIDO1    0.024192  0.044687  1.000000 -0.009977  0.015594  0.066995  0.002727   \n",
       "MORF4L1  0.088266  0.004917 -0.009977  1.000000  0.193922  0.214003  0.344931   \n",
       "ZNF816   0.118091 -0.045187  0.015594  0.193922  1.000000  0.038202 -0.042108   \n",
       "\n",
       "            GMEB1    ZNF511    ZNF449  ...     RSRC1     WDR53   HSD17B3  \\\n",
       "CDK9    -0.055995  0.072834 -0.154795  ...  0.077817 -0.017365  0.066567   \n",
       "CDX1     0.004681 -0.017317  0.058500  ... -0.012456  0.044695  0.049403   \n",
       "DIDO1    0.025855 -0.047823 -0.000241  ...  0.010941 -0.092100 -0.040281   \n",
       "MORF4L1  0.245831 -0.050684 -0.082916  ... -0.069621  0.093656  0.167320   \n",
       "ZNF816  -0.009093  0.009383  0.022128  ... -0.102140 -0.025482  0.040352   \n",
       "\n",
       "          SLC39A9       TNF     OSER1     MRAP2    DNAAF6      LY6D     SSBP3  \n",
       "CDK9     0.111152  0.030896  0.011113  0.055405 -0.062637  0.026236  0.066541  \n",
       "CDX1    -0.070566 -0.049111  0.099573  0.067627 -0.044814 -0.026791  0.152591  \n",
       "DIDO1   -0.022955  0.113931  0.013767  0.034814 -0.005883 -0.020173 -0.015723  \n",
       "MORF4L1  0.047869  0.074827  0.043172  0.050987  0.012764 -0.052054 -0.112020  \n",
       "ZNF816   0.138435  0.049009  0.118845  0.133849 -0.104738  0.009390 -0.002249  \n",
       "\n",
       "[5 rows x 7031 columns]"
      ]
     },
     "execution_count": 15,
     "metadata": {},
     "output_type": "execute_result"
    }
   ],
   "source": [
    "cosine_sim_df.head()"
   ]
  },
  {
   "cell_type": "code",
   "execution_count": 16,
   "metadata": {},
   "outputs": [],
   "source": [
    "cosine_sim_df.to_parquet(\n",
    "    f\"cos_sim/cosine_similarities_genes_orf.parquet\", index=True\n",
    ")"
   ]
  }
 ],
 "metadata": {
  "kernelspec": {
   "display_name": "similarity",
   "language": "python",
   "name": "python3"
  },
  "language_info": {
   "codemirror_mode": {
    "name": "ipython",
    "version": 3
   },
   "file_extension": ".py",
   "mimetype": "text/x-python",
   "name": "python",
   "nbconvert_exporter": "python",
   "pygments_lexer": "ipython3",
   "version": "3.10.6"
  }
 },
 "nbformat": 4,
 "nbformat_minor": 2
}
