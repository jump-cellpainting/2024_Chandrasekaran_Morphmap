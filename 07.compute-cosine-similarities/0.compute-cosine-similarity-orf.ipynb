{
 "cells": [
  {
   "cell_type": "code",
   "execution_count": 1,
   "metadata": {},
   "outputs": [],
   "source": [
    "import pandas as pd\n",
    "import utils\n",
    "import numpy as np\n",
    "from tqdm import tqdm\n",
    "import logging\n",
    "from sklearn.metrics.pairwise import cosine_similarity\n",
    "\n",
    "logging.basicConfig(format=\"%(levelname)s:%(asctime)s:%(name)s:%(message)s\")\n",
    "logging.getLogger(\"copairs\").setLevel(logging.INFO)"
   ]
  },
  {
   "cell_type": "code",
   "execution_count": 2,
   "metadata": {},
   "outputs": [],
   "source": [
    "operations = \"wellpos_cc_var_mad_outlier_featselect_sphering_harmony\"\n",
    "batch_size = 20000"
   ]
  },
  {
   "cell_type": "markdown",
   "metadata": {},
   "source": [
    "### Prepare the data"
   ]
  },
  {
   "cell_type": "markdown",
   "metadata": {},
   "source": [
    "#### Read the ORF parquet file"
   ]
  },
  {
   "cell_type": "code",
   "execution_count": 3,
   "metadata": {},
   "outputs": [],
   "source": [
    "orf_df = pd.read_parquet(\n",
    "    f\"../profiles/profiles_{operations}.parquet\"\n",
    ")"
   ]
  },
  {
   "cell_type": "markdown",
   "metadata": {},
   "source": [
    "#### Remove empty wells and `negcon`s"
   ]
  },
  {
   "cell_type": "code",
   "execution_count": 4,
   "metadata": {},
   "outputs": [
    {
     "data": {
      "text/plain": [
       "(77810, 743)"
      ]
     },
     "execution_count": 4,
     "metadata": {},
     "output_type": "execute_result"
    }
   ],
   "source": [
    "orf_df = utils.remove_negcon_empty_wells(orf_df)\n",
    "orf_df.shape"
   ]
  },
  {
   "cell_type": "markdown",
   "metadata": {},
   "source": [
    "#### Remove `poscon` wells."
   ]
  },
  {
   "cell_type": "code",
   "execution_count": 5,
   "metadata": {},
   "outputs": [
    {
     "data": {
      "text/plain": [
       "(75880, 743)"
      ]
     },
     "execution_count": 5,
     "metadata": {},
     "output_type": "execute_result"
    }
   ],
   "source": [
    "orf_df = orf_df.query('Metadata_pert_type!=\"poscon\"').reset_index(drop=True)\n",
    "orf_df.shape"
   ]
  },
  {
   "cell_type": "markdown",
   "metadata": {},
   "source": [
    "#### Remove `BAD CONSTRUCT` wells."
   ]
  },
  {
   "cell_type": "code",
   "execution_count": 6,
   "metadata": {},
   "outputs": [
    {
     "data": {
      "text/plain": [
       "(75880, 743)"
      ]
     },
     "execution_count": 6,
     "metadata": {},
     "output_type": "execute_result"
    }
   ],
   "source": [
    "orf_df = orf_df.query('Metadata_broad_sample!=\"BAD CONSTRUCT\"').reset_index(drop=True)\n",
    "orf_df.shape"
   ]
  },
  {
   "cell_type": "markdown",
   "metadata": {},
   "source": [
    "#### Remove low infection effiency wells"
   ]
  },
  {
   "cell_type": "code",
   "execution_count": 7,
   "metadata": {},
   "outputs": [
    {
     "data": {
      "text/plain": [
       "(69058, 743)"
      ]
     },
     "execution_count": 7,
     "metadata": {},
     "output_type": "execute_result"
    }
   ],
   "source": [
    "orf_df = utils.remove_low_infection_efficiency_wells(orf_df)\n",
    "orf_df.shape"
   ]
  },
  {
   "cell_type": "markdown",
   "metadata": {},
   "source": [
    "#### Remove ORF reagents without a phenotypic activity"
   ]
  },
  {
   "cell_type": "code",
   "execution_count": 8,
   "metadata": {},
   "outputs": [
    {
     "data": {
      "text/plain": [
       "(7817, 2)"
      ]
     },
     "execution_count": 8,
     "metadata": {},
     "output_type": "execute_result"
    }
   ],
   "source": [
    "orf_phenotypic_activity_df = (\n",
    "    pd.read_csv(\n",
    "        f\"../03.retrieve-annotations/output/phenotypic-activity-{operations}.csv.gz\",\n",
    "        usecols=[\"Metadata_JCP2022\", \"below_corrected_p\"],\n",
    "    )\n",
    "    .rename(columns={\"below_corrected_p\": \"Metadata_below_corrected_p\"})\n",
    ").query(\"Metadata_below_corrected_p==True\")\n",
    "\n",
    "orf_phenotypic_activity_df.shape"
   ]
  },
  {
   "cell_type": "code",
   "execution_count": 9,
   "metadata": {},
   "outputs": [
    {
     "data": {
      "text/plain": [
       "(39325, 744)"
      ]
     },
     "execution_count": 9,
     "metadata": {},
     "output_type": "execute_result"
    }
   ],
   "source": [
    "orf_df = (\n",
    "    orf_df.merge(orf_phenotypic_activity_df, on=\"Metadata_JCP2022\", how=\"inner\")\n",
    "    .reset_index(drop=True)\n",
    ")\n",
    "\n",
    "orf_df.shape"
   ]
  },
  {
   "cell_type": "markdown",
   "metadata": {},
   "source": [
    "### Create cosine similarity matrix"
   ]
  },
  {
   "cell_type": "markdown",
   "metadata": {},
   "source": [
    "#### Add Approved Symbols"
   ]
  },
  {
   "cell_type": "code",
   "execution_count": 10,
   "metadata": {},
   "outputs": [
    {
     "data": {
      "text/plain": [
       "(39325, 746)"
      ]
     },
     "execution_count": 10,
     "metadata": {},
     "output_type": "execute_result"
    }
   ],
   "source": [
    "orf_metadata = pd.read_csv(\n",
    "    \"../00.download-and-process-annotations/output/orf.csv.gz\",\n",
    "    usecols=[\"Metadata_JCP2022\", \"Metadata_Approved_Symbol\"],\n",
    ")\n",
    "\n",
    "orf_df = orf_df.merge(orf_metadata, on=\"Metadata_JCP2022\", how=\"left\")\n",
    "\n",
    "orf_df = orf_df.assign(\n",
    "    Metadata_Gene_Symbol=lambda x: np.where(\n",
    "        x.Metadata_Approved_Symbol.isna(), x.Metadata_Symbol, x.Metadata_Approved_Symbol\n",
    "    )\n",
    ")\n",
    "\n",
    "orf_df.shape"
   ]
  },
  {
   "cell_type": "markdown",
   "metadata": {},
   "source": [
    "#### Create consensus profiles"
   ]
  },
  {
   "cell_type": "code",
   "execution_count": 11,
   "metadata": {},
   "outputs": [
    {
     "data": {
      "text/plain": [
       "(7031, 746)"
      ]
     },
     "execution_count": 11,
     "metadata": {},
     "output_type": "execute_result"
    }
   ],
   "source": [
    "consensus_df = utils.consensus(orf_df, \"Metadata_Gene_Symbol\")\n",
    "consensus_df.shape"
   ]
  },
  {
   "cell_type": "code",
   "execution_count": 12,
   "metadata": {},
   "outputs": [],
   "source": [
    "feature_df = utils.get_featuredata(consensus_df)\n",
    "feature_values = feature_df.values\n",
    "id = list(consensus_df[\"Metadata_Gene_Symbol\"])"
   ]
  },
  {
   "cell_type": "code",
   "execution_count": 13,
   "metadata": {},
   "outputs": [
    {
     "name": "stderr",
     "output_type": "stream",
     "text": [
      "INFO:2024-04-11 18:03:09,360:copairs:Computing positive similarities...\n"
     ]
    },
    {
     "data": {
      "application/vnd.jupyter.widget-view+json": {
       "model_id": "01414440635c4ca598b99bf023a807ca",
       "version_major": 2,
       "version_minor": 0
      },
      "text/plain": [
       "  0%|          | 0/1236 [00:00<?, ?it/s]"
      ]
     },
     "metadata": {},
     "output_type": "display_data"
    }
   ],
   "source": [
    "cosine_sim_df = utils.cosine_similarity(\n",
    "    id,\n",
    "    feature_values,\n",
    "    batch_size=batch_size,\n",
    ")"
   ]
  },
  {
   "cell_type": "code",
   "execution_count": 14,
   "metadata": {},
   "outputs": [
    {
     "data": {
      "text/html": [
       "<div>\n",
       "<style scoped>\n",
       "    .dataframe tbody tr th:only-of-type {\n",
       "        vertical-align: middle;\n",
       "    }\n",
       "\n",
       "    .dataframe tbody tr th {\n",
       "        vertical-align: top;\n",
       "    }\n",
       "\n",
       "    .dataframe thead th {\n",
       "        text-align: right;\n",
       "    }\n",
       "</style>\n",
       "<table border=\"1\" class=\"dataframe\">\n",
       "  <thead>\n",
       "    <tr style=\"text-align: right;\">\n",
       "      <th></th>\n",
       "      <th>CDK9</th>\n",
       "      <th>CDX1</th>\n",
       "      <th>DIDO1</th>\n",
       "      <th>MORF4L1</th>\n",
       "      <th>ZNF816</th>\n",
       "      <th>CEBPG</th>\n",
       "      <th>SATB2</th>\n",
       "      <th>GMEB1</th>\n",
       "      <th>ZNF511</th>\n",
       "      <th>ZNF449</th>\n",
       "      <th>...</th>\n",
       "      <th>RSRC1</th>\n",
       "      <th>WDR53</th>\n",
       "      <th>HSD17B3</th>\n",
       "      <th>SLC39A9</th>\n",
       "      <th>TNF</th>\n",
       "      <th>OSER1</th>\n",
       "      <th>MRAP2</th>\n",
       "      <th>DNAAF6</th>\n",
       "      <th>LY6D</th>\n",
       "      <th>SSBP3</th>\n",
       "    </tr>\n",
       "  </thead>\n",
       "  <tbody>\n",
       "    <tr>\n",
       "      <th>CDK9</th>\n",
       "      <td>1.000000</td>\n",
       "      <td>-0.036738</td>\n",
       "      <td>0.024192</td>\n",
       "      <td>0.088266</td>\n",
       "      <td>0.118091</td>\n",
       "      <td>0.193830</td>\n",
       "      <td>-0.095525</td>\n",
       "      <td>-0.055995</td>\n",
       "      <td>0.072834</td>\n",
       "      <td>-0.154795</td>\n",
       "      <td>...</td>\n",
       "      <td>0.128611</td>\n",
       "      <td>0.019198</td>\n",
       "      <td>-0.018367</td>\n",
       "      <td>0.047726</td>\n",
       "      <td>0.065281</td>\n",
       "      <td>-0.056427</td>\n",
       "      <td>0.048590</td>\n",
       "      <td>0.094420</td>\n",
       "      <td>-0.014681</td>\n",
       "      <td>0.078272</td>\n",
       "    </tr>\n",
       "    <tr>\n",
       "      <th>CDX1</th>\n",
       "      <td>-0.036738</td>\n",
       "      <td>1.000000</td>\n",
       "      <td>0.055702</td>\n",
       "      <td>-0.092422</td>\n",
       "      <td>-0.065295</td>\n",
       "      <td>-0.088568</td>\n",
       "      <td>0.025723</td>\n",
       "      <td>0.095202</td>\n",
       "      <td>0.098659</td>\n",
       "      <td>0.084236</td>\n",
       "      <td>...</td>\n",
       "      <td>-0.015004</td>\n",
       "      <td>-0.041229</td>\n",
       "      <td>0.047989</td>\n",
       "      <td>-0.011991</td>\n",
       "      <td>-0.041313</td>\n",
       "      <td>0.021274</td>\n",
       "      <td>0.022880</td>\n",
       "      <td>0.103896</td>\n",
       "      <td>0.169554</td>\n",
       "      <td>0.018814</td>\n",
       "    </tr>\n",
       "    <tr>\n",
       "      <th>DIDO1</th>\n",
       "      <td>0.024192</td>\n",
       "      <td>0.055702</td>\n",
       "      <td>1.000000</td>\n",
       "      <td>0.054351</td>\n",
       "      <td>-0.039910</td>\n",
       "      <td>0.029791</td>\n",
       "      <td>0.013561</td>\n",
       "      <td>-0.046964</td>\n",
       "      <td>0.088997</td>\n",
       "      <td>-0.019238</td>\n",
       "      <td>...</td>\n",
       "      <td>-0.049064</td>\n",
       "      <td>-0.039306</td>\n",
       "      <td>-0.035729</td>\n",
       "      <td>0.005856</td>\n",
       "      <td>0.004698</td>\n",
       "      <td>-0.150168</td>\n",
       "      <td>-0.049035</td>\n",
       "      <td>-0.001288</td>\n",
       "      <td>0.040873</td>\n",
       "      <td>0.034702</td>\n",
       "    </tr>\n",
       "    <tr>\n",
       "      <th>MORF4L1</th>\n",
       "      <td>0.088266</td>\n",
       "      <td>-0.092422</td>\n",
       "      <td>0.054351</td>\n",
       "      <td>1.000000</td>\n",
       "      <td>0.375920</td>\n",
       "      <td>0.229840</td>\n",
       "      <td>-0.067568</td>\n",
       "      <td>-0.004566</td>\n",
       "      <td>0.004135</td>\n",
       "      <td>-0.011579</td>\n",
       "      <td>...</td>\n",
       "      <td>0.007980</td>\n",
       "      <td>0.092175</td>\n",
       "      <td>-0.101405</td>\n",
       "      <td>0.125299</td>\n",
       "      <td>0.095949</td>\n",
       "      <td>0.071784</td>\n",
       "      <td>0.091268</td>\n",
       "      <td>0.135257</td>\n",
       "      <td>0.055546</td>\n",
       "      <td>-0.048352</td>\n",
       "    </tr>\n",
       "    <tr>\n",
       "      <th>ZNF816</th>\n",
       "      <td>0.118091</td>\n",
       "      <td>-0.065295</td>\n",
       "      <td>-0.039910</td>\n",
       "      <td>0.375920</td>\n",
       "      <td>1.000000</td>\n",
       "      <td>0.277695</td>\n",
       "      <td>-0.125863</td>\n",
       "      <td>-0.022127</td>\n",
       "      <td>-0.028693</td>\n",
       "      <td>-0.019870</td>\n",
       "      <td>...</td>\n",
       "      <td>0.112145</td>\n",
       "      <td>-0.009040</td>\n",
       "      <td>-0.028831</td>\n",
       "      <td>0.138181</td>\n",
       "      <td>0.089911</td>\n",
       "      <td>-0.038642</td>\n",
       "      <td>0.075395</td>\n",
       "      <td>0.129067</td>\n",
       "      <td>0.002618</td>\n",
       "      <td>-0.069227</td>\n",
       "    </tr>\n",
       "  </tbody>\n",
       "</table>\n",
       "<p>5 rows × 7031 columns</p>\n",
       "</div>"
      ],
      "text/plain": [
       "             CDK9      CDX1     DIDO1   MORF4L1    ZNF816     CEBPG     SATB2  \\\n",
       "CDK9     1.000000 -0.036738  0.024192  0.088266  0.118091  0.193830 -0.095525   \n",
       "CDX1    -0.036738  1.000000  0.055702 -0.092422 -0.065295 -0.088568  0.025723   \n",
       "DIDO1    0.024192  0.055702  1.000000  0.054351 -0.039910  0.029791  0.013561   \n",
       "MORF4L1  0.088266 -0.092422  0.054351  1.000000  0.375920  0.229840 -0.067568   \n",
       "ZNF816   0.118091 -0.065295 -0.039910  0.375920  1.000000  0.277695 -0.125863   \n",
       "\n",
       "            GMEB1    ZNF511    ZNF449  ...     RSRC1     WDR53   HSD17B3  \\\n",
       "CDK9    -0.055995  0.072834 -0.154795  ...  0.128611  0.019198 -0.018367   \n",
       "CDX1     0.095202  0.098659  0.084236  ... -0.015004 -0.041229  0.047989   \n",
       "DIDO1   -0.046964  0.088997 -0.019238  ... -0.049064 -0.039306 -0.035729   \n",
       "MORF4L1 -0.004566  0.004135 -0.011579  ...  0.007980  0.092175 -0.101405   \n",
       "ZNF816  -0.022127 -0.028693 -0.019870  ...  0.112145 -0.009040 -0.028831   \n",
       "\n",
       "          SLC39A9       TNF     OSER1     MRAP2    DNAAF6      LY6D     SSBP3  \n",
       "CDK9     0.047726  0.065281 -0.056427  0.048590  0.094420 -0.014681  0.078272  \n",
       "CDX1    -0.011991 -0.041313  0.021274  0.022880  0.103896  0.169554  0.018814  \n",
       "DIDO1    0.005856  0.004698 -0.150168 -0.049035 -0.001288  0.040873  0.034702  \n",
       "MORF4L1  0.125299  0.095949  0.071784  0.091268  0.135257  0.055546 -0.048352  \n",
       "ZNF816   0.138181  0.089911 -0.038642  0.075395  0.129067  0.002618 -0.069227  \n",
       "\n",
       "[5 rows x 7031 columns]"
      ]
     },
     "execution_count": 14,
     "metadata": {},
     "output_type": "execute_result"
    }
   ],
   "source": [
    "cosine_sim_df.head()"
   ]
  },
  {
   "cell_type": "code",
   "execution_count": 15,
   "metadata": {},
   "outputs": [],
   "source": [
    "cosine_sim_df.to_parquet(\n",
    "    f\"cos_sim/cosine_similarities_genes_orf.parquet\", index=True\n",
    ")"
   ]
  }
 ],
 "metadata": {
  "kernelspec": {
   "display_name": "similarity",
   "language": "python",
   "name": "python3"
  },
  "language_info": {
   "codemirror_mode": {
    "name": "ipython",
    "version": 3
   },
   "file_extension": ".py",
   "mimetype": "text/x-python",
   "name": "python",
   "nbconvert_exporter": "python",
   "pygments_lexer": "ipython3",
   "version": "3.10.6"
  }
 },
 "nbformat": 4,
 "nbformat_minor": 2
}
