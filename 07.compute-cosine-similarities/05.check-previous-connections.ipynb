{
 "cells": [
  {
   "cell_type": "code",
   "execution_count": 1,
   "metadata": {},
   "outputs": [],
   "source": [
    "import pandas as pd\n",
    "import numpy as np"
   ]
  },
  {
   "cell_type": "code",
   "execution_count": 2,
   "metadata": {},
   "outputs": [],
   "source": [
    "orf_similarity_df = pd.read_parquet('cos_sim/cosine_similarities_genes_orf.parquet')\n",
    "crispr_similarity_df = pd.read_parquet('cos_sim/cosine_similarities_genes_crispr.parquet')"
   ]
  },
  {
   "cell_type": "code",
   "execution_count": 3,
   "metadata": {},
   "outputs": [],
   "source": [
    "summary_df = pd.DataFrame()"
   ]
  },
  {
   "cell_type": "code",
   "execution_count": 4,
   "metadata": {},
   "outputs": [],
   "source": [
    "def check_connections(\n",
    "    genes, orf_similarity_df, crispr_similarity_df, summary_df\n",
    "):\n",
    "    for i in range(len(genes) - 1):\n",
    "        gene_1 = genes[i]\n",
    "        for j in range(i + 1, len(genes)):\n",
    "            gene_2 = genes[j]\n",
    "            df = pd.DataFrame(\n",
    "                {\n",
    "                    \"gene_1\": gene_1,\n",
    "                    \"gene_2\": gene_2,\n",
    "                    \"Present_in_ORF\": False,\n",
    "                    \"ORF_cosine_similarity\": np.nan,\n",
    "                    \"Present_in_CRISPR\": False,\n",
    "                    \"CRISPR_cosine_similarity\": np.nan,\n",
    "                },\n",
    "                index=[0],\n",
    "            )\n",
    "            if (\n",
    "                gene_1 in orf_similarity_df.index\n",
    "                and gene_2 in orf_similarity_df.columns\n",
    "            ):\n",
    "                df[\"Present_in_ORF\"] = True\n",
    "                df[\"ORF_cosine_similarity\"] = orf_similarity_df.loc[gene_1, gene_2]\n",
    "            if (\n",
    "                gene_1 in crispr_similarity_df.index\n",
    "                and gene_2 in crispr_similarity_df.columns\n",
    "            ):\n",
    "                df[\"Present_in_CRISPR\"] = True\n",
    "                df[\"CRISPR_cosine_similarity\"] = crispr_similarity_df.loc[\n",
    "                    gene_1, gene_2\n",
    "                ]\n",
    "\n",
    "            summary_df = pd.concat([summary_df, df], ignore_index=True, axis=0)\n",
    "\n",
    "    return summary_df"
   ]
  },
  {
   "cell_type": "markdown",
   "metadata": {},
   "source": [
    "Check all old connections"
   ]
  },
  {
   "cell_type": "code",
   "execution_count": 5,
   "metadata": {},
   "outputs": [],
   "source": [
    "gene_lists = [\n",
    "    [\"ZBTB16\", \"SLC39A1\"],\n",
    "    [\"RAB30\", \"NAT14\"],\n",
    "    [\"MYT1\", \"RNF41\"],\n",
    "    [\"PIK3R3\", \"INSYN1\"],\n",
    "    [\"PIK3R3\", \"RAB40B\", \"INSYN1\"],\n",
    "    [\"HOOK2\", \"NDEL1\", \"NDE1\", \"PAFAH1B1\"],\n",
    "    [\"TRAF2\", \"STK3\", \"YAP1\", \"WWTR1\", \"STK11\"],\n",
    "    [\"GPR176\", \"TSC22D1\", \"DPAT1\", \"CHRM4\"],\n",
    "    [\"ECH1\", \"UQCRFS1\", \"SARS2\"],\n",
    "    [\"POLRID\", \"SPATA25\", \"CAMK2A\", \"GJB2\", \"ATG7\", \"MGLL\", \"CCL14\", \"PNPLA4\", \"EML1\", \"PER1\", \"SLC39A1\"],\n",
    "    [\"FOXO3\", \"TGFB\"]\n",
    "]"
   ]
  },
  {
   "cell_type": "code",
   "execution_count": 6,
   "metadata": {},
   "outputs": [],
   "source": [
    "for genes in gene_lists:\n",
    "    summary_df = check_connections(genes, orf_similarity_df, crispr_similarity_df, summary_df)"
   ]
  },
  {
   "cell_type": "code",
   "execution_count": 7,
   "metadata": {},
   "outputs": [
    {
     "name": "stdout",
     "output_type": "stream",
     "text": [
      "| gene_1   | gene_2   | Present_in_ORF   |   ORF_cosine_similarity | Present_in_CRISPR   |   CRISPR_cosine_similarity |\n",
      "|:---------|:---------|:-----------------|------------------------:|:--------------------|---------------------------:|\n",
      "| ZBTB16   | SLC39A1  | True             |            -0.294491    | True                |                 -0.627275  |\n",
      "| RAB30    | NAT14    | True             |             0.701613    | False               |                nan         |\n",
      "| MYT1     | RNF41    | True             |            -0.55566     | True                |                 -0.0442788 |\n",
      "| PIK3R3   | INSYN1   | True             |             0.260941    | False               |                nan         |\n",
      "| PIK3R3   | RAB40B   | True             |            -0.337578    | True                |                  0.0226717 |\n",
      "| PIK3R3   | INSYN1   | True             |             0.260941    | False               |                nan         |\n",
      "| RAB40B   | INSYN1   | True             |            -0.424922    | False               |                nan         |\n",
      "| HOOK2    | NDEL1    | True             |            -0.614541    | False               |                nan         |\n",
      "| HOOK2    | NDE1     | True             |            -0.6563      | False               |                nan         |\n",
      "| HOOK2    | PAFAH1B1 | True             |            -0.610536    | False               |                nan         |\n",
      "| NDEL1    | NDE1     | True             |             0.905747    | False               |                nan         |\n",
      "| NDEL1    | PAFAH1B1 | True             |             0.911471    | False               |                nan         |\n",
      "| NDE1     | PAFAH1B1 | True             |             0.860934    | False               |                nan         |\n",
      "| TRAF2    | STK3     | True             |             0.0851002   | False               |                nan         |\n",
      "| TRAF2    | YAP1     | True             |            -0.195162    | False               |                nan         |\n",
      "| TRAF2    | WWTR1    | True             |            -0.158821    | False               |                nan         |\n",
      "| TRAF2    | STK11    | True             |            -0.000926614 | True                |                  0.240619  |\n",
      "| STK3     | YAP1     | True             |            -0.297074    | False               |                nan         |\n",
      "| STK3     | WWTR1    | True             |            -0.228617    | False               |                nan         |\n",
      "| STK3     | STK11    | True             |            -0.159428    | False               |                nan         |\n",
      "| YAP1     | WWTR1    | True             |             0.528834    | False               |                nan         |\n",
      "| YAP1     | STK11    | True             |             0.178346    | False               |                nan         |\n",
      "| WWTR1    | STK11    | True             |             0.0277657   | False               |                nan         |\n",
      "| GPR176   | TSC22D1  | True             |             0.681274    | True                |                  0.291056  |\n",
      "| GPR176   | DPAT1    | False            |           nan           | False               |                nan         |\n",
      "| GPR176   | CHRM4    | True             |             0.689368    | True                |                  0.486747  |\n",
      "| TSC22D1  | DPAT1    | False            |           nan           | False               |                nan         |\n",
      "| TSC22D1  | CHRM4    | True             |             0.478575    | True                |                  0.548977  |\n",
      "| DPAT1    | CHRM4    | False            |           nan           | False               |                nan         |\n",
      "| ECH1     | UQCRFS1  | True             |             0.632372    | True                |                  0.138344  |\n",
      "| ECH1     | SARS2    | True             |             0.376947    | True                |                  0.456086  |\n",
      "| UQCRFS1  | SARS2    | True             |             0.48721     | True                |                  0.361899  |\n",
      "| POLRID   | SPATA25  | False            |           nan           | False               |                nan         |\n",
      "| POLRID   | CAMK2A   | False            |           nan           | False               |                nan         |\n",
      "| POLRID   | GJB2     | False            |           nan           | False               |                nan         |\n",
      "| POLRID   | ATG7     | False            |           nan           | False               |                nan         |\n",
      "| POLRID   | MGLL     | False            |           nan           | False               |                nan         |\n",
      "| POLRID   | CCL14    | False            |           nan           | False               |                nan         |\n",
      "| POLRID   | PNPLA4   | False            |           nan           | False               |                nan         |\n",
      "| POLRID   | EML1     | False            |           nan           | False               |                nan         |\n",
      "| POLRID   | PER1     | False            |           nan           | False               |                nan         |\n",
      "| POLRID   | SLC39A1  | False            |           nan           | False               |                nan         |\n",
      "| SPATA25  | CAMK2A   | True             |            -0.424823    | False               |                nan         |\n",
      "| SPATA25  | GJB2     | True             |            -0.351484    | False               |                nan         |\n",
      "| SPATA25  | ATG7     | True             |            -0.546045    | False               |                nan         |\n",
      "| SPATA25  | MGLL     | True             |            -0.448565    | False               |                nan         |\n",
      "| SPATA25  | CCL14    | True             |            -0.440455    | False               |                nan         |\n",
      "| SPATA25  | PNPLA4   | False            |           nan           | False               |                nan         |\n",
      "| SPATA25  | EML1     | True             |            -0.437314    | False               |                nan         |\n",
      "| SPATA25  | PER1     | True             |            -0.0664646   | False               |                nan         |\n",
      "| SPATA25  | SLC39A1  | True             |            -0.454969    | False               |                nan         |\n",
      "| CAMK2A   | GJB2     | True             |             0.156977    | False               |                nan         |\n",
      "| CAMK2A   | ATG7     | True             |             0.414669    | False               |                nan         |\n",
      "| CAMK2A   | MGLL     | True             |             0.265834    | False               |                nan         |\n",
      "| CAMK2A   | CCL14    | True             |             0.23523     | False               |                nan         |\n",
      "| CAMK2A   | PNPLA4   | False            |           nan           | False               |                nan         |\n",
      "| CAMK2A   | EML1     | True             |             0.190766    | False               |                nan         |\n",
      "| CAMK2A   | PER1     | True             |             0.115032    | False               |                nan         |\n",
      "| CAMK2A   | SLC39A1  | True             |             0.36002     | False               |                nan         |\n",
      "| GJB2     | ATG7     | True             |             0.332036    | True                |                 -0.100436  |\n",
      "| GJB2     | MGLL     | True             |             0.371589    | True                |                 -0.0351984 |\n",
      "| GJB2     | CCL14    | True             |             0.443724    | True                |                 -0.109312  |\n",
      "| GJB2     | PNPLA4   | False            |           nan           | True                |                  0.231417  |\n",
      "| GJB2     | EML1     | True             |             0.376126    | False               |                nan         |\n",
      "| GJB2     | PER1     | True             |             0.018368    | False               |                nan         |\n",
      "| GJB2     | SLC39A1  | True             |             0.328941    | True                |                 -0.337804  |\n",
      "| ATG7     | MGLL     | True             |             0.408002    | True                |                 -0.574792  |\n",
      "| ATG7     | CCL14    | True             |             0.427906    | True                |                  0.505344  |\n",
      "| ATG7     | PNPLA4   | False            |           nan           | True                |                  0.413008  |\n",
      "| ATG7     | EML1     | True             |             0.408892    | False               |                nan         |\n",
      "| ATG7     | PER1     | True             |             0.095198    | False               |                nan         |\n",
      "| ATG7     | SLC39A1  | True             |             0.545236    | True                |                  0.0917061 |\n",
      "| MGLL     | CCL14    | True             |             0.369299    | True                |                 -0.61179   |\n",
      "| MGLL     | PNPLA4   | False            |           nan           | True                |                 -0.548349  |\n",
      "| MGLL     | EML1     | True             |             0.333106    | False               |                nan         |\n",
      "| MGLL     | PER1     | True             |             0.0314081   | False               |                nan         |\n",
      "| MGLL     | SLC39A1  | True             |             0.34423     | True                |                  0.331904  |\n",
      "| CCL14    | PNPLA4   | False            |           nan           | True                |                  0.443871  |\n",
      "| CCL14    | EML1     | True             |             0.485789    | False               |                nan         |\n",
      "| CCL14    | PER1     | True             |             0.0160875   | False               |                nan         |\n",
      "| CCL14    | SLC39A1  | True             |             0.381159    | True                |                  0.122424  |\n",
      "| PNPLA4   | EML1     | False            |           nan           | False               |                nan         |\n",
      "| PNPLA4   | PER1     | False            |           nan           | False               |                nan         |\n",
      "| PNPLA4   | SLC39A1  | False            |           nan           | True                |                 -0.241096  |\n",
      "| EML1     | PER1     | True             |            -0.00614674  | False               |                nan         |\n",
      "| EML1     | SLC39A1  | True             |             0.317118    | False               |                nan         |\n",
      "| PER1     | SLC39A1  | True             |             0.0915278   | False               |                nan         |\n",
      "| FOXO3    | TGFB     | False            |           nan           | False               |                nan         |\n"
     ]
    }
   ],
   "source": [
    "print(summary_df.to_markdown(index=False))"
   ]
  },
  {
   "cell_type": "code",
   "execution_count": 8,
   "metadata": {},
   "outputs": [
    {
     "name": "stdout",
     "output_type": "stream",
     "text": [
      "|        |     YAP1 |\n",
      "|:-------|---------:|\n",
      "| WWTR1  | 0.528834 |\n",
      "| PLS3   | 0.429233 |\n",
      "| CORO2B | 0.466192 |\n",
      "| CORO2A | 0.558896 |\n",
      "| RTKN   | 0.422219 |\n",
      "| CNN1   | 0.476689 |\n",
      "| PRKCE  | 0.452393 |\n",
      "| SYT2   | 0.405234 |\n",
      "| SYT1   | 0.406036 |\n",
      "| YAP1   | 1        |\n",
      "| ZNF704 | 0.544696 |\n"
     ]
    }
   ],
   "source": [
    "print(orf_similarity_df.query(\"YAP1 > 0.4 or YAP1 < -0.4\")[\"YAP1\"].to_markdown())"
   ]
  },
  {
   "cell_type": "markdown",
   "metadata": {},
   "source": [
    "Connections present in both ORF and CRISPR"
   ]
  },
  {
   "cell_type": "code",
   "execution_count": 9,
   "metadata": {},
   "outputs": [
    {
     "name": "stdout",
     "output_type": "stream",
     "text": [
      "| gene_1   | gene_2   | Present_in_ORF   |   ORF_cosine_similarity | Present_in_CRISPR   |   CRISPR_cosine_similarity |\n",
      "|:---------|:---------|:-----------------|------------------------:|:--------------------|---------------------------:|\n",
      "| ZBTB16   | SLC39A1  | True             |            -0.294491    | True                |                 -0.627275  |\n",
      "| MYT1     | RNF41    | True             |            -0.55566     | True                |                 -0.0442788 |\n",
      "| PIK3R3   | RAB40B   | True             |            -0.337578    | True                |                  0.0226717 |\n",
      "| TRAF2    | STK11    | True             |            -0.000926614 | True                |                  0.240619  |\n",
      "| GPR176   | TSC22D1  | True             |             0.681274    | True                |                  0.291056  |\n",
      "| GPR176   | CHRM4    | True             |             0.689368    | True                |                  0.486747  |\n",
      "| TSC22D1  | CHRM4    | True             |             0.478575    | True                |                  0.548977  |\n",
      "| ECH1     | UQCRFS1  | True             |             0.632372    | True                |                  0.138344  |\n",
      "| ECH1     | SARS2    | True             |             0.376947    | True                |                  0.456086  |\n",
      "| UQCRFS1  | SARS2    | True             |             0.48721     | True                |                  0.361899  |\n",
      "| GJB2     | ATG7     | True             |             0.332036    | True                |                 -0.100436  |\n",
      "| GJB2     | MGLL     | True             |             0.371589    | True                |                 -0.0351984 |\n",
      "| GJB2     | CCL14    | True             |             0.443724    | True                |                 -0.109312  |\n",
      "| GJB2     | SLC39A1  | True             |             0.328941    | True                |                 -0.337804  |\n",
      "| ATG7     | MGLL     | True             |             0.408002    | True                |                 -0.574792  |\n",
      "| ATG7     | CCL14    | True             |             0.427906    | True                |                  0.505344  |\n",
      "| ATG7     | SLC39A1  | True             |             0.545236    | True                |                  0.0917061 |\n",
      "| MGLL     | CCL14    | True             |             0.369299    | True                |                 -0.61179   |\n",
      "| MGLL     | SLC39A1  | True             |             0.34423     | True                |                  0.331904  |\n",
      "| CCL14    | SLC39A1  | True             |             0.381159    | True                |                  0.122424  |\n"
     ]
    }
   ],
   "source": [
    "print(summary_df.query(\"Present_in_CRISPR == True and Present_in_ORF == True\").to_markdown(index=False))"
   ]
  },
  {
   "cell_type": "markdown",
   "metadata": {},
   "source": [
    "Connections present only in ORF"
   ]
  },
  {
   "cell_type": "code",
   "execution_count": 10,
   "metadata": {},
   "outputs": [
    {
     "name": "stdout",
     "output_type": "stream",
     "text": [
      "| gene_1   | gene_2   | Present_in_ORF   |   ORF_cosine_similarity | Present_in_CRISPR   |   CRISPR_cosine_similarity |\n",
      "|:---------|:---------|:-----------------|------------------------:|:--------------------|---------------------------:|\n",
      "| RAB30    | NAT14    | True             |              0.701613   | False               |                        nan |\n",
      "| PIK3R3   | INSYN1   | True             |              0.260941   | False               |                        nan |\n",
      "| PIK3R3   | INSYN1   | True             |              0.260941   | False               |                        nan |\n",
      "| RAB40B   | INSYN1   | True             |             -0.424922   | False               |                        nan |\n",
      "| HOOK2    | NDEL1    | True             |             -0.614541   | False               |                        nan |\n",
      "| HOOK2    | NDE1     | True             |             -0.6563     | False               |                        nan |\n",
      "| HOOK2    | PAFAH1B1 | True             |             -0.610536   | False               |                        nan |\n",
      "| NDEL1    | NDE1     | True             |              0.905747   | False               |                        nan |\n",
      "| NDEL1    | PAFAH1B1 | True             |              0.911471   | False               |                        nan |\n",
      "| NDE1     | PAFAH1B1 | True             |              0.860934   | False               |                        nan |\n",
      "| TRAF2    | STK3     | True             |              0.0851002  | False               |                        nan |\n",
      "| TRAF2    | YAP1     | True             |             -0.195162   | False               |                        nan |\n",
      "| TRAF2    | WWTR1    | True             |             -0.158821   | False               |                        nan |\n",
      "| STK3     | YAP1     | True             |             -0.297074   | False               |                        nan |\n",
      "| STK3     | WWTR1    | True             |             -0.228617   | False               |                        nan |\n",
      "| STK3     | STK11    | True             |             -0.159428   | False               |                        nan |\n",
      "| YAP1     | WWTR1    | True             |              0.528834   | False               |                        nan |\n",
      "| YAP1     | STK11    | True             |              0.178346   | False               |                        nan |\n",
      "| WWTR1    | STK11    | True             |              0.0277657  | False               |                        nan |\n",
      "| SPATA25  | CAMK2A   | True             |             -0.424823   | False               |                        nan |\n",
      "| SPATA25  | GJB2     | True             |             -0.351484   | False               |                        nan |\n",
      "| SPATA25  | ATG7     | True             |             -0.546045   | False               |                        nan |\n",
      "| SPATA25  | MGLL     | True             |             -0.448565   | False               |                        nan |\n",
      "| SPATA25  | CCL14    | True             |             -0.440455   | False               |                        nan |\n",
      "| SPATA25  | EML1     | True             |             -0.437314   | False               |                        nan |\n",
      "| SPATA25  | PER1     | True             |             -0.0664646  | False               |                        nan |\n",
      "| SPATA25  | SLC39A1  | True             |             -0.454969   | False               |                        nan |\n",
      "| CAMK2A   | GJB2     | True             |              0.156977   | False               |                        nan |\n",
      "| CAMK2A   | ATG7     | True             |              0.414669   | False               |                        nan |\n",
      "| CAMK2A   | MGLL     | True             |              0.265834   | False               |                        nan |\n",
      "| CAMK2A   | CCL14    | True             |              0.23523    | False               |                        nan |\n",
      "| CAMK2A   | EML1     | True             |              0.190766   | False               |                        nan |\n",
      "| CAMK2A   | PER1     | True             |              0.115032   | False               |                        nan |\n",
      "| CAMK2A   | SLC39A1  | True             |              0.36002    | False               |                        nan |\n",
      "| GJB2     | EML1     | True             |              0.376126   | False               |                        nan |\n",
      "| GJB2     | PER1     | True             |              0.018368   | False               |                        nan |\n",
      "| ATG7     | EML1     | True             |              0.408892   | False               |                        nan |\n",
      "| ATG7     | PER1     | True             |              0.095198   | False               |                        nan |\n",
      "| MGLL     | EML1     | True             |              0.333106   | False               |                        nan |\n",
      "| MGLL     | PER1     | True             |              0.0314081  | False               |                        nan |\n",
      "| CCL14    | EML1     | True             |              0.485789   | False               |                        nan |\n",
      "| CCL14    | PER1     | True             |              0.0160875  | False               |                        nan |\n",
      "| EML1     | PER1     | True             |             -0.00614674 | False               |                        nan |\n",
      "| EML1     | SLC39A1  | True             |              0.317118   | False               |                        nan |\n",
      "| PER1     | SLC39A1  | True             |              0.0915278  | False               |                        nan |\n"
     ]
    }
   ],
   "source": [
    "print(summary_df.query(\"Present_in_CRISPR == False and Present_in_ORF == True\").to_markdown(index=False))"
   ]
  },
  {
   "cell_type": "markdown",
   "metadata": {},
   "source": [
    "Present only in CRISPR"
   ]
  },
  {
   "cell_type": "code",
   "execution_count": 11,
   "metadata": {},
   "outputs": [
    {
     "name": "stdout",
     "output_type": "stream",
     "text": [
      "| gene_1   | gene_2   | Present_in_ORF   |   ORF_cosine_similarity | Present_in_CRISPR   |   CRISPR_cosine_similarity |\n",
      "|:---------|:---------|:-----------------|------------------------:|:--------------------|---------------------------:|\n",
      "| GJB2     | PNPLA4   | False            |                     nan | True                |                   0.231417 |\n",
      "| ATG7     | PNPLA4   | False            |                     nan | True                |                   0.413008 |\n",
      "| MGLL     | PNPLA4   | False            |                     nan | True                |                  -0.548349 |\n",
      "| CCL14    | PNPLA4   | False            |                     nan | True                |                   0.443871 |\n",
      "| PNPLA4   | SLC39A1  | False            |                     nan | True                |                  -0.241096 |\n"
     ]
    }
   ],
   "source": [
    "print(summary_df.query(\"Present_in_CRISPR == True and Present_in_ORF == False\").to_markdown(index=False))"
   ]
  }
 ],
 "metadata": {
  "kernelspec": {
   "display_name": "similarity",
   "language": "python",
   "name": "python3"
  },
  "language_info": {
   "codemirror_mode": {
    "name": "ipython",
    "version": 3
   },
   "file_extension": ".py",
   "mimetype": "text/x-python",
   "name": "python",
   "nbconvert_exporter": "python",
   "pygments_lexer": "ipython3",
   "version": "3.10.6"
  }
 },
 "nbformat": 4,
 "nbformat_minor": 2
}
