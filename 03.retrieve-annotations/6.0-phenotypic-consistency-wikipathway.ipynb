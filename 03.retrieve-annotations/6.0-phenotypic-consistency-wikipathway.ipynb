{
 "cells": [
  {
   "cell_type": "code",
   "execution_count": null,
   "metadata": {},
   "outputs": [],
   "source": [
    "import pandas as pd\n",
    "import utils\n",
    "import numpy as np\n",
    "import warnings\n",
    "from tqdm import tqdm\n",
    "from copairs.map import mean_average_precision, multilabel\n",
    "import logging"
   ]
  },
  {
   "cell_type": "code",
   "execution_count": null,
   "metadata": {},
   "outputs": [],
   "source": [
    "all_profiles = {\n",
    "    \"ORF\": \"wellpos_cc_var_mad_outlier_featselect_sphering_harmony\",\n",
    "    \"CRISPR\": \"wellpos_cc_var_mad_outlier_featselect_sphering_harmony_PCA_corrected\",\n",
    "}\n",
    "\n",
    "retrieval_label = \"wikipathway\"\n",
    "multi_label_col = \"Metadata_wikipathway_list\"\n",
    "annotation_col = \"Metadata_wikipathway\"\n",
    "\n",
    "\n",
    "batch_size = 20000\n",
    "null_size = 20000\n",
    "fdr = 0.05\n",
    "\n",
    "pos_sameby = [f\"{multi_label_col}\"]\n",
    "pos_diffby = []\n",
    "neg_sameby = []\n",
    "neg_diffby = [f\"{multi_label_col}\"]"
   ]
  },
  {
   "cell_type": "markdown",
   "metadata": {},
   "source": [
    "Read protein class annotations"
   ]
  },
  {
   "cell_type": "code",
   "execution_count": null,
   "metadata": {},
   "outputs": [],
   "source": [
    "orf_annotation_df = (\n",
    "    pd.read_csv(\n",
    "        \"../00.download-and-process-annotations/output/orf_metadata.tsv.gz\", sep=\"\\t\"\n",
    "    )[\n",
    "        [\n",
    "            \"Metadata_JCP2022\",\n",
    "            f\"{annotation_col}\",\n",
    "            \"Metadata_pert_type\",\n",
    "            \"Metadata_NCBI_Gene_ID\",\n",
    "        ]\n",
    "    ]\n",
    "    .dropna()\n",
    "    .assign(col=lambda x: list(x[f\"{annotation_col}\"].str.split(\"|\")))\n",
    "    .rename(columns={\"col\": f\"{multi_label_col}\"})\n",
    ")"
   ]
  },
  {
   "cell_type": "code",
   "execution_count": null,
   "metadata": {},
   "outputs": [],
   "source": [
    "crispr_controls_df = pd.DataFrame(\n",
    "    {\n",
    "        \"Metadata_JCP2022\": [\"JCP2022_805264\", \"JCP2022_800001\", \"JCP2022_800002\"],\n",
    "        \"Metadata_pert_type\": [\"poscon\", \"negcon\", \"negcon\"],\n",
    "    },\n",
    "    index=[0, 1, 2],\n",
    ")\n",
    "\n",
    "crispr_annotation_df = (\n",
    "    pd.read_csv(\n",
    "        \"../00.download-and-process-annotations/output/crispr_metadata.tsv.gz\", sep=\"\\t\"\n",
    "    )[[\"Metadata_JCP2022\", f\"{annotation_col}\", \"Metadata_NCBI_Gene_ID\"]]\n",
    "    .merge(crispr_controls_df, on=\"Metadata_JCP2022\", how=\"left\")\n",
    "    .fillna(value={\"Metadata_pert_type\": \"trt\"})\n",
    "    .dropna()\n",
    "    .assign(col=lambda x: list(x[f\"{annotation_col}\"].str.split(\"|\")))\n",
    "    .rename(columns={\"col\": f\"{multi_label_col}\"})\n",
    ")"
   ]
  },
  {
   "cell_type": "code",
   "execution_count": null,
   "metadata": {},
   "outputs": [],
   "source": [
    "map_df = pd.DataFrame()\n",
    "\n",
    "for modality in all_profiles:\n",
    "    print(f\"Modality: {modality}\")\n",
    "    parquet_file_name = f\"profiles_{all_profiles[modality]}.parquet\"\n",
    "    phenotypic_activity_file_name = (\n",
    "        f\"phenotypic-activity-{all_profiles[modality]}.csv.gz\"\n",
    "    )\n",
    "\n",
    "    df = pd.read_parquet(f\"../profiles/{parquet_file_name}\")\n",
    "    phenotypic_activity_df = pd.read_csv(\n",
    "        f\"output/{phenotypic_activity_file_name}\"\n",
    "    ).query(\"below_corrected_p==True\")\n",
    "    df = df.merge(phenotypic_activity_df, on=\"Metadata_JCP2022\", how=\"inner\")\n",
    "\n",
    "    if modality == \"ORF\":\n",
    "        df = df.merge(\n",
    "            orf_annotation_df,\n",
    "            on=\"Metadata_JCP2022\",\n",
    "            how=\"inner\",\n",
    "        )\n",
    "    elif modality == \"CRISPR\":\n",
    "        df = df.merge(\n",
    "            crispr_annotation_df,\n",
    "            on=\"Metadata_JCP2022\",\n",
    "            how=\"inner\",\n",
    "        )\n",
    "\n",
    "    consensus_df = utils.consensus(df, \"Metadata_NCBI_Gene_ID\")\n",
    "\n",
    "    metadata_df = utils.get_metadata(consensus_df)\n",
    "    feature_df = utils.get_featuredata(consensus_df)\n",
    "    feature_values = feature_df.values\n",
    "\n",
    "    result = multilabel.average_precision(\n",
    "        metadata_df,\n",
    "        feature_values,\n",
    "        pos_sameby,\n",
    "        pos_diffby,\n",
    "        neg_sameby,\n",
    "        neg_diffby,\n",
    "        batch_size=batch_size,\n",
    "        multilabel_col=multi_label_col,\n",
    "    )\n",
    "\n",
    "    agg_result = mean_average_precision(\n",
    "        result, pos_sameby, null_size, threshold=0.05, seed=12527\n",
    "    )\n",
    "\n",
    "    agg_result[\"Modality\"] = modality\n",
    "\n",
    "    map_df = pd.concat([map_df, agg_result], ignore_index=True)\n",
    "\n",
    "    map_df.to_parquet(f\"output/{retrieval_label}_retrieval.parquet\")"
   ]
  }
 ],
 "metadata": {
  "kernelspec": {
   "display_name": "retrieval",
   "language": "python",
   "name": "python3"
  },
  "language_info": {
   "codemirror_mode": {
    "name": "ipython",
    "version": 3
   },
   "file_extension": ".py",
   "mimetype": "text/x-python",
   "name": "python",
   "nbconvert_exporter": "python",
   "pygments_lexer": "ipython3",
   "version": "3.10.6"
  }
 },
 "nbformat": 4,
 "nbformat_minor": 2
}
