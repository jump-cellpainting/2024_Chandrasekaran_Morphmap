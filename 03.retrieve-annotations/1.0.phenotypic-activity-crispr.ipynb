{
 "cells": [
  {
   "cell_type": "code",
   "execution_count": 1,
   "metadata": {},
   "outputs": [],
   "source": [
    "import pandas as pd\n",
    "import utils\n",
    "import numpy as np\n",
    "import warnings\n",
    "from tqdm import tqdm\n",
    "from copairs.map import average_precision, mean_average_precision\n",
    "import logging\n",
    "\n",
    "logging.basicConfig(format=\"%(levelname)s:%(asctime)s:%(name)s:%(message)s\")\n",
    "logging.getLogger(\"copairs\").setLevel(logging.INFO)\n",
    "\n",
    "warnings.simplefilter(action=\"ignore\", category=FutureWarning)"
   ]
  },
  {
   "cell_type": "code",
   "execution_count": 2,
   "metadata": {},
   "outputs": [],
   "source": [
    "operations = \"wellpos_var_mad_int_featselect_harmony_PCA_corrected\"\n",
    "batch_size = 20000\n",
    "null_size = 20000\n",
    "fdr = 0.1"
   ]
  },
  {
   "attachments": {},
   "cell_type": "markdown",
   "metadata": {},
   "source": [
    "### Prepare the data"
   ]
  },
  {
   "attachments": {},
   "cell_type": "markdown",
   "metadata": {},
   "source": [
    "#### Read the CRISPR parquet file"
   ]
  },
  {
   "cell_type": "code",
   "execution_count": 3,
   "metadata": {},
   "outputs": [
    {
     "data": {
      "text/plain": [
       "(51185, 309)"
      ]
     },
     "execution_count": 3,
     "metadata": {},
     "output_type": "execute_result"
    }
   ],
   "source": [
    "crispr_df = pd.read_parquet(\n",
    "    f\"../profiles/profiles_{operations}.parquet\"\n",
    ")\n",
    "crispr_df.shape"
   ]
  },
  {
   "attachments": {},
   "cell_type": "markdown",
   "metadata": {},
   "source": [
    "#### Remove featues with `nan` values.\n",
    "These need to be removed as the `nan` values will cause the mean average precision calculation to fail."
   ]
  },
  {
   "cell_type": "code",
   "execution_count": 4,
   "metadata": {},
   "outputs": [
    {
     "name": "stdout",
     "output_type": "stream",
     "text": [
      "Removed nan features: []\n"
     ]
    },
    {
     "data": {
      "text/plain": [
       "(51185, 309)"
      ]
     },
     "execution_count": 4,
     "metadata": {},
     "output_type": "execute_result"
    }
   ],
   "source": [
    "crispr_df = utils.remove_nan_features(crispr_df)\n",
    "crispr_df.shape"
   ]
  },
  {
   "cell_type": "markdown",
   "metadata": {},
   "source": [
    "#### Remove reagents with only one replicate"
   ]
  },
  {
   "cell_type": "code",
   "execution_count": 5,
   "metadata": {},
   "outputs": [
    {
     "data": {
      "text/plain": [
       "(51182, 309)"
      ]
     },
     "execution_count": 5,
     "metadata": {},
     "output_type": "execute_result"
    }
   ],
   "source": [
    "reagents_with_one_replicate = (\n",
    "    crispr_df.Metadata_JCP2022.value_counts()[\n",
    "        crispr_df.Metadata_JCP2022.value_counts() == 1\n",
    "    ]\n",
    "    .reset_index()[\"index\"]\n",
    "    .tolist()\n",
    ")\n",
    "\n",
    "crispr_df = crispr_df[~crispr_df.Metadata_JCP2022.isin(reagents_with_one_replicate)]\n",
    "crispr_df.shape"
   ]
  },
  {
   "attachments": {},
   "cell_type": "markdown",
   "metadata": {},
   "source": [
    "### Calculate mAP for each ORF perturbation"
   ]
  },
  {
   "cell_type": "code",
   "execution_count": 6,
   "metadata": {},
   "outputs": [],
   "source": [
    "# Adding a new column for negative control\n",
    "crispr_df[\"Metadata_negcon\"] = np.where(crispr_df[\"Metadata_pert_type\"] == \"negcon\", 1, 0)"
   ]
  },
  {
   "cell_type": "code",
   "execution_count": 7,
   "metadata": {},
   "outputs": [],
   "source": [
    "pos_sameby = [\"Metadata_JCP2022\"]\n",
    "pos_diffby = []\n",
    "neg_sameby = [\"Metadata_Plate\"]\n",
    "neg_diffby = [\"Metadata_negcon\"]"
   ]
  },
  {
   "cell_type": "code",
   "execution_count": 8,
   "metadata": {},
   "outputs": [],
   "source": [
    "metadata_df = utils.get_metadata(crispr_df)\n",
    "feature_df = utils.get_featuredata(crispr_df)\n",
    "feature_values = feature_df.values"
   ]
  },
  {
   "cell_type": "code",
   "execution_count": 9,
   "metadata": {},
   "outputs": [
    {
     "name": "stderr",
     "output_type": "stream",
     "text": [
      "INFO:2024-04-05 15:26:01,528:copairs:Indexing metadata...\n",
      "INFO:2024-04-05 15:26:01,564:copairs:Finding positive pairs...\n",
      "INFO:2024-04-05 15:26:07,030:copairs:Finding negative pairs...\n",
      "INFO:2024-04-05 15:26:07,720:copairs:Computing positive similarities...\n"
     ]
    },
    {
     "data": {
      "application/vnd.jupyter.widget-view+json": {
       "model_id": "f3286c6c076248fe9068286b59c412fd",
       "version_major": 2,
       "version_minor": 0
      },
      "text/plain": [
       "  0%|          | 0/761 [00:00<?, ?it/s]"
      ]
     },
     "metadata": {},
     "output_type": "display_data"
    },
    {
     "name": "stderr",
     "output_type": "stream",
     "text": [
      "INFO:2024-04-05 15:26:17,882:copairs:Computing negative similarities...\n"
     ]
    },
    {
     "data": {
      "application/vnd.jupyter.widget-view+json": {
       "model_id": "4bfe4f5728a44c39ada6c2f3b9076174",
       "version_major": 2,
       "version_minor": 0
      },
      "text/plain": [
       "  0%|          | 0/60 [00:00<?, ?it/s]"
      ]
     },
     "metadata": {},
     "output_type": "display_data"
    },
    {
     "name": "stderr",
     "output_type": "stream",
     "text": [
      "INFO:2024-04-05 15:26:18,637:copairs:Building rank lists...\n",
      "INFO:2024-04-05 15:26:32,101:copairs:Computing average precision...\n",
      "INFO:2024-04-05 15:26:32,538:copairs:Creating result DataFrame...\n",
      "INFO:2024-04-05 15:26:32,542:copairs:Finished.\n"
     ]
    }
   ],
   "source": [
    "result = average_precision(\n",
    "    metadata_df, feature_values, pos_sameby, pos_diffby, neg_sameby, neg_diffby, batch_size=batch_size\n",
    ")"
   ]
  },
  {
   "cell_type": "code",
   "execution_count": 10,
   "metadata": {},
   "outputs": [],
   "source": [
    "# Remove negcon\n",
    "result = result.query('Metadata_pert_type!=\"negcon\"').reset_index(drop=True)"
   ]
  },
  {
   "cell_type": "code",
   "execution_count": 11,
   "metadata": {},
   "outputs": [
    {
     "name": "stderr",
     "output_type": "stream",
     "text": [
      "INFO:2024-04-05 15:26:32,665:copairs:Computing null_dist...\n"
     ]
    },
    {
     "data": {
      "application/vnd.jupyter.widget-view+json": {
       "model_id": "429bf4496da8492daf75c321e5519e47",
       "version_major": 2,
       "version_minor": 0
      },
      "text/plain": [
       "  0%|          | 0/100 [00:00<?, ?it/s]"
      ]
     },
     "metadata": {},
     "output_type": "display_data"
    },
    {
     "name": "stderr",
     "output_type": "stream",
     "text": [
      "INFO:2024-04-05 15:26:32,722:copairs:Computing p-values...\n"
     ]
    },
    {
     "data": {
      "application/vnd.jupyter.widget-view+json": {
       "model_id": "8b7b5831a99d4880bf2426a7b9d7a001",
       "version_major": 2,
       "version_minor": 0
      },
      "text/plain": [
       "  0%|          | 0/7972 [00:00<?, ?it/s]"
      ]
     },
     "metadata": {},
     "output_type": "display_data"
    }
   ],
   "source": [
    "agg_result = (\n",
    "    mean_average_precision(result, pos_sameby, null_size=null_size, threshold=fdr, seed=12527)\n",
    "    .rename(columns={'average_precision': 'mean_average_precision'})\n",
    ")"
   ]
  },
  {
   "cell_type": "code",
   "execution_count": 12,
   "metadata": {},
   "outputs": [],
   "source": [
    "agg_result.to_csv(f\"output/phenotypic-activity-{operations}.csv.gz\", index=False)"
   ]
  }
 ],
 "metadata": {
  "kernelspec": {
   "display_name": "Python 3",
   "language": "python",
   "name": "python3"
  },
  "language_info": {
   "codemirror_mode": {
    "name": "ipython",
    "version": 3
   },
   "file_extension": ".py",
   "mimetype": "text/x-python",
   "name": "python",
   "nbconvert_exporter": "python",
   "pygments_lexer": "ipython3",
   "version": "3.10.6"
  },
  "orig_nbformat": 4,
  "vscode": {
   "interpreter": {
    "hash": "aee8b7b246df8f9039afb4144a1f6fd8d2ca17a180786b69acc140d282b71a49"
   }
  }
 },
 "nbformat": 4,
 "nbformat_minor": 2
}
