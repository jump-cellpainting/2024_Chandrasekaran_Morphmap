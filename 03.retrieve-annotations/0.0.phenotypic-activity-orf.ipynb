{
 "cells": [
  {
   "cell_type": "code",
   "execution_count": 1,
   "metadata": {},
   "outputs": [],
   "source": [
    "import pandas as pd\n",
    "import utils\n",
    "import numpy as np\n",
    "import warnings\n",
    "from tqdm import tqdm\n",
    "from copairs.map import average_precision, mean_average_precision\n",
    "import logging\n",
    "\n",
    "logging.basicConfig(format=\"%(levelname)s:%(asctime)s:%(name)s:%(message)s\")\n",
    "logging.getLogger(\"copairs\").setLevel(logging.INFO)\n",
    "\n",
    "warnings.simplefilter(action=\"ignore\", category=FutureWarning)"
   ]
  },
  {
   "cell_type": "code",
   "execution_count": 2,
   "metadata": {},
   "outputs": [],
   "source": [
    "operations = \"wellpos_cc_var_mad_outlier_featselect_sphering_harmony\"\n",
    "batch_size = 20000\n",
    "null_size = 20000\n",
    "fdr = 0.1"
   ]
  },
  {
   "attachments": {},
   "cell_type": "markdown",
   "metadata": {},
   "source": [
    "### Prepare the data"
   ]
  },
  {
   "attachments": {},
   "cell_type": "markdown",
   "metadata": {},
   "source": [
    "#### Read the ORF parquet file"
   ]
  },
  {
   "cell_type": "code",
   "execution_count": 3,
   "metadata": {},
   "outputs": [],
   "source": [
    "orf_df = pd.read_parquet(\n",
    "    f\"../profiles/profiles_{operations}.parquet\"\n",
    ")"
   ]
  },
  {
   "attachments": {},
   "cell_type": "markdown",
   "metadata": {},
   "source": [
    "#### Remove empty wells"
   ]
  },
  {
   "cell_type": "code",
   "execution_count": 4,
   "metadata": {},
   "outputs": [
    {
     "data": {
      "text/plain": [
       "(81490, 743)"
      ]
     },
     "execution_count": 4,
     "metadata": {},
     "output_type": "execute_result"
    }
   ],
   "source": [
    "orf_df = utils.remove_empty_wells(orf_df)\n",
    "orf_df.shape"
   ]
  },
  {
   "cell_type": "markdown",
   "metadata": {},
   "source": [
    "#### Remove `poscon` wells."
   ]
  },
  {
   "cell_type": "code",
   "execution_count": 5,
   "metadata": {},
   "outputs": [
    {
     "data": {
      "text/plain": [
       "(79560, 743)"
      ]
     },
     "execution_count": 5,
     "metadata": {},
     "output_type": "execute_result"
    }
   ],
   "source": [
    "orf_df = orf_df.query('Metadata_pert_type!=\"poscon\"').reset_index(drop=True)\n",
    "orf_df.shape"
   ]
  },
  {
   "attachments": {},
   "cell_type": "markdown",
   "metadata": {},
   "source": [
    "#### Remove `BAD CONSTRUCT` wells."
   ]
  },
  {
   "cell_type": "code",
   "execution_count": 6,
   "metadata": {},
   "outputs": [
    {
     "data": {
      "text/plain": [
       "(79560, 743)"
      ]
     },
     "execution_count": 6,
     "metadata": {},
     "output_type": "execute_result"
    }
   ],
   "source": [
    "orf_df = orf_df.query('Metadata_broad_sample!=\"BAD CONSTRUCT\"').reset_index(drop=True)\n",
    "orf_df.shape"
   ]
  },
  {
   "attachments": {},
   "cell_type": "markdown",
   "metadata": {},
   "source": [
    "#### Remove featues with `nan` values.\n",
    "These need to be removed as the `nan` values will cause the mean average precision calculation to fail."
   ]
  },
  {
   "cell_type": "code",
   "execution_count": 7,
   "metadata": {},
   "outputs": [
    {
     "name": "stdout",
     "output_type": "stream",
     "text": [
      "Removed nan features: []\n"
     ]
    }
   ],
   "source": [
    "orf_df = utils.remove_nan_features(orf_df)"
   ]
  },
  {
   "cell_type": "markdown",
   "metadata": {},
   "source": [
    "#### Remove low infection effiency wells"
   ]
  },
  {
   "cell_type": "code",
   "execution_count": 8,
   "metadata": {},
   "outputs": [
    {
     "data": {
      "text/plain": [
       "(72343, 743)"
      ]
     },
     "execution_count": 8,
     "metadata": {},
     "output_type": "execute_result"
    }
   ],
   "source": [
    "orf_df = utils.remove_low_infection_efficiency_wells(orf_df)\n",
    "orf_df.shape"
   ]
  },
  {
   "attachments": {},
   "cell_type": "markdown",
   "metadata": {},
   "source": [
    "### Calculate mAP for each ORF perturbation"
   ]
  },
  {
   "cell_type": "code",
   "execution_count": 9,
   "metadata": {},
   "outputs": [],
   "source": [
    "# Adding a new column for negative control\n",
    "orf_df[\"Metadata_negcon\"] = np.where(orf_df[\"Metadata_pert_type\"] == \"negcon\", 1, 0)"
   ]
  },
  {
   "cell_type": "code",
   "execution_count": 10,
   "metadata": {},
   "outputs": [],
   "source": [
    "pos_sameby = [\"Metadata_JCP2022\"]\n",
    "pos_diffby = []\n",
    "neg_sameby = [\"Metadata_Plate\"]\n",
    "neg_diffby = [\"Metadata_negcon\"]"
   ]
  },
  {
   "cell_type": "code",
   "execution_count": 11,
   "metadata": {},
   "outputs": [],
   "source": [
    "metadata_df = utils.get_metadata(orf_df)\n",
    "feature_df = utils.get_featuredata(orf_df)\n",
    "feature_values = feature_df.values"
   ]
  },
  {
   "cell_type": "code",
   "execution_count": 12,
   "metadata": {},
   "outputs": [
    {
     "name": "stderr",
     "output_type": "stream",
     "text": [
      "INFO:2024-04-05 15:21:42,551:copairs:Indexing metadata...\n"
     ]
    },
    {
     "name": "stderr",
     "output_type": "stream",
     "text": [
      "INFO:2024-04-05 15:21:42,616:copairs:Finding positive pairs...\n",
      "INFO:2024-04-05 15:21:43,315:copairs:Finding negative pairs...\n",
      "INFO:2024-04-05 15:21:44,048:copairs:Computing positive similarities...\n"
     ]
    },
    {
     "data": {
      "application/vnd.jupyter.widget-view+json": {
       "model_id": "43d74995d2624697b716bff0f1842d83",
       "version_major": 2,
       "version_minor": 0
      },
      "text/plain": [
       "  0%|          | 0/76 [00:00<?, ?it/s]"
      ]
     },
     "metadata": {},
     "output_type": "display_data"
    },
    {
     "name": "stderr",
     "output_type": "stream",
     "text": [
      "INFO:2024-04-05 15:21:48,343:copairs:Computing negative similarities...\n"
     ]
    },
    {
     "data": {
      "application/vnd.jupyter.widget-view+json": {
       "model_id": "094369652a1f42ca87ed802d67ffd172",
       "version_major": 2,
       "version_minor": 0
      },
      "text/plain": [
       "  0%|          | 0/52 [00:00<?, ?it/s]"
      ]
     },
     "metadata": {},
     "output_type": "display_data"
    },
    {
     "name": "stderr",
     "output_type": "stream",
     "text": [
      "INFO:2024-04-05 15:21:50,596:copairs:Building rank lists...\n",
      "INFO:2024-04-05 15:21:52,301:copairs:Computing average precision...\n",
      "INFO:2024-04-05 15:21:52,367:copairs:Creating result DataFrame...\n",
      "INFO:2024-04-05 15:21:52,371:copairs:Finished.\n"
     ]
    }
   ],
   "source": [
    "result = average_precision(\n",
    "    metadata_df, feature_values, pos_sameby, pos_diffby, neg_sameby, neg_diffby, batch_size=batch_size\n",
    ")"
   ]
  },
  {
   "cell_type": "code",
   "execution_count": 13,
   "metadata": {},
   "outputs": [],
   "source": [
    "# Remove negcon\n",
    "result = result.query('Metadata_pert_type!=\"negcon\"').reset_index(drop=True)"
   ]
  },
  {
   "cell_type": "code",
   "execution_count": 14,
   "metadata": {},
   "outputs": [
    {
     "name": "stderr",
     "output_type": "stream",
     "text": [
      "INFO:2024-04-05 15:21:52,528:copairs:Computing null_dist...\n"
     ]
    },
    {
     "data": {
      "application/vnd.jupyter.widget-view+json": {
       "model_id": "791e79fbfe5f439281a7020e0c47c4e3",
       "version_major": 2,
       "version_minor": 0
      },
      "text/plain": [
       "  0%|          | 0/18 [00:00<?, ?it/s]"
      ]
     },
     "metadata": {},
     "output_type": "display_data"
    },
    {
     "name": "stderr",
     "output_type": "stream",
     "text": [
      "INFO:2024-04-05 15:21:52,583:copairs:Computing p-values...\n"
     ]
    },
    {
     "data": {
      "application/vnd.jupyter.widget-view+json": {
       "model_id": "a1f91c48cab84786b162926ed20dc2ec",
       "version_major": 2,
       "version_minor": 0
      },
      "text/plain": [
       "  0%|          | 0/13739 [00:00<?, ?it/s]"
      ]
     },
     "metadata": {},
     "output_type": "display_data"
    }
   ],
   "source": [
    "agg_result = (\n",
    "    mean_average_precision(result, pos_sameby, null_size=null_size, threshold=fdr, seed=12527)\n",
    "    .rename(columns={'average_precision': 'mean_average_precision'})\n",
    ")"
   ]
  },
  {
   "cell_type": "code",
   "execution_count": 15,
   "metadata": {},
   "outputs": [],
   "source": [
    "agg_result.to_csv(f\"output/phenotypic-activity-{operations}.csv.gz\", index=False)"
   ]
  }
 ],
 "metadata": {
  "kernelspec": {
   "display_name": "Python 3",
   "language": "python",
   "name": "python3"
  },
  "language_info": {
   "codemirror_mode": {
    "name": "ipython",
    "version": 3
   },
   "file_extension": ".py",
   "mimetype": "text/x-python",
   "name": "python",
   "nbconvert_exporter": "python",
   "pygments_lexer": "ipython3",
   "version": "3.10.6"
  },
  "orig_nbformat": 4,
  "vscode": {
   "interpreter": {
    "hash": "aee8b7b246df8f9039afb4144a1f6fd8d2ca17a180786b69acc140d282b71a49"
   }
  }
 },
 "nbformat": 4,
 "nbformat_minor": 2
}
