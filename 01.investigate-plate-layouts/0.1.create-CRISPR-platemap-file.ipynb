{
 "cells": [
  {
   "cell_type": "code",
   "execution_count": 1,
   "metadata": {},
   "outputs": [],
   "source": [
    "import pandas as pd\n",
    "import utils"
   ]
  },
  {
   "cell_type": "code",
   "execution_count": 2,
   "metadata": {},
   "outputs": [],
   "source": [
    "well_df = pd.read_csv(\"../datasets/metadata/well.csv.gz\")\n",
    "plate_df = pd.read_csv(\"../datasets/metadata/plate.csv.gz\")\n",
    "crispr_df = pd.read_csv(\n",
    "    \"../datasets/metadata/crispr.csv.gz\", usecols=[\"Metadata_JCP2022\", \"Metadata_Symbol\"]\n",
    ")\n",
    "\n",
    "well_plate_df = well_df.merge(\n",
    "    plate_df, how=\"left\", on=[\"Metadata_Source\", \"Metadata_Plate\"]\n",
    ")"
   ]
  },
  {
   "cell_type": "code",
   "execution_count": 3,
   "metadata": {},
   "outputs": [
    {
     "data": {
      "text/html": [
       "<div>\n",
       "<style scoped>\n",
       "    .dataframe tbody tr th:only-of-type {\n",
       "        vertical-align: middle;\n",
       "    }\n",
       "\n",
       "    .dataframe tbody tr th {\n",
       "        vertical-align: top;\n",
       "    }\n",
       "\n",
       "    .dataframe thead th {\n",
       "        text-align: right;\n",
       "    }\n",
       "</style>\n",
       "<table border=\"1\" class=\"dataframe\">\n",
       "  <thead>\n",
       "    <tr style=\"text-align: right;\">\n",
       "      <th></th>\n",
       "      <th>Metadata_Source</th>\n",
       "      <th>Metadata_Plate</th>\n",
       "      <th>Metadata_Well</th>\n",
       "      <th>Metadata_JCP2022</th>\n",
       "      <th>Metadata_Batch</th>\n",
       "      <th>Metadata_PlateType</th>\n",
       "      <th>Metadata_Symbol</th>\n",
       "    </tr>\n",
       "  </thead>\n",
       "  <tbody>\n",
       "    <tr>\n",
       "      <th>0</th>\n",
       "      <td>source_13</td>\n",
       "      <td>CP-CC9-R1-01</td>\n",
       "      <td>A01</td>\n",
       "      <td>JCP2022_085227</td>\n",
       "      <td>20220914_Run1</td>\n",
       "      <td>CRISPR</td>\n",
       "      <td>NaN</td>\n",
       "    </tr>\n",
       "    <tr>\n",
       "      <th>1</th>\n",
       "      <td>source_13</td>\n",
       "      <td>CP-CC9-R1-01</td>\n",
       "      <td>A02</td>\n",
       "      <td>JCP2022_800002</td>\n",
       "      <td>20220914_Run1</td>\n",
       "      <td>CRISPR</td>\n",
       "      <td>non-targeting</td>\n",
       "    </tr>\n",
       "    <tr>\n",
       "      <th>2</th>\n",
       "      <td>source_13</td>\n",
       "      <td>CP-CC9-R1-01</td>\n",
       "      <td>A03</td>\n",
       "      <td>JCP2022_800573</td>\n",
       "      <td>20220914_Run1</td>\n",
       "      <td>CRISPR</td>\n",
       "      <td>ARHGEF7</td>\n",
       "    </tr>\n",
       "    <tr>\n",
       "      <th>3</th>\n",
       "      <td>source_13</td>\n",
       "      <td>CP-CC9-R1-01</td>\n",
       "      <td>A04</td>\n",
       "      <td>JCP2022_806794</td>\n",
       "      <td>20220914_Run1</td>\n",
       "      <td>CRISPR</td>\n",
       "      <td>ST13</td>\n",
       "    </tr>\n",
       "    <tr>\n",
       "      <th>4</th>\n",
       "      <td>source_13</td>\n",
       "      <td>CP-CC9-R1-01</td>\n",
       "      <td>A05</td>\n",
       "      <td>JCP2022_802800</td>\n",
       "      <td>20220914_Run1</td>\n",
       "      <td>CRISPR</td>\n",
       "      <td>GPHN</td>\n",
       "    </tr>\n",
       "  </tbody>\n",
       "</table>\n",
       "</div>"
      ],
      "text/plain": [
       "  Metadata_Source Metadata_Plate Metadata_Well Metadata_JCP2022  \\\n",
       "0       source_13   CP-CC9-R1-01           A01   JCP2022_085227   \n",
       "1       source_13   CP-CC9-R1-01           A02   JCP2022_800002   \n",
       "2       source_13   CP-CC9-R1-01           A03   JCP2022_800573   \n",
       "3       source_13   CP-CC9-R1-01           A04   JCP2022_806794   \n",
       "4       source_13   CP-CC9-R1-01           A05   JCP2022_802800   \n",
       "\n",
       "  Metadata_Batch Metadata_PlateType Metadata_Symbol  \n",
       "0  20220914_Run1             CRISPR             NaN  \n",
       "1  20220914_Run1             CRISPR   non-targeting  \n",
       "2  20220914_Run1             CRISPR         ARHGEF7  \n",
       "3  20220914_Run1             CRISPR            ST13  \n",
       "4  20220914_Run1             CRISPR            GPHN  "
      ]
     },
     "execution_count": 3,
     "metadata": {},
     "output_type": "execute_result"
    }
   ],
   "source": [
    "crispr_well_plate_df = (\n",
    "    (well_plate_df.query('Metadata_PlateType == \"CRISPR\"'))\n",
    "    .reset_index(drop=True)\n",
    "    .merge(crispr_df, on=\"Metadata_JCP2022\", how=\"left\")\n",
    ")\n",
    "\n",
    "crispr_well_plate_df.head()"
   ]
  },
  {
   "cell_type": "code",
   "execution_count": 4,
   "metadata": {},
   "outputs": [],
   "source": [
    "crispr_well_plate_platemap_df = utils.infer_and_add_platemap(crispr_well_plate_df)\n",
    "crispr_well_plate_platemap_df.to_csv(\"output/crispr_well_plate_platemap.csv.gz\", index=False)"
   ]
  }
 ],
 "metadata": {
  "kernelspec": {
   "display_name": "platemap",
   "language": "python",
   "name": "python3"
  },
  "language_info": {
   "codemirror_mode": {
    "name": "ipython",
    "version": 3
   },
   "file_extension": ".py",
   "mimetype": "text/x-python",
   "name": "python",
   "nbconvert_exporter": "python",
   "pygments_lexer": "ipython3",
   "version": "3.10.6"
  }
 },
 "nbformat": 4,
 "nbformat_minor": 2
}
