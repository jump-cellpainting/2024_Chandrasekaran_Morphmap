{
 "cells": [
  {
   "cell_type": "code",
   "execution_count": 1,
   "metadata": {},
   "outputs": [],
   "source": [
    "import pandas as pd\n",
    "import numpy as np\n",
    "import scipy.stats as stats\n",
    "import statsmodels.api as sm\n",
    "import statsmodels"
   ]
  },
  {
   "cell_type": "code",
   "execution_count": 2,
   "metadata": {},
   "outputs": [],
   "source": [
    "variable = \"involvement_in_disease\"\n",
    "col_name = f\"Metadata_{variable}\"\n",
    "col_name_in_metadata = \"Metadata_disease_involvement\"\n",
    "output_df = pd.DataFrame()"
   ]
  },
  {
   "cell_type": "code",
   "execution_count": 3,
   "metadata": {},
   "outputs": [
    {
     "data": {
      "text/html": [
       "<div>\n",
       "<style scoped>\n",
       "    .dataframe tbody tr th:only-of-type {\n",
       "        vertical-align: middle;\n",
       "    }\n",
       "\n",
       "    .dataframe tbody tr th {\n",
       "        vertical-align: top;\n",
       "    }\n",
       "\n",
       "    .dataframe thead th {\n",
       "        text-align: right;\n",
       "    }\n",
       "</style>\n",
       "<table border=\"1\" class=\"dataframe\">\n",
       "  <thead>\n",
       "    <tr style=\"text-align: right;\">\n",
       "      <th></th>\n",
       "      <th>Metadata_JCP2022</th>\n",
       "      <th>Metadata_Platemap</th>\n",
       "    </tr>\n",
       "  </thead>\n",
       "  <tbody>\n",
       "    <tr>\n",
       "      <th>0</th>\n",
       "      <td>JCP2022_905588</td>\n",
       "      <td>platemap_1</td>\n",
       "    </tr>\n",
       "    <tr>\n",
       "      <th>1</th>\n",
       "      <td>JCP2022_912241</td>\n",
       "      <td>platemap_1</td>\n",
       "    </tr>\n",
       "    <tr>\n",
       "      <th>2</th>\n",
       "      <td>JCP2022_900266</td>\n",
       "      <td>platemap_1</td>\n",
       "    </tr>\n",
       "    <tr>\n",
       "      <th>3</th>\n",
       "      <td>JCP2022_915129</td>\n",
       "      <td>platemap_1</td>\n",
       "    </tr>\n",
       "    <tr>\n",
       "      <th>4</th>\n",
       "      <td>JCP2022_907177</td>\n",
       "      <td>platemap_1</td>\n",
       "    </tr>\n",
       "  </tbody>\n",
       "</table>\n",
       "</div>"
      ],
      "text/plain": [
       "  Metadata_JCP2022 Metadata_Platemap\n",
       "0   JCP2022_905588        platemap_1\n",
       "1   JCP2022_912241        platemap_1\n",
       "2   JCP2022_900266        platemap_1\n",
       "3   JCP2022_915129        platemap_1\n",
       "4   JCP2022_907177        platemap_1"
      ]
     },
     "execution_count": 3,
     "metadata": {},
     "output_type": "execute_result"
    }
   ],
   "source": [
    "orf_plate_metadata_df = pd.read_csv(\n",
    "    \"output/orf_well_plate_platemap.csv.gz\",\n",
    "    usecols=[\"Metadata_JCP2022\", \"Metadata_Platemap\"],\n",
    ")\n",
    "orf_plate_metadata_df.head()"
   ]
  },
  {
   "cell_type": "code",
   "execution_count": 4,
   "metadata": {},
   "outputs": [
    {
     "data": {
      "text/html": [
       "<div>\n",
       "<style scoped>\n",
       "    .dataframe tbody tr th:only-of-type {\n",
       "        vertical-align: middle;\n",
       "    }\n",
       "\n",
       "    .dataframe tbody tr th {\n",
       "        vertical-align: top;\n",
       "    }\n",
       "\n",
       "    .dataframe thead th {\n",
       "        text-align: right;\n",
       "    }\n",
       "</style>\n",
       "<table border=\"1\" class=\"dataframe\">\n",
       "  <thead>\n",
       "    <tr style=\"text-align: right;\">\n",
       "      <th></th>\n",
       "      <th>Metadata_JCP2022</th>\n",
       "      <th>Metadata_Platemap</th>\n",
       "      <th>Metadata_disease_involvement</th>\n",
       "      <th>Metadata_involvement_in_disease</th>\n",
       "    </tr>\n",
       "  </thead>\n",
       "  <tbody>\n",
       "    <tr>\n",
       "      <th>0</th>\n",
       "      <td>JCP2022_905588</td>\n",
       "      <td>platemap_1</td>\n",
       "      <td>NaN</td>\n",
       "      <td>False</td>\n",
       "    </tr>\n",
       "    <tr>\n",
       "      <th>1</th>\n",
       "      <td>JCP2022_912241</td>\n",
       "      <td>platemap_1</td>\n",
       "      <td>NaN</td>\n",
       "      <td>False</td>\n",
       "    </tr>\n",
       "    <tr>\n",
       "      <th>2</th>\n",
       "      <td>JCP2022_900266</td>\n",
       "      <td>platemap_1</td>\n",
       "      <td>Disease variant</td>\n",
       "      <td>True</td>\n",
       "    </tr>\n",
       "    <tr>\n",
       "      <th>3</th>\n",
       "      <td>JCP2022_915129</td>\n",
       "      <td>platemap_1</td>\n",
       "      <td>NaN</td>\n",
       "      <td>False</td>\n",
       "    </tr>\n",
       "    <tr>\n",
       "      <th>4</th>\n",
       "      <td>JCP2022_907177</td>\n",
       "      <td>platemap_1</td>\n",
       "      <td>NaN</td>\n",
       "      <td>False</td>\n",
       "    </tr>\n",
       "  </tbody>\n",
       "</table>\n",
       "</div>"
      ],
      "text/plain": [
       "  Metadata_JCP2022 Metadata_Platemap Metadata_disease_involvement  \\\n",
       "0   JCP2022_905588        platemap_1                          NaN   \n",
       "1   JCP2022_912241        platemap_1                          NaN   \n",
       "2   JCP2022_900266        platemap_1              Disease variant   \n",
       "3   JCP2022_915129        platemap_1                          NaN   \n",
       "4   JCP2022_907177        platemap_1                          NaN   \n",
       "\n",
       "  Metadata_involvement_in_disease  \n",
       "0                           False  \n",
       "1                           False  \n",
       "2                            True  \n",
       "3                           False  \n",
       "4                           False  "
      ]
     },
     "execution_count": 4,
     "metadata": {},
     "output_type": "execute_result"
    }
   ],
   "source": [
    "orf_annotation_df = (\n",
    "    pd.read_csv(\n",
    "        \"../00.download-and-process-annotations/output/orf_metadata.tsv.gz\",\n",
    "        sep=\"\\t\",\n",
    "        usecols=[\"Metadata_JCP2022\", col_name_in_metadata],\n",
    "    )\n",
    "    .assign(col=lambda x: np.where(x[col_name_in_metadata].notna(), True, False))\n",
    "    .rename(columns={\"col\": col_name})\n",
    ")\n",
    "\n",
    "orf_df = (\n",
    "    orf_plate_metadata_df.merge(orf_annotation_df, on=\"Metadata_JCP2022\", how=\"left\")\n",
    "    .dropna(subset=[col_name])\n",
    "    .drop_duplicates(subset=[\"Metadata_JCP2022\", \"Metadata_Platemap\"])\n",
    ")\n",
    "\n",
    "orf_df.head()"
   ]
  },
  {
   "cell_type": "markdown",
   "metadata": {},
   "source": [
    "Fisher's exact test"
   ]
  },
  {
   "cell_type": "code",
   "execution_count": 5,
   "metadata": {},
   "outputs": [],
   "source": [
    "fisher_df = pd.DataFrame(\n",
    "    columns=[\n",
    "        \"platemap\",\n",
    "        f\"{variable}_False_in_other_platemaps\"\n",
    "        f\"{variable}_False_in_platemap\",\n",
    "        f\"{variable}_True_in_other_platemaps\",\n",
    "        f\"{variable}_True_in_platemap\",\n",
    "        \"odds_ratio\",\n",
    "        \"pvalue\",\n",
    "        \"adjusted_pvalue\",\n",
    "    ]\n",
    ")\n",
    "\n",
    "for platemap in orf_df.Metadata_Platemap.unique():\n",
    "    df = orf_df.assign(platemap_x = lambda x: np.where(x.Metadata_Platemap == platemap, True, False))\n",
    "    table = sm.stats.Table.from_data(df[[\"platemap_x\", col_name]])\n",
    "\n",
    "    odds_ratio, pvalue = stats.fisher_exact(table.table)\n",
    "\n",
    "    output_df = pd.concat(\n",
    "        [\n",
    "            output_df,\n",
    "            pd.DataFrame(\n",
    "                {\n",
    "                    \"platemap\": platemap,\n",
    "                    f\"{variable}_False_in_other_platemaps\": int(table.table[0, 0]),\n",
    "                    f\"{variable}_False_in_platemap\": int(table.table[0, 1]),\n",
    "                    f\"{variable}_True_in_other_platemaps\": int(table.table[1, 0]),\n",
    "                    f\"{variable}_True_in_platemap\": int(table.table[1, 1]),\n",
    "                    \"odds_ratio\": odds_ratio,\n",
    "                    \"pvalue\": pvalue,\n",
    "                },\n",
    "                index=[0],\n",
    "            ),\n",
    "        ],\n",
    "        ignore_index=True,\n",
    "    )\n",
    "\n",
    "output_df[\"adjusted_pvalue\"] = statsmodels.stats.multitest.fdrcorrection(output_df.pvalue)[1]"
   ]
  },
  {
   "cell_type": "code",
   "execution_count": 6,
   "metadata": {},
   "outputs": [
    {
     "name": "stdout",
     "output_type": "stream",
     "text": [
      "| platemap    |   involvement_in_disease_False_in_other_platemaps |   involvement_in_disease_False_in_platemap |   involvement_in_disease_True_in_other_platemaps |   involvement_in_disease_True_in_platemap |   odds_ratio |      pvalue |   adjusted_pvalue |\n",
      "|:------------|--------------------------------------------------:|-------------------------------------------:|-------------------------------------------------:|------------------------------------------:|-------------:|------------:|------------------:|\n",
      "| platemap_19 |                                             10593 |                                       4544 |                                              162 |                                       178 |     2.56145  | 3.10939e-17 |       1.39923e-15 |\n",
      "| platemap_30 |                                             10460 |                                       4675 |                                              295 |                                        47 |     0.356472 | 3.42297e-13 |       7.70169e-12 |\n",
      "| platemap_26 |                                             10570 |                                       4562 |                                              185 |                                       160 |     2.00386  | 5.20885e-10 |       7.81327e-09 |\n",
      "| platemap_40 |                                             10469 |                                       4664 |                                              286 |                                        58 |     0.455207 | 6.86251e-09 |       7.72032e-08 |\n",
      "| platemap_39 |                                             10476 |                                       4658 |                                              279 |                                        64 |     0.515907 | 5.55637e-07 |       5.00074e-06 |\n",
      "| platemap_21 |                                             10477 |                                       4652 |                                              278 |                                        70 |     0.567088 | 1.21223e-05 |       9.09174e-05 |\n",
      "| platemap_17 |                                             10483 |                                       4645 |                                              272 |                                        77 |     0.638884 | 0.000408808 |       0.00262805  |\n",
      "| platemap_7  |                                             10538 |                                       4592 |                                              217 |                                       130 |     1.3748   | 0.00550425  |       0.02849     |\n",
      "| platemap_16 |                                             10546 |                                       4596 |                                              209 |                                       126 |     1.38335  | 0.00569799  |       0.02849     |\n"
     ]
    }
   ],
   "source": [
    "print(\n",
    "    output_df.sort_values(by=\"adjusted_pvalue\")\n",
    "    .query(\"adjusted_pvalue < 0.05\")\n",
    "    .to_markdown(index=False)\n",
    ")\n",
    "\n",
    "output_df.to_csv(f\"output/{variable}_fisher_exact_orf.tsv\", sep=\"\\t\", index=False)"
   ]
  }
 ],
 "metadata": {
  "kernelspec": {
   "display_name": "platemap",
   "language": "python",
   "name": "python3"
  },
  "language_info": {
   "codemirror_mode": {
    "name": "ipython",
    "version": 3
   },
   "file_extension": ".py",
   "mimetype": "text/x-python",
   "name": "python",
   "nbconvert_exporter": "python",
   "pygments_lexer": "ipython3",
   "version": "3.10.6"
  }
 },
 "nbformat": 4,
 "nbformat_minor": 2
}
