{
 "cells": [
  {
   "cell_type": "code",
   "execution_count": 1,
   "metadata": {},
   "outputs": [],
   "source": [
    "import pandas as pd\n",
    "import numpy as np\n",
    "import scipy.stats as stats\n",
    "import statsmodels.api as sm\n",
    "import statsmodels"
   ]
  },
  {
   "cell_type": "code",
   "execution_count": 2,
   "metadata": {},
   "outputs": [],
   "source": [
    "variable = \"expression\"\n",
    "col_name = f\"Metadata_{variable}\"\n",
    "col_name_in_metadata = \"Metadata_TPM\"\n",
    "output_df = pd.DataFrame()"
   ]
  },
  {
   "cell_type": "code",
   "execution_count": 3,
   "metadata": {},
   "outputs": [
    {
     "data": {
      "text/html": [
       "<div>\n",
       "<style scoped>\n",
       "    .dataframe tbody tr th:only-of-type {\n",
       "        vertical-align: middle;\n",
       "    }\n",
       "\n",
       "    .dataframe tbody tr th {\n",
       "        vertical-align: top;\n",
       "    }\n",
       "\n",
       "    .dataframe thead th {\n",
       "        text-align: right;\n",
       "    }\n",
       "</style>\n",
       "<table border=\"1\" class=\"dataframe\">\n",
       "  <thead>\n",
       "    <tr style=\"text-align: right;\">\n",
       "      <th></th>\n",
       "      <th>Metadata_JCP2022</th>\n",
       "      <th>Metadata_Platemap</th>\n",
       "    </tr>\n",
       "  </thead>\n",
       "  <tbody>\n",
       "    <tr>\n",
       "      <th>0</th>\n",
       "      <td>JCP2022_085227</td>\n",
       "      <td>platemap_1</td>\n",
       "    </tr>\n",
       "    <tr>\n",
       "      <th>1</th>\n",
       "      <td>JCP2022_800002</td>\n",
       "      <td>platemap_1</td>\n",
       "    </tr>\n",
       "    <tr>\n",
       "      <th>2</th>\n",
       "      <td>JCP2022_800573</td>\n",
       "      <td>platemap_1</td>\n",
       "    </tr>\n",
       "    <tr>\n",
       "      <th>3</th>\n",
       "      <td>JCP2022_806794</td>\n",
       "      <td>platemap_1</td>\n",
       "    </tr>\n",
       "    <tr>\n",
       "      <th>4</th>\n",
       "      <td>JCP2022_802800</td>\n",
       "      <td>platemap_1</td>\n",
       "    </tr>\n",
       "  </tbody>\n",
       "</table>\n",
       "</div>"
      ],
      "text/plain": [
       "  Metadata_JCP2022 Metadata_Platemap\n",
       "0   JCP2022_085227        platemap_1\n",
       "1   JCP2022_800002        platemap_1\n",
       "2   JCP2022_800573        platemap_1\n",
       "3   JCP2022_806794        platemap_1\n",
       "4   JCP2022_802800        platemap_1"
      ]
     },
     "execution_count": 3,
     "metadata": {},
     "output_type": "execute_result"
    }
   ],
   "source": [
    "crispr_plate_metadata_df = pd.read_csv(\n",
    "    \"output/crispr_well_plate_platemap.csv.gz\",\n",
    "    usecols=[\"Metadata_JCP2022\", \"Metadata_Platemap\"],\n",
    ")\n",
    "crispr_plate_metadata_df.head()"
   ]
  },
  {
   "cell_type": "code",
   "execution_count": 4,
   "metadata": {},
   "outputs": [
    {
     "data": {
      "text/html": [
       "<div>\n",
       "<style scoped>\n",
       "    .dataframe tbody tr th:only-of-type {\n",
       "        vertical-align: middle;\n",
       "    }\n",
       "\n",
       "    .dataframe tbody tr th {\n",
       "        vertical-align: top;\n",
       "    }\n",
       "\n",
       "    .dataframe thead th {\n",
       "        text-align: right;\n",
       "    }\n",
       "</style>\n",
       "<table border=\"1\" class=\"dataframe\">\n",
       "  <thead>\n",
       "    <tr style=\"text-align: right;\">\n",
       "      <th></th>\n",
       "      <th>Metadata_JCP2022</th>\n",
       "      <th>Metadata_Platemap</th>\n",
       "      <th>Metadata_TPM</th>\n",
       "      <th>Metadata_expression</th>\n",
       "    </tr>\n",
       "  </thead>\n",
       "  <tbody>\n",
       "    <tr>\n",
       "      <th>1</th>\n",
       "      <td>JCP2022_800002</td>\n",
       "      <td>platemap_1</td>\n",
       "      <td>NaN</td>\n",
       "      <td>False</td>\n",
       "    </tr>\n",
       "    <tr>\n",
       "      <th>2</th>\n",
       "      <td>JCP2022_800573</td>\n",
       "      <td>platemap_1</td>\n",
       "      <td>4.354734</td>\n",
       "      <td>False</td>\n",
       "    </tr>\n",
       "    <tr>\n",
       "      <th>3</th>\n",
       "      <td>JCP2022_806794</td>\n",
       "      <td>platemap_1</td>\n",
       "      <td>8.083001</td>\n",
       "      <td>True</td>\n",
       "    </tr>\n",
       "    <tr>\n",
       "      <th>4</th>\n",
       "      <td>JCP2022_802800</td>\n",
       "      <td>platemap_1</td>\n",
       "      <td>4.522307</td>\n",
       "      <td>False</td>\n",
       "    </tr>\n",
       "    <tr>\n",
       "      <th>5</th>\n",
       "      <td>JCP2022_802216</td>\n",
       "      <td>platemap_1</td>\n",
       "      <td>6.104337</td>\n",
       "      <td>True</td>\n",
       "    </tr>\n",
       "  </tbody>\n",
       "</table>\n",
       "</div>"
      ],
      "text/plain": [
       "  Metadata_JCP2022 Metadata_Platemap  Metadata_TPM Metadata_expression\n",
       "1   JCP2022_800002        platemap_1           NaN               False\n",
       "2   JCP2022_800573        platemap_1      4.354734               False\n",
       "3   JCP2022_806794        platemap_1      8.083001                True\n",
       "4   JCP2022_802800        platemap_1      4.522307               False\n",
       "5   JCP2022_802216        platemap_1      6.104337                True"
      ]
     },
     "execution_count": 4,
     "metadata": {},
     "output_type": "execute_result"
    }
   ],
   "source": [
    "crispr_annotation_df = (\n",
    "    pd.read_csv(\n",
    "        \"../00.download-and-process-annotations/output/crispr_metadata.tsv.gz\",\n",
    "        sep=\"\\t\",\n",
    "        usecols=[\"Metadata_JCP2022\", col_name_in_metadata],\n",
    "    )\n",
    "    .assign(\n",
    "        col=lambda x: np.where(\n",
    "            x[col_name_in_metadata] > np.nanpercentile(x.Metadata_TPM, 75),\n",
    "            \"True\",\n",
    "            \"False\",\n",
    "        )\n",
    "    )\n",
    "    .rename(columns={\"col\": col_name})\n",
    ")\n",
    "\n",
    "crispr_df = (\n",
    "    crispr_plate_metadata_df.merge(crispr_annotation_df, on=\"Metadata_JCP2022\", how=\"left\")\n",
    "    .dropna(subset=[col_name])\n",
    "    .drop_duplicates(subset=[\"Metadata_JCP2022\", \"Metadata_Platemap\"])\n",
    ")\n",
    "\n",
    "crispr_df.head()"
   ]
  },
  {
   "cell_type": "markdown",
   "metadata": {},
   "source": [
    "Fisher's exact test"
   ]
  },
  {
   "cell_type": "code",
   "execution_count": 5,
   "metadata": {},
   "outputs": [],
   "source": [
    "fisher_df = pd.DataFrame(\n",
    "    columns=[\n",
    "        \"platemap\",\n",
    "        f\"{variable}_False_in_other_platemaps\"\n",
    "        f\"{variable}_False_in_platemap\",\n",
    "        f\"{variable}_True_in_other_platemaps\",\n",
    "        f\"{variable}_True_in_platemap\",\n",
    "        \"odds_ratio\",\n",
    "        \"pvalue\",\n",
    "        \"adjusted_pvalue\",\n",
    "    ]\n",
    ")\n",
    "\n",
    "for platemap in crispr_df.Metadata_Platemap.unique():\n",
    "    df = crispr_df.assign(platemap_x = lambda x: np.where(x.Metadata_Platemap == platemap, True, False))\n",
    "    table = sm.stats.Table.from_data(df[[\"platemap_x\", col_name]])\n",
    "\n",
    "    odds_ratio, pvalue = stats.fisher_exact(table.table)\n",
    "\n",
    "    output_df = pd.concat(\n",
    "        [\n",
    "            output_df,\n",
    "            pd.DataFrame(\n",
    "                {\n",
    "                    \"platemap\": platemap,\n",
    "                    f\"{variable}_False_in_other_platemaps\": int(table.table[0, 0]),\n",
    "                    f\"{variable}_False_in_platemap\": int(table.table[0, 1]),\n",
    "                    f\"{variable}_True_in_other_platemaps\": int(table.table[1, 0]),\n",
    "                    f\"{variable}_True_in_platemap\": int(table.table[1, 1]),\n",
    "                    \"odds_ratio\": odds_ratio,\n",
    "                    \"pvalue\": pvalue,\n",
    "                },\n",
    "                index=[0],\n",
    "            ),\n",
    "        ],\n",
    "        ignore_index=True,\n",
    "    )\n",
    "\n",
    "output_df[\"adjusted_pvalue\"] = statsmodels.stats.multitest.fdrcorrection(output_df.pvalue)[1]"
   ]
  },
  {
   "cell_type": "code",
   "execution_count": 6,
   "metadata": {},
   "outputs": [
    {
     "name": "stdout",
     "output_type": "stream",
     "text": [
      "| platemap    |   expression_False_in_other_platemaps |   expression_False_in_platemap |   expression_True_in_other_platemaps |   expression_True_in_platemap |   odds_ratio |      pvalue |   adjusted_pvalue |\n",
      "|:------------|--------------------------------------:|-------------------------------:|-------------------------------------:|------------------------------:|-------------:|------------:|------------------:|\n",
      "| platemap_17 |                                  6052 |                           2106 |                                  300 |                            23 |     0.220317 | 2.04133e-17 |       5.91984e-16 |\n",
      "| platemap_15 |                                  6059 |                           2099 |                                  293 |                            30 |     0.295558 | 2.74292e-13 |       3.97724e-12 |\n",
      "| platemap_3  |                                  6138 |                           2021 |                                  214 |                           108 |     1.53275  | 0.000627888 |       0.00467121  |\n",
      "| platemap_5  |                                  6137 |                           2021 |                                  215 |                           108 |     1.52537  | 0.000644305 |       0.00467121  |\n",
      "| platemap_11 |                                  6136 |                           2022 |                                  216 |                           107 |     1.50326  | 0.00103457  |       0.00600051  |\n",
      "| platemap_18 |                                  6086 |                           2072 |                                  266 |                            57 |     0.629413 | 0.00131651  |       0.00636314  |\n",
      "| platemap_26 |                                  6089 |                           2071 |                                  263 |                            58 |     0.648393 | 0.00251378  |       0.00923214  |\n",
      "| platemap_10 |                                  6134 |                           2024 |                                  218 |                           105 |     1.45971  | 0.0025468   |       0.00923214  |\n",
      "| platemap_12 |                                  6242 |                           2070 |                                  110 |                            59 |     1.61738  | 0.00402674  |       0.012975    |\n",
      "| platemap_16 |                                  6090 |                           2069 |                                  262 |                            60 |     0.674073 | 0.00585356  |       0.0169753   |\n",
      "| platemap_7  |                                  6131 |                           2027 |                                  221 |                           102 |     1.396    | 0.00726665  |       0.0191575   |\n",
      "| platemap_8  |                                  6130 |                           2028 |                                  222 |                           101 |     1.37518  | 0.0106561   |       0.0257523   |\n"
     ]
    }
   ],
   "source": [
    "print(\n",
    "    output_df.sort_values(by=\"adjusted_pvalue\")\n",
    "    .query(\"adjusted_pvalue < 0.05\")\n",
    "    .to_markdown(index=False)\n",
    ")\n",
    "\n",
    "output_df.to_csv(f\"output/{variable}_fisher_exact_crispr.tsv\", sep=\"\\t\", index=False)"
   ]
  }
 ],
 "metadata": {
  "kernelspec": {
   "display_name": "platemap",
   "language": "python",
   "name": "python3"
  },
  "language_info": {
   "codemirror_mode": {
    "name": "ipython",
    "version": 3
   },
   "file_extension": ".py",
   "mimetype": "text/x-python",
   "name": "python",
   "nbconvert_exporter": "python",
   "pygments_lexer": "ipython3",
   "version": "3.1.-1"
  }
 },
 "nbformat": 4,
 "nbformat_minor": 2
}
