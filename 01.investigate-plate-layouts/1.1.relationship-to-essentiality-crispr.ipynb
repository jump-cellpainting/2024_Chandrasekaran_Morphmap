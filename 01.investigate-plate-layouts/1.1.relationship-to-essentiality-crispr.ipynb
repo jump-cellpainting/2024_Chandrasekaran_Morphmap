{
 "cells": [
  {
   "cell_type": "code",
   "execution_count": 1,
   "metadata": {},
   "outputs": [],
   "source": [
    "import pandas as pd\n",
    "import numpy as np\n",
    "import scipy.stats as stats\n",
    "import statsmodels.api as sm\n",
    "import statsmodels"
   ]
  },
  {
   "cell_type": "code",
   "execution_count": 2,
   "metadata": {},
   "outputs": [],
   "source": [
    "variable = \"essentiality\"\n",
    "col_name = f\"Metadata_{variable}\"\n",
    "col_name_in_metadata = \"Metadata_dependency_probability\"\n",
    "output_df = pd.DataFrame()"
   ]
  },
  {
   "cell_type": "code",
   "execution_count": 3,
   "metadata": {},
   "outputs": [
    {
     "data": {
      "text/html": [
       "<div>\n",
       "<style scoped>\n",
       "    .dataframe tbody tr th:only-of-type {\n",
       "        vertical-align: middle;\n",
       "    }\n",
       "\n",
       "    .dataframe tbody tr th {\n",
       "        vertical-align: top;\n",
       "    }\n",
       "\n",
       "    .dataframe thead th {\n",
       "        text-align: right;\n",
       "    }\n",
       "</style>\n",
       "<table border=\"1\" class=\"dataframe\">\n",
       "  <thead>\n",
       "    <tr style=\"text-align: right;\">\n",
       "      <th></th>\n",
       "      <th>Metadata_JCP2022</th>\n",
       "      <th>Metadata_Platemap</th>\n",
       "    </tr>\n",
       "  </thead>\n",
       "  <tbody>\n",
       "    <tr>\n",
       "      <th>0</th>\n",
       "      <td>JCP2022_085227</td>\n",
       "      <td>platemap_1</td>\n",
       "    </tr>\n",
       "    <tr>\n",
       "      <th>1</th>\n",
       "      <td>JCP2022_800002</td>\n",
       "      <td>platemap_1</td>\n",
       "    </tr>\n",
       "    <tr>\n",
       "      <th>2</th>\n",
       "      <td>JCP2022_800573</td>\n",
       "      <td>platemap_1</td>\n",
       "    </tr>\n",
       "    <tr>\n",
       "      <th>3</th>\n",
       "      <td>JCP2022_806794</td>\n",
       "      <td>platemap_1</td>\n",
       "    </tr>\n",
       "    <tr>\n",
       "      <th>4</th>\n",
       "      <td>JCP2022_802800</td>\n",
       "      <td>platemap_1</td>\n",
       "    </tr>\n",
       "  </tbody>\n",
       "</table>\n",
       "</div>"
      ],
      "text/plain": [
       "  Metadata_JCP2022 Metadata_Platemap\n",
       "0   JCP2022_085227        platemap_1\n",
       "1   JCP2022_800002        platemap_1\n",
       "2   JCP2022_800573        platemap_1\n",
       "3   JCP2022_806794        platemap_1\n",
       "4   JCP2022_802800        platemap_1"
      ]
     },
     "execution_count": 3,
     "metadata": {},
     "output_type": "execute_result"
    }
   ],
   "source": [
    "crispr_plate_metadata_df = pd.read_csv(\n",
    "    \"output/crispr_well_plate_platemap.csv.gz\",\n",
    "    usecols=[\"Metadata_JCP2022\", \"Metadata_Platemap\"],\n",
    ")\n",
    "crispr_plate_metadata_df.head()"
   ]
  },
  {
   "cell_type": "code",
   "execution_count": 4,
   "metadata": {},
   "outputs": [
    {
     "data": {
      "text/html": [
       "<div>\n",
       "<style scoped>\n",
       "    .dataframe tbody tr th:only-of-type {\n",
       "        vertical-align: middle;\n",
       "    }\n",
       "\n",
       "    .dataframe tbody tr th {\n",
       "        vertical-align: top;\n",
       "    }\n",
       "\n",
       "    .dataframe thead th {\n",
       "        text-align: right;\n",
       "    }\n",
       "</style>\n",
       "<table border=\"1\" class=\"dataframe\">\n",
       "  <thead>\n",
       "    <tr style=\"text-align: right;\">\n",
       "      <th></th>\n",
       "      <th>Metadata_JCP2022</th>\n",
       "      <th>Metadata_Platemap</th>\n",
       "      <th>Metadata_dependency_probability</th>\n",
       "      <th>Metadata_essentiality</th>\n",
       "    </tr>\n",
       "  </thead>\n",
       "  <tbody>\n",
       "    <tr>\n",
       "      <th>1</th>\n",
       "      <td>JCP2022_800002</td>\n",
       "      <td>platemap_1</td>\n",
       "      <td>NaN</td>\n",
       "      <td>False</td>\n",
       "    </tr>\n",
       "    <tr>\n",
       "      <th>2</th>\n",
       "      <td>JCP2022_800573</td>\n",
       "      <td>platemap_1</td>\n",
       "      <td>0.850741</td>\n",
       "      <td>True</td>\n",
       "    </tr>\n",
       "    <tr>\n",
       "      <th>3</th>\n",
       "      <td>JCP2022_806794</td>\n",
       "      <td>platemap_1</td>\n",
       "      <td>NaN</td>\n",
       "      <td>False</td>\n",
       "    </tr>\n",
       "    <tr>\n",
       "      <th>4</th>\n",
       "      <td>JCP2022_802800</td>\n",
       "      <td>platemap_1</td>\n",
       "      <td>0.006674</td>\n",
       "      <td>False</td>\n",
       "    </tr>\n",
       "    <tr>\n",
       "      <th>5</th>\n",
       "      <td>JCP2022_802216</td>\n",
       "      <td>platemap_1</td>\n",
       "      <td>0.825574</td>\n",
       "      <td>True</td>\n",
       "    </tr>\n",
       "  </tbody>\n",
       "</table>\n",
       "</div>"
      ],
      "text/plain": [
       "  Metadata_JCP2022 Metadata_Platemap  Metadata_dependency_probability  \\\n",
       "1   JCP2022_800002        platemap_1                              NaN   \n",
       "2   JCP2022_800573        platemap_1                         0.850741   \n",
       "3   JCP2022_806794        platemap_1                              NaN   \n",
       "4   JCP2022_802800        platemap_1                         0.006674   \n",
       "5   JCP2022_802216        platemap_1                         0.825574   \n",
       "\n",
       "  Metadata_essentiality  \n",
       "1                 False  \n",
       "2                  True  \n",
       "3                 False  \n",
       "4                 False  \n",
       "5                  True  "
      ]
     },
     "execution_count": 4,
     "metadata": {},
     "output_type": "execute_result"
    }
   ],
   "source": [
    "crispr_annotation_df = (\n",
    "    pd.read_csv(\n",
    "        \"../00.download-and-process-annotations/output/crispr_metadata.tsv.gz\",\n",
    "        sep=\"\\t\",\n",
    "        usecols=[\"Metadata_JCP2022\", col_name_in_metadata],\n",
    "    )\n",
    "    .assign(col=lambda x: np.where(x[col_name_in_metadata] > 0.75, \"True\", \"False\"))\n",
    "    .rename(columns={\"col\": col_name})\n",
    ")\n",
    "\n",
    "crispr_df = (\n",
    "    crispr_plate_metadata_df.merge(crispr_annotation_df, on=\"Metadata_JCP2022\", how=\"left\")\n",
    "    .dropna(subset=[col_name])\n",
    "    .drop_duplicates(subset=[\"Metadata_JCP2022\", \"Metadata_Platemap\"])\n",
    ")\n",
    "\n",
    "crispr_df.head()"
   ]
  },
  {
   "cell_type": "markdown",
   "metadata": {},
   "source": [
    "Fisher's exact test"
   ]
  },
  {
   "cell_type": "code",
   "execution_count": 5,
   "metadata": {},
   "outputs": [],
   "source": [
    "fisher_df = pd.DataFrame(\n",
    "    columns=[\n",
    "        \"platemap\",\n",
    "        f\"{variable}_False_in_other_platemaps\"\n",
    "        f\"{variable}_False_in_platemap\",\n",
    "        f\"{variable}_True_in_other_platemaps\",\n",
    "        f\"{variable}_True_in_platemap\",\n",
    "        \"odds_ratio\",\n",
    "        \"pvalue\",\n",
    "        \"adjusted_pvalue\",\n",
    "    ]\n",
    ")\n",
    "\n",
    "for platemap in crispr_df.Metadata_Platemap.unique():\n",
    "    df = crispr_df.assign(platemap_x = lambda x: np.where(x.Metadata_Platemap == platemap, True, False))\n",
    "    table = sm.stats.Table.from_data(df[[\"platemap_x\", col_name]])\n",
    "\n",
    "    odds_ratio, pvalue = stats.fisher_exact(table.table)\n",
    "\n",
    "    output_df = pd.concat(\n",
    "        [\n",
    "            output_df,\n",
    "            pd.DataFrame(\n",
    "                {\n",
    "                    \"platemap\": platemap,\n",
    "                    f\"{variable}_False_in_other_platemaps\": int(table.table[0, 0]),\n",
    "                    f\"{variable}_False_in_platemap\": int(table.table[0, 1]),\n",
    "                    f\"{variable}_True_in_other_platemaps\": int(table.table[1, 0]),\n",
    "                    f\"{variable}_True_in_platemap\": int(table.table[1, 1]),\n",
    "                    \"odds_ratio\": odds_ratio,\n",
    "                    \"pvalue\": pvalue,\n",
    "                },\n",
    "                index=[0],\n",
    "            ),\n",
    "        ],\n",
    "        ignore_index=True,\n",
    "    )\n",
    "\n",
    "output_df[\"adjusted_pvalue\"] = statsmodels.stats.multitest.fdrcorrection(output_df.pvalue)[1]"
   ]
  },
  {
   "cell_type": "code",
   "execution_count": 6,
   "metadata": {},
   "outputs": [
    {
     "name": "stdout",
     "output_type": "stream",
     "text": [
      "| platemap    |   essentiality_False_in_other_platemaps |   essentiality_False_in_platemap |   essentiality_True_in_other_platemaps |   essentiality_True_in_platemap |   odds_ratio |      pvalue |   adjusted_pvalue |\n",
      "|:------------|----------------------------------------:|---------------------------------:|---------------------------------------:|--------------------------------:|-------------:|------------:|------------------:|\n",
      "| platemap_17 |                                    7393 |                              765 |                                    321 |                               2 |    0.0602122 | 3.08025e-11 |       8.93272e-10 |\n",
      "| platemap_15 |                                    7397 |                              761 |                                    317 |                               6 |    0.183977  | 9.78117e-08 |       1.41827e-06 |\n",
      "| platemap_3  |                                    7439 |                              720 |                                    275 |                              47 |    1.76582   | 0.000979228 |       0.00946587  |\n",
      "| platemap_5  |                                    7435 |                              723 |                                    279 |                              44 |    1.62178   | 0.00540072  |       0.0391552   |\n",
      "| platemap_18 |                                    7407 |                              751 |                                    307 |                              16 |    0.514025  | 0.00728257  |       0.0422389   |\n"
     ]
    }
   ],
   "source": [
    "print(\n",
    "    output_df.sort_values(by=\"adjusted_pvalue\")\n",
    "    .query(\"adjusted_pvalue < 0.05\")\n",
    "    .to_markdown(index=False)\n",
    ")\n",
    "\n",
    "output_df.to_csv(f\"output/{variable}_fisher_exact_crispr.tsv\", sep=\"\\t\", index=False)"
   ]
  }
 ],
 "metadata": {
  "kernelspec": {
   "display_name": "platemap",
   "language": "python",
   "name": "python3"
  },
  "language_info": {
   "codemirror_mode": {
    "name": "ipython",
    "version": 3
   },
   "file_extension": ".py",
   "mimetype": "text/x-python",
   "name": "python",
   "nbconvert_exporter": "python",
   "pygments_lexer": "ipython3",
   "version": "3.10.6"
  }
 },
 "nbformat": 4,
 "nbformat_minor": 2
}
